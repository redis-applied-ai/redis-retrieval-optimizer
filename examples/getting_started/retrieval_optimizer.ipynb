{
 "cells": [
  {
   "cell_type": "markdown",
   "metadata": {},
   "source": [
    "![Redis](https://redis.io/wp-content/uploads/2024/04/Logotype.svg?auto=webp&quality=85,75&width=120)\n",
    "\n",
    "# Retrieval Optimizer | Getting Started\n",
    "\n",
    "This notebook will walk through how to get going optimizing your vector retrieval.\n",
    "\n",
    "<a href=\"https://colab.research.google.com/github/redis-applied-ai/retrieval-optimizer/blob/main/examples/getting_started/retrieval_optimizer.ipynb\" target=\"_parent\"><img src=\"https://colab.research.google.com/assets/colab-badge.svg\" alt=\"Open In Colab\"/></a>\n",
    "\n",
    "## 1 - creating a dataset\n",
    "\n",
    "For the retrieval optimization framework to run it requires a set of raw chunks and a set of queries with labeled chunks. The labeling tool can be used to generate these artifacts from an existing index or they can be created manually. See [README.md](../../README.md) for more information or checkout [populate_index.ipynb](./populate_index.ipynb).\n",
    "\n",
    "For this demo, examples have been provided in the [data/](./data) directory. Let's see what they look like:"
   ]
  },
  {
   "cell_type": "code",
   "execution_count": 1,
   "metadata": {},
   "outputs": [
    {
     "data": {
      "text/plain": [
       "{'item_id': '119',\n",
       " 'text': 'qMirror Defrosterí To turn on the mirror defrosters, turn the ignition switch to the ON position and push the rear window defroster switch (page 5-58).\\n\\nForm No.8Y64-EA-08A\\n\\nBlack plate (181,1)\\n\\nDriving Your Mazda Switches and Controls\\n\\nHorn\\n\\nTo sound the horn, press the the steering wheel.\\n\\nmark on\\n\\níSome models.\\n\\n5-59\\n\\nMazda3_8Y64-EA-08A_Edition1 Page182 Tuesday, November 27 2007 9:1 AM\\n\\nDriving Your Mazda Switches and Controls\\n\\nHazard Warning Flasher\\n\\nThe hazard warning lights should always be used when you stop on or near a roadway in an emergency.\\n\\nThe hazard warning lights warn other drivers that your vehicle is a traffic hazard and that they must take extreme caution when near it.\\n\\nHazard warning flasher\\n\\nDepress the hazard warning flasher and all the turn signals will flash.\\n\\nNOTE l The turn signals do not work when the\\n\\nhazard warning lights are on.\\n\\nl Check local regulations about the use of\\n\\nhazard warning lights while the vehicle is being towed to verify that it is not in violation of the law.\\n\\n5-60\\n\\nForm No.8Y64-EA-08A\\n\\nBlack plate (182,1)\\n\\nMazda3_8Y64-EA-08A_Edition1 Page183 Tuesday, November 27 2007 9:1 AM\\n\\nBlack plate (183,1)\\n\\n6 Interior Comfort\\n\\nUse of various features for drive comfort, including air-conditioning and audio system.\\n\\nClimate Control System ............................................................... 6-2 Operating Tips ........................................................................... 6-2 Vent Operation .......................................................................... 6-3 Types of the Climate Control System ....................................... 6-5 Manual Typeí .......................................................................... 6-6 Fully Automatic Typeí .......................................................... 6-10\\n\\nAudio System ............................................................................... 6-15 Antenna ................................................................................... 6-15 Operating Tips for Audio System ........................................... 6-16 Audio Set ................................................................................ 6-25 Audio Control Switch Operation (Steering Wheel)í ............. 6-58 AUX Mode (Auxiliary input) ................................................. 6-60 Safety Certification ................................................................. 6-63'}"
      ]
     },
     "execution_count": 1,
     "metadata": {},
     "output_type": "execute_result"
    }
   ],
   "source": [
    "import json\n",
    "\n",
    "with open(\"data/mazda_chunks.json\", \"r\") as f:\n",
    "    chunks = json.load(f)\n",
    "\n",
    "chunks[0]"
   ]
  },
  {
   "cell_type": "code",
   "execution_count": 2,
   "metadata": {},
   "outputs": [
    {
     "data": {
      "text/plain": [
       "{'query': 'At what speed should I shift from 2 to 3 with a manual transmission?',\n",
       " 'relevant_item_ids': ['86']}"
      ]
     },
     "execution_count": 2,
     "metadata": {},
     "output_type": "execute_result"
    }
   ],
   "source": [
    "with open(\"data/mazda_labeled.json\", \"r\") as f:\n",
    "    labeled = json.load(f)\n",
    "\n",
    "labeled[0]"
   ]
  },
  {
   "cell_type": "markdown",
   "metadata": {},
   "source": [
    "#### Notes on the data\n",
    "\n",
    "These jsons were generated using the labeling tool (see readme) however to run a study all you need to provide is a set of chunks of the form:\n",
    "\n",
    "```json\n",
    "[\n",
    "    {\n",
    "        \"item_id\": \"chunk:123\",\n",
    "        \"text\": \"raw content of the chunk\"\n",
    "    }\n",
    "]\n",
    "```\n",
    "\n",
    "And a set of labeled queries:\n",
    "\n",
    "```json\n",
    "[\n",
    "    {\n",
    "        \"query\": \"relevant question?\",\n",
    "        \"relevant_item_ids\": [\"chunk:123\"] // list of the relevant chunks to that question\n",
    "    }\n",
    "]\n",
    "```"
   ]
  },
  {
   "cell_type": "markdown",
   "metadata": {},
   "source": [
    "## 2 - python dependencies & env setup\n",
    "\n",
    "This project utilizes poetry for dependency management. If you like, in the project root you can run `poetry install` then set the kernel version of this notebook to point to the path of the python interpreter poetry is referencing. This can be accomplish by running `poetry env info --path` after installing and setting as your kernel for the notebook.\n",
    "\n",
    "Alternatively you can run the following line to import in a notebook native way for convenience."
   ]
  },
  {
   "cell_type": "code",
   "execution_count": 3,
   "metadata": {},
   "outputs": [
    {
     "name": "stdout",
     "output_type": "stream",
     "text": [
      "Requirement already satisfied: numpy in /Users/robert.shelton/.pyenv/versions/3.11.9/lib/python3.11/site-packages (1.26.4)\n",
      "Requirement already satisfied: redisvl in /Users/robert.shelton/.pyenv/versions/3.11.9/lib/python3.11/site-packages (0.3.5)\n",
      "Requirement already satisfied: sentence-transformers in /Users/robert.shelton/.pyenv/versions/3.11.9/lib/python3.11/site-packages (2.7.0)\n",
      "Requirement already satisfied: redis in /Users/robert.shelton/.pyenv/versions/3.11.9/lib/python3.11/site-packages (5.2.0)\n",
      "Requirement already satisfied: optuna in /Users/robert.shelton/.pyenv/versions/3.11.9/lib/python3.11/site-packages (4.0.0)\n",
      "Requirement already satisfied: pandas in /Users/robert.shelton/.pyenv/versions/3.11.9/lib/python3.11/site-packages (2.2.2)\n",
      "Requirement already satisfied: nest-asyncio in /Users/robert.shelton/.pyenv/versions/3.11.9/lib/python3.11/site-packages (1.6.0)\n",
      "Requirement already satisfied: coloredlogs in /Users/robert.shelton/.pyenv/versions/3.11.9/lib/python3.11/site-packages (from redisvl) (15.0.1)\n",
      "Requirement already satisfied: ml-dtypes<0.5.0,>=0.4.0 in /Users/robert.shelton/.pyenv/versions/3.11.9/lib/python3.11/site-packages (from redisvl) (0.4.1)\n",
      "Requirement already satisfied: pydantic<3,>=2 in /Users/robert.shelton/.pyenv/versions/3.11.9/lib/python3.11/site-packages (from redisvl) (2.9.2)\n",
      "Requirement already satisfied: pyyaml in /Users/robert.shelton/.pyenv/versions/3.11.9/lib/python3.11/site-packages (from redisvl) (6.0.1)\n",
      "Requirement already satisfied: tabulate<1,>=0.9.0 in /Users/robert.shelton/.pyenv/versions/3.11.9/lib/python3.11/site-packages (from redisvl) (0.9.0)\n",
      "Requirement already satisfied: tenacity>=8.2.2 in /Users/robert.shelton/.pyenv/versions/3.11.9/lib/python3.11/site-packages (from redisvl) (9.0.0)\n",
      "Requirement already satisfied: transformers<5.0.0,>=4.34.0 in /Users/robert.shelton/.pyenv/versions/3.11.9/lib/python3.11/site-packages (from sentence-transformers) (4.40.2)\n",
      "Requirement already satisfied: tqdm in /Users/robert.shelton/.pyenv/versions/3.11.9/lib/python3.11/site-packages (from sentence-transformers) (4.66.4)\n",
      "Requirement already satisfied: torch>=1.11.0 in /Users/robert.shelton/.pyenv/versions/3.11.9/lib/python3.11/site-packages (from sentence-transformers) (2.3.0)\n",
      "Requirement already satisfied: scikit-learn in /Users/robert.shelton/.pyenv/versions/3.11.9/lib/python3.11/site-packages (from sentence-transformers) (1.4.2)\n",
      "Requirement already satisfied: scipy in /Users/robert.shelton/.pyenv/versions/3.11.9/lib/python3.11/site-packages (from sentence-transformers) (1.13.0)\n",
      "Requirement already satisfied: huggingface-hub>=0.15.1 in /Users/robert.shelton/.pyenv/versions/3.11.9/lib/python3.11/site-packages (from sentence-transformers) (0.25.2)\n",
      "Requirement already satisfied: Pillow in /Users/robert.shelton/.pyenv/versions/3.11.9/lib/python3.11/site-packages (from sentence-transformers) (10.3.0)\n",
      "Requirement already satisfied: alembic>=1.5.0 in /Users/robert.shelton/.pyenv/versions/3.11.9/lib/python3.11/site-packages (from optuna) (1.13.3)\n",
      "Requirement already satisfied: colorlog in /Users/robert.shelton/.pyenv/versions/3.11.9/lib/python3.11/site-packages (from optuna) (6.8.2)\n",
      "Requirement already satisfied: packaging>=20.0 in /Users/robert.shelton/.pyenv/versions/3.11.9/lib/python3.11/site-packages (from optuna) (23.2)\n",
      "Requirement already satisfied: sqlalchemy>=1.3.0 in /Users/robert.shelton/.pyenv/versions/3.11.9/lib/python3.11/site-packages (from optuna) (2.0.36)\n",
      "Requirement already satisfied: python-dateutil>=2.8.2 in /Users/robert.shelton/.pyenv/versions/3.11.9/lib/python3.11/site-packages (from pandas) (2.9.0.post0)\n",
      "Requirement already satisfied: pytz>=2020.1 in /Users/robert.shelton/.pyenv/versions/3.11.9/lib/python3.11/site-packages (from pandas) (2024.1)\n",
      "Requirement already satisfied: tzdata>=2022.7 in /Users/robert.shelton/.pyenv/versions/3.11.9/lib/python3.11/site-packages (from pandas) (2024.1)\n",
      "Requirement already satisfied: Mako in /Users/robert.shelton/.pyenv/versions/3.11.9/lib/python3.11/site-packages (from alembic>=1.5.0->optuna) (1.3.5)\n",
      "Requirement already satisfied: typing-extensions>=4 in /Users/robert.shelton/.pyenv/versions/3.11.9/lib/python3.11/site-packages (from alembic>=1.5.0->optuna) (4.11.0)\n",
      "Requirement already satisfied: filelock in /Users/robert.shelton/.pyenv/versions/3.11.9/lib/python3.11/site-packages (from huggingface-hub>=0.15.1->sentence-transformers) (3.14.0)\n",
      "Requirement already satisfied: fsspec>=2023.5.0 in /Users/robert.shelton/.pyenv/versions/3.11.9/lib/python3.11/site-packages (from huggingface-hub>=0.15.1->sentence-transformers) (2024.3.1)\n",
      "Requirement already satisfied: requests in /Users/robert.shelton/.pyenv/versions/3.11.9/lib/python3.11/site-packages (from huggingface-hub>=0.15.1->sentence-transformers) (2.31.0)\n",
      "Requirement already satisfied: annotated-types>=0.6.0 in /Users/robert.shelton/.pyenv/versions/3.11.9/lib/python3.11/site-packages (from pydantic<3,>=2->redisvl) (0.6.0)\n",
      "Requirement already satisfied: pydantic-core==2.23.4 in /Users/robert.shelton/.pyenv/versions/3.11.9/lib/python3.11/site-packages (from pydantic<3,>=2->redisvl) (2.23.4)\n",
      "Requirement already satisfied: six>=1.5 in /Users/robert.shelton/.pyenv/versions/3.11.9/lib/python3.11/site-packages (from python-dateutil>=2.8.2->pandas) (1.16.0)\n",
      "Requirement already satisfied: sympy in /Users/robert.shelton/.pyenv/versions/3.11.9/lib/python3.11/site-packages (from torch>=1.11.0->sentence-transformers) (1.12)\n",
      "Requirement already satisfied: networkx in /Users/robert.shelton/.pyenv/versions/3.11.9/lib/python3.11/site-packages (from torch>=1.11.0->sentence-transformers) (3.3)\n",
      "Requirement already satisfied: jinja2 in /Users/robert.shelton/.pyenv/versions/3.11.9/lib/python3.11/site-packages (from torch>=1.11.0->sentence-transformers) (3.1.4)\n",
      "Requirement already satisfied: regex!=2019.12.17 in /Users/robert.shelton/.pyenv/versions/3.11.9/lib/python3.11/site-packages (from transformers<5.0.0,>=4.34.0->sentence-transformers) (2024.9.11)\n",
      "Requirement already satisfied: tokenizers<0.20,>=0.19 in /Users/robert.shelton/.pyenv/versions/3.11.9/lib/python3.11/site-packages (from transformers<5.0.0,>=4.34.0->sentence-transformers) (0.19.1)\n",
      "Requirement already satisfied: safetensors>=0.4.1 in /Users/robert.shelton/.pyenv/versions/3.11.9/lib/python3.11/site-packages (from transformers<5.0.0,>=4.34.0->sentence-transformers) (0.4.3)\n",
      "Requirement already satisfied: humanfriendly>=9.1 in /Users/robert.shelton/.pyenv/versions/3.11.9/lib/python3.11/site-packages (from coloredlogs->redisvl) (10.0)\n",
      "Requirement already satisfied: joblib>=1.2.0 in /Users/robert.shelton/.pyenv/versions/3.11.9/lib/python3.11/site-packages (from scikit-learn->sentence-transformers) (1.4.2)\n",
      "Requirement already satisfied: threadpoolctl>=2.0.0 in /Users/robert.shelton/.pyenv/versions/3.11.9/lib/python3.11/site-packages (from scikit-learn->sentence-transformers) (3.5.0)\n",
      "Requirement already satisfied: MarkupSafe>=2.0 in /Users/robert.shelton/.pyenv/versions/3.11.9/lib/python3.11/site-packages (from jinja2->torch>=1.11.0->sentence-transformers) (2.1.5)\n",
      "Requirement already satisfied: charset-normalizer<4,>=2 in /Users/robert.shelton/.pyenv/versions/3.11.9/lib/python3.11/site-packages (from requests->huggingface-hub>=0.15.1->sentence-transformers) (3.3.2)\n",
      "Requirement already satisfied: idna<4,>=2.5 in /Users/robert.shelton/.pyenv/versions/3.11.9/lib/python3.11/site-packages (from requests->huggingface-hub>=0.15.1->sentence-transformers) (3.7)\n",
      "Requirement already satisfied: urllib3<3,>=1.21.1 in /Users/robert.shelton/.pyenv/versions/3.11.9/lib/python3.11/site-packages (from requests->huggingface-hub>=0.15.1->sentence-transformers) (2.2.1)\n",
      "Requirement already satisfied: certifi>=2017.4.17 in /Users/robert.shelton/.pyenv/versions/3.11.9/lib/python3.11/site-packages (from requests->huggingface-hub>=0.15.1->sentence-transformers) (2024.2.2)\n",
      "Requirement already satisfied: mpmath>=0.19 in /Users/robert.shelton/.pyenv/versions/3.11.9/lib/python3.11/site-packages (from sympy->torch>=1.11.0->sentence-transformers) (1.3.0)\n",
      "\n",
      "\u001b[1m[\u001b[0m\u001b[34;49mnotice\u001b[0m\u001b[1;39;49m]\u001b[0m\u001b[39;49m A new release of pip is available: \u001b[0m\u001b[31;49m24.0\u001b[0m\u001b[39;49m -> \u001b[0m\u001b[32;49m24.3.1\u001b[0m\n",
      "\u001b[1m[\u001b[0m\u001b[34;49mnotice\u001b[0m\u001b[1;39;49m]\u001b[0m\u001b[39;49m To update, run: \u001b[0m\u001b[32;49mpip install --upgrade pip\u001b[0m\n",
      "Note: you may need to restart the kernel to use updated packages.\n"
     ]
    }
   ],
   "source": [
    "%pip install numpy redisvl sentence-transformers redis optuna pandas nest-asyncio"
   ]
  },
  {
   "cell_type": "markdown",
   "metadata": {},
   "source": [
    "## Important!\n",
    "\n",
    "The following code allows for us to run async functions in jupyter and adds the optimize module to path for easy import."
   ]
  },
  {
   "cell_type": "code",
   "execution_count": 7,
   "metadata": {},
   "outputs": [],
   "source": [
    "import sys\n",
    "import os\n",
    "\n",
    "# Add the parent directory to the Python path to get optimize module\n",
    "sys.path.append(os.path.abspath(os.path.join(os.getcwd(), '../..')))\n",
    "\n",
    "import nest_asyncio\n",
    "\n",
    "# Apply the nest_asyncio patch: let's us run async code in Jupyter\n",
    "nest_asyncio.apply()"
   ]
  },
  {
   "cell_type": "markdown",
   "metadata": {},
   "source": [
    "## 3 - defining a study config\n",
    "\n",
    "Under the hood, this framework is performing bayesian optimization utilizing the optuna library. This process determines the set of decision variables that best optimize the cost function. It accomplishes this by trying different combinations of the decision variables and intelligently traversing the solution space in the direction of best results.\n",
    "\n",
    "At current the available decision variables are:\n",
    "\n",
    "- algorithm (\"hnsw\" or \"flat\")\n",
    "  - if hnsw secondary hyper-parameters of ef_runtime, ef_construction, and m can also be optimized.\n",
    "- vector data type\n",
    "- ret k\n",
    "- embedding model\n",
    "\n",
    "Different configurations of these variables will be attempted in order to **maximize** the following equation: `obj = w0 * f1 + w1 * norm_embedding_latency + w2 * norm_indexing_time` expressed in vector notation this is the dot product of `weights * metrics`. If there are additional metrics you would like to optimize over feel free to open an issue and we can look into adding it!\n",
    "\n",
    "#### study_config.yaml\n",
    "```yaml\n",
    "input_data_type: \"json\" # currently only json but considering alternatives\n",
    "raw_data_path: \"data/mazda_chunks.json\" # path to data files for easy read\n",
    "labeled_data_path: \"data/mazda_labeled.json\" # labeled data\n",
    "\n",
    "# optimization config\n",
    "n_trials: 20\n",
    "n_jobs: 1\n",
    "\n",
    "# metrics to be used in objective function\n",
    "metrics: [\"f1_at_k\", \"embedding_latency\", \"total_indexing_time\"] \n",
    "weights: [1, 1, 1] # weight of each metric respectively \n",
    "\n",
    "# optimization decision variables\n",
    "algorithms: [\"flat\", \"hnsw\"] # indexing algorithms variables\n",
    "vector_data_types: [\"float32\", \"float16\"] # vector type of indexed vectors\n",
    "ret_k: [1, 10] # potential range of value to be sampled during study\n",
    "\n",
    "# ef_runtime, ef_construction, and m only relevant if HNSW indexing\n",
    "ef_runtime: [10, 20, 30, 50]\n",
    "ef_construction: [100, 150, 200, 250, 300]\n",
    "m: [8, 16, 64]\n",
    "\n",
    "# embedding models to be used\n",
    "embedding_models:\n",
    "  - provider: \"hf\"\n",
    "    model: \"sentence-transformers/all-MiniLM-L6-v2\"\n",
    "    dim: 384\n",
    "  - provider: \"hf\"\n",
    "    model: \"intfloat/e5-large-v2\"\n",
    "    dim: 1024\n",
    "```\n",
    "\n",
    "#### Load the study config\n"
   ]
  },
  {
   "cell_type": "code",
   "execution_count": 8,
   "metadata": {},
   "outputs": [
    {
     "data": {
      "text/plain": [
       "EmbeddingModel(provider='hf', model='intfloat/e5-large-v2', dim=1024)"
      ]
     },
     "execution_count": 8,
     "metadata": {},
     "output_type": "execute_result"
    }
   ],
   "source": [
    "from optimize.study import load_config\n",
    "\n",
    "study_config = load_config(\"study_config.yaml\") # Loads yaml into pydantic model\n",
    "\n",
    "study_config.embedding_models[1]"
   ]
  },
  {
   "cell_type": "markdown",
   "metadata": {},
   "source": [
    "# 4 - running a redis instance\n",
    "\n",
    "For the following code to work we need to have a running instance of redis. \n",
    "\n",
    "The easiest way to do this is with docker:\n",
    "\n",
    "`docker run -d --name redis -p 6379:6379 -p 8001:8001 redis/redis-stack:latest`"
   ]
  },
  {
   "attachments": {
    "image.png": {
     "image/png": "[encoded data removed]"
    }
   },
   "cell_type": "markdown",
   "metadata": {},
   "source": [
    "#### Note: running redis-stack will expose a GUI (Redis Insight) for interacting with your data on port 8001\n",
    "\n",
    "![image.png](attachment:image.png)"
   ]
  },
  {
   "cell_type": "markdown",
   "metadata": {},
   "source": [
    "# 5 - understanding the eval class\n",
    "\n",
    "The optimization works by instantiating different variation of the eval class and running calc metrics. Let's run an evaluation to get a baseline for our study."
   ]
  },
  {
   "cell_type": "code",
   "execution_count": 9,
   "metadata": {},
   "outputs": [
    {
     "name": "stderr",
     "output_type": "stream",
     "text": [
      "2024-11-27 11:22:45,220 - INFO - Load pretrained SentenceTransformer: intfloat/e5-large-v2\n",
      "2024-11-27 11:22:49,807 - INFO - Use pytorch device_name: mps\n"
     ]
    },
    {
     "data": {
      "application/vnd.jupyter.widget-view+json": {
       "model_id": "65b41bb4c28b47779506a6562442486f",
       "version_major": 2,
       "version_minor": 0
      },
      "text/plain": [
       "Batches:   0%|          | 0/1 [00:00<?, ?it/s]"
      ]
     },
     "metadata": {},
     "output_type": "display_data"
    },
    {
     "data": {
      "application/vnd.jupyter.widget-view+json": {
       "model_id": "dd67a19a29f24fbda143d3d2f7f66d3c",
       "version_major": 2,
       "version_minor": 0
      },
      "text/plain": [
       "Batches:   0%|          | 0/8 [00:00<?, ?it/s]"
      ]
     },
     "metadata": {},
     "output_type": "display_data"
    },
    {
     "name": "stderr",
     "output_type": "stream",
     "text": [
      "2024-11-27 11:23:07,099 - INFO - Indexing data...\n",
      "2024-11-27 11:23:07,172 - INFO - Data indexed. self.total_indexing_time=60.57899856567383s\n"
     ]
    }
   ],
   "source": [
    "from optimize.eval import Eval\n",
    "\n",
    "e = Eval(\n",
    "    model_provider=\"hf\",\n",
    "    model_str=\"intfloat/e5-large-v2\",\n",
    "    embedding_dim=1024,\n",
    "    raw_data_path=study_config.raw_data_path,\n",
    "    labeled_data_path=study_config.labeled_data_path,\n",
    "    input_data_type=study_config.input_data_type,\n",
    "    vector_data_type=study_config.vector_data_types[0],\n",
    "    algorithm=study_config.algorithms[0],\n",
    "    ret_k=4,\n",
    "    find_threshold=False,\n",
    "    redis_url=\"redis://localhost:6381/0\",\n",
    ")"
   ]
  },
  {
   "cell_type": "markdown",
   "metadata": {},
   "source": [
    "## What just happened?\n",
    "\n",
    "1. eval class embedded the chunks with the specified model\n",
    "2. created a search index in redis\n",
    "3. loaded the chunks into the index\n",
    "\n",
    "#### Now let's calculate some metrics!"
   ]
  },
  {
   "cell_type": "code",
   "execution_count": 10,
   "metadata": {},
   "outputs": [
    {
     "name": "stderr",
     "output_type": "stream",
     "text": [
      "2024-11-27 11:23:14,411 - INFO - Load pretrained SentenceTransformer: intfloat/e5-large-v2\n",
      "2024-11-27 11:23:17,085 - INFO - Use pytorch device_name: mps\n"
     ]
    },
    {
     "data": {
      "application/vnd.jupyter.widget-view+json": {
       "model_id": "e50157d481914c38907d365791b1288c",
       "version_major": 2,
       "version_minor": 0
      },
      "text/plain": [
       "Batches:   0%|          | 0/1 [00:00<?, ?it/s]"
      ]
     },
     "metadata": {},
     "output_type": "display_data"
    },
    {
     "data": {
      "application/vnd.jupyter.widget-view+json": {
       "model_id": "0ff53a78863747be949e05d8ac69f582",
       "version_major": 2,
       "version_minor": 0
      },
      "text/plain": [
       "Batches:   0%|          | 0/1 [00:00<?, ?it/s]"
      ]
     },
     "metadata": {},
     "output_type": "display_data"
    },
    {
     "data": {
      "application/vnd.jupyter.widget-view+json": {
       "model_id": "f1eba4b2de104b4b80bb624eba4ec08a",
       "version_major": 2,
       "version_minor": 0
      },
      "text/plain": [
       "Batches:   0%|          | 0/1 [00:00<?, ?it/s]"
      ]
     },
     "metadata": {},
     "output_type": "display_data"
    },
    {
     "data": {
      "application/vnd.jupyter.widget-view+json": {
       "model_id": "a226d26149394bf4bd63ada29f05272d",
       "version_major": 2,
       "version_minor": 0
      },
      "text/plain": [
       "Batches:   0%|          | 0/1 [00:00<?, ?it/s]"
      ]
     },
     "metadata": {},
     "output_type": "display_data"
    },
    {
     "data": {
      "application/vnd.jupyter.widget-view+json": {
       "model_id": "eb1b01494ff64c3c81ae1d4289e21af5",
       "version_major": 2,
       "version_minor": 0
      },
      "text/plain": [
       "Batches:   0%|          | 0/1 [00:00<?, ?it/s]"
      ]
     },
     "metadata": {},
     "output_type": "display_data"
    },
    {
     "data": {
      "application/vnd.jupyter.widget-view+json": {
       "model_id": "927ae61cc01049d1940fbbe2f30636aa",
       "version_major": 2,
       "version_minor": 0
      },
      "text/plain": [
       "Batches:   0%|          | 0/1 [00:00<?, ?it/s]"
      ]
     },
     "metadata": {},
     "output_type": "display_data"
    },
    {
     "data": {
      "application/vnd.jupyter.widget-view+json": {
       "model_id": "814eedc569234b36bcbd93a7f60a61b3",
       "version_major": 2,
       "version_minor": 0
      },
      "text/plain": [
       "Batches:   0%|          | 0/1 [00:00<?, ?it/s]"
      ]
     },
     "metadata": {},
     "output_type": "display_data"
    },
    {
     "data": {
      "application/vnd.jupyter.widget-view+json": {
       "model_id": "be3f298efcdf4515a6a63137ab784997",
       "version_major": 2,
       "version_minor": 0
      },
      "text/plain": [
       "Batches:   0%|          | 0/1 [00:00<?, ?it/s]"
      ]
     },
     "metadata": {},
     "output_type": "display_data"
    },
    {
     "data": {
      "application/vnd.jupyter.widget-view+json": {
       "model_id": "3540899ea10f436189e852a3eab5013a",
       "version_major": 2,
       "version_minor": 0
      },
      "text/plain": [
       "Batches:   0%|          | 0/1 [00:00<?, ?it/s]"
      ]
     },
     "metadata": {},
     "output_type": "display_data"
    },
    {
     "data": {
      "application/vnd.jupyter.widget-view+json": {
       "model_id": "d1838b645e9f48ffa5aa805777f733a3",
       "version_major": 2,
       "version_minor": 0
      },
      "text/plain": [
       "Batches:   0%|          | 0/1 [00:00<?, ?it/s]"
      ]
     },
     "metadata": {},
     "output_type": "display_data"
    },
    {
     "data": {
      "application/vnd.jupyter.widget-view+json": {
       "model_id": "befd160786dd4454819efe819e66dc05",
       "version_major": 2,
       "version_minor": 0
      },
      "text/plain": [
       "Batches:   0%|          | 0/1 [00:00<?, ?it/s]"
      ]
     },
     "metadata": {},
     "output_type": "display_data"
    },
    {
     "data": {
      "application/vnd.jupyter.widget-view+json": {
       "model_id": "6b889e071856483e9e8907ffb900e827",
       "version_major": 2,
       "version_minor": 0
      },
      "text/plain": [
       "Batches:   0%|          | 0/1 [00:00<?, ?it/s]"
      ]
     },
     "metadata": {},
     "output_type": "display_data"
    },
    {
     "data": {
      "application/vnd.jupyter.widget-view+json": {
       "model_id": "5aa7b52e81a8485ebd4bc809f1d3c7d3",
       "version_major": 2,
       "version_minor": 0
      },
      "text/plain": [
       "Batches:   0%|          | 0/1 [00:00<?, ?it/s]"
      ]
     },
     "metadata": {},
     "output_type": "display_data"
    },
    {
     "name": "stderr",
     "output_type": "stream",
     "text": [
      "2024-11-27 11:23:20,358 - INFO - Calculating retrieval metrics for test_id: 3f3b8b52-0aa2-4f22-b58a-712d24cbe735\n",
      "2024-11-27 11:23:20,368 - INFO - Overall f1 at 4 for retrieval: 0.5003968253968254\n"
     ]
    }
   ],
   "source": [
    "e.calc_metrics()"
   ]
  },
  {
   "cell_type": "markdown",
   "metadata": {},
   "source": [
    "#### What just happened?\n",
    "\n",
    "- the queries provided in the label section were run against the index and the result recorded\n",
    "- precision, recall, and f1 @k were calculated for the configuration\n",
    "- results and metadata of the eval was persisted to redis\n",
    "\n",
    "For each test a UUID is created and information stored in redis. The following shows the test_id and the overall f1 score"
   ]
  },
  {
   "cell_type": "code",
   "execution_count": 11,
   "metadata": {},
   "outputs": [
    {
     "data": {
      "text/plain": [
       "('3f3b8b52-0aa2-4f22-b58a-712d24cbe735',\n",
       " 0.5003968253968254,\n",
       " 0.008097648620605469)"
      ]
     },
     "execution_count": 11,
     "metadata": {},
     "output_type": "execute_result"
    }
   ],
   "source": [
    "e.settings.test_id, e.f1_at_k, e.avg_query_latency"
   ]
  },
  {
   "attachments": {
    "image.png": {
     "image/png": "[encoded data removed]"
    }
   },
   "cell_type": "markdown",
   "metadata": {},
   "source": [
    "Going back to redis insight you can see the full results of this test and the distance samples\n",
    "\n",
    "![image.png](attachment:image.png)"
   ]
  },
  {
   "cell_type": "markdown",
   "metadata": {},
   "source": [
    "# 6 - running an optimization\n",
    "\n",
    "Now that we understand the components let's run a study."
   ]
  },
  {
   "cell_type": "code",
   "execution_count": 12,
   "metadata": {},
   "outputs": [
    {
     "name": "stderr",
     "output_type": "stream",
     "text": [
      "[I 2024-11-27 11:23:55,319] A new study created in memory with name: test\n",
      "2024-11-27 11:23:55,320 - INFO - Running for Retriever: DefaultQueryRetriever with additional_schema_fields=None\n"
     ]
    },
    {
     "name": "stdout",
     "output_type": "stream",
     "text": [
      "\n",
      "\n",
      " Running for: \n",
      " model_str: intfloat/e5-large-v2 \n",
      " algorithm: flat\n"
     ]
    },
    {
     "name": "stderr",
     "output_type": "stream",
     "text": [
      "2024-11-27 11:24:01,076 - INFO - Load pretrained SentenceTransformer: intfloat/e5-large-v2\n",
      "2024-11-27 11:24:04,135 - INFO - Use pytorch device_name: mps\n"
     ]
    },
    {
     "data": {
      "application/vnd.jupyter.widget-view+json": {
       "model_id": "5df64f6d3abf4ec8becf9500352d5d96",
       "version_major": 2,
       "version_minor": 0
      },
      "text/plain": [
       "Batches:   0%|          | 0/1 [00:00<?, ?it/s]"
      ]
     },
     "metadata": {},
     "output_type": "display_data"
    },
    {
     "data": {
      "application/vnd.jupyter.widget-view+json": {
       "model_id": "eeffa3ba70454cb6a6b3a4974c2c8649",
       "version_major": 2,
       "version_minor": 0
      },
      "text/plain": [
       "Batches:   0%|          | 0/8 [00:00<?, ?it/s]"
      ]
     },
     "metadata": {},
     "output_type": "display_data"
    },
    {
     "name": "stderr",
     "output_type": "stream",
     "text": [
      "2024-11-27 11:24:21,238 - INFO - Indexing data...\n",
      "2024-11-27 11:24:48,280 - INFO - ...\n",
      "2024-11-27 11:24:50,170 - INFO - ...\n",
      "2024-11-27 11:24:51,237 - INFO - ...\n",
      "2024-11-27 11:24:52,899 - INFO - ...\n",
      "2024-11-27 11:24:55,004 - INFO - ...\n",
      "2024-11-27 11:24:57,253 - INFO - ...\n",
      "2024-11-27 11:24:59,218 - INFO - ...\n",
      "2024-11-27 11:25:00,978 - INFO - ...\n",
      "2024-11-27 11:25:02,651 - INFO - ...\n",
      "2024-11-27 11:25:03,736 - INFO - ...\n",
      "2024-11-27 11:25:05,948 - INFO - ...\n",
      "2024-11-27 11:25:07,806 - INFO - ...\n",
      "2024-11-27 11:25:09,561 - INFO - ...\n",
      "2024-11-27 11:25:11,771 - INFO - ...\n",
      "2024-11-27 11:25:13,261 - INFO - ...\n",
      "2024-11-27 11:25:15,474 - INFO - ...\n",
      "2024-11-27 11:25:17,386 - INFO - ...\n",
      "2024-11-27 11:25:19,655 - INFO - ...\n",
      "2024-11-27 11:25:21,342 - INFO - ...\n",
      "2024-11-27 11:25:23,381 - INFO - ...\n",
      "2024-11-27 11:25:25,625 - INFO - ...\n",
      "2024-11-27 11:25:27,419 - INFO - ...\n",
      "2024-11-27 11:25:28,511 - INFO - ...\n",
      "2024-11-27 11:25:30,487 - INFO - ...\n",
      "2024-11-27 11:25:32,989 - INFO - ...\n",
      "2024-11-27 11:25:35,332 - INFO - ...\n",
      "2024-11-27 11:25:37,364 - INFO - ...\n",
      "2024-11-27 11:25:39,547 - INFO - ...\n",
      "2024-11-27 11:25:41,064 - INFO - ...\n",
      "2024-11-27 11:25:43,016 - INFO - ...\n",
      "2024-11-27 11:25:44,316 - INFO - ...\n",
      "2024-11-27 11:25:46,429 - INFO - ...\n",
      "2024-11-27 11:25:48,622 - INFO - ...\n",
      "2024-11-27 11:25:50,743 - INFO - ...\n",
      "2024-11-27 11:25:52,729 - INFO - ...\n",
      "2024-11-27 11:25:54,317 - INFO - ...\n",
      "2024-11-27 11:25:56,066 - INFO - ...\n",
      "2024-11-27 11:25:58,141 - INFO - ...\n",
      "2024-11-27 11:25:59,611 - INFO - ...\n",
      "2024-11-27 11:26:01,793 - INFO - ...\n",
      "2024-11-27 11:26:03,686 - INFO - ...\n",
      "2024-11-27 11:26:04,797 - INFO - ...\n",
      "2024-11-27 11:26:06,664 - INFO - ...\n",
      "2024-11-27 11:26:08,441 - INFO - ...\n",
      "2024-11-27 11:26:10,184 - INFO - ...\n",
      "2024-11-27 11:26:11,676 - INFO - ...\n",
      "2024-11-27 11:26:13,475 - INFO - ...\n",
      "2024-11-27 11:26:14,881 - INFO - ...\n",
      "2024-11-27 11:26:16,545 - INFO - ...\n",
      "2024-11-27 11:26:18,253 - INFO - ...\n",
      "2024-11-27 11:26:20,951 - INFO - ...\n",
      "2024-11-27 11:26:22,789 - INFO - ...\n",
      "2024-11-27 11:26:24,373 - INFO - ...\n",
      "2024-11-27 11:26:26,472 - INFO - ...\n",
      "2024-11-27 11:26:28,138 - INFO - ...\n",
      "2024-11-27 11:26:30,280 - INFO - ...\n",
      "2024-11-27 11:26:32,101 - INFO - ...\n",
      "2024-11-27 11:26:33,638 - INFO - ...\n",
      "2024-11-27 11:26:35,447 - INFO - ...\n",
      "2024-11-27 11:26:37,562 - INFO - ...\n",
      "2024-11-27 11:26:39,388 - INFO - ...\n",
      "2024-11-27 11:26:41,534 - INFO - ...\n",
      "2024-11-27 11:26:43,398 - INFO - ...\n",
      "2024-11-27 11:26:44,584 - INFO - ...\n",
      "2024-11-27 11:26:46,185 - INFO - ...\n",
      "2024-11-27 11:26:47,846 - INFO - ...\n",
      "2024-11-27 11:26:49,114 - INFO - ...\n",
      "2024-11-27 11:26:50,840 - INFO - ...\n",
      "2024-11-27 11:26:52,459 - INFO - ...\n",
      "2024-11-27 11:26:54,360 - INFO - ...\n",
      "2024-11-27 11:26:56,656 - INFO - ...\n",
      "2024-11-27 11:26:58,495 - INFO - ...\n",
      "2024-11-27 11:27:00,647 - INFO - ...\n",
      "2024-11-27 11:27:02,820 - INFO - ...\n",
      "2024-11-27 11:27:04,790 - INFO - ...\n",
      "2024-11-27 11:27:07,202 - INFO - ...\n",
      "2024-11-27 11:27:09,410 - INFO - ...\n",
      "2024-11-27 11:27:10,544 - INFO - ...\n",
      "2024-11-27 11:27:12,517 - INFO - ...\n",
      "2024-11-27 11:27:14,209 - INFO - ...\n",
      "2024-11-27 11:27:15,393 - INFO - ...\n",
      "2024-11-27 11:27:17,535 - INFO - ...\n",
      "2024-11-27 11:27:19,435 - INFO - ...\n",
      "2024-11-27 11:27:21,827 - INFO - ...\n",
      "2024-11-27 11:27:23,705 - INFO - ...\n",
      "2024-11-27 11:27:25,567 - INFO - ...\n",
      "2024-11-27 11:27:27,634 - INFO - ...\n",
      "2024-11-27 11:27:29,201 - INFO - ...\n",
      "2024-11-27 11:27:30,461 - INFO - ...\n",
      "2024-11-27 11:27:31,954 - INFO - ...\n",
      "2024-11-27 11:27:34,064 - INFO - ...\n",
      "2024-11-27 11:27:35,329 - INFO - ...\n",
      "2024-11-27 11:27:37,325 - INFO - ...\n",
      "2024-11-27 11:27:39,044 - INFO - ...\n",
      "2024-11-27 11:27:40,267 - INFO - ...\n",
      "2024-11-27 11:27:42,135 - INFO - ...\n",
      "2024-11-27 11:27:44,178 - INFO - ...\n",
      "2024-11-27 11:27:45,763 - INFO - ...\n",
      "2024-11-27 11:27:47,569 - INFO - ...\n",
      "2024-11-27 11:27:49,435 - INFO - ...\n",
      "2024-11-27 11:27:51,081 - INFO - ...\n",
      "2024-11-27 11:27:53,323 - INFO - ...\n",
      "2024-11-27 11:27:55,597 - INFO - ...\n",
      "2024-11-27 11:27:57,370 - INFO - ...\n",
      "2024-11-27 11:27:59,169 - INFO - ...\n",
      "2024-11-27 11:28:00,958 - INFO - ...\n",
      "2024-11-27 11:28:02,843 - INFO - ...\n",
      "2024-11-27 11:28:04,726 - INFO - ...\n",
      "2024-11-27 11:28:07,015 - INFO - ...\n",
      "2024-11-27 11:28:08,882 - INFO - ...\n",
      "2024-11-27 11:28:10,676 - INFO - ...\n",
      "2024-11-27 11:28:12,706 - INFO - ...\n",
      "2024-11-27 11:28:14,700 - INFO - ...\n",
      "2024-11-27 11:28:16,993 - INFO - ...\n",
      "2024-11-27 11:28:18,764 - INFO - ...\n",
      "2024-11-27 11:28:20,534 - INFO - ...\n",
      "2024-11-27 11:28:22,515 - INFO - ...\n",
      "2024-11-27 11:28:24,330 - INFO - ...\n",
      "2024-11-27 11:28:25,687 - INFO - ...\n",
      "2024-11-27 11:28:27,622 - INFO - ...\n",
      "2024-11-27 11:28:29,598 - INFO - ...\n",
      "2024-11-27 11:28:32,002 - INFO - ...\n",
      "2024-11-27 11:28:33,730 - INFO - ...\n",
      "2024-11-27 11:28:35,486 - INFO - ...\n",
      "2024-11-27 11:28:37,385 - INFO - ...\n",
      "2024-11-27 11:28:39,619 - INFO - ...\n",
      "2024-11-27 11:28:41,249 - INFO - ...\n",
      "2024-11-27 11:28:43,737 - INFO - ...\n",
      "2024-11-27 11:28:45,697 - INFO - ...\n",
      "2024-11-27 11:28:48,318 - INFO - ...\n",
      "2024-11-27 11:28:50,302 - INFO - ...\n",
      "2024-11-27 11:28:52,285 - INFO - ...\n",
      "2024-11-27 11:28:54,257 - INFO - ...\n",
      "2024-11-27 11:28:56,111 - INFO - ...\n",
      "2024-11-27 11:28:57,968 - INFO - ...\n",
      "2024-11-27 11:28:59,623 - INFO - ...\n",
      "2024-11-27 11:29:01,480 - INFO - ...\n",
      "2024-11-27 11:29:03,148 - INFO - ...\n",
      "2024-11-27 11:29:05,145 - INFO - ...\n",
      "2024-11-27 11:29:06,717 - INFO - ...\n",
      "2024-11-27 11:29:09,428 - INFO - ...\n",
      "2024-11-27 11:29:11,321 - INFO - ...\n",
      "2024-11-27 11:29:12,986 - INFO - ...\n",
      "2024-11-27 11:29:15,158 - INFO - ...\n",
      "2024-11-27 11:29:17,072 - INFO - ...\n",
      "2024-11-27 11:29:18,248 - INFO - ...\n",
      "2024-11-27 11:29:19,913 - INFO - ...\n",
      "2024-11-27 11:29:22,262 - INFO - ...\n",
      "2024-11-27 11:29:24,243 - INFO - ...\n",
      "2024-11-27 11:29:26,230 - INFO - ...\n",
      "2024-11-27 11:29:28,377 - INFO - ...\n",
      "2024-11-27 11:29:29,753 - INFO - ...\n",
      "2024-11-27 11:29:32,434 - INFO - ...\n",
      "2024-11-27 11:29:34,042 - INFO - ...\n",
      "2024-11-27 11:29:36,255 - INFO - ...\n",
      "2024-11-27 11:29:37,933 - INFO - ...\n",
      "2024-11-27 11:29:40,082 - INFO - ...\n",
      "2024-11-27 11:29:41,756 - INFO - ...\n",
      "2024-11-27 11:29:44,270 - INFO - ...\n",
      "2024-11-27 11:29:46,168 - INFO - ...\n",
      "2024-11-27 11:29:47,280 - INFO - ...\n",
      "2024-11-27 11:29:49,345 - INFO - ...\n",
      "2024-11-27 11:29:50,962 - INFO - ...\n",
      "2024-11-27 11:29:52,673 - INFO - ...\n",
      "2024-11-27 11:29:54,270 - INFO - ...\n",
      "2024-11-27 11:29:56,106 - INFO - ...\n",
      "2024-11-27 11:29:58,063 - INFO - ...\n",
      "2024-11-27 11:30:00,223 - INFO - ...\n",
      "2024-11-27 11:30:02,966 - INFO - ...\n",
      "2024-11-27 11:30:04,921 - INFO - ...\n",
      "2024-11-27 11:30:06,265 - INFO - ...\n",
      "2024-11-27 11:30:08,020 - INFO - ...\n",
      "2024-11-27 11:30:09,720 - INFO - ...\n",
      "2024-11-27 11:30:10,756 - INFO - ...\n",
      "2024-11-27 11:30:12,721 - INFO - ...\n",
      "2024-11-27 11:30:14,633 - INFO - ...\n",
      "2024-11-27 11:30:15,794 - INFO - ...\n",
      "2024-11-27 11:30:17,476 - INFO - ...\n",
      "2024-11-27 11:30:19,465 - INFO - ...\n",
      "2024-11-27 11:30:21,501 - INFO - ...\n",
      "2024-11-27 11:30:23,681 - INFO - ...\n",
      "2024-11-27 11:30:25,842 - INFO - ...\n",
      "2024-11-27 11:30:26,850 - INFO - ...\n",
      "2024-11-27 11:30:28,851 - INFO - ...\n",
      "2024-11-27 11:30:30,580 - INFO - ...\n",
      "2024-11-27 11:30:31,692 - INFO - ...\n",
      "2024-11-27 11:30:33,576 - INFO - ...\n",
      "2024-11-27 11:30:35,552 - INFO - ...\n",
      "2024-11-27 11:30:36,643 - INFO - ...\n",
      "2024-11-27 11:30:38,262 - INFO - ...\n",
      "2024-11-27 11:30:40,100 - INFO - ...\n",
      "2024-11-27 11:30:41,788 - INFO - ...\n",
      "2024-11-27 11:30:43,919 - INFO - ...\n",
      "2024-11-27 11:30:45,664 - INFO - ...\n",
      "2024-11-27 11:30:46,763 - INFO - ...\n",
      "2024-11-27 11:30:48,477 - INFO - ...\n",
      "2024-11-27 11:30:50,772 - INFO - ...\n",
      "2024-11-27 11:30:52,254 - INFO - ...\n",
      "2024-11-27 11:30:54,555 - INFO - ...\n",
      "2024-11-27 11:30:56,268 - INFO - ...\n",
      "2024-11-27 11:30:57,411 - INFO - ...\n",
      "2024-11-27 11:30:59,546 - INFO - ...\n",
      "2024-11-27 11:31:01,952 - INFO - ...\n",
      "2024-11-27 11:31:04,722 - INFO - ...\n",
      "2024-11-27 11:31:06,577 - INFO - ...\n",
      "2024-11-27 11:31:08,753 - INFO - ...\n",
      "2024-11-27 11:31:10,873 - INFO - ...\n",
      "2024-11-27 11:31:12,742 - INFO - ...\n",
      "2024-11-27 11:31:13,843 - INFO - ...\n",
      "2024-11-27 11:31:16,120 - INFO - ...\n",
      "2024-11-27 11:31:18,321 - INFO - ...\n",
      "2024-11-27 11:31:20,675 - INFO - ...\n",
      "2024-11-27 11:31:22,821 - INFO - ...\n",
      "2024-11-27 11:31:24,460 - INFO - ...\n",
      "2024-11-27 11:31:26,879 - INFO - ...\n",
      "2024-11-27 11:31:28,880 - INFO - ...\n",
      "2024-11-27 11:31:29,941 - INFO - ...\n",
      "2024-11-27 11:31:32,230 - INFO - ...\n",
      "2024-11-27 11:31:34,024 - INFO - ...\n",
      "2024-11-27 11:31:36,591 - INFO - ...\n",
      "2024-11-27 11:31:38,344 - INFO - ...\n",
      "2024-11-27 11:31:40,206 - INFO - ...\n",
      "2024-11-27 11:31:42,233 - INFO - ...\n",
      "2024-11-27 11:31:44,576 - INFO - ...\n",
      "2024-11-27 11:31:47,119 - INFO - ...\n",
      "2024-11-27 11:31:49,341 - INFO - ...\n",
      "2024-11-27 11:31:51,664 - INFO - ...\n",
      "2024-11-27 11:31:53,901 - INFO - ...\n",
      "2024-11-27 11:31:55,944 - INFO - ...\n",
      "2024-11-27 11:31:57,813 - INFO - ...\n",
      "2024-11-27 11:31:59,912 - INFO - ...\n",
      "2024-11-27 11:32:01,676 - INFO - ...\n",
      "2024-11-27 11:32:02,953 - INFO - ...\n",
      "2024-11-27 11:32:04,846 - INFO - ...\n",
      "2024-11-27 11:32:07,275 - INFO - ...\n",
      "2024-11-27 11:32:09,438 - INFO - ...\n",
      "2024-11-27 11:32:12,036 - INFO - ...\n",
      "2024-11-27 11:32:13,861 - INFO - ...\n",
      "2024-11-27 11:32:15,686 - INFO - ...\n",
      "2024-11-27 11:32:17,771 - INFO - ...\n",
      "2024-11-27 11:32:19,660 - INFO - ...\n",
      "2024-11-27 11:32:21,853 - INFO - ...\n",
      "2024-11-27 11:32:24,045 - INFO - ...\n",
      "2024-11-27 11:32:25,141 - INFO - ...\n",
      "2024-11-27 11:32:27,157 - INFO - ...\n",
      "2024-11-27 11:32:29,107 - INFO - ...\n",
      "2024-11-27 11:32:30,305 - INFO - ...\n",
      "2024-11-27 11:32:32,189 - INFO - ...\n",
      "2024-11-27 11:32:33,972 - INFO - ...\n",
      "2024-11-27 11:32:35,629 - INFO - ...\n",
      "2024-11-27 11:32:37,585 - INFO - ...\n",
      "2024-11-27 11:32:39,917 - INFO - ...\n",
      "2024-11-27 11:32:41,661 - INFO - ...\n",
      "2024-11-27 11:32:43,215 - INFO - ...\n",
      "2024-11-27 11:32:45,553 - INFO - ...\n",
      "2024-11-27 11:32:47,116 - INFO - ...\n",
      "2024-11-27 11:32:48,212 - INFO - ...\n",
      "2024-11-27 11:32:50,621 - INFO - ...\n",
      "2024-11-27 11:32:52,727 - INFO - ...\n",
      "2024-11-27 11:32:54,828 - INFO - ...\n",
      "2024-11-27 11:32:56,956 - INFO - ...\n",
      "2024-11-27 11:32:58,163 - INFO - ...\n",
      "2024-11-27 11:33:00,016 - INFO - ...\n",
      "2024-11-27 11:33:01,855 - INFO - ...\n",
      "2024-11-27 11:33:03,516 - INFO - ...\n",
      "2024-11-27 11:33:05,350 - INFO - ...\n",
      "2024-11-27 11:33:07,539 - INFO - ...\n",
      "2024-11-27 11:33:09,654 - INFO - ...\n",
      "2024-11-27 11:33:11,715 - INFO - ...\n",
      "2024-11-27 11:33:14,050 - INFO - ...\n",
      "2024-11-27 11:33:16,621 - INFO - ...\n",
      "2024-11-27 11:33:18,499 - INFO - ...\n",
      "2024-11-27 11:33:19,929 - INFO - ...\n",
      "2024-11-27 11:33:21,850 - INFO - ...\n",
      "2024-11-27 11:33:23,694 - INFO - ...\n",
      "2024-11-27 11:33:24,733 - INFO - ...\n",
      "2024-11-27 11:33:26,289 - INFO - ...\n",
      "2024-11-27 11:33:28,078 - INFO - ...\n",
      "2024-11-27 11:33:29,449 - INFO - ...\n",
      "2024-11-27 11:33:31,750 - INFO - ...\n",
      "2024-11-27 11:33:33,467 - INFO - ...\n",
      "2024-11-27 11:33:36,222 - INFO - ...\n",
      "2024-11-27 11:33:37,954 - INFO - ...\n",
      "2024-11-27 11:33:39,860 - INFO - ...\n",
      "2024-11-27 11:33:42,112 - INFO - ...\n",
      "2024-11-27 11:33:43,996 - INFO - ...\n",
      "2024-11-27 11:33:46,362 - INFO - ...\n",
      "2024-11-27 11:33:48,006 - INFO - ...\n",
      "2024-11-27 11:33:49,492 - INFO - ...\n",
      "2024-11-27 11:33:51,653 - INFO - ...\n",
      "2024-11-27 11:33:53,608 - INFO - ...\n",
      "2024-11-27 11:33:54,862 - INFO - ...\n",
      "2024-11-27 11:33:57,132 - INFO - ...\n",
      "2024-11-27 11:33:58,588 - INFO - ...\n",
      "2024-11-27 11:33:59,856 - INFO - ...\n",
      "2024-11-27 11:34:01,639 - INFO - ...\n",
      "2024-11-27 11:34:03,772 - INFO - ...\n",
      "2024-11-27 11:34:04,796 - INFO - ...\n",
      "2024-11-27 11:34:06,955 - INFO - ...\n",
      "2024-11-27 11:34:08,691 - INFO - ...\n",
      "2024-11-27 11:34:09,796 - INFO - ...\n",
      "2024-11-27 11:34:11,573 - INFO - ...\n",
      "2024-11-27 11:34:13,548 - INFO - ...\n",
      "2024-11-27 11:34:16,479 - INFO - ...\n",
      "2024-11-27 11:34:18,122 - INFO - ...\n",
      "2024-11-27 11:34:19,752 - INFO - ...\n",
      "2024-11-27 11:34:21,831 - INFO - ...\n",
      "2024-11-27 11:34:23,538 - INFO - ...\n",
      "2024-11-27 11:34:26,134 - INFO - ...\n",
      "2024-11-27 11:34:28,010 - INFO - ...\n",
      "2024-11-27 11:34:29,484 - INFO - ...\n",
      "2024-11-27 11:34:31,289 - INFO - ...\n",
      "2024-11-27 11:34:33,202 - INFO - ...\n",
      "2024-11-27 11:34:35,662 - INFO - ...\n",
      "2024-11-27 11:34:37,391 - INFO - ...\n",
      "2024-11-27 11:34:39,230 - INFO - ...\n",
      "2024-11-27 11:34:41,398 - INFO - ...\n",
      "2024-11-27 11:34:43,491 - INFO - ...\n",
      "2024-11-27 11:34:44,631 - INFO - ...\n",
      "2024-11-27 11:34:46,520 - INFO - ...\n",
      "2024-11-27 11:34:48,429 - INFO - ...\n",
      "2024-11-27 11:34:50,555 - INFO - ...\n",
      "2024-11-27 11:34:52,544 - INFO - ...\n",
      "2024-11-27 11:34:54,412 - INFO - ...\n",
      "2024-11-27 11:34:56,110 - INFO - ...\n",
      "2024-11-27 11:34:57,911 - INFO - ...\n",
      "2024-11-27 11:34:59,895 - INFO - ...\n",
      "2024-11-27 11:35:01,487 - INFO - ...\n",
      "2024-11-27 11:35:02,553 - INFO - ...\n",
      "2024-11-27 11:35:04,637 - INFO - ...\n",
      "2024-11-27 11:35:06,874 - INFO - ...\n",
      "2024-11-27 11:35:07,934 - INFO - ...\n",
      "2024-11-27 11:35:10,014 - INFO - ...\n",
      "2024-11-27 11:35:12,029 - INFO - ...\n",
      "2024-11-27 11:35:14,893 - INFO - ...\n",
      "2024-11-27 11:35:16,642 - INFO - ...\n",
      "2024-11-27 11:35:18,372 - INFO - ...\n",
      "2024-11-27 11:35:20,311 - INFO - ...\n",
      "2024-11-27 11:35:22,245 - INFO - ...\n",
      "2024-11-27 11:35:23,354 - INFO - ...\n",
      "2024-11-27 11:35:25,125 - INFO - ...\n",
      "2024-11-27 11:35:26,973 - INFO - ...\n",
      "2024-11-27 11:35:28,147 - INFO - ...\n",
      "2024-11-27 11:35:30,350 - INFO - ...\n",
      "2024-11-27 11:35:32,299 - INFO - ...\n",
      "2024-11-27 11:35:34,475 - INFO - ...\n",
      "2024-11-27 11:35:37,000 - INFO - ...\n",
      "2024-11-27 11:35:39,290 - INFO - ...\n",
      "2024-11-27 11:35:41,470 - INFO - ...\n",
      "2024-11-27 11:35:42,574 - INFO - ...\n",
      "2024-11-27 11:35:44,155 - INFO - ...\n",
      "2024-11-27 11:35:46,246 - INFO - ...\n",
      "2024-11-27 11:35:47,852 - INFO - ...\n",
      "2024-11-27 11:35:49,697 - INFO - ...\n",
      "2024-11-27 11:35:51,808 - INFO - ...\n",
      "2024-11-27 11:35:53,058 - INFO - ...\n",
      "2024-11-27 11:35:55,332 - INFO - ...\n",
      "2024-11-27 11:35:57,702 - INFO - ...\n",
      "2024-11-27 11:35:58,757 - INFO - ...\n",
      "2024-11-27 11:36:01,291 - INFO - ...\n",
      "2024-11-27 11:36:03,429 - INFO - ...\n",
      "2024-11-27 11:36:04,543 - INFO - ...\n",
      "2024-11-27 11:36:06,640 - INFO - ...\n",
      "2024-11-27 11:36:08,314 - INFO - ...\n",
      "2024-11-27 11:36:10,973 - INFO - ...\n",
      "2024-11-27 11:36:13,063 - INFO - ...\n",
      "2024-11-27 11:36:15,605 - INFO - ...\n",
      "2024-11-27 11:36:17,681 - INFO - ...\n",
      "2024-11-27 11:36:19,574 - INFO - ...\n",
      "2024-11-27 11:36:21,551 - INFO - ...\n",
      "2024-11-27 11:36:23,662 - INFO - ...\n",
      "2024-11-27 11:36:25,781 - INFO - ...\n",
      "2024-11-27 11:36:28,118 - INFO - ...\n",
      "2024-11-27 11:36:30,408 - INFO - ...\n",
      "2024-11-27 11:36:31,997 - INFO - ...\n",
      "2024-11-27 11:36:34,116 - INFO - ...\n",
      "2024-11-27 11:36:36,218 - INFO - ...\n",
      "2024-11-27 11:36:38,772 - INFO - ...\n",
      "2024-11-27 11:36:40,455 - INFO - ...\n",
      "2024-11-27 11:36:42,128 - INFO - ...\n",
      "2024-11-27 11:36:44,248 - INFO - ...\n",
      "2024-11-27 11:36:46,281 - INFO - ...\n",
      "2024-11-27 11:36:47,536 - INFO - ...\n",
      "2024-11-27 11:36:50,044 - INFO - ...\n",
      "2024-11-27 11:36:51,605 - INFO - ...\n",
      "2024-11-27 11:36:52,637 - INFO - ...\n",
      "2024-11-27 11:36:54,706 - INFO - ...\n",
      "2024-11-27 11:36:56,689 - INFO - ...\n",
      "2024-11-27 11:36:58,791 - INFO - ...\n",
      "2024-11-27 11:37:00,498 - INFO - ...\n",
      "2024-11-27 11:37:02,136 - INFO - ...\n",
      "2024-11-27 11:37:04,054 - INFO - ...\n",
      "2024-11-27 11:37:05,758 - INFO - ...\n",
      "2024-11-27 11:37:08,210 - INFO - ...\n",
      "2024-11-27 11:37:10,237 - INFO - ...\n",
      "2024-11-27 11:37:11,573 - INFO - ...\n",
      "2024-11-27 11:37:13,307 - INFO - ...\n",
      "2024-11-27 11:37:14,915 - INFO - ...\n",
      "2024-11-27 11:37:17,690 - INFO - ...\n",
      "2024-11-27 11:37:19,478 - INFO - ...\n",
      "2024-11-27 11:37:20,758 - INFO - ...\n",
      "2024-11-27 11:37:22,462 - INFO - ...\n",
      "2024-11-27 11:37:24,233 - INFO - ...\n",
      "2024-11-27 11:37:25,770 - INFO - ...\n",
      "2024-11-27 11:37:27,605 - INFO - ...\n",
      "2024-11-27 11:37:29,499 - INFO - ...\n",
      "2024-11-27 11:37:30,679 - INFO - ...\n",
      "2024-11-27 11:37:32,349 - INFO - ...\n",
      "2024-11-27 11:37:34,092 - INFO - ...\n",
      "2024-11-27 11:37:35,299 - INFO - ...\n",
      "2024-11-27 11:37:37,057 - INFO - ...\n",
      "2024-11-27 11:37:38,658 - INFO - ...\n",
      "2024-11-27 11:37:40,558 - INFO - ...\n",
      "2024-11-27 11:37:42,402 - INFO - ...\n",
      "2024-11-27 11:37:44,015 - INFO - ...\n",
      "2024-11-27 11:37:45,150 - INFO - ...\n",
      "2024-11-27 11:37:46,764 - INFO - ...\n",
      "2024-11-27 11:37:48,619 - INFO - ...\n",
      "2024-11-27 11:37:50,013 - INFO - ...\n",
      "2024-11-27 11:37:51,889 - INFO - ...\n",
      "2024-11-27 11:37:53,662 - INFO - ...\n",
      "2024-11-27 11:37:56,066 - INFO - ...\n",
      "2024-11-27 11:37:57,902 - INFO - ...\n",
      "2024-11-27 11:37:59,425 - INFO - ...\n",
      "2024-11-27 11:38:01,070 - INFO - ...\n",
      "2024-11-27 11:38:02,978 - INFO - ...\n",
      "2024-11-27 11:38:04,288 - INFO - ...\n",
      "2024-11-27 11:38:06,518 - INFO - ...\n",
      "2024-11-27 11:38:09,001 - INFO - ...\n",
      "2024-11-27 11:38:10,385 - INFO - ...\n",
      "2024-11-27 11:38:12,451 - INFO - ...\n",
      "2024-11-27 11:38:14,268 - INFO - ...\n",
      "2024-11-27 11:38:16,745 - INFO - ...\n",
      "2024-11-27 11:38:18,417 - INFO - ...\n",
      "2024-11-27 11:38:20,053 - INFO - ...\n",
      "2024-11-27 11:38:21,979 - INFO - ...\n",
      "2024-11-27 11:38:23,983 - INFO - ...\n",
      "2024-11-27 11:38:25,018 - INFO - ...\n",
      "2024-11-27 11:38:26,140 - INFO - ...\n",
      "2024-11-27 11:38:27,153 - INFO - ...\n",
      "2024-11-27 11:38:28,252 - INFO - ...\n",
      "2024-11-27 11:38:29,255 - INFO - ...\n",
      "2024-11-27 11:38:30,265 - INFO - ...\n",
      "2024-11-27 11:38:31,282 - INFO - ...\n",
      "2024-11-27 11:38:32,354 - INFO - ...\n",
      "2024-11-27 11:38:33,358 - INFO - ...\n",
      "2024-11-27 11:38:34,368 - INFO - ...\n",
      "2024-11-27 11:38:35,376 - INFO - ...\n",
      "2024-11-27 11:38:36,383 - INFO - ...\n",
      "2024-11-27 11:38:37,392 - INFO - ...\n",
      "2024-11-27 11:38:38,400 - INFO - ...\n",
      "2024-11-27 11:38:38,404 - INFO - Data indexed. self.total_indexing_time=9382.2041015625s\n",
      "2024-11-27 11:38:38,463 - INFO - Load pretrained SentenceTransformer: intfloat/e5-large-v2\n",
      "2024-11-27 11:38:40,521 - INFO - Use pytorch device_name: mps\n"
     ]
    },
    {
     "data": {
      "application/vnd.jupyter.widget-view+json": {
       "model_id": "98f173f49a154468bcda40a1f5f85f44",
       "version_major": 2,
       "version_minor": 0
      },
      "text/plain": [
       "Batches:   0%|          | 0/1 [00:00<?, ?it/s]"
      ]
     },
     "metadata": {},
     "output_type": "display_data"
    },
    {
     "data": {
      "application/vnd.jupyter.widget-view+json": {
       "model_id": "96540ceae26a439585aa68cfe74c49a7",
       "version_major": 2,
       "version_minor": 0
      },
      "text/plain": [
       "Batches:   0%|          | 0/1 [00:00<?, ?it/s]"
      ]
     },
     "metadata": {},
     "output_type": "display_data"
    },
    {
     "data": {
      "application/vnd.jupyter.widget-view+json": {
       "model_id": "bb1b5fd52f5648268bd0009d2befef49",
       "version_major": 2,
       "version_minor": 0
      },
      "text/plain": [
       "Batches:   0%|          | 0/1 [00:00<?, ?it/s]"
      ]
     },
     "metadata": {},
     "output_type": "display_data"
    },
    {
     "data": {
      "application/vnd.jupyter.widget-view+json": {
       "model_id": "939b750ad2fe4457af073c101b8577eb",
       "version_major": 2,
       "version_minor": 0
      },
      "text/plain": [
       "Batches:   0%|          | 0/1 [00:00<?, ?it/s]"
      ]
     },
     "metadata": {},
     "output_type": "display_data"
    },
    {
     "data": {
      "application/vnd.jupyter.widget-view+json": {
       "model_id": "2d57cd2c6c694178913dbcd095489444",
       "version_major": 2,
       "version_minor": 0
      },
      "text/plain": [
       "Batches:   0%|          | 0/1 [00:00<?, ?it/s]"
      ]
     },
     "metadata": {},
     "output_type": "display_data"
    },
    {
     "data": {
      "application/vnd.jupyter.widget-view+json": {
       "model_id": "14e364ae9dbc4c4eb161e06e11a1357b",
       "version_major": 2,
       "version_minor": 0
      },
      "text/plain": [
       "Batches:   0%|          | 0/1 [00:00<?, ?it/s]"
      ]
     },
     "metadata": {},
     "output_type": "display_data"
    },
    {
     "data": {
      "application/vnd.jupyter.widget-view+json": {
       "model_id": "8953f8c17cd4404489aefedfe8702949",
       "version_major": 2,
       "version_minor": 0
      },
      "text/plain": [
       "Batches:   0%|          | 0/1 [00:00<?, ?it/s]"
      ]
     },
     "metadata": {},
     "output_type": "display_data"
    },
    {
     "data": {
      "application/vnd.jupyter.widget-view+json": {
       "model_id": "09b51e64a2084df9b724702cf9fed79e",
       "version_major": 2,
       "version_minor": 0
      },
      "text/plain": [
       "Batches:   0%|          | 0/1 [00:00<?, ?it/s]"
      ]
     },
     "metadata": {},
     "output_type": "display_data"
    },
    {
     "data": {
      "application/vnd.jupyter.widget-view+json": {
       "model_id": "570283d327554ff788d276447506d9f9",
       "version_major": 2,
       "version_minor": 0
      },
      "text/plain": [
       "Batches:   0%|          | 0/1 [00:00<?, ?it/s]"
      ]
     },
     "metadata": {},
     "output_type": "display_data"
    },
    {
     "data": {
      "application/vnd.jupyter.widget-view+json": {
       "model_id": "8c6b3a6215b54c239e5567320365c862",
       "version_major": 2,
       "version_minor": 0
      },
      "text/plain": [
       "Batches:   0%|          | 0/1 [00:00<?, ?it/s]"
      ]
     },
     "metadata": {},
     "output_type": "display_data"
    },
    {
     "data": {
      "application/vnd.jupyter.widget-view+json": {
       "model_id": "4f0f276ab1c54a2d98f2633d73e5f088",
       "version_major": 2,
       "version_minor": 0
      },
      "text/plain": [
       "Batches:   0%|          | 0/1 [00:00<?, ?it/s]"
      ]
     },
     "metadata": {},
     "output_type": "display_data"
    },
    {
     "data": {
      "application/vnd.jupyter.widget-view+json": {
       "model_id": "cea893407f3246f09153d37887d82f73",
       "version_major": 2,
       "version_minor": 0
      },
      "text/plain": [
       "Batches:   0%|          | 0/1 [00:00<?, ?it/s]"
      ]
     },
     "metadata": {},
     "output_type": "display_data"
    },
    {
     "data": {
      "application/vnd.jupyter.widget-view+json": {
       "model_id": "6c9ce949e76349728064d89152838ca1",
       "version_major": 2,
       "version_minor": 0
      },
      "text/plain": [
       "Batches:   0%|          | 0/1 [00:00<?, ?it/s]"
      ]
     },
     "metadata": {},
     "output_type": "display_data"
    },
    {
     "name": "stderr",
     "output_type": "stream",
     "text": [
      "2024-11-27 11:38:43,463 - INFO - Calculating retrieval metrics for test_id: 233e17e0-d107-4dd1-8c66-271fd2f89b7b\n",
      "2024-11-27 11:38:43,478 - INFO - Overall f1 at 2 for retrieval: 0.49166666666666664\n",
      "[I 2024-11-27 11:38:43,486] Trial 0 finished with value: 0.5524810801021469 and parameters: {'model_info': {'provider': 'hf', 'model': 'intfloat/e5-large-v2', 'dim': 1024}, 'algorithm': 'flat', 'var_dtype': 'float32', 'ret_k': 2}. Best is trial 0 with value: 0.5524810801021469.\n",
      "2024-11-27 11:38:43,489 - INFO - Running for Retriever: DefaultQueryRetriever with additional_schema_fields=None\n",
      "2024-11-27 11:38:43,509 - INFO - Load pretrained SentenceTransformer: intfloat/e5-large-v2\n"
     ]
    },
    {
     "name": "stdout",
     "output_type": "stream",
     "text": [
      "\n",
      "\n",
      " Running for: \n",
      " model_str: intfloat/e5-large-v2 \n",
      " algorithm: flat\n"
     ]
    },
    {
     "name": "stderr",
     "output_type": "stream",
     "text": [
      "2024-11-27 11:38:45,204 - INFO - Use pytorch device_name: mps\n"
     ]
    },
    {
     "data": {
      "application/vnd.jupyter.widget-view+json": {
       "model_id": "56a48f02a7fa4710a5fb34a525d27b03",
       "version_major": 2,
       "version_minor": 0
      },
      "text/plain": [
       "Batches:   0%|          | 0/1 [00:00<?, ?it/s]"
      ]
     },
     "metadata": {},
     "output_type": "display_data"
    },
    {
     "data": {
      "application/vnd.jupyter.widget-view+json": {
       "model_id": "177cbb928e384c62ac0fb7216a875369",
       "version_major": 2,
       "version_minor": 0
      },
      "text/plain": [
       "Batches:   0%|          | 0/8 [00:00<?, ?it/s]"
      ]
     },
     "metadata": {},
     "output_type": "display_data"
    },
    {
     "name": "stderr",
     "output_type": "stream",
     "text": [
      "2024-11-27 11:39:06,863 - INFO - Indexing data...\n",
      "2024-11-27 11:39:10,515 - INFO - ...\n",
      "2024-11-27 11:39:11,522 - INFO - ...\n",
      "2024-11-27 11:39:12,535 - INFO - ...\n",
      "2024-11-27 11:39:13,641 - INFO - ...\n",
      "2024-11-27 11:39:14,670 - INFO - ...\n",
      "2024-11-27 11:39:15,681 - INFO - ...\n",
      "2024-11-27 11:39:16,691 - INFO - ...\n",
      "2024-11-27 11:39:17,699 - INFO - ...\n",
      "2024-11-27 11:39:17,706 - INFO - Data indexed. self.total_indexing_time=16878.69921875s\n",
      "2024-11-27 11:39:17,803 - INFO - Load pretrained SentenceTransformer: intfloat/e5-large-v2\n",
      "2024-11-27 11:39:21,278 - INFO - Use pytorch device_name: mps\n"
     ]
    },
    {
     "data": {
      "application/vnd.jupyter.widget-view+json": {
       "model_id": "61b2927eab634572ae2d2fad72d306ca",
       "version_major": 2,
       "version_minor": 0
      },
      "text/plain": [
       "Batches:   0%|          | 0/1 [00:00<?, ?it/s]"
      ]
     },
     "metadata": {},
     "output_type": "display_data"
    },
    {
     "data": {
      "application/vnd.jupyter.widget-view+json": {
       "model_id": "afc8abd0379947d2b3f4a07c2072dfd4",
       "version_major": 2,
       "version_minor": 0
      },
      "text/plain": [
       "Batches:   0%|          | 0/1 [00:00<?, ?it/s]"
      ]
     },
     "metadata": {},
     "output_type": "display_data"
    },
    {
     "data": {
      "application/vnd.jupyter.widget-view+json": {
       "model_id": "b7a9d24fb2cd477a8744aec801d83bc2",
       "version_major": 2,
       "version_minor": 0
      },
      "text/plain": [
       "Batches:   0%|          | 0/1 [00:00<?, ?it/s]"
      ]
     },
     "metadata": {},
     "output_type": "display_data"
    },
    {
     "data": {
      "application/vnd.jupyter.widget-view+json": {
       "model_id": "a4433615ad1b4a15b726be0ea9c59db2",
       "version_major": 2,
       "version_minor": 0
      },
      "text/plain": [
       "Batches:   0%|          | 0/1 [00:00<?, ?it/s]"
      ]
     },
     "metadata": {},
     "output_type": "display_data"
    },
    {
     "data": {
      "application/vnd.jupyter.widget-view+json": {
       "model_id": "9e6b14a3e7b540898ea3167453634367",
       "version_major": 2,
       "version_minor": 0
      },
      "text/plain": [
       "Batches:   0%|          | 0/1 [00:00<?, ?it/s]"
      ]
     },
     "metadata": {},
     "output_type": "display_data"
    },
    {
     "data": {
      "application/vnd.jupyter.widget-view+json": {
       "model_id": "680c14fed9ec4bbaa5b0ab0d1d083ce9",
       "version_major": 2,
       "version_minor": 0
      },
      "text/plain": [
       "Batches:   0%|          | 0/1 [00:00<?, ?it/s]"
      ]
     },
     "metadata": {},
     "output_type": "display_data"
    },
    {
     "data": {
      "application/vnd.jupyter.widget-view+json": {
       "model_id": "939e2609ce02422991012ea9c2d4ace2",
       "version_major": 2,
       "version_minor": 0
      },
      "text/plain": [
       "Batches:   0%|          | 0/1 [00:00<?, ?it/s]"
      ]
     },
     "metadata": {},
     "output_type": "display_data"
    },
    {
     "data": {
      "application/vnd.jupyter.widget-view+json": {
       "model_id": "4e53d585996248ce8cc727091398c9b7",
       "version_major": 2,
       "version_minor": 0
      },
      "text/plain": [
       "Batches:   0%|          | 0/1 [00:00<?, ?it/s]"
      ]
     },
     "metadata": {},
     "output_type": "display_data"
    },
    {
     "data": {
      "application/vnd.jupyter.widget-view+json": {
       "model_id": "3c2fca01e01d4dc3956b71473aad44c6",
       "version_major": 2,
       "version_minor": 0
      },
      "text/plain": [
       "Batches:   0%|          | 0/1 [00:00<?, ?it/s]"
      ]
     },
     "metadata": {},
     "output_type": "display_data"
    },
    {
     "data": {
      "application/vnd.jupyter.widget-view+json": {
       "model_id": "9de405226eb145919e19a8a0841a1d9b",
       "version_major": 2,
       "version_minor": 0
      },
      "text/plain": [
       "Batches:   0%|          | 0/1 [00:00<?, ?it/s]"
      ]
     },
     "metadata": {},
     "output_type": "display_data"
    },
    {
     "data": {
      "application/vnd.jupyter.widget-view+json": {
       "model_id": "cead1bfce322488eb5eabc69d0a05154",
       "version_major": 2,
       "version_minor": 0
      },
      "text/plain": [
       "Batches:   0%|          | 0/1 [00:00<?, ?it/s]"
      ]
     },
     "metadata": {},
     "output_type": "display_data"
    },
    {
     "data": {
      "application/vnd.jupyter.widget-view+json": {
       "model_id": "d3c2fe1f82224b2e8f21a2b7a3057dc1",
       "version_major": 2,
       "version_minor": 0
      },
      "text/plain": [
       "Batches:   0%|          | 0/1 [00:00<?, ?it/s]"
      ]
     },
     "metadata": {},
     "output_type": "display_data"
    },
    {
     "data": {
      "application/vnd.jupyter.widget-view+json": {
       "model_id": "6180acb0dd7946bd8eb13981af24a1cd",
       "version_major": 2,
       "version_minor": 0
      },
      "text/plain": [
       "Batches:   0%|          | 0/1 [00:00<?, ?it/s]"
      ]
     },
     "metadata": {},
     "output_type": "display_data"
    },
    {
     "name": "stderr",
     "output_type": "stream",
     "text": [
      "2024-11-27 11:39:25,005 - INFO - Calculating retrieval metrics for test_id: be789847-d7d2-4d91-b0be-612d319dee0b\n",
      "2024-11-27 11:39:25,042 - INFO - Overall f1 at 8 for retrieval: 0.37765752765752775\n",
      "[I 2024-11-27 11:39:25,045] Trial 1 finished with value: 0.42410162553693126 and parameters: {'model_info': {'provider': 'hf', 'model': 'intfloat/e5-large-v2', 'dim': 1024}, 'algorithm': 'flat', 'var_dtype': 'float32', 'ret_k': 8}. Best is trial 0 with value: 0.5524810801021469.\n",
      "2024-11-27 11:39:25,046 - INFO - Running for Retriever: DefaultQueryRetriever with additional_schema_fields=None\n",
      "2024-11-27 11:39:25,066 - INFO - Load pretrained SentenceTransformer: sentence-transformers/all-MiniLM-L6-v2\n"
     ]
    },
    {
     "name": "stdout",
     "output_type": "stream",
     "text": [
      "\n",
      "\n",
      " Running for: \n",
      " model_str: sentence-transformers/all-MiniLM-L6-v2 \n",
      " ef_runtime: 10 \n",
      " ef_construction: 250 \n",
      " m: 16 \n",
      "\n",
      "\n"
     ]
    },
    {
     "name": "stderr",
     "output_type": "stream",
     "text": [
      "2024-11-27 11:39:26,000 - INFO - Use pytorch device_name: mps\n"
     ]
    },
    {
     "data": {
      "application/vnd.jupyter.widget-view+json": {
       "model_id": "a228b7972d9544a4b72f9a494c47c431",
       "version_major": 2,
       "version_minor": 0
      },
      "text/plain": [
       "Batches:   0%|          | 0/1 [00:00<?, ?it/s]"
      ]
     },
     "metadata": {},
     "output_type": "display_data"
    },
    {
     "data": {
      "application/vnd.jupyter.widget-view+json": {
       "model_id": "a00a06e3f72b4a0f84782a6210419a5e",
       "version_major": 2,
       "version_minor": 0
      },
      "text/plain": [
       "Batches:   0%|          | 0/8 [00:00<?, ?it/s]"
      ]
     },
     "metadata": {},
     "output_type": "display_data"
    },
    {
     "name": "stderr",
     "output_type": "stream",
     "text": [
      "2024-11-27 11:39:28,745 - INFO - Indexing data...\n",
      "2024-11-27 11:39:32,128 - INFO - ...\n",
      "2024-11-27 11:39:33,209 - INFO - ...\n",
      "2024-11-27 11:39:34,223 - INFO - ...\n",
      "2024-11-27 11:39:35,230 - INFO - ...\n",
      "2024-11-27 11:39:36,240 - INFO - ...\n",
      "2024-11-27 11:39:37,939 - INFO - ...\n",
      "2024-11-27 11:39:39,166 - INFO - ...\n",
      "2024-11-27 11:39:40,174 - INFO - ...\n",
      "2024-11-27 11:39:41,183 - INFO - ...\n",
      "2024-11-27 11:39:42,196 - INFO - ...\n",
      "2024-11-27 11:39:43,203 - INFO - ...\n",
      "2024-11-27 11:39:44,220 - INFO - ...\n",
      "2024-11-27 11:39:44,230 - INFO - Data indexed. self.total_indexing_time=12954.7890625s\n",
      "2024-11-27 11:39:44,281 - INFO - Load pretrained SentenceTransformer: sentence-transformers/all-MiniLM-L6-v2\n",
      "2024-11-27 11:39:45,360 - INFO - Use pytorch device_name: mps\n"
     ]
    },
    {
     "data": {
      "application/vnd.jupyter.widget-view+json": {
       "model_id": "5051d310b9d74aecbf7442d5d71bcf26",
       "version_major": 2,
       "version_minor": 0
      },
      "text/plain": [
       "Batches:   0%|          | 0/1 [00:00<?, ?it/s]"
      ]
     },
     "metadata": {},
     "output_type": "display_data"
    },
    {
     "data": {
      "application/vnd.jupyter.widget-view+json": {
       "model_id": "32e79cdd814845738b3704d0f0b2690d",
       "version_major": 2,
       "version_minor": 0
      },
      "text/plain": [
       "Batches:   0%|          | 0/1 [00:00<?, ?it/s]"
      ]
     },
     "metadata": {},
     "output_type": "display_data"
    },
    {
     "data": {
      "application/vnd.jupyter.widget-view+json": {
       "model_id": "cafcf3e6efb248b88652dcdb18da99dc",
       "version_major": 2,
       "version_minor": 0
      },
      "text/plain": [
       "Batches:   0%|          | 0/1 [00:00<?, ?it/s]"
      ]
     },
     "metadata": {},
     "output_type": "display_data"
    },
    {
     "data": {
      "application/vnd.jupyter.widget-view+json": {
       "model_id": "759bfce8f8624c28b67edcac2e9bc68a",
       "version_major": 2,
       "version_minor": 0
      },
      "text/plain": [
       "Batches:   0%|          | 0/1 [00:00<?, ?it/s]"
      ]
     },
     "metadata": {},
     "output_type": "display_data"
    },
    {
     "data": {
      "application/vnd.jupyter.widget-view+json": {
       "model_id": "952093ff7f9942c18d2bfd186782a498",
       "version_major": 2,
       "version_minor": 0
      },
      "text/plain": [
       "Batches:   0%|          | 0/1 [00:00<?, ?it/s]"
      ]
     },
     "metadata": {},
     "output_type": "display_data"
    },
    {
     "data": {
      "application/vnd.jupyter.widget-view+json": {
       "model_id": "b11333800b3f405cb937283b04c8070b",
       "version_major": 2,
       "version_minor": 0
      },
      "text/plain": [
       "Batches:   0%|          | 0/1 [00:00<?, ?it/s]"
      ]
     },
     "metadata": {},
     "output_type": "display_data"
    },
    {
     "data": {
      "application/vnd.jupyter.widget-view+json": {
       "model_id": "8115bc83661c4e7d9441b5ec40bc4b31",
       "version_major": 2,
       "version_minor": 0
      },
      "text/plain": [
       "Batches:   0%|          | 0/1 [00:00<?, ?it/s]"
      ]
     },
     "metadata": {},
     "output_type": "display_data"
    },
    {
     "data": {
      "application/vnd.jupyter.widget-view+json": {
       "model_id": "9b1dd8f3c210467394e1aca6ee297cae",
       "version_major": 2,
       "version_minor": 0
      },
      "text/plain": [
       "Batches:   0%|          | 0/1 [00:00<?, ?it/s]"
      ]
     },
     "metadata": {},
     "output_type": "display_data"
    },
    {
     "data": {
      "application/vnd.jupyter.widget-view+json": {
       "model_id": "3bebc1c467bd44128208dc636221867e",
       "version_major": 2,
       "version_minor": 0
      },
      "text/plain": [
       "Batches:   0%|          | 0/1 [00:00<?, ?it/s]"
      ]
     },
     "metadata": {},
     "output_type": "display_data"
    },
    {
     "data": {
      "application/vnd.jupyter.widget-view+json": {
       "model_id": "e87b8afed17f4a38b270c6065424a90e",
       "version_major": 2,
       "version_minor": 0
      },
      "text/plain": [
       "Batches:   0%|          | 0/1 [00:00<?, ?it/s]"
      ]
     },
     "metadata": {},
     "output_type": "display_data"
    },
    {
     "data": {
      "application/vnd.jupyter.widget-view+json": {
       "model_id": "247073d0fc954925a2372168327e1166",
       "version_major": 2,
       "version_minor": 0
      },
      "text/plain": [
       "Batches:   0%|          | 0/1 [00:00<?, ?it/s]"
      ]
     },
     "metadata": {},
     "output_type": "display_data"
    },
    {
     "data": {
      "application/vnd.jupyter.widget-view+json": {
       "model_id": "0f73476d7ee24b508c207b85c8fca6b6",
       "version_major": 2,
       "version_minor": 0
      },
      "text/plain": [
       "Batches:   0%|          | 0/1 [00:00<?, ?it/s]"
      ]
     },
     "metadata": {},
     "output_type": "display_data"
    },
    {
     "data": {
      "application/vnd.jupyter.widget-view+json": {
       "model_id": "691c731301434fe8b9ccecc19e20a01f",
       "version_major": 2,
       "version_minor": 0
      },
      "text/plain": [
       "Batches:   0%|          | 0/1 [00:00<?, ?it/s]"
      ]
     },
     "metadata": {},
     "output_type": "display_data"
    },
    {
     "name": "stderr",
     "output_type": "stream",
     "text": [
      "2024-11-27 11:39:48,006 - INFO - Calculating retrieval metrics for test_id: 7fade9ea-48b8-43ba-8a0d-09704ad748b2\n",
      "2024-11-27 11:39:48,016 - INFO - Overall f1 at 2 for retrieval: 0.65\n",
      "[I 2024-11-27 11:39:48,020] Trial 2 finished with value: 0.9698636075136011 and parameters: {'model_info': {'provider': 'hf', 'model': 'sentence-transformers/all-MiniLM-L6-v2', 'dim': 384}, 'algorithm': 'hnsw', 'var_dtype': 'float32', 'ret_k': 2, 'ef_runtime': 10, 'ef_construction': 250, 'm': 16}. Best is trial 2 with value: 0.9698636075136011.\n",
      "2024-11-27 11:39:48,026 - INFO - Running for Retriever: DefaultQueryRetriever with additional_schema_fields=None\n",
      "2024-11-27 11:39:48,053 - INFO - Load pretrained SentenceTransformer: intfloat/e5-large-v2\n"
     ]
    },
    {
     "name": "stdout",
     "output_type": "stream",
     "text": [
      "\n",
      "\n",
      " Running for: \n",
      " model_str: intfloat/e5-large-v2 \n",
      " ef_runtime: 10 \n",
      " ef_construction: 200 \n",
      " m: 64 \n",
      "\n",
      "\n"
     ]
    },
    {
     "name": "stderr",
     "output_type": "stream",
     "text": [
      "2024-11-27 11:39:53,854 - INFO - Use pytorch device_name: mps\n"
     ]
    },
    {
     "data": {
      "application/vnd.jupyter.widget-view+json": {
       "model_id": "fd0cbc9e21d54733b838a16f19c7aeb1",
       "version_major": 2,
       "version_minor": 0
      },
      "text/plain": [
       "Batches:   0%|          | 0/1 [00:00<?, ?it/s]"
      ]
     },
     "metadata": {},
     "output_type": "display_data"
    },
    {
     "data": {
      "application/vnd.jupyter.widget-view+json": {
       "model_id": "b27c9a27ec6a433da5d62c0a2622d730",
       "version_major": 2,
       "version_minor": 0
      },
      "text/plain": [
       "Batches:   0%|          | 0/8 [00:00<?, ?it/s]"
      ]
     },
     "metadata": {},
     "output_type": "display_data"
    },
    {
     "name": "stderr",
     "output_type": "stream",
     "text": [
      "2024-11-27 11:40:27,772 - INFO - Indexing data...\n",
      "2024-11-27 11:40:29,759 - INFO - Data indexed. self.total_indexing_time=16326.259765625s\n",
      "2024-11-27 11:40:29,777 - INFO - Load pretrained SentenceTransformer: intfloat/e5-large-v2\n",
      "2024-11-27 11:40:34,866 - INFO - Use pytorch device_name: mps\n"
     ]
    },
    {
     "data": {
      "application/vnd.jupyter.widget-view+json": {
       "model_id": "76904410b241450eaa8dd926804ce996",
       "version_major": 2,
       "version_minor": 0
      },
      "text/plain": [
       "Batches:   0%|          | 0/1 [00:00<?, ?it/s]"
      ]
     },
     "metadata": {},
     "output_type": "display_data"
    },
    {
     "data": {
      "application/vnd.jupyter.widget-view+json": {
       "model_id": "064fcd82ce5847f6b2e87224c4e801cc",
       "version_major": 2,
       "version_minor": 0
      },
      "text/plain": [
       "Batches:   0%|          | 0/1 [00:00<?, ?it/s]"
      ]
     },
     "metadata": {},
     "output_type": "display_data"
    },
    {
     "data": {
      "application/vnd.jupyter.widget-view+json": {
       "model_id": "ce15a43ac0234eed9c6e0c19fd689c80",
       "version_major": 2,
       "version_minor": 0
      },
      "text/plain": [
       "Batches:   0%|          | 0/1 [00:00<?, ?it/s]"
      ]
     },
     "metadata": {},
     "output_type": "display_data"
    },
    {
     "data": {
      "application/vnd.jupyter.widget-view+json": {
       "model_id": "aa9484773dc74cb491f34ed838a0fd30",
       "version_major": 2,
       "version_minor": 0
      },
      "text/plain": [
       "Batches:   0%|          | 0/1 [00:00<?, ?it/s]"
      ]
     },
     "metadata": {},
     "output_type": "display_data"
    },
    {
     "data": {
      "application/vnd.jupyter.widget-view+json": {
       "model_id": "096e34acc0fc47d2b991ade180dd39b4",
       "version_major": 2,
       "version_minor": 0
      },
      "text/plain": [
       "Batches:   0%|          | 0/1 [00:00<?, ?it/s]"
      ]
     },
     "metadata": {},
     "output_type": "display_data"
    },
    {
     "data": {
      "application/vnd.jupyter.widget-view+json": {
       "model_id": "24d1fad0344344aaa89ff93800d6a472",
       "version_major": 2,
       "version_minor": 0
      },
      "text/plain": [
       "Batches:   0%|          | 0/1 [00:00<?, ?it/s]"
      ]
     },
     "metadata": {},
     "output_type": "display_data"
    },
    {
     "data": {
      "application/vnd.jupyter.widget-view+json": {
       "model_id": "9140180190aa47b78285c3b854a9608c",
       "version_major": 2,
       "version_minor": 0
      },
      "text/plain": [
       "Batches:   0%|          | 0/1 [00:00<?, ?it/s]"
      ]
     },
     "metadata": {},
     "output_type": "display_data"
    },
    {
     "data": {
      "application/vnd.jupyter.widget-view+json": {
       "model_id": "17bf24f392c8430093365fa6b7c393db",
       "version_major": 2,
       "version_minor": 0
      },
      "text/plain": [
       "Batches:   0%|          | 0/1 [00:00<?, ?it/s]"
      ]
     },
     "metadata": {},
     "output_type": "display_data"
    },
    {
     "data": {
      "application/vnd.jupyter.widget-view+json": {
       "model_id": "3881f44456f940a9adc4b1e66a31dec5",
       "version_major": 2,
       "version_minor": 0
      },
      "text/plain": [
       "Batches:   0%|          | 0/1 [00:00<?, ?it/s]"
      ]
     },
     "metadata": {},
     "output_type": "display_data"
    },
    {
     "data": {
      "application/vnd.jupyter.widget-view+json": {
       "model_id": "f605145cd8f641e59813583ae89099be",
       "version_major": 2,
       "version_minor": 0
      },
      "text/plain": [
       "Batches:   0%|          | 0/1 [00:00<?, ?it/s]"
      ]
     },
     "metadata": {},
     "output_type": "display_data"
    },
    {
     "data": {
      "application/vnd.jupyter.widget-view+json": {
       "model_id": "7840a0b594d3463789807ef4edfcaf36",
       "version_major": 2,
       "version_minor": 0
      },
      "text/plain": [
       "Batches:   0%|          | 0/1 [00:00<?, ?it/s]"
      ]
     },
     "metadata": {},
     "output_type": "display_data"
    },
    {
     "data": {
      "application/vnd.jupyter.widget-view+json": {
       "model_id": "11327c34f01a4291932c80c028c566a4",
       "version_major": 2,
       "version_minor": 0
      },
      "text/plain": [
       "Batches:   0%|          | 0/1 [00:00<?, ?it/s]"
      ]
     },
     "metadata": {},
     "output_type": "display_data"
    },
    {
     "data": {
      "application/vnd.jupyter.widget-view+json": {
       "model_id": "882a97b3ed6043959e7444294f750b59",
       "version_major": 2,
       "version_minor": 0
      },
      "text/plain": [
       "Batches:   0%|          | 0/1 [00:00<?, ?it/s]"
      ]
     },
     "metadata": {},
     "output_type": "display_data"
    },
    {
     "name": "stderr",
     "output_type": "stream",
     "text": [
      "2024-11-27 11:40:37,955 - INFO - Calculating retrieval metrics for test_id: 3ebb8389-b382-4af7-9a47-e417f8ea04de\n",
      "2024-11-27 11:40:37,988 - INFO - Overall f1 at 5 for retrieval: 0.37668350168350173\n",
      "[I 2024-11-27 11:40:38,000] Trial 3 finished with value: 0.4074536099386067 and parameters: {'model_info': {'provider': 'hf', 'model': 'intfloat/e5-large-v2', 'dim': 1024}, 'algorithm': 'hnsw', 'var_dtype': 'float16', 'ret_k': 5, 'ef_runtime': 10, 'ef_construction': 200, 'm': 64}. Best is trial 2 with value: 0.9698636075136011.\n",
      "2024-11-27 11:40:38,003 - INFO - Running for Retriever: DefaultQueryRetriever with additional_schema_fields=None\n",
      "2024-11-27 11:40:38,033 - INFO - Load pretrained SentenceTransformer: intfloat/e5-large-v2\n"
     ]
    },
    {
     "name": "stdout",
     "output_type": "stream",
     "text": [
      "\n",
      "\n",
      " Running for: \n",
      " model_str: intfloat/e5-large-v2 \n",
      " algorithm: flat\n"
     ]
    },
    {
     "name": "stderr",
     "output_type": "stream",
     "text": [
      "2024-11-27 11:40:41,445 - INFO - Use pytorch device_name: mps\n"
     ]
    },
    {
     "data": {
      "application/vnd.jupyter.widget-view+json": {
       "model_id": "af91ae5165514b579c5ba6495166f969",
       "version_major": 2,
       "version_minor": 0
      },
      "text/plain": [
       "Batches:   0%|          | 0/1 [00:00<?, ?it/s]"
      ]
     },
     "metadata": {},
     "output_type": "display_data"
    },
    {
     "data": {
      "application/vnd.jupyter.widget-view+json": {
       "model_id": "278917702e624ce3992c736816cfc573",
       "version_major": 2,
       "version_minor": 0
      },
      "text/plain": [
       "Batches:   0%|          | 0/8 [00:00<?, ?it/s]"
      ]
     },
     "metadata": {},
     "output_type": "display_data"
    },
    {
     "name": "stderr",
     "output_type": "stream",
     "text": [
      "2024-11-27 11:41:14,479 - INFO - Indexing data...\n",
      "2024-11-27 11:41:18,471 - INFO - Data indexed. self.total_indexing_time=14419.185546875s\n",
      "2024-11-27 11:41:18,488 - INFO - Load pretrained SentenceTransformer: intfloat/e5-large-v2\n",
      "2024-11-27 11:41:21,292 - INFO - Use pytorch device_name: mps\n"
     ]
    },
    {
     "data": {
      "application/vnd.jupyter.widget-view+json": {
       "model_id": "df3a801da4654ba4969e72e1906d02ca",
       "version_major": 2,
       "version_minor": 0
      },
      "text/plain": [
       "Batches:   0%|          | 0/1 [00:00<?, ?it/s]"
      ]
     },
     "metadata": {},
     "output_type": "display_data"
    },
    {
     "data": {
      "application/vnd.jupyter.widget-view+json": {
       "model_id": "7b8f5d2a0ee7486ea38bb1b7488e60e0",
       "version_major": 2,
       "version_minor": 0
      },
      "text/plain": [
       "Batches:   0%|          | 0/1 [00:00<?, ?it/s]"
      ]
     },
     "metadata": {},
     "output_type": "display_data"
    },
    {
     "data": {
      "application/vnd.jupyter.widget-view+json": {
       "model_id": "d61f614608344a26a91c2bc0c78a987b",
       "version_major": 2,
       "version_minor": 0
      },
      "text/plain": [
       "Batches:   0%|          | 0/1 [00:00<?, ?it/s]"
      ]
     },
     "metadata": {},
     "output_type": "display_data"
    },
    {
     "data": {
      "application/vnd.jupyter.widget-view+json": {
       "model_id": "0b436a069db8466db3780b52e857aa3b",
       "version_major": 2,
       "version_minor": 0
      },
      "text/plain": [
       "Batches:   0%|          | 0/1 [00:00<?, ?it/s]"
      ]
     },
     "metadata": {},
     "output_type": "display_data"
    },
    {
     "data": {
      "application/vnd.jupyter.widget-view+json": {
       "model_id": "14907d87947d415c8b1abed0c7f1b6a1",
       "version_major": 2,
       "version_minor": 0
      },
      "text/plain": [
       "Batches:   0%|          | 0/1 [00:00<?, ?it/s]"
      ]
     },
     "metadata": {},
     "output_type": "display_data"
    },
    {
     "data": {
      "application/vnd.jupyter.widget-view+json": {
       "model_id": "977a3f26f76543deb93cd97808df289a",
       "version_major": 2,
       "version_minor": 0
      },
      "text/plain": [
       "Batches:   0%|          | 0/1 [00:00<?, ?it/s]"
      ]
     },
     "metadata": {},
     "output_type": "display_data"
    },
    {
     "data": {
      "application/vnd.jupyter.widget-view+json": {
       "model_id": "6e77e700e0f9474da56db5e92d7bb68e",
       "version_major": 2,
       "version_minor": 0
      },
      "text/plain": [
       "Batches:   0%|          | 0/1 [00:00<?, ?it/s]"
      ]
     },
     "metadata": {},
     "output_type": "display_data"
    },
    {
     "data": {
      "application/vnd.jupyter.widget-view+json": {
       "model_id": "c22389c8233644caa8a3bd47d0f5aba4",
       "version_major": 2,
       "version_minor": 0
      },
      "text/plain": [
       "Batches:   0%|          | 0/1 [00:00<?, ?it/s]"
      ]
     },
     "metadata": {},
     "output_type": "display_data"
    },
    {
     "data": {
      "application/vnd.jupyter.widget-view+json": {
       "model_id": "dd77ae8e406949da90e4826f7f3342f7",
       "version_major": 2,
       "version_minor": 0
      },
      "text/plain": [
       "Batches:   0%|          | 0/1 [00:00<?, ?it/s]"
      ]
     },
     "metadata": {},
     "output_type": "display_data"
    },
    {
     "data": {
      "application/vnd.jupyter.widget-view+json": {
       "model_id": "401756c3e8164b54baaffc15d2317f00",
       "version_major": 2,
       "version_minor": 0
      },
      "text/plain": [
       "Batches:   0%|          | 0/1 [00:00<?, ?it/s]"
      ]
     },
     "metadata": {},
     "output_type": "display_data"
    },
    {
     "data": {
      "application/vnd.jupyter.widget-view+json": {
       "model_id": "ebd166a9669b4afcb388532355dcb0aa",
       "version_major": 2,
       "version_minor": 0
      },
      "text/plain": [
       "Batches:   0%|          | 0/1 [00:00<?, ?it/s]"
      ]
     },
     "metadata": {},
     "output_type": "display_data"
    },
    {
     "data": {
      "application/vnd.jupyter.widget-view+json": {
       "model_id": "bd816487ea8747b4b7306f423c85154a",
       "version_major": 2,
       "version_minor": 0
      },
      "text/plain": [
       "Batches:   0%|          | 0/1 [00:00<?, ?it/s]"
      ]
     },
     "metadata": {},
     "output_type": "display_data"
    },
    {
     "data": {
      "application/vnd.jupyter.widget-view+json": {
       "model_id": "c6db32e975e1434b8f32fe3859295cf8",
       "version_major": 2,
       "version_minor": 0
      },
      "text/plain": [
       "Batches:   0%|          | 0/1 [00:00<?, ?it/s]"
      ]
     },
     "metadata": {},
     "output_type": "display_data"
    },
    {
     "name": "stderr",
     "output_type": "stream",
     "text": [
      "2024-11-27 11:41:25,254 - INFO - Calculating retrieval metrics for test_id: 61279386-4d47-4cfb-8746-e4f9e2e71870\n",
      "2024-11-27 11:41:25,284 - INFO - Overall f1 at 7 for retrieval: 0.38826081326081324\n",
      "[I 2024-11-27 11:41:25,292] Trial 4 finished with value: 0.41946418833862237 and parameters: {'model_info': {'provider': 'hf', 'model': 'intfloat/e5-large-v2', 'dim': 1024}, 'algorithm': 'flat', 'var_dtype': 'float16', 'ret_k': 7}. Best is trial 2 with value: 0.9698636075136011.\n",
      "2024-11-27 11:41:25,313 - INFO - Running for Retriever: DefaultQueryRetriever with additional_schema_fields=None\n",
      "2024-11-27 11:41:25,382 - INFO - Load pretrained SentenceTransformer: sentence-transformers/all-MiniLM-L6-v2\n"
     ]
    },
    {
     "name": "stdout",
     "output_type": "stream",
     "text": [
      "\n",
      "\n",
      " Running for: \n",
      " model_str: sentence-transformers/all-MiniLM-L6-v2 \n",
      " ef_runtime: 30 \n",
      " ef_construction: 250 \n",
      " m: 16 \n",
      "\n",
      "\n"
     ]
    },
    {
     "name": "stderr",
     "output_type": "stream",
     "text": [
      "2024-11-27 11:41:26,113 - INFO - Use pytorch device_name: mps\n"
     ]
    },
    {
     "data": {
      "application/vnd.jupyter.widget-view+json": {
       "model_id": "549623766795483ca7eb9ae68cc5e50a",
       "version_major": 2,
       "version_minor": 0
      },
      "text/plain": [
       "Batches:   0%|          | 0/1 [00:00<?, ?it/s]"
      ]
     },
     "metadata": {},
     "output_type": "display_data"
    },
    {
     "data": {
      "application/vnd.jupyter.widget-view+json": {
       "model_id": "fe841dfe074a4d679ea177f4c0df4ee3",
       "version_major": 2,
       "version_minor": 0
      },
      "text/plain": [
       "Batches:   0%|          | 0/8 [00:00<?, ?it/s]"
      ]
     },
     "metadata": {},
     "output_type": "display_data"
    },
    {
     "name": "stderr",
     "output_type": "stream",
     "text": [
      "2024-11-27 11:41:28,425 - INFO - Indexing data...\n",
      "2024-11-27 11:41:31,653 - INFO - ...\n",
      "2024-11-27 11:41:32,710 - INFO - ...\n",
      "2024-11-27 11:41:33,724 - INFO - ...\n",
      "2024-11-27 11:41:34,734 - INFO - ...\n",
      "2024-11-27 11:41:35,741 - INFO - ...\n",
      "2024-11-27 11:41:36,749 - INFO - ...\n",
      "2024-11-27 11:41:37,756 - INFO - ...\n",
      "2024-11-27 11:41:38,762 - INFO - ...\n",
      "2024-11-27 11:41:39,772 - INFO - ...\n",
      "2024-11-27 11:41:40,779 - INFO - ...\n",
      "2024-11-27 11:41:40,794 - INFO - Data indexed. self.total_indexing_time=9929.31640625s\n",
      "2024-11-27 11:41:40,858 - INFO - Load pretrained SentenceTransformer: sentence-transformers/all-MiniLM-L6-v2\n",
      "2024-11-27 11:41:41,826 - INFO - Use pytorch device_name: mps\n"
     ]
    },
    {
     "data": {
      "application/vnd.jupyter.widget-view+json": {
       "model_id": "213d7b12bd9a4de089d83902baf9a5be",
       "version_major": 2,
       "version_minor": 0
      },
      "text/plain": [
       "Batches:   0%|          | 0/1 [00:00<?, ?it/s]"
      ]
     },
     "metadata": {},
     "output_type": "display_data"
    },
    {
     "data": {
      "application/vnd.jupyter.widget-view+json": {
       "model_id": "b8007f14877c482a878671abdc9ddcf0",
       "version_major": 2,
       "version_minor": 0
      },
      "text/plain": [
       "Batches:   0%|          | 0/1 [00:00<?, ?it/s]"
      ]
     },
     "metadata": {},
     "output_type": "display_data"
    },
    {
     "data": {
      "application/vnd.jupyter.widget-view+json": {
       "model_id": "adad7ab699034089ad844ab2b79d19fc",
       "version_major": 2,
       "version_minor": 0
      },
      "text/plain": [
       "Batches:   0%|          | 0/1 [00:00<?, ?it/s]"
      ]
     },
     "metadata": {},
     "output_type": "display_data"
    },
    {
     "data": {
      "application/vnd.jupyter.widget-view+json": {
       "model_id": "edcfccb10ca245d7a2991cbc9b1d5298",
       "version_major": 2,
       "version_minor": 0
      },
      "text/plain": [
       "Batches:   0%|          | 0/1 [00:00<?, ?it/s]"
      ]
     },
     "metadata": {},
     "output_type": "display_data"
    },
    {
     "data": {
      "application/vnd.jupyter.widget-view+json": {
       "model_id": "b87253c40dc044a4abbb51c49e4b9cef",
       "version_major": 2,
       "version_minor": 0
      },
      "text/plain": [
       "Batches:   0%|          | 0/1 [00:00<?, ?it/s]"
      ]
     },
     "metadata": {},
     "output_type": "display_data"
    },
    {
     "data": {
      "application/vnd.jupyter.widget-view+json": {
       "model_id": "589036209c23407fa429b7eaa6c7d3b4",
       "version_major": 2,
       "version_minor": 0
      },
      "text/plain": [
       "Batches:   0%|          | 0/1 [00:00<?, ?it/s]"
      ]
     },
     "metadata": {},
     "output_type": "display_data"
    },
    {
     "data": {
      "application/vnd.jupyter.widget-view+json": {
       "model_id": "e6295a05757645e1815a75c2c51e624c",
       "version_major": 2,
       "version_minor": 0
      },
      "text/plain": [
       "Batches:   0%|          | 0/1 [00:00<?, ?it/s]"
      ]
     },
     "metadata": {},
     "output_type": "display_data"
    },
    {
     "data": {
      "application/vnd.jupyter.widget-view+json": {
       "model_id": "59f245fcd74c4001bdcd4980959d144f",
       "version_major": 2,
       "version_minor": 0
      },
      "text/plain": [
       "Batches:   0%|          | 0/1 [00:00<?, ?it/s]"
      ]
     },
     "metadata": {},
     "output_type": "display_data"
    },
    {
     "data": {
      "application/vnd.jupyter.widget-view+json": {
       "model_id": "cf34c811bf8e4829bf0375b110a9edb5",
       "version_major": 2,
       "version_minor": 0
      },
      "text/plain": [
       "Batches:   0%|          | 0/1 [00:00<?, ?it/s]"
      ]
     },
     "metadata": {},
     "output_type": "display_data"
    },
    {
     "data": {
      "application/vnd.jupyter.widget-view+json": {
       "model_id": "22afb4c433cf4e6dac3b4d35fd3005b8",
       "version_major": 2,
       "version_minor": 0
      },
      "text/plain": [
       "Batches:   0%|          | 0/1 [00:00<?, ?it/s]"
      ]
     },
     "metadata": {},
     "output_type": "display_data"
    },
    {
     "data": {
      "application/vnd.jupyter.widget-view+json": {
       "model_id": "b21f3ee92a48435b8ab9146c1574e9a7",
       "version_major": 2,
       "version_minor": 0
      },
      "text/plain": [
       "Batches:   0%|          | 0/1 [00:00<?, ?it/s]"
      ]
     },
     "metadata": {},
     "output_type": "display_data"
    },
    {
     "data": {
      "application/vnd.jupyter.widget-view+json": {
       "model_id": "efe95b97441541d5877179de8072f9c3",
       "version_major": 2,
       "version_minor": 0
      },
      "text/plain": [
       "Batches:   0%|          | 0/1 [00:00<?, ?it/s]"
      ]
     },
     "metadata": {},
     "output_type": "display_data"
    },
    {
     "data": {
      "application/vnd.jupyter.widget-view+json": {
       "model_id": "3a48be63972b41169a51a0eb43f87498",
       "version_major": 2,
       "version_minor": 0
      },
      "text/plain": [
       "Batches:   0%|          | 0/1 [00:00<?, ?it/s]"
      ]
     },
     "metadata": {},
     "output_type": "display_data"
    },
    {
     "name": "stderr",
     "output_type": "stream",
     "text": [
      "2024-11-27 11:41:44,092 - INFO - Calculating retrieval metrics for test_id: 85d0b25d-1fbf-434b-b97f-cdbbbf4e44a7\n",
      "2024-11-27 11:41:44,101 - INFO - Overall f1 at 7 for retrieval: 0.4884550634550635\n",
      "[I 2024-11-27 11:41:44,104] Trial 5 finished with value: 0.8077661898955641 and parameters: {'model_info': {'provider': 'hf', 'model': 'sentence-transformers/all-MiniLM-L6-v2', 'dim': 384}, 'algorithm': 'hnsw', 'var_dtype': 'float32', 'ret_k': 7, 'ef_runtime': 30, 'ef_construction': 250, 'm': 16}. Best is trial 2 with value: 0.9698636075136011.\n",
      "2024-11-27 11:41:44,105 - INFO - Running for Retriever: DefaultQueryRetriever with additional_schema_fields=None\n",
      "2024-11-27 11:41:44,133 - INFO - Load pretrained SentenceTransformer: sentence-transformers/all-MiniLM-L6-v2\n"
     ]
    },
    {
     "name": "stdout",
     "output_type": "stream",
     "text": [
      "\n",
      "\n",
      " Running for: \n",
      " model_str: sentence-transformers/all-MiniLM-L6-v2 \n",
      " algorithm: flat\n"
     ]
    },
    {
     "name": "stderr",
     "output_type": "stream",
     "text": [
      "2024-11-27 11:41:45,003 - INFO - Use pytorch device_name: mps\n"
     ]
    },
    {
     "data": {
      "application/vnd.jupyter.widget-view+json": {
       "model_id": "76f24f2f05e14274b9a247f8770f781b",
       "version_major": 2,
       "version_minor": 0
      },
      "text/plain": [
       "Batches:   0%|          | 0/1 [00:00<?, ?it/s]"
      ]
     },
     "metadata": {},
     "output_type": "display_data"
    },
    {
     "data": {
      "application/vnd.jupyter.widget-view+json": {
       "model_id": "4e85f201b52e44ceac88cb03a4a2b5a3",
       "version_major": 2,
       "version_minor": 0
      },
      "text/plain": [
       "Batches:   0%|          | 0/8 [00:00<?, ?it/s]"
      ]
     },
     "metadata": {},
     "output_type": "display_data"
    },
    {
     "name": "stderr",
     "output_type": "stream",
     "text": [
      "2024-11-27 11:41:46,912 - INFO - Indexing data...\n",
      "2024-11-27 11:41:56,939 - INFO - ...\n",
      "2024-11-27 11:41:57,956 - INFO - ...\n",
      "2024-11-27 11:41:58,962 - INFO - ...\n",
      "2024-11-27 11:41:59,970 - INFO - ...\n",
      "2024-11-27 11:42:00,998 - INFO - ...\n",
      "2024-11-27 11:42:02,102 - INFO - ...\n",
      "2024-11-27 11:42:03,109 - INFO - ...\n",
      "2024-11-27 11:42:04,116 - INFO - ...\n",
      "2024-11-27 11:42:05,132 - INFO - ...\n",
      "2024-11-27 11:42:06,187 - INFO - ...\n",
      "2024-11-27 11:42:07,345 - INFO - ...\n",
      "2024-11-27 11:42:08,360 - INFO - ...\n",
      "2024-11-27 11:42:09,367 - INFO - ...\n",
      "2024-11-27 11:42:10,395 - INFO - ...\n",
      "2024-11-27 11:42:11,403 - INFO - ...\n",
      "2024-11-27 11:42:12,415 - INFO - ...\n",
      "2024-11-27 11:42:13,426 - INFO - ...\n",
      "2024-11-27 11:42:14,439 - INFO - ...\n",
      "2024-11-27 11:42:15,460 - INFO - ...\n",
      "2024-11-27 11:42:16,526 - INFO - ...\n",
      "2024-11-27 11:42:17,538 - INFO - ...\n",
      "2024-11-27 11:42:18,548 - INFO - ...\n",
      "2024-11-27 11:42:19,557 - INFO - ...\n",
      "2024-11-27 11:42:20,712 - INFO - ...\n",
      "2024-11-27 11:42:21,729 - INFO - ...\n",
      "2024-11-27 11:42:22,751 - INFO - ...\n",
      "2024-11-27 11:42:23,898 - INFO - ...\n",
      "2024-11-27 11:42:24,914 - INFO - ...\n",
      "2024-11-27 11:42:25,934 - INFO - ...\n",
      "2024-11-27 11:42:26,950 - INFO - ...\n",
      "2024-11-27 11:42:27,963 - INFO - ...\n",
      "2024-11-27 11:42:28,978 - INFO - ...\n",
      "2024-11-27 11:42:29,984 - INFO - ...\n",
      "2024-11-27 11:42:31,002 - INFO - ...\n",
      "2024-11-27 11:42:32,021 - INFO - ...\n",
      "2024-11-27 11:42:33,030 - INFO - ...\n",
      "2024-11-27 11:42:34,071 - INFO - ...\n",
      "2024-11-27 11:42:35,080 - INFO - ...\n",
      "2024-11-27 11:42:36,110 - INFO - ...\n",
      "2024-11-27 11:42:37,124 - INFO - ...\n",
      "2024-11-27 11:42:38,186 - INFO - ...\n",
      "2024-11-27 11:42:39,194 - INFO - ...\n",
      "2024-11-27 11:42:40,239 - INFO - ...\n",
      "2024-11-27 11:42:41,260 - INFO - ...\n",
      "2024-11-27 11:42:42,299 - INFO - ...\n",
      "2024-11-27 11:42:43,322 - INFO - ...\n",
      "2024-11-27 11:42:44,331 - INFO - ...\n",
      "2024-11-27 11:42:45,393 - INFO - ...\n",
      "2024-11-27 11:42:46,407 - INFO - ...\n",
      "2024-11-27 11:42:47,429 - INFO - ...\n",
      "2024-11-27 11:42:48,449 - INFO - ...\n",
      "2024-11-27 11:42:49,455 - INFO - ...\n",
      "2024-11-27 11:42:49,463 - INFO - Data indexed. self.total_indexing_time=53058.6640625s\n",
      "2024-11-27 11:42:49,486 - INFO - Load pretrained SentenceTransformer: sentence-transformers/all-MiniLM-L6-v2\n",
      "2024-11-27 11:42:50,087 - INFO - Use pytorch device_name: mps\n"
     ]
    },
    {
     "data": {
      "application/vnd.jupyter.widget-view+json": {
       "model_id": "30509063d5734555a8c7826b9783d645",
       "version_major": 2,
       "version_minor": 0
      },
      "text/plain": [
       "Batches:   0%|          | 0/1 [00:00<?, ?it/s]"
      ]
     },
     "metadata": {},
     "output_type": "display_data"
    },
    {
     "data": {
      "application/vnd.jupyter.widget-view+json": {
       "model_id": "f7eda2942f474e9e99f53262719d209f",
       "version_major": 2,
       "version_minor": 0
      },
      "text/plain": [
       "Batches:   0%|          | 0/1 [00:00<?, ?it/s]"
      ]
     },
     "metadata": {},
     "output_type": "display_data"
    },
    {
     "data": {
      "application/vnd.jupyter.widget-view+json": {
       "model_id": "e4eeb2b101884eaaba0a1a2a5b3d4116",
       "version_major": 2,
       "version_minor": 0
      },
      "text/plain": [
       "Batches:   0%|          | 0/1 [00:00<?, ?it/s]"
      ]
     },
     "metadata": {},
     "output_type": "display_data"
    },
    {
     "data": {
      "application/vnd.jupyter.widget-view+json": {
       "model_id": "3ab19318851045afa71c9e492924fbd4",
       "version_major": 2,
       "version_minor": 0
      },
      "text/plain": [
       "Batches:   0%|          | 0/1 [00:00<?, ?it/s]"
      ]
     },
     "metadata": {},
     "output_type": "display_data"
    },
    {
     "data": {
      "application/vnd.jupyter.widget-view+json": {
       "model_id": "64b936a9c6e147608665a92ff09a6279",
       "version_major": 2,
       "version_minor": 0
      },
      "text/plain": [
       "Batches:   0%|          | 0/1 [00:00<?, ?it/s]"
      ]
     },
     "metadata": {},
     "output_type": "display_data"
    },
    {
     "data": {
      "application/vnd.jupyter.widget-view+json": {
       "model_id": "74d7911666a9450ba76a81740df0f2b8",
       "version_major": 2,
       "version_minor": 0
      },
      "text/plain": [
       "Batches:   0%|          | 0/1 [00:00<?, ?it/s]"
      ]
     },
     "metadata": {},
     "output_type": "display_data"
    },
    {
     "data": {
      "application/vnd.jupyter.widget-view+json": {
       "model_id": "9334ca542fc34c3e9661ae53c66d7c21",
       "version_major": 2,
       "version_minor": 0
      },
      "text/plain": [
       "Batches:   0%|          | 0/1 [00:00<?, ?it/s]"
      ]
     },
     "metadata": {},
     "output_type": "display_data"
    },
    {
     "data": {
      "application/vnd.jupyter.widget-view+json": {
       "model_id": "c8e24309edb84b1f841570417ec77620",
       "version_major": 2,
       "version_minor": 0
      },
      "text/plain": [
       "Batches:   0%|          | 0/1 [00:00<?, ?it/s]"
      ]
     },
     "metadata": {},
     "output_type": "display_data"
    },
    {
     "data": {
      "application/vnd.jupyter.widget-view+json": {
       "model_id": "bee950dc87cf41769c46741aa79f5640",
       "version_major": 2,
       "version_minor": 0
      },
      "text/plain": [
       "Batches:   0%|          | 0/1 [00:00<?, ?it/s]"
      ]
     },
     "metadata": {},
     "output_type": "display_data"
    },
    {
     "data": {
      "application/vnd.jupyter.widget-view+json": {
       "model_id": "0e20da2d57894fcb90c9a9c06e8e7c4d",
       "version_major": 2,
       "version_minor": 0
      },
      "text/plain": [
       "Batches:   0%|          | 0/1 [00:00<?, ?it/s]"
      ]
     },
     "metadata": {},
     "output_type": "display_data"
    },
    {
     "data": {
      "application/vnd.jupyter.widget-view+json": {
       "model_id": "c5ccc3a00e3f4c5b87b7eef3f9508d58",
       "version_major": 2,
       "version_minor": 0
      },
      "text/plain": [
       "Batches:   0%|          | 0/1 [00:00<?, ?it/s]"
      ]
     },
     "metadata": {},
     "output_type": "display_data"
    },
    {
     "data": {
      "application/vnd.jupyter.widget-view+json": {
       "model_id": "ba41fc77ad824063a507594d238e534c",
       "version_major": 2,
       "version_minor": 0
      },
      "text/plain": [
       "Batches:   0%|          | 0/1 [00:00<?, ?it/s]"
      ]
     },
     "metadata": {},
     "output_type": "display_data"
    },
    {
     "data": {
      "application/vnd.jupyter.widget-view+json": {
       "model_id": "235658622415401793624fb6b57d5333",
       "version_major": 2,
       "version_minor": 0
      },
      "text/plain": [
       "Batches:   0%|          | 0/1 [00:00<?, ?it/s]"
      ]
     },
     "metadata": {},
     "output_type": "display_data"
    },
    {
     "name": "stderr",
     "output_type": "stream",
     "text": [
      "2024-11-27 11:42:54,460 - INFO - Calculating retrieval metrics for test_id: 028ad36b-7e1b-4533-a3b6-ecc89415e354\n",
      "2024-11-27 11:42:54,472 - INFO - Overall f1 at 4 for retrieval: 0.3837301587301587\n",
      "[I 2024-11-27 11:42:54,474] Trial 6 finished with value: 0.7393537576147934 and parameters: {'model_info': {'provider': 'hf', 'model': 'sentence-transformers/all-MiniLM-L6-v2', 'dim': 384}, 'algorithm': 'flat', 'var_dtype': 'float16', 'ret_k': 4}. Best is trial 2 with value: 0.9698636075136011.\n",
      "2024-11-27 11:42:54,475 - INFO - Running for Retriever: DefaultQueryRetriever with additional_schema_fields=None\n",
      "2024-11-27 11:42:54,491 - INFO - Load pretrained SentenceTransformer: intfloat/e5-large-v2\n"
     ]
    },
    {
     "name": "stdout",
     "output_type": "stream",
     "text": [
      "\n",
      "\n",
      " Running for: \n",
      " model_str: intfloat/e5-large-v2 \n",
      " ef_runtime: 50 \n",
      " ef_construction: 150 \n",
      " m: 16 \n",
      "\n",
      "\n"
     ]
    },
    {
     "name": "stderr",
     "output_type": "stream",
     "text": [
      "2024-11-27 11:42:59,515 - INFO - Use pytorch device_name: mps\n"
     ]
    },
    {
     "data": {
      "application/vnd.jupyter.widget-view+json": {
       "model_id": "bf2f304a49b8434e98a317e7a5050422",
       "version_major": 2,
       "version_minor": 0
      },
      "text/plain": [
       "Batches:   0%|          | 0/1 [00:00<?, ?it/s]"
      ]
     },
     "metadata": {},
     "output_type": "display_data"
    },
    {
     "data": {
      "application/vnd.jupyter.widget-view+json": {
       "model_id": "2d7b4b8fd99946ce815ef40286535b3e",
       "version_major": 2,
       "version_minor": 0
      },
      "text/plain": [
       "Batches:   0%|          | 0/8 [00:00<?, ?it/s]"
      ]
     },
     "metadata": {},
     "output_type": "display_data"
    },
    {
     "name": "stderr",
     "output_type": "stream",
     "text": [
      "2024-11-27 11:43:51,694 - INFO - Indexing data...\n",
      "2024-11-27 11:44:03,635 - INFO - Data indexed. self.total_indexing_time=18692.1640625s\n",
      "2024-11-27 11:44:03,726 - INFO - Load pretrained SentenceTransformer: intfloat/e5-large-v2\n",
      "2024-11-27 11:44:08,527 - INFO - Use pytorch device_name: mps\n"
     ]
    },
    {
     "data": {
      "application/vnd.jupyter.widget-view+json": {
       "model_id": "39ebcdbc8e5b40c0a25b28a792347389",
       "version_major": 2,
       "version_minor": 0
      },
      "text/plain": [
       "Batches:   0%|          | 0/1 [00:00<?, ?it/s]"
      ]
     },
     "metadata": {},
     "output_type": "display_data"
    },
    {
     "data": {
      "application/vnd.jupyter.widget-view+json": {
       "model_id": "d6e7d52957284c81a12a3113cf668b93",
       "version_major": 2,
       "version_minor": 0
      },
      "text/plain": [
       "Batches:   0%|          | 0/1 [00:00<?, ?it/s]"
      ]
     },
     "metadata": {},
     "output_type": "display_data"
    },
    {
     "data": {
      "application/vnd.jupyter.widget-view+json": {
       "model_id": "6ee6390f3a584cf388a7ddb382261262",
       "version_major": 2,
       "version_minor": 0
      },
      "text/plain": [
       "Batches:   0%|          | 0/1 [00:00<?, ?it/s]"
      ]
     },
     "metadata": {},
     "output_type": "display_data"
    },
    {
     "data": {
      "application/vnd.jupyter.widget-view+json": {
       "model_id": "d31dcb2e7bdd4884b895d76f5d909600",
       "version_major": 2,
       "version_minor": 0
      },
      "text/plain": [
       "Batches:   0%|          | 0/1 [00:00<?, ?it/s]"
      ]
     },
     "metadata": {},
     "output_type": "display_data"
    },
    {
     "data": {
      "application/vnd.jupyter.widget-view+json": {
       "model_id": "416406f30fd847889081b0e866ab38cc",
       "version_major": 2,
       "version_minor": 0
      },
      "text/plain": [
       "Batches:   0%|          | 0/1 [00:00<?, ?it/s]"
      ]
     },
     "metadata": {},
     "output_type": "display_data"
    },
    {
     "data": {
      "application/vnd.jupyter.widget-view+json": {
       "model_id": "95276cc58a1a47b9ae8952cb21569c69",
       "version_major": 2,
       "version_minor": 0
      },
      "text/plain": [
       "Batches:   0%|          | 0/1 [00:00<?, ?it/s]"
      ]
     },
     "metadata": {},
     "output_type": "display_data"
    },
    {
     "data": {
      "application/vnd.jupyter.widget-view+json": {
       "model_id": "f0ab8cb2d0fe441db781f562bc2d0f92",
       "version_major": 2,
       "version_minor": 0
      },
      "text/plain": [
       "Batches:   0%|          | 0/1 [00:00<?, ?it/s]"
      ]
     },
     "metadata": {},
     "output_type": "display_data"
    },
    {
     "data": {
      "application/vnd.jupyter.widget-view+json": {
       "model_id": "4fe3469dfac7411ea35eab405f796ca9",
       "version_major": 2,
       "version_minor": 0
      },
      "text/plain": [
       "Batches:   0%|          | 0/1 [00:00<?, ?it/s]"
      ]
     },
     "metadata": {},
     "output_type": "display_data"
    },
    {
     "data": {
      "application/vnd.jupyter.widget-view+json": {
       "model_id": "28512420e9f448c797675120f4e6e1e7",
       "version_major": 2,
       "version_minor": 0
      },
      "text/plain": [
       "Batches:   0%|          | 0/1 [00:00<?, ?it/s]"
      ]
     },
     "metadata": {},
     "output_type": "display_data"
    },
    {
     "data": {
      "application/vnd.jupyter.widget-view+json": {
       "model_id": "90ee2d11653c44acb9df0afc585a705c",
       "version_major": 2,
       "version_minor": 0
      },
      "text/plain": [
       "Batches:   0%|          | 0/1 [00:00<?, ?it/s]"
      ]
     },
     "metadata": {},
     "output_type": "display_data"
    },
    {
     "data": {
      "application/vnd.jupyter.widget-view+json": {
       "model_id": "98028ab2fff248b6a5e924deeccaff6d",
       "version_major": 2,
       "version_minor": 0
      },
      "text/plain": [
       "Batches:   0%|          | 0/1 [00:00<?, ?it/s]"
      ]
     },
     "metadata": {},
     "output_type": "display_data"
    },
    {
     "data": {
      "application/vnd.jupyter.widget-view+json": {
       "model_id": "e37e137fa195447692b1270031fa92af",
       "version_major": 2,
       "version_minor": 0
      },
      "text/plain": [
       "Batches:   0%|          | 0/1 [00:00<?, ?it/s]"
      ]
     },
     "metadata": {},
     "output_type": "display_data"
    },
    {
     "data": {
      "application/vnd.jupyter.widget-view+json": {
       "model_id": "1fbc7720afe54c4fa9ed6667c2de2f12",
       "version_major": 2,
       "version_minor": 0
      },
      "text/plain": [
       "Batches:   0%|          | 0/1 [00:00<?, ?it/s]"
      ]
     },
     "metadata": {},
     "output_type": "display_data"
    },
    {
     "name": "stderr",
     "output_type": "stream",
     "text": [
      "2024-11-27 11:44:19,650 - INFO - Calculating retrieval metrics for test_id: bb7dcd8f-9140-41b0-9eda-0f4df437d5a1\n",
      "2024-11-27 11:44:19,688 - INFO - Overall f1 at 7 for retrieval: 0.38826081326081324\n",
      "[I 2024-11-27 11:44:19,693] Trial 7 finished with value: 0.4121434241323299 and parameters: {'model_info': {'provider': 'hf', 'model': 'intfloat/e5-large-v2', 'dim': 1024}, 'algorithm': 'hnsw', 'var_dtype': 'float32', 'ret_k': 7, 'ef_runtime': 50, 'ef_construction': 150, 'm': 16}. Best is trial 2 with value: 0.9698636075136011.\n",
      "2024-11-27 11:44:19,701 - INFO - Running for Retriever: DefaultQueryRetriever with additional_schema_fields=None\n",
      "2024-11-27 11:44:19,718 - INFO - Load pretrained SentenceTransformer: intfloat/e5-large-v2\n"
     ]
    },
    {
     "name": "stdout",
     "output_type": "stream",
     "text": [
      "\n",
      "\n",
      " Running for: \n",
      " model_str: intfloat/e5-large-v2 \n",
      " algorithm: flat\n"
     ]
    },
    {
     "name": "stderr",
     "output_type": "stream",
     "text": [
      "2024-11-27 11:44:24,720 - INFO - Use pytorch device_name: mps\n"
     ]
    },
    {
     "data": {
      "application/vnd.jupyter.widget-view+json": {
       "model_id": "f45698e6ce7e47e7867df6475a6be1ac",
       "version_major": 2,
       "version_minor": 0
      },
      "text/plain": [
       "Batches:   0%|          | 0/1 [00:00<?, ?it/s]"
      ]
     },
     "metadata": {},
     "output_type": "display_data"
    },
    {
     "data": {
      "application/vnd.jupyter.widget-view+json": {
       "model_id": "e83f5841580d4c9ab5e3b1fa94a34469",
       "version_major": 2,
       "version_minor": 0
      },
      "text/plain": [
       "Batches:   0%|          | 0/8 [00:00<?, ?it/s]"
      ]
     },
     "metadata": {},
     "output_type": "display_data"
    },
    {
     "name": "stderr",
     "output_type": "stream",
     "text": [
      "2024-11-27 11:45:12,851 - INFO - Indexing data...\n",
      "2024-11-27 11:45:16,407 - INFO - Data indexed. self.total_indexing_time=18844.81640625s\n",
      "2024-11-27 11:45:16,581 - INFO - Load pretrained SentenceTransformer: intfloat/e5-large-v2\n",
      "2024-11-27 11:45:19,843 - INFO - Use pytorch device_name: mps\n"
     ]
    },
    {
     "data": {
      "application/vnd.jupyter.widget-view+json": {
       "model_id": "34d12ce2aee04bceb3e3e4d3fc321289",
       "version_major": 2,
       "version_minor": 0
      },
      "text/plain": [
       "Batches:   0%|          | 0/1 [00:00<?, ?it/s]"
      ]
     },
     "metadata": {},
     "output_type": "display_data"
    },
    {
     "data": {
      "application/vnd.jupyter.widget-view+json": {
       "model_id": "53e2ad069c234cda9d2f89b987b46024",
       "version_major": 2,
       "version_minor": 0
      },
      "text/plain": [
       "Batches:   0%|          | 0/1 [00:00<?, ?it/s]"
      ]
     },
     "metadata": {},
     "output_type": "display_data"
    },
    {
     "data": {
      "application/vnd.jupyter.widget-view+json": {
       "model_id": "0d19d8c9419d443bb366fa35aafdec05",
       "version_major": 2,
       "version_minor": 0
      },
      "text/plain": [
       "Batches:   0%|          | 0/1 [00:00<?, ?it/s]"
      ]
     },
     "metadata": {},
     "output_type": "display_data"
    },
    {
     "data": {
      "application/vnd.jupyter.widget-view+json": {
       "model_id": "5566f9b73961481c86e4201f668d0258",
       "version_major": 2,
       "version_minor": 0
      },
      "text/plain": [
       "Batches:   0%|          | 0/1 [00:00<?, ?it/s]"
      ]
     },
     "metadata": {},
     "output_type": "display_data"
    },
    {
     "data": {
      "application/vnd.jupyter.widget-view+json": {
       "model_id": "88caa9f26cd447639a188804da6c40fd",
       "version_major": 2,
       "version_minor": 0
      },
      "text/plain": [
       "Batches:   0%|          | 0/1 [00:00<?, ?it/s]"
      ]
     },
     "metadata": {},
     "output_type": "display_data"
    },
    {
     "data": {
      "application/vnd.jupyter.widget-view+json": {
       "model_id": "14ca11bd188d46f0b9a11ccb840cd6df",
       "version_major": 2,
       "version_minor": 0
      },
      "text/plain": [
       "Batches:   0%|          | 0/1 [00:00<?, ?it/s]"
      ]
     },
     "metadata": {},
     "output_type": "display_data"
    },
    {
     "data": {
      "application/vnd.jupyter.widget-view+json": {
       "model_id": "eddd10a5b4124bf9bfd1fe9a591f3d8c",
       "version_major": 2,
       "version_minor": 0
      },
      "text/plain": [
       "Batches:   0%|          | 0/1 [00:00<?, ?it/s]"
      ]
     },
     "metadata": {},
     "output_type": "display_data"
    },
    {
     "data": {
      "application/vnd.jupyter.widget-view+json": {
       "model_id": "c2128538d1634d97a0ace05e379c6dcf",
       "version_major": 2,
       "version_minor": 0
      },
      "text/plain": [
       "Batches:   0%|          | 0/1 [00:00<?, ?it/s]"
      ]
     },
     "metadata": {},
     "output_type": "display_data"
    },
    {
     "data": {
      "application/vnd.jupyter.widget-view+json": {
       "model_id": "ceff752a93f6485f93336e9d89635e6f",
       "version_major": 2,
       "version_minor": 0
      },
      "text/plain": [
       "Batches:   0%|          | 0/1 [00:00<?, ?it/s]"
      ]
     },
     "metadata": {},
     "output_type": "display_data"
    },
    {
     "data": {
      "application/vnd.jupyter.widget-view+json": {
       "model_id": "6c6e0dd57c1c48bd9ce56349da10da26",
       "version_major": 2,
       "version_minor": 0
      },
      "text/plain": [
       "Batches:   0%|          | 0/1 [00:00<?, ?it/s]"
      ]
     },
     "metadata": {},
     "output_type": "display_data"
    },
    {
     "data": {
      "application/vnd.jupyter.widget-view+json": {
       "model_id": "58f524e1cfa74c73a3957f1b9a8d4ccd",
       "version_major": 2,
       "version_minor": 0
      },
      "text/plain": [
       "Batches:   0%|          | 0/1 [00:00<?, ?it/s]"
      ]
     },
     "metadata": {},
     "output_type": "display_data"
    },
    {
     "data": {
      "application/vnd.jupyter.widget-view+json": {
       "model_id": "0f9853a768c948c9bdefbbb9ea6ee670",
       "version_major": 2,
       "version_minor": 0
      },
      "text/plain": [
       "Batches:   0%|          | 0/1 [00:00<?, ?it/s]"
      ]
     },
     "metadata": {},
     "output_type": "display_data"
    },
    {
     "data": {
      "application/vnd.jupyter.widget-view+json": {
       "model_id": "36af77882211488f89c29e184fe6350b",
       "version_major": 2,
       "version_minor": 0
      },
      "text/plain": [
       "Batches:   0%|          | 0/1 [00:00<?, ?it/s]"
      ]
     },
     "metadata": {},
     "output_type": "display_data"
    },
    {
     "name": "stderr",
     "output_type": "stream",
     "text": [
      "2024-11-27 11:45:27,972 - INFO - Calculating retrieval metrics for test_id: 8058f68d-dcde-481b-ba12-ab1c4edae8c7\n",
      "2024-11-27 11:45:28,162 - INFO - Overall f1 at 6 for retrieval: 0.4332671957671958\n",
      "[I 2024-11-27 11:45:28,168] Trial 8 finished with value: 0.4547337982756203 and parameters: {'model_info': {'provider': 'hf', 'model': 'intfloat/e5-large-v2', 'dim': 1024}, 'algorithm': 'flat', 'var_dtype': 'float16', 'ret_k': 6}. Best is trial 2 with value: 0.9698636075136011.\n",
      "2024-11-27 11:45:28,269 - INFO - Running for Retriever: DefaultQueryRetriever with additional_schema_fields=None\n"
     ]
    },
    {
     "name": "stdout",
     "output_type": "stream",
     "text": [
      "\n",
      "\n",
      " Running for: \n",
      " model_str: intfloat/e5-large-v2 \n",
      " algorithm: flat\n"
     ]
    },
    {
     "name": "stderr",
     "output_type": "stream",
     "text": [
      "2024-11-27 11:45:28,563 - INFO - Load pretrained SentenceTransformer: intfloat/e5-large-v2\n",
      "2024-11-27 11:45:32,120 - INFO - Use pytorch device_name: mps\n"
     ]
    },
    {
     "data": {
      "application/vnd.jupyter.widget-view+json": {
       "model_id": "f2cbb13e4c884472bbb0d67450f65799",
       "version_major": 2,
       "version_minor": 0
      },
      "text/plain": [
       "Batches:   0%|          | 0/1 [00:00<?, ?it/s]"
      ]
     },
     "metadata": {},
     "output_type": "display_data"
    },
    {
     "data": {
      "application/vnd.jupyter.widget-view+json": {
       "model_id": "043b278ba6ae42fab72b204e06b28316",
       "version_major": 2,
       "version_minor": 0
      },
      "text/plain": [
       "Batches:   0%|          | 0/8 [00:00<?, ?it/s]"
      ]
     },
     "metadata": {},
     "output_type": "display_data"
    },
    {
     "name": "stderr",
     "output_type": "stream",
     "text": [
      "2024-11-27 11:46:13,434 - INFO - Indexing data...\n",
      "2024-11-27 11:46:16,196 - INFO - Data indexed. self.total_indexing_time=32532.939453125s\n",
      "2024-11-27 11:46:16,239 - INFO - Load pretrained SentenceTransformer: intfloat/e5-large-v2\n",
      "2024-11-27 11:46:20,459 - INFO - Use pytorch device_name: mps\n"
     ]
    },
    {
     "data": {
      "application/vnd.jupyter.widget-view+json": {
       "model_id": "f8235a686b244ff184438499106c564a",
       "version_major": 2,
       "version_minor": 0
      },
      "text/plain": [
       "Batches:   0%|          | 0/1 [00:00<?, ?it/s]"
      ]
     },
     "metadata": {},
     "output_type": "display_data"
    },
    {
     "data": {
      "application/vnd.jupyter.widget-view+json": {
       "model_id": "ca2823ecd4d3482a8cc2cef5dcf5ffbe",
       "version_major": 2,
       "version_minor": 0
      },
      "text/plain": [
       "Batches:   0%|          | 0/1 [00:00<?, ?it/s]"
      ]
     },
     "metadata": {},
     "output_type": "display_data"
    },
    {
     "data": {
      "application/vnd.jupyter.widget-view+json": {
       "model_id": "3748ee70ebfb4f7caead0cc42ee592d4",
       "version_major": 2,
       "version_minor": 0
      },
      "text/plain": [
       "Batches:   0%|          | 0/1 [00:00<?, ?it/s]"
      ]
     },
     "metadata": {},
     "output_type": "display_data"
    },
    {
     "data": {
      "application/vnd.jupyter.widget-view+json": {
       "model_id": "bdee2019bf244491b49489b34af0da57",
       "version_major": 2,
       "version_minor": 0
      },
      "text/plain": [
       "Batches:   0%|          | 0/1 [00:00<?, ?it/s]"
      ]
     },
     "metadata": {},
     "output_type": "display_data"
    },
    {
     "data": {
      "application/vnd.jupyter.widget-view+json": {
       "model_id": "a5513c2bfd0241a3bd96614111d74b2e",
       "version_major": 2,
       "version_minor": 0
      },
      "text/plain": [
       "Batches:   0%|          | 0/1 [00:00<?, ?it/s]"
      ]
     },
     "metadata": {},
     "output_type": "display_data"
    },
    {
     "data": {
      "application/vnd.jupyter.widget-view+json": {
       "model_id": "1da533205da949089d991c0543214098",
       "version_major": 2,
       "version_minor": 0
      },
      "text/plain": [
       "Batches:   0%|          | 0/1 [00:00<?, ?it/s]"
      ]
     },
     "metadata": {},
     "output_type": "display_data"
    },
    {
     "data": {
      "application/vnd.jupyter.widget-view+json": {
       "model_id": "40f61c40555b4ab39a6bcf843d6fc756",
       "version_major": 2,
       "version_minor": 0
      },
      "text/plain": [
       "Batches:   0%|          | 0/1 [00:00<?, ?it/s]"
      ]
     },
     "metadata": {},
     "output_type": "display_data"
    },
    {
     "data": {
      "application/vnd.jupyter.widget-view+json": {
       "model_id": "c1eba1a91e604a8b966d3392d8e96320",
       "version_major": 2,
       "version_minor": 0
      },
      "text/plain": [
       "Batches:   0%|          | 0/1 [00:00<?, ?it/s]"
      ]
     },
     "metadata": {},
     "output_type": "display_data"
    },
    {
     "data": {
      "application/vnd.jupyter.widget-view+json": {
       "model_id": "6bbb7d1d72174a1781fa7cd828cbed1d",
       "version_major": 2,
       "version_minor": 0
      },
      "text/plain": [
       "Batches:   0%|          | 0/1 [00:00<?, ?it/s]"
      ]
     },
     "metadata": {},
     "output_type": "display_data"
    },
    {
     "data": {
      "application/vnd.jupyter.widget-view+json": {
       "model_id": "d18f44cb51e440e1a146488a9d4e9c96",
       "version_major": 2,
       "version_minor": 0
      },
      "text/plain": [
       "Batches:   0%|          | 0/1 [00:00<?, ?it/s]"
      ]
     },
     "metadata": {},
     "output_type": "display_data"
    },
    {
     "data": {
      "application/vnd.jupyter.widget-view+json": {
       "model_id": "dd109e60be0e44979e8660dea3c3a167",
       "version_major": 2,
       "version_minor": 0
      },
      "text/plain": [
       "Batches:   0%|          | 0/1 [00:00<?, ?it/s]"
      ]
     },
     "metadata": {},
     "output_type": "display_data"
    },
    {
     "data": {
      "application/vnd.jupyter.widget-view+json": {
       "model_id": "b3b7557a649d4eaf8183af655aa99b6b",
       "version_major": 2,
       "version_minor": 0
      },
      "text/plain": [
       "Batches:   0%|          | 0/1 [00:00<?, ?it/s]"
      ]
     },
     "metadata": {},
     "output_type": "display_data"
    },
    {
     "data": {
      "application/vnd.jupyter.widget-view+json": {
       "model_id": "323793864a1f4e4b8d5338b6c8e8d8ec",
       "version_major": 2,
       "version_minor": 0
      },
      "text/plain": [
       "Batches:   0%|          | 0/1 [00:00<?, ?it/s]"
      ]
     },
     "metadata": {},
     "output_type": "display_data"
    },
    {
     "name": "stderr",
     "output_type": "stream",
     "text": [
      "2024-11-27 11:46:23,964 - INFO - Calculating retrieval metrics for test_id: eda6a45c-0f05-4d2b-b373-b5b6ef4ff38f\n",
      "2024-11-27 11:46:23,993 - INFO - Overall f1 at 8 for retrieval: 0.37765752765752775\n",
      "[I 2024-11-27 11:46:23,998] Trial 9 finished with value: 0.4024773652603096 and parameters: {'model_info': {'provider': 'hf', 'model': 'intfloat/e5-large-v2', 'dim': 1024}, 'algorithm': 'flat', 'var_dtype': 'float32', 'ret_k': 8}. Best is trial 2 with value: 0.9698636075136011.\n",
      "2024-11-27 11:46:24,022 - INFO - Running for Retriever: DefaultQueryRetriever with additional_schema_fields=None\n",
      "2024-11-27 11:46:24,054 - INFO - Load pretrained SentenceTransformer: sentence-transformers/all-MiniLM-L6-v2\n"
     ]
    },
    {
     "name": "stdout",
     "output_type": "stream",
     "text": [
      "\n",
      "\n",
      " Running for: \n",
      " model_str: sentence-transformers/all-MiniLM-L6-v2 \n",
      " ef_runtime: 10 \n",
      " ef_construction: 100 \n",
      " m: 8 \n",
      "\n",
      "\n"
     ]
    },
    {
     "name": "stderr",
     "output_type": "stream",
     "text": [
      "2024-11-27 11:46:25,483 - INFO - Use pytorch device_name: mps\n"
     ]
    },
    {
     "data": {
      "application/vnd.jupyter.widget-view+json": {
       "model_id": "04cd0532e94148f59c7ae0bd10befb29",
       "version_major": 2,
       "version_minor": 0
      },
      "text/plain": [
       "Batches:   0%|          | 0/1 [00:00<?, ?it/s]"
      ]
     },
     "metadata": {},
     "output_type": "display_data"
    },
    {
     "data": {
      "application/vnd.jupyter.widget-view+json": {
       "model_id": "db8010a5c1bd4ffcb83c99560c265a9b",
       "version_major": 2,
       "version_minor": 0
      },
      "text/plain": [
       "Batches:   0%|          | 0/8 [00:00<?, ?it/s]"
      ]
     },
     "metadata": {},
     "output_type": "display_data"
    },
    {
     "name": "stderr",
     "output_type": "stream",
     "text": [
      "2024-11-27 11:46:27,347 - INFO - Indexing data...\n",
      "2024-11-27 11:46:30,137 - INFO - ...\n",
      "2024-11-27 11:46:31,146 - INFO - ...\n",
      "2024-11-27 11:46:32,151 - INFO - ...\n",
      "2024-11-27 11:46:33,193 - INFO - ...\n",
      "2024-11-27 11:46:34,205 - INFO - ...\n",
      "2024-11-27 11:46:35,213 - INFO - ...\n",
      "2024-11-27 11:46:36,226 - INFO - ...\n",
      "2024-11-27 11:46:37,235 - INFO - ...\n",
      "2024-11-27 11:46:38,247 - INFO - ...\n",
      "2024-11-27 11:46:38,254 - INFO - Data indexed. self.total_indexing_time=9391.7822265625s\n",
      "2024-11-27 11:46:38,277 - INFO - Load pretrained SentenceTransformer: sentence-transformers/all-MiniLM-L6-v2\n",
      "2024-11-27 11:46:39,086 - INFO - Use pytorch device_name: mps\n"
     ]
    },
    {
     "data": {
      "application/vnd.jupyter.widget-view+json": {
       "model_id": "0347039b582140b5bab9900177618090",
       "version_major": 2,
       "version_minor": 0
      },
      "text/plain": [
       "Batches:   0%|          | 0/1 [00:00<?, ?it/s]"
      ]
     },
     "metadata": {},
     "output_type": "display_data"
    },
    {
     "data": {
      "application/vnd.jupyter.widget-view+json": {
       "model_id": "c6dee85b102241d1bcb322414a6507a8",
       "version_major": 2,
       "version_minor": 0
      },
      "text/plain": [
       "Batches:   0%|          | 0/1 [00:00<?, ?it/s]"
      ]
     },
     "metadata": {},
     "output_type": "display_data"
    },
    {
     "data": {
      "application/vnd.jupyter.widget-view+json": {
       "model_id": "5502c537272244a18433077f8de27c74",
       "version_major": 2,
       "version_minor": 0
      },
      "text/plain": [
       "Batches:   0%|          | 0/1 [00:00<?, ?it/s]"
      ]
     },
     "metadata": {},
     "output_type": "display_data"
    },
    {
     "data": {
      "application/vnd.jupyter.widget-view+json": {
       "model_id": "3dbd3cf369c547fe9a169d4eacdb75b3",
       "version_major": 2,
       "version_minor": 0
      },
      "text/plain": [
       "Batches:   0%|          | 0/1 [00:00<?, ?it/s]"
      ]
     },
     "metadata": {},
     "output_type": "display_data"
    },
    {
     "data": {
      "application/vnd.jupyter.widget-view+json": {
       "model_id": "5f3f2e1778064209ae488db3b70083a0",
       "version_major": 2,
       "version_minor": 0
      },
      "text/plain": [
       "Batches:   0%|          | 0/1 [00:00<?, ?it/s]"
      ]
     },
     "metadata": {},
     "output_type": "display_data"
    },
    {
     "data": {
      "application/vnd.jupyter.widget-view+json": {
       "model_id": "1acfb6e8336c4e3ab8a2a1834d34249e",
       "version_major": 2,
       "version_minor": 0
      },
      "text/plain": [
       "Batches:   0%|          | 0/1 [00:00<?, ?it/s]"
      ]
     },
     "metadata": {},
     "output_type": "display_data"
    },
    {
     "data": {
      "application/vnd.jupyter.widget-view+json": {
       "model_id": "3e167e5b890b45cdbb9bfdfe1e197702",
       "version_major": 2,
       "version_minor": 0
      },
      "text/plain": [
       "Batches:   0%|          | 0/1 [00:00<?, ?it/s]"
      ]
     },
     "metadata": {},
     "output_type": "display_data"
    },
    {
     "data": {
      "application/vnd.jupyter.widget-view+json": {
       "model_id": "1d63a28dc6b941a6ba05bb2a649aae5c",
       "version_major": 2,
       "version_minor": 0
      },
      "text/plain": [
       "Batches:   0%|          | 0/1 [00:00<?, ?it/s]"
      ]
     },
     "metadata": {},
     "output_type": "display_data"
    },
    {
     "data": {
      "application/vnd.jupyter.widget-view+json": {
       "model_id": "48d17464c1b1412d9c79b32e346085b1",
       "version_major": 2,
       "version_minor": 0
      },
      "text/plain": [
       "Batches:   0%|          | 0/1 [00:00<?, ?it/s]"
      ]
     },
     "metadata": {},
     "output_type": "display_data"
    },
    {
     "data": {
      "application/vnd.jupyter.widget-view+json": {
       "model_id": "08f26b9bacdf420fab33c1077035930f",
       "version_major": 2,
       "version_minor": 0
      },
      "text/plain": [
       "Batches:   0%|          | 0/1 [00:00<?, ?it/s]"
      ]
     },
     "metadata": {},
     "output_type": "display_data"
    },
    {
     "data": {
      "application/vnd.jupyter.widget-view+json": {
       "model_id": "d23e4cea437d4b3096c53b0284253980",
       "version_major": 2,
       "version_minor": 0
      },
      "text/plain": [
       "Batches:   0%|          | 0/1 [00:00<?, ?it/s]"
      ]
     },
     "metadata": {},
     "output_type": "display_data"
    },
    {
     "data": {
      "application/vnd.jupyter.widget-view+json": {
       "model_id": "845e5df1e29a4baf97ed0a5470ce9afb",
       "version_major": 2,
       "version_minor": 0
      },
      "text/plain": [
       "Batches:   0%|          | 0/1 [00:00<?, ?it/s]"
      ]
     },
     "metadata": {},
     "output_type": "display_data"
    },
    {
     "data": {
      "application/vnd.jupyter.widget-view+json": {
       "model_id": "6fbbf58b53cb480cb3f538db5d702b34",
       "version_major": 2,
       "version_minor": 0
      },
      "text/plain": [
       "Batches:   0%|          | 0/1 [00:00<?, ?it/s]"
      ]
     },
     "metadata": {},
     "output_type": "display_data"
    },
    {
     "name": "stderr",
     "output_type": "stream",
     "text": [
      "2024-11-27 11:46:40,703 - INFO - Calculating retrieval metrics for test_id: f44bb26f-5f57-4ad7-8e31-07ab75a56df2\n",
      "2024-11-27 11:46:40,713 - INFO - Overall f1 at 1 for retrieval: 0.5432539682539683\n",
      "[I 2024-11-27 11:46:40,714] Trial 10 finished with value: 0.9291754283228413 and parameters: {'model_info': {'provider': 'hf', 'model': 'sentence-transformers/all-MiniLM-L6-v2', 'dim': 384}, 'algorithm': 'hnsw', 'var_dtype': 'float32', 'ret_k': 1, 'ef_runtime': 10, 'ef_construction': 100, 'm': 8}. Best is trial 2 with value: 0.9698636075136011.\n",
      "2024-11-27 11:46:40,715 - INFO - Running for Retriever: DefaultQueryRetriever with additional_schema_fields=None\n",
      "2024-11-27 11:46:40,781 - INFO - Load pretrained SentenceTransformer: sentence-transformers/all-MiniLM-L6-v2\n"
     ]
    },
    {
     "name": "stdout",
     "output_type": "stream",
     "text": [
      "\n",
      "\n",
      " Running for: \n",
      " model_str: sentence-transformers/all-MiniLM-L6-v2 \n",
      " ef_runtime: 10 \n",
      " ef_construction: 100 \n",
      " m: 8 \n",
      "\n",
      "\n"
     ]
    },
    {
     "name": "stderr",
     "output_type": "stream",
     "text": [
      "2024-11-27 11:46:41,516 - INFO - Use pytorch device_name: mps\n"
     ]
    },
    {
     "data": {
      "application/vnd.jupyter.widget-view+json": {
       "model_id": "67a2c68e12f34ef5937ba98ab6566bd7",
       "version_major": 2,
       "version_minor": 0
      },
      "text/plain": [
       "Batches:   0%|          | 0/1 [00:00<?, ?it/s]"
      ]
     },
     "metadata": {},
     "output_type": "display_data"
    },
    {
     "data": {
      "application/vnd.jupyter.widget-view+json": {
       "model_id": "8f916b50479749b18913709652f1a585",
       "version_major": 2,
       "version_minor": 0
      },
      "text/plain": [
       "Batches:   0%|          | 0/8 [00:00<?, ?it/s]"
      ]
     },
     "metadata": {},
     "output_type": "display_data"
    },
    {
     "name": "stderr",
     "output_type": "stream",
     "text": [
      "2024-11-27 11:46:43,527 - INFO - Indexing data...\n",
      "2024-11-27 11:46:47,443 - INFO - ...\n",
      "2024-11-27 11:46:48,453 - INFO - ...\n",
      "2024-11-27 11:46:49,762 - INFO - ...\n",
      "2024-11-27 11:46:50,783 - INFO - ...\n",
      "2024-11-27 11:46:52,150 - INFO - ...\n",
      "2024-11-27 11:46:53,250 - INFO - ...\n",
      "2024-11-27 11:46:54,257 - INFO - ...\n",
      "2024-11-27 11:46:55,263 - INFO - ...\n",
      "2024-11-27 11:46:56,271 - INFO - ...\n",
      "2024-11-27 11:46:57,333 - INFO - ...\n",
      "2024-11-27 11:46:58,341 - INFO - ...\n",
      "2024-11-27 11:46:59,344 - INFO - ...\n",
      "2024-11-27 11:47:00,354 - INFO - ...\n",
      "2024-11-27 11:47:00,363 - INFO - Data indexed. self.total_indexing_time=12371.37109375s\n",
      "2024-11-27 11:47:00,388 - INFO - Load pretrained SentenceTransformer: sentence-transformers/all-MiniLM-L6-v2\n",
      "2024-11-27 11:47:01,047 - INFO - Use pytorch device_name: mps\n"
     ]
    },
    {
     "data": {
      "application/vnd.jupyter.widget-view+json": {
       "model_id": "2447707497614e94a9207433769e671b",
       "version_major": 2,
       "version_minor": 0
      },
      "text/plain": [
       "Batches:   0%|          | 0/1 [00:00<?, ?it/s]"
      ]
     },
     "metadata": {},
     "output_type": "display_data"
    },
    {
     "data": {
      "application/vnd.jupyter.widget-view+json": {
       "model_id": "0f3d4a73ca3e468299d80e63729c7233",
       "version_major": 2,
       "version_minor": 0
      },
      "text/plain": [
       "Batches:   0%|          | 0/1 [00:00<?, ?it/s]"
      ]
     },
     "metadata": {},
     "output_type": "display_data"
    },
    {
     "data": {
      "application/vnd.jupyter.widget-view+json": {
       "model_id": "5c2421d92de54284a0614725cf35490c",
       "version_major": 2,
       "version_minor": 0
      },
      "text/plain": [
       "Batches:   0%|          | 0/1 [00:00<?, ?it/s]"
      ]
     },
     "metadata": {},
     "output_type": "display_data"
    },
    {
     "data": {
      "application/vnd.jupyter.widget-view+json": {
       "model_id": "2347e5a2ac1245be80d2694be7d7e6a3",
       "version_major": 2,
       "version_minor": 0
      },
      "text/plain": [
       "Batches:   0%|          | 0/1 [00:00<?, ?it/s]"
      ]
     },
     "metadata": {},
     "output_type": "display_data"
    },
    {
     "data": {
      "application/vnd.jupyter.widget-view+json": {
       "model_id": "2362c095526a48488d19c4d6c8491a34",
       "version_major": 2,
       "version_minor": 0
      },
      "text/plain": [
       "Batches:   0%|          | 0/1 [00:00<?, ?it/s]"
      ]
     },
     "metadata": {},
     "output_type": "display_data"
    },
    {
     "data": {
      "application/vnd.jupyter.widget-view+json": {
       "model_id": "95b5f5ce14f34b6c9ccc2d298127d5a4",
       "version_major": 2,
       "version_minor": 0
      },
      "text/plain": [
       "Batches:   0%|          | 0/1 [00:00<?, ?it/s]"
      ]
     },
     "metadata": {},
     "output_type": "display_data"
    },
    {
     "data": {
      "application/vnd.jupyter.widget-view+json": {
       "model_id": "a5fd60fbcb4d4b7b8b2198839fc71e6e",
       "version_major": 2,
       "version_minor": 0
      },
      "text/plain": [
       "Batches:   0%|          | 0/1 [00:00<?, ?it/s]"
      ]
     },
     "metadata": {},
     "output_type": "display_data"
    },
    {
     "data": {
      "application/vnd.jupyter.widget-view+json": {
       "model_id": "f0dacf8481294fcabb9a5b1ec4ac1981",
       "version_major": 2,
       "version_minor": 0
      },
      "text/plain": [
       "Batches:   0%|          | 0/1 [00:00<?, ?it/s]"
      ]
     },
     "metadata": {},
     "output_type": "display_data"
    },
    {
     "data": {
      "application/vnd.jupyter.widget-view+json": {
       "model_id": "54b84c52c82f44ce9a13e3901172ca3f",
       "version_major": 2,
       "version_minor": 0
      },
      "text/plain": [
       "Batches:   0%|          | 0/1 [00:00<?, ?it/s]"
      ]
     },
     "metadata": {},
     "output_type": "display_data"
    },
    {
     "data": {
      "application/vnd.jupyter.widget-view+json": {
       "model_id": "58d4bf8f71ea4f4c9516017344d29607",
       "version_major": 2,
       "version_minor": 0
      },
      "text/plain": [
       "Batches:   0%|          | 0/1 [00:00<?, ?it/s]"
      ]
     },
     "metadata": {},
     "output_type": "display_data"
    },
    {
     "data": {
      "application/vnd.jupyter.widget-view+json": {
       "model_id": "fd69bb7d602e4afa91e1a52e4093167e",
       "version_major": 2,
       "version_minor": 0
      },
      "text/plain": [
       "Batches:   0%|          | 0/1 [00:00<?, ?it/s]"
      ]
     },
     "metadata": {},
     "output_type": "display_data"
    },
    {
     "data": {
      "application/vnd.jupyter.widget-view+json": {
       "model_id": "fb9b359ecf4b4af581e1c7900cc1cb36",
       "version_major": 2,
       "version_minor": 0
      },
      "text/plain": [
       "Batches:   0%|          | 0/1 [00:00<?, ?it/s]"
      ]
     },
     "metadata": {},
     "output_type": "display_data"
    },
    {
     "data": {
      "application/vnd.jupyter.widget-view+json": {
       "model_id": "f3af875bfc644675b77cf3f8c6c2c92b",
       "version_major": 2,
       "version_minor": 0
      },
      "text/plain": [
       "Batches:   0%|          | 0/1 [00:00<?, ?it/s]"
      ]
     },
     "metadata": {},
     "output_type": "display_data"
    },
    {
     "name": "stderr",
     "output_type": "stream",
     "text": [
      "2024-11-27 11:47:03,173 - INFO - Calculating retrieval metrics for test_id: ce851593-9f80-4b80-b68f-eeb9fc2b8c14\n",
      "2024-11-27 11:47:03,193 - INFO - Overall f1 at 1 for retrieval: 0.5432539682539683\n",
      "[I 2024-11-27 11:47:03,196] Trial 11 finished with value: 0.8857162241606011 and parameters: {'model_info': {'provider': 'hf', 'model': 'sentence-transformers/all-MiniLM-L6-v2', 'dim': 384}, 'algorithm': 'hnsw', 'var_dtype': 'float32', 'ret_k': 1, 'ef_runtime': 10, 'ef_construction': 100, 'm': 8}. Best is trial 2 with value: 0.9698636075136011.\n",
      "2024-11-27 11:47:03,199 - INFO - Running for Retriever: DefaultQueryRetriever with additional_schema_fields=None\n",
      "2024-11-27 11:47:03,231 - INFO - Load pretrained SentenceTransformer: sentence-transformers/all-MiniLM-L6-v2\n"
     ]
    },
    {
     "name": "stdout",
     "output_type": "stream",
     "text": [
      "\n",
      "\n",
      " Running for: \n",
      " model_str: sentence-transformers/all-MiniLM-L6-v2 \n",
      " ef_runtime: 10 \n",
      " ef_construction: 250 \n",
      " m: 8 \n",
      "\n",
      "\n"
     ]
    },
    {
     "name": "stderr",
     "output_type": "stream",
     "text": [
      "2024-11-27 11:47:03,925 - INFO - Use pytorch device_name: mps\n"
     ]
    },
    {
     "data": {
      "application/vnd.jupyter.widget-view+json": {
       "model_id": "42da14bb03a34369aca1ac922aed720a",
       "version_major": 2,
       "version_minor": 0
      },
      "text/plain": [
       "Batches:   0%|          | 0/1 [00:00<?, ?it/s]"
      ]
     },
     "metadata": {},
     "output_type": "display_data"
    },
    {
     "data": {
      "application/vnd.jupyter.widget-view+json": {
       "model_id": "17c3f5115ca14e5f88389da8fa2b7400",
       "version_major": 2,
       "version_minor": 0
      },
      "text/plain": [
       "Batches:   0%|          | 0/8 [00:00<?, ?it/s]"
      ]
     },
     "metadata": {},
     "output_type": "display_data"
    },
    {
     "name": "stderr",
     "output_type": "stream",
     "text": [
      "2024-11-27 11:47:05,921 - INFO - Indexing data...\n",
      "2024-11-27 11:47:10,536 - INFO - ...\n",
      "2024-11-27 11:47:11,544 - INFO - ...\n",
      "2024-11-27 11:47:12,553 - INFO - ...\n",
      "2024-11-27 11:47:13,556 - INFO - ...\n",
      "2024-11-27 11:47:14,563 - INFO - ...\n",
      "2024-11-27 11:47:15,586 - INFO - ...\n",
      "2024-11-27 11:47:16,591 - INFO - ...\n",
      "2024-11-27 11:47:17,601 - INFO - ...\n",
      "2024-11-27 11:47:18,613 - INFO - ...\n",
      "2024-11-27 11:47:19,636 - INFO - ...\n",
      "2024-11-27 11:47:20,650 - INFO - ...\n",
      "2024-11-27 11:47:21,705 - INFO - ...\n",
      "2024-11-27 11:47:21,732 - INFO - Data indexed. self.total_indexing_time=11042.8623046875s\n",
      "2024-11-27 11:47:21,757 - INFO - Load pretrained SentenceTransformer: sentence-transformers/all-MiniLM-L6-v2\n",
      "2024-11-27 11:47:22,739 - INFO - Use pytorch device_name: mps\n"
     ]
    },
    {
     "data": {
      "application/vnd.jupyter.widget-view+json": {
       "model_id": "690c6a6a94604e10ab7d06ba23cd4178",
       "version_major": 2,
       "version_minor": 0
      },
      "text/plain": [
       "Batches:   0%|          | 0/1 [00:00<?, ?it/s]"
      ]
     },
     "metadata": {},
     "output_type": "display_data"
    },
    {
     "data": {
      "application/vnd.jupyter.widget-view+json": {
       "model_id": "16dabd491ef14aad982ba2bba2bc4446",
       "version_major": 2,
       "version_minor": 0
      },
      "text/plain": [
       "Batches:   0%|          | 0/1 [00:00<?, ?it/s]"
      ]
     },
     "metadata": {},
     "output_type": "display_data"
    },
    {
     "data": {
      "application/vnd.jupyter.widget-view+json": {
       "model_id": "32cf6e09bf3e41bf8046efe36799c373",
       "version_major": 2,
       "version_minor": 0
      },
      "text/plain": [
       "Batches:   0%|          | 0/1 [00:00<?, ?it/s]"
      ]
     },
     "metadata": {},
     "output_type": "display_data"
    },
    {
     "data": {
      "application/vnd.jupyter.widget-view+json": {
       "model_id": "282e584c0e2f4024b640a43e6f4af326",
       "version_major": 2,
       "version_minor": 0
      },
      "text/plain": [
       "Batches:   0%|          | 0/1 [00:00<?, ?it/s]"
      ]
     },
     "metadata": {},
     "output_type": "display_data"
    },
    {
     "data": {
      "application/vnd.jupyter.widget-view+json": {
       "model_id": "5f1fbe504529453fabf6f0fb2dfbec06",
       "version_major": 2,
       "version_minor": 0
      },
      "text/plain": [
       "Batches:   0%|          | 0/1 [00:00<?, ?it/s]"
      ]
     },
     "metadata": {},
     "output_type": "display_data"
    },
    {
     "data": {
      "application/vnd.jupyter.widget-view+json": {
       "model_id": "21fde880c57a438c87d97aafe92641c4",
       "version_major": 2,
       "version_minor": 0
      },
      "text/plain": [
       "Batches:   0%|          | 0/1 [00:00<?, ?it/s]"
      ]
     },
     "metadata": {},
     "output_type": "display_data"
    },
    {
     "data": {
      "application/vnd.jupyter.widget-view+json": {
       "model_id": "8a90c06a3ea84e6dae96158f63215549",
       "version_major": 2,
       "version_minor": 0
      },
      "text/plain": [
       "Batches:   0%|          | 0/1 [00:00<?, ?it/s]"
      ]
     },
     "metadata": {},
     "output_type": "display_data"
    },
    {
     "data": {
      "application/vnd.jupyter.widget-view+json": {
       "model_id": "896325161bf14438beb0158914358978",
       "version_major": 2,
       "version_minor": 0
      },
      "text/plain": [
       "Batches:   0%|          | 0/1 [00:00<?, ?it/s]"
      ]
     },
     "metadata": {},
     "output_type": "display_data"
    },
    {
     "data": {
      "application/vnd.jupyter.widget-view+json": {
       "model_id": "1730b559493649ef987dfd807786357d",
       "version_major": 2,
       "version_minor": 0
      },
      "text/plain": [
       "Batches:   0%|          | 0/1 [00:00<?, ?it/s]"
      ]
     },
     "metadata": {},
     "output_type": "display_data"
    },
    {
     "data": {
      "application/vnd.jupyter.widget-view+json": {
       "model_id": "266f9dc9bf4e4868bfd2799bae2036d4",
       "version_major": 2,
       "version_minor": 0
      },
      "text/plain": [
       "Batches:   0%|          | 0/1 [00:00<?, ?it/s]"
      ]
     },
     "metadata": {},
     "output_type": "display_data"
    },
    {
     "data": {
      "application/vnd.jupyter.widget-view+json": {
       "model_id": "24c6036ac2fd4ddbb5775c18b6b3dc77",
       "version_major": 2,
       "version_minor": 0
      },
      "text/plain": [
       "Batches:   0%|          | 0/1 [00:00<?, ?it/s]"
      ]
     },
     "metadata": {},
     "output_type": "display_data"
    },
    {
     "data": {
      "application/vnd.jupyter.widget-view+json": {
       "model_id": "cc43c805f4de4cb6a7f2f8a2cf9246c7",
       "version_major": 2,
       "version_minor": 0
      },
      "text/plain": [
       "Batches:   0%|          | 0/1 [00:00<?, ?it/s]"
      ]
     },
     "metadata": {},
     "output_type": "display_data"
    },
    {
     "data": {
      "application/vnd.jupyter.widget-view+json": {
       "model_id": "feab53f3a02243edaf3cc8436cb97b64",
       "version_major": 2,
       "version_minor": 0
      },
      "text/plain": [
       "Batches:   0%|          | 0/1 [00:00<?, ?it/s]"
      ]
     },
     "metadata": {},
     "output_type": "display_data"
    },
    {
     "name": "stderr",
     "output_type": "stream",
     "text": [
      "2024-11-27 11:47:24,483 - INFO - Calculating retrieval metrics for test_id: 9ade21ca-2398-4b88-81ce-89d5ba71b0c9\n",
      "2024-11-27 11:47:24,489 - INFO - Overall f1 at 3 for retrieval: 0.6603174603174603\n",
      "[I 2024-11-27 11:47:24,492] Trial 12 finished with value: 1.0030430649073432 and parameters: {'model_info': {'provider': 'hf', 'model': 'sentence-transformers/all-MiniLM-L6-v2', 'dim': 384}, 'algorithm': 'hnsw', 'var_dtype': 'float32', 'ret_k': 3, 'ef_runtime': 10, 'ef_construction': 250, 'm': 8}. Best is trial 12 with value: 1.0030430649073432.\n",
      "2024-11-27 11:47:24,493 - INFO - Running for Retriever: DefaultQueryRetriever with additional_schema_fields=None\n",
      "2024-11-27 11:47:24,589 - INFO - Load pretrained SentenceTransformer: sentence-transformers/all-MiniLM-L6-v2\n"
     ]
    },
    {
     "name": "stdout",
     "output_type": "stream",
     "text": [
      "\n",
      "\n",
      " Running for: \n",
      " model_str: sentence-transformers/all-MiniLM-L6-v2 \n",
      " ef_runtime: 20 \n",
      " ef_construction: 250 \n",
      " m: 16 \n",
      "\n",
      "\n"
     ]
    },
    {
     "name": "stderr",
     "output_type": "stream",
     "text": [
      "2024-11-27 11:47:25,457 - INFO - Use pytorch device_name: mps\n"
     ]
    },
    {
     "data": {
      "application/vnd.jupyter.widget-view+json": {
       "model_id": "b6668e939b9c4a18925eca65b24b5af2",
       "version_major": 2,
       "version_minor": 0
      },
      "text/plain": [
       "Batches:   0%|          | 0/1 [00:00<?, ?it/s]"
      ]
     },
     "metadata": {},
     "output_type": "display_data"
    },
    {
     "data": {
      "application/vnd.jupyter.widget-view+json": {
       "model_id": "4ca9aa6be4fb42b29b91470aa90935a8",
       "version_major": 2,
       "version_minor": 0
      },
      "text/plain": [
       "Batches:   0%|          | 0/8 [00:00<?, ?it/s]"
      ]
     },
     "metadata": {},
     "output_type": "display_data"
    },
    {
     "name": "stderr",
     "output_type": "stream",
     "text": [
      "2024-11-27 11:47:27,411 - INFO - Indexing data...\n",
      "2024-11-27 11:47:32,360 - INFO - ...\n",
      "2024-11-27 11:47:33,365 - INFO - ...\n",
      "2024-11-27 11:47:34,374 - INFO - ...\n",
      "2024-11-27 11:47:35,381 - INFO - ...\n",
      "2024-11-27 11:47:36,388 - INFO - ...\n",
      "2024-11-27 11:47:37,395 - INFO - ...\n",
      "2024-11-27 11:47:38,406 - INFO - ...\n",
      "2024-11-27 11:47:39,417 - INFO - ...\n",
      "2024-11-27 11:47:40,427 - INFO - ...\n",
      "2024-11-27 11:47:41,431 - INFO - ...\n",
      "2024-11-27 11:47:41,436 - INFO - Data indexed. self.total_indexing_time=9920.47265625s\n",
      "2024-11-27 11:47:41,453 - INFO - Load pretrained SentenceTransformer: sentence-transformers/all-MiniLM-L6-v2\n",
      "2024-11-27 11:47:42,238 - INFO - Use pytorch device_name: mps\n"
     ]
    },
    {
     "data": {
      "application/vnd.jupyter.widget-view+json": {
       "model_id": "a30e3009064b4c77bd87346683d3d2dd",
       "version_major": 2,
       "version_minor": 0
      },
      "text/plain": [
       "Batches:   0%|          | 0/1 [00:00<?, ?it/s]"
      ]
     },
     "metadata": {},
     "output_type": "display_data"
    },
    {
     "data": {
      "application/vnd.jupyter.widget-view+json": {
       "model_id": "0d6a102cf69e48b18022f3a643cdd2db",
       "version_major": 2,
       "version_minor": 0
      },
      "text/plain": [
       "Batches:   0%|          | 0/1 [00:00<?, ?it/s]"
      ]
     },
     "metadata": {},
     "output_type": "display_data"
    },
    {
     "data": {
      "application/vnd.jupyter.widget-view+json": {
       "model_id": "233d6578a4784f4789d8f323548fee7f",
       "version_major": 2,
       "version_minor": 0
      },
      "text/plain": [
       "Batches:   0%|          | 0/1 [00:00<?, ?it/s]"
      ]
     },
     "metadata": {},
     "output_type": "display_data"
    },
    {
     "data": {
      "application/vnd.jupyter.widget-view+json": {
       "model_id": "2d404ec72ffe4a19bd380935e6bbf563",
       "version_major": 2,
       "version_minor": 0
      },
      "text/plain": [
       "Batches:   0%|          | 0/1 [00:00<?, ?it/s]"
      ]
     },
     "metadata": {},
     "output_type": "display_data"
    },
    {
     "data": {
      "application/vnd.jupyter.widget-view+json": {
       "model_id": "c2898f6253af45c9b3bd38eb5b60e80d",
       "version_major": 2,
       "version_minor": 0
      },
      "text/plain": [
       "Batches:   0%|          | 0/1 [00:00<?, ?it/s]"
      ]
     },
     "metadata": {},
     "output_type": "display_data"
    },
    {
     "data": {
      "application/vnd.jupyter.widget-view+json": {
       "model_id": "c2fbaa2e9e1344098199ca39f5fbc361",
       "version_major": 2,
       "version_minor": 0
      },
      "text/plain": [
       "Batches:   0%|          | 0/1 [00:00<?, ?it/s]"
      ]
     },
     "metadata": {},
     "output_type": "display_data"
    },
    {
     "data": {
      "application/vnd.jupyter.widget-view+json": {
       "model_id": "359f1374fce144eea26e142a9dfc4ae7",
       "version_major": 2,
       "version_minor": 0
      },
      "text/plain": [
       "Batches:   0%|          | 0/1 [00:00<?, ?it/s]"
      ]
     },
     "metadata": {},
     "output_type": "display_data"
    },
    {
     "data": {
      "application/vnd.jupyter.widget-view+json": {
       "model_id": "83aed196cf8b4e7bb4791c9f3f49beb3",
       "version_major": 2,
       "version_minor": 0
      },
      "text/plain": [
       "Batches:   0%|          | 0/1 [00:00<?, ?it/s]"
      ]
     },
     "metadata": {},
     "output_type": "display_data"
    },
    {
     "data": {
      "application/vnd.jupyter.widget-view+json": {
       "model_id": "3ed5e2d33c6e4580a4c3e3c60bfb2a1e",
       "version_major": 2,
       "version_minor": 0
      },
      "text/plain": [
       "Batches:   0%|          | 0/1 [00:00<?, ?it/s]"
      ]
     },
     "metadata": {},
     "output_type": "display_data"
    },
    {
     "data": {
      "application/vnd.jupyter.widget-view+json": {
       "model_id": "c847bf8493e241748adaccfab1b1bc23",
       "version_major": 2,
       "version_minor": 0
      },
      "text/plain": [
       "Batches:   0%|          | 0/1 [00:00<?, ?it/s]"
      ]
     },
     "metadata": {},
     "output_type": "display_data"
    },
    {
     "data": {
      "application/vnd.jupyter.widget-view+json": {
       "model_id": "44b18bf11df3439c8619581b29f04d10",
       "version_major": 2,
       "version_minor": 0
      },
      "text/plain": [
       "Batches:   0%|          | 0/1 [00:00<?, ?it/s]"
      ]
     },
     "metadata": {},
     "output_type": "display_data"
    },
    {
     "data": {
      "application/vnd.jupyter.widget-view+json": {
       "model_id": "089a575b5f4c432f8fc951c375f12b7a",
       "version_major": 2,
       "version_minor": 0
      },
      "text/plain": [
       "Batches:   0%|          | 0/1 [00:00<?, ?it/s]"
      ]
     },
     "metadata": {},
     "output_type": "display_data"
    },
    {
     "data": {
      "application/vnd.jupyter.widget-view+json": {
       "model_id": "6a5879a4f96e4d40a99c2ee258288e57",
       "version_major": 2,
       "version_minor": 0
      },
      "text/plain": [
       "Batches:   0%|          | 0/1 [00:00<?, ?it/s]"
      ]
     },
     "metadata": {},
     "output_type": "display_data"
    },
    {
     "name": "stderr",
     "output_type": "stream",
     "text": [
      "2024-11-27 11:47:44,128 - INFO - Calculating retrieval metrics for test_id: fedee8c8-6d24-4f51-ad62-760410167ac9\n",
      "2024-11-27 11:47:44,143 - INFO - Overall f1 at 3 for retrieval: 0.6603174603174603\n",
      "[I 2024-11-27 11:47:44,146] Trial 13 finished with value: 1.007426732628181 and parameters: {'model_info': {'provider': 'hf', 'model': 'sentence-transformers/all-MiniLM-L6-v2', 'dim': 384}, 'algorithm': 'hnsw', 'var_dtype': 'float32', 'ret_k': 3, 'ef_runtime': 20, 'ef_construction': 250, 'm': 16}. Best is trial 13 with value: 1.007426732628181.\n",
      "2024-11-27 11:47:44,148 - INFO - Running for Retriever: DefaultQueryRetriever with additional_schema_fields=None\n",
      "2024-11-27 11:47:44,176 - INFO - Load pretrained SentenceTransformer: sentence-transformers/all-MiniLM-L6-v2\n"
     ]
    },
    {
     "name": "stdout",
     "output_type": "stream",
     "text": [
      "\n",
      "\n",
      " Running for: \n",
      " model_str: sentence-transformers/all-MiniLM-L6-v2 \n",
      " ef_runtime: 20 \n",
      " ef_construction: 250 \n",
      " m: 8 \n",
      "\n",
      "\n"
     ]
    },
    {
     "name": "stderr",
     "output_type": "stream",
     "text": [
      "2024-11-27 11:47:45,154 - INFO - Use pytorch device_name: mps\n"
     ]
    },
    {
     "data": {
      "application/vnd.jupyter.widget-view+json": {
       "model_id": "2752ef24e9a34a5fa077e09f8a4dcfd9",
       "version_major": 2,
       "version_minor": 0
      },
      "text/plain": [
       "Batches:   0%|          | 0/1 [00:00<?, ?it/s]"
      ]
     },
     "metadata": {},
     "output_type": "display_data"
    },
    {
     "data": {
      "application/vnd.jupyter.widget-view+json": {
       "model_id": "5286184a93454f06a3551aa6722807d2",
       "version_major": 2,
       "version_minor": 0
      },
      "text/plain": [
       "Batches:   0%|          | 0/8 [00:00<?, ?it/s]"
      ]
     },
     "metadata": {},
     "output_type": "display_data"
    },
    {
     "name": "stderr",
     "output_type": "stream",
     "text": [
      "2024-11-27 11:47:47,099 - INFO - Indexing data...\n",
      "2024-11-27 11:47:51,436 - INFO - ...\n",
      "2024-11-27 11:47:52,450 - INFO - ...\n",
      "2024-11-27 11:47:53,459 - INFO - ...\n",
      "2024-11-27 11:47:54,467 - INFO - ...\n",
      "2024-11-27 11:47:55,474 - INFO - ...\n",
      "2024-11-27 11:47:56,482 - INFO - ...\n",
      "2024-11-27 11:47:57,490 - INFO - ...\n",
      "2024-11-27 11:47:58,497 - INFO - ...\n",
      "2024-11-27 11:47:59,505 - INFO - ...\n",
      "2024-11-27 11:47:59,514 - INFO - Data indexed. self.total_indexing_time=8686.2333984375s\n",
      "2024-11-27 11:47:59,533 - INFO - Load pretrained SentenceTransformer: sentence-transformers/all-MiniLM-L6-v2\n",
      "2024-11-27 11:48:00,327 - INFO - Use pytorch device_name: mps\n"
     ]
    },
    {
     "data": {
      "application/vnd.jupyter.widget-view+json": {
       "model_id": "654d705f7c6c4422a907865a544df4cb",
       "version_major": 2,
       "version_minor": 0
      },
      "text/plain": [
       "Batches:   0%|          | 0/1 [00:00<?, ?it/s]"
      ]
     },
     "metadata": {},
     "output_type": "display_data"
    },
    {
     "data": {
      "application/vnd.jupyter.widget-view+json": {
       "model_id": "0ecbe3e376b44b6f95e23fb7c8d01942",
       "version_major": 2,
       "version_minor": 0
      },
      "text/plain": [
       "Batches:   0%|          | 0/1 [00:00<?, ?it/s]"
      ]
     },
     "metadata": {},
     "output_type": "display_data"
    },
    {
     "data": {
      "application/vnd.jupyter.widget-view+json": {
       "model_id": "8a1c012b1513453e82c3bd92cb3be951",
       "version_major": 2,
       "version_minor": 0
      },
      "text/plain": [
       "Batches:   0%|          | 0/1 [00:00<?, ?it/s]"
      ]
     },
     "metadata": {},
     "output_type": "display_data"
    },
    {
     "data": {
      "application/vnd.jupyter.widget-view+json": {
       "model_id": "7b539645e34047c1b709f966db343c94",
       "version_major": 2,
       "version_minor": 0
      },
      "text/plain": [
       "Batches:   0%|          | 0/1 [00:00<?, ?it/s]"
      ]
     },
     "metadata": {},
     "output_type": "display_data"
    },
    {
     "data": {
      "application/vnd.jupyter.widget-view+json": {
       "model_id": "c2c2164364304c5887573822a6b5c1af",
       "version_major": 2,
       "version_minor": 0
      },
      "text/plain": [
       "Batches:   0%|          | 0/1 [00:00<?, ?it/s]"
      ]
     },
     "metadata": {},
     "output_type": "display_data"
    },
    {
     "data": {
      "application/vnd.jupyter.widget-view+json": {
       "model_id": "989202b397e946cd8b5f062b08cc8d1c",
       "version_major": 2,
       "version_minor": 0
      },
      "text/plain": [
       "Batches:   0%|          | 0/1 [00:00<?, ?it/s]"
      ]
     },
     "metadata": {},
     "output_type": "display_data"
    },
    {
     "data": {
      "application/vnd.jupyter.widget-view+json": {
       "model_id": "7962c42a89244aa1a56c50dc2ecd6fbf",
       "version_major": 2,
       "version_minor": 0
      },
      "text/plain": [
       "Batches:   0%|          | 0/1 [00:00<?, ?it/s]"
      ]
     },
     "metadata": {},
     "output_type": "display_data"
    },
    {
     "data": {
      "application/vnd.jupyter.widget-view+json": {
       "model_id": "4273b51fec6942769ad94367594c6bef",
       "version_major": 2,
       "version_minor": 0
      },
      "text/plain": [
       "Batches:   0%|          | 0/1 [00:00<?, ?it/s]"
      ]
     },
     "metadata": {},
     "output_type": "display_data"
    },
    {
     "data": {
      "application/vnd.jupyter.widget-view+json": {
       "model_id": "f1162940a2434a9ebf8acf721c5af787",
       "version_major": 2,
       "version_minor": 0
      },
      "text/plain": [
       "Batches:   0%|          | 0/1 [00:00<?, ?it/s]"
      ]
     },
     "metadata": {},
     "output_type": "display_data"
    },
    {
     "data": {
      "application/vnd.jupyter.widget-view+json": {
       "model_id": "0ca3d2568c7a4d37a885b3ad8e87d5e5",
       "version_major": 2,
       "version_minor": 0
      },
      "text/plain": [
       "Batches:   0%|          | 0/1 [00:00<?, ?it/s]"
      ]
     },
     "metadata": {},
     "output_type": "display_data"
    },
    {
     "data": {
      "application/vnd.jupyter.widget-view+json": {
       "model_id": "7a6e87a4ab8f450eb94a7e7e0f43a9da",
       "version_major": 2,
       "version_minor": 0
      },
      "text/plain": [
       "Batches:   0%|          | 0/1 [00:00<?, ?it/s]"
      ]
     },
     "metadata": {},
     "output_type": "display_data"
    },
    {
     "data": {
      "application/vnd.jupyter.widget-view+json": {
       "model_id": "fcc07c175ff84b018d4830c0ceccaec7",
       "version_major": 2,
       "version_minor": 0
      },
      "text/plain": [
       "Batches:   0%|          | 0/1 [00:00<?, ?it/s]"
      ]
     },
     "metadata": {},
     "output_type": "display_data"
    },
    {
     "data": {
      "application/vnd.jupyter.widget-view+json": {
       "model_id": "3c006aa788234d2b930f565568f5414f",
       "version_major": 2,
       "version_minor": 0
      },
      "text/plain": [
       "Batches:   0%|          | 0/1 [00:00<?, ?it/s]"
      ]
     },
     "metadata": {},
     "output_type": "display_data"
    },
    {
     "name": "stderr",
     "output_type": "stream",
     "text": [
      "2024-11-27 11:48:02,285 - INFO - Calculating retrieval metrics for test_id: 82cfb418-55dc-4dde-9c33-fd5b64708584\n",
      "2024-11-27 11:48:02,304 - INFO - Overall f1 at 3 for retrieval: 0.6603174603174603\n",
      "[I 2024-11-27 11:48:02,306] Trial 14 finished with value: 1.0108533762611567 and parameters: {'model_info': {'provider': 'hf', 'model': 'sentence-transformers/all-MiniLM-L6-v2', 'dim': 384}, 'algorithm': 'hnsw', 'var_dtype': 'float32', 'ret_k': 3, 'ef_runtime': 20, 'ef_construction': 250, 'm': 8}. Best is trial 14 with value: 1.0108533762611567.\n",
      "2024-11-27 11:48:02,307 - INFO - Running for Retriever: DefaultQueryRetriever with additional_schema_fields=None\n",
      "2024-11-27 11:48:02,325 - INFO - Load pretrained SentenceTransformer: sentence-transformers/all-MiniLM-L6-v2\n"
     ]
    },
    {
     "name": "stdout",
     "output_type": "stream",
     "text": [
      "\n",
      "\n",
      " Running for: \n",
      " model_str: sentence-transformers/all-MiniLM-L6-v2 \n",
      " ef_runtime: 20 \n",
      " ef_construction: 300 \n",
      " m: 64 \n",
      "\n",
      "\n"
     ]
    },
    {
     "name": "stderr",
     "output_type": "stream",
     "text": [
      "2024-11-27 11:48:03,044 - INFO - Use pytorch device_name: mps\n"
     ]
    },
    {
     "data": {
      "application/vnd.jupyter.widget-view+json": {
       "model_id": "7e0e6a0f770549bdba66ba33c90a575d",
       "version_major": 2,
       "version_minor": 0
      },
      "text/plain": [
       "Batches:   0%|          | 0/1 [00:00<?, ?it/s]"
      ]
     },
     "metadata": {},
     "output_type": "display_data"
    },
    {
     "data": {
      "application/vnd.jupyter.widget-view+json": {
       "model_id": "527b733dc1d54f5e9338ef3385308d0f",
       "version_major": 2,
       "version_minor": 0
      },
      "text/plain": [
       "Batches:   0%|          | 0/8 [00:00<?, ?it/s]"
      ]
     },
     "metadata": {},
     "output_type": "display_data"
    },
    {
     "name": "stderr",
     "output_type": "stream",
     "text": [
      "2024-11-27 11:48:04,966 - INFO - Indexing data...\n",
      "2024-11-27 11:48:09,349 - INFO - ...\n",
      "2024-11-27 11:48:10,356 - INFO - ...\n",
      "2024-11-27 11:48:11,363 - INFO - ...\n",
      "2024-11-27 11:48:12,368 - INFO - ...\n",
      "2024-11-27 11:48:13,373 - INFO - ...\n",
      "2024-11-27 11:48:14,380 - INFO - ...\n",
      "2024-11-27 11:48:15,386 - INFO - ...\n",
      "2024-11-27 11:48:16,419 - INFO - ...\n",
      "2024-11-27 11:48:17,430 - INFO - ...\n",
      "2024-11-27 11:48:18,443 - INFO - ...\n",
      "2024-11-27 11:48:18,452 - INFO - Data indexed. self.total_indexing_time=9668.466796875s\n",
      "2024-11-27 11:48:18,475 - INFO - Load pretrained SentenceTransformer: sentence-transformers/all-MiniLM-L6-v2\n",
      "2024-11-27 11:48:19,295 - INFO - Use pytorch device_name: mps\n"
     ]
    },
    {
     "data": {
      "application/vnd.jupyter.widget-view+json": {
       "model_id": "f5b0a766e76148ce8be9c592758c91cd",
       "version_major": 2,
       "version_minor": 0
      },
      "text/plain": [
       "Batches:   0%|          | 0/1 [00:00<?, ?it/s]"
      ]
     },
     "metadata": {},
     "output_type": "display_data"
    },
    {
     "data": {
      "application/vnd.jupyter.widget-view+json": {
       "model_id": "b219b5d1d0924ef8b09e78ac6a9eb3fa",
       "version_major": 2,
       "version_minor": 0
      },
      "text/plain": [
       "Batches:   0%|          | 0/1 [00:00<?, ?it/s]"
      ]
     },
     "metadata": {},
     "output_type": "display_data"
    },
    {
     "data": {
      "application/vnd.jupyter.widget-view+json": {
       "model_id": "66d377f53d9043feaa539ddb5bacac8c",
       "version_major": 2,
       "version_minor": 0
      },
      "text/plain": [
       "Batches:   0%|          | 0/1 [00:00<?, ?it/s]"
      ]
     },
     "metadata": {},
     "output_type": "display_data"
    },
    {
     "data": {
      "application/vnd.jupyter.widget-view+json": {
       "model_id": "f0d781e90ae84c14aaedeafc830fd388",
       "version_major": 2,
       "version_minor": 0
      },
      "text/plain": [
       "Batches:   0%|          | 0/1 [00:00<?, ?it/s]"
      ]
     },
     "metadata": {},
     "output_type": "display_data"
    },
    {
     "data": {
      "application/vnd.jupyter.widget-view+json": {
       "model_id": "ac0f75aa370a41eaa7a38f5189a9f9b3",
       "version_major": 2,
       "version_minor": 0
      },
      "text/plain": [
       "Batches:   0%|          | 0/1 [00:00<?, ?it/s]"
      ]
     },
     "metadata": {},
     "output_type": "display_data"
    },
    {
     "data": {
      "application/vnd.jupyter.widget-view+json": {
       "model_id": "76041222cdd649058b2bead43d595f94",
       "version_major": 2,
       "version_minor": 0
      },
      "text/plain": [
       "Batches:   0%|          | 0/1 [00:00<?, ?it/s]"
      ]
     },
     "metadata": {},
     "output_type": "display_data"
    },
    {
     "data": {
      "application/vnd.jupyter.widget-view+json": {
       "model_id": "ab9db034d7d3465482d49a3359b3c8ee",
       "version_major": 2,
       "version_minor": 0
      },
      "text/plain": [
       "Batches:   0%|          | 0/1 [00:00<?, ?it/s]"
      ]
     },
     "metadata": {},
     "output_type": "display_data"
    },
    {
     "data": {
      "application/vnd.jupyter.widget-view+json": {
       "model_id": "8a16c42e5a2940f196591eed1ea9a81c",
       "version_major": 2,
       "version_minor": 0
      },
      "text/plain": [
       "Batches:   0%|          | 0/1 [00:00<?, ?it/s]"
      ]
     },
     "metadata": {},
     "output_type": "display_data"
    },
    {
     "data": {
      "application/vnd.jupyter.widget-view+json": {
       "model_id": "651e1135d14b4b9198dbe9e62229c611",
       "version_major": 2,
       "version_minor": 0
      },
      "text/plain": [
       "Batches:   0%|          | 0/1 [00:00<?, ?it/s]"
      ]
     },
     "metadata": {},
     "output_type": "display_data"
    },
    {
     "data": {
      "application/vnd.jupyter.widget-view+json": {
       "model_id": "cfe9e8e60df6475bb8330b06ac181c8f",
       "version_major": 2,
       "version_minor": 0
      },
      "text/plain": [
       "Batches:   0%|          | 0/1 [00:00<?, ?it/s]"
      ]
     },
     "metadata": {},
     "output_type": "display_data"
    },
    {
     "data": {
      "application/vnd.jupyter.widget-view+json": {
       "model_id": "f0e729424145425c9bb6ebbbcd864279",
       "version_major": 2,
       "version_minor": 0
      },
      "text/plain": [
       "Batches:   0%|          | 0/1 [00:00<?, ?it/s]"
      ]
     },
     "metadata": {},
     "output_type": "display_data"
    },
    {
     "data": {
      "application/vnd.jupyter.widget-view+json": {
       "model_id": "df5eece530004a0a9a9a84745fc480f5",
       "version_major": 2,
       "version_minor": 0
      },
      "text/plain": [
       "Batches:   0%|          | 0/1 [00:00<?, ?it/s]"
      ]
     },
     "metadata": {},
     "output_type": "display_data"
    },
    {
     "data": {
      "application/vnd.jupyter.widget-view+json": {
       "model_id": "53ece29534494a0db0d70d68b756803f",
       "version_major": 2,
       "version_minor": 0
      },
      "text/plain": [
       "Batches:   0%|          | 0/1 [00:00<?, ?it/s]"
      ]
     },
     "metadata": {},
     "output_type": "display_data"
    },
    {
     "name": "stderr",
     "output_type": "stream",
     "text": [
      "2024-11-27 11:48:20,912 - INFO - Calculating retrieval metrics for test_id: 1d3d9b1c-2856-4d16-9cd3-37de90202281\n",
      "2024-11-27 11:48:20,919 - INFO - Overall f1 at 4 for retrieval: 0.6214285714285714\n",
      "[I 2024-11-27 11:48:20,921] Trial 15 finished with value: 0.9739169268452722 and parameters: {'model_info': {'provider': 'hf', 'model': 'sentence-transformers/all-MiniLM-L6-v2', 'dim': 384}, 'algorithm': 'hnsw', 'var_dtype': 'float32', 'ret_k': 4, 'ef_runtime': 20, 'ef_construction': 300, 'm': 64}. Best is trial 14 with value: 1.0108533762611567.\n",
      "2024-11-27 11:48:20,922 - INFO - Running for Retriever: DefaultQueryRetriever with additional_schema_fields=None\n",
      "2024-11-27 11:48:20,940 - INFO - Load pretrained SentenceTransformer: sentence-transformers/all-MiniLM-L6-v2\n"
     ]
    },
    {
     "name": "stdout",
     "output_type": "stream",
     "text": [
      "\n",
      "\n",
      " Running for: \n",
      " model_str: sentence-transformers/all-MiniLM-L6-v2 \n",
      " ef_runtime: 20 \n",
      " ef_construction: 250 \n",
      " m: 8 \n",
      "\n",
      "\n"
     ]
    },
    {
     "name": "stderr",
     "output_type": "stream",
     "text": [
      "2024-11-27 11:48:21,800 - INFO - Use pytorch device_name: mps\n"
     ]
    },
    {
     "data": {
      "application/vnd.jupyter.widget-view+json": {
       "model_id": "95f447aa7c9e4510a0bdd4d22e1424cb",
       "version_major": 2,
       "version_minor": 0
      },
      "text/plain": [
       "Batches:   0%|          | 0/1 [00:00<?, ?it/s]"
      ]
     },
     "metadata": {},
     "output_type": "display_data"
    },
    {
     "data": {
      "application/vnd.jupyter.widget-view+json": {
       "model_id": "0f2b12fe569d43de9f7153a398881806",
       "version_major": 2,
       "version_minor": 0
      },
      "text/plain": [
       "Batches:   0%|          | 0/8 [00:00<?, ?it/s]"
      ]
     },
     "metadata": {},
     "output_type": "display_data"
    },
    {
     "name": "stderr",
     "output_type": "stream",
     "text": [
      "2024-11-27 11:48:23,970 - INFO - Indexing data...\n",
      "2024-11-27 11:48:29,785 - INFO - ...\n",
      "2024-11-27 11:48:30,791 - INFO - ...\n",
      "2024-11-27 11:48:31,801 - INFO - ...\n",
      "2024-11-27 11:48:32,805 - INFO - ...\n",
      "2024-11-27 11:48:33,819 - INFO - ...\n",
      "2024-11-27 11:48:34,825 - INFO - ...\n",
      "2024-11-27 11:48:35,831 - INFO - ...\n",
      "2024-11-27 11:48:36,838 - INFO - ...\n",
      "2024-11-27 11:48:36,844 - INFO - Data indexed. self.total_indexing_time=8356.0126953125s\n",
      "2024-11-27 11:48:36,865 - INFO - Load pretrained SentenceTransformer: sentence-transformers/all-MiniLM-L6-v2\n",
      "2024-11-27 11:48:37,644 - INFO - Use pytorch device_name: mps\n"
     ]
    },
    {
     "data": {
      "application/vnd.jupyter.widget-view+json": {
       "model_id": "0879f5f68dac46c5909991025232f699",
       "version_major": 2,
       "version_minor": 0
      },
      "text/plain": [
       "Batches:   0%|          | 0/1 [00:00<?, ?it/s]"
      ]
     },
     "metadata": {},
     "output_type": "display_data"
    },
    {
     "data": {
      "application/vnd.jupyter.widget-view+json": {
       "model_id": "5e6ae425f2b64d21acb6ffb3652e2309",
       "version_major": 2,
       "version_minor": 0
      },
      "text/plain": [
       "Batches:   0%|          | 0/1 [00:00<?, ?it/s]"
      ]
     },
     "metadata": {},
     "output_type": "display_data"
    },
    {
     "data": {
      "application/vnd.jupyter.widget-view+json": {
       "model_id": "1bb07d8660fa471aa5a60be7f0f1a31a",
       "version_major": 2,
       "version_minor": 0
      },
      "text/plain": [
       "Batches:   0%|          | 0/1 [00:00<?, ?it/s]"
      ]
     },
     "metadata": {},
     "output_type": "display_data"
    },
    {
     "data": {
      "application/vnd.jupyter.widget-view+json": {
       "model_id": "71168800574e4b63812877f120a9af3a",
       "version_major": 2,
       "version_minor": 0
      },
      "text/plain": [
       "Batches:   0%|          | 0/1 [00:00<?, ?it/s]"
      ]
     },
     "metadata": {},
     "output_type": "display_data"
    },
    {
     "data": {
      "application/vnd.jupyter.widget-view+json": {
       "model_id": "345e2b8fbad242af9a8ebfe4eb919c20",
       "version_major": 2,
       "version_minor": 0
      },
      "text/plain": [
       "Batches:   0%|          | 0/1 [00:00<?, ?it/s]"
      ]
     },
     "metadata": {},
     "output_type": "display_data"
    },
    {
     "data": {
      "application/vnd.jupyter.widget-view+json": {
       "model_id": "4adeba191a994c8c9a155069b6c90d6c",
       "version_major": 2,
       "version_minor": 0
      },
      "text/plain": [
       "Batches:   0%|          | 0/1 [00:00<?, ?it/s]"
      ]
     },
     "metadata": {},
     "output_type": "display_data"
    },
    {
     "data": {
      "application/vnd.jupyter.widget-view+json": {
       "model_id": "7b6b3e7e09a34c0ca19c956b64d5a946",
       "version_major": 2,
       "version_minor": 0
      },
      "text/plain": [
       "Batches:   0%|          | 0/1 [00:00<?, ?it/s]"
      ]
     },
     "metadata": {},
     "output_type": "display_data"
    },
    {
     "data": {
      "application/vnd.jupyter.widget-view+json": {
       "model_id": "9847a474b4204927b321adfca6851a15",
       "version_major": 2,
       "version_minor": 0
      },
      "text/plain": [
       "Batches:   0%|          | 0/1 [00:00<?, ?it/s]"
      ]
     },
     "metadata": {},
     "output_type": "display_data"
    },
    {
     "data": {
      "application/vnd.jupyter.widget-view+json": {
       "model_id": "978cba02d0aa44b4a0ca5d8b5b2f619a",
       "version_major": 2,
       "version_minor": 0
      },
      "text/plain": [
       "Batches:   0%|          | 0/1 [00:00<?, ?it/s]"
      ]
     },
     "metadata": {},
     "output_type": "display_data"
    },
    {
     "data": {
      "application/vnd.jupyter.widget-view+json": {
       "model_id": "cbb2dbd2cea34d46a300ec2f6ba8fcb5",
       "version_major": 2,
       "version_minor": 0
      },
      "text/plain": [
       "Batches:   0%|          | 0/1 [00:00<?, ?it/s]"
      ]
     },
     "metadata": {},
     "output_type": "display_data"
    },
    {
     "data": {
      "application/vnd.jupyter.widget-view+json": {
       "model_id": "f818a350ccc0480ca477dfac14cc8cad",
       "version_major": 2,
       "version_minor": 0
      },
      "text/plain": [
       "Batches:   0%|          | 0/1 [00:00<?, ?it/s]"
      ]
     },
     "metadata": {},
     "output_type": "display_data"
    },
    {
     "data": {
      "application/vnd.jupyter.widget-view+json": {
       "model_id": "7d9b69cfb68a4f3690143b6375443b25",
       "version_major": 2,
       "version_minor": 0
      },
      "text/plain": [
       "Batches:   0%|          | 0/1 [00:00<?, ?it/s]"
      ]
     },
     "metadata": {},
     "output_type": "display_data"
    },
    {
     "data": {
      "application/vnd.jupyter.widget-view+json": {
       "model_id": "85e17cf6c03e44fab7c86cf19840bfce",
       "version_major": 2,
       "version_minor": 0
      },
      "text/plain": [
       "Batches:   0%|          | 0/1 [00:00<?, ?it/s]"
      ]
     },
     "metadata": {},
     "output_type": "display_data"
    },
    {
     "name": "stderr",
     "output_type": "stream",
     "text": [
      "2024-11-27 11:48:39,393 - INFO - Calculating retrieval metrics for test_id: 33022862-54a9-4865-93ab-e107ad98e473\n",
      "2024-11-27 11:48:39,401 - INFO - Overall f1 at 3 for retrieval: 0.6603174603174603\n",
      "[I 2024-11-27 11:48:39,402] Trial 16 finished with value: 0.9851616702523556 and parameters: {'model_info': {'provider': 'hf', 'model': 'sentence-transformers/all-MiniLM-L6-v2', 'dim': 384}, 'algorithm': 'hnsw', 'var_dtype': 'float32', 'ret_k': 3, 'ef_runtime': 20, 'ef_construction': 250, 'm': 8}. Best is trial 14 with value: 1.0108533762611567.\n",
      "2024-11-27 11:48:39,404 - INFO - Running for Retriever: DefaultQueryRetriever with additional_schema_fields=None\n",
      "2024-11-27 11:48:39,426 - INFO - Load pretrained SentenceTransformer: sentence-transformers/all-MiniLM-L6-v2\n"
     ]
    },
    {
     "name": "stdout",
     "output_type": "stream",
     "text": [
      "\n",
      "\n",
      " Running for: \n",
      " model_str: sentence-transformers/all-MiniLM-L6-v2 \n",
      " ef_runtime: 20 \n",
      " ef_construction: 250 \n",
      " m: 16 \n",
      "\n",
      "\n"
     ]
    },
    {
     "name": "stderr",
     "output_type": "stream",
     "text": [
      "2024-11-27 11:48:40,641 - INFO - Use pytorch device_name: mps\n"
     ]
    },
    {
     "data": {
      "application/vnd.jupyter.widget-view+json": {
       "model_id": "c2793d754d3b431992e32111c8a8d77b",
       "version_major": 2,
       "version_minor": 0
      },
      "text/plain": [
       "Batches:   0%|          | 0/1 [00:00<?, ?it/s]"
      ]
     },
     "metadata": {},
     "output_type": "display_data"
    },
    {
     "data": {
      "application/vnd.jupyter.widget-view+json": {
       "model_id": "73e71e55149b473c858b4a43024e10e6",
       "version_major": 2,
       "version_minor": 0
      },
      "text/plain": [
       "Batches:   0%|          | 0/8 [00:00<?, ?it/s]"
      ]
     },
     "metadata": {},
     "output_type": "display_data"
    },
    {
     "name": "stderr",
     "output_type": "stream",
     "text": [
      "2024-11-27 11:48:42,746 - INFO - Indexing data...\n",
      "2024-11-27 11:48:48,031 - INFO - ...\n",
      "2024-11-27 11:48:49,049 - INFO - ...\n",
      "2024-11-27 11:48:50,061 - INFO - ...\n",
      "2024-11-27 11:48:51,072 - INFO - ...\n",
      "2024-11-27 11:48:52,165 - INFO - ...\n",
      "2024-11-27 11:48:53,196 - INFO - ...\n",
      "2024-11-27 11:48:54,213 - INFO - ...\n",
      "2024-11-27 11:48:55,225 - INFO - ...\n",
      "2024-11-27 11:48:56,239 - INFO - ...\n",
      "2024-11-27 11:48:57,246 - INFO - ...\n",
      "2024-11-27 11:48:58,253 - INFO - ...\n",
      "2024-11-27 11:48:58,257 - INFO - Data indexed. self.total_indexing_time=10846.3251953125s\n",
      "2024-11-27 11:48:58,277 - INFO - Load pretrained SentenceTransformer: sentence-transformers/all-MiniLM-L6-v2\n",
      "2024-11-27 11:48:59,080 - INFO - Use pytorch device_name: mps\n"
     ]
    },
    {
     "data": {
      "application/vnd.jupyter.widget-view+json": {
       "model_id": "20b32e511b0747cab237e9f6d53f8b21",
       "version_major": 2,
       "version_minor": 0
      },
      "text/plain": [
       "Batches:   0%|          | 0/1 [00:00<?, ?it/s]"
      ]
     },
     "metadata": {},
     "output_type": "display_data"
    },
    {
     "data": {
      "application/vnd.jupyter.widget-view+json": {
       "model_id": "4cd6b779a4d94636a5e4bd6728762d06",
       "version_major": 2,
       "version_minor": 0
      },
      "text/plain": [
       "Batches:   0%|          | 0/1 [00:00<?, ?it/s]"
      ]
     },
     "metadata": {},
     "output_type": "display_data"
    },
    {
     "data": {
      "application/vnd.jupyter.widget-view+json": {
       "model_id": "0590de9e3e314dd6bd23303c82cf40a0",
       "version_major": 2,
       "version_minor": 0
      },
      "text/plain": [
       "Batches:   0%|          | 0/1 [00:00<?, ?it/s]"
      ]
     },
     "metadata": {},
     "output_type": "display_data"
    },
    {
     "data": {
      "application/vnd.jupyter.widget-view+json": {
       "model_id": "9c4e8af10c5140fc95911397aab00dcc",
       "version_major": 2,
       "version_minor": 0
      },
      "text/plain": [
       "Batches:   0%|          | 0/1 [00:00<?, ?it/s]"
      ]
     },
     "metadata": {},
     "output_type": "display_data"
    },
    {
     "data": {
      "application/vnd.jupyter.widget-view+json": {
       "model_id": "479c5a6df76844c19ed925f3edf95752",
       "version_major": 2,
       "version_minor": 0
      },
      "text/plain": [
       "Batches:   0%|          | 0/1 [00:00<?, ?it/s]"
      ]
     },
     "metadata": {},
     "output_type": "display_data"
    },
    {
     "data": {
      "application/vnd.jupyter.widget-view+json": {
       "model_id": "e0c41005aac441a7bb9d9f9372435434",
       "version_major": 2,
       "version_minor": 0
      },
      "text/plain": [
       "Batches:   0%|          | 0/1 [00:00<?, ?it/s]"
      ]
     },
     "metadata": {},
     "output_type": "display_data"
    },
    {
     "data": {
      "application/vnd.jupyter.widget-view+json": {
       "model_id": "392d817c7eb64c6d88cba445ba579e84",
       "version_major": 2,
       "version_minor": 0
      },
      "text/plain": [
       "Batches:   0%|          | 0/1 [00:00<?, ?it/s]"
      ]
     },
     "metadata": {},
     "output_type": "display_data"
    },
    {
     "data": {
      "application/vnd.jupyter.widget-view+json": {
       "model_id": "69f5d69ae5fe4900b9e40c3a10440098",
       "version_major": 2,
       "version_minor": 0
      },
      "text/plain": [
       "Batches:   0%|          | 0/1 [00:00<?, ?it/s]"
      ]
     },
     "metadata": {},
     "output_type": "display_data"
    },
    {
     "data": {
      "application/vnd.jupyter.widget-view+json": {
       "model_id": "08776459d939456b9af739a0595a3c0f",
       "version_major": 2,
       "version_minor": 0
      },
      "text/plain": [
       "Batches:   0%|          | 0/1 [00:00<?, ?it/s]"
      ]
     },
     "metadata": {},
     "output_type": "display_data"
    },
    {
     "data": {
      "application/vnd.jupyter.widget-view+json": {
       "model_id": "e3f613cffe4c4155985c811572cf2992",
       "version_major": 2,
       "version_minor": 0
      },
      "text/plain": [
       "Batches:   0%|          | 0/1 [00:00<?, ?it/s]"
      ]
     },
     "metadata": {},
     "output_type": "display_data"
    },
    {
     "data": {
      "application/vnd.jupyter.widget-view+json": {
       "model_id": "520fbf6cce244b8fa21ce0dbb0fe2042",
       "version_major": 2,
       "version_minor": 0
      },
      "text/plain": [
       "Batches:   0%|          | 0/1 [00:00<?, ?it/s]"
      ]
     },
     "metadata": {},
     "output_type": "display_data"
    },
    {
     "data": {
      "application/vnd.jupyter.widget-view+json": {
       "model_id": "b507064c72b94236bbfde513b4fb6f19",
       "version_major": 2,
       "version_minor": 0
      },
      "text/plain": [
       "Batches:   0%|          | 0/1 [00:00<?, ?it/s]"
      ]
     },
     "metadata": {},
     "output_type": "display_data"
    },
    {
     "data": {
      "application/vnd.jupyter.widget-view+json": {
       "model_id": "2f61e7e65b5b451286e9855e9395c8fb",
       "version_major": 2,
       "version_minor": 0
      },
      "text/plain": [
       "Batches:   0%|          | 0/1 [00:00<?, ?it/s]"
      ]
     },
     "metadata": {},
     "output_type": "display_data"
    },
    {
     "name": "stderr",
     "output_type": "stream",
     "text": [
      "2024-11-27 11:49:00,961 - INFO - Calculating retrieval metrics for test_id: 9df91a16-fc81-442d-9572-5d090069f492\n",
      "2024-11-27 11:49:00,969 - INFO - Overall f1 at 10 for retrieval: 0.37332806082806086\n",
      "[I 2024-11-27 11:49:00,970] Trial 17 finished with value: 0.7232602347002817 and parameters: {'model_info': {'provider': 'hf', 'model': 'sentence-transformers/all-MiniLM-L6-v2', 'dim': 384}, 'algorithm': 'hnsw', 'var_dtype': 'float32', 'ret_k': 10, 'ef_runtime': 20, 'ef_construction': 250, 'm': 16}. Best is trial 14 with value: 1.0108533762611567.\n",
      "2024-11-27 11:49:00,972 - INFO - Running for Retriever: DefaultQueryRetriever with additional_schema_fields=None\n",
      "2024-11-27 11:49:00,989 - INFO - Load pretrained SentenceTransformer: sentence-transformers/all-MiniLM-L6-v2\n"
     ]
    },
    {
     "name": "stdout",
     "output_type": "stream",
     "text": [
      "\n",
      "\n",
      " Running for: \n",
      " model_str: sentence-transformers/all-MiniLM-L6-v2 \n",
      " ef_runtime: 20 \n",
      " ef_construction: 300 \n",
      " m: 8 \n",
      "\n",
      "\n"
     ]
    },
    {
     "name": "stderr",
     "output_type": "stream",
     "text": [
      "2024-11-27 11:49:01,804 - INFO - Use pytorch device_name: mps\n"
     ]
    },
    {
     "data": {
      "application/vnd.jupyter.widget-view+json": {
       "model_id": "68a0402c12d34ee4b53d00e8f8afef6c",
       "version_major": 2,
       "version_minor": 0
      },
      "text/plain": [
       "Batches:   0%|          | 0/1 [00:00<?, ?it/s]"
      ]
     },
     "metadata": {},
     "output_type": "display_data"
    },
    {
     "data": {
      "application/vnd.jupyter.widget-view+json": {
       "model_id": "5c8c487ce4e640768fa5b758ca576503",
       "version_major": 2,
       "version_minor": 0
      },
      "text/plain": [
       "Batches:   0%|          | 0/8 [00:00<?, ?it/s]"
      ]
     },
     "metadata": {},
     "output_type": "display_data"
    },
    {
     "name": "stderr",
     "output_type": "stream",
     "text": [
      "2024-11-27 11:49:03,701 - INFO - Indexing data...\n",
      "2024-11-27 11:49:14,841 - INFO - ...\n",
      "2024-11-27 11:49:16,339 - INFO - ...\n",
      "2024-11-27 11:49:17,712 - INFO - ...\n",
      "2024-11-27 11:49:18,821 - INFO - ...\n",
      "2024-11-27 11:49:19,984 - INFO - ...\n",
      "2024-11-27 11:49:21,113 - INFO - ...\n",
      "2024-11-27 11:49:22,186 - INFO - ...\n",
      "2024-11-27 11:49:23,398 - INFO - ...\n",
      "2024-11-27 11:49:24,656 - INFO - ...\n",
      "2024-11-27 11:49:25,809 - INFO - ...\n",
      "2024-11-27 11:49:27,101 - INFO - ...\n",
      "2024-11-27 11:49:28,268 - INFO - ...\n",
      "2024-11-27 11:49:29,306 - INFO - ...\n",
      "2024-11-27 11:49:30,359 - INFO - ...\n",
      "2024-11-27 11:49:31,511 - INFO - ...\n",
      "2024-11-27 11:49:32,685 - INFO - ...\n",
      "2024-11-27 11:49:33,766 - INFO - ...\n",
      "2024-11-27 11:49:34,873 - INFO - ...\n",
      "2024-11-27 11:49:36,026 - INFO - ...\n",
      "2024-11-27 11:49:37,186 - INFO - ...\n",
      "2024-11-27 11:49:38,307 - INFO - ...\n",
      "2024-11-27 11:49:39,379 - INFO - ...\n",
      "2024-11-27 11:49:40,434 - INFO - ...\n",
      "2024-11-27 11:49:41,522 - INFO - ...\n",
      "2024-11-27 11:49:42,607 - INFO - ...\n",
      "2024-11-27 11:49:43,676 - INFO - ...\n",
      "2024-11-27 11:49:44,732 - INFO - ...\n",
      "2024-11-27 11:49:45,836 - INFO - ...\n",
      "2024-11-27 11:49:47,037 - INFO - ...\n",
      "2024-11-27 11:49:48,166 - INFO - ...\n",
      "2024-11-27 11:49:49,254 - INFO - ...\n",
      "2024-11-27 11:49:50,352 - INFO - ...\n",
      "2024-11-27 11:49:51,548 - INFO - ...\n",
      "2024-11-27 11:49:52,648 - INFO - ...\n",
      "2024-11-27 11:49:53,754 - INFO - ...\n",
      "2024-11-27 11:49:54,861 - INFO - ...\n",
      "2024-11-27 11:49:56,014 - INFO - ...\n",
      "2024-11-27 11:49:57,106 - INFO - ...\n",
      "2024-11-27 11:49:58,196 - INFO - ...\n",
      "2024-11-27 11:49:59,319 - INFO - ...\n",
      "2024-11-27 11:50:00,472 - INFO - ...\n",
      "2024-11-27 11:50:01,560 - INFO - ...\n",
      "2024-11-27 11:50:02,737 - INFO - ...\n",
      "2024-11-27 11:50:03,827 - INFO - ...\n",
      "2024-11-27 11:50:04,951 - INFO - ...\n",
      "2024-11-27 11:50:06,048 - INFO - ...\n",
      "2024-11-27 11:50:07,201 - INFO - ...\n",
      "2024-11-27 11:50:08,575 - INFO - ...\n",
      "2024-11-27 11:50:09,649 - INFO - ...\n",
      "2024-11-27 11:50:10,818 - INFO - ...\n",
      "2024-11-27 11:50:11,866 - INFO - ...\n",
      "2024-11-27 11:50:13,047 - INFO - ...\n",
      "2024-11-27 11:50:14,334 - INFO - ...\n",
      "2024-11-27 11:50:15,588 - INFO - ...\n",
      "2024-11-27 11:50:16,721 - INFO - ...\n",
      "2024-11-27 11:50:17,894 - INFO - ...\n",
      "2024-11-27 11:50:19,047 - INFO - ...\n",
      "2024-11-27 11:50:20,322 - INFO - ...\n",
      "2024-11-27 11:50:21,548 - INFO - ...\n",
      "2024-11-27 11:50:22,828 - INFO - ...\n",
      "2024-11-27 11:50:23,915 - INFO - ...\n",
      "2024-11-27 11:50:25,108 - INFO - ...\n",
      "2024-11-27 11:50:26,186 - INFO - ...\n",
      "2024-11-27 11:50:27,424 - INFO - ...\n",
      "2024-11-27 11:50:28,557 - INFO - ...\n",
      "2024-11-27 11:50:29,639 - INFO - ...\n",
      "2024-11-27 11:50:30,728 - INFO - ...\n",
      "2024-11-27 11:50:31,795 - INFO - ...\n",
      "2024-11-27 11:50:32,891 - INFO - ...\n",
      "2024-11-27 11:50:34,192 - INFO - ...\n",
      "2024-11-27 11:50:35,445 - INFO - ...\n",
      "2024-11-27 11:50:36,587 - INFO - ...\n",
      "2024-11-27 11:50:37,849 - INFO - ...\n",
      "2024-11-27 11:50:39,021 - INFO - ...\n",
      "2024-11-27 11:50:40,148 - INFO - ...\n",
      "2024-11-27 11:50:41,370 - INFO - ...\n",
      "2024-11-27 11:50:42,669 - INFO - ...\n",
      "2024-11-27 11:50:43,877 - INFO - ...\n",
      "2024-11-27 11:50:44,951 - INFO - ...\n",
      "2024-11-27 11:50:46,178 - INFO - ...\n",
      "2024-11-27 11:50:47,268 - INFO - ...\n",
      "2024-11-27 11:50:48,591 - INFO - ...\n",
      "2024-11-27 11:50:49,883 - INFO - ...\n",
      "2024-11-27 11:50:50,965 - INFO - ...\n",
      "2024-11-27 11:50:52,161 - INFO - ...\n",
      "2024-11-27 11:50:53,344 - INFO - ...\n",
      "2024-11-27 11:50:54,548 - INFO - ...\n",
      "2024-11-27 11:50:55,769 - INFO - ...\n",
      "2024-11-27 11:50:56,963 - INFO - ...\n",
      "2024-11-27 11:50:58,211 - INFO - ...\n",
      "2024-11-27 11:50:59,391 - INFO - ...\n",
      "2024-11-27 11:51:00,710 - INFO - ...\n",
      "2024-11-27 11:51:01,890 - INFO - ...\n",
      "2024-11-27 11:51:03,086 - INFO - ...\n",
      "2024-11-27 11:51:04,272 - INFO - ...\n",
      "2024-11-27 11:51:05,600 - INFO - ...\n",
      "2024-11-27 11:51:06,793 - INFO - ...\n",
      "2024-11-27 11:51:08,074 - INFO - ...\n",
      "2024-11-27 11:51:09,172 - INFO - ...\n",
      "2024-11-27 11:51:10,228 - INFO - ...\n",
      "2024-11-27 11:51:11,384 - INFO - ...\n",
      "2024-11-27 11:51:12,699 - INFO - ...\n",
      "2024-11-27 11:51:13,877 - INFO - ...\n",
      "2024-11-27 11:51:15,142 - INFO - ...\n",
      "2024-11-27 11:51:16,352 - INFO - ...\n",
      "2024-11-27 11:51:17,632 - INFO - ...\n",
      "2024-11-27 11:51:18,906 - INFO - ...\n",
      "2024-11-27 11:51:20,036 - INFO - ...\n",
      "2024-11-27 11:51:21,270 - INFO - ...\n",
      "2024-11-27 11:51:22,502 - INFO - ...\n",
      "2024-11-27 11:51:23,750 - INFO - ...\n",
      "2024-11-27 11:51:25,072 - INFO - ...\n",
      "2024-11-27 11:51:26,352 - INFO - ...\n",
      "2024-11-27 11:51:27,628 - INFO - ...\n",
      "2024-11-27 11:51:28,703 - INFO - ...\n",
      "2024-11-27 11:51:29,880 - INFO - ...\n",
      "2024-11-27 11:51:31,071 - INFO - ...\n",
      "2024-11-27 11:51:32,285 - INFO - ...\n",
      "2024-11-27 11:51:33,348 - INFO - ...\n",
      "2024-11-27 11:51:34,419 - INFO - ...\n",
      "2024-11-27 11:51:35,750 - INFO - ...\n",
      "2024-11-27 11:51:37,073 - INFO - ...\n",
      "2024-11-27 11:51:38,218 - INFO - ...\n",
      "2024-11-27 11:51:39,412 - INFO - ...\n",
      "2024-11-27 11:51:40,470 - INFO - ...\n",
      "2024-11-27 11:51:41,702 - INFO - ...\n",
      "2024-11-27 11:51:42,955 - INFO - ...\n",
      "2024-11-27 11:51:44,148 - INFO - ...\n",
      "2024-11-27 11:51:45,579 - INFO - ...\n",
      "2024-11-27 11:51:46,667 - INFO - ...\n",
      "2024-11-27 11:51:47,722 - INFO - ...\n",
      "2024-11-27 11:51:48,800 - INFO - ...\n",
      "2024-11-27 11:51:50,022 - INFO - ...\n",
      "2024-11-27 11:51:51,186 - INFO - ...\n",
      "2024-11-27 11:51:52,307 - INFO - ...\n",
      "2024-11-27 11:51:53,578 - INFO - ...\n",
      "2024-11-27 11:51:54,996 - INFO - ...\n",
      "2024-11-27 11:51:56,265 - INFO - ...\n",
      "2024-11-27 11:51:57,377 - INFO - ...\n",
      "2024-11-27 11:51:58,650 - INFO - ...\n",
      "2024-11-27 11:51:59,959 - INFO - ...\n",
      "2024-11-27 11:52:01,127 - INFO - ...\n",
      "2024-11-27 11:52:02,448 - INFO - ...\n",
      "2024-11-27 11:52:03,608 - INFO - ...\n",
      "2024-11-27 11:52:04,703 - INFO - ...\n",
      "2024-11-27 11:52:06,009 - INFO - ...\n",
      "2024-11-27 11:52:07,200 - INFO - ...\n",
      "2024-11-27 11:52:08,314 - INFO - ...\n",
      "2024-11-27 11:52:09,467 - INFO - ...\n",
      "2024-11-27 11:52:10,751 - INFO - ...\n",
      "2024-11-27 11:52:12,138 - INFO - ...\n",
      "2024-11-27 11:52:13,411 - INFO - ...\n",
      "2024-11-27 11:52:14,688 - INFO - ...\n",
      "2024-11-27 11:52:15,937 - INFO - ...\n",
      "2024-11-27 11:52:17,094 - INFO - ...\n",
      "2024-11-27 11:52:18,190 - INFO - ...\n",
      "2024-11-27 11:52:19,384 - INFO - ...\n",
      "2024-11-27 11:52:20,703 - INFO - ...\n",
      "2024-11-27 11:52:22,050 - INFO - ...\n",
      "2024-11-27 11:52:23,316 - INFO - ...\n",
      "2024-11-27 11:52:24,602 - INFO - ...\n",
      "2024-11-27 11:52:25,735 - INFO - ...\n",
      "2024-11-27 11:52:26,896 - INFO - ...\n",
      "2024-11-27 11:52:28,017 - INFO - ...\n",
      "2024-11-27 11:52:29,319 - INFO - ...\n",
      "2024-11-27 11:52:30,480 - INFO - ...\n",
      "2024-11-27 11:52:31,794 - INFO - ...\n",
      "2024-11-27 11:52:32,887 - INFO - ...\n",
      "2024-11-27 11:52:34,252 - INFO - ...\n",
      "2024-11-27 11:52:35,393 - INFO - ...\n",
      "2024-11-27 11:52:36,581 - INFO - ...\n",
      "2024-11-27 11:52:37,928 - INFO - ...\n",
      "2024-11-27 11:52:39,134 - INFO - ...\n",
      "2024-11-27 11:52:40,453 - INFO - ...\n",
      "2024-11-27 11:52:41,776 - INFO - ...\n",
      "2024-11-27 11:52:43,047 - INFO - ...\n",
      "2024-11-27 11:52:44,199 - INFO - ...\n",
      "2024-11-27 11:52:45,439 - INFO - ...\n",
      "2024-11-27 11:52:46,705 - INFO - ...\n",
      "2024-11-27 11:52:47,840 - INFO - ...\n",
      "2024-11-27 11:52:48,993 - INFO - ...\n",
      "2024-11-27 11:52:50,110 - INFO - ...\n",
      "2024-11-27 11:52:51,394 - INFO - ...\n",
      "2024-11-27 11:52:53,114 - INFO - ...\n",
      "2024-11-27 11:52:54,292 - INFO - ...\n",
      "2024-11-27 11:52:55,504 - INFO - ...\n",
      "2024-11-27 11:52:57,393 - INFO - ...\n",
      "2024-11-27 11:52:58,704 - INFO - ...\n",
      "2024-11-27 11:52:59,811 - INFO - ...\n",
      "2024-11-27 11:53:01,108 - INFO - ...\n",
      "2024-11-27 11:53:02,294 - INFO - ...\n",
      "2024-11-27 11:53:03,614 - INFO - ...\n",
      "2024-11-27 11:53:04,919 - INFO - ...\n",
      "2024-11-27 11:53:06,778 - INFO - ...\n",
      "2024-11-27 11:53:08,227 - INFO - ...\n",
      "2024-11-27 11:53:09,533 - INFO - ...\n",
      "2024-11-27 11:53:10,701 - INFO - ...\n",
      "2024-11-27 11:53:11,989 - INFO - ...\n",
      "2024-11-27 11:53:13,340 - INFO - ...\n",
      "2024-11-27 11:53:14,750 - INFO - ...\n",
      "2024-11-27 11:53:16,035 - INFO - ...\n",
      "2024-11-27 11:53:17,202 - INFO - ...\n",
      "2024-11-27 11:53:18,531 - INFO - ...\n",
      "2024-11-27 11:53:19,754 - INFO - ...\n",
      "2024-11-27 11:53:21,066 - INFO - ...\n",
      "2024-11-27 11:53:22,195 - INFO - ...\n",
      "2024-11-27 11:53:23,417 - INFO - ...\n",
      "2024-11-27 11:53:24,519 - INFO - ...\n",
      "2024-11-27 11:53:25,632 - INFO - ...\n",
      "2024-11-27 11:53:26,727 - INFO - ...\n",
      "2024-11-27 11:53:28,059 - INFO - ...\n",
      "2024-11-27 11:53:29,492 - INFO - ...\n",
      "2024-11-27 11:53:30,598 - INFO - ...\n",
      "2024-11-27 11:53:31,896 - INFO - ...\n",
      "2024-11-27 11:53:33,134 - INFO - ...\n",
      "2024-11-27 11:53:34,424 - INFO - ...\n",
      "2024-11-27 11:53:35,687 - INFO - ...\n",
      "2024-11-27 11:53:36,930 - INFO - ...\n",
      "2024-11-27 11:53:38,099 - INFO - ...\n",
      "2024-11-27 11:53:39,403 - INFO - ...\n",
      "2024-11-27 11:53:40,713 - INFO - ...\n",
      "2024-11-27 11:53:41,890 - INFO - ...\n",
      "2024-11-27 11:53:43,089 - INFO - ...\n",
      "2024-11-27 11:53:44,421 - INFO - ...\n",
      "2024-11-27 11:53:45,534 - INFO - ...\n",
      "2024-11-27 11:53:46,665 - INFO - ...\n",
      "2024-11-27 11:53:47,837 - INFO - ...\n",
      "2024-11-27 11:53:49,105 - INFO - ...\n",
      "2024-11-27 11:53:50,296 - INFO - ...\n",
      "2024-11-27 11:53:51,463 - INFO - ...\n",
      "2024-11-27 11:53:52,908 - INFO - ...\n",
      "2024-11-27 11:53:54,017 - INFO - ...\n",
      "2024-11-27 11:53:55,392 - INFO - ...\n",
      "2024-11-27 11:53:56,509 - INFO - ...\n",
      "2024-11-27 11:53:57,874 - INFO - ...\n",
      "2024-11-27 11:53:59,052 - INFO - ...\n",
      "2024-11-27 11:54:00,509 - INFO - ...\n",
      "2024-11-27 11:54:01,837 - INFO - ...\n",
      "2024-11-27 11:54:03,198 - INFO - ...\n",
      "2024-11-27 11:54:04,533 - INFO - ...\n",
      "2024-11-27 11:54:05,850 - INFO - ...\n",
      "2024-11-27 11:54:07,105 - INFO - ...\n",
      "2024-11-27 11:54:08,436 - INFO - ...\n",
      "2024-11-27 11:54:09,782 - INFO - ...\n",
      "2024-11-27 11:54:11,036 - INFO - ...\n",
      "2024-11-27 11:54:12,296 - INFO - ...\n",
      "2024-11-27 11:54:13,641 - INFO - ...\n",
      "2024-11-27 11:54:14,854 - INFO - ...\n",
      "2024-11-27 11:54:15,983 - INFO - ...\n",
      "2024-11-27 11:54:17,320 - INFO - ...\n",
      "2024-11-27 11:54:18,714 - INFO - ...\n",
      "2024-11-27 11:54:19,937 - INFO - ...\n",
      "2024-11-27 11:54:21,280 - INFO - ...\n",
      "2024-11-27 11:54:22,413 - INFO - ...\n",
      "2024-11-27 11:54:23,649 - INFO - ...\n",
      "2024-11-27 11:54:24,787 - INFO - ...\n",
      "2024-11-27 11:54:25,971 - INFO - ...\n",
      "2024-11-27 11:54:27,223 - INFO - ...\n",
      "2024-11-27 11:54:30,676 - INFO - ...\n",
      "2024-11-27 11:54:32,383 - INFO - ...\n",
      "2024-11-27 11:54:33,733 - INFO - ...\n",
      "2024-11-27 11:54:34,909 - INFO - ...\n",
      "2024-11-27 11:54:36,135 - INFO - ...\n",
      "2024-11-27 11:54:37,617 - INFO - ...\n",
      "2024-11-27 11:54:38,976 - INFO - ...\n",
      "2024-11-27 11:54:40,173 - INFO - ...\n",
      "2024-11-27 11:54:41,297 - INFO - ...\n",
      "2024-11-27 11:54:42,486 - INFO - ...\n",
      "2024-11-27 11:54:43,778 - INFO - ...\n",
      "2024-11-27 11:54:45,006 - INFO - ...\n",
      "2024-11-27 11:54:46,123 - INFO - ...\n",
      "2024-11-27 11:54:47,290 - INFO - ...\n",
      "2024-11-27 11:54:48,519 - INFO - ...\n",
      "2024-11-27 11:54:49,689 - INFO - ...\n",
      "2024-11-27 11:54:51,144 - INFO - ...\n",
      "2024-11-27 11:54:52,414 - INFO - ...\n",
      "2024-11-27 11:54:53,633 - INFO - ...\n",
      "2024-11-27 11:54:54,903 - INFO - ...\n",
      "2024-11-27 11:54:56,099 - INFO - ...\n",
      "2024-11-27 11:54:57,251 - INFO - ...\n",
      "2024-11-27 11:54:58,401 - INFO - ...\n",
      "2024-11-27 11:54:59,524 - INFO - ...\n",
      "2024-11-27 11:55:00,632 - INFO - ...\n",
      "2024-11-27 11:55:01,795 - INFO - ...\n",
      "2024-11-27 11:55:03,145 - INFO - ...\n",
      "2024-11-27 11:55:04,397 - INFO - ...\n",
      "2024-11-27 11:55:05,637 - INFO - ...\n",
      "2024-11-27 11:55:06,833 - INFO - ...\n",
      "2024-11-27 11:55:08,003 - INFO - ...\n",
      "2024-11-27 11:55:09,184 - INFO - ...\n",
      "2024-11-27 11:55:10,354 - INFO - ...\n",
      "2024-11-27 11:55:11,645 - INFO - ...\n",
      "2024-11-27 11:55:12,911 - INFO - ...\n",
      "2024-11-27 11:55:14,266 - INFO - ...\n",
      "2024-11-27 11:55:15,383 - INFO - ...\n",
      "2024-11-27 11:55:16,524 - INFO - ...\n",
      "2024-11-27 11:55:18,088 - INFO - ...\n",
      "2024-11-27 11:55:19,371 - INFO - ...\n",
      "2024-11-27 11:55:20,761 - INFO - ...\n",
      "2024-11-27 11:55:22,030 - INFO - ...\n",
      "2024-11-27 11:55:23,227 - INFO - ...\n",
      "2024-11-27 11:55:24,408 - INFO - ...\n",
      "2024-11-27 11:55:25,613 - INFO - ...\n",
      "2024-11-27 11:55:26,823 - INFO - ...\n",
      "2024-11-27 11:55:28,001 - INFO - ...\n",
      "2024-11-27 11:55:29,158 - INFO - ...\n",
      "2024-11-27 11:55:30,360 - INFO - ...\n",
      "2024-11-27 11:55:31,504 - INFO - ...\n",
      "2024-11-27 11:55:32,770 - INFO - ...\n",
      "2024-11-27 11:55:33,916 - INFO - ...\n",
      "2024-11-27 11:55:35,053 - INFO - ...\n",
      "2024-11-27 11:55:36,502 - INFO - ...\n",
      "2024-11-27 11:55:37,879 - INFO - ...\n",
      "2024-11-27 11:55:39,166 - INFO - ...\n",
      "2024-11-27 11:55:40,306 - INFO - ...\n",
      "2024-11-27 11:55:41,434 - INFO - ...\n",
      "2024-11-27 11:55:42,629 - INFO - ...\n",
      "2024-11-27 11:55:43,818 - INFO - ...\n",
      "2024-11-27 11:55:45,030 - INFO - ...\n",
      "2024-11-27 11:55:46,459 - INFO - ...\n",
      "2024-11-27 11:55:47,609 - INFO - ...\n",
      "2024-11-27 11:55:48,726 - INFO - ...\n",
      "2024-11-27 11:55:49,931 - INFO - ...\n",
      "2024-11-27 11:55:51,131 - INFO - ...\n",
      "2024-11-27 11:55:52,522 - INFO - ...\n",
      "2024-11-27 11:55:53,876 - INFO - ...\n",
      "2024-11-27 11:55:55,094 - INFO - ...\n",
      "2024-11-27 11:55:56,545 - INFO - ...\n",
      "2024-11-27 11:55:57,710 - INFO - ...\n",
      "2024-11-27 11:55:58,906 - INFO - ...\n",
      "2024-11-27 11:56:00,112 - INFO - ...\n",
      "2024-11-27 11:56:01,283 - INFO - ...\n",
      "2024-11-27 11:56:02,546 - INFO - ...\n",
      "2024-11-27 11:56:03,910 - INFO - ...\n",
      "2024-11-27 11:56:05,052 - INFO - ...\n",
      "2024-11-27 11:56:06,169 - INFO - ...\n",
      "2024-11-27 11:56:07,365 - INFO - ...\n",
      "2024-11-27 11:56:08,663 - INFO - ...\n",
      "2024-11-27 11:56:09,839 - INFO - ...\n",
      "2024-11-27 11:56:11,264 - INFO - ...\n",
      "2024-11-27 11:56:12,549 - INFO - ...\n",
      "2024-11-27 11:56:13,749 - INFO - ...\n",
      "2024-11-27 11:56:14,951 - INFO - ...\n",
      "2024-11-27 11:56:16,115 - INFO - ...\n",
      "2024-11-27 11:56:17,364 - INFO - ...\n",
      "2024-11-27 11:56:18,534 - INFO - ...\n",
      "2024-11-27 11:56:19,792 - INFO - ...\n",
      "2024-11-27 11:56:20,954 - INFO - ...\n",
      "2024-11-27 11:56:22,079 - INFO - ...\n",
      "2024-11-27 11:56:23,341 - INFO - ...\n",
      "2024-11-27 11:56:24,489 - INFO - ...\n",
      "2024-11-27 11:56:25,701 - INFO - ...\n",
      "2024-11-27 11:56:26,849 - INFO - ...\n",
      "2024-11-27 11:56:28,121 - INFO - ...\n",
      "2024-11-27 11:56:29,599 - INFO - ...\n",
      "2024-11-27 11:56:30,847 - INFO - ...\n",
      "2024-11-27 11:56:32,057 - INFO - ...\n",
      "2024-11-27 11:56:33,393 - INFO - ...\n",
      "2024-11-27 11:56:34,641 - INFO - ...\n",
      "2024-11-27 11:56:35,896 - INFO - ...\n",
      "2024-11-27 11:56:37,190 - INFO - ...\n",
      "2024-11-27 11:56:38,503 - INFO - ...\n",
      "2024-11-27 11:56:39,820 - INFO - ...\n",
      "2024-11-27 11:56:42,089 - INFO - ...\n",
      "2024-11-27 11:56:43,513 - INFO - ...\n",
      "2024-11-27 11:56:44,701 - INFO - ...\n",
      "2024-11-27 11:56:46,334 - INFO - ...\n",
      "2024-11-27 11:56:47,955 - INFO - ...\n",
      "2024-11-27 11:56:49,423 - INFO - ...\n",
      "2024-11-27 11:56:50,740 - INFO - ...\n",
      "2024-11-27 11:56:52,117 - INFO - ...\n",
      "2024-11-27 11:56:53,502 - INFO - ...\n",
      "2024-11-27 11:56:55,126 - INFO - ...\n",
      "2024-11-27 11:56:56,385 - INFO - ...\n",
      "2024-11-27 11:56:57,670 - INFO - ...\n",
      "2024-11-27 11:56:59,014 - INFO - ...\n",
      "2024-11-27 11:57:00,314 - INFO - ...\n",
      "2024-11-27 11:57:01,588 - INFO - ...\n",
      "2024-11-27 11:57:03,177 - INFO - ...\n",
      "2024-11-27 11:57:04,429 - INFO - ...\n",
      "2024-11-27 11:57:05,719 - INFO - ...\n",
      "2024-11-27 11:57:07,216 - INFO - ...\n",
      "2024-11-27 11:57:08,661 - INFO - ...\n",
      "2024-11-27 11:57:10,021 - INFO - ...\n",
      "2024-11-27 11:57:11,408 - INFO - ...\n",
      "2024-11-27 11:57:12,809 - INFO - ...\n",
      "2024-11-27 11:57:14,066 - INFO - ...\n",
      "2024-11-27 11:57:15,365 - INFO - ...\n",
      "2024-11-27 11:57:16,707 - INFO - ...\n",
      "2024-11-27 11:57:18,062 - INFO - ...\n",
      "2024-11-27 11:57:19,221 - INFO - ...\n",
      "2024-11-27 11:57:20,532 - INFO - ...\n",
      "2024-11-27 11:57:21,901 - INFO - ...\n",
      "2024-11-27 11:57:23,491 - INFO - ...\n",
      "2024-11-27 11:57:24,880 - INFO - ...\n",
      "2024-11-27 11:57:26,652 - INFO - ...\n",
      "2024-11-27 11:57:28,058 - INFO - ...\n",
      "2024-11-27 11:57:29,364 - INFO - ...\n",
      "2024-11-27 11:57:30,571 - INFO - ...\n",
      "2024-11-27 11:57:31,893 - INFO - ...\n",
      "2024-11-27 11:57:33,354 - INFO - ...\n",
      "2024-11-27 11:57:34,808 - INFO - ...\n",
      "2024-11-27 11:57:36,350 - INFO - ...\n",
      "2024-11-27 11:57:37,758 - INFO - ...\n",
      "2024-11-27 11:57:39,225 - INFO - ...\n",
      "2024-11-27 11:57:40,580 - INFO - ...\n",
      "2024-11-27 11:57:42,005 - INFO - ...\n",
      "2024-11-27 11:57:43,411 - INFO - ...\n",
      "2024-11-27 11:57:44,729 - INFO - ...\n",
      "2024-11-27 11:57:46,005 - INFO - ...\n",
      "2024-11-27 11:57:47,521 - INFO - ...\n",
      "2024-11-27 11:57:48,775 - INFO - ...\n",
      "2024-11-27 11:57:49,970 - INFO - ...\n",
      "2024-11-27 11:57:51,137 - INFO - ...\n",
      "2024-11-27 11:57:52,507 - INFO - ...\n",
      "2024-11-27 11:57:53,825 - INFO - ...\n",
      "2024-11-27 11:57:55,188 - INFO - ...\n",
      "2024-11-27 11:57:56,376 - INFO - ...\n",
      "2024-11-27 11:57:57,589 - INFO - ...\n",
      "2024-11-27 11:57:58,781 - INFO - ...\n",
      "2024-11-27 11:57:59,974 - INFO - ...\n",
      "2024-11-27 11:58:01,177 - INFO - ...\n",
      "2024-11-27 11:58:02,691 - INFO - ...\n",
      "2024-11-27 11:58:03,992 - INFO - ...\n",
      "2024-11-27 11:58:05,403 - INFO - ...\n",
      "2024-11-27 11:58:06,948 - INFO - ...\n",
      "2024-11-27 11:58:08,183 - INFO - ...\n",
      "2024-11-27 11:58:09,544 - INFO - ...\n",
      "2024-11-27 11:58:10,810 - INFO - ...\n",
      "2024-11-27 11:58:12,298 - INFO - ...\n",
      "2024-11-27 11:58:13,495 - INFO - ...\n",
      "2024-11-27 11:58:14,728 - INFO - ...\n",
      "2024-11-27 11:58:16,078 - INFO - ...\n",
      "2024-11-27 11:58:17,314 - INFO - ...\n",
      "2024-11-27 11:58:18,492 - INFO - ...\n",
      "2024-11-27 11:58:19,646 - INFO - ...\n",
      "2024-11-27 11:58:21,041 - INFO - ...\n",
      "2024-11-27 11:58:22,346 - INFO - ...\n",
      "2024-11-27 11:58:23,674 - INFO - ...\n",
      "2024-11-27 11:58:24,943 - INFO - ...\n",
      "2024-11-27 11:58:26,163 - INFO - ...\n",
      "2024-11-27 11:58:27,400 - INFO - ...\n",
      "2024-11-27 11:58:28,819 - INFO - ...\n",
      "2024-11-27 11:58:30,220 - INFO - ...\n",
      "2024-11-27 11:58:31,464 - INFO - ...\n",
      "2024-11-27 11:58:32,711 - INFO - ...\n",
      "2024-11-27 11:58:34,125 - INFO - ...\n",
      "2024-11-27 11:58:35,583 - INFO - ...\n",
      "2024-11-27 11:58:36,925 - INFO - ...\n",
      "2024-11-27 11:58:38,240 - INFO - ...\n",
      "2024-11-27 11:58:39,652 - INFO - ...\n",
      "2024-11-27 11:58:40,929 - INFO - ...\n",
      "2024-11-27 11:58:42,331 - INFO - ...\n",
      "2024-11-27 11:58:43,631 - INFO - ...\n",
      "2024-11-27 11:58:45,010 - INFO - ...\n",
      "2024-11-27 11:58:46,332 - INFO - ...\n",
      "2024-11-27 11:58:47,500 - INFO - ...\n",
      "2024-11-27 11:58:48,937 - INFO - ...\n",
      "2024-11-27 11:58:50,134 - INFO - ...\n",
      "2024-11-27 11:58:51,630 - INFO - ...\n",
      "2024-11-27 11:58:52,987 - INFO - ...\n",
      "2024-11-27 11:58:54,249 - INFO - ...\n",
      "2024-11-27 11:58:55,490 - INFO - ...\n",
      "2024-11-27 11:58:56,755 - INFO - ...\n",
      "2024-11-27 11:58:57,953 - INFO - ...\n",
      "2024-11-27 11:58:59,304 - INFO - ...\n",
      "2024-11-27 11:59:00,669 - INFO - ...\n",
      "2024-11-27 11:59:02,021 - INFO - ...\n",
      "2024-11-27 11:59:03,429 - INFO - ...\n",
      "2024-11-27 11:59:04,645 - INFO - ...\n",
      "2024-11-27 11:59:05,916 - INFO - ...\n",
      "2024-11-27 11:59:07,100 - INFO - ...\n",
      "2024-11-27 11:59:08,412 - INFO - ...\n",
      "2024-11-27 11:59:09,689 - INFO - ...\n",
      "2024-11-27 11:59:11,040 - INFO - ...\n",
      "2024-11-27 11:59:12,286 - INFO - ...\n",
      "2024-11-27 11:59:13,749 - INFO - ...\n",
      "2024-11-27 11:59:15,190 - INFO - ...\n",
      "2024-11-27 11:59:16,466 - INFO - ...\n",
      "2024-11-27 11:59:17,700 - INFO - ...\n",
      "2024-11-27 11:59:19,044 - INFO - ...\n",
      "2024-11-27 11:59:20,441 - INFO - ...\n",
      "2024-11-27 11:59:21,843 - INFO - ...\n",
      "2024-11-27 11:59:23,080 - INFO - ...\n",
      "2024-11-27 11:59:24,412 - INFO - ...\n",
      "2024-11-27 11:59:25,784 - INFO - ...\n",
      "2024-11-27 11:59:27,089 - INFO - ...\n",
      "2024-11-27 11:59:28,353 - INFO - ...\n",
      "2024-11-27 11:59:29,580 - INFO - ...\n",
      "2024-11-27 11:59:30,875 - INFO - ...\n",
      "2024-11-27 11:59:32,155 - INFO - ...\n",
      "2024-11-27 11:59:33,405 - INFO - ...\n",
      "2024-11-27 11:59:34,617 - INFO - ...\n",
      "2024-11-27 11:59:36,001 - INFO - ...\n",
      "2024-11-27 11:59:37,326 - INFO - ...\n",
      "2024-11-27 11:59:38,607 - INFO - ...\n",
      "2024-11-27 11:59:39,948 - INFO - ...\n",
      "2024-11-27 11:59:41,389 - INFO - ...\n",
      "2024-11-27 11:59:42,542 - INFO - ...\n",
      "2024-11-27 11:59:43,924 - INFO - ...\n",
      "2024-11-27 11:59:45,441 - INFO - ...\n",
      "2024-11-27 11:59:46,812 - INFO - ...\n",
      "2024-11-27 11:59:48,167 - INFO - ...\n",
      "2024-11-27 11:59:49,444 - INFO - ...\n",
      "2024-11-27 11:59:50,830 - INFO - ...\n",
      "2024-11-27 11:59:52,038 - INFO - ...\n",
      "2024-11-27 11:59:53,497 - INFO - ...\n",
      "2024-11-27 11:59:54,807 - INFO - ...\n",
      "2024-11-27 11:59:56,145 - INFO - ...\n",
      "2024-11-27 11:59:57,548 - INFO - ...\n",
      "2024-11-27 11:59:58,868 - INFO - ...\n",
      "2024-11-27 12:00:00,120 - INFO - ...\n",
      "2024-11-27 12:00:01,610 - INFO - ...\n",
      "2024-11-27 12:00:02,969 - INFO - ...\n",
      "2024-11-27 12:00:04,226 - INFO - ...\n",
      "2024-11-27 12:00:05,793 - INFO - ...\n",
      "2024-11-27 12:00:07,024 - INFO - ...\n",
      "2024-11-27 12:00:09,885 - INFO - ...\n",
      "2024-11-27 12:00:11,987 - INFO - ...\n",
      "2024-11-27 12:00:13,758 - INFO - ...\n",
      "2024-11-27 12:00:15,232 - INFO - ...\n",
      "2024-11-27 12:00:18,002 - INFO - ...\n",
      "2024-11-27 12:00:19,281 - INFO - ...\n",
      "2024-11-27 12:00:20,742 - INFO - ...\n",
      "2024-11-27 12:00:22,173 - INFO - ...\n",
      "2024-11-27 12:00:23,631 - INFO - ...\n",
      "2024-11-27 12:00:25,040 - INFO - ...\n",
      "2024-11-27 12:00:26,453 - INFO - ...\n",
      "2024-11-27 12:00:27,957 - INFO - ...\n",
      "2024-11-27 12:00:29,402 - INFO - ...\n",
      "2024-11-27 12:00:30,703 - INFO - ...\n",
      "2024-11-27 12:00:32,121 - INFO - ...\n",
      "2024-11-27 12:00:33,541 - INFO - ...\n",
      "2024-11-27 12:00:35,124 - INFO - ...\n",
      "2024-11-27 12:00:36,452 - INFO - ...\n",
      "2024-11-27 12:00:37,619 - INFO - ...\n",
      "2024-11-27 12:00:38,829 - INFO - ...\n",
      "2024-11-27 12:00:40,196 - INFO - ...\n",
      "2024-11-27 12:00:41,639 - INFO - ...\n",
      "2024-11-27 12:00:42,901 - INFO - ...\n",
      "2024-11-27 12:00:44,194 - INFO - ...\n",
      "2024-11-27 12:00:45,751 - INFO - ...\n",
      "2024-11-27 12:00:46,974 - INFO - ...\n",
      "2024-11-27 12:00:49,524 - INFO - ...\n",
      "2024-11-27 12:00:51,065 - INFO - ...\n",
      "2024-11-27 12:00:52,454 - INFO - ...\n",
      "2024-11-27 12:00:53,942 - INFO - ...\n",
      "2024-11-27 12:00:55,352 - INFO - ...\n",
      "2024-11-27 12:00:56,703 - INFO - ...\n",
      "2024-11-27 12:00:58,296 - INFO - ...\n",
      "2024-11-27 12:01:00,151 - INFO - ...\n",
      "2024-11-27 12:01:01,358 - INFO - ...\n",
      "2024-11-27 12:01:02,738 - INFO - ...\n",
      "2024-11-27 12:01:04,261 - INFO - ...\n",
      "2024-11-27 12:01:05,689 - INFO - ...\n",
      "2024-11-27 12:01:06,988 - INFO - ...\n",
      "2024-11-27 12:01:08,361 - INFO - ...\n",
      "2024-11-27 12:01:09,707 - INFO - ...\n",
      "2024-11-27 12:01:10,882 - INFO - ...\n",
      "2024-11-27 12:01:12,551 - INFO - ...\n",
      "2024-11-27 12:01:13,846 - INFO - ...\n",
      "2024-11-27 12:01:15,103 - INFO - ...\n",
      "2024-11-27 12:01:16,525 - INFO - ...\n",
      "2024-11-27 12:01:18,134 - INFO - ...\n",
      "2024-11-27 12:01:19,842 - INFO - ...\n",
      "2024-11-27 12:01:21,432 - INFO - ...\n",
      "2024-11-27 12:01:23,120 - INFO - ...\n",
      "2024-11-27 12:01:24,622 - INFO - ...\n",
      "2024-11-27 12:01:26,048 - INFO - ...\n",
      "2024-11-27 12:01:28,246 - INFO - ...\n",
      "2024-11-27 12:01:29,764 - INFO - ...\n",
      "2024-11-27 12:01:31,014 - INFO - ...\n",
      "2024-11-27 12:01:32,486 - INFO - ...\n",
      "2024-11-27 12:01:34,066 - INFO - ...\n",
      "2024-11-27 12:01:35,376 - INFO - ...\n",
      "2024-11-27 12:01:36,856 - INFO - ...\n",
      "2024-11-27 12:01:38,178 - INFO - ...\n",
      "2024-11-27 12:01:39,990 - INFO - ...\n",
      "2024-11-27 12:01:41,179 - INFO - ...\n",
      "2024-11-27 12:01:42,635 - INFO - ...\n",
      "2024-11-27 12:01:43,912 - INFO - ...\n",
      "2024-11-27 12:01:45,239 - INFO - ...\n",
      "2024-11-27 12:01:46,494 - INFO - ...\n",
      "2024-11-27 12:01:47,800 - INFO - ...\n",
      "2024-11-27 12:01:49,924 - INFO - ...\n",
      "2024-11-27 12:01:51,434 - INFO - ...\n",
      "2024-11-27 12:01:52,625 - INFO - ...\n",
      "2024-11-27 12:01:53,992 - INFO - ...\n",
      "2024-11-27 12:01:56,362 - INFO - ...\n",
      "2024-11-27 12:01:58,006 - INFO - ...\n",
      "2024-11-27 12:01:59,373 - INFO - ...\n",
      "2024-11-27 12:02:00,850 - INFO - ...\n",
      "2024-11-27 12:02:02,313 - INFO - ...\n",
      "2024-11-27 12:02:03,828 - INFO - ...\n",
      "2024-11-27 12:02:05,313 - INFO - ...\n",
      "2024-11-27 12:02:06,682 - INFO - ...\n",
      "2024-11-27 12:02:07,881 - INFO - ...\n",
      "2024-11-27 12:02:09,249 - INFO - ...\n",
      "2024-11-27 12:02:10,724 - INFO - ...\n",
      "2024-11-27 12:02:12,141 - INFO - ...\n",
      "2024-11-27 12:02:13,681 - INFO - ...\n",
      "2024-11-27 12:02:15,043 - INFO - ...\n",
      "2024-11-27 12:02:16,548 - INFO - ...\n",
      "2024-11-27 12:02:17,947 - INFO - ...\n",
      "2024-11-27 12:02:19,279 - INFO - ...\n",
      "2024-11-27 12:02:20,684 - INFO - ...\n",
      "2024-11-27 12:02:22,042 - INFO - ...\n",
      "2024-11-27 12:02:23,589 - INFO - ...\n",
      "2024-11-27 12:02:25,122 - INFO - ...\n",
      "2024-11-27 12:02:26,588 - INFO - ...\n",
      "2024-11-27 12:02:28,392 - INFO - ...\n",
      "2024-11-27 12:02:31,076 - INFO - ...\n",
      "2024-11-27 12:02:32,379 - INFO - ...\n",
      "2024-11-27 12:02:34,020 - INFO - ...\n",
      "2024-11-27 12:02:35,548 - INFO - ...\n",
      "2024-11-27 12:02:36,974 - INFO - ...\n",
      "2024-11-27 12:02:38,234 - INFO - ...\n",
      "2024-11-27 12:02:39,519 - INFO - ...\n",
      "2024-11-27 12:02:40,755 - INFO - ...\n",
      "2024-11-27 12:02:42,111 - INFO - ...\n",
      "2024-11-27 12:02:43,381 - INFO - ...\n",
      "2024-11-27 12:02:44,844 - INFO - ...\n",
      "2024-11-27 12:02:47,861 - INFO - ...\n",
      "2024-11-27 12:02:49,650 - INFO - ...\n",
      "2024-11-27 12:02:50,094 - INFO - Data indexed. self.total_indexing_time=720755.3125s\n",
      "2024-11-27 12:02:50,200 - INFO - Load pretrained SentenceTransformer: sentence-transformers/all-MiniLM-L6-v2\n",
      "2024-11-27 12:02:51,190 - INFO - Use pytorch device_name: mps\n"
     ]
    },
    {
     "data": {
      "application/vnd.jupyter.widget-view+json": {
       "model_id": "a6766f9cd38a41b8ae6230a8042d4fa7",
       "version_major": 2,
       "version_minor": 0
      },
      "text/plain": [
       "Batches:   0%|          | 0/1 [00:00<?, ?it/s]"
      ]
     },
     "metadata": {},
     "output_type": "display_data"
    },
    {
     "data": {
      "application/vnd.jupyter.widget-view+json": {
       "model_id": "544d154bf6be4658b01b42b777b0bbd3",
       "version_major": 2,
       "version_minor": 0
      },
      "text/plain": [
       "Batches:   0%|          | 0/1 [00:00<?, ?it/s]"
      ]
     },
     "metadata": {},
     "output_type": "display_data"
    },
    {
     "data": {
      "application/vnd.jupyter.widget-view+json": {
       "model_id": "38c3fd6395b842f0a793bab272378a98",
       "version_major": 2,
       "version_minor": 0
      },
      "text/plain": [
       "Batches:   0%|          | 0/1 [00:00<?, ?it/s]"
      ]
     },
     "metadata": {},
     "output_type": "display_data"
    },
    {
     "data": {
      "application/vnd.jupyter.widget-view+json": {
       "model_id": "d742d0cf922e42769f3bfdff0b73a437",
       "version_major": 2,
       "version_minor": 0
      },
      "text/plain": [
       "Batches:   0%|          | 0/1 [00:00<?, ?it/s]"
      ]
     },
     "metadata": {},
     "output_type": "display_data"
    },
    {
     "data": {
      "application/vnd.jupyter.widget-view+json": {
       "model_id": "e36a1a1d19f74aa697e1e7c5c2e5543f",
       "version_major": 2,
       "version_minor": 0
      },
      "text/plain": [
       "Batches:   0%|          | 0/1 [00:00<?, ?it/s]"
      ]
     },
     "metadata": {},
     "output_type": "display_data"
    },
    {
     "data": {
      "application/vnd.jupyter.widget-view+json": {
       "model_id": "f334aceeb19c403f820a51f6b0097851",
       "version_major": 2,
       "version_minor": 0
      },
      "text/plain": [
       "Batches:   0%|          | 0/1 [00:00<?, ?it/s]"
      ]
     },
     "metadata": {},
     "output_type": "display_data"
    },
    {
     "data": {
      "application/vnd.jupyter.widget-view+json": {
       "model_id": "c64542daee074247b783b94b3b39867d",
       "version_major": 2,
       "version_minor": 0
      },
      "text/plain": [
       "Batches:   0%|          | 0/1 [00:00<?, ?it/s]"
      ]
     },
     "metadata": {},
     "output_type": "display_data"
    },
    {
     "data": {
      "application/vnd.jupyter.widget-view+json": {
       "model_id": "3ee5aeedb2d547c7ac7ca0da7d09d9b7",
       "version_major": 2,
       "version_minor": 0
      },
      "text/plain": [
       "Batches:   0%|          | 0/1 [00:00<?, ?it/s]"
      ]
     },
     "metadata": {},
     "output_type": "display_data"
    },
    {
     "data": {
      "application/vnd.jupyter.widget-view+json": {
       "model_id": "42a34f3be0664ff999951d399df9506d",
       "version_major": 2,
       "version_minor": 0
      },
      "text/plain": [
       "Batches:   0%|          | 0/1 [00:00<?, ?it/s]"
      ]
     },
     "metadata": {},
     "output_type": "display_data"
    },
    {
     "data": {
      "application/vnd.jupyter.widget-view+json": {
       "model_id": "1ade3d59b2c14127847d692689921c48",
       "version_major": 2,
       "version_minor": 0
      },
      "text/plain": [
       "Batches:   0%|          | 0/1 [00:00<?, ?it/s]"
      ]
     },
     "metadata": {},
     "output_type": "display_data"
    },
    {
     "data": {
      "application/vnd.jupyter.widget-view+json": {
       "model_id": "ce835ee01e5d4d7bbdb4b64a3ba62207",
       "version_major": 2,
       "version_minor": 0
      },
      "text/plain": [
       "Batches:   0%|          | 0/1 [00:00<?, ?it/s]"
      ]
     },
     "metadata": {},
     "output_type": "display_data"
    },
    {
     "data": {
      "application/vnd.jupyter.widget-view+json": {
       "model_id": "68c256e30b3249978815b5234939b769",
       "version_major": 2,
       "version_minor": 0
      },
      "text/plain": [
       "Batches:   0%|          | 0/1 [00:00<?, ?it/s]"
      ]
     },
     "metadata": {},
     "output_type": "display_data"
    },
    {
     "data": {
      "application/vnd.jupyter.widget-view+json": {
       "model_id": "76db1db2e3594d16b791686c1e360291",
       "version_major": 2,
       "version_minor": 0
      },
      "text/plain": [
       "Batches:   0%|          | 0/1 [00:00<?, ?it/s]"
      ]
     },
     "metadata": {},
     "output_type": "display_data"
    },
    {
     "name": "stderr",
     "output_type": "stream",
     "text": [
      "2024-11-27 12:03:00,602 - INFO - Calculating retrieval metrics for test_id: 5c6641f3-d4b4-43fb-bc5e-fb5481e67113\n",
      "2024-11-27 12:03:00,644 - INFO - Overall f1 at 4 for retrieval: 0.15833333333333333\n",
      "[I 2024-11-27 12:03:00,655] Trial 18 finished with value: 0.5170993187911217 and parameters: {'model_info': {'provider': 'hf', 'model': 'sentence-transformers/all-MiniLM-L6-v2', 'dim': 384}, 'algorithm': 'hnsw', 'var_dtype': 'float16', 'ret_k': 4, 'ef_runtime': 20, 'ef_construction': 300, 'm': 8}. Best is trial 14 with value: 1.0108533762611567.\n",
      "2024-11-27 12:03:00,665 - INFO - Running for Retriever: DefaultQueryRetriever with additional_schema_fields=None\n",
      "2024-11-27 12:03:00,700 - INFO - Load pretrained SentenceTransformer: sentence-transformers/all-MiniLM-L6-v2\n"
     ]
    },
    {
     "name": "stdout",
     "output_type": "stream",
     "text": [
      "\n",
      "\n",
      " Running for: \n",
      " model_str: sentence-transformers/all-MiniLM-L6-v2 \n",
      " ef_runtime: 20 \n",
      " ef_construction: 200 \n",
      " m: 16 \n",
      "\n",
      "\n"
     ]
    },
    {
     "name": "stderr",
     "output_type": "stream",
     "text": [
      "2024-11-27 12:03:02,623 - INFO - Use pytorch device_name: mps\n"
     ]
    },
    {
     "data": {
      "application/vnd.jupyter.widget-view+json": {
       "model_id": "237fee4236b54aba90e90de8115a1aa5",
       "version_major": 2,
       "version_minor": 0
      },
      "text/plain": [
       "Batches:   0%|          | 0/1 [00:00<?, ?it/s]"
      ]
     },
     "metadata": {},
     "output_type": "display_data"
    },
    {
     "data": {
      "application/vnd.jupyter.widget-view+json": {
       "model_id": "15669e325e414adbacd4c1339f3da5e5",
       "version_major": 2,
       "version_minor": 0
      },
      "text/plain": [
       "Batches:   0%|          | 0/8 [00:00<?, ?it/s]"
      ]
     },
     "metadata": {},
     "output_type": "display_data"
    },
    {
     "name": "stderr",
     "output_type": "stream",
     "text": [
      "2024-11-27 12:03:08,733 - INFO - Indexing data...\n",
      "2024-11-27 12:03:30,712 - INFO - ...\n",
      "2024-11-27 12:03:31,737 - INFO - ...\n",
      "2024-11-27 12:03:32,771 - INFO - ...\n",
      "2024-11-27 12:03:33,784 - INFO - ...\n",
      "2024-11-27 12:03:34,795 - INFO - ...\n",
      "2024-11-27 12:03:36,071 - INFO - ...\n",
      "2024-11-27 12:03:37,103 - INFO - ...\n",
      "2024-11-27 12:03:38,182 - INFO - ...\n",
      "2024-11-27 12:03:39,194 - INFO - ...\n",
      "2024-11-27 12:03:40,359 - INFO - ...\n",
      "2024-11-27 12:03:41,466 - INFO - ...\n",
      "2024-11-27 12:03:42,479 - INFO - ...\n",
      "2024-11-27 12:03:43,491 - INFO - ...\n",
      "2024-11-27 12:03:44,503 - INFO - ...\n",
      "2024-11-27 12:03:45,510 - INFO - ...\n",
      "2024-11-27 12:03:46,529 - INFO - ...\n",
      "2024-11-27 12:03:47,536 - INFO - ...\n",
      "2024-11-27 12:03:48,545 - INFO - ...\n",
      "2024-11-27 12:03:49,553 - INFO - ...\n",
      "2024-11-27 12:03:49,587 - INFO - Data indexed. self.total_indexing_time=22822.03125s\n",
      "2024-11-27 12:03:49,738 - INFO - Load pretrained SentenceTransformer: sentence-transformers/all-MiniLM-L6-v2\n",
      "2024-11-27 12:03:51,359 - INFO - Use pytorch device_name: mps\n"
     ]
    },
    {
     "data": {
      "application/vnd.jupyter.widget-view+json": {
       "model_id": "3d7ccdffa5a24c5ea8c177f81b75cbcf",
       "version_major": 2,
       "version_minor": 0
      },
      "text/plain": [
       "Batches:   0%|          | 0/1 [00:00<?, ?it/s]"
      ]
     },
     "metadata": {},
     "output_type": "display_data"
    },
    {
     "data": {
      "application/vnd.jupyter.widget-view+json": {
       "model_id": "cb4bea6676164ea79053494019949ea6",
       "version_major": 2,
       "version_minor": 0
      },
      "text/plain": [
       "Batches:   0%|          | 0/1 [00:00<?, ?it/s]"
      ]
     },
     "metadata": {},
     "output_type": "display_data"
    },
    {
     "data": {
      "application/vnd.jupyter.widget-view+json": {
       "model_id": "fa1435904e06498cadb699f950b16fa4",
       "version_major": 2,
       "version_minor": 0
      },
      "text/plain": [
       "Batches:   0%|          | 0/1 [00:00<?, ?it/s]"
      ]
     },
     "metadata": {},
     "output_type": "display_data"
    },
    {
     "data": {
      "application/vnd.jupyter.widget-view+json": {
       "model_id": "bd4eb93bc4464e2da9c61d011242e805",
       "version_major": 2,
       "version_minor": 0
      },
      "text/plain": [
       "Batches:   0%|          | 0/1 [00:00<?, ?it/s]"
      ]
     },
     "metadata": {},
     "output_type": "display_data"
    },
    {
     "data": {
      "application/vnd.jupyter.widget-view+json": {
       "model_id": "83e7928d5a3646c085420143be3a5a2f",
       "version_major": 2,
       "version_minor": 0
      },
      "text/plain": [
       "Batches:   0%|          | 0/1 [00:00<?, ?it/s]"
      ]
     },
     "metadata": {},
     "output_type": "display_data"
    },
    {
     "data": {
      "application/vnd.jupyter.widget-view+json": {
       "model_id": "8c279281f321498ea9d2e992c04d7b58",
       "version_major": 2,
       "version_minor": 0
      },
      "text/plain": [
       "Batches:   0%|          | 0/1 [00:00<?, ?it/s]"
      ]
     },
     "metadata": {},
     "output_type": "display_data"
    },
    {
     "data": {
      "application/vnd.jupyter.widget-view+json": {
       "model_id": "af11432e6221412e8520873b5d4533f8",
       "version_major": 2,
       "version_minor": 0
      },
      "text/plain": [
       "Batches:   0%|          | 0/1 [00:00<?, ?it/s]"
      ]
     },
     "metadata": {},
     "output_type": "display_data"
    },
    {
     "data": {
      "application/vnd.jupyter.widget-view+json": {
       "model_id": "b151753d93584f229769d673dab97d06",
       "version_major": 2,
       "version_minor": 0
      },
      "text/plain": [
       "Batches:   0%|          | 0/1 [00:00<?, ?it/s]"
      ]
     },
     "metadata": {},
     "output_type": "display_data"
    },
    {
     "data": {
      "application/vnd.jupyter.widget-view+json": {
       "model_id": "00d0f4c8f0124e709f08d200b65e1f2f",
       "version_major": 2,
       "version_minor": 0
      },
      "text/plain": [
       "Batches:   0%|          | 0/1 [00:00<?, ?it/s]"
      ]
     },
     "metadata": {},
     "output_type": "display_data"
    },
    {
     "data": {
      "application/vnd.jupyter.widget-view+json": {
       "model_id": "c151fa9d44c44033b2a608a9b0b8e61d",
       "version_major": 2,
       "version_minor": 0
      },
      "text/plain": [
       "Batches:   0%|          | 0/1 [00:00<?, ?it/s]"
      ]
     },
     "metadata": {},
     "output_type": "display_data"
    },
    {
     "data": {
      "application/vnd.jupyter.widget-view+json": {
       "model_id": "cb969cff760b4e68a236848b781da61b",
       "version_major": 2,
       "version_minor": 0
      },
      "text/plain": [
       "Batches:   0%|          | 0/1 [00:00<?, ?it/s]"
      ]
     },
     "metadata": {},
     "output_type": "display_data"
    },
    {
     "data": {
      "application/vnd.jupyter.widget-view+json": {
       "model_id": "312b4f523ee64ef0afc68dcc690569ee",
       "version_major": 2,
       "version_minor": 0
      },
      "text/plain": [
       "Batches:   0%|          | 0/1 [00:00<?, ?it/s]"
      ]
     },
     "metadata": {},
     "output_type": "display_data"
    },
    {
     "data": {
      "application/vnd.jupyter.widget-view+json": {
       "model_id": "2cdd150bbbc646229c24b47cdd0aff6f",
       "version_major": 2,
       "version_minor": 0
      },
      "text/plain": [
       "Batches:   0%|          | 0/1 [00:00<?, ?it/s]"
      ]
     },
     "metadata": {},
     "output_type": "display_data"
    },
    {
     "name": "stderr",
     "output_type": "stream",
     "text": [
      "2024-11-27 12:03:53,654 - INFO - Calculating retrieval metrics for test_id: 92739ff0-c188-49b1-b108-39dac290ae67\n",
      "2024-11-27 12:03:53,666 - INFO - Overall f1 at 5 for retrieval: 0.5774110149110149\n",
      "[I 2024-11-27 12:03:53,669] Trial 19 finished with value: 0.7266295668396562 and parameters: {'model_info': {'provider': 'hf', 'model': 'sentence-transformers/all-MiniLM-L6-v2', 'dim': 384}, 'algorithm': 'hnsw', 'var_dtype': 'float32', 'ret_k': 5, 'ef_runtime': 20, 'ef_construction': 200, 'm': 16}. Best is trial 14 with value: 1.0108533762611567.\n"
     ]
    },
    {
     "name": "stdout",
     "output_type": "stream",
     "text": [
      "Completed Bayesian optimization... \n",
      "\n",
      "\n",
      "Best Configuration: 14: {'model_info': {'provider': 'hf', 'model': 'sentence-transformers/all-MiniLM-L6-v2', 'dim': 384}, 'algorithm': 'hnsw', 'var_dtype': 'float32', 'ret_k': 3, 'ef_runtime': 20, 'ef_construction': 250, 'm': 8}:\n",
      "\n",
      "\n",
      "Best Score: [1.0108533762611567]\n",
      "\n",
      "\n"
     ]
    }
   ],
   "source": [
    "from optimize.study import run_study\n",
    "\n",
    "run_study(study_config)"
   ]
  },
  {
   "cell_type": "markdown",
   "metadata": {},
   "source": [
    "## Success!\n",
    "\n",
    "From the above we can see the overall best configuration and the settings used this is the config that best optimizes the cost function.\n",
    "\n",
    "For a more complete view of our results let's grab the metric outputs of our study and load into a pandas dataframe for our review."
   ]
  },
  {
   "cell_type": "code",
   "execution_count": null,
   "metadata": {},
   "outputs": [],
   "source": [
    "from redis import Redis\n",
    "import pandas as pd\n",
    "study_key = f\"study:{study_config.study_id}\"\n",
    "\n",
    "redis_client = Redis.from_url(\"redis://localhost:6379/0\")\n",
    "\n",
    "res = redis_client.json().get(study_key)\n",
    "\n",
    "res_df = pd.DataFrame(res)"
   ]
  },
  {
   "cell_type": "code",
   "execution_count": null,
   "metadata": {},
   "outputs": [
    {
     "data": {
      "text/html": [
       "<div>\n",
       "<style scoped>\n",
       "    .dataframe tbody tr th:only-of-type {\n",
       "        vertical-align: middle;\n",
       "    }\n",
       "\n",
       "    .dataframe tbody tr th {\n",
       "        vertical-align: top;\n",
       "    }\n",
       "\n",
       "    .dataframe thead th {\n",
       "        text-align: right;\n",
       "    }\n",
       "</style>\n",
       "<table border=\"1\" class=\"dataframe\">\n",
       "  <thead>\n",
       "    <tr style=\"text-align: right;\">\n",
       "      <th></th>\n",
       "      <th>ret_k</th>\n",
       "      <th>algorithm</th>\n",
       "      <th>ef_construction</th>\n",
       "      <th>ef_runtime</th>\n",
       "      <th>m</th>\n",
       "      <th>distance_metric</th>\n",
       "      <th>vector_data_type</th>\n",
       "      <th>model</th>\n",
       "      <th>model_dim</th>\n",
       "      <th>f1@k</th>\n",
       "      <th>embedding_latency</th>\n",
       "      <th>indexing_time</th>\n",
       "      <th>avg_query_latency</th>\n",
       "    </tr>\n",
       "  </thead>\n",
       "  <tbody>\n",
       "    <tr>\n",
       "      <th>14</th>\n",
       "      <td>3</td>\n",
       "      <td>flat</td>\n",
       "      <td>0</td>\n",
       "      <td>0</td>\n",
       "      <td>0</td>\n",
       "      <td>cosine</td>\n",
       "      <td>float16</td>\n",
       "      <td>sentence-transformers/all-MiniLM-L6-v2</td>\n",
       "      <td>384</td>\n",
       "      <td>0.660317</td>\n",
       "      <td>0.790267</td>\n",
       "      <td>121.466003</td>\n",
       "      <td>0.017847</td>\n",
       "    </tr>\n",
       "    <tr>\n",
       "      <th>12</th>\n",
       "      <td>3</td>\n",
       "      <td>hnsw</td>\n",
       "      <td>100</td>\n",
       "      <td>10</td>\n",
       "      <td>64</td>\n",
       "      <td>cosine</td>\n",
       "      <td>float16</td>\n",
       "      <td>sentence-transformers/all-MiniLM-L6-v2</td>\n",
       "      <td>384</td>\n",
       "      <td>0.660317</td>\n",
       "      <td>0.748799</td>\n",
       "      <td>498.085999</td>\n",
       "      <td>0.041085</td>\n",
       "    </tr>\n",
       "    <tr>\n",
       "      <th>16</th>\n",
       "      <td>3</td>\n",
       "      <td>hnsw</td>\n",
       "      <td>100</td>\n",
       "      <td>10</td>\n",
       "      <td>64</td>\n",
       "      <td>cosine</td>\n",
       "      <td>float16</td>\n",
       "      <td>sentence-transformers/all-MiniLM-L6-v2</td>\n",
       "      <td>384</td>\n",
       "      <td>0.660317</td>\n",
       "      <td>0.737825</td>\n",
       "      <td>522.992981</td>\n",
       "      <td>0.022065</td>\n",
       "    </tr>\n",
       "    <tr>\n",
       "      <th>11</th>\n",
       "      <td>3</td>\n",
       "      <td>hnsw</td>\n",
       "      <td>100</td>\n",
       "      <td>10</td>\n",
       "      <td>64</td>\n",
       "      <td>cosine</td>\n",
       "      <td>float16</td>\n",
       "      <td>sentence-transformers/all-MiniLM-L6-v2</td>\n",
       "      <td>384</td>\n",
       "      <td>0.660317</td>\n",
       "      <td>0.721294</td>\n",
       "      <td>136.960007</td>\n",
       "      <td>0.016554</td>\n",
       "    </tr>\n",
       "    <tr>\n",
       "      <th>13</th>\n",
       "      <td>3</td>\n",
       "      <td>hnsw</td>\n",
       "      <td>100</td>\n",
       "      <td>10</td>\n",
       "      <td>64</td>\n",
       "      <td>cosine</td>\n",
       "      <td>float16</td>\n",
       "      <td>sentence-transformers/all-MiniLM-L6-v2</td>\n",
       "      <td>384</td>\n",
       "      <td>0.660317</td>\n",
       "      <td>0.698574</td>\n",
       "      <td>539.539001</td>\n",
       "      <td>0.008036</td>\n",
       "    </tr>\n",
       "    <tr>\n",
       "      <th>8</th>\n",
       "      <td>2</td>\n",
       "      <td>hnsw</td>\n",
       "      <td>200</td>\n",
       "      <td>50</td>\n",
       "      <td>64</td>\n",
       "      <td>cosine</td>\n",
       "      <td>float16</td>\n",
       "      <td>sentence-transformers/all-MiniLM-L6-v2</td>\n",
       "      <td>384</td>\n",
       "      <td>0.650000</td>\n",
       "      <td>0.736955</td>\n",
       "      <td>149.455002</td>\n",
       "      <td>0.017295</td>\n",
       "    </tr>\n",
       "    <tr>\n",
       "      <th>15</th>\n",
       "      <td>4</td>\n",
       "      <td>hnsw</td>\n",
       "      <td>100</td>\n",
       "      <td>10</td>\n",
       "      <td>64</td>\n",
       "      <td>cosine</td>\n",
       "      <td>float16</td>\n",
       "      <td>sentence-transformers/all-MiniLM-L6-v2</td>\n",
       "      <td>384</td>\n",
       "      <td>0.593651</td>\n",
       "      <td>0.743608</td>\n",
       "      <td>604.752991</td>\n",
       "      <td>0.007637</td>\n",
       "    </tr>\n",
       "    <tr>\n",
       "      <th>17</th>\n",
       "      <td>4</td>\n",
       "      <td>hnsw</td>\n",
       "      <td>100</td>\n",
       "      <td>10</td>\n",
       "      <td>64</td>\n",
       "      <td>cosine</td>\n",
       "      <td>float16</td>\n",
       "      <td>sentence-transformers/all-MiniLM-L6-v2</td>\n",
       "      <td>384</td>\n",
       "      <td>0.593651</td>\n",
       "      <td>0.739116</td>\n",
       "      <td>561.828979</td>\n",
       "      <td>0.021641</td>\n",
       "    </tr>\n",
       "    <tr>\n",
       "      <th>5</th>\n",
       "      <td>4</td>\n",
       "      <td>hnsw</td>\n",
       "      <td>150</td>\n",
       "      <td>30</td>\n",
       "      <td>8</td>\n",
       "      <td>cosine</td>\n",
       "      <td>float16</td>\n",
       "      <td>sentence-transformers/all-MiniLM-L6-v2</td>\n",
       "      <td>384</td>\n",
       "      <td>0.593651</td>\n",
       "      <td>0.685177</td>\n",
       "      <td>338.588989</td>\n",
       "      <td>0.007850</td>\n",
       "    </tr>\n",
       "    <tr>\n",
       "      <th>19</th>\n",
       "      <td>5</td>\n",
       "      <td>hnsw</td>\n",
       "      <td>100</td>\n",
       "      <td>10</td>\n",
       "      <td>64</td>\n",
       "      <td>cosine</td>\n",
       "      <td>float16</td>\n",
       "      <td>sentence-transformers/all-MiniLM-L6-v2</td>\n",
       "      <td>384</td>\n",
       "      <td>0.577411</td>\n",
       "      <td>0.737352</td>\n",
       "      <td>147.076996</td>\n",
       "      <td>0.018551</td>\n",
       "    </tr>\n",
       "    <tr>\n",
       "      <th>4</th>\n",
       "      <td>5</td>\n",
       "      <td>hnsw</td>\n",
       "      <td>150</td>\n",
       "      <td>50</td>\n",
       "      <td>8</td>\n",
       "      <td>cosine</td>\n",
       "      <td>float16</td>\n",
       "      <td>sentence-transformers/all-MiniLM-L6-v2</td>\n",
       "      <td>384</td>\n",
       "      <td>0.577411</td>\n",
       "      <td>0.726946</td>\n",
       "      <td>328.951996</td>\n",
       "      <td>0.041877</td>\n",
       "    </tr>\n",
       "    <tr>\n",
       "      <th>0</th>\n",
       "      <td>6</td>\n",
       "      <td>hnsw</td>\n",
       "      <td>150</td>\n",
       "      <td>30</td>\n",
       "      <td>16</td>\n",
       "      <td>cosine</td>\n",
       "      <td>float16</td>\n",
       "      <td>sentence-transformers/all-MiniLM-L6-v2</td>\n",
       "      <td>384</td>\n",
       "      <td>0.544841</td>\n",
       "      <td>0.763710</td>\n",
       "      <td>144.300995</td>\n",
       "      <td>0.020932</td>\n",
       "    </tr>\n",
       "    <tr>\n",
       "      <th>6</th>\n",
       "      <td>1</td>\n",
       "      <td>hnsw</td>\n",
       "      <td>250</td>\n",
       "      <td>50</td>\n",
       "      <td>64</td>\n",
       "      <td>cosine</td>\n",
       "      <td>float32</td>\n",
       "      <td>sentence-transformers/all-MiniLM-L6-v2</td>\n",
       "      <td>384</td>\n",
       "      <td>0.543254</td>\n",
       "      <td>0.711149</td>\n",
       "      <td>117.723000</td>\n",
       "      <td>0.039258</td>\n",
       "    </tr>\n",
       "    <tr>\n",
       "      <th>18</th>\n",
       "      <td>2</td>\n",
       "      <td>flat</td>\n",
       "      <td>0</td>\n",
       "      <td>0</td>\n",
       "      <td>0</td>\n",
       "      <td>cosine</td>\n",
       "      <td>float32</td>\n",
       "      <td>intfloat/e5-large-v2</td>\n",
       "      <td>1024</td>\n",
       "      <td>0.491667</td>\n",
       "      <td>15.956784</td>\n",
       "      <td>92.697998</td>\n",
       "      <td>0.037890</td>\n",
       "    </tr>\n",
       "    <tr>\n",
       "      <th>2</th>\n",
       "      <td>7</td>\n",
       "      <td>hnsw</td>\n",
       "      <td>200</td>\n",
       "      <td>20</td>\n",
       "      <td>8</td>\n",
       "      <td>cosine</td>\n",
       "      <td>float32</td>\n",
       "      <td>sentence-transformers/all-MiniLM-L6-v2</td>\n",
       "      <td>384</td>\n",
       "      <td>0.488455</td>\n",
       "      <td>0.722520</td>\n",
       "      <td>137.365997</td>\n",
       "      <td>0.014498</td>\n",
       "    </tr>\n",
       "    <tr>\n",
       "      <th>3</th>\n",
       "      <td>8</td>\n",
       "      <td>hnsw</td>\n",
       "      <td>150</td>\n",
       "      <td>30</td>\n",
       "      <td>16</td>\n",
       "      <td>cosine</td>\n",
       "      <td>float16</td>\n",
       "      <td>sentence-transformers/all-MiniLM-L6-v2</td>\n",
       "      <td>384</td>\n",
       "      <td>0.442809</td>\n",
       "      <td>0.752810</td>\n",
       "      <td>137.419998</td>\n",
       "      <td>0.039527</td>\n",
       "    </tr>\n",
       "    <tr>\n",
       "      <th>9</th>\n",
       "      <td>6</td>\n",
       "      <td>flat</td>\n",
       "      <td>0</td>\n",
       "      <td>0</td>\n",
       "      <td>0</td>\n",
       "      <td>cosine</td>\n",
       "      <td>float16</td>\n",
       "      <td>intfloat/e5-large-v2</td>\n",
       "      <td>1024</td>\n",
       "      <td>0.433267</td>\n",
       "      <td>15.481627</td>\n",
       "      <td>82.464996</td>\n",
       "      <td>0.027884</td>\n",
       "    </tr>\n",
       "    <tr>\n",
       "      <th>7</th>\n",
       "      <td>1</td>\n",
       "      <td>hnsw</td>\n",
       "      <td>300</td>\n",
       "      <td>30</td>\n",
       "      <td>8</td>\n",
       "      <td>cosine</td>\n",
       "      <td>float32</td>\n",
       "      <td>intfloat/e5-large-v2</td>\n",
       "      <td>1024</td>\n",
       "      <td>0.384921</td>\n",
       "      <td>15.485644</td>\n",
       "      <td>185.473007</td>\n",
       "      <td>0.016118</td>\n",
       "    </tr>\n",
       "    <tr>\n",
       "      <th>1</th>\n",
       "      <td>1</td>\n",
       "      <td>flat</td>\n",
       "      <td>0</td>\n",
       "      <td>0</td>\n",
       "      <td>0</td>\n",
       "      <td>cosine</td>\n",
       "      <td>float32</td>\n",
       "      <td>intfloat/e5-large-v2</td>\n",
       "      <td>1024</td>\n",
       "      <td>0.384921</td>\n",
       "      <td>15.040196</td>\n",
       "      <td>113.850998</td>\n",
       "      <td>0.023529</td>\n",
       "    </tr>\n",
       "    <tr>\n",
       "      <th>10</th>\n",
       "      <td>10</td>\n",
       "      <td>flat</td>\n",
       "      <td>0</td>\n",
       "      <td>0</td>\n",
       "      <td>0</td>\n",
       "      <td>cosine</td>\n",
       "      <td>float16</td>\n",
       "      <td>intfloat/e5-large-v2</td>\n",
       "      <td>1024</td>\n",
       "      <td>0.318841</td>\n",
       "      <td>15.725524</td>\n",
       "      <td>121.325996</td>\n",
       "      <td>0.023858</td>\n",
       "    </tr>\n",
       "  </tbody>\n",
       "</table>\n",
       "</div>"
      ],
      "text/plain": [
       "    ret_k algorithm  ef_construction  ef_runtime   m distance_metric  \\\n",
       "14      3      flat                0           0   0          cosine   \n",
       "12      3      hnsw              100          10  64          cosine   \n",
       "16      3      hnsw              100          10  64          cosine   \n",
       "11      3      hnsw              100          10  64          cosine   \n",
       "13      3      hnsw              100          10  64          cosine   \n",
       "8       2      hnsw              200          50  64          cosine   \n",
       "15      4      hnsw              100          10  64          cosine   \n",
       "17      4      hnsw              100          10  64          cosine   \n",
       "5       4      hnsw              150          30   8          cosine   \n",
       "19      5      hnsw              100          10  64          cosine   \n",
       "4       5      hnsw              150          50   8          cosine   \n",
       "0       6      hnsw              150          30  16          cosine   \n",
       "6       1      hnsw              250          50  64          cosine   \n",
       "18      2      flat                0           0   0          cosine   \n",
       "2       7      hnsw              200          20   8          cosine   \n",
       "3       8      hnsw              150          30  16          cosine   \n",
       "9       6      flat                0           0   0          cosine   \n",
       "7       1      hnsw              300          30   8          cosine   \n",
       "1       1      flat                0           0   0          cosine   \n",
       "10     10      flat                0           0   0          cosine   \n",
       "\n",
       "   vector_data_type                                   model  model_dim  \\\n",
       "14          float16  sentence-transformers/all-MiniLM-L6-v2        384   \n",
       "12          float16  sentence-transformers/all-MiniLM-L6-v2        384   \n",
       "16          float16  sentence-transformers/all-MiniLM-L6-v2        384   \n",
       "11          float16  sentence-transformers/all-MiniLM-L6-v2        384   \n",
       "13          float16  sentence-transformers/all-MiniLM-L6-v2        384   \n",
       "8           float16  sentence-transformers/all-MiniLM-L6-v2        384   \n",
       "15          float16  sentence-transformers/all-MiniLM-L6-v2        384   \n",
       "17          float16  sentence-transformers/all-MiniLM-L6-v2        384   \n",
       "5           float16  sentence-transformers/all-MiniLM-L6-v2        384   \n",
       "19          float16  sentence-transformers/all-MiniLM-L6-v2        384   \n",
       "4           float16  sentence-transformers/all-MiniLM-L6-v2        384   \n",
       "0           float16  sentence-transformers/all-MiniLM-L6-v2        384   \n",
       "6           float32  sentence-transformers/all-MiniLM-L6-v2        384   \n",
       "18          float32                    intfloat/e5-large-v2       1024   \n",
       "2           float32  sentence-transformers/all-MiniLM-L6-v2        384   \n",
       "3           float16  sentence-transformers/all-MiniLM-L6-v2        384   \n",
       "9           float16                    intfloat/e5-large-v2       1024   \n",
       "7           float32                    intfloat/e5-large-v2       1024   \n",
       "1           float32                    intfloat/e5-large-v2       1024   \n",
       "10          float16                    intfloat/e5-large-v2       1024   \n",
       "\n",
       "        f1@k  embedding_latency  indexing_time  avg_query_latency  \n",
       "14  0.660317           0.790267     121.466003           0.017847  \n",
       "12  0.660317           0.748799     498.085999           0.041085  \n",
       "16  0.660317           0.737825     522.992981           0.022065  \n",
       "11  0.660317           0.721294     136.960007           0.016554  \n",
       "13  0.660317           0.698574     539.539001           0.008036  \n",
       "8   0.650000           0.736955     149.455002           0.017295  \n",
       "15  0.593651           0.743608     604.752991           0.007637  \n",
       "17  0.593651           0.739116     561.828979           0.021641  \n",
       "5   0.593651           0.685177     338.588989           0.007850  \n",
       "19  0.577411           0.737352     147.076996           0.018551  \n",
       "4   0.577411           0.726946     328.951996           0.041877  \n",
       "0   0.544841           0.763710     144.300995           0.020932  \n",
       "6   0.543254           0.711149     117.723000           0.039258  \n",
       "18  0.491667          15.956784      92.697998           0.037890  \n",
       "2   0.488455           0.722520     137.365997           0.014498  \n",
       "3   0.442809           0.752810     137.419998           0.039527  \n",
       "9   0.433267          15.481627      82.464996           0.027884  \n",
       "7   0.384921          15.485644     185.473007           0.016118  \n",
       "1   0.384921          15.040196     113.850998           0.023529  \n",
       "10  0.318841          15.725524     121.325996           0.023858  "
      ]
     },
     "execution_count": 14,
     "metadata": {},
     "output_type": "execute_result"
    }
   ],
   "source": [
    "res_df.sort_values([\"f1@k\", \"embedding_latency\", \"indexing_time\", \"avg_query_latency\"], ascending=False)"
   ]
  },
  {
   "cell_type": "code",
   "execution_count": null,
   "metadata": {},
   "outputs": [
    {
     "data": {
      "text/html": [
       "<div>\n",
       "<style scoped>\n",
       "    .dataframe tbody tr th:only-of-type {\n",
       "        vertical-align: middle;\n",
       "    }\n",
       "\n",
       "    .dataframe tbody tr th {\n",
       "        vertical-align: top;\n",
       "    }\n",
       "\n",
       "    .dataframe thead th {\n",
       "        text-align: right;\n",
       "    }\n",
       "</style>\n",
       "<table border=\"1\" class=\"dataframe\">\n",
       "  <thead>\n",
       "    <tr style=\"text-align: right;\">\n",
       "      <th></th>\n",
       "      <th>avg_query_latency</th>\n",
       "      <th>indexing_time</th>\n",
       "    </tr>\n",
       "    <tr>\n",
       "      <th>algorithm</th>\n",
       "      <th></th>\n",
       "      <th></th>\n",
       "    </tr>\n",
       "  </thead>\n",
       "  <tbody>\n",
       "    <tr>\n",
       "      <th>flat</th>\n",
       "      <td>0.026202</td>\n",
       "      <td>106.361198</td>\n",
       "    </tr>\n",
       "    <tr>\n",
       "      <th>hnsw</th>\n",
       "      <td>0.022195</td>\n",
       "      <td>303.367729</td>\n",
       "    </tr>\n",
       "  </tbody>\n",
       "</table>\n",
       "</div>"
      ],
      "text/plain": [
       "           avg_query_latency  indexing_time\n",
       "algorithm                                  \n",
       "flat                0.026202     106.361198\n",
       "hnsw                0.022195     303.367729"
      ]
     },
     "execution_count": 21,
     "metadata": {},
     "output_type": "execute_result"
    }
   ],
   "source": [
    "res_df.groupby([\"algorithm\"])[[\"avg_query_latency\", \"indexing_time\"]].mean()"
   ]
  }
 ],
 "metadata": {
  "kernelspec": {
   "display_name": "Python 3",
   "language": "python",
   "name": "python3"
  },
  "language_info": {
   "codemirror_mode": {
    "name": "ipython",
    "version": 3
   },
   "file_extension": ".py",
   "mimetype": "text/x-python",
   "name": "python",
   "nbconvert_exporter": "python",
   "pygments_lexer": "ipython3",
   "version": "3.11.9"
  }
 },
 "nbformat": 4,
 "nbformat_minor": 2
}
