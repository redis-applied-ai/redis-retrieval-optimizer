{
 "cells": [
  {
   "cell_type": "code",
   "execution_count": null,
   "id": "46aac6ae",
   "metadata": {},
   "outputs": [],
   "source": [
    "# load data\n",
    "\n",
    "from redis_retrieval_optimizer.corpus_processors import eval_beir\n",
    "\n",
    "# check the link above for different datasets to try\n",
    "beir_dataset_name = \"nfcorpus\"\n",
    "\n",
    "# Load sample data\n",
    "corpus, queries, qrels = eval_beir.get_beir_dataset(beir_dataset_name)"
   ]
  },
  {
   "cell_type": "code",
   "execution_count": null,
   "id": "413de442",
   "metadata": {},
   "outputs": [],
   "source": [
    "# define config"
   ]
  },
  {
   "cell_type": "code",
   "execution_count": 2,
   "id": "2c94f556",
   "metadata": {},
   "outputs": [],
   "source": [
    "# run study\n",
    "\n",
    "import os\n",
    "from redis_retrieval_optimizer.bayes_study import run_bayes_study\n",
    "from redis_retrieval_optimizer.corpus_processors import eval_beir\n",
    "from dotenv import load_dotenv\n",
    "\n",
    "# load environment variables containing necessary credentials\n",
    "load_dotenv()\n",
    "\n",
    "redis_url = os.environ.get(\"REDIS_URL\", \"redis://localhost:6379/0\")\n",
    "\n",
    "# run_bayes_study(\n",
    "#     config_path=\"bayes_study_config.yaml\",\n",
    "#     redis_url=redis_url,\n",
    "#     corpus_processor=eval_beir.process_corpus\n",
    "# )"
   ]
  },
  {
   "cell_type": "code",
   "execution_count": 5,
   "id": "02abf4da",
   "metadata": {},
   "outputs": [
    {
     "data": {
      "text/plain": [
       "{'name': 'optimize',\n",
       " 'prefix': 'ret-opt',\n",
       " 'id_field_name': '_id',\n",
       " 'text_field_name': 'text',\n",
       " 'vector_field_name': 'vector',\n",
       " 'from_existing': False,\n",
       " 'vector_dim': 384,\n",
       " 'algorithm': 'hnsw',\n",
       " 'distance_metric': 'cosine',\n",
       " 'vector_data_type': 'float32',\n",
       " 'ef_construction': 200,\n",
       " 'ef_runtime': 30,\n",
       " 'm': 8,\n",
       " 'additional_fields': [{'name': 'title', 'type': 'text'}],\n",
       " 'embedding': {'type': 'hf',\n",
       "  'model': 'sentence-transformers/all-MiniLM-L6-v2',\n",
       "  'dim': 384,\n",
       "  'embedding_cache_name': 'vec-cache'}}"
      ]
     },
     "execution_count": 5,
     "metadata": {},
     "output_type": "execute_result"
    }
   ],
   "source": [
    "from redis_retrieval_optimizer import utils\n",
    "index_settings = utils.get_last_index_settings(redis_url)\n",
    "index_settings"
   ]
  },
  {
   "cell_type": "code",
   "execution_count": 6,
   "id": "209a2017",
   "metadata": {},
   "outputs": [
    {
     "data": {
      "text/plain": [
       "{'type': 'hf',\n",
       " 'model': 'sentence-transformers/all-MiniLM-L6-v2',\n",
       " 'dim': 384,\n",
       " 'embedding_cache_name': 'vec-cache'}"
      ]
     },
     "execution_count": 6,
     "metadata": {},
     "output_type": "execute_result"
    }
   ],
   "source": [
    "pop = index_settings.pop(\"embedding\")\n",
    "pop"
   ]
  },
  {
   "cell_type": "code",
   "execution_count": 7,
   "id": "dda00c18",
   "metadata": {},
   "outputs": [
    {
     "data": {
      "text/plain": [
       "{'name': 'optimize',\n",
       " 'prefix': 'ret-opt',\n",
       " 'id_field_name': '_id',\n",
       " 'text_field_name': 'text',\n",
       " 'vector_field_name': 'vector',\n",
       " 'from_existing': False,\n",
       " 'vector_dim': 384,\n",
       " 'algorithm': 'hnsw',\n",
       " 'distance_metric': 'cosine',\n",
       " 'vector_data_type': 'float32',\n",
       " 'ef_construction': 200,\n",
       " 'ef_runtime': 30,\n",
       " 'm': 8,\n",
       " 'additional_fields': [{'name': 'title', 'type': 'text'}]}"
      ]
     },
     "execution_count": 7,
     "metadata": {},
     "output_type": "execute_result"
    }
   ],
   "source": [
    "index_settings"
   ]
  },
  {
   "cell_type": "code",
   "execution_count": null,
   "id": "fef357af",
   "metadata": {},
   "outputs": [],
   "source": []
  }
 ],
 "metadata": {
  "kernelspec": {
   "display_name": "Python 3",
   "language": "python",
   "name": "python3"
  },
  "language_info": {
   "codemirror_mode": {
    "name": "ipython",
    "version": 3
   },
   "file_extension": ".py",
   "mimetype": "text/x-python",
   "name": "python",
   "nbconvert_exporter": "python",
   "pygments_lexer": "ipython3",
   "version": "3.11.9"
  }
 },
 "nbformat": 4,
 "nbformat_minor": 5
}
