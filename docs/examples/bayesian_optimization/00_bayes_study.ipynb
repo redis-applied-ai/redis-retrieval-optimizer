{
 "cells": [
  {
   "cell_type": "markdown",
   "id": "6593a958",
   "metadata": {},
   "source": [
    "\n",
    "# Bayesian Optimization with Retrieval Optimizer\n",
    "\n",
    "This notebook demonstrates how to use Bayesian optimization to tune Redis-based retrieval pipelines. Unlike a grid study—which tests all combinations—Bayesian optimization intelligently searches the configuration space, prioritizing promising settings based on previous results. This is especially useful when the number of possible configurations is large and exhaustive search would be too costly.\n",
    "\n",
    "You'll define a study configuration, specify embedding models and search methods, and let the optimizer guide the search toward the best-performing retrieval setup.\n",
    "\n",
    "\n",
    "# Installation"
   ]
  },
  {
   "cell_type": "code",
   "execution_count": null,
   "id": "ed3fc735",
   "metadata": {},
   "outputs": [],
   "source": [
    "%pip install redis-retrieval-optimizer"
   ]
  },
  {
   "cell_type": "markdown",
   "id": "01bde2f5",
   "metadata": {},
   "source": [
    "## Dataset\n",
    "\n",
    "We'll import a dataset from the [beir benchmark IR project](https://github.com/beir-cellar/beir) to get going quickly. "
   ]
  },
  {
   "cell_type": "code",
   "execution_count": 1,
   "id": "46aac6ae",
   "metadata": {},
   "outputs": [
    {
     "name": "stderr",
     "output_type": "stream",
     "text": [
      "/Users/tyler.hutcherson/Library/Caches/pypoetry/virtualenvs/redis-retrieval-optimizer-Z5sMIYJj-py3.11/lib/python3.11/site-packages/beir/util.py:11: TqdmWarning: IProgress not found. Please update jupyter and ipywidgets. See https://ipywidgets.readthedocs.io/en/stable/user_install.html\n",
      "  from tqdm.autonotebook import tqdm\n"
     ]
    },
    {
     "name": "stdout",
     "output_type": "stream",
     "text": [
      "10:14:32 beir.datasets.data_loader INFO   Loading Corpus...\n"
     ]
    },
    {
     "name": "stderr",
     "output_type": "stream",
     "text": [
      "100%|██████████| 3633/3633 [00:00<00:00, 260170.17it/s]"
     ]
    },
    {
     "name": "stdout",
     "output_type": "stream",
     "text": [
      "10:14:32 beir.datasets.data_loader INFO   Loaded 3633 TEST Documents.\n",
      "10:14:32 beir.datasets.data_loader INFO   Doc Example: {'text': 'Recent studies have suggested that statins, an established drug group in the prevention of cardiovascular mortality, could delay or prevent breast cancer recurrence but the effect on disease-specific mortality remains unclear. We evaluated risk of breast cancer death among statin users in a population-based cohort of breast cancer patients. The study cohort included all newly diagnosed breast cancer patients in Finland during 1995–2003 (31,236 cases), identified from the Finnish Cancer Registry. Information on statin use before and after the diagnosis was obtained from a national prescription database. We used the Cox proportional hazards regression method to estimate mortality among statin users with statin use as time-dependent variable. A total of 4,151 participants had used statins. During the median follow-up of 3.25 years after the diagnosis (range 0.08–9.0 years) 6,011 participants died, of which 3,619 (60.2%) was due to breast cancer. After adjustment for age, tumor characteristics, and treatment selection, both post-diagnostic and pre-diagnostic statin use were associated with lowered risk of breast cancer death (HR 0.46, 95% CI 0.38–0.55 and HR 0.54, 95% CI 0.44–0.67, respectively). The risk decrease by post-diagnostic statin use was likely affected by healthy adherer bias; that is, the greater likelihood of dying cancer patients to discontinue statin use as the association was not clearly dose-dependent and observed already at low-dose/short-term use. The dose- and time-dependence of the survival benefit among pre-diagnostic statin users suggests a possible causal effect that should be evaluated further in a clinical trial testing statins’ effect on survival in breast cancer patients.', 'title': 'Statin Use and Breast Cancer Survival: A Nationwide Cohort Study from Finland'}\n",
      "10:14:32 beir.datasets.data_loader INFO   Loading Queries...\n",
      "10:14:32 beir.datasets.data_loader INFO   Loaded 323 TEST Queries.\n",
      "10:14:32 beir.datasets.data_loader INFO   Query Example: Do Cholesterol Statin Drugs Cause Breast Cancer?\n"
     ]
    },
    {
     "name": "stderr",
     "output_type": "stream",
     "text": [
      "\n"
     ]
    }
   ],
   "source": [
    "# Load data\n",
    "from redis_retrieval_optimizer.corpus_processors import eval_beir\n",
    "\n",
    "# check the link above for different datasets to try\n",
    "beir_dataset_name = \"nfcorpus\"\n",
    "data_folder = \"data\"\n",
    "\n",
    "# Load sample data\n",
    "corpus, queries, qrels = eval_beir.get_beir_dataset(beir_dataset_name)"
   ]
  },
  {
   "cell_type": "markdown",
   "id": "4b07758c",
   "metadata": {},
   "source": [
    "Now that we have our data we will save it locally to the gitignored `data/` folder"
   ]
  },
  {
   "cell_type": "code",
   "execution_count": 2,
   "id": "b56fa92d",
   "metadata": {},
   "outputs": [],
   "source": [
    "import os\n",
    "\n",
    "os.makedirs(data_folder, exist_ok=True)"
   ]
  },
  {
   "cell_type": "code",
   "execution_count": 3,
   "id": "f75095c9",
   "metadata": {},
   "outputs": [],
   "source": [
    "import json\n",
    "\n",
    "with open(f\"data/{beir_dataset_name}_corpus.json\", \"w\") as f:\n",
    "    json.dump(corpus, f)\n",
    "\n",
    "with open(f\"data/{beir_dataset_name}_queries.json\", \"w\") as f:\n",
    "    json.dump(queries, f)\n",
    "\n",
    "with open(f\"data/{beir_dataset_name}_qrels.json\", \"w\") as f:\n",
    "    json.dump(qrels, f)"
   ]
  },
  {
   "cell_type": "markdown",
   "id": "48d65c79",
   "metadata": {},
   "source": [
    "## Study config\n",
    "\n",
    "In this directory there is a yaml file containing a configuration for a bayesian study that looks like this:\n",
    "\n",
    "```yaml\n",
    "# path to data files for easy read\n",
    "corpus: \"data/nfcorpus_corpus.json\"\n",
    "queries: \"data/nfcorpus_queries.json\"\n",
    "qrels: \"data/nfcorpus_qrels.json\"\n",
    "\n",
    "index_settings:\n",
    "  name: \"optimize\"\n",
    "  vector_field_name: \"vector\" # name of the vector field to search on\n",
    "  text_field_name: \"text\" # name of the text field for lexical search\n",
    "  from_existing: false\n",
    "  vector_dim: 384 # should match first embedding model or from_existing\n",
    "  additional_fields:\n",
    "      - name: \"title\"\n",
    "        type: \"text\"\n",
    "\n",
    "optimization_settings:\n",
    "  # defines the options optimization can take\n",
    "  metric_weights:\n",
    "    f1_at_k: 1\n",
    "    embedding_latency: 1\n",
    "    total_indexing_time: 1\n",
    "  algorithms: [\"hnsw\"]\n",
    "  vector_data_types: [\"float16\", \"float32\"]\n",
    "  distance_metrics: [\"cosine\"]\n",
    "  n_trials: 10\n",
    "  n_jobs: 1\n",
    "  ret_k: [1, 10] # potential range of value to be sampled during study\n",
    "  ef_runtime: [10, 20, 30, 50]\n",
    "  ef_construction: [100, 150, 200, 250, 300]\n",
    "  m: [8, 16, 64]\n",
    "\n",
    "\n",
    "search_methods: [\"vector\", \"lin_combo\"]\n",
    "embedding_models:\n",
    "  - type: \"hf\"\n",
    "    model: \"sentence-transformers/all-MiniLM-L6-v2\"\n",
    "    dim: 384\n",
    "    embedding_cache_name: \"vec-cache\" # avoid names with including 'ret-opt' as this can cause collisions\n",
    "    dtype: \"float32\"\n",
    "```\n",
    "\n",
    "## Running a study\n",
    "\n",
    "To run a study simple pass the path to config, redis_url, and corpus processing function to the `run_bayes_study` function and the package will take care of the rest. "
   ]
  },
  {
   "cell_type": "code",
   "execution_count": 4,
   "id": "2c94f556",
   "metadata": {},
   "outputs": [
    {
     "name": "stderr",
     "output_type": "stream",
     "text": [
      "[I 2025-06-18 10:14:47,411] A new study created in memory with name: test\n"
     ]
    },
    {
     "name": "stdout",
     "output_type": "stream",
     "text": [
      "10:14:49 datasets INFO   PyTorch version 2.7.0 available.\n",
      "10:14:49 sentence_transformers.SentenceTransformer INFO   Use pytorch device_name: mps\n",
      "10:14:49 sentence_transformers.SentenceTransformer INFO   Load pretrained SentenceTransformer: sentence-transformers/all-MiniLM-L6-v2\n"
     ]
    },
    {
     "name": "stderr",
     "output_type": "stream",
     "text": [
      "Batches: 100%|██████████| 1/1 [00:00<00:00,  6.96it/s]"
     ]
    },
    {
     "name": "stdout",
     "output_type": "stream",
     "text": [
      "10:14:51 root INFO   Recreating index...\n"
     ]
    },
    {
     "name": "stderr",
     "output_type": "stream",
     "text": [
      "\n"
     ]
    },
    {
     "name": "stdout",
     "output_type": "stream",
     "text": [
      "10:14:51 root INFO   Corpus size: 3633\n",
      "10:14:54 root INFO   Data indexed total_indexing_time=2.938s, num_docs=3633\n",
      "10:14:57 root INFO   Saving metrics for study: 02c5c52b-9f83-4b87-93cf-3548f377d958, METRICS={'search_method': ['hybrid'], 'total_indexing_time': [-2.938], 'avg_query_time': [-0.0030586490690154558], 'model': ['sentence-transformers/all-MiniLM-L6-v2'], 'model_dim': [384], 'ret_k': [7], 'recall@k': [0.15498797328057845], 'ndcg@k': [0.20277849135854045], 'f1@k': [0.13071176354799932], 'precision': [0.24334365325077406], 'algorithm': ['hnsw'], 'ef_construction': [150], 'ef_runtime': [20], 'm': [64], 'distance_metric': ['cosine'], 'vector_data_type': ['float16']}\n"
     ]
    },
    {
     "name": "stderr",
     "output_type": "stream",
     "text": [
      "[I 2025-06-18 10:14:57,955] Trial 0 finished with value: 2.938 and parameters: {'model_info': {'type': 'hf', 'model': 'sentence-transformers/all-MiniLM-L6-v2', 'dim': 384, 'embedding_cache_name': 'vec-cache', 'dtype': 'float32'}, 'search_method': 'hybrid', 'algorithm': 'hnsw', 'var_dtype': 'float16', 'distance_metric': 'cosine', 'ret_k': 7, 'ef_runtime': 20, 'ef_construction': 150, 'm': 64}. Best is trial 0 with value: 2.938.\n"
     ]
    },
    {
     "name": "stdout",
     "output_type": "stream",
     "text": [
      "10:14:57 redisvl.index.index INFO   Index already exists, not overwriting.\n",
      "10:14:57 sentence_transformers.SentenceTransformer INFO   Use pytorch device_name: mps\n",
      "10:14:57 sentence_transformers.SentenceTransformer INFO   Load pretrained SentenceTransformer: sentence-transformers/all-MiniLM-L6-v2\n"
     ]
    },
    {
     "name": "stderr",
     "output_type": "stream",
     "text": [
      "Batches: 100%|██████████| 1/1 [00:00<00:00, 69.92it/s]"
     ]
    },
    {
     "name": "stdout",
     "output_type": "stream",
     "text": [
      "10:14:58 root INFO   Data indexed total_indexing_time=2.938s, num_docs=3633\n"
     ]
    },
    {
     "name": "stderr",
     "output_type": "stream",
     "text": [
      "\n"
     ]
    },
    {
     "name": "stdout",
     "output_type": "stream",
     "text": [
      "10:14:58 root INFO   Saving metrics for study: 02c5c52b-9f83-4b87-93cf-3548f377d958, METRICS={'search_method': ['hybrid', 'vector'], 'total_indexing_time': [-2.938, -2.938], 'avg_query_time': [-0.0030586490690154558, -0.0008422095709171827], 'model': ['sentence-transformers/all-MiniLM-L6-v2', 'sentence-transformers/all-MiniLM-L6-v2'], 'model_dim': [384, 384], 'ret_k': [7, 3], 'recall@k': [0.15498797328057845, 0.14786315482520818], 'ndcg@k': [0.20277849135854045, 0.18650304495321093], 'f1@k': [0.13071176354799932, 0.12689261701063015], 'precision': [0.24334365325077406, 0.24179566563467494], 'algorithm': ['hnsw', 'hnsw'], 'ef_construction': [150, 300], 'ef_runtime': [20, 20], 'm': [64, 64], 'distance_metric': ['cosine', 'cosine'], 'vector_data_type': ['float16', 'float16']}\n"
     ]
    },
    {
     "name": "stderr",
     "output_type": "stream",
     "text": [
      "[I 2025-06-18 10:14:58,967] Trial 1 finished with value: 2.938 and parameters: {'model_info': {'type': 'hf', 'model': 'sentence-transformers/all-MiniLM-L6-v2', 'dim': 384, 'embedding_cache_name': 'vec-cache', 'dtype': 'float32'}, 'search_method': 'vector', 'algorithm': 'hnsw', 'var_dtype': 'float16', 'distance_metric': 'cosine', 'ret_k': 3, 'ef_runtime': 20, 'ef_construction': 300, 'm': 64}. Best is trial 0 with value: 2.938.\n"
     ]
    },
    {
     "name": "stdout",
     "output_type": "stream",
     "text": [
      "10:14:58 redisvl.index.index INFO   Index already exists, not overwriting.\n",
      "10:14:58 sentence_transformers.SentenceTransformer INFO   Use pytorch device_name: mps\n",
      "10:14:58 sentence_transformers.SentenceTransformer INFO   Load pretrained SentenceTransformer: sentence-transformers/all-MiniLM-L6-v2\n"
     ]
    },
    {
     "name": "stderr",
     "output_type": "stream",
     "text": [
      "Batches: 100%|██████████| 1/1 [00:00<00:00, 61.35it/s]"
     ]
    },
    {
     "name": "stdout",
     "output_type": "stream",
     "text": [
      "10:14:59 root INFO   Data indexed total_indexing_time=2.938s, num_docs=3633\n"
     ]
    },
    {
     "name": "stderr",
     "output_type": "stream",
     "text": [
      "\n"
     ]
    },
    {
     "name": "stdout",
     "output_type": "stream",
     "text": [
      "10:15:00 root INFO   Saving metrics for study: 02c5c52b-9f83-4b87-93cf-3548f377d958, METRICS={'search_method': ['hybrid', 'vector', 'vector'], 'total_indexing_time': [-2.938, -2.938, -2.938], 'avg_query_time': [-0.0030586490690154558, -0.0008422095709171827, -0.0009241443669463828], 'model': ['sentence-transformers/all-MiniLM-L6-v2', 'sentence-transformers/all-MiniLM-L6-v2', 'sentence-transformers/all-MiniLM-L6-v2'], 'model_dim': [384, 384, 384], 'ret_k': [7, 3, 6], 'recall@k': [0.15498797328057845, 0.14786315482520818, 0.14786315482520818], 'ndcg@k': [0.20277849135854045, 0.18650304495321093, 0.18650304495321093], 'f1@k': [0.13071176354799932, 0.12689261701063015, 0.12689261701063015], 'precision': [0.24334365325077406, 0.24179566563467494, 0.24179566563467494], 'algorithm': ['hnsw', 'hnsw', 'hnsw'], 'ef_construction': [150, 300, 200], 'ef_runtime': [20, 20, 10], 'm': [64, 64, 8], 'distance_metric': ['cosine', 'cosine', 'cosine'], 'vector_data_type': ['float16', 'float16', 'float16']}\n"
     ]
    },
    {
     "name": "stderr",
     "output_type": "stream",
     "text": [
      "[I 2025-06-18 10:15:00,292] Trial 2 finished with value: 2.938 and parameters: {'model_info': {'type': 'hf', 'model': 'sentence-transformers/all-MiniLM-L6-v2', 'dim': 384, 'embedding_cache_name': 'vec-cache', 'dtype': 'float32'}, 'search_method': 'vector', 'algorithm': 'hnsw', 'var_dtype': 'float16', 'distance_metric': 'cosine', 'ret_k': 6, 'ef_runtime': 10, 'ef_construction': 200, 'm': 8}. Best is trial 0 with value: 2.938.\n"
     ]
    },
    {
     "name": "stdout",
     "output_type": "stream",
     "text": [
      "10:15:00 redisvl.index.index INFO   Index already exists, not overwriting.\n",
      "10:15:00 sentence_transformers.SentenceTransformer INFO   Use pytorch device_name: mps\n",
      "10:15:00 sentence_transformers.SentenceTransformer INFO   Load pretrained SentenceTransformer: sentence-transformers/all-MiniLM-L6-v2\n"
     ]
    },
    {
     "name": "stderr",
     "output_type": "stream",
     "text": [
      "Batches: 100%|██████████| 1/1 [00:00<00:00, 67.43it/s]"
     ]
    },
    {
     "name": "stdout",
     "output_type": "stream",
     "text": [
      "10:15:00 root INFO   Data indexed total_indexing_time=2.938s, num_docs=3633\n"
     ]
    },
    {
     "name": "stderr",
     "output_type": "stream",
     "text": [
      "\n"
     ]
    },
    {
     "name": "stdout",
     "output_type": "stream",
     "text": [
      "10:15:01 root INFO   Saving metrics for study: 02c5c52b-9f83-4b87-93cf-3548f377d958, METRICS={'search_method': ['hybrid', 'vector', 'vector', 'vector'], 'total_indexing_time': [-2.938, -2.938, -2.938, -2.938], 'avg_query_time': [-0.0030586490690154558, -0.0008422095709171827, -0.0009241443669463828, -0.000957826342745093], 'model': ['sentence-transformers/all-MiniLM-L6-v2', 'sentence-transformers/all-MiniLM-L6-v2', 'sentence-transformers/all-MiniLM-L6-v2', 'sentence-transformers/all-MiniLM-L6-v2'], 'model_dim': [384, 384, 384, 384], 'ret_k': [7, 3, 6, 4], 'recall@k': [0.15498797328057845, 0.14786315482520818, 0.14786315482520818, 0.14786315482520818], 'ndcg@k': [0.20277849135854045, 0.18650304495321093, 0.18650304495321093, 0.18650304495321093], 'f1@k': [0.13071176354799932, 0.12689261701063015, 0.12689261701063015, 0.12689261701063015], 'precision': [0.24334365325077406, 0.24179566563467494, 0.24179566563467494, 0.24179566563467494], 'algorithm': ['hnsw', 'hnsw', 'hnsw', 'hnsw'], 'ef_construction': [150, 300, 200, 200], 'ef_runtime': [20, 20, 10, 30], 'm': [64, 64, 8, 16], 'distance_metric': ['cosine', 'cosine', 'cosine', 'cosine'], 'vector_data_type': ['float16', 'float16', 'float16', 'float16']}\n"
     ]
    },
    {
     "name": "stderr",
     "output_type": "stream",
     "text": [
      "[I 2025-06-18 10:15:01,261] Trial 3 finished with value: 2.938 and parameters: {'model_info': {'type': 'hf', 'model': 'sentence-transformers/all-MiniLM-L6-v2', 'dim': 384, 'embedding_cache_name': 'vec-cache', 'dtype': 'float32'}, 'search_method': 'vector', 'algorithm': 'hnsw', 'var_dtype': 'float16', 'distance_metric': 'cosine', 'ret_k': 4, 'ef_runtime': 30, 'ef_construction': 200, 'm': 16}. Best is trial 0 with value: 2.938.\n"
     ]
    },
    {
     "name": "stdout",
     "output_type": "stream",
     "text": [
      "10:15:01 redisvl.index.index INFO   Index already exists, not overwriting.\n",
      "10:15:01 sentence_transformers.SentenceTransformer INFO   Use pytorch device_name: mps\n",
      "10:15:01 sentence_transformers.SentenceTransformer INFO   Load pretrained SentenceTransformer: sentence-transformers/all-MiniLM-L6-v2\n"
     ]
    },
    {
     "name": "stderr",
     "output_type": "stream",
     "text": [
      "Batches: 100%|██████████| 1/1 [00:00<00:00, 57.23it/s]"
     ]
    },
    {
     "name": "stdout",
     "output_type": "stream",
     "text": [
      "10:15:01 root INFO   Data indexed total_indexing_time=2.938s, num_docs=3633\n"
     ]
    },
    {
     "name": "stderr",
     "output_type": "stream",
     "text": [
      "\n"
     ]
    },
    {
     "name": "stdout",
     "output_type": "stream",
     "text": [
      "10:15:02 root INFO   Saving metrics for study: 02c5c52b-9f83-4b87-93cf-3548f377d958, METRICS={'search_method': ['hybrid', 'vector', 'vector', 'vector', 'vector'], 'total_indexing_time': [-2.938, -2.938, -2.938, -2.938, -2.938], 'avg_query_time': [-0.0030586490690154558, -0.0008422095709171827, -0.0009241443669463828, -0.000957826342745093, -0.0009460153963543682], 'model': ['sentence-transformers/all-MiniLM-L6-v2', 'sentence-transformers/all-MiniLM-L6-v2', 'sentence-transformers/all-MiniLM-L6-v2', 'sentence-transformers/all-MiniLM-L6-v2', 'sentence-transformers/all-MiniLM-L6-v2'], 'model_dim': [384, 384, 384, 384, 384], 'ret_k': [7, 3, 6, 4, 7], 'recall@k': [0.15498797328057845, 0.14786315482520818, 0.14786315482520818, 0.14786315482520818, 0.14786315482520818], 'ndcg@k': [0.20277849135854045, 0.18650304495321093, 0.18650304495321093, 0.18650304495321093, 0.18650304495321093], 'f1@k': [0.13071176354799932, 0.12689261701063015, 0.12689261701063015, 0.12689261701063015, 0.12689261701063015], 'precision': [0.24334365325077406, 0.24179566563467494, 0.24179566563467494, 0.24179566563467494, 0.24179566563467494], 'algorithm': ['hnsw', 'hnsw', 'hnsw', 'hnsw', 'hnsw'], 'ef_construction': [150, 300, 200, 200, 100], 'ef_runtime': [20, 20, 10, 30, 20], 'm': [64, 64, 8, 16, 8], 'distance_metric': ['cosine', 'cosine', 'cosine', 'cosine', 'cosine'], 'vector_data_type': ['float16', 'float16', 'float16', 'float16', 'float16']}\n"
     ]
    },
    {
     "name": "stderr",
     "output_type": "stream",
     "text": [
      "[I 2025-06-18 10:15:02,258] Trial 4 finished with value: 2.938 and parameters: {'model_info': {'type': 'hf', 'model': 'sentence-transformers/all-MiniLM-L6-v2', 'dim': 384, 'embedding_cache_name': 'vec-cache', 'dtype': 'float32'}, 'search_method': 'vector', 'algorithm': 'hnsw', 'var_dtype': 'float16', 'distance_metric': 'cosine', 'ret_k': 7, 'ef_runtime': 20, 'ef_construction': 100, 'm': 8}. Best is trial 0 with value: 2.938.\n"
     ]
    },
    {
     "name": "stdout",
     "output_type": "stream",
     "text": [
      "10:15:02 redisvl.index.index INFO   Index already exists, not overwriting.\n",
      "10:15:02 sentence_transformers.SentenceTransformer INFO   Use pytorch device_name: mps\n",
      "10:15:02 sentence_transformers.SentenceTransformer INFO   Load pretrained SentenceTransformer: sentence-transformers/all-MiniLM-L6-v2\n"
     ]
    },
    {
     "name": "stderr",
     "output_type": "stream",
     "text": [
      "Batches: 100%|██████████| 1/1 [00:00<00:00, 59.36it/s]"
     ]
    },
    {
     "name": "stdout",
     "output_type": "stream",
     "text": [
      "10:15:02 root INFO   Data indexed total_indexing_time=2.938s, num_docs=3633\n"
     ]
    },
    {
     "name": "stderr",
     "output_type": "stream",
     "text": [
      "\n"
     ]
    },
    {
     "name": "stdout",
     "output_type": "stream",
     "text": [
      "10:15:03 root INFO   Saving metrics for study: 02c5c52b-9f83-4b87-93cf-3548f377d958, METRICS={'search_method': ['hybrid', 'vector', 'vector', 'vector', 'vector', 'vector'], 'total_indexing_time': [-2.938, -2.938, -2.938, -2.938, -2.938, -2.938], 'avg_query_time': [-0.0030586490690154558, -0.0008422095709171827, -0.0009241443669463828, -0.000957826342745093, -0.0009460153963543682, -0.0009069782292510703], 'model': ['sentence-transformers/all-MiniLM-L6-v2', 'sentence-transformers/all-MiniLM-L6-v2', 'sentence-transformers/all-MiniLM-L6-v2', 'sentence-transformers/all-MiniLM-L6-v2', 'sentence-transformers/all-MiniLM-L6-v2', 'sentence-transformers/all-MiniLM-L6-v2'], 'model_dim': [384, 384, 384, 384, 384, 384], 'ret_k': [7, 3, 6, 4, 7, 3], 'recall@k': [0.15498797328057845, 0.14786315482520818, 0.14786315482520818, 0.14786315482520818, 0.14786315482520818, 0.14786315482520818], 'ndcg@k': [0.20277849135854045, 0.18650304495321093, 0.18650304495321093, 0.18650304495321093, 0.18650304495321093, 0.18650304495321093], 'f1@k': [0.13071176354799932, 0.12689261701063015, 0.12689261701063015, 0.12689261701063015, 0.12689261701063015, 0.12689261701063015], 'precision': [0.24334365325077406, 0.24179566563467494, 0.24179566563467494, 0.24179566563467494, 0.24179566563467494, 0.24179566563467494], 'algorithm': ['hnsw', 'hnsw', 'hnsw', 'hnsw', 'hnsw', 'hnsw'], 'ef_construction': [150, 300, 200, 200, 100, 300], 'ef_runtime': [20, 20, 10, 30, 20, 10], 'm': [64, 64, 8, 16, 8, 16], 'distance_metric': ['cosine', 'cosine', 'cosine', 'cosine', 'cosine', 'cosine'], 'vector_data_type': ['float16', 'float16', 'float16', 'float16', 'float16', 'float16']}\n"
     ]
    },
    {
     "name": "stderr",
     "output_type": "stream",
     "text": [
      "[I 2025-06-18 10:15:03,321] Trial 5 finished with value: 2.938 and parameters: {'model_info': {'type': 'hf', 'model': 'sentence-transformers/all-MiniLM-L6-v2', 'dim': 384, 'embedding_cache_name': 'vec-cache', 'dtype': 'float32'}, 'search_method': 'vector', 'algorithm': 'hnsw', 'var_dtype': 'float16', 'distance_metric': 'cosine', 'ret_k': 3, 'ef_runtime': 10, 'ef_construction': 300, 'm': 16}. Best is trial 0 with value: 2.938.\n"
     ]
    },
    {
     "name": "stdout",
     "output_type": "stream",
     "text": [
      "10:15:03 sentence_transformers.SentenceTransformer INFO   Use pytorch device_name: mps\n",
      "10:15:03 sentence_transformers.SentenceTransformer INFO   Load pretrained SentenceTransformer: sentence-transformers/all-MiniLM-L6-v2\n"
     ]
    },
    {
     "name": "stderr",
     "output_type": "stream",
     "text": [
      "Batches: 100%|██████████| 1/1 [00:00<00:00, 69.26it/s]"
     ]
    },
    {
     "name": "stdout",
     "output_type": "stream",
     "text": [
      "10:15:03 root INFO   Recreating index...\n"
     ]
    },
    {
     "name": "stderr",
     "output_type": "stream",
     "text": [
      "\n"
     ]
    },
    {
     "name": "stdout",
     "output_type": "stream",
     "text": [
      "10:15:04 root INFO   Corpus size: 3633\n",
      "10:15:05 root INFO   Data indexed total_indexing_time=1.368s, num_docs=3633\n",
      "10:15:06 root INFO   Saving metrics for study: 02c5c52b-9f83-4b87-93cf-3548f377d958, METRICS={'search_method': ['hybrid', 'vector', 'vector', 'vector', 'vector', 'vector', 'vector'], 'total_indexing_time': [-2.938, -2.938, -2.938, -2.938, -2.938, -2.938, -1.368], 'avg_query_time': [-0.0030586490690154558, -0.0008422095709171827, -0.0009241443669463828, -0.000957826342745093, -0.0009460153963543682, -0.0009069782292510703, -0.0008249304981054537], 'model': ['sentence-transformers/all-MiniLM-L6-v2', 'sentence-transformers/all-MiniLM-L6-v2', 'sentence-transformers/all-MiniLM-L6-v2', 'sentence-transformers/all-MiniLM-L6-v2', 'sentence-transformers/all-MiniLM-L6-v2', 'sentence-transformers/all-MiniLM-L6-v2', 'sentence-transformers/all-MiniLM-L6-v2'], 'model_dim': [384, 384, 384, 384, 384, 384, 384], 'ret_k': [7, 3, 6, 4, 7, 3, 10], 'recall@k': [0.15498797328057845, 0.14786315482520818, 0.14786315482520818, 0.14786315482520818, 0.14786315482520818, 0.14786315482520818, 0.14796888385388574], 'ndcg@k': [0.20277849135854045, 0.18650304495321093, 0.18650304495321093, 0.18650304495321093, 0.18650304495321093, 0.18650304495321093, 0.18796719728092878], 'f1@k': [0.13071176354799932, 0.12689261701063015, 0.12689261701063015, 0.12689261701063015, 0.12689261701063015, 0.12689261701063015, 0.12630829517360484], 'precision': [0.24334365325077406, 0.24179566563467494, 0.24179566563467494, 0.24179566563467494, 0.24179566563467494, 0.24179566563467494, 0.23993808049535603], 'algorithm': ['hnsw', 'hnsw', 'hnsw', 'hnsw', 'hnsw', 'hnsw', 'hnsw'], 'ef_construction': [150, 300, 200, 200, 100, 300, 100], 'ef_runtime': [20, 20, 10, 30, 20, 10, 50], 'm': [64, 64, 8, 16, 8, 16, 8], 'distance_metric': ['cosine', 'cosine', 'cosine', 'cosine', 'cosine', 'cosine', 'cosine'], 'vector_data_type': ['float16', 'float16', 'float16', 'float16', 'float16', 'float16', 'float32']}\n"
     ]
    },
    {
     "name": "stderr",
     "output_type": "stream",
     "text": [
      "[I 2025-06-18 10:15:06,282] Trial 6 finished with value: 1.368 and parameters: {'model_info': {'type': 'hf', 'model': 'sentence-transformers/all-MiniLM-L6-v2', 'dim': 384, 'embedding_cache_name': 'vec-cache', 'dtype': 'float32'}, 'search_method': 'vector', 'algorithm': 'hnsw', 'var_dtype': 'float32', 'distance_metric': 'cosine', 'ret_k': 10, 'ef_runtime': 50, 'ef_construction': 100, 'm': 8}. Best is trial 0 with value: 2.938.\n"
     ]
    },
    {
     "name": "stdout",
     "output_type": "stream",
     "text": [
      "10:15:06 sentence_transformers.SentenceTransformer INFO   Use pytorch device_name: mps\n",
      "10:15:06 sentence_transformers.SentenceTransformer INFO   Load pretrained SentenceTransformer: sentence-transformers/all-MiniLM-L6-v2\n"
     ]
    },
    {
     "name": "stderr",
     "output_type": "stream",
     "text": [
      "Batches: 100%|██████████| 1/1 [00:00<00:00, 60.96it/s]"
     ]
    },
    {
     "name": "stdout",
     "output_type": "stream",
     "text": [
      "10:15:06 root INFO   Recreating index...\n"
     ]
    },
    {
     "name": "stderr",
     "output_type": "stream",
     "text": [
      "\n"
     ]
    },
    {
     "name": "stdout",
     "output_type": "stream",
     "text": [
      "10:15:07 root INFO   Corpus size: 3633\n",
      "10:15:11 root INFO   Data indexed total_indexing_time=4.256s, num_docs=3633\n",
      "10:15:13 root INFO   Saving metrics for study: 02c5c52b-9f83-4b87-93cf-3548f377d958, METRICS={'search_method': ['hybrid', 'vector', 'vector', 'vector', 'vector', 'vector', 'vector', 'hybrid'], 'total_indexing_time': [-2.938, -2.938, -2.938, -2.938, -2.938, -2.938, -1.368, -4.256], 'avg_query_time': [-0.0030586490690154558, -0.0008422095709171827, -0.0009241443669463828, -0.000957826342745093, -0.0009460153963543682, -0.0009069782292510703, -0.0008249304981054537, -0.002800116967121514], 'model': ['sentence-transformers/all-MiniLM-L6-v2', 'sentence-transformers/all-MiniLM-L6-v2', 'sentence-transformers/all-MiniLM-L6-v2', 'sentence-transformers/all-MiniLM-L6-v2', 'sentence-transformers/all-MiniLM-L6-v2', 'sentence-transformers/all-MiniLM-L6-v2', 'sentence-transformers/all-MiniLM-L6-v2', 'sentence-transformers/all-MiniLM-L6-v2'], 'model_dim': [384, 384, 384, 384, 384, 384, 384, 384], 'ret_k': [7, 3, 6, 4, 7, 3, 10, 2], 'recall@k': [0.15498797328057845, 0.14786315482520818, 0.14786315482520818, 0.14786315482520818, 0.14786315482520818, 0.14786315482520818, 0.14796888385388574, 0.15498797328057845], 'ndcg@k': [0.20277849135854045, 0.18650304495321093, 0.18650304495321093, 0.18650304495321093, 0.18650304495321093, 0.18650304495321093, 0.18796719728092878, 0.20277849135854045], 'f1@k': [0.13071176354799932, 0.12689261701063015, 0.12689261701063015, 0.12689261701063015, 0.12689261701063015, 0.12689261701063015, 0.12630829517360484, 0.13071176354799932], 'precision': [0.24334365325077406, 0.24179566563467494, 0.24179566563467494, 0.24179566563467494, 0.24179566563467494, 0.24179566563467494, 0.23993808049535603, 0.24334365325077406], 'algorithm': ['hnsw', 'hnsw', 'hnsw', 'hnsw', 'hnsw', 'hnsw', 'hnsw', 'hnsw'], 'ef_construction': [150, 300, 200, 200, 100, 300, 100, 300], 'ef_runtime': [20, 20, 10, 30, 20, 10, 50, 50], 'm': [64, 64, 8, 16, 8, 16, 8, 64], 'distance_metric': ['cosine', 'cosine', 'cosine', 'cosine', 'cosine', 'cosine', 'cosine', 'cosine'], 'vector_data_type': ['float16', 'float16', 'float16', 'float16', 'float16', 'float16', 'float32', 'float16']}\n"
     ]
    },
    {
     "name": "stderr",
     "output_type": "stream",
     "text": [
      "[I 2025-06-18 10:15:13,023] Trial 7 finished with value: 4.256 and parameters: {'model_info': {'type': 'hf', 'model': 'sentence-transformers/all-MiniLM-L6-v2', 'dim': 384, 'embedding_cache_name': 'vec-cache', 'dtype': 'float32'}, 'search_method': 'hybrid', 'algorithm': 'hnsw', 'var_dtype': 'float16', 'distance_metric': 'cosine', 'ret_k': 2, 'ef_runtime': 50, 'ef_construction': 300, 'm': 64}. Best is trial 7 with value: 4.256.\n"
     ]
    },
    {
     "name": "stdout",
     "output_type": "stream",
     "text": [
      "10:15:13 sentence_transformers.SentenceTransformer INFO   Use pytorch device_name: mps\n",
      "10:15:13 sentence_transformers.SentenceTransformer INFO   Load pretrained SentenceTransformer: sentence-transformers/all-MiniLM-L6-v2\n"
     ]
    },
    {
     "name": "stderr",
     "output_type": "stream",
     "text": [
      "Batches: 100%|██████████| 1/1 [00:00<00:00, 67.16it/s]"
     ]
    },
    {
     "name": "stdout",
     "output_type": "stream",
     "text": [
      "10:15:13 root INFO   Recreating index...\n"
     ]
    },
    {
     "name": "stderr",
     "output_type": "stream",
     "text": [
      "\n"
     ]
    },
    {
     "name": "stdout",
     "output_type": "stream",
     "text": [
      "10:15:13 root INFO   Corpus size: 3633\n",
      "10:15:16 root INFO   Data indexed total_indexing_time=2.851s, num_docs=3633\n",
      "10:15:17 root INFO   Saving metrics for study: 02c5c52b-9f83-4b87-93cf-3548f377d958, METRICS={'search_method': ['hybrid', 'vector', 'vector', 'vector', 'vector', 'vector', 'vector', 'hybrid', 'hybrid'], 'total_indexing_time': [-2.938, -2.938, -2.938, -2.938, -2.938, -2.938, -1.368, -4.256, -2.851], 'avg_query_time': [-0.0030586490690154558, -0.0008422095709171827, -0.0009241443669463828, -0.000957826342745093, -0.0009460153963543682, -0.0009069782292510703, -0.0008249304981054537, -0.002800116967121514, -0.001982953895356264], 'model': ['sentence-transformers/all-MiniLM-L6-v2', 'sentence-transformers/all-MiniLM-L6-v2', 'sentence-transformers/all-MiniLM-L6-v2', 'sentence-transformers/all-MiniLM-L6-v2', 'sentence-transformers/all-MiniLM-L6-v2', 'sentence-transformers/all-MiniLM-L6-v2', 'sentence-transformers/all-MiniLM-L6-v2', 'sentence-transformers/all-MiniLM-L6-v2', 'sentence-transformers/all-MiniLM-L6-v2'], 'model_dim': [384, 384, 384, 384, 384, 384, 384, 384, 384], 'ret_k': [7, 3, 6, 4, 7, 3, 10, 2, 6], 'recall@k': [0.15498797328057845, 0.14786315482520818, 0.14786315482520818, 0.14786315482520818, 0.14786315482520818, 0.14786315482520818, 0.14796888385388574, 0.15498797328057845, 0.15498797328057845], 'ndcg@k': [0.20277849135854045, 0.18650304495321093, 0.18650304495321093, 0.18650304495321093, 0.18650304495321093, 0.18650304495321093, 0.18796719728092878, 0.20277849135854045, 0.20277849135854045], 'f1@k': [0.13071176354799932, 0.12689261701063015, 0.12689261701063015, 0.12689261701063015, 0.12689261701063015, 0.12689261701063015, 0.12630829517360484, 0.13071176354799932, 0.13071176354799932], 'precision': [0.24334365325077406, 0.24179566563467494, 0.24179566563467494, 0.24179566563467494, 0.24179566563467494, 0.24179566563467494, 0.23993808049535603, 0.24334365325077406, 0.24334365325077406], 'algorithm': ['hnsw', 'hnsw', 'hnsw', 'hnsw', 'hnsw', 'hnsw', 'hnsw', 'hnsw', 'hnsw'], 'ef_construction': [150, 300, 200, 200, 100, 300, 100, 300, 300], 'ef_runtime': [20, 20, 10, 30, 20, 10, 50, 50, 30], 'm': [64, 64, 8, 16, 8, 16, 8, 64, 64], 'distance_metric': ['cosine', 'cosine', 'cosine', 'cosine', 'cosine', 'cosine', 'cosine', 'cosine', 'cosine'], 'vector_data_type': ['float16', 'float16', 'float16', 'float16', 'float16', 'float16', 'float32', 'float16', 'float32']}\n"
     ]
    },
    {
     "name": "stderr",
     "output_type": "stream",
     "text": [
      "[I 2025-06-18 10:15:17,902] Trial 8 finished with value: 2.851 and parameters: {'model_info': {'type': 'hf', 'model': 'sentence-transformers/all-MiniLM-L6-v2', 'dim': 384, 'embedding_cache_name': 'vec-cache', 'dtype': 'float32'}, 'search_method': 'hybrid', 'algorithm': 'hnsw', 'var_dtype': 'float32', 'distance_metric': 'cosine', 'ret_k': 6, 'ef_runtime': 30, 'ef_construction': 300, 'm': 64}. Best is trial 7 with value: 4.256.\n"
     ]
    },
    {
     "name": "stdout",
     "output_type": "stream",
     "text": [
      "10:15:17 redisvl.index.index INFO   Index already exists, not overwriting.\n",
      "10:15:17 sentence_transformers.SentenceTransformer INFO   Use pytorch device_name: mps\n",
      "10:15:17 sentence_transformers.SentenceTransformer INFO   Load pretrained SentenceTransformer: sentence-transformers/all-MiniLM-L6-v2\n"
     ]
    },
    {
     "name": "stderr",
     "output_type": "stream",
     "text": [
      "Batches: 100%|██████████| 1/1 [00:00<00:00, 62.83it/s]"
     ]
    },
    {
     "name": "stdout",
     "output_type": "stream",
     "text": [
      "10:15:18 root INFO   Data indexed total_indexing_time=2.851s, num_docs=3633\n"
     ]
    },
    {
     "name": "stderr",
     "output_type": "stream",
     "text": [
      "\n"
     ]
    },
    {
     "name": "stdout",
     "output_type": "stream",
     "text": [
      "10:15:19 root INFO   Saving metrics for study: 02c5c52b-9f83-4b87-93cf-3548f377d958, METRICS={'search_method': ['hybrid', 'vector', 'vector', 'vector', 'vector', 'vector', 'vector', 'hybrid', 'hybrid', 'hybrid'], 'total_indexing_time': [-2.938, -2.938, -2.938, -2.938, -2.938, -2.938, -1.368, -4.256, -2.851, -2.851], 'avg_query_time': [-0.0030586490690154558, -0.0008422095709171827, -0.0009241443669463828, -0.000957826342745093, -0.0009460153963543682, -0.0009069782292510703, -0.0008249304981054537, -0.002800116967121514, -0.001982953895356264, -0.002098676959058449], 'model': ['sentence-transformers/all-MiniLM-L6-v2', 'sentence-transformers/all-MiniLM-L6-v2', 'sentence-transformers/all-MiniLM-L6-v2', 'sentence-transformers/all-MiniLM-L6-v2', 'sentence-transformers/all-MiniLM-L6-v2', 'sentence-transformers/all-MiniLM-L6-v2', 'sentence-transformers/all-MiniLM-L6-v2', 'sentence-transformers/all-MiniLM-L6-v2', 'sentence-transformers/all-MiniLM-L6-v2', 'sentence-transformers/all-MiniLM-L6-v2'], 'model_dim': [384, 384, 384, 384, 384, 384, 384, 384, 384, 384], 'ret_k': [7, 3, 6, 4, 7, 3, 10, 2, 6, 8], 'recall@k': [0.15498797328057845, 0.14786315482520818, 0.14786315482520818, 0.14786315482520818, 0.14786315482520818, 0.14786315482520818, 0.14796888385388574, 0.15498797328057845, 0.15498797328057845, 0.15498797328057845], 'ndcg@k': [0.20277849135854045, 0.18650304495321093, 0.18650304495321093, 0.18650304495321093, 0.18650304495321093, 0.18650304495321093, 0.18796719728092878, 0.20277849135854045, 0.20277849135854045, 0.20277849135854045], 'f1@k': [0.13071176354799932, 0.12689261701063015, 0.12689261701063015, 0.12689261701063015, 0.12689261701063015, 0.12689261701063015, 0.12630829517360484, 0.13071176354799932, 0.13071176354799932, 0.13071176354799932], 'precision': [0.24334365325077406, 0.24179566563467494, 0.24179566563467494, 0.24179566563467494, 0.24179566563467494, 0.24179566563467494, 0.23993808049535603, 0.24334365325077406, 0.24334365325077406, 0.24334365325077406], 'algorithm': ['hnsw', 'hnsw', 'hnsw', 'hnsw', 'hnsw', 'hnsw', 'hnsw', 'hnsw', 'hnsw', 'hnsw'], 'ef_construction': [150, 300, 200, 200, 100, 300, 100, 300, 300, 250], 'ef_runtime': [20, 20, 10, 30, 20, 10, 50, 50, 30, 20], 'm': [64, 64, 8, 16, 8, 16, 8, 64, 64, 16], 'distance_metric': ['cosine', 'cosine', 'cosine', 'cosine', 'cosine', 'cosine', 'cosine', 'cosine', 'cosine', 'cosine'], 'vector_data_type': ['float16', 'float16', 'float16', 'float16', 'float16', 'float16', 'float32', 'float16', 'float32', 'float32']}\n"
     ]
    },
    {
     "name": "stderr",
     "output_type": "stream",
     "text": [
      "[I 2025-06-18 10:15:19,683] Trial 9 finished with value: 2.851 and parameters: {'model_info': {'type': 'hf', 'model': 'sentence-transformers/all-MiniLM-L6-v2', 'dim': 384, 'embedding_cache_name': 'vec-cache', 'dtype': 'float32'}, 'search_method': 'hybrid', 'algorithm': 'hnsw', 'var_dtype': 'float32', 'distance_metric': 'cosine', 'ret_k': 8, 'ef_runtime': 20, 'ef_construction': 250, 'm': 16}. Best is trial 7 with value: 4.256.\n"
     ]
    },
    {
     "name": "stdout",
     "output_type": "stream",
     "text": [
      "10:15:19 redisvl.index.index INFO   Index already exists, not overwriting.\n",
      "10:15:19 sentence_transformers.SentenceTransformer INFO   Use pytorch device_name: mps\n",
      "10:15:19 sentence_transformers.SentenceTransformer INFO   Load pretrained SentenceTransformer: sentence-transformers/all-MiniLM-L6-v2\n"
     ]
    },
    {
     "name": "stderr",
     "output_type": "stream",
     "text": [
      "Batches: 100%|██████████| 1/1 [00:00<00:00, 58.17it/s]"
     ]
    },
    {
     "name": "stdout",
     "output_type": "stream",
     "text": [
      "10:15:20 root INFO   Data indexed total_indexing_time=2.851s, num_docs=3633\n"
     ]
    },
    {
     "name": "stderr",
     "output_type": "stream",
     "text": [
      "\n"
     ]
    },
    {
     "name": "stdout",
     "output_type": "stream",
     "text": [
      "10:15:21 root INFO   Saving metrics for study: 02c5c52b-9f83-4b87-93cf-3548f377d958, METRICS={'search_method': ['hybrid', 'vector', 'vector', 'vector', 'vector', 'vector', 'vector', 'hybrid', 'hybrid', 'hybrid', 'hybrid'], 'total_indexing_time': [-2.938, -2.938, -2.938, -2.938, -2.938, -2.938, -1.368, -4.256, -2.851, -2.851, -2.851], 'avg_query_time': [-0.0030586490690154558, -0.0008422095709171827, -0.0009241443669463828, -0.000957826342745093, -0.0009460153963543682, -0.0009069782292510703, -0.0008249304981054537, -0.002800116967121514, -0.001982953895356264, -0.002098676959058449, -0.0022983004803258937], 'model': ['sentence-transformers/all-MiniLM-L6-v2', 'sentence-transformers/all-MiniLM-L6-v2', 'sentence-transformers/all-MiniLM-L6-v2', 'sentence-transformers/all-MiniLM-L6-v2', 'sentence-transformers/all-MiniLM-L6-v2', 'sentence-transformers/all-MiniLM-L6-v2', 'sentence-transformers/all-MiniLM-L6-v2', 'sentence-transformers/all-MiniLM-L6-v2', 'sentence-transformers/all-MiniLM-L6-v2', 'sentence-transformers/all-MiniLM-L6-v2', 'sentence-transformers/all-MiniLM-L6-v2'], 'model_dim': [384, 384, 384, 384, 384, 384, 384, 384, 384, 384, 384], 'ret_k': [7, 3, 6, 4, 7, 3, 10, 2, 6, 8, 1], 'recall@k': [0.15498797328057845, 0.14786315482520818, 0.14786315482520818, 0.14786315482520818, 0.14786315482520818, 0.14786315482520818, 0.14796888385388574, 0.15498797328057845, 0.15498797328057845, 0.15498797328057845, 0.15498797328057845], 'ndcg@k': [0.20277849135854045, 0.18650304495321093, 0.18650304495321093, 0.18650304495321093, 0.18650304495321093, 0.18650304495321093, 0.18796719728092878, 0.20277849135854045, 0.20277849135854045, 0.20277849135854045, 0.20277849135854045], 'f1@k': [0.13071176354799932, 0.12689261701063015, 0.12689261701063015, 0.12689261701063015, 0.12689261701063015, 0.12689261701063015, 0.12630829517360484, 0.13071176354799932, 0.13071176354799932, 0.13071176354799932, 0.13071176354799932], 'precision': [0.24334365325077406, 0.24179566563467494, 0.24179566563467494, 0.24179566563467494, 0.24179566563467494, 0.24179566563467494, 0.23993808049535603, 0.24334365325077406, 0.24334365325077406, 0.24334365325077406, 0.24334365325077406], 'algorithm': ['hnsw', 'hnsw', 'hnsw', 'hnsw', 'hnsw', 'hnsw', 'hnsw', 'hnsw', 'hnsw', 'hnsw', 'hnsw'], 'ef_construction': [150, 300, 200, 200, 100, 300, 100, 300, 300, 250, 150], 'ef_runtime': [20, 20, 10, 30, 20, 10, 50, 50, 30, 20, 50], 'm': [64, 64, 8, 16, 8, 16, 8, 64, 64, 16, 64], 'distance_metric': ['cosine', 'cosine', 'cosine', 'cosine', 'cosine', 'cosine', 'cosine', 'cosine', 'cosine', 'cosine', 'cosine'], 'vector_data_type': ['float16', 'float16', 'float16', 'float16', 'float16', 'float16', 'float32', 'float16', 'float32', 'float32', 'float32']}\n"
     ]
    },
    {
     "name": "stderr",
     "output_type": "stream",
     "text": [
      "[I 2025-06-18 10:15:21,295] Trial 10 finished with value: 2.851 and parameters: {'model_info': {'type': 'hf', 'model': 'sentence-transformers/all-MiniLM-L6-v2', 'dim': 384, 'embedding_cache_name': 'vec-cache', 'dtype': 'float32'}, 'search_method': 'hybrid', 'algorithm': 'hnsw', 'var_dtype': 'float32', 'distance_metric': 'cosine', 'ret_k': 1, 'ef_runtime': 50, 'ef_construction': 150, 'm': 64}. Best is trial 7 with value: 4.256.\n"
     ]
    },
    {
     "name": "stdout",
     "output_type": "stream",
     "text": [
      "10:15:21 sentence_transformers.SentenceTransformer INFO   Use pytorch device_name: mps\n",
      "10:15:21 sentence_transformers.SentenceTransformer INFO   Load pretrained SentenceTransformer: sentence-transformers/all-MiniLM-L6-v2\n"
     ]
    },
    {
     "name": "stderr",
     "output_type": "stream",
     "text": [
      "Batches: 100%|██████████| 1/1 [00:00<00:00, 66.75it/s]"
     ]
    },
    {
     "name": "stdout",
     "output_type": "stream",
     "text": [
      "10:15:21 root INFO   Recreating index...\n"
     ]
    },
    {
     "name": "stderr",
     "output_type": "stream",
     "text": [
      "\n"
     ]
    },
    {
     "name": "stdout",
     "output_type": "stream",
     "text": [
      "10:15:22 root INFO   Corpus size: 3633\n",
      "10:15:25 root INFO   Data indexed total_indexing_time=2.99s, num_docs=3633\n",
      "10:15:27 root INFO   Saving metrics for study: 02c5c52b-9f83-4b87-93cf-3548f377d958, METRICS={'search_method': ['hybrid', 'vector', 'vector', 'vector', 'vector', 'vector', 'vector', 'hybrid', 'hybrid', 'hybrid', 'hybrid', 'hybrid'], 'total_indexing_time': [-2.938, -2.938, -2.938, -2.938, -2.938, -2.938, -1.368, -4.256, -2.851, -2.851, -2.851, -2.99], 'avg_query_time': [-0.0030586490690154558, -0.0008422095709171827, -0.0009241443669463828, -0.000957826342745093, -0.0009460153963543682, -0.0009069782292510703, -0.0008249304981054537, -0.002800116967121514, -0.001982953895356264, -0.002098676959058449, -0.0022983004803258937, -0.003134949657570098], 'model': ['sentence-transformers/all-MiniLM-L6-v2', 'sentence-transformers/all-MiniLM-L6-v2', 'sentence-transformers/all-MiniLM-L6-v2', 'sentence-transformers/all-MiniLM-L6-v2', 'sentence-transformers/all-MiniLM-L6-v2', 'sentence-transformers/all-MiniLM-L6-v2', 'sentence-transformers/all-MiniLM-L6-v2', 'sentence-transformers/all-MiniLM-L6-v2', 'sentence-transformers/all-MiniLM-L6-v2', 'sentence-transformers/all-MiniLM-L6-v2', 'sentence-transformers/all-MiniLM-L6-v2', 'sentence-transformers/all-MiniLM-L6-v2'], 'model_dim': [384, 384, 384, 384, 384, 384, 384, 384, 384, 384, 384, 384], 'ret_k': [7, 3, 6, 4, 7, 3, 10, 2, 6, 8, 1, 1], 'recall@k': [0.15498797328057845, 0.14786315482520818, 0.14786315482520818, 0.14786315482520818, 0.14786315482520818, 0.14786315482520818, 0.14796888385388574, 0.15498797328057845, 0.15498797328057845, 0.15498797328057845, 0.15498797328057845, 0.15498797328057845], 'ndcg@k': [0.20277849135854045, 0.18650304495321093, 0.18650304495321093, 0.18650304495321093, 0.18650304495321093, 0.18650304495321093, 0.18796719728092878, 0.20277849135854045, 0.20277849135854045, 0.20277849135854045, 0.20277849135854045, 0.20277849135854045], 'f1@k': [0.13071176354799932, 0.12689261701063015, 0.12689261701063015, 0.12689261701063015, 0.12689261701063015, 0.12689261701063015, 0.12630829517360484, 0.13071176354799932, 0.13071176354799932, 0.13071176354799932, 0.13071176354799932, 0.13071176354799932], 'precision': [0.24334365325077406, 0.24179566563467494, 0.24179566563467494, 0.24179566563467494, 0.24179566563467494, 0.24179566563467494, 0.23993808049535603, 0.24334365325077406, 0.24334365325077406, 0.24334365325077406, 0.24334365325077406, 0.24334365325077406], 'algorithm': ['hnsw', 'hnsw', 'hnsw', 'hnsw', 'hnsw', 'hnsw', 'hnsw', 'hnsw', 'hnsw', 'hnsw', 'hnsw', 'hnsw'], 'ef_construction': [150, 300, 200, 200, 100, 300, 100, 300, 300, 250, 150, 150], 'ef_runtime': [20, 20, 10, 30, 20, 10, 50, 50, 30, 20, 50, 50], 'm': [64, 64, 8, 16, 8, 16, 8, 64, 64, 16, 64, 64], 'distance_metric': ['cosine', 'cosine', 'cosine', 'cosine', 'cosine', 'cosine', 'cosine', 'cosine', 'cosine', 'cosine', 'cosine', 'cosine'], 'vector_data_type': ['float16', 'float16', 'float16', 'float16', 'float16', 'float16', 'float32', 'float16', 'float32', 'float32', 'float32', 'float16']}\n"
     ]
    },
    {
     "name": "stderr",
     "output_type": "stream",
     "text": [
      "[I 2025-06-18 10:15:27,112] Trial 11 finished with value: 2.99 and parameters: {'model_info': {'type': 'hf', 'model': 'sentence-transformers/all-MiniLM-L6-v2', 'dim': 384, 'embedding_cache_name': 'vec-cache', 'dtype': 'float32'}, 'search_method': 'hybrid', 'algorithm': 'hnsw', 'var_dtype': 'float16', 'distance_metric': 'cosine', 'ret_k': 1, 'ef_runtime': 50, 'ef_construction': 150, 'm': 64}. Best is trial 7 with value: 4.256.\n"
     ]
    },
    {
     "name": "stdout",
     "output_type": "stream",
     "text": [
      "10:15:27 sentence_transformers.SentenceTransformer INFO   Use pytorch device_name: mps\n",
      "10:15:27 sentence_transformers.SentenceTransformer INFO   Load pretrained SentenceTransformer: sentence-transformers/all-MiniLM-L6-v2\n"
     ]
    },
    {
     "name": "stderr",
     "output_type": "stream",
     "text": [
      "Batches: 100%|██████████| 1/1 [00:00<00:00, 58.20it/s]"
     ]
    },
    {
     "name": "stdout",
     "output_type": "stream",
     "text": [
      "10:15:27 root INFO   Data indexed total_indexing_time=2.99s, num_docs=3633\n"
     ]
    },
    {
     "name": "stderr",
     "output_type": "stream",
     "text": [
      "\n"
     ]
    },
    {
     "name": "stdout",
     "output_type": "stream",
     "text": [
      "10:15:29 root INFO   Saving metrics for study: 02c5c52b-9f83-4b87-93cf-3548f377d958, METRICS={'search_method': ['hybrid', 'vector', 'vector', 'vector', 'vector', 'vector', 'vector', 'hybrid', 'hybrid', 'hybrid', 'hybrid', 'hybrid', 'hybrid'], 'total_indexing_time': [-2.938, -2.938, -2.938, -2.938, -2.938, -2.938, -1.368, -4.256, -2.851, -2.851, -2.851, -2.99, -2.99], 'avg_query_time': [-0.0030586490690154558, -0.0008422095709171827, -0.0009241443669463828, -0.000957826342745093, -0.0009460153963543682, -0.0009069782292510703, -0.0008249304981054537, -0.002800116967121514, -0.001982953895356264, -0.002098676959058449, -0.0022983004803258937, -0.003134949657570098, -0.0031798587125890397], 'model': ['sentence-transformers/all-MiniLM-L6-v2', 'sentence-transformers/all-MiniLM-L6-v2', 'sentence-transformers/all-MiniLM-L6-v2', 'sentence-transformers/all-MiniLM-L6-v2', 'sentence-transformers/all-MiniLM-L6-v2', 'sentence-transformers/all-MiniLM-L6-v2', 'sentence-transformers/all-MiniLM-L6-v2', 'sentence-transformers/all-MiniLM-L6-v2', 'sentence-transformers/all-MiniLM-L6-v2', 'sentence-transformers/all-MiniLM-L6-v2', 'sentence-transformers/all-MiniLM-L6-v2', 'sentence-transformers/all-MiniLM-L6-v2', 'sentence-transformers/all-MiniLM-L6-v2'], 'model_dim': [384, 384, 384, 384, 384, 384, 384, 384, 384, 384, 384, 384, 384], 'ret_k': [7, 3, 6, 4, 7, 3, 10, 2, 6, 8, 1, 1, 1], 'recall@k': [0.15498797328057845, 0.14786315482520818, 0.14786315482520818, 0.14786315482520818, 0.14786315482520818, 0.14786315482520818, 0.14796888385388574, 0.15498797328057845, 0.15498797328057845, 0.15498797328057845, 0.15498797328057845, 0.15498797328057845, 0.15498797328057845], 'ndcg@k': [0.20277849135854045, 0.18650304495321093, 0.18650304495321093, 0.18650304495321093, 0.18650304495321093, 0.18650304495321093, 0.18796719728092878, 0.20277849135854045, 0.20277849135854045, 0.20277849135854045, 0.20277849135854045, 0.20277849135854045, 0.20277849135854045], 'f1@k': [0.13071176354799932, 0.12689261701063015, 0.12689261701063015, 0.12689261701063015, 0.12689261701063015, 0.12689261701063015, 0.12630829517360484, 0.13071176354799932, 0.13071176354799932, 0.13071176354799932, 0.13071176354799932, 0.13071176354799932, 0.13071176354799932], 'precision': [0.24334365325077406, 0.24179566563467494, 0.24179566563467494, 0.24179566563467494, 0.24179566563467494, 0.24179566563467494, 0.23993808049535603, 0.24334365325077406, 0.24334365325077406, 0.24334365325077406, 0.24334365325077406, 0.24334365325077406, 0.24334365325077406], 'algorithm': ['hnsw', 'hnsw', 'hnsw', 'hnsw', 'hnsw', 'hnsw', 'hnsw', 'hnsw', 'hnsw', 'hnsw', 'hnsw', 'hnsw', 'hnsw'], 'ef_construction': [150, 300, 200, 200, 100, 300, 100, 300, 300, 250, 150, 150, 150], 'ef_runtime': [20, 20, 10, 30, 20, 10, 50, 50, 30, 20, 50, 50, 50], 'm': [64, 64, 8, 16, 8, 16, 8, 64, 64, 16, 64, 64, 64], 'distance_metric': ['cosine', 'cosine', 'cosine', 'cosine', 'cosine', 'cosine', 'cosine', 'cosine', 'cosine', 'cosine', 'cosine', 'cosine', 'cosine'], 'vector_data_type': ['float16', 'float16', 'float16', 'float16', 'float16', 'float16', 'float32', 'float16', 'float32', 'float32', 'float32', 'float16', 'float16']}\n"
     ]
    },
    {
     "name": "stderr",
     "output_type": "stream",
     "text": [
      "[I 2025-06-18 10:15:29,226] Trial 12 finished with value: 2.99 and parameters: {'model_info': {'type': 'hf', 'model': 'sentence-transformers/all-MiniLM-L6-v2', 'dim': 384, 'embedding_cache_name': 'vec-cache', 'dtype': 'float32'}, 'search_method': 'hybrid', 'algorithm': 'hnsw', 'var_dtype': 'float16', 'distance_metric': 'cosine', 'ret_k': 1, 'ef_runtime': 50, 'ef_construction': 150, 'm': 64}. Best is trial 7 with value: 4.256.\n"
     ]
    },
    {
     "name": "stdout",
     "output_type": "stream",
     "text": [
      "10:15:29 redisvl.index.index INFO   Index already exists, not overwriting.\n",
      "10:15:29 sentence_transformers.SentenceTransformer INFO   Use pytorch device_name: mps\n",
      "10:15:29 sentence_transformers.SentenceTransformer INFO   Load pretrained SentenceTransformer: sentence-transformers/all-MiniLM-L6-v2\n"
     ]
    },
    {
     "name": "stderr",
     "output_type": "stream",
     "text": [
      "Batches: 100%|██████████| 1/1 [00:00<00:00, 54.92it/s]"
     ]
    },
    {
     "name": "stdout",
     "output_type": "stream",
     "text": [
      "10:15:29 root INFO   Data indexed total_indexing_time=2.99s, num_docs=3633\n"
     ]
    },
    {
     "name": "stderr",
     "output_type": "stream",
     "text": [
      "\n"
     ]
    },
    {
     "name": "stdout",
     "output_type": "stream",
     "text": [
      "10:15:31 root INFO   Saving metrics for study: 02c5c52b-9f83-4b87-93cf-3548f377d958, METRICS={'search_method': ['hybrid', 'vector', 'vector', 'vector', 'vector', 'vector', 'vector', 'hybrid', 'hybrid', 'hybrid', 'hybrid', 'hybrid', 'hybrid', 'hybrid'], 'total_indexing_time': [-2.938, -2.938, -2.938, -2.938, -2.938, -2.938, -1.368, -4.256, -2.851, -2.851, -2.851, -2.99, -2.99, -2.99], 'avg_query_time': [-0.0030586490690154558, -0.0008422095709171827, -0.0009241443669463828, -0.000957826342745093, -0.0009460153963543682, -0.0009069782292510703, -0.0008249304981054537, -0.002800116967121514, -0.001982953895356264, -0.002098676959058449, -0.0022983004803258937, -0.003134949657570098, -0.0031798587125890397, -0.0031702208445168133], 'model': ['sentence-transformers/all-MiniLM-L6-v2', 'sentence-transformers/all-MiniLM-L6-v2', 'sentence-transformers/all-MiniLM-L6-v2', 'sentence-transformers/all-MiniLM-L6-v2', 'sentence-transformers/all-MiniLM-L6-v2', 'sentence-transformers/all-MiniLM-L6-v2', 'sentence-transformers/all-MiniLM-L6-v2', 'sentence-transformers/all-MiniLM-L6-v2', 'sentence-transformers/all-MiniLM-L6-v2', 'sentence-transformers/all-MiniLM-L6-v2', 'sentence-transformers/all-MiniLM-L6-v2', 'sentence-transformers/all-MiniLM-L6-v2', 'sentence-transformers/all-MiniLM-L6-v2', 'sentence-transformers/all-MiniLM-L6-v2'], 'model_dim': [384, 384, 384, 384, 384, 384, 384, 384, 384, 384, 384, 384, 384, 384], 'ret_k': [7, 3, 6, 4, 7, 3, 10, 2, 6, 8, 1, 1, 1, 2], 'recall@k': [0.15498797328057845, 0.14786315482520818, 0.14786315482520818, 0.14786315482520818, 0.14786315482520818, 0.14786315482520818, 0.14796888385388574, 0.15498797328057845, 0.15498797328057845, 0.15498797328057845, 0.15498797328057845, 0.15498797328057845, 0.15498797328057845, 0.15498797328057845], 'ndcg@k': [0.20277849135854045, 0.18650304495321093, 0.18650304495321093, 0.18650304495321093, 0.18650304495321093, 0.18650304495321093, 0.18796719728092878, 0.20277849135854045, 0.20277849135854045, 0.20277849135854045, 0.20277849135854045, 0.20277849135854045, 0.20277849135854045, 0.20277849135854045], 'f1@k': [0.13071176354799932, 0.12689261701063015, 0.12689261701063015, 0.12689261701063015, 0.12689261701063015, 0.12689261701063015, 0.12630829517360484, 0.13071176354799932, 0.13071176354799932, 0.13071176354799932, 0.13071176354799932, 0.13071176354799932, 0.13071176354799932, 0.13071176354799932], 'precision': [0.24334365325077406, 0.24179566563467494, 0.24179566563467494, 0.24179566563467494, 0.24179566563467494, 0.24179566563467494, 0.23993808049535603, 0.24334365325077406, 0.24334365325077406, 0.24334365325077406, 0.24334365325077406, 0.24334365325077406, 0.24334365325077406, 0.24334365325077406], 'algorithm': ['hnsw', 'hnsw', 'hnsw', 'hnsw', 'hnsw', 'hnsw', 'hnsw', 'hnsw', 'hnsw', 'hnsw', 'hnsw', 'hnsw', 'hnsw', 'hnsw'], 'ef_construction': [150, 300, 200, 200, 100, 300, 100, 300, 300, 250, 150, 150, 150, 250], 'ef_runtime': [20, 20, 10, 30, 20, 10, 50, 50, 30, 20, 50, 50, 50, 50], 'm': [64, 64, 8, 16, 8, 16, 8, 64, 64, 16, 64, 64, 64, 64], 'distance_metric': ['cosine', 'cosine', 'cosine', 'cosine', 'cosine', 'cosine', 'cosine', 'cosine', 'cosine', 'cosine', 'cosine', 'cosine', 'cosine', 'cosine'], 'vector_data_type': ['float16', 'float16', 'float16', 'float16', 'float16', 'float16', 'float32', 'float16', 'float32', 'float32', 'float32', 'float16', 'float16', 'float16']}\n"
     ]
    },
    {
     "name": "stderr",
     "output_type": "stream",
     "text": [
      "[I 2025-06-18 10:15:31,243] Trial 13 finished with value: 2.99 and parameters: {'model_info': {'type': 'hf', 'model': 'sentence-transformers/all-MiniLM-L6-v2', 'dim': 384, 'embedding_cache_name': 'vec-cache', 'dtype': 'float32'}, 'search_method': 'hybrid', 'algorithm': 'hnsw', 'var_dtype': 'float16', 'distance_metric': 'cosine', 'ret_k': 2, 'ef_runtime': 50, 'ef_construction': 250, 'm': 64}. Best is trial 7 with value: 4.256.\n"
     ]
    },
    {
     "name": "stdout",
     "output_type": "stream",
     "text": [
      "10:15:31 redisvl.index.index INFO   Index already exists, not overwriting.\n",
      "10:15:31 sentence_transformers.SentenceTransformer INFO   Use pytorch device_name: mps\n",
      "10:15:31 sentence_transformers.SentenceTransformer INFO   Load pretrained SentenceTransformer: sentence-transformers/all-MiniLM-L6-v2\n"
     ]
    },
    {
     "name": "stderr",
     "output_type": "stream",
     "text": [
      "Batches: 100%|██████████| 1/1 [00:00<00:00, 69.75it/s]"
     ]
    },
    {
     "name": "stdout",
     "output_type": "stream",
     "text": [
      "10:15:31 root INFO   Data indexed total_indexing_time=2.99s, num_docs=3633\n"
     ]
    },
    {
     "name": "stderr",
     "output_type": "stream",
     "text": [
      "\n"
     ]
    },
    {
     "name": "stdout",
     "output_type": "stream",
     "text": [
      "10:15:33 root INFO   Saving metrics for study: 02c5c52b-9f83-4b87-93cf-3548f377d958, METRICS={'search_method': ['hybrid', 'vector', 'vector', 'vector', 'vector', 'vector', 'vector', 'hybrid', 'hybrid', 'hybrid', 'hybrid', 'hybrid', 'hybrid', 'hybrid', 'hybrid'], 'total_indexing_time': [-2.938, -2.938, -2.938, -2.938, -2.938, -2.938, -1.368, -4.256, -2.851, -2.851, -2.851, -2.99, -2.99, -2.99, -2.99], 'avg_query_time': [-0.0030586490690154558, -0.0008422095709171827, -0.0009241443669463828, -0.000957826342745093, -0.0009460153963543682, -0.0009069782292510703, -0.0008249304981054537, -0.002800116967121514, -0.001982953895356264, -0.002098676959058449, -0.0022983004803258937, -0.003134949657570098, -0.0031798587125890397, -0.0031702208445168133, -0.003212623920972133], 'model': ['sentence-transformers/all-MiniLM-L6-v2', 'sentence-transformers/all-MiniLM-L6-v2', 'sentence-transformers/all-MiniLM-L6-v2', 'sentence-transformers/all-MiniLM-L6-v2', 'sentence-transformers/all-MiniLM-L6-v2', 'sentence-transformers/all-MiniLM-L6-v2', 'sentence-transformers/all-MiniLM-L6-v2', 'sentence-transformers/all-MiniLM-L6-v2', 'sentence-transformers/all-MiniLM-L6-v2', 'sentence-transformers/all-MiniLM-L6-v2', 'sentence-transformers/all-MiniLM-L6-v2', 'sentence-transformers/all-MiniLM-L6-v2', 'sentence-transformers/all-MiniLM-L6-v2', 'sentence-transformers/all-MiniLM-L6-v2', 'sentence-transformers/all-MiniLM-L6-v2'], 'model_dim': [384, 384, 384, 384, 384, 384, 384, 384, 384, 384, 384, 384, 384, 384, 384], 'ret_k': [7, 3, 6, 4, 7, 3, 10, 2, 6, 8, 1, 1, 1, 2, 4], 'recall@k': [0.15498797328057845, 0.14786315482520818, 0.14786315482520818, 0.14786315482520818, 0.14786315482520818, 0.14786315482520818, 0.14796888385388574, 0.15498797328057845, 0.15498797328057845, 0.15498797328057845, 0.15498797328057845, 0.15498797328057845, 0.15498797328057845, 0.15498797328057845, 0.15498797328057845], 'ndcg@k': [0.20277849135854045, 0.18650304495321093, 0.18650304495321093, 0.18650304495321093, 0.18650304495321093, 0.18650304495321093, 0.18796719728092878, 0.20277849135854045, 0.20277849135854045, 0.20277849135854045, 0.20277849135854045, 0.20277849135854045, 0.20277849135854045, 0.20277849135854045, 0.20277849135854045], 'f1@k': [0.13071176354799932, 0.12689261701063015, 0.12689261701063015, 0.12689261701063015, 0.12689261701063015, 0.12689261701063015, 0.12630829517360484, 0.13071176354799932, 0.13071176354799932, 0.13071176354799932, 0.13071176354799932, 0.13071176354799932, 0.13071176354799932, 0.13071176354799932, 0.13071176354799932], 'precision': [0.24334365325077406, 0.24179566563467494, 0.24179566563467494, 0.24179566563467494, 0.24179566563467494, 0.24179566563467494, 0.23993808049535603, 0.24334365325077406, 0.24334365325077406, 0.24334365325077406, 0.24334365325077406, 0.24334365325077406, 0.24334365325077406, 0.24334365325077406, 0.24334365325077406], 'algorithm': ['hnsw', 'hnsw', 'hnsw', 'hnsw', 'hnsw', 'hnsw', 'hnsw', 'hnsw', 'hnsw', 'hnsw', 'hnsw', 'hnsw', 'hnsw', 'hnsw', 'hnsw'], 'ef_construction': [150, 300, 200, 200, 100, 300, 100, 300, 300, 250, 150, 150, 150, 250, 150], 'ef_runtime': [20, 20, 10, 30, 20, 10, 50, 50, 30, 20, 50, 50, 50, 50, 50], 'm': [64, 64, 8, 16, 8, 16, 8, 64, 64, 16, 64, 64, 64, 64, 64], 'distance_metric': ['cosine', 'cosine', 'cosine', 'cosine', 'cosine', 'cosine', 'cosine', 'cosine', 'cosine', 'cosine', 'cosine', 'cosine', 'cosine', 'cosine', 'cosine'], 'vector_data_type': ['float16', 'float16', 'float16', 'float16', 'float16', 'float16', 'float32', 'float16', 'float32', 'float32', 'float32', 'float16', 'float16', 'float16', 'float16']}\n"
     ]
    },
    {
     "name": "stderr",
     "output_type": "stream",
     "text": [
      "[I 2025-06-18 10:15:33,338] Trial 14 finished with value: 2.99 and parameters: {'model_info': {'type': 'hf', 'model': 'sentence-transformers/all-MiniLM-L6-v2', 'dim': 384, 'embedding_cache_name': 'vec-cache', 'dtype': 'float32'}, 'search_method': 'hybrid', 'algorithm': 'hnsw', 'var_dtype': 'float16', 'distance_metric': 'cosine', 'ret_k': 4, 'ef_runtime': 50, 'ef_construction': 150, 'm': 64}. Best is trial 7 with value: 4.256.\n"
     ]
    },
    {
     "name": "stdout",
     "output_type": "stream",
     "text": [
      "10:15:33 redisvl.index.index INFO   Index already exists, not overwriting.\n",
      "10:15:33 sentence_transformers.SentenceTransformer INFO   Use pytorch device_name: mps\n",
      "10:15:33 sentence_transformers.SentenceTransformer INFO   Load pretrained SentenceTransformer: sentence-transformers/all-MiniLM-L6-v2\n"
     ]
    },
    {
     "name": "stderr",
     "output_type": "stream",
     "text": [
      "Batches: 100%|██████████| 1/1 [00:00<00:00, 60.02it/s]"
     ]
    },
    {
     "name": "stdout",
     "output_type": "stream",
     "text": [
      "10:15:33 root INFO   Data indexed total_indexing_time=2.99s, num_docs=3633\n"
     ]
    },
    {
     "name": "stderr",
     "output_type": "stream",
     "text": [
      "\n"
     ]
    },
    {
     "name": "stdout",
     "output_type": "stream",
     "text": [
      "10:15:35 root INFO   Saving metrics for study: 02c5c52b-9f83-4b87-93cf-3548f377d958, METRICS={'search_method': ['hybrid', 'vector', 'vector', 'vector', 'vector', 'vector', 'vector', 'hybrid', 'hybrid', 'hybrid', 'hybrid', 'hybrid', 'hybrid', 'hybrid', 'hybrid', 'hybrid'], 'total_indexing_time': [-2.938, -2.938, -2.938, -2.938, -2.938, -2.938, -1.368, -4.256, -2.851, -2.851, -2.851, -2.99, -2.99, -2.99, -2.99, -2.99], 'avg_query_time': [-0.0030586490690154558, -0.0008422095709171827, -0.0009241443669463828, -0.000957826342745093, -0.0009460153963543682, -0.0009069782292510703, -0.0008249304981054537, -0.002800116967121514, -0.001982953895356264, -0.002098676959058449, -0.0022983004803258937, -0.003134949657570098, -0.0031798587125890397, -0.0031702208445168133, -0.003212623920972133, -0.003174193503317818], 'model': ['sentence-transformers/all-MiniLM-L6-v2', 'sentence-transformers/all-MiniLM-L6-v2', 'sentence-transformers/all-MiniLM-L6-v2', 'sentence-transformers/all-MiniLM-L6-v2', 'sentence-transformers/all-MiniLM-L6-v2', 'sentence-transformers/all-MiniLM-L6-v2', 'sentence-transformers/all-MiniLM-L6-v2', 'sentence-transformers/all-MiniLM-L6-v2', 'sentence-transformers/all-MiniLM-L6-v2', 'sentence-transformers/all-MiniLM-L6-v2', 'sentence-transformers/all-MiniLM-L6-v2', 'sentence-transformers/all-MiniLM-L6-v2', 'sentence-transformers/all-MiniLM-L6-v2', 'sentence-transformers/all-MiniLM-L6-v2', 'sentence-transformers/all-MiniLM-L6-v2', 'sentence-transformers/all-MiniLM-L6-v2'], 'model_dim': [384, 384, 384, 384, 384, 384, 384, 384, 384, 384, 384, 384, 384, 384, 384, 384], 'ret_k': [7, 3, 6, 4, 7, 3, 10, 2, 6, 8, 1, 1, 1, 2, 4, 1], 'recall@k': [0.15498797328057845, 0.14786315482520818, 0.14786315482520818, 0.14786315482520818, 0.14786315482520818, 0.14786315482520818, 0.14796888385388574, 0.15498797328057845, 0.15498797328057845, 0.15498797328057845, 0.15498797328057845, 0.15498797328057845, 0.15498797328057845, 0.15498797328057845, 0.15498797328057845, 0.15498797328057845], 'ndcg@k': [0.20277849135854045, 0.18650304495321093, 0.18650304495321093, 0.18650304495321093, 0.18650304495321093, 0.18650304495321093, 0.18796719728092878, 0.20277849135854045, 0.20277849135854045, 0.20277849135854045, 0.20277849135854045, 0.20277849135854045, 0.20277849135854045, 0.20277849135854045, 0.20277849135854045, 0.20277849135854045], 'f1@k': [0.13071176354799932, 0.12689261701063015, 0.12689261701063015, 0.12689261701063015, 0.12689261701063015, 0.12689261701063015, 0.12630829517360484, 0.13071176354799932, 0.13071176354799932, 0.13071176354799932, 0.13071176354799932, 0.13071176354799932, 0.13071176354799932, 0.13071176354799932, 0.13071176354799932, 0.13071176354799932], 'precision': [0.24334365325077406, 0.24179566563467494, 0.24179566563467494, 0.24179566563467494, 0.24179566563467494, 0.24179566563467494, 0.23993808049535603, 0.24334365325077406, 0.24334365325077406, 0.24334365325077406, 0.24334365325077406, 0.24334365325077406, 0.24334365325077406, 0.24334365325077406, 0.24334365325077406, 0.24334365325077406], 'algorithm': ['hnsw', 'hnsw', 'hnsw', 'hnsw', 'hnsw', 'hnsw', 'hnsw', 'hnsw', 'hnsw', 'hnsw', 'hnsw', 'hnsw', 'hnsw', 'hnsw', 'hnsw', 'hnsw'], 'ef_construction': [150, 300, 200, 200, 100, 300, 100, 300, 300, 250, 150, 150, 150, 250, 150, 300], 'ef_runtime': [20, 20, 10, 30, 20, 10, 50, 50, 30, 20, 50, 50, 50, 50, 50, 50], 'm': [64, 64, 8, 16, 8, 16, 8, 64, 64, 16, 64, 64, 64, 64, 64, 64], 'distance_metric': ['cosine', 'cosine', 'cosine', 'cosine', 'cosine', 'cosine', 'cosine', 'cosine', 'cosine', 'cosine', 'cosine', 'cosine', 'cosine', 'cosine', 'cosine', 'cosine'], 'vector_data_type': ['float16', 'float16', 'float16', 'float16', 'float16', 'float16', 'float32', 'float16', 'float32', 'float32', 'float32', 'float16', 'float16', 'float16', 'float16', 'float16']}\n"
     ]
    },
    {
     "name": "stderr",
     "output_type": "stream",
     "text": [
      "[I 2025-06-18 10:15:35,427] Trial 15 finished with value: 2.99 and parameters: {'model_info': {'type': 'hf', 'model': 'sentence-transformers/all-MiniLM-L6-v2', 'dim': 384, 'embedding_cache_name': 'vec-cache', 'dtype': 'float32'}, 'search_method': 'hybrid', 'algorithm': 'hnsw', 'var_dtype': 'float16', 'distance_metric': 'cosine', 'ret_k': 1, 'ef_runtime': 50, 'ef_construction': 300, 'm': 64}. Best is trial 7 with value: 4.256.\n"
     ]
    },
    {
     "name": "stdout",
     "output_type": "stream",
     "text": [
      "10:15:35 redisvl.index.index INFO   Index already exists, not overwriting.\n",
      "10:15:35 sentence_transformers.SentenceTransformer INFO   Use pytorch device_name: mps\n",
      "10:15:35 sentence_transformers.SentenceTransformer INFO   Load pretrained SentenceTransformer: sentence-transformers/all-MiniLM-L6-v2\n"
     ]
    },
    {
     "name": "stderr",
     "output_type": "stream",
     "text": [
      "Batches: 100%|██████████| 1/1 [00:00<00:00, 63.00it/s]"
     ]
    },
    {
     "name": "stdout",
     "output_type": "stream",
     "text": [
      "10:15:35 root INFO   Data indexed total_indexing_time=2.99s, num_docs=3633\n"
     ]
    },
    {
     "name": "stderr",
     "output_type": "stream",
     "text": [
      "\n"
     ]
    },
    {
     "name": "stdout",
     "output_type": "stream",
     "text": [
      "10:15:37 root INFO   Saving metrics for study: 02c5c52b-9f83-4b87-93cf-3548f377d958, METRICS={'search_method': ['hybrid', 'vector', 'vector', 'vector', 'vector', 'vector', 'vector', 'hybrid', 'hybrid', 'hybrid', 'hybrid', 'hybrid', 'hybrid', 'hybrid', 'hybrid', 'hybrid', 'hybrid'], 'total_indexing_time': [-2.938, -2.938, -2.938, -2.938, -2.938, -2.938, -1.368, -4.256, -2.851, -2.851, -2.851, -2.99, -2.99, -2.99, -2.99, -2.99, -2.99], 'avg_query_time': [-0.0030586490690154558, -0.0008422095709171827, -0.0009241443669463828, -0.000957826342745093, -0.0009460153963543682, -0.0009069782292510703, -0.0008249304981054537, -0.002800116967121514, -0.001982953895356264, -0.002098676959058449, -0.0022983004803258937, -0.003134949657570098, -0.0031798587125890397, -0.0031702208445168133, -0.003212623920972133, -0.003174193503317818, -0.003027929979212144], 'model': ['sentence-transformers/all-MiniLM-L6-v2', 'sentence-transformers/all-MiniLM-L6-v2', 'sentence-transformers/all-MiniLM-L6-v2', 'sentence-transformers/all-MiniLM-L6-v2', 'sentence-transformers/all-MiniLM-L6-v2', 'sentence-transformers/all-MiniLM-L6-v2', 'sentence-transformers/all-MiniLM-L6-v2', 'sentence-transformers/all-MiniLM-L6-v2', 'sentence-transformers/all-MiniLM-L6-v2', 'sentence-transformers/all-MiniLM-L6-v2', 'sentence-transformers/all-MiniLM-L6-v2', 'sentence-transformers/all-MiniLM-L6-v2', 'sentence-transformers/all-MiniLM-L6-v2', 'sentence-transformers/all-MiniLM-L6-v2', 'sentence-transformers/all-MiniLM-L6-v2', 'sentence-transformers/all-MiniLM-L6-v2', 'sentence-transformers/all-MiniLM-L6-v2'], 'model_dim': [384, 384, 384, 384, 384, 384, 384, 384, 384, 384, 384, 384, 384, 384, 384, 384, 384], 'ret_k': [7, 3, 6, 4, 7, 3, 10, 2, 6, 8, 1, 1, 1, 2, 4, 1, 3], 'recall@k': [0.15498797328057845, 0.14786315482520818, 0.14786315482520818, 0.14786315482520818, 0.14786315482520818, 0.14786315482520818, 0.14796888385388574, 0.15498797328057845, 0.15498797328057845, 0.15498797328057845, 0.15498797328057845, 0.15498797328057845, 0.15498797328057845, 0.15498797328057845, 0.15498797328057845, 0.15498797328057845, 0.15498797328057845], 'ndcg@k': [0.20277849135854045, 0.18650304495321093, 0.18650304495321093, 0.18650304495321093, 0.18650304495321093, 0.18650304495321093, 0.18796719728092878, 0.20277849135854045, 0.20277849135854045, 0.20277849135854045, 0.20277849135854045, 0.20277849135854045, 0.20277849135854045, 0.20277849135854045, 0.20277849135854045, 0.20277849135854045, 0.20277849135854045], 'f1@k': [0.13071176354799932, 0.12689261701063015, 0.12689261701063015, 0.12689261701063015, 0.12689261701063015, 0.12689261701063015, 0.12630829517360484, 0.13071176354799932, 0.13071176354799932, 0.13071176354799932, 0.13071176354799932, 0.13071176354799932, 0.13071176354799932, 0.13071176354799932, 0.13071176354799932, 0.13071176354799932, 0.13071176354799932], 'precision': [0.24334365325077406, 0.24179566563467494, 0.24179566563467494, 0.24179566563467494, 0.24179566563467494, 0.24179566563467494, 0.23993808049535603, 0.24334365325077406, 0.24334365325077406, 0.24334365325077406, 0.24334365325077406, 0.24334365325077406, 0.24334365325077406, 0.24334365325077406, 0.24334365325077406, 0.24334365325077406, 0.24334365325077406], 'algorithm': ['hnsw', 'hnsw', 'hnsw', 'hnsw', 'hnsw', 'hnsw', 'hnsw', 'hnsw', 'hnsw', 'hnsw', 'hnsw', 'hnsw', 'hnsw', 'hnsw', 'hnsw', 'hnsw', 'hnsw'], 'ef_construction': [150, 300, 200, 200, 100, 300, 100, 300, 300, 250, 150, 150, 150, 250, 150, 300, 150], 'ef_runtime': [20, 20, 10, 30, 20, 10, 50, 50, 30, 20, 50, 50, 50, 50, 50, 50, 50], 'm': [64, 64, 8, 16, 8, 16, 8, 64, 64, 16, 64, 64, 64, 64, 64, 64, 64], 'distance_metric': ['cosine', 'cosine', 'cosine', 'cosine', 'cosine', 'cosine', 'cosine', 'cosine', 'cosine', 'cosine', 'cosine', 'cosine', 'cosine', 'cosine', 'cosine', 'cosine', 'cosine'], 'vector_data_type': ['float16', 'float16', 'float16', 'float16', 'float16', 'float16', 'float32', 'float16', 'float32', 'float32', 'float32', 'float16', 'float16', 'float16', 'float16', 'float16', 'float16']}\n"
     ]
    },
    {
     "name": "stderr",
     "output_type": "stream",
     "text": [
      "[I 2025-06-18 10:15:37,299] Trial 16 finished with value: 2.99 and parameters: {'model_info': {'type': 'hf', 'model': 'sentence-transformers/all-MiniLM-L6-v2', 'dim': 384, 'embedding_cache_name': 'vec-cache', 'dtype': 'float32'}, 'search_method': 'hybrid', 'algorithm': 'hnsw', 'var_dtype': 'float16', 'distance_metric': 'cosine', 'ret_k': 3, 'ef_runtime': 50, 'ef_construction': 150, 'm': 64}. Best is trial 7 with value: 4.256.\n"
     ]
    },
    {
     "name": "stdout",
     "output_type": "stream",
     "text": [
      "10:15:37 redisvl.index.index INFO   Index already exists, not overwriting.\n",
      "10:15:37 sentence_transformers.SentenceTransformer INFO   Use pytorch device_name: mps\n",
      "10:15:37 sentence_transformers.SentenceTransformer INFO   Load pretrained SentenceTransformer: sentence-transformers/all-MiniLM-L6-v2\n"
     ]
    },
    {
     "name": "stderr",
     "output_type": "stream",
     "text": [
      "Batches: 100%|██████████| 1/1 [00:00<00:00, 57.45it/s]"
     ]
    },
    {
     "name": "stdout",
     "output_type": "stream",
     "text": [
      "10:15:37 root INFO   Data indexed total_indexing_time=2.99s, num_docs=3633\n"
     ]
    },
    {
     "name": "stderr",
     "output_type": "stream",
     "text": [
      "\n"
     ]
    },
    {
     "name": "stdout",
     "output_type": "stream",
     "text": [
      "10:15:39 root INFO   Saving metrics for study: 02c5c52b-9f83-4b87-93cf-3548f377d958, METRICS={'search_method': ['hybrid', 'vector', 'vector', 'vector', 'vector', 'vector', 'vector', 'hybrid', 'hybrid', 'hybrid', 'hybrid', 'hybrid', 'hybrid', 'hybrid', 'hybrid', 'hybrid', 'hybrid', 'hybrid'], 'total_indexing_time': [-2.938, -2.938, -2.938, -2.938, -2.938, -2.938, -1.368, -4.256, -2.851, -2.851, -2.851, -2.99, -2.99, -2.99, -2.99, -2.99, -2.99, -2.99], 'avg_query_time': [-0.0030586490690154558, -0.0008422095709171827, -0.0009241443669463828, -0.000957826342745093, -0.0009460153963543682, -0.0009069782292510703, -0.0008249304981054537, -0.002800116967121514, -0.001982953895356264, -0.002098676959058449, -0.0022983004803258937, -0.003134949657570098, -0.0031798587125890397, -0.0031702208445168133, -0.003212623920972133, -0.003174193503317818, -0.003027929979212144, -0.0032318738222860332], 'model': ['sentence-transformers/all-MiniLM-L6-v2', 'sentence-transformers/all-MiniLM-L6-v2', 'sentence-transformers/all-MiniLM-L6-v2', 'sentence-transformers/all-MiniLM-L6-v2', 'sentence-transformers/all-MiniLM-L6-v2', 'sentence-transformers/all-MiniLM-L6-v2', 'sentence-transformers/all-MiniLM-L6-v2', 'sentence-transformers/all-MiniLM-L6-v2', 'sentence-transformers/all-MiniLM-L6-v2', 'sentence-transformers/all-MiniLM-L6-v2', 'sentence-transformers/all-MiniLM-L6-v2', 'sentence-transformers/all-MiniLM-L6-v2', 'sentence-transformers/all-MiniLM-L6-v2', 'sentence-transformers/all-MiniLM-L6-v2', 'sentence-transformers/all-MiniLM-L6-v2', 'sentence-transformers/all-MiniLM-L6-v2', 'sentence-transformers/all-MiniLM-L6-v2', 'sentence-transformers/all-MiniLM-L6-v2'], 'model_dim': [384, 384, 384, 384, 384, 384, 384, 384, 384, 384, 384, 384, 384, 384, 384, 384, 384, 384], 'ret_k': [7, 3, 6, 4, 7, 3, 10, 2, 6, 8, 1, 1, 1, 2, 4, 1, 3, 2], 'recall@k': [0.15498797328057845, 0.14786315482520818, 0.14786315482520818, 0.14786315482520818, 0.14786315482520818, 0.14786315482520818, 0.14796888385388574, 0.15498797328057845, 0.15498797328057845, 0.15498797328057845, 0.15498797328057845, 0.15498797328057845, 0.15498797328057845, 0.15498797328057845, 0.15498797328057845, 0.15498797328057845, 0.15498797328057845, 0.15498797328057845], 'ndcg@k': [0.20277849135854045, 0.18650304495321093, 0.18650304495321093, 0.18650304495321093, 0.18650304495321093, 0.18650304495321093, 0.18796719728092878, 0.20277849135854045, 0.20277849135854045, 0.20277849135854045, 0.20277849135854045, 0.20277849135854045, 0.20277849135854045, 0.20277849135854045, 0.20277849135854045, 0.20277849135854045, 0.20277849135854045, 0.20277849135854045], 'f1@k': [0.13071176354799932, 0.12689261701063015, 0.12689261701063015, 0.12689261701063015, 0.12689261701063015, 0.12689261701063015, 0.12630829517360484, 0.13071176354799932, 0.13071176354799932, 0.13071176354799932, 0.13071176354799932, 0.13071176354799932, 0.13071176354799932, 0.13071176354799932, 0.13071176354799932, 0.13071176354799932, 0.13071176354799932, 0.13071176354799932], 'precision': [0.24334365325077406, 0.24179566563467494, 0.24179566563467494, 0.24179566563467494, 0.24179566563467494, 0.24179566563467494, 0.23993808049535603, 0.24334365325077406, 0.24334365325077406, 0.24334365325077406, 0.24334365325077406, 0.24334365325077406, 0.24334365325077406, 0.24334365325077406, 0.24334365325077406, 0.24334365325077406, 0.24334365325077406, 0.24334365325077406], 'algorithm': ['hnsw', 'hnsw', 'hnsw', 'hnsw', 'hnsw', 'hnsw', 'hnsw', 'hnsw', 'hnsw', 'hnsw', 'hnsw', 'hnsw', 'hnsw', 'hnsw', 'hnsw', 'hnsw', 'hnsw', 'hnsw'], 'ef_construction': [150, 300, 200, 200, 100, 300, 100, 300, 300, 250, 150, 150, 150, 250, 150, 300, 150, 300], 'ef_runtime': [20, 20, 10, 30, 20, 10, 50, 50, 30, 20, 50, 50, 50, 50, 50, 50, 50, 50], 'm': [64, 64, 8, 16, 8, 16, 8, 64, 64, 16, 64, 64, 64, 64, 64, 64, 64, 64], 'distance_metric': ['cosine', 'cosine', 'cosine', 'cosine', 'cosine', 'cosine', 'cosine', 'cosine', 'cosine', 'cosine', 'cosine', 'cosine', 'cosine', 'cosine', 'cosine', 'cosine', 'cosine', 'cosine'], 'vector_data_type': ['float16', 'float16', 'float16', 'float16', 'float16', 'float16', 'float32', 'float16', 'float32', 'float32', 'float32', 'float16', 'float16', 'float16', 'float16', 'float16', 'float16', 'float16']}\n"
     ]
    },
    {
     "name": "stderr",
     "output_type": "stream",
     "text": [
      "[I 2025-06-18 10:15:39,382] Trial 17 finished with value: 2.99 and parameters: {'model_info': {'type': 'hf', 'model': 'sentence-transformers/all-MiniLM-L6-v2', 'dim': 384, 'embedding_cache_name': 'vec-cache', 'dtype': 'float32'}, 'search_method': 'hybrid', 'algorithm': 'hnsw', 'var_dtype': 'float16', 'distance_metric': 'cosine', 'ret_k': 2, 'ef_runtime': 50, 'ef_construction': 300, 'm': 64}. Best is trial 7 with value: 4.256.\n"
     ]
    },
    {
     "name": "stdout",
     "output_type": "stream",
     "text": [
      "10:15:39 sentence_transformers.SentenceTransformer INFO   Use pytorch device_name: mps\n",
      "10:15:39 sentence_transformers.SentenceTransformer INFO   Load pretrained SentenceTransformer: sentence-transformers/all-MiniLM-L6-v2\n"
     ]
    },
    {
     "name": "stderr",
     "output_type": "stream",
     "text": [
      "Batches: 100%|██████████| 1/1 [00:00<00:00, 53.13it/s]"
     ]
    },
    {
     "name": "stdout",
     "output_type": "stream",
     "text": [
      "10:15:39 root INFO   Recreating index...\n"
     ]
    },
    {
     "name": "stderr",
     "output_type": "stream",
     "text": [
      "\n"
     ]
    },
    {
     "name": "stdout",
     "output_type": "stream",
     "text": [
      "10:15:40 root INFO   Corpus size: 3633\n",
      "10:15:41 root INFO   Data indexed total_indexing_time=1.365s, num_docs=3633\n",
      "10:15:43 root INFO   Saving metrics for study: 02c5c52b-9f83-4b87-93cf-3548f377d958, METRICS={'search_method': ['hybrid', 'vector', 'vector', 'vector', 'vector', 'vector', 'vector', 'hybrid', 'hybrid', 'hybrid', 'hybrid', 'hybrid', 'hybrid', 'hybrid', 'hybrid', 'hybrid', 'hybrid', 'hybrid', 'hybrid'], 'total_indexing_time': [-2.938, -2.938, -2.938, -2.938, -2.938, -2.938, -1.368, -4.256, -2.851, -2.851, -2.851, -2.99, -2.99, -2.99, -2.99, -2.99, -2.99, -2.99, -1.365], 'avg_query_time': [-0.0030586490690154558, -0.0008422095709171827, -0.0009241443669463828, -0.000957826342745093, -0.0009460153963543682, -0.0009069782292510703, -0.0008249304981054537, -0.002800116967121514, -0.001982953895356264, -0.002098676959058449, -0.0022983004803258937, -0.003134949657570098, -0.0031798587125890397, -0.0031702208445168133, -0.003212623920972133, -0.003174193503317818, -0.003027929979212144, -0.0032318738222860332, -0.0023797385094704642], 'model': ['sentence-transformers/all-MiniLM-L6-v2', 'sentence-transformers/all-MiniLM-L6-v2', 'sentence-transformers/all-MiniLM-L6-v2', 'sentence-transformers/all-MiniLM-L6-v2', 'sentence-transformers/all-MiniLM-L6-v2', 'sentence-transformers/all-MiniLM-L6-v2', 'sentence-transformers/all-MiniLM-L6-v2', 'sentence-transformers/all-MiniLM-L6-v2', 'sentence-transformers/all-MiniLM-L6-v2', 'sentence-transformers/all-MiniLM-L6-v2', 'sentence-transformers/all-MiniLM-L6-v2', 'sentence-transformers/all-MiniLM-L6-v2', 'sentence-transformers/all-MiniLM-L6-v2', 'sentence-transformers/all-MiniLM-L6-v2', 'sentence-transformers/all-MiniLM-L6-v2', 'sentence-transformers/all-MiniLM-L6-v2', 'sentence-transformers/all-MiniLM-L6-v2', 'sentence-transformers/all-MiniLM-L6-v2', 'sentence-transformers/all-MiniLM-L6-v2'], 'model_dim': [384, 384, 384, 384, 384, 384, 384, 384, 384, 384, 384, 384, 384, 384, 384, 384, 384, 384, 384], 'ret_k': [7, 3, 6, 4, 7, 3, 10, 2, 6, 8, 1, 1, 1, 2, 4, 1, 3, 2, 4], 'recall@k': [0.15498797328057845, 0.14786315482520818, 0.14786315482520818, 0.14786315482520818, 0.14786315482520818, 0.14786315482520818, 0.14796888385388574, 0.15498797328057845, 0.15498797328057845, 0.15498797328057845, 0.15498797328057845, 0.15498797328057845, 0.15498797328057845, 0.15498797328057845, 0.15498797328057845, 0.15498797328057845, 0.15498797328057845, 0.15498797328057845, 0.15498797328057845], 'ndcg@k': [0.20277849135854045, 0.18650304495321093, 0.18650304495321093, 0.18650304495321093, 0.18650304495321093, 0.18650304495321093, 0.18796719728092878, 0.20277849135854045, 0.20277849135854045, 0.20277849135854045, 0.20277849135854045, 0.20277849135854045, 0.20277849135854045, 0.20277849135854045, 0.20277849135854045, 0.20277849135854045, 0.20277849135854045, 0.20277849135854045, 0.20277849135854045], 'f1@k': [0.13071176354799932, 0.12689261701063015, 0.12689261701063015, 0.12689261701063015, 0.12689261701063015, 0.12689261701063015, 0.12630829517360484, 0.13071176354799932, 0.13071176354799932, 0.13071176354799932, 0.13071176354799932, 0.13071176354799932, 0.13071176354799932, 0.13071176354799932, 0.13071176354799932, 0.13071176354799932, 0.13071176354799932, 0.13071176354799932, 0.13071176354799932], 'precision': [0.24334365325077406, 0.24179566563467494, 0.24179566563467494, 0.24179566563467494, 0.24179566563467494, 0.24179566563467494, 0.23993808049535603, 0.24334365325077406, 0.24334365325077406, 0.24334365325077406, 0.24334365325077406, 0.24334365325077406, 0.24334365325077406, 0.24334365325077406, 0.24334365325077406, 0.24334365325077406, 0.24334365325077406, 0.24334365325077406, 0.24334365325077406], 'algorithm': ['hnsw', 'hnsw', 'hnsw', 'hnsw', 'hnsw', 'hnsw', 'hnsw', 'hnsw', 'hnsw', 'hnsw', 'hnsw', 'hnsw', 'hnsw', 'hnsw', 'hnsw', 'hnsw', 'hnsw', 'hnsw', 'hnsw'], 'ef_construction': [150, 300, 200, 200, 100, 300, 100, 300, 300, 250, 150, 150, 150, 250, 150, 300, 150, 300, 100], 'ef_runtime': [20, 20, 10, 30, 20, 10, 50, 50, 30, 20, 50, 50, 50, 50, 50, 50, 50, 50, 30], 'm': [64, 64, 8, 16, 8, 16, 8, 64, 64, 16, 64, 64, 64, 64, 64, 64, 64, 64, 8], 'distance_metric': ['cosine', 'cosine', 'cosine', 'cosine', 'cosine', 'cosine', 'cosine', 'cosine', 'cosine', 'cosine', 'cosine', 'cosine', 'cosine', 'cosine', 'cosine', 'cosine', 'cosine', 'cosine', 'cosine'], 'vector_data_type': ['float16', 'float16', 'float16', 'float16', 'float16', 'float16', 'float32', 'float16', 'float32', 'float32', 'float32', 'float16', 'float16', 'float16', 'float16', 'float16', 'float16', 'float16', 'float32']}\n"
     ]
    },
    {
     "name": "stderr",
     "output_type": "stream",
     "text": [
      "[I 2025-06-18 10:15:43,164] Trial 18 finished with value: 1.365 and parameters: {'model_info': {'type': 'hf', 'model': 'sentence-transformers/all-MiniLM-L6-v2', 'dim': 384, 'embedding_cache_name': 'vec-cache', 'dtype': 'float32'}, 'search_method': 'hybrid', 'algorithm': 'hnsw', 'var_dtype': 'float32', 'distance_metric': 'cosine', 'ret_k': 4, 'ef_runtime': 30, 'ef_construction': 100, 'm': 8}. Best is trial 7 with value: 4.256.\n"
     ]
    },
    {
     "name": "stdout",
     "output_type": "stream",
     "text": [
      "10:15:43 sentence_transformers.SentenceTransformer INFO   Use pytorch device_name: mps\n",
      "10:15:43 sentence_transformers.SentenceTransformer INFO   Load pretrained SentenceTransformer: sentence-transformers/all-MiniLM-L6-v2\n"
     ]
    },
    {
     "name": "stderr",
     "output_type": "stream",
     "text": [
      "Batches: 100%|██████████| 1/1 [00:00<00:00, 59.60it/s]"
     ]
    },
    {
     "name": "stdout",
     "output_type": "stream",
     "text": [
      "10:15:43 root INFO   Recreating index...\n"
     ]
    },
    {
     "name": "stderr",
     "output_type": "stream",
     "text": [
      "\n"
     ]
    },
    {
     "name": "stdout",
     "output_type": "stream",
     "text": [
      "10:15:44 root INFO   Corpus size: 3633\n",
      "10:15:47 root INFO   Data indexed total_indexing_time=3.312s, num_docs=3633\n",
      "10:15:49 root INFO   Saving metrics for study: 02c5c52b-9f83-4b87-93cf-3548f377d958, METRICS={'search_method': ['hybrid', 'vector', 'vector', 'vector', 'vector', 'vector', 'vector', 'hybrid', 'hybrid', 'hybrid', 'hybrid', 'hybrid', 'hybrid', 'hybrid', 'hybrid', 'hybrid', 'hybrid', 'hybrid', 'hybrid', 'hybrid'], 'total_indexing_time': [-2.938, -2.938, -2.938, -2.938, -2.938, -2.938, -1.368, -4.256, -2.851, -2.851, -2.851, -2.99, -2.99, -2.99, -2.99, -2.99, -2.99, -2.99, -1.365, -3.312], 'avg_query_time': [-0.0030586490690154558, -0.0008422095709171827, -0.0009241443669463828, -0.000957826342745093, -0.0009460153963543682, -0.0009069782292510703, -0.0008249304981054537, -0.002800116967121514, -0.001982953895356264, -0.002098676959058449, -0.0022983004803258937, -0.003134949657570098, -0.0031798587125890397, -0.0031702208445168133, -0.003212623920972133, -0.003174193503317818, -0.003027929979212144, -0.0032318738222860332, -0.0023797385094704642, -0.003268277312948977], 'model': ['sentence-transformers/all-MiniLM-L6-v2', 'sentence-transformers/all-MiniLM-L6-v2', 'sentence-transformers/all-MiniLM-L6-v2', 'sentence-transformers/all-MiniLM-L6-v2', 'sentence-transformers/all-MiniLM-L6-v2', 'sentence-transformers/all-MiniLM-L6-v2', 'sentence-transformers/all-MiniLM-L6-v2', 'sentence-transformers/all-MiniLM-L6-v2', 'sentence-transformers/all-MiniLM-L6-v2', 'sentence-transformers/all-MiniLM-L6-v2', 'sentence-transformers/all-MiniLM-L6-v2', 'sentence-transformers/all-MiniLM-L6-v2', 'sentence-transformers/all-MiniLM-L6-v2', 'sentence-transformers/all-MiniLM-L6-v2', 'sentence-transformers/all-MiniLM-L6-v2', 'sentence-transformers/all-MiniLM-L6-v2', 'sentence-transformers/all-MiniLM-L6-v2', 'sentence-transformers/all-MiniLM-L6-v2', 'sentence-transformers/all-MiniLM-L6-v2', 'sentence-transformers/all-MiniLM-L6-v2'], 'model_dim': [384, 384, 384, 384, 384, 384, 384, 384, 384, 384, 384, 384, 384, 384, 384, 384, 384, 384, 384, 384], 'ret_k': [7, 3, 6, 4, 7, 3, 10, 2, 6, 8, 1, 1, 1, 2, 4, 1, 3, 2, 4, 5], 'recall@k': [0.15498797328057845, 0.14786315482520818, 0.14786315482520818, 0.14786315482520818, 0.14786315482520818, 0.14786315482520818, 0.14796888385388574, 0.15498797328057845, 0.15498797328057845, 0.15498797328057845, 0.15498797328057845, 0.15498797328057845, 0.15498797328057845, 0.15498797328057845, 0.15498797328057845, 0.15498797328057845, 0.15498797328057845, 0.15498797328057845, 0.15498797328057845, 0.15498797328057845], 'ndcg@k': [0.20277849135854045, 0.18650304495321093, 0.18650304495321093, 0.18650304495321093, 0.18650304495321093, 0.18650304495321093, 0.18796719728092878, 0.20277849135854045, 0.20277849135854045, 0.20277849135854045, 0.20277849135854045, 0.20277849135854045, 0.20277849135854045, 0.20277849135854045, 0.20277849135854045, 0.20277849135854045, 0.20277849135854045, 0.20277849135854045, 0.20277849135854045, 0.20277849135854045], 'f1@k': [0.13071176354799932, 0.12689261701063015, 0.12689261701063015, 0.12689261701063015, 0.12689261701063015, 0.12689261701063015, 0.12630829517360484, 0.13071176354799932, 0.13071176354799932, 0.13071176354799932, 0.13071176354799932, 0.13071176354799932, 0.13071176354799932, 0.13071176354799932, 0.13071176354799932, 0.13071176354799932, 0.13071176354799932, 0.13071176354799932, 0.13071176354799932, 0.13071176354799932], 'precision': [0.24334365325077406, 0.24179566563467494, 0.24179566563467494, 0.24179566563467494, 0.24179566563467494, 0.24179566563467494, 0.23993808049535603, 0.24334365325077406, 0.24334365325077406, 0.24334365325077406, 0.24334365325077406, 0.24334365325077406, 0.24334365325077406, 0.24334365325077406, 0.24334365325077406, 0.24334365325077406, 0.24334365325077406, 0.24334365325077406, 0.24334365325077406, 0.24334365325077406], 'algorithm': ['hnsw', 'hnsw', 'hnsw', 'hnsw', 'hnsw', 'hnsw', 'hnsw', 'hnsw', 'hnsw', 'hnsw', 'hnsw', 'hnsw', 'hnsw', 'hnsw', 'hnsw', 'hnsw', 'hnsw', 'hnsw', 'hnsw', 'hnsw'], 'ef_construction': [150, 300, 200, 200, 100, 300, 100, 300, 300, 250, 150, 150, 150, 250, 150, 300, 150, 300, 100, 200], 'ef_runtime': [20, 20, 10, 30, 20, 10, 50, 50, 30, 20, 50, 50, 50, 50, 50, 50, 50, 50, 30, 10], 'm': [64, 64, 8, 16, 8, 16, 8, 64, 64, 16, 64, 64, 64, 64, 64, 64, 64, 64, 8, 16], 'distance_metric': ['cosine', 'cosine', 'cosine', 'cosine', 'cosine', 'cosine', 'cosine', 'cosine', 'cosine', 'cosine', 'cosine', 'cosine', 'cosine', 'cosine', 'cosine', 'cosine', 'cosine', 'cosine', 'cosine', 'cosine'], 'vector_data_type': ['float16', 'float16', 'float16', 'float16', 'float16', 'float16', 'float32', 'float16', 'float32', 'float32', 'float32', 'float16', 'float16', 'float16', 'float16', 'float16', 'float16', 'float16', 'float32', 'float16']}\n"
     ]
    },
    {
     "name": "stderr",
     "output_type": "stream",
     "text": [
      "[I 2025-06-18 10:15:49,176] Trial 19 finished with value: 3.312 and parameters: {'model_info': {'type': 'hf', 'model': 'sentence-transformers/all-MiniLM-L6-v2', 'dim': 384, 'embedding_cache_name': 'vec-cache', 'dtype': 'float32'}, 'search_method': 'hybrid', 'algorithm': 'hnsw', 'var_dtype': 'float16', 'distance_metric': 'cosine', 'ret_k': 5, 'ef_runtime': 10, 'ef_construction': 200, 'm': 16}. Best is trial 7 with value: 4.256.\n"
     ]
    },
    {
     "name": "stdout",
     "output_type": "stream",
     "text": [
      "10:15:49 root INFO   Completed Bayesian optimization... \n",
      "\n",
      "\n",
      "10:15:49 root INFO   Best Configuration: 7: {'model_info': {'type': 'hf', 'model': 'sentence-transformers/all-MiniLM-L6-v2', 'dim': 384, 'embedding_cache_name': 'vec-cache', 'dtype': 'float32'}, 'search_method': 'hybrid', 'algorithm': 'hnsw', 'var_dtype': 'float16', 'distance_metric': 'cosine', 'ret_k': 2, 'ef_runtime': 50, 'ef_construction': 300, 'm': 64}:\n",
      "\n",
      "\n",
      "10:15:49 root INFO   Best Score: [4.256]\n",
      "\n",
      "\n"
     ]
    }
   ],
   "source": [
    "import os\n",
    "from redis_retrieval_optimizer.bayes_study import run_bayes_study\n",
    "from redis_retrieval_optimizer.corpus_processors import eval_beir\n",
    "from dotenv import load_dotenv\n",
    "\n",
    "# load environment variables containing necessary credentials\n",
    "load_dotenv()\n",
    "\n",
    "redis_url = os.environ.get(\"REDIS_URL\", \"redis://localhost:6379/0\")\n",
    "\n",
    "metrics = run_bayes_study(\n",
    "    config_path=\"bayes_study_config.yaml\",\n",
    "    redis_url=redis_url,\n",
    "    corpus_processor=eval_beir.process_corpus\n",
    ")"
   ]
  },
  {
   "cell_type": "code",
   "execution_count": 6,
   "id": "2c140e85",
   "metadata": {},
   "outputs": [
    {
     "data": {
      "text/html": [
       "<div>\n",
       "<style scoped>\n",
       "    .dataframe tbody tr th:only-of-type {\n",
       "        vertical-align: middle;\n",
       "    }\n",
       "\n",
       "    .dataframe tbody tr th {\n",
       "        vertical-align: top;\n",
       "    }\n",
       "\n",
       "    .dataframe thead th {\n",
       "        text-align: right;\n",
       "    }\n",
       "</style>\n",
       "<table border=\"1\" class=\"dataframe\">\n",
       "  <thead>\n",
       "    <tr style=\"text-align: right;\">\n",
       "      <th></th>\n",
       "      <th>search_method</th>\n",
       "      <th>algorithm</th>\n",
       "      <th>vector_data_type</th>\n",
       "      <th>ef_construction</th>\n",
       "      <th>ef_runtime</th>\n",
       "      <th>m</th>\n",
       "      <th>avg_query_time</th>\n",
       "      <th>total_indexing_time</th>\n",
       "      <th>f1@k</th>\n",
       "    </tr>\n",
       "  </thead>\n",
       "  <tbody>\n",
       "    <tr>\n",
       "      <th>0</th>\n",
       "      <td>hybrid</td>\n",
       "      <td>hnsw</td>\n",
       "      <td>float16</td>\n",
       "      <td>150</td>\n",
       "      <td>20</td>\n",
       "      <td>64</td>\n",
       "      <td>-0.003059</td>\n",
       "      <td>-2.938</td>\n",
       "      <td>0.130712</td>\n",
       "    </tr>\n",
       "    <tr>\n",
       "      <th>11</th>\n",
       "      <td>hybrid</td>\n",
       "      <td>hnsw</td>\n",
       "      <td>float16</td>\n",
       "      <td>150</td>\n",
       "      <td>50</td>\n",
       "      <td>64</td>\n",
       "      <td>-0.003135</td>\n",
       "      <td>-2.990</td>\n",
       "      <td>0.130712</td>\n",
       "    </tr>\n",
       "    <tr>\n",
       "      <th>18</th>\n",
       "      <td>hybrid</td>\n",
       "      <td>hnsw</td>\n",
       "      <td>float32</td>\n",
       "      <td>100</td>\n",
       "      <td>30</td>\n",
       "      <td>8</td>\n",
       "      <td>-0.002380</td>\n",
       "      <td>-1.365</td>\n",
       "      <td>0.130712</td>\n",
       "    </tr>\n",
       "    <tr>\n",
       "      <th>17</th>\n",
       "      <td>hybrid</td>\n",
       "      <td>hnsw</td>\n",
       "      <td>float16</td>\n",
       "      <td>300</td>\n",
       "      <td>50</td>\n",
       "      <td>64</td>\n",
       "      <td>-0.003232</td>\n",
       "      <td>-2.990</td>\n",
       "      <td>0.130712</td>\n",
       "    </tr>\n",
       "    <tr>\n",
       "      <th>16</th>\n",
       "      <td>hybrid</td>\n",
       "      <td>hnsw</td>\n",
       "      <td>float16</td>\n",
       "      <td>150</td>\n",
       "      <td>50</td>\n",
       "      <td>64</td>\n",
       "      <td>-0.003028</td>\n",
       "      <td>-2.990</td>\n",
       "      <td>0.130712</td>\n",
       "    </tr>\n",
       "    <tr>\n",
       "      <th>15</th>\n",
       "      <td>hybrid</td>\n",
       "      <td>hnsw</td>\n",
       "      <td>float16</td>\n",
       "      <td>300</td>\n",
       "      <td>50</td>\n",
       "      <td>64</td>\n",
       "      <td>-0.003174</td>\n",
       "      <td>-2.990</td>\n",
       "      <td>0.130712</td>\n",
       "    </tr>\n",
       "    <tr>\n",
       "      <th>14</th>\n",
       "      <td>hybrid</td>\n",
       "      <td>hnsw</td>\n",
       "      <td>float16</td>\n",
       "      <td>150</td>\n",
       "      <td>50</td>\n",
       "      <td>64</td>\n",
       "      <td>-0.003213</td>\n",
       "      <td>-2.990</td>\n",
       "      <td>0.130712</td>\n",
       "    </tr>\n",
       "    <tr>\n",
       "      <th>13</th>\n",
       "      <td>hybrid</td>\n",
       "      <td>hnsw</td>\n",
       "      <td>float16</td>\n",
       "      <td>250</td>\n",
       "      <td>50</td>\n",
       "      <td>64</td>\n",
       "      <td>-0.003170</td>\n",
       "      <td>-2.990</td>\n",
       "      <td>0.130712</td>\n",
       "    </tr>\n",
       "    <tr>\n",
       "      <th>12</th>\n",
       "      <td>hybrid</td>\n",
       "      <td>hnsw</td>\n",
       "      <td>float16</td>\n",
       "      <td>150</td>\n",
       "      <td>50</td>\n",
       "      <td>64</td>\n",
       "      <td>-0.003180</td>\n",
       "      <td>-2.990</td>\n",
       "      <td>0.130712</td>\n",
       "    </tr>\n",
       "    <tr>\n",
       "      <th>10</th>\n",
       "      <td>hybrid</td>\n",
       "      <td>hnsw</td>\n",
       "      <td>float32</td>\n",
       "      <td>150</td>\n",
       "      <td>50</td>\n",
       "      <td>64</td>\n",
       "      <td>-0.002298</td>\n",
       "      <td>-2.851</td>\n",
       "      <td>0.130712</td>\n",
       "    </tr>\n",
       "    <tr>\n",
       "      <th>9</th>\n",
       "      <td>hybrid</td>\n",
       "      <td>hnsw</td>\n",
       "      <td>float32</td>\n",
       "      <td>250</td>\n",
       "      <td>20</td>\n",
       "      <td>16</td>\n",
       "      <td>-0.002099</td>\n",
       "      <td>-2.851</td>\n",
       "      <td>0.130712</td>\n",
       "    </tr>\n",
       "    <tr>\n",
       "      <th>8</th>\n",
       "      <td>hybrid</td>\n",
       "      <td>hnsw</td>\n",
       "      <td>float32</td>\n",
       "      <td>300</td>\n",
       "      <td>30</td>\n",
       "      <td>64</td>\n",
       "      <td>-0.001983</td>\n",
       "      <td>-2.851</td>\n",
       "      <td>0.130712</td>\n",
       "    </tr>\n",
       "    <tr>\n",
       "      <th>7</th>\n",
       "      <td>hybrid</td>\n",
       "      <td>hnsw</td>\n",
       "      <td>float16</td>\n",
       "      <td>300</td>\n",
       "      <td>50</td>\n",
       "      <td>64</td>\n",
       "      <td>-0.002800</td>\n",
       "      <td>-4.256</td>\n",
       "      <td>0.130712</td>\n",
       "    </tr>\n",
       "    <tr>\n",
       "      <th>19</th>\n",
       "      <td>hybrid</td>\n",
       "      <td>hnsw</td>\n",
       "      <td>float16</td>\n",
       "      <td>200</td>\n",
       "      <td>10</td>\n",
       "      <td>16</td>\n",
       "      <td>-0.003268</td>\n",
       "      <td>-3.312</td>\n",
       "      <td>0.130712</td>\n",
       "    </tr>\n",
       "    <tr>\n",
       "      <th>1</th>\n",
       "      <td>vector</td>\n",
       "      <td>hnsw</td>\n",
       "      <td>float16</td>\n",
       "      <td>300</td>\n",
       "      <td>20</td>\n",
       "      <td>64</td>\n",
       "      <td>-0.000842</td>\n",
       "      <td>-2.938</td>\n",
       "      <td>0.126893</td>\n",
       "    </tr>\n",
       "    <tr>\n",
       "      <th>5</th>\n",
       "      <td>vector</td>\n",
       "      <td>hnsw</td>\n",
       "      <td>float16</td>\n",
       "      <td>300</td>\n",
       "      <td>10</td>\n",
       "      <td>16</td>\n",
       "      <td>-0.000907</td>\n",
       "      <td>-2.938</td>\n",
       "      <td>0.126893</td>\n",
       "    </tr>\n",
       "    <tr>\n",
       "      <th>4</th>\n",
       "      <td>vector</td>\n",
       "      <td>hnsw</td>\n",
       "      <td>float16</td>\n",
       "      <td>100</td>\n",
       "      <td>20</td>\n",
       "      <td>8</td>\n",
       "      <td>-0.000946</td>\n",
       "      <td>-2.938</td>\n",
       "      <td>0.126893</td>\n",
       "    </tr>\n",
       "    <tr>\n",
       "      <th>3</th>\n",
       "      <td>vector</td>\n",
       "      <td>hnsw</td>\n",
       "      <td>float16</td>\n",
       "      <td>200</td>\n",
       "      <td>30</td>\n",
       "      <td>16</td>\n",
       "      <td>-0.000958</td>\n",
       "      <td>-2.938</td>\n",
       "      <td>0.126893</td>\n",
       "    </tr>\n",
       "    <tr>\n",
       "      <th>2</th>\n",
       "      <td>vector</td>\n",
       "      <td>hnsw</td>\n",
       "      <td>float16</td>\n",
       "      <td>200</td>\n",
       "      <td>10</td>\n",
       "      <td>8</td>\n",
       "      <td>-0.000924</td>\n",
       "      <td>-2.938</td>\n",
       "      <td>0.126893</td>\n",
       "    </tr>\n",
       "    <tr>\n",
       "      <th>6</th>\n",
       "      <td>vector</td>\n",
       "      <td>hnsw</td>\n",
       "      <td>float32</td>\n",
       "      <td>100</td>\n",
       "      <td>50</td>\n",
       "      <td>8</td>\n",
       "      <td>-0.000825</td>\n",
       "      <td>-1.368</td>\n",
       "      <td>0.126308</td>\n",
       "    </tr>\n",
       "  </tbody>\n",
       "</table>\n",
       "</div>"
      ],
      "text/plain": [
       "   search_method algorithm vector_data_type  ef_construction  ef_runtime   m  \\\n",
       "0         hybrid      hnsw          float16              150          20  64   \n",
       "11        hybrid      hnsw          float16              150          50  64   \n",
       "18        hybrid      hnsw          float32              100          30   8   \n",
       "17        hybrid      hnsw          float16              300          50  64   \n",
       "16        hybrid      hnsw          float16              150          50  64   \n",
       "15        hybrid      hnsw          float16              300          50  64   \n",
       "14        hybrid      hnsw          float16              150          50  64   \n",
       "13        hybrid      hnsw          float16              250          50  64   \n",
       "12        hybrid      hnsw          float16              150          50  64   \n",
       "10        hybrid      hnsw          float32              150          50  64   \n",
       "9         hybrid      hnsw          float32              250          20  16   \n",
       "8         hybrid      hnsw          float32              300          30  64   \n",
       "7         hybrid      hnsw          float16              300          50  64   \n",
       "19        hybrid      hnsw          float16              200          10  16   \n",
       "1         vector      hnsw          float16              300          20  64   \n",
       "5         vector      hnsw          float16              300          10  16   \n",
       "4         vector      hnsw          float16              100          20   8   \n",
       "3         vector      hnsw          float16              200          30  16   \n",
       "2         vector      hnsw          float16              200          10   8   \n",
       "6         vector      hnsw          float32              100          50   8   \n",
       "\n",
       "    avg_query_time  total_indexing_time      f1@k  \n",
       "0        -0.003059               -2.938  0.130712  \n",
       "11       -0.003135               -2.990  0.130712  \n",
       "18       -0.002380               -1.365  0.130712  \n",
       "17       -0.003232               -2.990  0.130712  \n",
       "16       -0.003028               -2.990  0.130712  \n",
       "15       -0.003174               -2.990  0.130712  \n",
       "14       -0.003213               -2.990  0.130712  \n",
       "13       -0.003170               -2.990  0.130712  \n",
       "12       -0.003180               -2.990  0.130712  \n",
       "10       -0.002298               -2.851  0.130712  \n",
       "9        -0.002099               -2.851  0.130712  \n",
       "8        -0.001983               -2.851  0.130712  \n",
       "7        -0.002800               -4.256  0.130712  \n",
       "19       -0.003268               -3.312  0.130712  \n",
       "1        -0.000842               -2.938  0.126893  \n",
       "5        -0.000907               -2.938  0.126893  \n",
       "4        -0.000946               -2.938  0.126893  \n",
       "3        -0.000958               -2.938  0.126893  \n",
       "2        -0.000924               -2.938  0.126893  \n",
       "6        -0.000825               -1.368  0.126308  "
      ]
     },
     "execution_count": 6,
     "metadata": {},
     "output_type": "execute_result"
    }
   ],
   "source": [
    "metrics[[\"search_method\", \"algorithm\", \"vector_data_type\", \"ef_construction\", \"ef_runtime\", \"m\", \"avg_query_time\", \"total_indexing_time\", \"f1@k\"]].sort_values(by=\"f1@k\", ascending=False)"
   ]
  }
 ],
 "metadata": {
  "kernelspec": {
   "display_name": "redis-retrieval-optimizer-Z5sMIYJj-py3.11",
   "language": "python",
   "name": "python3"
  },
  "language_info": {
   "codemirror_mode": {
    "name": "ipython",
    "version": 3
   },
   "file_extension": ".py",
   "mimetype": "text/x-python",
   "name": "python",
   "nbconvert_exporter": "python",
   "pygments_lexer": "ipython3",
   "version": "3.11.11"
  }
 },
 "nbformat": 4,
 "nbformat_minor": 5
}
