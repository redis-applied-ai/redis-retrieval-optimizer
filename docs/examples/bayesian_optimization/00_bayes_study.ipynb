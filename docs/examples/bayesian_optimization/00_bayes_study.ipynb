{
 "cells": [
  {
   "cell_type": "markdown",
   "id": "6593a958",
   "metadata": {},
   "source": [
    "\n",
    "# Bayesian Optimization with Retrieval Optimizer\n",
    "\n",
    "This notebook demonstrates how to use Bayesian optimization to tune Redis-based retrieval pipelines. Unlike a grid study—which tests all combinations—Bayesian optimization intelligently searches the configuration space, prioritizing promising settings based on previous results. This is especially useful when the number of possible configurations is large and exhaustive search would be too costly.\n",
    "\n",
    "You'll define a study configuration, specify embedding models and search methods, and let the optimizer guide the search toward the best-performing retrieval setup.\n",
    "\n",
    "\n",
    "## Dataset\n",
    "\n",
    "We'll import a dataset from the [beir benchmark IR project](https://github.com/beir-cellar/beir) to get going quickly. \n",
    "\n"
   ]
  },
  {
   "cell_type": "code",
   "execution_count": null,
   "id": "46aac6ae",
   "metadata": {},
   "outputs": [],
   "source": [
    "# Load data\n",
    "from redis_retrieval_optimizer.corpus_processors import eval_beir\n",
    "\n",
    "# check the link above for different datasets to try\n",
    "beir_dataset_name = \"nfcorpus\"\n",
    "\n",
    "# Load sample data\n",
    "corpus, queries, qrels = eval_beir.get_beir_dataset(beir_dataset_name)"
   ]
  },
  {
   "cell_type": "markdown",
   "id": "48d65c79",
   "metadata": {},
   "source": [
    "## Study config\n",
    "\n",
    "In this directory there is a yaml file containing a configuration for a bayesian study that looks like this:\n",
    "\n",
    "```yaml\n",
    "# path to data files for easy read\n",
    "corpus: \"data/nfcorpus_corpus.json\"\n",
    "queries: \"data/nfcorpus_queries.json\"\n",
    "qrels: \"data/nfcorpus_qrels.json\"\n",
    "\n",
    "index_settings:\n",
    "  name: \"optimize\"\n",
    "  vector_field_name: \"vector\" # name of the vector field to search on\n",
    "  text_field_name: \"text\" # name of the text field for lexical search\n",
    "  from_existing: false\n",
    "  vector_dim: 384 # should match first embedding model or from_existing\n",
    "  additional_fields:\n",
    "      - name: \"title\"\n",
    "        type: \"text\"\n",
    "\n",
    "optimization_settings:\n",
    "  # defines the options optimization can take\n",
    "  metric_weights:\n",
    "    f1_at_k: 1\n",
    "    embedding_latency: 1\n",
    "    total_indexing_time: 1\n",
    "  algorithms: [\"hnsw\"]\n",
    "  vector_data_types: [\"float16\", \"float32\"]\n",
    "  distance_metrics: [\"cosine\"]\n",
    "  n_trials: 10\n",
    "  n_jobs: 1\n",
    "  ret_k: [1, 10] # potential range of value to be sampled during study\n",
    "  ef_runtime: [10, 20, 30, 50]\n",
    "  ef_construction: [100, 150, 200, 250, 300]\n",
    "  m: [8, 16, 64]\n",
    "\n",
    "\n",
    "search_methods: [\"vector\", \"lin_combo\"]\n",
    "embedding_models:\n",
    "  - type: \"hf\"\n",
    "    model: \"sentence-transformers/all-MiniLM-L6-v2\"\n",
    "    dim: 384\n",
    "    embedding_cache_name: \"vec-cache\" # avoid names with including 'ret-opt' as this can cause collisions\n",
    "    dtype: \"float32\"\n",
    "```\n",
    "\n",
    "## Running a study\n",
    "\n",
    "To run a study simple pass the path to config, redis_url, and corpus processing function to the `run_bayes_study` function and the package will take care of the rest. "
   ]
  },
  {
   "cell_type": "code",
   "execution_count": 5,
   "id": "2c94f556",
   "metadata": {},
   "outputs": [
    {
     "name": "stderr",
     "output_type": "stream",
     "text": [
      "[I 2025-06-11 17:14:01,502] A new study created in memory with name: test\n"
     ]
    },
    {
     "name": "stdout",
     "output_type": "stream",
     "text": [
      "17:14:01 redisvl.index.index INFO   Index already exists, not overwriting.\n",
      "17:14:01 sentence_transformers.SentenceTransformer INFO   Load pretrained SentenceTransformer: sentence-transformers/all-MiniLM-L6-v2\n",
      "17:14:02 sentence_transformers.SentenceTransformer INFO   Use pytorch device_name: mps\n"
     ]
    },
    {
     "name": "stderr",
     "output_type": "stream",
     "text": [
      "Batches: 100%|██████████| 1/1 [00:00<00:00, 33.23it/s]"
     ]
    },
    {
     "name": "stdout",
     "output_type": "stream",
     "text": [
      "17:14:02 root INFO   Data indexed total_indexing_time=0.989s, num_docs=3633\n"
     ]
    },
    {
     "name": "stderr",
     "output_type": "stream",
     "text": [
      "\n"
     ]
    },
    {
     "name": "stdout",
     "output_type": "stream",
     "text": [
      "17:14:03 root INFO   Saving metrics for study: 88629332-3769-4ed6-9cec-2c950d5bbdb8, METRICS={'search_method': ['hybrid', 'hybrid', 'hybrid', 'hybrid', 'hybrid', 'hybrid', 'hybrid', 'hybrid', 'hybrid', 'hybrid', 'vector'], 'total_indexing_time': [0.995, 1.126, 1.238, 1.238, 1.251, 1.479, 1.479, 1.479, 0.989, 0.989, 0.989], 'avg_query_time': [0.001379058087942401, 0.0013568142988364393, 0.0014326011433320887, 0.0012770201030530427, 0.0012413067714348667, 0.0012326343878872994, 0.0011889233308679918, 0.0012138657525596972, 0.0012014170549233263, 0.0010982010017607604, 0.0007533724463022899], 'model': ['sentence-transformers/all-MiniLM-L6-v2', 'sentence-transformers/all-MiniLM-L6-v2', 'sentence-transformers/all-MiniLM-L6-v2', 'sentence-transformers/all-MiniLM-L6-v2', 'sentence-transformers/all-MiniLM-L6-v2', 'sentence-transformers/all-MiniLM-L6-v2', 'sentence-transformers/all-MiniLM-L6-v2', 'sentence-transformers/all-MiniLM-L6-v2', 'sentence-transformers/all-MiniLM-L6-v2', 'sentence-transformers/all-MiniLM-L6-v2', 'sentence-transformers/all-MiniLM-L6-v2'], 'model_dim': [384, 384, 384, 384, 384, 384, 384, 384, 384, 384, 384], 'ret_k': [2, 7, 1, 4, 1, 4, 4, 9, 9, 10, 9], 'recall@k': [0.15498797328057845, 0.15498797328057845, 0.15498797328057845, 0.15498797328057845, 0.15498797328057845, 0.15498797328057845, 0.15498797328057845, 0.15498797328057845, 0.15498797328057845, 0.15498797328057845, 0.14176854402770978], 'ndcg@k': [0.2029187472711757, 0.2029187472711757, 0.2029187472711757, 0.2029187472711757, 0.2029187472711757, 0.2029187472711757, 0.2029187472711757, 0.2029187472711757, 0.2029187472711757, 0.2029187472711757, 0.18317116199088398], 'f1@k': [0.13071176354799932, 0.13071176354799932, 0.13071176354799932, 0.13071176354799932, 0.13071176354799932, 0.13071176354799932, 0.13071176354799932, 0.13071176354799932, 0.13071176354799932, 0.13071176354799932, 0.12198332923876808], 'precision': [0.24334365325077406, 0.24334365325077406, 0.24334365325077406, 0.24334365325077406, 0.24334365325077406, 0.24334365325077406, 0.24334365325077406, 0.24334365325077406, 0.24334365325077406, 0.24334365325077406, 0.23467492260061923], 'algorithm': ['hnsw', 'hnsw', 'hnsw', 'hnsw', 'hnsw', 'hnsw', 'hnsw', 'hnsw', 'hnsw', 'hnsw', 'hnsw'], 'ef_construction': [100, 200, 200, 300, 300, 300, 200, 300, 150, 150, 250], 'ef_runtime': [30, 50, 50, 10, 50, 30, 50, 30, 30, 30, 20], 'm': [8, 16, 8, 64, 16, 16, 16, 16, 8, 16, 16], 'distance_metric': ['cosine', 'cosine', 'cosine', 'cosine', 'cosine', 'cosine', 'cosine', 'cosine', 'cosine', 'cosine', 'cosine'], 'vector_data_type': ['float32', 'float16', 'float32', 'float32', 'float16', 'float32', 'float32', 'float32', 'float16', 'float16', 'float16']}\n"
     ]
    },
    {
     "name": "stderr",
     "output_type": "stream",
     "text": [
      "[I 2025-06-11 17:14:03,019] Trial 0 finished with value: 0.989 and parameters: {'model_info': {'type': 'hf', 'model': 'sentence-transformers/all-MiniLM-L6-v2', 'dim': 384, 'embedding_cache_name': 'vec-cache', 'dtype': 'float32'}, 'search_method': 'vector', 'algorithm': 'hnsw', 'var_dtype': 'float16', 'distance_metric': 'cosine', 'ret_k': 9, 'ef_runtime': 20, 'ef_construction': 250, 'm': 16}. Best is trial 0 with value: 0.989.\n"
     ]
    },
    {
     "name": "stdout",
     "output_type": "stream",
     "text": [
      "17:14:03 redisvl.index.index INFO   Index already exists, not overwriting.\n",
      "17:14:03 sentence_transformers.SentenceTransformer INFO   Load pretrained SentenceTransformer: sentence-transformers/all-MiniLM-L6-v2\n",
      "17:14:03 sentence_transformers.SentenceTransformer INFO   Use pytorch device_name: mps\n"
     ]
    },
    {
     "name": "stderr",
     "output_type": "stream",
     "text": [
      "Batches: 100%|██████████| 1/1 [00:00<00:00, 99.98it/s]"
     ]
    },
    {
     "name": "stdout",
     "output_type": "stream",
     "text": [
      "17:14:03 root INFO   Data indexed total_indexing_time=0.989s, num_docs=3633\n"
     ]
    },
    {
     "name": "stderr",
     "output_type": "stream",
     "text": [
      "\n"
     ]
    },
    {
     "name": "stdout",
     "output_type": "stream",
     "text": [
      "17:14:03 root INFO   Saving metrics for study: 88629332-3769-4ed6-9cec-2c950d5bbdb8, METRICS={'search_method': ['hybrid', 'hybrid', 'hybrid', 'hybrid', 'hybrid', 'hybrid', 'hybrid', 'hybrid', 'hybrid', 'hybrid', 'vector', 'vector'], 'total_indexing_time': [0.995, 1.126, 1.238, 1.238, 1.251, 1.479, 1.479, 1.479, 0.989, 0.989, 0.989, 0.989], 'avg_query_time': [0.001379058087942401, 0.0013568142988364393, 0.0014326011433320887, 0.0012770201030530427, 0.0012413067714348667, 0.0012326343878872994, 0.0011889233308679918, 0.0012138657525596972, 0.0012014170549233263, 0.0010982010017607604, 0.0007533724463022899, 0.0007078160442434967], 'model': ['sentence-transformers/all-MiniLM-L6-v2', 'sentence-transformers/all-MiniLM-L6-v2', 'sentence-transformers/all-MiniLM-L6-v2', 'sentence-transformers/all-MiniLM-L6-v2', 'sentence-transformers/all-MiniLM-L6-v2', 'sentence-transformers/all-MiniLM-L6-v2', 'sentence-transformers/all-MiniLM-L6-v2', 'sentence-transformers/all-MiniLM-L6-v2', 'sentence-transformers/all-MiniLM-L6-v2', 'sentence-transformers/all-MiniLM-L6-v2', 'sentence-transformers/all-MiniLM-L6-v2', 'sentence-transformers/all-MiniLM-L6-v2'], 'model_dim': [384, 384, 384, 384, 384, 384, 384, 384, 384, 384, 384, 384], 'ret_k': [2, 7, 1, 4, 1, 4, 4, 9, 9, 10, 9, 9], 'recall@k': [0.15498797328057845, 0.15498797328057845, 0.15498797328057845, 0.15498797328057845, 0.15498797328057845, 0.15498797328057845, 0.15498797328057845, 0.15498797328057845, 0.15498797328057845, 0.15498797328057845, 0.14176854402770978, 0.14176854402770978], 'ndcg@k': [0.2029187472711757, 0.2029187472711757, 0.2029187472711757, 0.2029187472711757, 0.2029187472711757, 0.2029187472711757, 0.2029187472711757, 0.2029187472711757, 0.2029187472711757, 0.2029187472711757, 0.18317116199088398, 0.18317116199088398], 'f1@k': [0.13071176354799932, 0.13071176354799932, 0.13071176354799932, 0.13071176354799932, 0.13071176354799932, 0.13071176354799932, 0.13071176354799932, 0.13071176354799932, 0.13071176354799932, 0.13071176354799932, 0.12198332923876808, 0.12198332923876808], 'precision': [0.24334365325077406, 0.24334365325077406, 0.24334365325077406, 0.24334365325077406, 0.24334365325077406, 0.24334365325077406, 0.24334365325077406, 0.24334365325077406, 0.24334365325077406, 0.24334365325077406, 0.23467492260061923, 0.23467492260061923], 'algorithm': ['hnsw', 'hnsw', 'hnsw', 'hnsw', 'hnsw', 'hnsw', 'hnsw', 'hnsw', 'hnsw', 'hnsw', 'hnsw', 'hnsw'], 'ef_construction': [100, 200, 200, 300, 300, 300, 200, 300, 150, 150, 250, 200], 'ef_runtime': [30, 50, 50, 10, 50, 30, 50, 30, 30, 30, 20, 50], 'm': [8, 16, 8, 64, 16, 16, 16, 16, 8, 16, 16, 16], 'distance_metric': ['cosine', 'cosine', 'cosine', 'cosine', 'cosine', 'cosine', 'cosine', 'cosine', 'cosine', 'cosine', 'cosine', 'cosine'], 'vector_data_type': ['float32', 'float16', 'float32', 'float32', 'float16', 'float32', 'float32', 'float32', 'float16', 'float16', 'float16', 'float16']}\n"
     ]
    },
    {
     "name": "stderr",
     "output_type": "stream",
     "text": [
      "[I 2025-06-11 17:14:03,939] Trial 1 finished with value: 0.989 and parameters: {'model_info': {'type': 'hf', 'model': 'sentence-transformers/all-MiniLM-L6-v2', 'dim': 384, 'embedding_cache_name': 'vec-cache', 'dtype': 'float32'}, 'search_method': 'vector', 'algorithm': 'hnsw', 'var_dtype': 'float16', 'distance_metric': 'cosine', 'ret_k': 9, 'ef_runtime': 50, 'ef_construction': 200, 'm': 16}. Best is trial 0 with value: 0.989.\n"
     ]
    },
    {
     "name": "stdout",
     "output_type": "stream",
     "text": [
      "17:14:03 redisvl.index.index INFO   Index already exists, not overwriting.\n",
      "17:14:03 sentence_transformers.SentenceTransformer INFO   Load pretrained SentenceTransformer: sentence-transformers/all-MiniLM-L6-v2\n",
      "17:14:04 sentence_transformers.SentenceTransformer INFO   Use pytorch device_name: mps\n"
     ]
    },
    {
     "name": "stderr",
     "output_type": "stream",
     "text": [
      "Batches: 100%|██████████| 1/1 [00:00<00:00, 62.49it/s]"
     ]
    },
    {
     "name": "stdout",
     "output_type": "stream",
     "text": [
      "17:14:04 root INFO   Data indexed total_indexing_time=0.989s, num_docs=3633\n"
     ]
    },
    {
     "name": "stderr",
     "output_type": "stream",
     "text": [
      "\n"
     ]
    },
    {
     "name": "stdout",
     "output_type": "stream",
     "text": [
      "17:14:05 root INFO   Saving metrics for study: 88629332-3769-4ed6-9cec-2c950d5bbdb8, METRICS={'search_method': ['hybrid', 'hybrid', 'hybrid', 'hybrid', 'hybrid', 'hybrid', 'hybrid', 'hybrid', 'hybrid', 'hybrid', 'vector', 'vector', 'hybrid'], 'total_indexing_time': [0.995, 1.126, 1.238, 1.238, 1.251, 1.479, 1.479, 1.479, 0.989, 0.989, 0.989, 0.989, 0.989], 'avg_query_time': [0.001379058087942401, 0.0013568142988364393, 0.0014326011433320887, 0.0012770201030530427, 0.0012413067714348667, 0.0012326343878872994, 0.0011889233308679918, 0.0012138657525596972, 0.0012014170549233263, 0.0010982010017607604, 0.0007533724463022899, 0.0007078160442434967, 0.0011058761608489895], 'model': ['sentence-transformers/all-MiniLM-L6-v2', 'sentence-transformers/all-MiniLM-L6-v2', 'sentence-transformers/all-MiniLM-L6-v2', 'sentence-transformers/all-MiniLM-L6-v2', 'sentence-transformers/all-MiniLM-L6-v2', 'sentence-transformers/all-MiniLM-L6-v2', 'sentence-transformers/all-MiniLM-L6-v2', 'sentence-transformers/all-MiniLM-L6-v2', 'sentence-transformers/all-MiniLM-L6-v2', 'sentence-transformers/all-MiniLM-L6-v2', 'sentence-transformers/all-MiniLM-L6-v2', 'sentence-transformers/all-MiniLM-L6-v2', 'sentence-transformers/all-MiniLM-L6-v2'], 'model_dim': [384, 384, 384, 384, 384, 384, 384, 384, 384, 384, 384, 384, 384], 'ret_k': [2, 7, 1, 4, 1, 4, 4, 9, 9, 10, 9, 9, 4], 'recall@k': [0.15498797328057845, 0.15498797328057845, 0.15498797328057845, 0.15498797328057845, 0.15498797328057845, 0.15498797328057845, 0.15498797328057845, 0.15498797328057845, 0.15498797328057845, 0.15498797328057845, 0.14176854402770978, 0.14176854402770978, 0.15498797328057845], 'ndcg@k': [0.2029187472711757, 0.2029187472711757, 0.2029187472711757, 0.2029187472711757, 0.2029187472711757, 0.2029187472711757, 0.2029187472711757, 0.2029187472711757, 0.2029187472711757, 0.2029187472711757, 0.18317116199088398, 0.18317116199088398, 0.2029187472711757], 'f1@k': [0.13071176354799932, 0.13071176354799932, 0.13071176354799932, 0.13071176354799932, 0.13071176354799932, 0.13071176354799932, 0.13071176354799932, 0.13071176354799932, 0.13071176354799932, 0.13071176354799932, 0.12198332923876808, 0.12198332923876808, 0.13071176354799932], 'precision': [0.24334365325077406, 0.24334365325077406, 0.24334365325077406, 0.24334365325077406, 0.24334365325077406, 0.24334365325077406, 0.24334365325077406, 0.24334365325077406, 0.24334365325077406, 0.24334365325077406, 0.23467492260061923, 0.23467492260061923, 0.24334365325077406], 'algorithm': ['hnsw', 'hnsw', 'hnsw', 'hnsw', 'hnsw', 'hnsw', 'hnsw', 'hnsw', 'hnsw', 'hnsw', 'hnsw', 'hnsw', 'hnsw'], 'ef_construction': [100, 200, 200, 300, 300, 300, 200, 300, 150, 150, 250, 200, 200], 'ef_runtime': [30, 50, 50, 10, 50, 30, 50, 30, 30, 30, 20, 50, 50], 'm': [8, 16, 8, 64, 16, 16, 16, 16, 8, 16, 16, 16, 8], 'distance_metric': ['cosine', 'cosine', 'cosine', 'cosine', 'cosine', 'cosine', 'cosine', 'cosine', 'cosine', 'cosine', 'cosine', 'cosine', 'cosine'], 'vector_data_type': ['float32', 'float16', 'float32', 'float32', 'float16', 'float32', 'float32', 'float32', 'float16', 'float16', 'float16', 'float16', 'float16']}\n"
     ]
    },
    {
     "name": "stderr",
     "output_type": "stream",
     "text": [
      "[I 2025-06-11 17:14:05,512] Trial 2 finished with value: 0.989 and parameters: {'model_info': {'type': 'hf', 'model': 'sentence-transformers/all-MiniLM-L6-v2', 'dim': 384, 'embedding_cache_name': 'vec-cache', 'dtype': 'float32'}, 'search_method': 'hybrid', 'algorithm': 'hnsw', 'var_dtype': 'float16', 'distance_metric': 'cosine', 'ret_k': 4, 'ef_runtime': 50, 'ef_construction': 200, 'm': 8}. Best is trial 0 with value: 0.989.\n"
     ]
    },
    {
     "name": "stdout",
     "output_type": "stream",
     "text": [
      "17:14:05 redisvl.index.index INFO   Index already exists, not overwriting.\n",
      "17:14:05 sentence_transformers.SentenceTransformer INFO   Load pretrained SentenceTransformer: sentence-transformers/all-MiniLM-L6-v2\n",
      "17:14:05 sentence_transformers.SentenceTransformer INFO   Use pytorch device_name: mps\n"
     ]
    },
    {
     "name": "stderr",
     "output_type": "stream",
     "text": [
      "Batches: 100%|██████████| 1/1 [00:00<00:00, 61.95it/s]"
     ]
    },
    {
     "name": "stdout",
     "output_type": "stream",
     "text": [
      "17:14:06 root INFO   Data indexed total_indexing_time=0.989s, num_docs=3633\n"
     ]
    },
    {
     "name": "stderr",
     "output_type": "stream",
     "text": [
      "\n"
     ]
    },
    {
     "name": "stdout",
     "output_type": "stream",
     "text": [
      "17:14:06 root INFO   Saving metrics for study: 88629332-3769-4ed6-9cec-2c950d5bbdb8, METRICS={'search_method': ['hybrid', 'hybrid', 'hybrid', 'hybrid', 'hybrid', 'hybrid', 'hybrid', 'hybrid', 'hybrid', 'hybrid', 'vector', 'vector', 'hybrid', 'hybrid'], 'total_indexing_time': [0.995, 1.126, 1.238, 1.238, 1.251, 1.479, 1.479, 1.479, 0.989, 0.989, 0.989, 0.989, 0.989, 0.989], 'avg_query_time': [0.001379058087942401, 0.0013568142988364393, 0.0014326011433320887, 0.0012770201030530427, 0.0012413067714348667, 0.0012326343878872994, 0.0011889233308679918, 0.0012138657525596972, 0.0012014170549233263, 0.0010982010017607604, 0.0007533724463022899, 0.0007078160442434967, 0.0011058761608489895, 0.0010777922237620635], 'model': ['sentence-transformers/all-MiniLM-L6-v2', 'sentence-transformers/all-MiniLM-L6-v2', 'sentence-transformers/all-MiniLM-L6-v2', 'sentence-transformers/all-MiniLM-L6-v2', 'sentence-transformers/all-MiniLM-L6-v2', 'sentence-transformers/all-MiniLM-L6-v2', 'sentence-transformers/all-MiniLM-L6-v2', 'sentence-transformers/all-MiniLM-L6-v2', 'sentence-transformers/all-MiniLM-L6-v2', 'sentence-transformers/all-MiniLM-L6-v2', 'sentence-transformers/all-MiniLM-L6-v2', 'sentence-transformers/all-MiniLM-L6-v2', 'sentence-transformers/all-MiniLM-L6-v2', 'sentence-transformers/all-MiniLM-L6-v2'], 'model_dim': [384, 384, 384, 384, 384, 384, 384, 384, 384, 384, 384, 384, 384, 384], 'ret_k': [2, 7, 1, 4, 1, 4, 4, 9, 9, 10, 9, 9, 4, 5], 'recall@k': [0.15498797328057845, 0.15498797328057845, 0.15498797328057845, 0.15498797328057845, 0.15498797328057845, 0.15498797328057845, 0.15498797328057845, 0.15498797328057845, 0.15498797328057845, 0.15498797328057845, 0.14176854402770978, 0.14176854402770978, 0.15498797328057845, 0.15498797328057845], 'ndcg@k': [0.2029187472711757, 0.2029187472711757, 0.2029187472711757, 0.2029187472711757, 0.2029187472711757, 0.2029187472711757, 0.2029187472711757, 0.2029187472711757, 0.2029187472711757, 0.2029187472711757, 0.18317116199088398, 0.18317116199088398, 0.2029187472711757, 0.2029187472711757], 'f1@k': [0.13071176354799932, 0.13071176354799932, 0.13071176354799932, 0.13071176354799932, 0.13071176354799932, 0.13071176354799932, 0.13071176354799932, 0.13071176354799932, 0.13071176354799932, 0.13071176354799932, 0.12198332923876808, 0.12198332923876808, 0.13071176354799932, 0.13071176354799932], 'precision': [0.24334365325077406, 0.24334365325077406, 0.24334365325077406, 0.24334365325077406, 0.24334365325077406, 0.24334365325077406, 0.24334365325077406, 0.24334365325077406, 0.24334365325077406, 0.24334365325077406, 0.23467492260061923, 0.23467492260061923, 0.24334365325077406, 0.24334365325077406], 'algorithm': ['hnsw', 'hnsw', 'hnsw', 'hnsw', 'hnsw', 'hnsw', 'hnsw', 'hnsw', 'hnsw', 'hnsw', 'hnsw', 'hnsw', 'hnsw', 'hnsw'], 'ef_construction': [100, 200, 200, 300, 300, 300, 200, 300, 150, 150, 250, 200, 200, 100], 'ef_runtime': [30, 50, 50, 10, 50, 30, 50, 30, 30, 30, 20, 50, 50, 50], 'm': [8, 16, 8, 64, 16, 16, 16, 16, 8, 16, 16, 16, 8, 16], 'distance_metric': ['cosine', 'cosine', 'cosine', 'cosine', 'cosine', 'cosine', 'cosine', 'cosine', 'cosine', 'cosine', 'cosine', 'cosine', 'cosine', 'cosine'], 'vector_data_type': ['float32', 'float16', 'float32', 'float32', 'float16', 'float32', 'float32', 'float32', 'float16', 'float16', 'float16', 'float16', 'float16', 'float16']}\n"
     ]
    },
    {
     "name": "stderr",
     "output_type": "stream",
     "text": [
      "[I 2025-06-11 17:14:06,771] Trial 3 finished with value: 0.989 and parameters: {'model_info': {'type': 'hf', 'model': 'sentence-transformers/all-MiniLM-L6-v2', 'dim': 384, 'embedding_cache_name': 'vec-cache', 'dtype': 'float32'}, 'search_method': 'hybrid', 'algorithm': 'hnsw', 'var_dtype': 'float16', 'distance_metric': 'cosine', 'ret_k': 5, 'ef_runtime': 50, 'ef_construction': 100, 'm': 16}. Best is trial 0 with value: 0.989.\n"
     ]
    },
    {
     "name": "stdout",
     "output_type": "stream",
     "text": [
      "17:14:06 sentence_transformers.SentenceTransformer INFO   Load pretrained SentenceTransformer: sentence-transformers/all-MiniLM-L6-v2\n",
      "17:14:07 sentence_transformers.SentenceTransformer INFO   Use pytorch device_name: mps\n"
     ]
    },
    {
     "name": "stderr",
     "output_type": "stream",
     "text": [
      "Batches: 100%|██████████| 1/1 [00:00<00:00, 60.02it/s]"
     ]
    },
    {
     "name": "stdout",
     "output_type": "stream",
     "text": [
      "17:14:07 root INFO   Recreating index...\n"
     ]
    },
    {
     "name": "stderr",
     "output_type": "stream",
     "text": [
      "\n"
     ]
    },
    {
     "name": "stdout",
     "output_type": "stream",
     "text": [
      "17:14:07 root INFO   Corpus size: 3633\n",
      "17:14:09 root INFO   Data indexed total_indexing_time=1.169s, num_docs=3633\n",
      "17:14:10 root INFO   Saving metrics for study: 88629332-3769-4ed6-9cec-2c950d5bbdb8, METRICS={'search_method': ['hybrid', 'hybrid', 'hybrid', 'hybrid', 'hybrid', 'hybrid', 'hybrid', 'hybrid', 'hybrid', 'hybrid', 'vector', 'vector', 'hybrid', 'hybrid', 'hybrid'], 'total_indexing_time': [0.995, 1.126, 1.238, 1.238, 1.251, 1.479, 1.479, 1.479, 0.989, 0.989, 0.989, 0.989, 0.989, 0.989, 1.169], 'avg_query_time': [0.001379058087942401, 0.0013568142988364393, 0.0014326011433320887, 0.0012770201030530427, 0.0012413067714348667, 0.0012326343878872994, 0.0011889233308679918, 0.0012138657525596972, 0.0012014170549233263, 0.0010982010017607604, 0.0007533724463022899, 0.0007078160442434967, 0.0011058761608489895, 0.0010777922237620635, 0.001361057116151225], 'model': ['sentence-transformers/all-MiniLM-L6-v2', 'sentence-transformers/all-MiniLM-L6-v2', 'sentence-transformers/all-MiniLM-L6-v2', 'sentence-transformers/all-MiniLM-L6-v2', 'sentence-transformers/all-MiniLM-L6-v2', 'sentence-transformers/all-MiniLM-L6-v2', 'sentence-transformers/all-MiniLM-L6-v2', 'sentence-transformers/all-MiniLM-L6-v2', 'sentence-transformers/all-MiniLM-L6-v2', 'sentence-transformers/all-MiniLM-L6-v2', 'sentence-transformers/all-MiniLM-L6-v2', 'sentence-transformers/all-MiniLM-L6-v2', 'sentence-transformers/all-MiniLM-L6-v2', 'sentence-transformers/all-MiniLM-L6-v2', 'sentence-transformers/all-MiniLM-L6-v2'], 'model_dim': [384, 384, 384, 384, 384, 384, 384, 384, 384, 384, 384, 384, 384, 384, 384], 'ret_k': [2, 7, 1, 4, 1, 4, 4, 9, 9, 10, 9, 9, 4, 5, 4], 'recall@k': [0.15498797328057845, 0.15498797328057845, 0.15498797328057845, 0.15498797328057845, 0.15498797328057845, 0.15498797328057845, 0.15498797328057845, 0.15498797328057845, 0.15498797328057845, 0.15498797328057845, 0.14176854402770978, 0.14176854402770978, 0.15498797328057845, 0.15498797328057845, 0.15498797328057845], 'ndcg@k': [0.2029187472711757, 0.2029187472711757, 0.2029187472711757, 0.2029187472711757, 0.2029187472711757, 0.2029187472711757, 0.2029187472711757, 0.2029187472711757, 0.2029187472711757, 0.2029187472711757, 0.18317116199088398, 0.18317116199088398, 0.2029187472711757, 0.2029187472711757, 0.2029187472711757], 'f1@k': [0.13071176354799932, 0.13071176354799932, 0.13071176354799932, 0.13071176354799932, 0.13071176354799932, 0.13071176354799932, 0.13071176354799932, 0.13071176354799932, 0.13071176354799932, 0.13071176354799932, 0.12198332923876808, 0.12198332923876808, 0.13071176354799932, 0.13071176354799932, 0.13071176354799932], 'precision': [0.24334365325077406, 0.24334365325077406, 0.24334365325077406, 0.24334365325077406, 0.24334365325077406, 0.24334365325077406, 0.24334365325077406, 0.24334365325077406, 0.24334365325077406, 0.24334365325077406, 0.23467492260061923, 0.23467492260061923, 0.24334365325077406, 0.24334365325077406, 0.24334365325077406], 'algorithm': ['hnsw', 'hnsw', 'hnsw', 'hnsw', 'hnsw', 'hnsw', 'hnsw', 'hnsw', 'hnsw', 'hnsw', 'hnsw', 'hnsw', 'hnsw', 'hnsw', 'hnsw'], 'ef_construction': [100, 200, 200, 300, 300, 300, 200, 300, 150, 150, 250, 200, 200, 100, 200], 'ef_runtime': [30, 50, 50, 10, 50, 30, 50, 30, 30, 30, 20, 50, 50, 50, 30], 'm': [8, 16, 8, 64, 16, 16, 16, 16, 8, 16, 16, 16, 8, 16, 8], 'distance_metric': ['cosine', 'cosine', 'cosine', 'cosine', 'cosine', 'cosine', 'cosine', 'cosine', 'cosine', 'cosine', 'cosine', 'cosine', 'cosine', 'cosine', 'cosine'], 'vector_data_type': ['float32', 'float16', 'float32', 'float32', 'float16', 'float32', 'float32', 'float32', 'float16', 'float16', 'float16', 'float16', 'float16', 'float16', 'float32']}\n"
     ]
    },
    {
     "name": "stderr",
     "output_type": "stream",
     "text": [
      "[I 2025-06-11 17:14:10,130] Trial 4 finished with value: 1.169 and parameters: {'model_info': {'type': 'hf', 'model': 'sentence-transformers/all-MiniLM-L6-v2', 'dim': 384, 'embedding_cache_name': 'vec-cache', 'dtype': 'float32'}, 'search_method': 'hybrid', 'algorithm': 'hnsw', 'var_dtype': 'float32', 'distance_metric': 'cosine', 'ret_k': 4, 'ef_runtime': 30, 'ef_construction': 200, 'm': 8}. Best is trial 4 with value: 1.169.\n"
     ]
    },
    {
     "name": "stdout",
     "output_type": "stream",
     "text": [
      "17:14:10 redisvl.index.index INFO   Index already exists, not overwriting.\n",
      "17:14:10 sentence_transformers.SentenceTransformer INFO   Load pretrained SentenceTransformer: sentence-transformers/all-MiniLM-L6-v2\n",
      "17:14:10 sentence_transformers.SentenceTransformer INFO   Use pytorch device_name: mps\n"
     ]
    },
    {
     "name": "stderr",
     "output_type": "stream",
     "text": [
      "Batches: 100%|██████████| 1/1 [00:00<00:00, 54.28it/s]"
     ]
    },
    {
     "name": "stdout",
     "output_type": "stream",
     "text": [
      "17:14:10 root INFO   Data indexed total_indexing_time=1.169s, num_docs=3633\n"
     ]
    },
    {
     "name": "stderr",
     "output_type": "stream",
     "text": [
      "\n"
     ]
    },
    {
     "name": "stdout",
     "output_type": "stream",
     "text": [
      "17:14:11 root INFO   Saving metrics for study: 88629332-3769-4ed6-9cec-2c950d5bbdb8, METRICS={'search_method': ['hybrid', 'hybrid', 'hybrid', 'hybrid', 'hybrid', 'hybrid', 'hybrid', 'hybrid', 'hybrid', 'hybrid', 'vector', 'vector', 'hybrid', 'hybrid', 'hybrid', 'hybrid'], 'total_indexing_time': [0.995, 1.126, 1.238, 1.238, 1.251, 1.479, 1.479, 1.479, 0.989, 0.989, 0.989, 0.989, 0.989, 0.989, 1.169, 1.169], 'avg_query_time': [0.001379058087942401, 0.0013568142988364393, 0.0014326011433320887, 0.0012770201030530427, 0.0012413067714348667, 0.0012326343878872994, 0.0011889233308679918, 0.0012138657525596972, 0.0012014170549233263, 0.0010982010017607604, 0.0007533724463022899, 0.0007078160442434967, 0.0011058761608489895, 0.0010777922237620635, 0.001361057116151225, 0.0012592014513517682], 'model': ['sentence-transformers/all-MiniLM-L6-v2', 'sentence-transformers/all-MiniLM-L6-v2', 'sentence-transformers/all-MiniLM-L6-v2', 'sentence-transformers/all-MiniLM-L6-v2', 'sentence-transformers/all-MiniLM-L6-v2', 'sentence-transformers/all-MiniLM-L6-v2', 'sentence-transformers/all-MiniLM-L6-v2', 'sentence-transformers/all-MiniLM-L6-v2', 'sentence-transformers/all-MiniLM-L6-v2', 'sentence-transformers/all-MiniLM-L6-v2', 'sentence-transformers/all-MiniLM-L6-v2', 'sentence-transformers/all-MiniLM-L6-v2', 'sentence-transformers/all-MiniLM-L6-v2', 'sentence-transformers/all-MiniLM-L6-v2', 'sentence-transformers/all-MiniLM-L6-v2', 'sentence-transformers/all-MiniLM-L6-v2'], 'model_dim': [384, 384, 384, 384, 384, 384, 384, 384, 384, 384, 384, 384, 384, 384, 384, 384], 'ret_k': [2, 7, 1, 4, 1, 4, 4, 9, 9, 10, 9, 9, 4, 5, 4, 7], 'recall@k': [0.15498797328057845, 0.15498797328057845, 0.15498797328057845, 0.15498797328057845, 0.15498797328057845, 0.15498797328057845, 0.15498797328057845, 0.15498797328057845, 0.15498797328057845, 0.15498797328057845, 0.14176854402770978, 0.14176854402770978, 0.15498797328057845, 0.15498797328057845, 0.15498797328057845, 0.15498797328057845], 'ndcg@k': [0.2029187472711757, 0.2029187472711757, 0.2029187472711757, 0.2029187472711757, 0.2029187472711757, 0.2029187472711757, 0.2029187472711757, 0.2029187472711757, 0.2029187472711757, 0.2029187472711757, 0.18317116199088398, 0.18317116199088398, 0.2029187472711757, 0.2029187472711757, 0.2029187472711757, 0.2029187472711757], 'f1@k': [0.13071176354799932, 0.13071176354799932, 0.13071176354799932, 0.13071176354799932, 0.13071176354799932, 0.13071176354799932, 0.13071176354799932, 0.13071176354799932, 0.13071176354799932, 0.13071176354799932, 0.12198332923876808, 0.12198332923876808, 0.13071176354799932, 0.13071176354799932, 0.13071176354799932, 0.13071176354799932], 'precision': [0.24334365325077406, 0.24334365325077406, 0.24334365325077406, 0.24334365325077406, 0.24334365325077406, 0.24334365325077406, 0.24334365325077406, 0.24334365325077406, 0.24334365325077406, 0.24334365325077406, 0.23467492260061923, 0.23467492260061923, 0.24334365325077406, 0.24334365325077406, 0.24334365325077406, 0.24334365325077406], 'algorithm': ['hnsw', 'hnsw', 'hnsw', 'hnsw', 'hnsw', 'hnsw', 'hnsw', 'hnsw', 'hnsw', 'hnsw', 'hnsw', 'hnsw', 'hnsw', 'hnsw', 'hnsw', 'hnsw'], 'ef_construction': [100, 200, 200, 300, 300, 300, 200, 300, 150, 150, 250, 200, 200, 100, 200, 150], 'ef_runtime': [30, 50, 50, 10, 50, 30, 50, 30, 30, 30, 20, 50, 50, 50, 30, 20], 'm': [8, 16, 8, 64, 16, 16, 16, 16, 8, 16, 16, 16, 8, 16, 8, 64], 'distance_metric': ['cosine', 'cosine', 'cosine', 'cosine', 'cosine', 'cosine', 'cosine', 'cosine', 'cosine', 'cosine', 'cosine', 'cosine', 'cosine', 'cosine', 'cosine', 'cosine'], 'vector_data_type': ['float32', 'float16', 'float32', 'float32', 'float16', 'float32', 'float32', 'float32', 'float16', 'float16', 'float16', 'float16', 'float16', 'float16', 'float32', 'float32']}\n"
     ]
    },
    {
     "name": "stderr",
     "output_type": "stream",
     "text": [
      "[I 2025-06-11 17:14:11,455] Trial 5 finished with value: 1.169 and parameters: {'model_info': {'type': 'hf', 'model': 'sentence-transformers/all-MiniLM-L6-v2', 'dim': 384, 'embedding_cache_name': 'vec-cache', 'dtype': 'float32'}, 'search_method': 'hybrid', 'algorithm': 'hnsw', 'var_dtype': 'float32', 'distance_metric': 'cosine', 'ret_k': 7, 'ef_runtime': 20, 'ef_construction': 150, 'm': 64}. Best is trial 4 with value: 1.169.\n"
     ]
    },
    {
     "name": "stdout",
     "output_type": "stream",
     "text": [
      "17:14:11 redisvl.index.index INFO   Index already exists, not overwriting.\n",
      "17:14:11 sentence_transformers.SentenceTransformer INFO   Load pretrained SentenceTransformer: sentence-transformers/all-MiniLM-L6-v2\n",
      "17:14:11 sentence_transformers.SentenceTransformer INFO   Use pytorch device_name: mps\n"
     ]
    },
    {
     "name": "stderr",
     "output_type": "stream",
     "text": [
      "Batches: 100%|██████████| 1/1 [00:00<00:00, 66.52it/s]"
     ]
    },
    {
     "name": "stdout",
     "output_type": "stream",
     "text": [
      "17:14:12 root INFO   Data indexed total_indexing_time=1.169s, num_docs=3633\n"
     ]
    },
    {
     "name": "stderr",
     "output_type": "stream",
     "text": [
      "\n"
     ]
    },
    {
     "name": "stdout",
     "output_type": "stream",
     "text": [
      "17:14:12 root INFO   Saving metrics for study: 88629332-3769-4ed6-9cec-2c950d5bbdb8, METRICS={'search_method': ['hybrid', 'hybrid', 'hybrid', 'hybrid', 'hybrid', 'hybrid', 'hybrid', 'hybrid', 'hybrid', 'hybrid', 'vector', 'vector', 'hybrid', 'hybrid', 'hybrid', 'hybrid', 'vector'], 'total_indexing_time': [0.995, 1.126, 1.238, 1.238, 1.251, 1.479, 1.479, 1.479, 0.989, 0.989, 0.989, 0.989, 0.989, 0.989, 1.169, 1.169, 1.169], 'avg_query_time': [0.001379058087942401, 0.0013568142988364393, 0.0014326011433320887, 0.0012770201030530427, 0.0012413067714348667, 0.0012326343878872994, 0.0011889233308679918, 0.0012138657525596972, 0.0012014170549233263, 0.0010982010017607604, 0.0007533724463022899, 0.0007078160442434967, 0.0011058761608489895, 0.0010777922237620635, 0.001361057116151225, 0.0012592014513517682, 0.0007849167744072599], 'model': ['sentence-transformers/all-MiniLM-L6-v2', 'sentence-transformers/all-MiniLM-L6-v2', 'sentence-transformers/all-MiniLM-L6-v2', 'sentence-transformers/all-MiniLM-L6-v2', 'sentence-transformers/all-MiniLM-L6-v2', 'sentence-transformers/all-MiniLM-L6-v2', 'sentence-transformers/all-MiniLM-L6-v2', 'sentence-transformers/all-MiniLM-L6-v2', 'sentence-transformers/all-MiniLM-L6-v2', 'sentence-transformers/all-MiniLM-L6-v2', 'sentence-transformers/all-MiniLM-L6-v2', 'sentence-transformers/all-MiniLM-L6-v2', 'sentence-transformers/all-MiniLM-L6-v2', 'sentence-transformers/all-MiniLM-L6-v2', 'sentence-transformers/all-MiniLM-L6-v2', 'sentence-transformers/all-MiniLM-L6-v2', 'sentence-transformers/all-MiniLM-L6-v2'], 'model_dim': [384, 384, 384, 384, 384, 384, 384, 384, 384, 384, 384, 384, 384, 384, 384, 384, 384], 'ret_k': [2, 7, 1, 4, 1, 4, 4, 9, 9, 10, 9, 9, 4, 5, 4, 7, 8], 'recall@k': [0.15498797328057845, 0.15498797328057845, 0.15498797328057845, 0.15498797328057845, 0.15498797328057845, 0.15498797328057845, 0.15498797328057845, 0.15498797328057845, 0.15498797328057845, 0.15498797328057845, 0.14176854402770978, 0.14176854402770978, 0.15498797328057845, 0.15498797328057845, 0.15498797328057845, 0.15498797328057845, 0.1433708469987597], 'ndcg@k': [0.2029187472711757, 0.2029187472711757, 0.2029187472711757, 0.2029187472711757, 0.2029187472711757, 0.2029187472711757, 0.2029187472711757, 0.2029187472711757, 0.2029187472711757, 0.2029187472711757, 0.18317116199088398, 0.18317116199088398, 0.2029187472711757, 0.2029187472711757, 0.2029187472711757, 0.2029187472711757, 0.18390903207065956], 'f1@k': [0.13071176354799932, 0.13071176354799932, 0.13071176354799932, 0.13071176354799932, 0.13071176354799932, 0.13071176354799932, 0.13071176354799932, 0.13071176354799932, 0.13071176354799932, 0.13071176354799932, 0.12198332923876808, 0.12198332923876808, 0.13071176354799932, 0.13071176354799932, 0.13071176354799932, 0.13071176354799932, 0.12259174228191151], 'precision': [0.24334365325077406, 0.24334365325077406, 0.24334365325077406, 0.24334365325077406, 0.24334365325077406, 0.24334365325077406, 0.24334365325077406, 0.24334365325077406, 0.24334365325077406, 0.24334365325077406, 0.23467492260061923, 0.23467492260061923, 0.24334365325077406, 0.24334365325077406, 0.24334365325077406, 0.24334365325077406, 0.23529411764705882], 'algorithm': ['hnsw', 'hnsw', 'hnsw', 'hnsw', 'hnsw', 'hnsw', 'hnsw', 'hnsw', 'hnsw', 'hnsw', 'hnsw', 'hnsw', 'hnsw', 'hnsw', 'hnsw', 'hnsw', 'hnsw'], 'ef_construction': [100, 200, 200, 300, 300, 300, 200, 300, 150, 150, 250, 200, 200, 100, 200, 150, 250], 'ef_runtime': [30, 50, 50, 10, 50, 30, 50, 30, 30, 30, 20, 50, 50, 50, 30, 20, 50], 'm': [8, 16, 8, 64, 16, 16, 16, 16, 8, 16, 16, 16, 8, 16, 8, 64, 64], 'distance_metric': ['cosine', 'cosine', 'cosine', 'cosine', 'cosine', 'cosine', 'cosine', 'cosine', 'cosine', 'cosine', 'cosine', 'cosine', 'cosine', 'cosine', 'cosine', 'cosine', 'cosine'], 'vector_data_type': ['float32', 'float16', 'float32', 'float32', 'float16', 'float32', 'float32', 'float32', 'float16', 'float16', 'float16', 'float16', 'float16', 'float16', 'float32', 'float32', 'float32']}\n"
     ]
    },
    {
     "name": "stderr",
     "output_type": "stream",
     "text": [
      "[I 2025-06-11 17:14:12,581] Trial 6 finished with value: 1.169 and parameters: {'model_info': {'type': 'hf', 'model': 'sentence-transformers/all-MiniLM-L6-v2', 'dim': 384, 'embedding_cache_name': 'vec-cache', 'dtype': 'float32'}, 'search_method': 'vector', 'algorithm': 'hnsw', 'var_dtype': 'float32', 'distance_metric': 'cosine', 'ret_k': 8, 'ef_runtime': 50, 'ef_construction': 250, 'm': 64}. Best is trial 4 with value: 1.169.\n"
     ]
    },
    {
     "name": "stdout",
     "output_type": "stream",
     "text": [
      "17:14:12 redisvl.index.index INFO   Index already exists, not overwriting.\n",
      "17:14:12 sentence_transformers.SentenceTransformer INFO   Load pretrained SentenceTransformer: sentence-transformers/all-MiniLM-L6-v2\n",
      "17:14:12 sentence_transformers.SentenceTransformer INFO   Use pytorch device_name: mps\n"
     ]
    },
    {
     "name": "stderr",
     "output_type": "stream",
     "text": [
      "Batches: 100%|██████████| 1/1 [00:00<00:00, 102.43it/s]"
     ]
    },
    {
     "name": "stdout",
     "output_type": "stream",
     "text": [
      "17:14:12 root INFO   Data indexed total_indexing_time=1.169s, num_docs=3633\n"
     ]
    },
    {
     "name": "stderr",
     "output_type": "stream",
     "text": [
      "\n"
     ]
    },
    {
     "name": "stdout",
     "output_type": "stream",
     "text": [
      "17:14:13 root INFO   Saving metrics for study: 88629332-3769-4ed6-9cec-2c950d5bbdb8, METRICS={'search_method': ['hybrid', 'hybrid', 'hybrid', 'hybrid', 'hybrid', 'hybrid', 'hybrid', 'hybrid', 'hybrid', 'hybrid', 'vector', 'vector', 'hybrid', 'hybrid', 'hybrid', 'hybrid', 'vector', 'hybrid'], 'total_indexing_time': [0.995, 1.126, 1.238, 1.238, 1.251, 1.479, 1.479, 1.479, 0.989, 0.989, 0.989, 0.989, 0.989, 0.989, 1.169, 1.169, 1.169, 1.169], 'avg_query_time': [0.001379058087942401, 0.0013568142988364393, 0.0014326011433320887, 0.0012770201030530427, 0.0012413067714348667, 0.0012326343878872994, 0.0011889233308679918, 0.0012138657525596972, 0.0012014170549233263, 0.0010982010017607604, 0.0007533724463022899, 0.0007078160442434967, 0.0011058761608489895, 0.0010777922237620635, 0.001361057116151225, 0.0012592014513517682, 0.0007849167744072599, 0.0012235671005012818], 'model': ['sentence-transformers/all-MiniLM-L6-v2', 'sentence-transformers/all-MiniLM-L6-v2', 'sentence-transformers/all-MiniLM-L6-v2', 'sentence-transformers/all-MiniLM-L6-v2', 'sentence-transformers/all-MiniLM-L6-v2', 'sentence-transformers/all-MiniLM-L6-v2', 'sentence-transformers/all-MiniLM-L6-v2', 'sentence-transformers/all-MiniLM-L6-v2', 'sentence-transformers/all-MiniLM-L6-v2', 'sentence-transformers/all-MiniLM-L6-v2', 'sentence-transformers/all-MiniLM-L6-v2', 'sentence-transformers/all-MiniLM-L6-v2', 'sentence-transformers/all-MiniLM-L6-v2', 'sentence-transformers/all-MiniLM-L6-v2', 'sentence-transformers/all-MiniLM-L6-v2', 'sentence-transformers/all-MiniLM-L6-v2', 'sentence-transformers/all-MiniLM-L6-v2', 'sentence-transformers/all-MiniLM-L6-v2'], 'model_dim': [384, 384, 384, 384, 384, 384, 384, 384, 384, 384, 384, 384, 384, 384, 384, 384, 384, 384], 'ret_k': [2, 7, 1, 4, 1, 4, 4, 9, 9, 10, 9, 9, 4, 5, 4, 7, 8, 8], 'recall@k': [0.15498797328057845, 0.15498797328057845, 0.15498797328057845, 0.15498797328057845, 0.15498797328057845, 0.15498797328057845, 0.15498797328057845, 0.15498797328057845, 0.15498797328057845, 0.15498797328057845, 0.14176854402770978, 0.14176854402770978, 0.15498797328057845, 0.15498797328057845, 0.15498797328057845, 0.15498797328057845, 0.1433708469987597, 0.15498797328057845], 'ndcg@k': [0.2029187472711757, 0.2029187472711757, 0.2029187472711757, 0.2029187472711757, 0.2029187472711757, 0.2029187472711757, 0.2029187472711757, 0.2029187472711757, 0.2029187472711757, 0.2029187472711757, 0.18317116199088398, 0.18317116199088398, 0.2029187472711757, 0.2029187472711757, 0.2029187472711757, 0.2029187472711757, 0.18390903207065956, 0.2029187472711757], 'f1@k': [0.13071176354799932, 0.13071176354799932, 0.13071176354799932, 0.13071176354799932, 0.13071176354799932, 0.13071176354799932, 0.13071176354799932, 0.13071176354799932, 0.13071176354799932, 0.13071176354799932, 0.12198332923876808, 0.12198332923876808, 0.13071176354799932, 0.13071176354799932, 0.13071176354799932, 0.13071176354799932, 0.12259174228191151, 0.13071176354799932], 'precision': [0.24334365325077406, 0.24334365325077406, 0.24334365325077406, 0.24334365325077406, 0.24334365325077406, 0.24334365325077406, 0.24334365325077406, 0.24334365325077406, 0.24334365325077406, 0.24334365325077406, 0.23467492260061923, 0.23467492260061923, 0.24334365325077406, 0.24334365325077406, 0.24334365325077406, 0.24334365325077406, 0.23529411764705882, 0.24334365325077406], 'algorithm': ['hnsw', 'hnsw', 'hnsw', 'hnsw', 'hnsw', 'hnsw', 'hnsw', 'hnsw', 'hnsw', 'hnsw', 'hnsw', 'hnsw', 'hnsw', 'hnsw', 'hnsw', 'hnsw', 'hnsw', 'hnsw'], 'ef_construction': [100, 200, 200, 300, 300, 300, 200, 300, 150, 150, 250, 200, 200, 100, 200, 150, 250, 200], 'ef_runtime': [30, 50, 50, 10, 50, 30, 50, 30, 30, 30, 20, 50, 50, 50, 30, 20, 50, 10], 'm': [8, 16, 8, 64, 16, 16, 16, 16, 8, 16, 16, 16, 8, 16, 8, 64, 64, 8], 'distance_metric': ['cosine', 'cosine', 'cosine', 'cosine', 'cosine', 'cosine', 'cosine', 'cosine', 'cosine', 'cosine', 'cosine', 'cosine', 'cosine', 'cosine', 'cosine', 'cosine', 'cosine', 'cosine'], 'vector_data_type': ['float32', 'float16', 'float32', 'float32', 'float16', 'float32', 'float32', 'float32', 'float16', 'float16', 'float16', 'float16', 'float16', 'float16', 'float32', 'float32', 'float32', 'float32']}\n"
     ]
    },
    {
     "name": "stderr",
     "output_type": "stream",
     "text": [
      "[I 2025-06-11 17:14:13,754] Trial 7 finished with value: 1.169 and parameters: {'model_info': {'type': 'hf', 'model': 'sentence-transformers/all-MiniLM-L6-v2', 'dim': 384, 'embedding_cache_name': 'vec-cache', 'dtype': 'float32'}, 'search_method': 'hybrid', 'algorithm': 'hnsw', 'var_dtype': 'float32', 'distance_metric': 'cosine', 'ret_k': 8, 'ef_runtime': 10, 'ef_construction': 200, 'm': 8}. Best is trial 4 with value: 1.169.\n"
     ]
    },
    {
     "name": "stdout",
     "output_type": "stream",
     "text": [
      "17:14:13 sentence_transformers.SentenceTransformer INFO   Load pretrained SentenceTransformer: sentence-transformers/all-MiniLM-L6-v2\n",
      "17:14:14 sentence_transformers.SentenceTransformer INFO   Use pytorch device_name: mps\n"
     ]
    },
    {
     "name": "stderr",
     "output_type": "stream",
     "text": [
      "Batches: 100%|██████████| 1/1 [00:00<00:00, 64.35it/s]"
     ]
    },
    {
     "name": "stdout",
     "output_type": "stream",
     "text": [
      "17:14:14 root INFO   Recreating index...\n"
     ]
    },
    {
     "name": "stderr",
     "output_type": "stream",
     "text": [
      "\n"
     ]
    },
    {
     "name": "stdout",
     "output_type": "stream",
     "text": [
      "17:14:14 root INFO   Corpus size: 3633\n",
      "17:14:16 root INFO   Data indexed total_indexing_time=0.896s, num_docs=3633\n",
      "17:14:16 root INFO   Saving metrics for study: 88629332-3769-4ed6-9cec-2c950d5bbdb8, METRICS={'search_method': ['hybrid', 'hybrid', 'hybrid', 'hybrid', 'hybrid', 'hybrid', 'hybrid', 'hybrid', 'hybrid', 'hybrid', 'vector', 'vector', 'hybrid', 'hybrid', 'hybrid', 'hybrid', 'vector', 'hybrid', 'vector'], 'total_indexing_time': [0.995, 1.126, 1.238, 1.238, 1.251, 1.479, 1.479, 1.479, 0.989, 0.989, 0.989, 0.989, 0.989, 0.989, 1.169, 1.169, 1.169, 1.169, 0.896], 'avg_query_time': [0.001379058087942401, 0.0013568142988364393, 0.0014326011433320887, 0.0012770201030530427, 0.0012413067714348667, 0.0012326343878872994, 0.0011889233308679918, 0.0012138657525596972, 0.0012014170549233263, 0.0010982010017607604, 0.0007533724463022899, 0.0007078160442434967, 0.0011058761608489895, 0.0010777922237620635, 0.001361057116151225, 0.0012592014513517682, 0.0007849167744072599, 0.0012235671005012818, 0.0008107759635145819], 'model': ['sentence-transformers/all-MiniLM-L6-v2', 'sentence-transformers/all-MiniLM-L6-v2', 'sentence-transformers/all-MiniLM-L6-v2', 'sentence-transformers/all-MiniLM-L6-v2', 'sentence-transformers/all-MiniLM-L6-v2', 'sentence-transformers/all-MiniLM-L6-v2', 'sentence-transformers/all-MiniLM-L6-v2', 'sentence-transformers/all-MiniLM-L6-v2', 'sentence-transformers/all-MiniLM-L6-v2', 'sentence-transformers/all-MiniLM-L6-v2', 'sentence-transformers/all-MiniLM-L6-v2', 'sentence-transformers/all-MiniLM-L6-v2', 'sentence-transformers/all-MiniLM-L6-v2', 'sentence-transformers/all-MiniLM-L6-v2', 'sentence-transformers/all-MiniLM-L6-v2', 'sentence-transformers/all-MiniLM-L6-v2', 'sentence-transformers/all-MiniLM-L6-v2', 'sentence-transformers/all-MiniLM-L6-v2', 'sentence-transformers/all-MiniLM-L6-v2'], 'model_dim': [384, 384, 384, 384, 384, 384, 384, 384, 384, 384, 384, 384, 384, 384, 384, 384, 384, 384, 384], 'ret_k': [2, 7, 1, 4, 1, 4, 4, 9, 9, 10, 9, 9, 4, 5, 4, 7, 8, 8, 9], 'recall@k': [0.15498797328057845, 0.15498797328057845, 0.15498797328057845, 0.15498797328057845, 0.15498797328057845, 0.15498797328057845, 0.15498797328057845, 0.15498797328057845, 0.15498797328057845, 0.15498797328057845, 0.14176854402770978, 0.14176854402770978, 0.15498797328057845, 0.15498797328057845, 0.15498797328057845, 0.15498797328057845, 0.1433708469987597, 0.15498797328057845, 0.14638864649578465], 'ndcg@k': [0.2029187472711757, 0.2029187472711757, 0.2029187472711757, 0.2029187472711757, 0.2029187472711757, 0.2029187472711757, 0.2029187472711757, 0.2029187472711757, 0.2029187472711757, 0.2029187472711757, 0.18317116199088398, 0.18317116199088398, 0.2029187472711757, 0.2029187472711757, 0.2029187472711757, 0.2029187472711757, 0.18390903207065956, 0.2029187472711757, 0.18719217617436318], 'f1@k': [0.13071176354799932, 0.13071176354799932, 0.13071176354799932, 0.13071176354799932, 0.13071176354799932, 0.13071176354799932, 0.13071176354799932, 0.13071176354799932, 0.13071176354799932, 0.13071176354799932, 0.12198332923876808, 0.12198332923876808, 0.13071176354799932, 0.13071176354799932, 0.13071176354799932, 0.13071176354799932, 0.12259174228191151, 0.13071176354799932, 0.12573388467454924], 'precision': [0.24334365325077406, 0.24334365325077406, 0.24334365325077406, 0.24334365325077406, 0.24334365325077406, 0.24334365325077406, 0.24334365325077406, 0.24334365325077406, 0.24334365325077406, 0.24334365325077406, 0.23467492260061923, 0.23467492260061923, 0.24334365325077406, 0.24334365325077406, 0.24334365325077406, 0.24334365325077406, 0.23529411764705882, 0.24334365325077406, 0.23931888544891644], 'algorithm': ['hnsw', 'hnsw', 'hnsw', 'hnsw', 'hnsw', 'hnsw', 'hnsw', 'hnsw', 'hnsw', 'hnsw', 'hnsw', 'hnsw', 'hnsw', 'hnsw', 'hnsw', 'hnsw', 'hnsw', 'hnsw', 'hnsw'], 'ef_construction': [100, 200, 200, 300, 300, 300, 200, 300, 150, 150, 250, 200, 200, 100, 200, 150, 250, 200, 100], 'ef_runtime': [30, 50, 50, 10, 50, 30, 50, 30, 30, 30, 20, 50, 50, 50, 30, 20, 50, 10, 50], 'm': [8, 16, 8, 64, 16, 16, 16, 16, 8, 16, 16, 16, 8, 16, 8, 64, 64, 8, 8], 'distance_metric': ['cosine', 'cosine', 'cosine', 'cosine', 'cosine', 'cosine', 'cosine', 'cosine', 'cosine', 'cosine', 'cosine', 'cosine', 'cosine', 'cosine', 'cosine', 'cosine', 'cosine', 'cosine', 'cosine'], 'vector_data_type': ['float32', 'float16', 'float32', 'float32', 'float16', 'float32', 'float32', 'float32', 'float16', 'float16', 'float16', 'float16', 'float16', 'float16', 'float32', 'float32', 'float32', 'float32', 'float16']}\n"
     ]
    },
    {
     "name": "stderr",
     "output_type": "stream",
     "text": [
      "[I 2025-06-11 17:14:16,564] Trial 8 finished with value: 0.896 and parameters: {'model_info': {'type': 'hf', 'model': 'sentence-transformers/all-MiniLM-L6-v2', 'dim': 384, 'embedding_cache_name': 'vec-cache', 'dtype': 'float32'}, 'search_method': 'vector', 'algorithm': 'hnsw', 'var_dtype': 'float16', 'distance_metric': 'cosine', 'ret_k': 9, 'ef_runtime': 50, 'ef_construction': 100, 'm': 8}. Best is trial 4 with value: 1.169.\n"
     ]
    },
    {
     "name": "stdout",
     "output_type": "stream",
     "text": [
      "17:14:16 sentence_transformers.SentenceTransformer INFO   Load pretrained SentenceTransformer: sentence-transformers/all-MiniLM-L6-v2\n",
      "17:14:17 sentence_transformers.SentenceTransformer INFO   Use pytorch device_name: mps\n"
     ]
    },
    {
     "name": "stderr",
     "output_type": "stream",
     "text": [
      "Batches: 100%|██████████| 1/1 [00:00<00:00, 49.43it/s]"
     ]
    },
    {
     "name": "stdout",
     "output_type": "stream",
     "text": [
      "17:14:17 root INFO   Recreating index...\n"
     ]
    },
    {
     "name": "stderr",
     "output_type": "stream",
     "text": [
      "\n"
     ]
    },
    {
     "name": "stdout",
     "output_type": "stream",
     "text": [
      "17:14:17 root INFO   Corpus size: 3633\n",
      "17:14:19 root INFO   Data indexed total_indexing_time=1.485s, num_docs=3633\n",
      "17:14:20 root INFO   Saving metrics for study: 88629332-3769-4ed6-9cec-2c950d5bbdb8, METRICS={'search_method': ['hybrid', 'hybrid', 'hybrid', 'hybrid', 'hybrid', 'hybrid', 'hybrid', 'hybrid', 'hybrid', 'hybrid', 'vector', 'vector', 'hybrid', 'hybrid', 'hybrid', 'hybrid', 'vector', 'hybrid', 'vector', 'vector'], 'total_indexing_time': [0.995, 1.126, 1.238, 1.238, 1.251, 1.479, 1.479, 1.479, 0.989, 0.989, 0.989, 0.989, 0.989, 0.989, 1.169, 1.169, 1.169, 1.169, 0.896, 1.485], 'avg_query_time': [0.001379058087942401, 0.0013568142988364393, 0.0014326011433320887, 0.0012770201030530427, 0.0012413067714348667, 0.0012326343878872994, 0.0011889233308679918, 0.0012138657525596972, 0.0012014170549233263, 0.0010982010017607604, 0.0007533724463022899, 0.0007078160442434967, 0.0011058761608489895, 0.0010777922237620635, 0.001361057116151225, 0.0012592014513517682, 0.0007849167744072599, 0.0012235671005012818, 0.0008107759635145819, 0.0008267116251375654], 'model': ['sentence-transformers/all-MiniLM-L6-v2', 'sentence-transformers/all-MiniLM-L6-v2', 'sentence-transformers/all-MiniLM-L6-v2', 'sentence-transformers/all-MiniLM-L6-v2', 'sentence-transformers/all-MiniLM-L6-v2', 'sentence-transformers/all-MiniLM-L6-v2', 'sentence-transformers/all-MiniLM-L6-v2', 'sentence-transformers/all-MiniLM-L6-v2', 'sentence-transformers/all-MiniLM-L6-v2', 'sentence-transformers/all-MiniLM-L6-v2', 'sentence-transformers/all-MiniLM-L6-v2', 'sentence-transformers/all-MiniLM-L6-v2', 'sentence-transformers/all-MiniLM-L6-v2', 'sentence-transformers/all-MiniLM-L6-v2', 'sentence-transformers/all-MiniLM-L6-v2', 'sentence-transformers/all-MiniLM-L6-v2', 'sentence-transformers/all-MiniLM-L6-v2', 'sentence-transformers/all-MiniLM-L6-v2', 'sentence-transformers/all-MiniLM-L6-v2', 'sentence-transformers/all-MiniLM-L6-v2'], 'model_dim': [384, 384, 384, 384, 384, 384, 384, 384, 384, 384, 384, 384, 384, 384, 384, 384, 384, 384, 384, 384], 'ret_k': [2, 7, 1, 4, 1, 4, 4, 9, 9, 10, 9, 9, 4, 5, 4, 7, 8, 8, 9, 5], 'recall@k': [0.15498797328057845, 0.15498797328057845, 0.15498797328057845, 0.15498797328057845, 0.15498797328057845, 0.15498797328057845, 0.15498797328057845, 0.15498797328057845, 0.15498797328057845, 0.15498797328057845, 0.14176854402770978, 0.14176854402770978, 0.15498797328057845, 0.15498797328057845, 0.15498797328057845, 0.15498797328057845, 0.1433708469987597, 0.15498797328057845, 0.14638864649578465, 0.15314932125422298], 'ndcg@k': [0.2029187472711757, 0.2029187472711757, 0.2029187472711757, 0.2029187472711757, 0.2029187472711757, 0.2029187472711757, 0.2029187472711757, 0.2029187472711757, 0.2029187472711757, 0.2029187472711757, 0.18317116199088398, 0.18317116199088398, 0.2029187472711757, 0.2029187472711757, 0.2029187472711757, 0.2029187472711757, 0.18390903207065956, 0.2029187472711757, 0.18719217617436318, 0.1948219880738463], 'f1@k': [0.13071176354799932, 0.13071176354799932, 0.13071176354799932, 0.13071176354799932, 0.13071176354799932, 0.13071176354799932, 0.13071176354799932, 0.13071176354799932, 0.13071176354799932, 0.13071176354799932, 0.12198332923876808, 0.12198332923876808, 0.13071176354799932, 0.13071176354799932, 0.13071176354799932, 0.13071176354799932, 0.12259174228191151, 0.13071176354799932, 0.12573388467454924, 0.12998851988458898], 'precision': [0.24334365325077406, 0.24334365325077406, 0.24334365325077406, 0.24334365325077406, 0.24334365325077406, 0.24334365325077406, 0.24334365325077406, 0.24334365325077406, 0.24334365325077406, 0.24334365325077406, 0.23467492260061923, 0.23467492260061923, 0.24334365325077406, 0.24334365325077406, 0.24334365325077406, 0.24334365325077406, 0.23529411764705882, 0.24334365325077406, 0.23931888544891644, 0.24365325077399386], 'algorithm': ['hnsw', 'hnsw', 'hnsw', 'hnsw', 'hnsw', 'hnsw', 'hnsw', 'hnsw', 'hnsw', 'hnsw', 'hnsw', 'hnsw', 'hnsw', 'hnsw', 'hnsw', 'hnsw', 'hnsw', 'hnsw', 'hnsw', 'hnsw'], 'ef_construction': [100, 200, 200, 300, 300, 300, 200, 300, 150, 150, 250, 200, 200, 100, 200, 150, 250, 200, 100, 300], 'ef_runtime': [30, 50, 50, 10, 50, 30, 50, 30, 30, 30, 20, 50, 50, 50, 30, 20, 50, 10, 50, 30], 'm': [8, 16, 8, 64, 16, 16, 16, 16, 8, 16, 16, 16, 8, 16, 8, 64, 64, 8, 8, 64], 'distance_metric': ['cosine', 'cosine', 'cosine', 'cosine', 'cosine', 'cosine', 'cosine', 'cosine', 'cosine', 'cosine', 'cosine', 'cosine', 'cosine', 'cosine', 'cosine', 'cosine', 'cosine', 'cosine', 'cosine', 'cosine'], 'vector_data_type': ['float32', 'float16', 'float32', 'float32', 'float16', 'float32', 'float32', 'float32', 'float16', 'float16', 'float16', 'float16', 'float16', 'float16', 'float32', 'float32', 'float32', 'float32', 'float16', 'float32']}\n"
     ]
    },
    {
     "name": "stderr",
     "output_type": "stream",
     "text": [
      "[I 2025-06-11 17:14:20,013] Trial 9 finished with value: 1.485 and parameters: {'model_info': {'type': 'hf', 'model': 'sentence-transformers/all-MiniLM-L6-v2', 'dim': 384, 'embedding_cache_name': 'vec-cache', 'dtype': 'float32'}, 'search_method': 'vector', 'algorithm': 'hnsw', 'var_dtype': 'float32', 'distance_metric': 'cosine', 'ret_k': 5, 'ef_runtime': 30, 'ef_construction': 300, 'm': 64}. Best is trial 9 with value: 1.485.\n"
     ]
    },
    {
     "name": "stdout",
     "output_type": "stream",
     "text": [
      "17:14:20 sentence_transformers.SentenceTransformer INFO   Load pretrained SentenceTransformer: sentence-transformers/all-MiniLM-L6-v2\n",
      "17:14:20 sentence_transformers.SentenceTransformer INFO   Use pytorch device_name: mps\n"
     ]
    },
    {
     "name": "stderr",
     "output_type": "stream",
     "text": [
      "Batches: 100%|██████████| 1/1 [00:00<00:00, 51.76it/s]"
     ]
    },
    {
     "name": "stdout",
     "output_type": "stream",
     "text": [
      "17:14:20 root INFO   Data indexed total_indexing_time=1.485s, num_docs=3633\n"
     ]
    },
    {
     "name": "stderr",
     "output_type": "stream",
     "text": [
      "\n"
     ]
    },
    {
     "name": "stdout",
     "output_type": "stream",
     "text": [
      "17:14:21 root INFO   Saving metrics for study: 88629332-3769-4ed6-9cec-2c950d5bbdb8, METRICS={'search_method': ['hybrid', 'hybrid', 'hybrid', 'hybrid', 'hybrid', 'hybrid', 'hybrid', 'hybrid', 'hybrid', 'hybrid', 'vector', 'vector', 'hybrid', 'hybrid', 'hybrid', 'hybrid', 'vector', 'hybrid', 'vector', 'vector', 'vector'], 'total_indexing_time': [0.995, 1.126, 1.238, 1.238, 1.251, 1.479, 1.479, 1.479, 0.989, 0.989, 0.989, 0.989, 0.989, 0.989, 1.169, 1.169, 1.169, 1.169, 0.896, 1.485, 1.485], 'avg_query_time': [0.001379058087942401, 0.0013568142988364393, 0.0014326011433320887, 0.0012770201030530427, 0.0012413067714348667, 0.0012326343878872994, 0.0011889233308679918, 0.0012138657525596972, 0.0012014170549233263, 0.0010982010017607604, 0.0007533724463022899, 0.0007078160442434967, 0.0011058761608489895, 0.0010777922237620635, 0.001361057116151225, 0.0012592014513517682, 0.0007849167744072599, 0.0012235671005012818, 0.0008107759635145819, 0.0008267116251375654, 0.0007707201659494878], 'model': ['sentence-transformers/all-MiniLM-L6-v2', 'sentence-transformers/all-MiniLM-L6-v2', 'sentence-transformers/all-MiniLM-L6-v2', 'sentence-transformers/all-MiniLM-L6-v2', 'sentence-transformers/all-MiniLM-L6-v2', 'sentence-transformers/all-MiniLM-L6-v2', 'sentence-transformers/all-MiniLM-L6-v2', 'sentence-transformers/all-MiniLM-L6-v2', 'sentence-transformers/all-MiniLM-L6-v2', 'sentence-transformers/all-MiniLM-L6-v2', 'sentence-transformers/all-MiniLM-L6-v2', 'sentence-transformers/all-MiniLM-L6-v2', 'sentence-transformers/all-MiniLM-L6-v2', 'sentence-transformers/all-MiniLM-L6-v2', 'sentence-transformers/all-MiniLM-L6-v2', 'sentence-transformers/all-MiniLM-L6-v2', 'sentence-transformers/all-MiniLM-L6-v2', 'sentence-transformers/all-MiniLM-L6-v2', 'sentence-transformers/all-MiniLM-L6-v2', 'sentence-transformers/all-MiniLM-L6-v2', 'sentence-transformers/all-MiniLM-L6-v2'], 'model_dim': [384, 384, 384, 384, 384, 384, 384, 384, 384, 384, 384, 384, 384, 384, 384, 384, 384, 384, 384, 384, 384], 'ret_k': [2, 7, 1, 4, 1, 4, 4, 9, 9, 10, 9, 9, 4, 5, 4, 7, 8, 8, 9, 5, 2], 'recall@k': [0.15498797328057845, 0.15498797328057845, 0.15498797328057845, 0.15498797328057845, 0.15498797328057845, 0.15498797328057845, 0.15498797328057845, 0.15498797328057845, 0.15498797328057845, 0.15498797328057845, 0.14176854402770978, 0.14176854402770978, 0.15498797328057845, 0.15498797328057845, 0.15498797328057845, 0.15498797328057845, 0.1433708469987597, 0.15498797328057845, 0.14638864649578465, 0.15314932125422298, 0.15314932125422298], 'ndcg@k': [0.2029187472711757, 0.2029187472711757, 0.2029187472711757, 0.2029187472711757, 0.2029187472711757, 0.2029187472711757, 0.2029187472711757, 0.2029187472711757, 0.2029187472711757, 0.2029187472711757, 0.18317116199088398, 0.18317116199088398, 0.2029187472711757, 0.2029187472711757, 0.2029187472711757, 0.2029187472711757, 0.18390903207065956, 0.2029187472711757, 0.18719217617436318, 0.1948219880738463, 0.1948219880738463], 'f1@k': [0.13071176354799932, 0.13071176354799932, 0.13071176354799932, 0.13071176354799932, 0.13071176354799932, 0.13071176354799932, 0.13071176354799932, 0.13071176354799932, 0.13071176354799932, 0.13071176354799932, 0.12198332923876808, 0.12198332923876808, 0.13071176354799932, 0.13071176354799932, 0.13071176354799932, 0.13071176354799932, 0.12259174228191151, 0.13071176354799932, 0.12573388467454924, 0.12998851988458898, 0.12998851988458898], 'precision': [0.24334365325077406, 0.24334365325077406, 0.24334365325077406, 0.24334365325077406, 0.24334365325077406, 0.24334365325077406, 0.24334365325077406, 0.24334365325077406, 0.24334365325077406, 0.24334365325077406, 0.23467492260061923, 0.23467492260061923, 0.24334365325077406, 0.24334365325077406, 0.24334365325077406, 0.24334365325077406, 0.23529411764705882, 0.24334365325077406, 0.23931888544891644, 0.24365325077399386, 0.24365325077399386], 'algorithm': ['hnsw', 'hnsw', 'hnsw', 'hnsw', 'hnsw', 'hnsw', 'hnsw', 'hnsw', 'hnsw', 'hnsw', 'hnsw', 'hnsw', 'hnsw', 'hnsw', 'hnsw', 'hnsw', 'hnsw', 'hnsw', 'hnsw', 'hnsw', 'hnsw'], 'ef_construction': [100, 200, 200, 300, 300, 300, 200, 300, 150, 150, 250, 200, 200, 100, 200, 150, 250, 200, 100, 300, 300], 'ef_runtime': [30, 50, 50, 10, 50, 30, 50, 30, 30, 30, 20, 50, 50, 50, 30, 20, 50, 10, 50, 30, 30], 'm': [8, 16, 8, 64, 16, 16, 16, 16, 8, 16, 16, 16, 8, 16, 8, 64, 64, 8, 8, 64, 64], 'distance_metric': ['cosine', 'cosine', 'cosine', 'cosine', 'cosine', 'cosine', 'cosine', 'cosine', 'cosine', 'cosine', 'cosine', 'cosine', 'cosine', 'cosine', 'cosine', 'cosine', 'cosine', 'cosine', 'cosine', 'cosine', 'cosine'], 'vector_data_type': ['float32', 'float16', 'float32', 'float32', 'float16', 'float32', 'float32', 'float32', 'float16', 'float16', 'float16', 'float16', 'float16', 'float16', 'float32', 'float32', 'float32', 'float32', 'float16', 'float32', 'float32']}\n"
     ]
    },
    {
     "name": "stderr",
     "output_type": "stream",
     "text": [
      "[I 2025-06-11 17:14:21,118] Trial 10 finished with value: 1.485 and parameters: {'model_info': {'type': 'hf', 'model': 'sentence-transformers/all-MiniLM-L6-v2', 'dim': 384, 'embedding_cache_name': 'vec-cache', 'dtype': 'float32'}, 'search_method': 'vector', 'algorithm': 'hnsw', 'var_dtype': 'float32', 'distance_metric': 'cosine', 'ret_k': 2, 'ef_runtime': 30, 'ef_construction': 300, 'm': 64}. Best is trial 9 with value: 1.485.\n"
     ]
    },
    {
     "name": "stdout",
     "output_type": "stream",
     "text": [
      "17:14:21 sentence_transformers.SentenceTransformer INFO   Load pretrained SentenceTransformer: sentence-transformers/all-MiniLM-L6-v2\n",
      "17:14:21 sentence_transformers.SentenceTransformer INFO   Use pytorch device_name: mps\n"
     ]
    },
    {
     "name": "stderr",
     "output_type": "stream",
     "text": [
      "Batches: 100%|██████████| 1/1 [00:00<00:00, 102.95it/s]"
     ]
    },
    {
     "name": "stdout",
     "output_type": "stream",
     "text": [
      "17:14:21 root INFO   Data indexed total_indexing_time=1.485s, num_docs=3633\n"
     ]
    },
    {
     "name": "stderr",
     "output_type": "stream",
     "text": [
      "\n"
     ]
    },
    {
     "name": "stdout",
     "output_type": "stream",
     "text": [
      "17:14:22 root INFO   Saving metrics for study: 88629332-3769-4ed6-9cec-2c950d5bbdb8, METRICS={'search_method': ['hybrid', 'hybrid', 'hybrid', 'hybrid', 'hybrid', 'hybrid', 'hybrid', 'hybrid', 'hybrid', 'hybrid', 'vector', 'vector', 'hybrid', 'hybrid', 'hybrid', 'hybrid', 'vector', 'hybrid', 'vector', 'vector', 'vector', 'vector'], 'total_indexing_time': [0.995, 1.126, 1.238, 1.238, 1.251, 1.479, 1.479, 1.479, 0.989, 0.989, 0.989, 0.989, 0.989, 0.989, 1.169, 1.169, 1.169, 1.169, 0.896, 1.485, 1.485, 1.485], 'avg_query_time': [0.001379058087942401, 0.0013568142988364393, 0.0014326011433320887, 0.0012770201030530427, 0.0012413067714348667, 0.0012326343878872994, 0.0011889233308679918, 0.0012138657525596972, 0.0012014170549233263, 0.0010982010017607604, 0.0007533724463022899, 0.0007078160442434967, 0.0011058761608489895, 0.0010777922237620635, 0.001361057116151225, 0.0012592014513517682, 0.0007849167744072599, 0.0012235671005012818, 0.0008107759635145819, 0.0008267116251375654, 0.0007707201659494878, 0.0007911887331274641], 'model': ['sentence-transformers/all-MiniLM-L6-v2', 'sentence-transformers/all-MiniLM-L6-v2', 'sentence-transformers/all-MiniLM-L6-v2', 'sentence-transformers/all-MiniLM-L6-v2', 'sentence-transformers/all-MiniLM-L6-v2', 'sentence-transformers/all-MiniLM-L6-v2', 'sentence-transformers/all-MiniLM-L6-v2', 'sentence-transformers/all-MiniLM-L6-v2', 'sentence-transformers/all-MiniLM-L6-v2', 'sentence-transformers/all-MiniLM-L6-v2', 'sentence-transformers/all-MiniLM-L6-v2', 'sentence-transformers/all-MiniLM-L6-v2', 'sentence-transformers/all-MiniLM-L6-v2', 'sentence-transformers/all-MiniLM-L6-v2', 'sentence-transformers/all-MiniLM-L6-v2', 'sentence-transformers/all-MiniLM-L6-v2', 'sentence-transformers/all-MiniLM-L6-v2', 'sentence-transformers/all-MiniLM-L6-v2', 'sentence-transformers/all-MiniLM-L6-v2', 'sentence-transformers/all-MiniLM-L6-v2', 'sentence-transformers/all-MiniLM-L6-v2', 'sentence-transformers/all-MiniLM-L6-v2'], 'model_dim': [384, 384, 384, 384, 384, 384, 384, 384, 384, 384, 384, 384, 384, 384, 384, 384, 384, 384, 384, 384, 384, 384], 'ret_k': [2, 7, 1, 4, 1, 4, 4, 9, 9, 10, 9, 9, 4, 5, 4, 7, 8, 8, 9, 5, 2, 1], 'recall@k': [0.15498797328057845, 0.15498797328057845, 0.15498797328057845, 0.15498797328057845, 0.15498797328057845, 0.15498797328057845, 0.15498797328057845, 0.15498797328057845, 0.15498797328057845, 0.15498797328057845, 0.14176854402770978, 0.14176854402770978, 0.15498797328057845, 0.15498797328057845, 0.15498797328057845, 0.15498797328057845, 0.1433708469987597, 0.15498797328057845, 0.14638864649578465, 0.15314932125422298, 0.15314932125422298, 0.15314932125422298], 'ndcg@k': [0.2029187472711757, 0.2029187472711757, 0.2029187472711757, 0.2029187472711757, 0.2029187472711757, 0.2029187472711757, 0.2029187472711757, 0.2029187472711757, 0.2029187472711757, 0.2029187472711757, 0.18317116199088398, 0.18317116199088398, 0.2029187472711757, 0.2029187472711757, 0.2029187472711757, 0.2029187472711757, 0.18390903207065956, 0.2029187472711757, 0.18719217617436318, 0.1948219880738463, 0.1948219880738463, 0.1948219880738463], 'f1@k': [0.13071176354799932, 0.13071176354799932, 0.13071176354799932, 0.13071176354799932, 0.13071176354799932, 0.13071176354799932, 0.13071176354799932, 0.13071176354799932, 0.13071176354799932, 0.13071176354799932, 0.12198332923876808, 0.12198332923876808, 0.13071176354799932, 0.13071176354799932, 0.13071176354799932, 0.13071176354799932, 0.12259174228191151, 0.13071176354799932, 0.12573388467454924, 0.12998851988458898, 0.12998851988458898, 0.12998851988458898], 'precision': [0.24334365325077406, 0.24334365325077406, 0.24334365325077406, 0.24334365325077406, 0.24334365325077406, 0.24334365325077406, 0.24334365325077406, 0.24334365325077406, 0.24334365325077406, 0.24334365325077406, 0.23467492260061923, 0.23467492260061923, 0.24334365325077406, 0.24334365325077406, 0.24334365325077406, 0.24334365325077406, 0.23529411764705882, 0.24334365325077406, 0.23931888544891644, 0.24365325077399386, 0.24365325077399386, 0.24365325077399386], 'algorithm': ['hnsw', 'hnsw', 'hnsw', 'hnsw', 'hnsw', 'hnsw', 'hnsw', 'hnsw', 'hnsw', 'hnsw', 'hnsw', 'hnsw', 'hnsw', 'hnsw', 'hnsw', 'hnsw', 'hnsw', 'hnsw', 'hnsw', 'hnsw', 'hnsw', 'hnsw'], 'ef_construction': [100, 200, 200, 300, 300, 300, 200, 300, 150, 150, 250, 200, 200, 100, 200, 150, 250, 200, 100, 300, 300, 300], 'ef_runtime': [30, 50, 50, 10, 50, 30, 50, 30, 30, 30, 20, 50, 50, 50, 30, 20, 50, 10, 50, 30, 30, 30], 'm': [8, 16, 8, 64, 16, 16, 16, 16, 8, 16, 16, 16, 8, 16, 8, 64, 64, 8, 8, 64, 64, 64], 'distance_metric': ['cosine', 'cosine', 'cosine', 'cosine', 'cosine', 'cosine', 'cosine', 'cosine', 'cosine', 'cosine', 'cosine', 'cosine', 'cosine', 'cosine', 'cosine', 'cosine', 'cosine', 'cosine', 'cosine', 'cosine', 'cosine', 'cosine'], 'vector_data_type': ['float32', 'float16', 'float32', 'float32', 'float16', 'float32', 'float32', 'float32', 'float16', 'float16', 'float16', 'float16', 'float16', 'float16', 'float32', 'float32', 'float32', 'float32', 'float16', 'float32', 'float32', 'float32']}\n"
     ]
    },
    {
     "name": "stderr",
     "output_type": "stream",
     "text": [
      "[I 2025-06-11 17:14:22,276] Trial 11 finished with value: 1.485 and parameters: {'model_info': {'type': 'hf', 'model': 'sentence-transformers/all-MiniLM-L6-v2', 'dim': 384, 'embedding_cache_name': 'vec-cache', 'dtype': 'float32'}, 'search_method': 'vector', 'algorithm': 'hnsw', 'var_dtype': 'float32', 'distance_metric': 'cosine', 'ret_k': 1, 'ef_runtime': 30, 'ef_construction': 300, 'm': 64}. Best is trial 9 with value: 1.485.\n"
     ]
    },
    {
     "name": "stdout",
     "output_type": "stream",
     "text": [
      "17:14:22 sentence_transformers.SentenceTransformer INFO   Load pretrained SentenceTransformer: sentence-transformers/all-MiniLM-L6-v2\n",
      "17:14:22 sentence_transformers.SentenceTransformer INFO   Use pytorch device_name: mps\n"
     ]
    },
    {
     "name": "stderr",
     "output_type": "stream",
     "text": [
      "Batches: 100%|██████████| 1/1 [00:00<00:00, 58.09it/s]"
     ]
    },
    {
     "name": "stdout",
     "output_type": "stream",
     "text": [
      "17:14:22 root INFO   Data indexed total_indexing_time=1.485s, num_docs=3633\n"
     ]
    },
    {
     "name": "stderr",
     "output_type": "stream",
     "text": [
      "\n"
     ]
    },
    {
     "name": "stdout",
     "output_type": "stream",
     "text": [
      "17:14:23 root INFO   Saving metrics for study: 88629332-3769-4ed6-9cec-2c950d5bbdb8, METRICS={'search_method': ['hybrid', 'hybrid', 'hybrid', 'hybrid', 'hybrid', 'hybrid', 'hybrid', 'hybrid', 'hybrid', 'hybrid', 'vector', 'vector', 'hybrid', 'hybrid', 'hybrid', 'hybrid', 'vector', 'hybrid', 'vector', 'vector', 'vector', 'vector', 'vector'], 'total_indexing_time': [0.995, 1.126, 1.238, 1.238, 1.251, 1.479, 1.479, 1.479, 0.989, 0.989, 0.989, 0.989, 0.989, 0.989, 1.169, 1.169, 1.169, 1.169, 0.896, 1.485, 1.485, 1.485, 1.485], 'avg_query_time': [0.001379058087942401, 0.0013568142988364393, 0.0014326011433320887, 0.0012770201030530427, 0.0012413067714348667, 0.0012326343878872994, 0.0011889233308679918, 0.0012138657525596972, 0.0012014170549233263, 0.0010982010017607604, 0.0007533724463022899, 0.0007078160442434967, 0.0011058761608489895, 0.0010777922237620635, 0.001361057116151225, 0.0012592014513517682, 0.0007849167744072599, 0.0012235671005012818, 0.0008107759635145819, 0.0008267116251375654, 0.0007707201659494878, 0.0007911887331274641, 0.0008472591730832315], 'model': ['sentence-transformers/all-MiniLM-L6-v2', 'sentence-transformers/all-MiniLM-L6-v2', 'sentence-transformers/all-MiniLM-L6-v2', 'sentence-transformers/all-MiniLM-L6-v2', 'sentence-transformers/all-MiniLM-L6-v2', 'sentence-transformers/all-MiniLM-L6-v2', 'sentence-transformers/all-MiniLM-L6-v2', 'sentence-transformers/all-MiniLM-L6-v2', 'sentence-transformers/all-MiniLM-L6-v2', 'sentence-transformers/all-MiniLM-L6-v2', 'sentence-transformers/all-MiniLM-L6-v2', 'sentence-transformers/all-MiniLM-L6-v2', 'sentence-transformers/all-MiniLM-L6-v2', 'sentence-transformers/all-MiniLM-L6-v2', 'sentence-transformers/all-MiniLM-L6-v2', 'sentence-transformers/all-MiniLM-L6-v2', 'sentence-transformers/all-MiniLM-L6-v2', 'sentence-transformers/all-MiniLM-L6-v2', 'sentence-transformers/all-MiniLM-L6-v2', 'sentence-transformers/all-MiniLM-L6-v2', 'sentence-transformers/all-MiniLM-L6-v2', 'sentence-transformers/all-MiniLM-L6-v2', 'sentence-transformers/all-MiniLM-L6-v2'], 'model_dim': [384, 384, 384, 384, 384, 384, 384, 384, 384, 384, 384, 384, 384, 384, 384, 384, 384, 384, 384, 384, 384, 384, 384], 'ret_k': [2, 7, 1, 4, 1, 4, 4, 9, 9, 10, 9, 9, 4, 5, 4, 7, 8, 8, 9, 5, 2, 1, 1], 'recall@k': [0.15498797328057845, 0.15498797328057845, 0.15498797328057845, 0.15498797328057845, 0.15498797328057845, 0.15498797328057845, 0.15498797328057845, 0.15498797328057845, 0.15498797328057845, 0.15498797328057845, 0.14176854402770978, 0.14176854402770978, 0.15498797328057845, 0.15498797328057845, 0.15498797328057845, 0.15498797328057845, 0.1433708469987597, 0.15498797328057845, 0.14638864649578465, 0.15314932125422298, 0.15314932125422298, 0.15314932125422298, 0.15314932125422298], 'ndcg@k': [0.2029187472711757, 0.2029187472711757, 0.2029187472711757, 0.2029187472711757, 0.2029187472711757, 0.2029187472711757, 0.2029187472711757, 0.2029187472711757, 0.2029187472711757, 0.2029187472711757, 0.18317116199088398, 0.18317116199088398, 0.2029187472711757, 0.2029187472711757, 0.2029187472711757, 0.2029187472711757, 0.18390903207065956, 0.2029187472711757, 0.18719217617436318, 0.1948219880738463, 0.1948219880738463, 0.1948219880738463, 0.1948219880738463], 'f1@k': [0.13071176354799932, 0.13071176354799932, 0.13071176354799932, 0.13071176354799932, 0.13071176354799932, 0.13071176354799932, 0.13071176354799932, 0.13071176354799932, 0.13071176354799932, 0.13071176354799932, 0.12198332923876808, 0.12198332923876808, 0.13071176354799932, 0.13071176354799932, 0.13071176354799932, 0.13071176354799932, 0.12259174228191151, 0.13071176354799932, 0.12573388467454924, 0.12998851988458898, 0.12998851988458898, 0.12998851988458898, 0.12998851988458898], 'precision': [0.24334365325077406, 0.24334365325077406, 0.24334365325077406, 0.24334365325077406, 0.24334365325077406, 0.24334365325077406, 0.24334365325077406, 0.24334365325077406, 0.24334365325077406, 0.24334365325077406, 0.23467492260061923, 0.23467492260061923, 0.24334365325077406, 0.24334365325077406, 0.24334365325077406, 0.24334365325077406, 0.23529411764705882, 0.24334365325077406, 0.23931888544891644, 0.24365325077399386, 0.24365325077399386, 0.24365325077399386, 0.24365325077399386], 'algorithm': ['hnsw', 'hnsw', 'hnsw', 'hnsw', 'hnsw', 'hnsw', 'hnsw', 'hnsw', 'hnsw', 'hnsw', 'hnsw', 'hnsw', 'hnsw', 'hnsw', 'hnsw', 'hnsw', 'hnsw', 'hnsw', 'hnsw', 'hnsw', 'hnsw', 'hnsw', 'hnsw'], 'ef_construction': [100, 200, 200, 300, 300, 300, 200, 300, 150, 150, 250, 200, 200, 100, 200, 150, 250, 200, 100, 300, 300, 300, 300], 'ef_runtime': [30, 50, 50, 10, 50, 30, 50, 30, 30, 30, 20, 50, 50, 50, 30, 20, 50, 10, 50, 30, 30, 30, 30], 'm': [8, 16, 8, 64, 16, 16, 16, 16, 8, 16, 16, 16, 8, 16, 8, 64, 64, 8, 8, 64, 64, 64, 64], 'distance_metric': ['cosine', 'cosine', 'cosine', 'cosine', 'cosine', 'cosine', 'cosine', 'cosine', 'cosine', 'cosine', 'cosine', 'cosine', 'cosine', 'cosine', 'cosine', 'cosine', 'cosine', 'cosine', 'cosine', 'cosine', 'cosine', 'cosine', 'cosine'], 'vector_data_type': ['float32', 'float16', 'float32', 'float32', 'float16', 'float32', 'float32', 'float32', 'float16', 'float16', 'float16', 'float16', 'float16', 'float16', 'float32', 'float32', 'float32', 'float32', 'float16', 'float32', 'float32', 'float32', 'float32']}\n"
     ]
    },
    {
     "name": "stderr",
     "output_type": "stream",
     "text": [
      "[I 2025-06-11 17:14:23,466] Trial 12 finished with value: 1.485 and parameters: {'model_info': {'type': 'hf', 'model': 'sentence-transformers/all-MiniLM-L6-v2', 'dim': 384, 'embedding_cache_name': 'vec-cache', 'dtype': 'float32'}, 'search_method': 'vector', 'algorithm': 'hnsw', 'var_dtype': 'float32', 'distance_metric': 'cosine', 'ret_k': 1, 'ef_runtime': 30, 'ef_construction': 300, 'm': 64}. Best is trial 9 with value: 1.485.\n"
     ]
    },
    {
     "name": "stdout",
     "output_type": "stream",
     "text": [
      "17:14:23 sentence_transformers.SentenceTransformer INFO   Load pretrained SentenceTransformer: sentence-transformers/all-MiniLM-L6-v2\n",
      "17:14:24 sentence_transformers.SentenceTransformer INFO   Use pytorch device_name: mps\n"
     ]
    },
    {
     "name": "stderr",
     "output_type": "stream",
     "text": [
      "Batches: 100%|██████████| 1/1 [00:00<00:00, 27.87it/s]"
     ]
    },
    {
     "name": "stdout",
     "output_type": "stream",
     "text": [
      "17:14:24 root INFO   Data indexed total_indexing_time=1.485s, num_docs=3633\n"
     ]
    },
    {
     "name": "stderr",
     "output_type": "stream",
     "text": [
      "\n"
     ]
    },
    {
     "name": "stdout",
     "output_type": "stream",
     "text": [
      "17:14:24 root INFO   Saving metrics for study: 88629332-3769-4ed6-9cec-2c950d5bbdb8, METRICS={'search_method': ['hybrid', 'hybrid', 'hybrid', 'hybrid', 'hybrid', 'hybrid', 'hybrid', 'hybrid', 'hybrid', 'hybrid', 'vector', 'vector', 'hybrid', 'hybrid', 'hybrid', 'hybrid', 'vector', 'hybrid', 'vector', 'vector', 'vector', 'vector', 'vector', 'vector'], 'total_indexing_time': [0.995, 1.126, 1.238, 1.238, 1.251, 1.479, 1.479, 1.479, 0.989, 0.989, 0.989, 0.989, 0.989, 0.989, 1.169, 1.169, 1.169, 1.169, 0.896, 1.485, 1.485, 1.485, 1.485, 1.485], 'avg_query_time': [0.001379058087942401, 0.0013568142988364393, 0.0014326011433320887, 0.0012770201030530427, 0.0012413067714348667, 0.0012326343878872994, 0.0011889233308679918, 0.0012138657525596972, 0.0012014170549233263, 0.0010982010017607604, 0.0007533724463022899, 0.0007078160442434967, 0.0011058761608489895, 0.0010777922237620635, 0.001361057116151225, 0.0012592014513517682, 0.0007849167744072599, 0.0012235671005012818, 0.0008107759635145819, 0.0008267116251375654, 0.0007707201659494878, 0.0007911887331274641, 0.0008472591730832315, 0.000798337599810432], 'model': ['sentence-transformers/all-MiniLM-L6-v2', 'sentence-transformers/all-MiniLM-L6-v2', 'sentence-transformers/all-MiniLM-L6-v2', 'sentence-transformers/all-MiniLM-L6-v2', 'sentence-transformers/all-MiniLM-L6-v2', 'sentence-transformers/all-MiniLM-L6-v2', 'sentence-transformers/all-MiniLM-L6-v2', 'sentence-transformers/all-MiniLM-L6-v2', 'sentence-transformers/all-MiniLM-L6-v2', 'sentence-transformers/all-MiniLM-L6-v2', 'sentence-transformers/all-MiniLM-L6-v2', 'sentence-transformers/all-MiniLM-L6-v2', 'sentence-transformers/all-MiniLM-L6-v2', 'sentence-transformers/all-MiniLM-L6-v2', 'sentence-transformers/all-MiniLM-L6-v2', 'sentence-transformers/all-MiniLM-L6-v2', 'sentence-transformers/all-MiniLM-L6-v2', 'sentence-transformers/all-MiniLM-L6-v2', 'sentence-transformers/all-MiniLM-L6-v2', 'sentence-transformers/all-MiniLM-L6-v2', 'sentence-transformers/all-MiniLM-L6-v2', 'sentence-transformers/all-MiniLM-L6-v2', 'sentence-transformers/all-MiniLM-L6-v2', 'sentence-transformers/all-MiniLM-L6-v2'], 'model_dim': [384, 384, 384, 384, 384, 384, 384, 384, 384, 384, 384, 384, 384, 384, 384, 384, 384, 384, 384, 384, 384, 384, 384, 384], 'ret_k': [2, 7, 1, 4, 1, 4, 4, 9, 9, 10, 9, 9, 4, 5, 4, 7, 8, 8, 9, 5, 2, 1, 1, 3], 'recall@k': [0.15498797328057845, 0.15498797328057845, 0.15498797328057845, 0.15498797328057845, 0.15498797328057845, 0.15498797328057845, 0.15498797328057845, 0.15498797328057845, 0.15498797328057845, 0.15498797328057845, 0.14176854402770978, 0.14176854402770978, 0.15498797328057845, 0.15498797328057845, 0.15498797328057845, 0.15498797328057845, 0.1433708469987597, 0.15498797328057845, 0.14638864649578465, 0.15314932125422298, 0.15314932125422298, 0.15314932125422298, 0.15314932125422298, 0.15314932125422298], 'ndcg@k': [0.2029187472711757, 0.2029187472711757, 0.2029187472711757, 0.2029187472711757, 0.2029187472711757, 0.2029187472711757, 0.2029187472711757, 0.2029187472711757, 0.2029187472711757, 0.2029187472711757, 0.18317116199088398, 0.18317116199088398, 0.2029187472711757, 0.2029187472711757, 0.2029187472711757, 0.2029187472711757, 0.18390903207065956, 0.2029187472711757, 0.18719217617436318, 0.1948219880738463, 0.1948219880738463, 0.1948219880738463, 0.1948219880738463, 0.1948219880738463], 'f1@k': [0.13071176354799932, 0.13071176354799932, 0.13071176354799932, 0.13071176354799932, 0.13071176354799932, 0.13071176354799932, 0.13071176354799932, 0.13071176354799932, 0.13071176354799932, 0.13071176354799932, 0.12198332923876808, 0.12198332923876808, 0.13071176354799932, 0.13071176354799932, 0.13071176354799932, 0.13071176354799932, 0.12259174228191151, 0.13071176354799932, 0.12573388467454924, 0.12998851988458898, 0.12998851988458898, 0.12998851988458898, 0.12998851988458898, 0.12998851988458898], 'precision': [0.24334365325077406, 0.24334365325077406, 0.24334365325077406, 0.24334365325077406, 0.24334365325077406, 0.24334365325077406, 0.24334365325077406, 0.24334365325077406, 0.24334365325077406, 0.24334365325077406, 0.23467492260061923, 0.23467492260061923, 0.24334365325077406, 0.24334365325077406, 0.24334365325077406, 0.24334365325077406, 0.23529411764705882, 0.24334365325077406, 0.23931888544891644, 0.24365325077399386, 0.24365325077399386, 0.24365325077399386, 0.24365325077399386, 0.24365325077399386], 'algorithm': ['hnsw', 'hnsw', 'hnsw', 'hnsw', 'hnsw', 'hnsw', 'hnsw', 'hnsw', 'hnsw', 'hnsw', 'hnsw', 'hnsw', 'hnsw', 'hnsw', 'hnsw', 'hnsw', 'hnsw', 'hnsw', 'hnsw', 'hnsw', 'hnsw', 'hnsw', 'hnsw', 'hnsw'], 'ef_construction': [100, 200, 200, 300, 300, 300, 200, 300, 150, 150, 250, 200, 200, 100, 200, 150, 250, 200, 100, 300, 300, 300, 300, 300], 'ef_runtime': [30, 50, 50, 10, 50, 30, 50, 30, 30, 30, 20, 50, 50, 50, 30, 20, 50, 10, 50, 30, 30, 30, 30, 30], 'm': [8, 16, 8, 64, 16, 16, 16, 16, 8, 16, 16, 16, 8, 16, 8, 64, 64, 8, 8, 64, 64, 64, 64, 64], 'distance_metric': ['cosine', 'cosine', 'cosine', 'cosine', 'cosine', 'cosine', 'cosine', 'cosine', 'cosine', 'cosine', 'cosine', 'cosine', 'cosine', 'cosine', 'cosine', 'cosine', 'cosine', 'cosine', 'cosine', 'cosine', 'cosine', 'cosine', 'cosine', 'cosine'], 'vector_data_type': ['float32', 'float16', 'float32', 'float32', 'float16', 'float32', 'float32', 'float32', 'float16', 'float16', 'float16', 'float16', 'float16', 'float16', 'float32', 'float32', 'float32', 'float32', 'float16', 'float32', 'float32', 'float32', 'float32', 'float32']}\n"
     ]
    },
    {
     "name": "stderr",
     "output_type": "stream",
     "text": [
      "[I 2025-06-11 17:14:24,996] Trial 13 finished with value: 1.485 and parameters: {'model_info': {'type': 'hf', 'model': 'sentence-transformers/all-MiniLM-L6-v2', 'dim': 384, 'embedding_cache_name': 'vec-cache', 'dtype': 'float32'}, 'search_method': 'vector', 'algorithm': 'hnsw', 'var_dtype': 'float32', 'distance_metric': 'cosine', 'ret_k': 3, 'ef_runtime': 30, 'ef_construction': 300, 'm': 64}. Best is trial 9 with value: 1.485.\n"
     ]
    },
    {
     "name": "stdout",
     "output_type": "stream",
     "text": [
      "17:14:25 sentence_transformers.SentenceTransformer INFO   Load pretrained SentenceTransformer: sentence-transformers/all-MiniLM-L6-v2\n",
      "17:14:25 sentence_transformers.SentenceTransformer INFO   Use pytorch device_name: mps\n"
     ]
    },
    {
     "name": "stderr",
     "output_type": "stream",
     "text": [
      "Batches: 100%|██████████| 1/1 [00:00<00:00, 103.16it/s]"
     ]
    },
    {
     "name": "stdout",
     "output_type": "stream",
     "text": [
      "17:14:25 root INFO   Data indexed total_indexing_time=1.485s, num_docs=3633\n"
     ]
    },
    {
     "name": "stderr",
     "output_type": "stream",
     "text": [
      "\n"
     ]
    },
    {
     "name": "stdout",
     "output_type": "stream",
     "text": [
      "17:14:26 root INFO   Saving metrics for study: 88629332-3769-4ed6-9cec-2c950d5bbdb8, METRICS={'search_method': ['hybrid', 'hybrid', 'hybrid', 'hybrid', 'hybrid', 'hybrid', 'hybrid', 'hybrid', 'hybrid', 'hybrid', 'vector', 'vector', 'hybrid', 'hybrid', 'hybrid', 'hybrid', 'vector', 'hybrid', 'vector', 'vector', 'vector', 'vector', 'vector', 'vector', 'vector'], 'total_indexing_time': [0.995, 1.126, 1.238, 1.238, 1.251, 1.479, 1.479, 1.479, 0.989, 0.989, 0.989, 0.989, 0.989, 0.989, 1.169, 1.169, 1.169, 1.169, 0.896, 1.485, 1.485, 1.485, 1.485, 1.485, 1.485], 'avg_query_time': [0.001379058087942401, 0.0013568142988364393, 0.0014326011433320887, 0.0012770201030530427, 0.0012413067714348667, 0.0012326343878872994, 0.0011889233308679918, 0.0012138657525596972, 0.0012014170549233263, 0.0010982010017607604, 0.0007533724463022899, 0.0007078160442434967, 0.0011058761608489895, 0.0010777922237620635, 0.001361057116151225, 0.0012592014513517682, 0.0007849167744072599, 0.0012235671005012818, 0.0008107759635145819, 0.0008267116251375654, 0.0007707201659494878, 0.0007911887331274641, 0.0008472591730832315, 0.000798337599810432, 0.0008438275694478038], 'model': ['sentence-transformers/all-MiniLM-L6-v2', 'sentence-transformers/all-MiniLM-L6-v2', 'sentence-transformers/all-MiniLM-L6-v2', 'sentence-transformers/all-MiniLM-L6-v2', 'sentence-transformers/all-MiniLM-L6-v2', 'sentence-transformers/all-MiniLM-L6-v2', 'sentence-transformers/all-MiniLM-L6-v2', 'sentence-transformers/all-MiniLM-L6-v2', 'sentence-transformers/all-MiniLM-L6-v2', 'sentence-transformers/all-MiniLM-L6-v2', 'sentence-transformers/all-MiniLM-L6-v2', 'sentence-transformers/all-MiniLM-L6-v2', 'sentence-transformers/all-MiniLM-L6-v2', 'sentence-transformers/all-MiniLM-L6-v2', 'sentence-transformers/all-MiniLM-L6-v2', 'sentence-transformers/all-MiniLM-L6-v2', 'sentence-transformers/all-MiniLM-L6-v2', 'sentence-transformers/all-MiniLM-L6-v2', 'sentence-transformers/all-MiniLM-L6-v2', 'sentence-transformers/all-MiniLM-L6-v2', 'sentence-transformers/all-MiniLM-L6-v2', 'sentence-transformers/all-MiniLM-L6-v2', 'sentence-transformers/all-MiniLM-L6-v2', 'sentence-transformers/all-MiniLM-L6-v2', 'sentence-transformers/all-MiniLM-L6-v2'], 'model_dim': [384, 384, 384, 384, 384, 384, 384, 384, 384, 384, 384, 384, 384, 384, 384, 384, 384, 384, 384, 384, 384, 384, 384, 384, 384], 'ret_k': [2, 7, 1, 4, 1, 4, 4, 9, 9, 10, 9, 9, 4, 5, 4, 7, 8, 8, 9, 5, 2, 1, 1, 3, 2], 'recall@k': [0.15498797328057845, 0.15498797328057845, 0.15498797328057845, 0.15498797328057845, 0.15498797328057845, 0.15498797328057845, 0.15498797328057845, 0.15498797328057845, 0.15498797328057845, 0.15498797328057845, 0.14176854402770978, 0.14176854402770978, 0.15498797328057845, 0.15498797328057845, 0.15498797328057845, 0.15498797328057845, 0.1433708469987597, 0.15498797328057845, 0.14638864649578465, 0.15314932125422298, 0.15314932125422298, 0.15314932125422298, 0.15314932125422298, 0.15314932125422298, 0.15314932125422298], 'ndcg@k': [0.2029187472711757, 0.2029187472711757, 0.2029187472711757, 0.2029187472711757, 0.2029187472711757, 0.2029187472711757, 0.2029187472711757, 0.2029187472711757, 0.2029187472711757, 0.2029187472711757, 0.18317116199088398, 0.18317116199088398, 0.2029187472711757, 0.2029187472711757, 0.2029187472711757, 0.2029187472711757, 0.18390903207065956, 0.2029187472711757, 0.18719217617436318, 0.1948219880738463, 0.1948219880738463, 0.1948219880738463, 0.1948219880738463, 0.1948219880738463, 0.1948219880738463], 'f1@k': [0.13071176354799932, 0.13071176354799932, 0.13071176354799932, 0.13071176354799932, 0.13071176354799932, 0.13071176354799932, 0.13071176354799932, 0.13071176354799932, 0.13071176354799932, 0.13071176354799932, 0.12198332923876808, 0.12198332923876808, 0.13071176354799932, 0.13071176354799932, 0.13071176354799932, 0.13071176354799932, 0.12259174228191151, 0.13071176354799932, 0.12573388467454924, 0.12998851988458898, 0.12998851988458898, 0.12998851988458898, 0.12998851988458898, 0.12998851988458898, 0.12998851988458898], 'precision': [0.24334365325077406, 0.24334365325077406, 0.24334365325077406, 0.24334365325077406, 0.24334365325077406, 0.24334365325077406, 0.24334365325077406, 0.24334365325077406, 0.24334365325077406, 0.24334365325077406, 0.23467492260061923, 0.23467492260061923, 0.24334365325077406, 0.24334365325077406, 0.24334365325077406, 0.24334365325077406, 0.23529411764705882, 0.24334365325077406, 0.23931888544891644, 0.24365325077399386, 0.24365325077399386, 0.24365325077399386, 0.24365325077399386, 0.24365325077399386, 0.24365325077399386], 'algorithm': ['hnsw', 'hnsw', 'hnsw', 'hnsw', 'hnsw', 'hnsw', 'hnsw', 'hnsw', 'hnsw', 'hnsw', 'hnsw', 'hnsw', 'hnsw', 'hnsw', 'hnsw', 'hnsw', 'hnsw', 'hnsw', 'hnsw', 'hnsw', 'hnsw', 'hnsw', 'hnsw', 'hnsw', 'hnsw'], 'ef_construction': [100, 200, 200, 300, 300, 300, 200, 300, 150, 150, 250, 200, 200, 100, 200, 150, 250, 200, 100, 300, 300, 300, 300, 300, 300], 'ef_runtime': [30, 50, 50, 10, 50, 30, 50, 30, 30, 30, 20, 50, 50, 50, 30, 20, 50, 10, 50, 30, 30, 30, 30, 30, 30], 'm': [8, 16, 8, 64, 16, 16, 16, 16, 8, 16, 16, 16, 8, 16, 8, 64, 64, 8, 8, 64, 64, 64, 64, 64, 64], 'distance_metric': ['cosine', 'cosine', 'cosine', 'cosine', 'cosine', 'cosine', 'cosine', 'cosine', 'cosine', 'cosine', 'cosine', 'cosine', 'cosine', 'cosine', 'cosine', 'cosine', 'cosine', 'cosine', 'cosine', 'cosine', 'cosine', 'cosine', 'cosine', 'cosine', 'cosine'], 'vector_data_type': ['float32', 'float16', 'float32', 'float32', 'float16', 'float32', 'float32', 'float32', 'float16', 'float16', 'float16', 'float16', 'float16', 'float16', 'float32', 'float32', 'float32', 'float32', 'float16', 'float32', 'float32', 'float32', 'float32', 'float32', 'float32']}\n"
     ]
    },
    {
     "name": "stderr",
     "output_type": "stream",
     "text": [
      "[I 2025-06-11 17:14:26,169] Trial 14 finished with value: 1.485 and parameters: {'model_info': {'type': 'hf', 'model': 'sentence-transformers/all-MiniLM-L6-v2', 'dim': 384, 'embedding_cache_name': 'vec-cache', 'dtype': 'float32'}, 'search_method': 'vector', 'algorithm': 'hnsw', 'var_dtype': 'float32', 'distance_metric': 'cosine', 'ret_k': 2, 'ef_runtime': 30, 'ef_construction': 300, 'm': 64}. Best is trial 9 with value: 1.485.\n"
     ]
    },
    {
     "name": "stdout",
     "output_type": "stream",
     "text": [
      "17:14:26 redisvl.index.index INFO   Index already exists, not overwriting.\n",
      "17:14:26 sentence_transformers.SentenceTransformer INFO   Load pretrained SentenceTransformer: sentence-transformers/all-MiniLM-L6-v2\n",
      "17:14:26 sentence_transformers.SentenceTransformer INFO   Use pytorch device_name: mps\n"
     ]
    },
    {
     "name": "stderr",
     "output_type": "stream",
     "text": [
      "Batches: 100%|██████████| 1/1 [00:00<00:00, 100.23it/s]"
     ]
    },
    {
     "name": "stdout",
     "output_type": "stream",
     "text": [
      "17:14:26 root INFO   Data indexed total_indexing_time=1.485s, num_docs=3633\n"
     ]
    },
    {
     "name": "stderr",
     "output_type": "stream",
     "text": [
      "\n"
     ]
    },
    {
     "name": "stdout",
     "output_type": "stream",
     "text": [
      "17:14:27 root INFO   Saving metrics for study: 88629332-3769-4ed6-9cec-2c950d5bbdb8, METRICS={'search_method': ['hybrid', 'hybrid', 'hybrid', 'hybrid', 'hybrid', 'hybrid', 'hybrid', 'hybrid', 'hybrid', 'hybrid', 'vector', 'vector', 'hybrid', 'hybrid', 'hybrid', 'hybrid', 'vector', 'hybrid', 'vector', 'vector', 'vector', 'vector', 'vector', 'vector', 'vector', 'vector'], 'total_indexing_time': [0.995, 1.126, 1.238, 1.238, 1.251, 1.479, 1.479, 1.479, 0.989, 0.989, 0.989, 0.989, 0.989, 0.989, 1.169, 1.169, 1.169, 1.169, 0.896, 1.485, 1.485, 1.485, 1.485, 1.485, 1.485, 1.485], 'avg_query_time': [0.001379058087942401, 0.0013568142988364393, 0.0014326011433320887, 0.0012770201030530427, 0.0012413067714348667, 0.0012326343878872994, 0.0011889233308679918, 0.0012138657525596972, 0.0012014170549233263, 0.0010982010017607604, 0.0007533724463022899, 0.0007078160442434967, 0.0011058761608489895, 0.0010777922237620635, 0.001361057116151225, 0.0012592014513517682, 0.0007849167744072599, 0.0012235671005012818, 0.0008107759635145819, 0.0008267116251375654, 0.0007707201659494878, 0.0007911887331274641, 0.0008472591730832315, 0.000798337599810432, 0.0008438275694478038, 0.0008013226299463041], 'model': ['sentence-transformers/all-MiniLM-L6-v2', 'sentence-transformers/all-MiniLM-L6-v2', 'sentence-transformers/all-MiniLM-L6-v2', 'sentence-transformers/all-MiniLM-L6-v2', 'sentence-transformers/all-MiniLM-L6-v2', 'sentence-transformers/all-MiniLM-L6-v2', 'sentence-transformers/all-MiniLM-L6-v2', 'sentence-transformers/all-MiniLM-L6-v2', 'sentence-transformers/all-MiniLM-L6-v2', 'sentence-transformers/all-MiniLM-L6-v2', 'sentence-transformers/all-MiniLM-L6-v2', 'sentence-transformers/all-MiniLM-L6-v2', 'sentence-transformers/all-MiniLM-L6-v2', 'sentence-transformers/all-MiniLM-L6-v2', 'sentence-transformers/all-MiniLM-L6-v2', 'sentence-transformers/all-MiniLM-L6-v2', 'sentence-transformers/all-MiniLM-L6-v2', 'sentence-transformers/all-MiniLM-L6-v2', 'sentence-transformers/all-MiniLM-L6-v2', 'sentence-transformers/all-MiniLM-L6-v2', 'sentence-transformers/all-MiniLM-L6-v2', 'sentence-transformers/all-MiniLM-L6-v2', 'sentence-transformers/all-MiniLM-L6-v2', 'sentence-transformers/all-MiniLM-L6-v2', 'sentence-transformers/all-MiniLM-L6-v2', 'sentence-transformers/all-MiniLM-L6-v2'], 'model_dim': [384, 384, 384, 384, 384, 384, 384, 384, 384, 384, 384, 384, 384, 384, 384, 384, 384, 384, 384, 384, 384, 384, 384, 384, 384, 384], 'ret_k': [2, 7, 1, 4, 1, 4, 4, 9, 9, 10, 9, 9, 4, 5, 4, 7, 8, 8, 9, 5, 2, 1, 1, 3, 2, 6], 'recall@k': [0.15498797328057845, 0.15498797328057845, 0.15498797328057845, 0.15498797328057845, 0.15498797328057845, 0.15498797328057845, 0.15498797328057845, 0.15498797328057845, 0.15498797328057845, 0.15498797328057845, 0.14176854402770978, 0.14176854402770978, 0.15498797328057845, 0.15498797328057845, 0.15498797328057845, 0.15498797328057845, 0.1433708469987597, 0.15498797328057845, 0.14638864649578465, 0.15314932125422298, 0.15314932125422298, 0.15314932125422298, 0.15314932125422298, 0.15314932125422298, 0.15314932125422298, 0.15314932125422298], 'ndcg@k': [0.2029187472711757, 0.2029187472711757, 0.2029187472711757, 0.2029187472711757, 0.2029187472711757, 0.2029187472711757, 0.2029187472711757, 0.2029187472711757, 0.2029187472711757, 0.2029187472711757, 0.18317116199088398, 0.18317116199088398, 0.2029187472711757, 0.2029187472711757, 0.2029187472711757, 0.2029187472711757, 0.18390903207065956, 0.2029187472711757, 0.18719217617436318, 0.1948219880738463, 0.1948219880738463, 0.1948219880738463, 0.1948219880738463, 0.1948219880738463, 0.1948219880738463, 0.1948219880738463], 'f1@k': [0.13071176354799932, 0.13071176354799932, 0.13071176354799932, 0.13071176354799932, 0.13071176354799932, 0.13071176354799932, 0.13071176354799932, 0.13071176354799932, 0.13071176354799932, 0.13071176354799932, 0.12198332923876808, 0.12198332923876808, 0.13071176354799932, 0.13071176354799932, 0.13071176354799932, 0.13071176354799932, 0.12259174228191151, 0.13071176354799932, 0.12573388467454924, 0.12998851988458898, 0.12998851988458898, 0.12998851988458898, 0.12998851988458898, 0.12998851988458898, 0.12998851988458898, 0.12998851988458898], 'precision': [0.24334365325077406, 0.24334365325077406, 0.24334365325077406, 0.24334365325077406, 0.24334365325077406, 0.24334365325077406, 0.24334365325077406, 0.24334365325077406, 0.24334365325077406, 0.24334365325077406, 0.23467492260061923, 0.23467492260061923, 0.24334365325077406, 0.24334365325077406, 0.24334365325077406, 0.24334365325077406, 0.23529411764705882, 0.24334365325077406, 0.23931888544891644, 0.24365325077399386, 0.24365325077399386, 0.24365325077399386, 0.24365325077399386, 0.24365325077399386, 0.24365325077399386, 0.24365325077399386], 'algorithm': ['hnsw', 'hnsw', 'hnsw', 'hnsw', 'hnsw', 'hnsw', 'hnsw', 'hnsw', 'hnsw', 'hnsw', 'hnsw', 'hnsw', 'hnsw', 'hnsw', 'hnsw', 'hnsw', 'hnsw', 'hnsw', 'hnsw', 'hnsw', 'hnsw', 'hnsw', 'hnsw', 'hnsw', 'hnsw', 'hnsw'], 'ef_construction': [100, 200, 200, 300, 300, 300, 200, 300, 150, 150, 250, 200, 200, 100, 200, 150, 250, 200, 100, 300, 300, 300, 300, 300, 300, 300], 'ef_runtime': [30, 50, 50, 10, 50, 30, 50, 30, 30, 30, 20, 50, 50, 50, 30, 20, 50, 10, 50, 30, 30, 30, 30, 30, 30, 10], 'm': [8, 16, 8, 64, 16, 16, 16, 16, 8, 16, 16, 16, 8, 16, 8, 64, 64, 8, 8, 64, 64, 64, 64, 64, 64, 64], 'distance_metric': ['cosine', 'cosine', 'cosine', 'cosine', 'cosine', 'cosine', 'cosine', 'cosine', 'cosine', 'cosine', 'cosine', 'cosine', 'cosine', 'cosine', 'cosine', 'cosine', 'cosine', 'cosine', 'cosine', 'cosine', 'cosine', 'cosine', 'cosine', 'cosine', 'cosine', 'cosine'], 'vector_data_type': ['float32', 'float16', 'float32', 'float32', 'float16', 'float32', 'float32', 'float32', 'float16', 'float16', 'float16', 'float16', 'float16', 'float16', 'float32', 'float32', 'float32', 'float32', 'float16', 'float32', 'float32', 'float32', 'float32', 'float32', 'float32', 'float32']}\n"
     ]
    },
    {
     "name": "stderr",
     "output_type": "stream",
     "text": [
      "[I 2025-06-11 17:14:27,128] Trial 15 finished with value: 1.485 and parameters: {'model_info': {'type': 'hf', 'model': 'sentence-transformers/all-MiniLM-L6-v2', 'dim': 384, 'embedding_cache_name': 'vec-cache', 'dtype': 'float32'}, 'search_method': 'vector', 'algorithm': 'hnsw', 'var_dtype': 'float32', 'distance_metric': 'cosine', 'ret_k': 6, 'ef_runtime': 10, 'ef_construction': 300, 'm': 64}. Best is trial 9 with value: 1.485.\n"
     ]
    },
    {
     "name": "stdout",
     "output_type": "stream",
     "text": [
      "17:14:27 redisvl.index.index INFO   Index already exists, not overwriting.\n",
      "17:14:27 sentence_transformers.SentenceTransformer INFO   Load pretrained SentenceTransformer: sentence-transformers/all-MiniLM-L6-v2\n",
      "17:14:27 sentence_transformers.SentenceTransformer INFO   Use pytorch device_name: mps\n"
     ]
    },
    {
     "name": "stderr",
     "output_type": "stream",
     "text": [
      "Batches: 100%|██████████| 1/1 [00:00<00:00, 97.69it/s]"
     ]
    },
    {
     "name": "stdout",
     "output_type": "stream",
     "text": [
      "17:14:27 root INFO   Data indexed total_indexing_time=1.485s, num_docs=3633\n"
     ]
    },
    {
     "name": "stderr",
     "output_type": "stream",
     "text": [
      "\n"
     ]
    },
    {
     "name": "stdout",
     "output_type": "stream",
     "text": [
      "17:14:28 root INFO   Saving metrics for study: 88629332-3769-4ed6-9cec-2c950d5bbdb8, METRICS={'search_method': ['hybrid', 'hybrid', 'hybrid', 'hybrid', 'hybrid', 'hybrid', 'hybrid', 'hybrid', 'hybrid', 'hybrid', 'vector', 'vector', 'hybrid', 'hybrid', 'hybrid', 'hybrid', 'vector', 'hybrid', 'vector', 'vector', 'vector', 'vector', 'vector', 'vector', 'vector', 'vector', 'vector'], 'total_indexing_time': [0.995, 1.126, 1.238, 1.238, 1.251, 1.479, 1.479, 1.479, 0.989, 0.989, 0.989, 0.989, 0.989, 0.989, 1.169, 1.169, 1.169, 1.169, 0.896, 1.485, 1.485, 1.485, 1.485, 1.485, 1.485, 1.485, 1.485], 'avg_query_time': [0.001379058087942401, 0.0013568142988364393, 0.0014326011433320887, 0.0012770201030530427, 0.0012413067714348667, 0.0012326343878872994, 0.0011889233308679918, 0.0012138657525596972, 0.0012014170549233263, 0.0010982010017607604, 0.0007533724463022899, 0.0007078160442434967, 0.0011058761608489895, 0.0010777922237620635, 0.001361057116151225, 0.0012592014513517682, 0.0007849167744072599, 0.0012235671005012818, 0.0008107759635145819, 0.0008267116251375654, 0.0007707201659494878, 0.0007911887331274641, 0.0008472591730832315, 0.000798337599810432, 0.0008438275694478038, 0.0008013226299463041, 0.000835788508317788], 'model': ['sentence-transformers/all-MiniLM-L6-v2', 'sentence-transformers/all-MiniLM-L6-v2', 'sentence-transformers/all-MiniLM-L6-v2', 'sentence-transformers/all-MiniLM-L6-v2', 'sentence-transformers/all-MiniLM-L6-v2', 'sentence-transformers/all-MiniLM-L6-v2', 'sentence-transformers/all-MiniLM-L6-v2', 'sentence-transformers/all-MiniLM-L6-v2', 'sentence-transformers/all-MiniLM-L6-v2', 'sentence-transformers/all-MiniLM-L6-v2', 'sentence-transformers/all-MiniLM-L6-v2', 'sentence-transformers/all-MiniLM-L6-v2', 'sentence-transformers/all-MiniLM-L6-v2', 'sentence-transformers/all-MiniLM-L6-v2', 'sentence-transformers/all-MiniLM-L6-v2', 'sentence-transformers/all-MiniLM-L6-v2', 'sentence-transformers/all-MiniLM-L6-v2', 'sentence-transformers/all-MiniLM-L6-v2', 'sentence-transformers/all-MiniLM-L6-v2', 'sentence-transformers/all-MiniLM-L6-v2', 'sentence-transformers/all-MiniLM-L6-v2', 'sentence-transformers/all-MiniLM-L6-v2', 'sentence-transformers/all-MiniLM-L6-v2', 'sentence-transformers/all-MiniLM-L6-v2', 'sentence-transformers/all-MiniLM-L6-v2', 'sentence-transformers/all-MiniLM-L6-v2', 'sentence-transformers/all-MiniLM-L6-v2'], 'model_dim': [384, 384, 384, 384, 384, 384, 384, 384, 384, 384, 384, 384, 384, 384, 384, 384, 384, 384, 384, 384, 384, 384, 384, 384, 384, 384, 384], 'ret_k': [2, 7, 1, 4, 1, 4, 4, 9, 9, 10, 9, 9, 4, 5, 4, 7, 8, 8, 9, 5, 2, 1, 1, 3, 2, 6, 5], 'recall@k': [0.15498797328057845, 0.15498797328057845, 0.15498797328057845, 0.15498797328057845, 0.15498797328057845, 0.15498797328057845, 0.15498797328057845, 0.15498797328057845, 0.15498797328057845, 0.15498797328057845, 0.14176854402770978, 0.14176854402770978, 0.15498797328057845, 0.15498797328057845, 0.15498797328057845, 0.15498797328057845, 0.1433708469987597, 0.15498797328057845, 0.14638864649578465, 0.15314932125422298, 0.15314932125422298, 0.15314932125422298, 0.15314932125422298, 0.15314932125422298, 0.15314932125422298, 0.15314932125422298, 0.15314932125422298], 'ndcg@k': [0.2029187472711757, 0.2029187472711757, 0.2029187472711757, 0.2029187472711757, 0.2029187472711757, 0.2029187472711757, 0.2029187472711757, 0.2029187472711757, 0.2029187472711757, 0.2029187472711757, 0.18317116199088398, 0.18317116199088398, 0.2029187472711757, 0.2029187472711757, 0.2029187472711757, 0.2029187472711757, 0.18390903207065956, 0.2029187472711757, 0.18719217617436318, 0.1948219880738463, 0.1948219880738463, 0.1948219880738463, 0.1948219880738463, 0.1948219880738463, 0.1948219880738463, 0.1948219880738463, 0.1948219880738463], 'f1@k': [0.13071176354799932, 0.13071176354799932, 0.13071176354799932, 0.13071176354799932, 0.13071176354799932, 0.13071176354799932, 0.13071176354799932, 0.13071176354799932, 0.13071176354799932, 0.13071176354799932, 0.12198332923876808, 0.12198332923876808, 0.13071176354799932, 0.13071176354799932, 0.13071176354799932, 0.13071176354799932, 0.12259174228191151, 0.13071176354799932, 0.12573388467454924, 0.12998851988458898, 0.12998851988458898, 0.12998851988458898, 0.12998851988458898, 0.12998851988458898, 0.12998851988458898, 0.12998851988458898, 0.12998851988458898], 'precision': [0.24334365325077406, 0.24334365325077406, 0.24334365325077406, 0.24334365325077406, 0.24334365325077406, 0.24334365325077406, 0.24334365325077406, 0.24334365325077406, 0.24334365325077406, 0.24334365325077406, 0.23467492260061923, 0.23467492260061923, 0.24334365325077406, 0.24334365325077406, 0.24334365325077406, 0.24334365325077406, 0.23529411764705882, 0.24334365325077406, 0.23931888544891644, 0.24365325077399386, 0.24365325077399386, 0.24365325077399386, 0.24365325077399386, 0.24365325077399386, 0.24365325077399386, 0.24365325077399386, 0.24365325077399386], 'algorithm': ['hnsw', 'hnsw', 'hnsw', 'hnsw', 'hnsw', 'hnsw', 'hnsw', 'hnsw', 'hnsw', 'hnsw', 'hnsw', 'hnsw', 'hnsw', 'hnsw', 'hnsw', 'hnsw', 'hnsw', 'hnsw', 'hnsw', 'hnsw', 'hnsw', 'hnsw', 'hnsw', 'hnsw', 'hnsw', 'hnsw', 'hnsw'], 'ef_construction': [100, 200, 200, 300, 300, 300, 200, 300, 150, 150, 250, 200, 200, 100, 200, 150, 250, 200, 100, 300, 300, 300, 300, 300, 300, 300, 150], 'ef_runtime': [30, 50, 50, 10, 50, 30, 50, 30, 30, 30, 20, 50, 50, 50, 30, 20, 50, 10, 50, 30, 30, 30, 30, 30, 30, 10, 30], 'm': [8, 16, 8, 64, 16, 16, 16, 16, 8, 16, 16, 16, 8, 16, 8, 64, 64, 8, 8, 64, 64, 64, 64, 64, 64, 64, 64], 'distance_metric': ['cosine', 'cosine', 'cosine', 'cosine', 'cosine', 'cosine', 'cosine', 'cosine', 'cosine', 'cosine', 'cosine', 'cosine', 'cosine', 'cosine', 'cosine', 'cosine', 'cosine', 'cosine', 'cosine', 'cosine', 'cosine', 'cosine', 'cosine', 'cosine', 'cosine', 'cosine', 'cosine'], 'vector_data_type': ['float32', 'float16', 'float32', 'float32', 'float16', 'float32', 'float32', 'float32', 'float16', 'float16', 'float16', 'float16', 'float16', 'float16', 'float32', 'float32', 'float32', 'float32', 'float16', 'float32', 'float32', 'float32', 'float32', 'float32', 'float32', 'float32', 'float32']}\n"
     ]
    },
    {
     "name": "stderr",
     "output_type": "stream",
     "text": [
      "[I 2025-06-11 17:14:28,095] Trial 16 finished with value: 1.485 and parameters: {'model_info': {'type': 'hf', 'model': 'sentence-transformers/all-MiniLM-L6-v2', 'dim': 384, 'embedding_cache_name': 'vec-cache', 'dtype': 'float32'}, 'search_method': 'vector', 'algorithm': 'hnsw', 'var_dtype': 'float32', 'distance_metric': 'cosine', 'ret_k': 5, 'ef_runtime': 30, 'ef_construction': 150, 'm': 64}. Best is trial 9 with value: 1.485.\n"
     ]
    },
    {
     "name": "stdout",
     "output_type": "stream",
     "text": [
      "17:14:28 redisvl.index.index INFO   Index already exists, not overwriting.\n",
      "17:14:28 sentence_transformers.SentenceTransformer INFO   Load pretrained SentenceTransformer: sentence-transformers/all-MiniLM-L6-v2\n",
      "17:14:28 sentence_transformers.SentenceTransformer INFO   Use pytorch device_name: mps\n"
     ]
    },
    {
     "name": "stderr",
     "output_type": "stream",
     "text": [
      "Batches: 100%|██████████| 1/1 [00:00<00:00, 62.88it/s]"
     ]
    },
    {
     "name": "stdout",
     "output_type": "stream",
     "text": [
      "17:14:28 root INFO   Data indexed total_indexing_time=1.485s, num_docs=3633\n"
     ]
    },
    {
     "name": "stderr",
     "output_type": "stream",
     "text": [
      "\n"
     ]
    },
    {
     "name": "stdout",
     "output_type": "stream",
     "text": [
      "17:14:29 root INFO   Saving metrics for study: 88629332-3769-4ed6-9cec-2c950d5bbdb8, METRICS={'search_method': ['hybrid', 'hybrid', 'hybrid', 'hybrid', 'hybrid', 'hybrid', 'hybrid', 'hybrid', 'hybrid', 'hybrid', 'vector', 'vector', 'hybrid', 'hybrid', 'hybrid', 'hybrid', 'vector', 'hybrid', 'vector', 'vector', 'vector', 'vector', 'vector', 'vector', 'vector', 'vector', 'vector', 'vector'], 'total_indexing_time': [0.995, 1.126, 1.238, 1.238, 1.251, 1.479, 1.479, 1.479, 0.989, 0.989, 0.989, 0.989, 0.989, 0.989, 1.169, 1.169, 1.169, 1.169, 0.896, 1.485, 1.485, 1.485, 1.485, 1.485, 1.485, 1.485, 1.485, 1.485], 'avg_query_time': [0.001379058087942401, 0.0013568142988364393, 0.0014326011433320887, 0.0012770201030530427, 0.0012413067714348667, 0.0012326343878872994, 0.0011889233308679918, 0.0012138657525596972, 0.0012014170549233263, 0.0010982010017607604, 0.0007533724463022899, 0.0007078160442434967, 0.0011058761608489895, 0.0010777922237620635, 0.001361057116151225, 0.0012592014513517682, 0.0007849167744072599, 0.0012235671005012818, 0.0008107759635145819, 0.0008267116251375654, 0.0007707201659494878, 0.0007911887331274641, 0.0008472591730832315, 0.000798337599810432, 0.0008438275694478038, 0.0008013226299463041, 0.000835788508317788, 0.000785802540026213], 'model': ['sentence-transformers/all-MiniLM-L6-v2', 'sentence-transformers/all-MiniLM-L6-v2', 'sentence-transformers/all-MiniLM-L6-v2', 'sentence-transformers/all-MiniLM-L6-v2', 'sentence-transformers/all-MiniLM-L6-v2', 'sentence-transformers/all-MiniLM-L6-v2', 'sentence-transformers/all-MiniLM-L6-v2', 'sentence-transformers/all-MiniLM-L6-v2', 'sentence-transformers/all-MiniLM-L6-v2', 'sentence-transformers/all-MiniLM-L6-v2', 'sentence-transformers/all-MiniLM-L6-v2', 'sentence-transformers/all-MiniLM-L6-v2', 'sentence-transformers/all-MiniLM-L6-v2', 'sentence-transformers/all-MiniLM-L6-v2', 'sentence-transformers/all-MiniLM-L6-v2', 'sentence-transformers/all-MiniLM-L6-v2', 'sentence-transformers/all-MiniLM-L6-v2', 'sentence-transformers/all-MiniLM-L6-v2', 'sentence-transformers/all-MiniLM-L6-v2', 'sentence-transformers/all-MiniLM-L6-v2', 'sentence-transformers/all-MiniLM-L6-v2', 'sentence-transformers/all-MiniLM-L6-v2', 'sentence-transformers/all-MiniLM-L6-v2', 'sentence-transformers/all-MiniLM-L6-v2', 'sentence-transformers/all-MiniLM-L6-v2', 'sentence-transformers/all-MiniLM-L6-v2', 'sentence-transformers/all-MiniLM-L6-v2', 'sentence-transformers/all-MiniLM-L6-v2'], 'model_dim': [384, 384, 384, 384, 384, 384, 384, 384, 384, 384, 384, 384, 384, 384, 384, 384, 384, 384, 384, 384, 384, 384, 384, 384, 384, 384, 384, 384], 'ret_k': [2, 7, 1, 4, 1, 4, 4, 9, 9, 10, 9, 9, 4, 5, 4, 7, 8, 8, 9, 5, 2, 1, 1, 3, 2, 6, 5, 3], 'recall@k': [0.15498797328057845, 0.15498797328057845, 0.15498797328057845, 0.15498797328057845, 0.15498797328057845, 0.15498797328057845, 0.15498797328057845, 0.15498797328057845, 0.15498797328057845, 0.15498797328057845, 0.14176854402770978, 0.14176854402770978, 0.15498797328057845, 0.15498797328057845, 0.15498797328057845, 0.15498797328057845, 0.1433708469987597, 0.15498797328057845, 0.14638864649578465, 0.15314932125422298, 0.15314932125422298, 0.15314932125422298, 0.15314932125422298, 0.15314932125422298, 0.15314932125422298, 0.15314932125422298, 0.15314932125422298, 0.15314932125422298], 'ndcg@k': [0.2029187472711757, 0.2029187472711757, 0.2029187472711757, 0.2029187472711757, 0.2029187472711757, 0.2029187472711757, 0.2029187472711757, 0.2029187472711757, 0.2029187472711757, 0.2029187472711757, 0.18317116199088398, 0.18317116199088398, 0.2029187472711757, 0.2029187472711757, 0.2029187472711757, 0.2029187472711757, 0.18390903207065956, 0.2029187472711757, 0.18719217617436318, 0.1948219880738463, 0.1948219880738463, 0.1948219880738463, 0.1948219880738463, 0.1948219880738463, 0.1948219880738463, 0.1948219880738463, 0.1948219880738463, 0.1948219880738463], 'f1@k': [0.13071176354799932, 0.13071176354799932, 0.13071176354799932, 0.13071176354799932, 0.13071176354799932, 0.13071176354799932, 0.13071176354799932, 0.13071176354799932, 0.13071176354799932, 0.13071176354799932, 0.12198332923876808, 0.12198332923876808, 0.13071176354799932, 0.13071176354799932, 0.13071176354799932, 0.13071176354799932, 0.12259174228191151, 0.13071176354799932, 0.12573388467454924, 0.12998851988458898, 0.12998851988458898, 0.12998851988458898, 0.12998851988458898, 0.12998851988458898, 0.12998851988458898, 0.12998851988458898, 0.12998851988458898, 0.12998851988458898], 'precision': [0.24334365325077406, 0.24334365325077406, 0.24334365325077406, 0.24334365325077406, 0.24334365325077406, 0.24334365325077406, 0.24334365325077406, 0.24334365325077406, 0.24334365325077406, 0.24334365325077406, 0.23467492260061923, 0.23467492260061923, 0.24334365325077406, 0.24334365325077406, 0.24334365325077406, 0.24334365325077406, 0.23529411764705882, 0.24334365325077406, 0.23931888544891644, 0.24365325077399386, 0.24365325077399386, 0.24365325077399386, 0.24365325077399386, 0.24365325077399386, 0.24365325077399386, 0.24365325077399386, 0.24365325077399386, 0.24365325077399386], 'algorithm': ['hnsw', 'hnsw', 'hnsw', 'hnsw', 'hnsw', 'hnsw', 'hnsw', 'hnsw', 'hnsw', 'hnsw', 'hnsw', 'hnsw', 'hnsw', 'hnsw', 'hnsw', 'hnsw', 'hnsw', 'hnsw', 'hnsw', 'hnsw', 'hnsw', 'hnsw', 'hnsw', 'hnsw', 'hnsw', 'hnsw', 'hnsw', 'hnsw'], 'ef_construction': [100, 200, 200, 300, 300, 300, 200, 300, 150, 150, 250, 200, 200, 100, 200, 150, 250, 200, 100, 300, 300, 300, 300, 300, 300, 300, 150, 300], 'ef_runtime': [30, 50, 50, 10, 50, 30, 50, 30, 30, 30, 20, 50, 50, 50, 30, 20, 50, 10, 50, 30, 30, 30, 30, 30, 30, 10, 30, 30], 'm': [8, 16, 8, 64, 16, 16, 16, 16, 8, 16, 16, 16, 8, 16, 8, 64, 64, 8, 8, 64, 64, 64, 64, 64, 64, 64, 64, 64], 'distance_metric': ['cosine', 'cosine', 'cosine', 'cosine', 'cosine', 'cosine', 'cosine', 'cosine', 'cosine', 'cosine', 'cosine', 'cosine', 'cosine', 'cosine', 'cosine', 'cosine', 'cosine', 'cosine', 'cosine', 'cosine', 'cosine', 'cosine', 'cosine', 'cosine', 'cosine', 'cosine', 'cosine', 'cosine'], 'vector_data_type': ['float32', 'float16', 'float32', 'float32', 'float16', 'float32', 'float32', 'float32', 'float16', 'float16', 'float16', 'float16', 'float16', 'float16', 'float32', 'float32', 'float32', 'float32', 'float16', 'float32', 'float32', 'float32', 'float32', 'float32', 'float32', 'float32', 'float32', 'float32']}\n"
     ]
    },
    {
     "name": "stderr",
     "output_type": "stream",
     "text": [
      "[I 2025-06-11 17:14:29,293] Trial 17 finished with value: 1.485 and parameters: {'model_info': {'type': 'hf', 'model': 'sentence-transformers/all-MiniLM-L6-v2', 'dim': 384, 'embedding_cache_name': 'vec-cache', 'dtype': 'float32'}, 'search_method': 'vector', 'algorithm': 'hnsw', 'var_dtype': 'float32', 'distance_metric': 'cosine', 'ret_k': 3, 'ef_runtime': 30, 'ef_construction': 300, 'm': 64}. Best is trial 9 with value: 1.485.\n"
     ]
    },
    {
     "name": "stdout",
     "output_type": "stream",
     "text": [
      "17:14:29 sentence_transformers.SentenceTransformer INFO   Load pretrained SentenceTransformer: sentence-transformers/all-MiniLM-L6-v2\n",
      "17:14:29 sentence_transformers.SentenceTransformer INFO   Use pytorch device_name: mps\n"
     ]
    },
    {
     "name": "stderr",
     "output_type": "stream",
     "text": [
      "Batches: 100%|██████████| 1/1 [00:00<00:00, 102.70it/s]"
     ]
    },
    {
     "name": "stdout",
     "output_type": "stream",
     "text": [
      "17:14:29 root INFO   Data indexed total_indexing_time=1.485s, num_docs=3633\n"
     ]
    },
    {
     "name": "stderr",
     "output_type": "stream",
     "text": [
      "\n"
     ]
    },
    {
     "name": "stdout",
     "output_type": "stream",
     "text": [
      "17:14:30 root INFO   Saving metrics for study: 88629332-3769-4ed6-9cec-2c950d5bbdb8, METRICS={'search_method': ['hybrid', 'hybrid', 'hybrid', 'hybrid', 'hybrid', 'hybrid', 'hybrid', 'hybrid', 'hybrid', 'hybrid', 'vector', 'vector', 'hybrid', 'hybrid', 'hybrid', 'hybrid', 'vector', 'hybrid', 'vector', 'vector', 'vector', 'vector', 'vector', 'vector', 'vector', 'vector', 'vector', 'vector', 'vector'], 'total_indexing_time': [0.995, 1.126, 1.238, 1.238, 1.251, 1.479, 1.479, 1.479, 0.989, 0.989, 0.989, 0.989, 0.989, 0.989, 1.169, 1.169, 1.169, 1.169, 0.896, 1.485, 1.485, 1.485, 1.485, 1.485, 1.485, 1.485, 1.485, 1.485, 1.485], 'avg_query_time': [0.001379058087942401, 0.0013568142988364393, 0.0014326011433320887, 0.0012770201030530427, 0.0012413067714348667, 0.0012326343878872994, 0.0011889233308679918, 0.0012138657525596972, 0.0012014170549233263, 0.0010982010017607604, 0.0007533724463022899, 0.0007078160442434967, 0.0011058761608489895, 0.0010777922237620635, 0.001361057116151225, 0.0012592014513517682, 0.0007849167744072599, 0.0012235671005012818, 0.0008107759635145819, 0.0008267116251375654, 0.0007707201659494878, 0.0007911887331274641, 0.0008472591730832315, 0.000798337599810432, 0.0008438275694478038, 0.0008013226299463041, 0.000835788508317788, 0.000785802540026213, 0.0007925911953574733], 'model': ['sentence-transformers/all-MiniLM-L6-v2', 'sentence-transformers/all-MiniLM-L6-v2', 'sentence-transformers/all-MiniLM-L6-v2', 'sentence-transformers/all-MiniLM-L6-v2', 'sentence-transformers/all-MiniLM-L6-v2', 'sentence-transformers/all-MiniLM-L6-v2', 'sentence-transformers/all-MiniLM-L6-v2', 'sentence-transformers/all-MiniLM-L6-v2', 'sentence-transformers/all-MiniLM-L6-v2', 'sentence-transformers/all-MiniLM-L6-v2', 'sentence-transformers/all-MiniLM-L6-v2', 'sentence-transformers/all-MiniLM-L6-v2', 'sentence-transformers/all-MiniLM-L6-v2', 'sentence-transformers/all-MiniLM-L6-v2', 'sentence-transformers/all-MiniLM-L6-v2', 'sentence-transformers/all-MiniLM-L6-v2', 'sentence-transformers/all-MiniLM-L6-v2', 'sentence-transformers/all-MiniLM-L6-v2', 'sentence-transformers/all-MiniLM-L6-v2', 'sentence-transformers/all-MiniLM-L6-v2', 'sentence-transformers/all-MiniLM-L6-v2', 'sentence-transformers/all-MiniLM-L6-v2', 'sentence-transformers/all-MiniLM-L6-v2', 'sentence-transformers/all-MiniLM-L6-v2', 'sentence-transformers/all-MiniLM-L6-v2', 'sentence-transformers/all-MiniLM-L6-v2', 'sentence-transformers/all-MiniLM-L6-v2', 'sentence-transformers/all-MiniLM-L6-v2', 'sentence-transformers/all-MiniLM-L6-v2'], 'model_dim': [384, 384, 384, 384, 384, 384, 384, 384, 384, 384, 384, 384, 384, 384, 384, 384, 384, 384, 384, 384, 384, 384, 384, 384, 384, 384, 384, 384, 384], 'ret_k': [2, 7, 1, 4, 1, 4, 4, 9, 9, 10, 9, 9, 4, 5, 4, 7, 8, 8, 9, 5, 2, 1, 1, 3, 2, 6, 5, 3, 6], 'recall@k': [0.15498797328057845, 0.15498797328057845, 0.15498797328057845, 0.15498797328057845, 0.15498797328057845, 0.15498797328057845, 0.15498797328057845, 0.15498797328057845, 0.15498797328057845, 0.15498797328057845, 0.14176854402770978, 0.14176854402770978, 0.15498797328057845, 0.15498797328057845, 0.15498797328057845, 0.15498797328057845, 0.1433708469987597, 0.15498797328057845, 0.14638864649578465, 0.15314932125422298, 0.15314932125422298, 0.15314932125422298, 0.15314932125422298, 0.15314932125422298, 0.15314932125422298, 0.15314932125422298, 0.15314932125422298, 0.15314932125422298, 0.15314932125422298], 'ndcg@k': [0.2029187472711757, 0.2029187472711757, 0.2029187472711757, 0.2029187472711757, 0.2029187472711757, 0.2029187472711757, 0.2029187472711757, 0.2029187472711757, 0.2029187472711757, 0.2029187472711757, 0.18317116199088398, 0.18317116199088398, 0.2029187472711757, 0.2029187472711757, 0.2029187472711757, 0.2029187472711757, 0.18390903207065956, 0.2029187472711757, 0.18719217617436318, 0.1948219880738463, 0.1948219880738463, 0.1948219880738463, 0.1948219880738463, 0.1948219880738463, 0.1948219880738463, 0.1948219880738463, 0.1948219880738463, 0.1948219880738463, 0.1948219880738463], 'f1@k': [0.13071176354799932, 0.13071176354799932, 0.13071176354799932, 0.13071176354799932, 0.13071176354799932, 0.13071176354799932, 0.13071176354799932, 0.13071176354799932, 0.13071176354799932, 0.13071176354799932, 0.12198332923876808, 0.12198332923876808, 0.13071176354799932, 0.13071176354799932, 0.13071176354799932, 0.13071176354799932, 0.12259174228191151, 0.13071176354799932, 0.12573388467454924, 0.12998851988458898, 0.12998851988458898, 0.12998851988458898, 0.12998851988458898, 0.12998851988458898, 0.12998851988458898, 0.12998851988458898, 0.12998851988458898, 0.12998851988458898, 0.12998851988458898], 'precision': [0.24334365325077406, 0.24334365325077406, 0.24334365325077406, 0.24334365325077406, 0.24334365325077406, 0.24334365325077406, 0.24334365325077406, 0.24334365325077406, 0.24334365325077406, 0.24334365325077406, 0.23467492260061923, 0.23467492260061923, 0.24334365325077406, 0.24334365325077406, 0.24334365325077406, 0.24334365325077406, 0.23529411764705882, 0.24334365325077406, 0.23931888544891644, 0.24365325077399386, 0.24365325077399386, 0.24365325077399386, 0.24365325077399386, 0.24365325077399386, 0.24365325077399386, 0.24365325077399386, 0.24365325077399386, 0.24365325077399386, 0.24365325077399386], 'algorithm': ['hnsw', 'hnsw', 'hnsw', 'hnsw', 'hnsw', 'hnsw', 'hnsw', 'hnsw', 'hnsw', 'hnsw', 'hnsw', 'hnsw', 'hnsw', 'hnsw', 'hnsw', 'hnsw', 'hnsw', 'hnsw', 'hnsw', 'hnsw', 'hnsw', 'hnsw', 'hnsw', 'hnsw', 'hnsw', 'hnsw', 'hnsw', 'hnsw', 'hnsw'], 'ef_construction': [100, 200, 200, 300, 300, 300, 200, 300, 150, 150, 250, 200, 200, 100, 200, 150, 250, 200, 100, 300, 300, 300, 300, 300, 300, 300, 150, 300, 300], 'ef_runtime': [30, 50, 50, 10, 50, 30, 50, 30, 30, 30, 20, 50, 50, 50, 30, 20, 50, 10, 50, 30, 30, 30, 30, 30, 30, 10, 30, 30, 30], 'm': [8, 16, 8, 64, 16, 16, 16, 16, 8, 16, 16, 16, 8, 16, 8, 64, 64, 8, 8, 64, 64, 64, 64, 64, 64, 64, 64, 64, 64], 'distance_metric': ['cosine', 'cosine', 'cosine', 'cosine', 'cosine', 'cosine', 'cosine', 'cosine', 'cosine', 'cosine', 'cosine', 'cosine', 'cosine', 'cosine', 'cosine', 'cosine', 'cosine', 'cosine', 'cosine', 'cosine', 'cosine', 'cosine', 'cosine', 'cosine', 'cosine', 'cosine', 'cosine', 'cosine', 'cosine'], 'vector_data_type': ['float32', 'float16', 'float32', 'float32', 'float16', 'float32', 'float32', 'float32', 'float16', 'float16', 'float16', 'float16', 'float16', 'float16', 'float32', 'float32', 'float32', 'float32', 'float16', 'float32', 'float32', 'float32', 'float32', 'float32', 'float32', 'float32', 'float32', 'float32', 'float32']}\n"
     ]
    },
    {
     "name": "stderr",
     "output_type": "stream",
     "text": [
      "[I 2025-06-11 17:14:30,312] Trial 18 finished with value: 1.485 and parameters: {'model_info': {'type': 'hf', 'model': 'sentence-transformers/all-MiniLM-L6-v2', 'dim': 384, 'embedding_cache_name': 'vec-cache', 'dtype': 'float32'}, 'search_method': 'vector', 'algorithm': 'hnsw', 'var_dtype': 'float32', 'distance_metric': 'cosine', 'ret_k': 6, 'ef_runtime': 30, 'ef_construction': 300, 'm': 64}. Best is trial 9 with value: 1.485.\n"
     ]
    },
    {
     "name": "stdout",
     "output_type": "stream",
     "text": [
      "17:14:30 redisvl.index.index INFO   Index already exists, not overwriting.\n",
      "17:14:30 sentence_transformers.SentenceTransformer INFO   Load pretrained SentenceTransformer: sentence-transformers/all-MiniLM-L6-v2\n",
      "17:14:31 sentence_transformers.SentenceTransformer INFO   Use pytorch device_name: mps\n"
     ]
    },
    {
     "name": "stderr",
     "output_type": "stream",
     "text": [
      "Batches: 100%|██████████| 1/1 [00:00<00:00, 64.48it/s]"
     ]
    },
    {
     "name": "stdout",
     "output_type": "stream",
     "text": [
      "17:14:31 root INFO   Data indexed total_indexing_time=1.485s, num_docs=3633\n"
     ]
    },
    {
     "name": "stderr",
     "output_type": "stream",
     "text": [
      "\n"
     ]
    },
    {
     "name": "stdout",
     "output_type": "stream",
     "text": [
      "17:14:31 root INFO   Saving metrics for study: 88629332-3769-4ed6-9cec-2c950d5bbdb8, METRICS={'search_method': ['hybrid', 'hybrid', 'hybrid', 'hybrid', 'hybrid', 'hybrid', 'hybrid', 'hybrid', 'hybrid', 'hybrid', 'vector', 'vector', 'hybrid', 'hybrid', 'hybrid', 'hybrid', 'vector', 'hybrid', 'vector', 'vector', 'vector', 'vector', 'vector', 'vector', 'vector', 'vector', 'vector', 'vector', 'vector', 'vector'], 'total_indexing_time': [0.995, 1.126, 1.238, 1.238, 1.251, 1.479, 1.479, 1.479, 0.989, 0.989, 0.989, 0.989, 0.989, 0.989, 1.169, 1.169, 1.169, 1.169, 0.896, 1.485, 1.485, 1.485, 1.485, 1.485, 1.485, 1.485, 1.485, 1.485, 1.485, 1.485], 'avg_query_time': [0.001379058087942401, 0.0013568142988364393, 0.0014326011433320887, 0.0012770201030530427, 0.0012413067714348667, 0.0012326343878872994, 0.0011889233308679918, 0.0012138657525596972, 0.0012014170549233263, 0.0010982010017607604, 0.0007533724463022899, 0.0007078160442434967, 0.0011058761608489895, 0.0010777922237620635, 0.001361057116151225, 0.0012592014513517682, 0.0007849167744072599, 0.0012235671005012818, 0.0008107759635145819, 0.0008267116251375654, 0.0007707201659494878, 0.0007911887331274641, 0.0008472591730832315, 0.000798337599810432, 0.0008438275694478038, 0.0008013226299463041, 0.000835788508317788, 0.000785802540026213, 0.0007925911953574733, 0.0007776645684020807], 'model': ['sentence-transformers/all-MiniLM-L6-v2', 'sentence-transformers/all-MiniLM-L6-v2', 'sentence-transformers/all-MiniLM-L6-v2', 'sentence-transformers/all-MiniLM-L6-v2', 'sentence-transformers/all-MiniLM-L6-v2', 'sentence-transformers/all-MiniLM-L6-v2', 'sentence-transformers/all-MiniLM-L6-v2', 'sentence-transformers/all-MiniLM-L6-v2', 'sentence-transformers/all-MiniLM-L6-v2', 'sentence-transformers/all-MiniLM-L6-v2', 'sentence-transformers/all-MiniLM-L6-v2', 'sentence-transformers/all-MiniLM-L6-v2', 'sentence-transformers/all-MiniLM-L6-v2', 'sentence-transformers/all-MiniLM-L6-v2', 'sentence-transformers/all-MiniLM-L6-v2', 'sentence-transformers/all-MiniLM-L6-v2', 'sentence-transformers/all-MiniLM-L6-v2', 'sentence-transformers/all-MiniLM-L6-v2', 'sentence-transformers/all-MiniLM-L6-v2', 'sentence-transformers/all-MiniLM-L6-v2', 'sentence-transformers/all-MiniLM-L6-v2', 'sentence-transformers/all-MiniLM-L6-v2', 'sentence-transformers/all-MiniLM-L6-v2', 'sentence-transformers/all-MiniLM-L6-v2', 'sentence-transformers/all-MiniLM-L6-v2', 'sentence-transformers/all-MiniLM-L6-v2', 'sentence-transformers/all-MiniLM-L6-v2', 'sentence-transformers/all-MiniLM-L6-v2', 'sentence-transformers/all-MiniLM-L6-v2', 'sentence-transformers/all-MiniLM-L6-v2'], 'model_dim': [384, 384, 384, 384, 384, 384, 384, 384, 384, 384, 384, 384, 384, 384, 384, 384, 384, 384, 384, 384, 384, 384, 384, 384, 384, 384, 384, 384, 384, 384], 'ret_k': [2, 7, 1, 4, 1, 4, 4, 9, 9, 10, 9, 9, 4, 5, 4, 7, 8, 8, 9, 5, 2, 1, 1, 3, 2, 6, 5, 3, 6, 2], 'recall@k': [0.15498797328057845, 0.15498797328057845, 0.15498797328057845, 0.15498797328057845, 0.15498797328057845, 0.15498797328057845, 0.15498797328057845, 0.15498797328057845, 0.15498797328057845, 0.15498797328057845, 0.14176854402770978, 0.14176854402770978, 0.15498797328057845, 0.15498797328057845, 0.15498797328057845, 0.15498797328057845, 0.1433708469987597, 0.15498797328057845, 0.14638864649578465, 0.15314932125422298, 0.15314932125422298, 0.15314932125422298, 0.15314932125422298, 0.15314932125422298, 0.15314932125422298, 0.15314932125422298, 0.15314932125422298, 0.15314932125422298, 0.15314932125422298, 0.15314932125422298], 'ndcg@k': [0.2029187472711757, 0.2029187472711757, 0.2029187472711757, 0.2029187472711757, 0.2029187472711757, 0.2029187472711757, 0.2029187472711757, 0.2029187472711757, 0.2029187472711757, 0.2029187472711757, 0.18317116199088398, 0.18317116199088398, 0.2029187472711757, 0.2029187472711757, 0.2029187472711757, 0.2029187472711757, 0.18390903207065956, 0.2029187472711757, 0.18719217617436318, 0.1948219880738463, 0.1948219880738463, 0.1948219880738463, 0.1948219880738463, 0.1948219880738463, 0.1948219880738463, 0.1948219880738463, 0.1948219880738463, 0.1948219880738463, 0.1948219880738463, 0.1948219880738463], 'f1@k': [0.13071176354799932, 0.13071176354799932, 0.13071176354799932, 0.13071176354799932, 0.13071176354799932, 0.13071176354799932, 0.13071176354799932, 0.13071176354799932, 0.13071176354799932, 0.13071176354799932, 0.12198332923876808, 0.12198332923876808, 0.13071176354799932, 0.13071176354799932, 0.13071176354799932, 0.13071176354799932, 0.12259174228191151, 0.13071176354799932, 0.12573388467454924, 0.12998851988458898, 0.12998851988458898, 0.12998851988458898, 0.12998851988458898, 0.12998851988458898, 0.12998851988458898, 0.12998851988458898, 0.12998851988458898, 0.12998851988458898, 0.12998851988458898, 0.12998851988458898], 'precision': [0.24334365325077406, 0.24334365325077406, 0.24334365325077406, 0.24334365325077406, 0.24334365325077406, 0.24334365325077406, 0.24334365325077406, 0.24334365325077406, 0.24334365325077406, 0.24334365325077406, 0.23467492260061923, 0.23467492260061923, 0.24334365325077406, 0.24334365325077406, 0.24334365325077406, 0.24334365325077406, 0.23529411764705882, 0.24334365325077406, 0.23931888544891644, 0.24365325077399386, 0.24365325077399386, 0.24365325077399386, 0.24365325077399386, 0.24365325077399386, 0.24365325077399386, 0.24365325077399386, 0.24365325077399386, 0.24365325077399386, 0.24365325077399386, 0.24365325077399386], 'algorithm': ['hnsw', 'hnsw', 'hnsw', 'hnsw', 'hnsw', 'hnsw', 'hnsw', 'hnsw', 'hnsw', 'hnsw', 'hnsw', 'hnsw', 'hnsw', 'hnsw', 'hnsw', 'hnsw', 'hnsw', 'hnsw', 'hnsw', 'hnsw', 'hnsw', 'hnsw', 'hnsw', 'hnsw', 'hnsw', 'hnsw', 'hnsw', 'hnsw', 'hnsw', 'hnsw'], 'ef_construction': [100, 200, 200, 300, 300, 300, 200, 300, 150, 150, 250, 200, 200, 100, 200, 150, 250, 200, 100, 300, 300, 300, 300, 300, 300, 300, 150, 300, 300, 300], 'ef_runtime': [30, 50, 50, 10, 50, 30, 50, 30, 30, 30, 20, 50, 50, 50, 30, 20, 50, 10, 50, 30, 30, 30, 30, 30, 30, 10, 30, 30, 30, 20], 'm': [8, 16, 8, 64, 16, 16, 16, 16, 8, 16, 16, 16, 8, 16, 8, 64, 64, 8, 8, 64, 64, 64, 64, 64, 64, 64, 64, 64, 64, 16], 'distance_metric': ['cosine', 'cosine', 'cosine', 'cosine', 'cosine', 'cosine', 'cosine', 'cosine', 'cosine', 'cosine', 'cosine', 'cosine', 'cosine', 'cosine', 'cosine', 'cosine', 'cosine', 'cosine', 'cosine', 'cosine', 'cosine', 'cosine', 'cosine', 'cosine', 'cosine', 'cosine', 'cosine', 'cosine', 'cosine', 'cosine'], 'vector_data_type': ['float32', 'float16', 'float32', 'float32', 'float16', 'float32', 'float32', 'float32', 'float16', 'float16', 'float16', 'float16', 'float16', 'float16', 'float32', 'float32', 'float32', 'float32', 'float16', 'float32', 'float32', 'float32', 'float32', 'float32', 'float32', 'float32', 'float32', 'float32', 'float32', 'float32']}\n"
     ]
    },
    {
     "name": "stderr",
     "output_type": "stream",
     "text": [
      "[I 2025-06-11 17:14:31,624] Trial 19 finished with value: 1.485 and parameters: {'model_info': {'type': 'hf', 'model': 'sentence-transformers/all-MiniLM-L6-v2', 'dim': 384, 'embedding_cache_name': 'vec-cache', 'dtype': 'float32'}, 'search_method': 'vector', 'algorithm': 'hnsw', 'var_dtype': 'float32', 'distance_metric': 'cosine', 'ret_k': 2, 'ef_runtime': 20, 'ef_construction': 300, 'm': 16}. Best is trial 9 with value: 1.485.\n"
     ]
    },
    {
     "name": "stdout",
     "output_type": "stream",
     "text": [
      "17:14:31 root INFO   Completed Bayesian optimization... \n",
      "\n",
      "\n",
      "17:14:31 root INFO   Best Configuration: 9: {'model_info': {'type': 'hf', 'model': 'sentence-transformers/all-MiniLM-L6-v2', 'dim': 384, 'embedding_cache_name': 'vec-cache', 'dtype': 'float32'}, 'search_method': 'vector', 'algorithm': 'hnsw', 'var_dtype': 'float32', 'distance_metric': 'cosine', 'ret_k': 5, 'ef_runtime': 30, 'ef_construction': 300, 'm': 64}:\n",
      "\n",
      "\n",
      "17:14:31 root INFO   Best Score: [1.485]\n",
      "\n",
      "\n"
     ]
    }
   ],
   "source": [
    "import os\n",
    "from redis_retrieval_optimizer.bayes_study import run_bayes_study\n",
    "from redis_retrieval_optimizer.corpus_processors import eval_beir\n",
    "from dotenv import load_dotenv\n",
    "\n",
    "# load environment variables containing necessary credentials\n",
    "load_dotenv()\n",
    "\n",
    "redis_url = os.environ.get(\"REDIS_URL\", \"redis://localhost:6379/0\")\n",
    "\n",
    "metrics = run_bayes_study(\n",
    "    config_path=\"bayes_study_config.yaml\",\n",
    "    redis_url=redis_url,\n",
    "    corpus_processor=eval_beir.process_corpus\n",
    ")"
   ]
  },
  {
   "cell_type": "code",
   "execution_count": 6,
   "id": "2c140e85",
   "metadata": {},
   "outputs": [
    {
     "data": {
      "text/html": [
       "<div>\n",
       "<style scoped>\n",
       "    .dataframe tbody tr th:only-of-type {\n",
       "        vertical-align: middle;\n",
       "    }\n",
       "\n",
       "    .dataframe tbody tr th {\n",
       "        vertical-align: top;\n",
       "    }\n",
       "\n",
       "    .dataframe thead th {\n",
       "        text-align: right;\n",
       "    }\n",
       "</style>\n",
       "<table border=\"1\" class=\"dataframe\">\n",
       "  <thead>\n",
       "    <tr style=\"text-align: right;\">\n",
       "      <th></th>\n",
       "      <th>search_method</th>\n",
       "      <th>algorithm</th>\n",
       "      <th>vector_data_type</th>\n",
       "      <th>ef_construction</th>\n",
       "      <th>ef_runtime</th>\n",
       "      <th>m</th>\n",
       "      <th>avg_query_time</th>\n",
       "      <th>total_indexing_time</th>\n",
       "      <th>f1@k</th>\n",
       "    </tr>\n",
       "  </thead>\n",
       "  <tbody>\n",
       "    <tr>\n",
       "      <th>0</th>\n",
       "      <td>hybrid</td>\n",
       "      <td>hnsw</td>\n",
       "      <td>float32</td>\n",
       "      <td>100</td>\n",
       "      <td>30</td>\n",
       "      <td>8</td>\n",
       "      <td>0.001379</td>\n",
       "      <td>0.995</td>\n",
       "      <td>0.130712</td>\n",
       "    </tr>\n",
       "    <tr>\n",
       "      <th>8</th>\n",
       "      <td>hybrid</td>\n",
       "      <td>hnsw</td>\n",
       "      <td>float16</td>\n",
       "      <td>150</td>\n",
       "      <td>30</td>\n",
       "      <td>8</td>\n",
       "      <td>0.001201</td>\n",
       "      <td>0.989</td>\n",
       "      <td>0.130712</td>\n",
       "    </tr>\n",
       "    <tr>\n",
       "      <th>17</th>\n",
       "      <td>hybrid</td>\n",
       "      <td>hnsw</td>\n",
       "      <td>float32</td>\n",
       "      <td>200</td>\n",
       "      <td>10</td>\n",
       "      <td>8</td>\n",
       "      <td>0.001224</td>\n",
       "      <td>1.169</td>\n",
       "      <td>0.130712</td>\n",
       "    </tr>\n",
       "    <tr>\n",
       "      <th>1</th>\n",
       "      <td>hybrid</td>\n",
       "      <td>hnsw</td>\n",
       "      <td>float16</td>\n",
       "      <td>200</td>\n",
       "      <td>50</td>\n",
       "      <td>16</td>\n",
       "      <td>0.001357</td>\n",
       "      <td>1.126</td>\n",
       "      <td>0.130712</td>\n",
       "    </tr>\n",
       "    <tr>\n",
       "      <th>14</th>\n",
       "      <td>hybrid</td>\n",
       "      <td>hnsw</td>\n",
       "      <td>float32</td>\n",
       "      <td>200</td>\n",
       "      <td>30</td>\n",
       "      <td>8</td>\n",
       "      <td>0.001361</td>\n",
       "      <td>1.169</td>\n",
       "      <td>0.130712</td>\n",
       "    </tr>\n",
       "    <tr>\n",
       "      <th>13</th>\n",
       "      <td>hybrid</td>\n",
       "      <td>hnsw</td>\n",
       "      <td>float16</td>\n",
       "      <td>100</td>\n",
       "      <td>50</td>\n",
       "      <td>16</td>\n",
       "      <td>0.001078</td>\n",
       "      <td>0.989</td>\n",
       "      <td>0.130712</td>\n",
       "    </tr>\n",
       "    <tr>\n",
       "      <th>12</th>\n",
       "      <td>hybrid</td>\n",
       "      <td>hnsw</td>\n",
       "      <td>float16</td>\n",
       "      <td>200</td>\n",
       "      <td>50</td>\n",
       "      <td>8</td>\n",
       "      <td>0.001106</td>\n",
       "      <td>0.989</td>\n",
       "      <td>0.130712</td>\n",
       "    </tr>\n",
       "    <tr>\n",
       "      <th>9</th>\n",
       "      <td>hybrid</td>\n",
       "      <td>hnsw</td>\n",
       "      <td>float16</td>\n",
       "      <td>150</td>\n",
       "      <td>30</td>\n",
       "      <td>16</td>\n",
       "      <td>0.001098</td>\n",
       "      <td>0.989</td>\n",
       "      <td>0.130712</td>\n",
       "    </tr>\n",
       "    <tr>\n",
       "      <th>15</th>\n",
       "      <td>hybrid</td>\n",
       "      <td>hnsw</td>\n",
       "      <td>float32</td>\n",
       "      <td>150</td>\n",
       "      <td>20</td>\n",
       "      <td>64</td>\n",
       "      <td>0.001259</td>\n",
       "      <td>1.169</td>\n",
       "      <td>0.130712</td>\n",
       "    </tr>\n",
       "    <tr>\n",
       "      <th>7</th>\n",
       "      <td>hybrid</td>\n",
       "      <td>hnsw</td>\n",
       "      <td>float32</td>\n",
       "      <td>300</td>\n",
       "      <td>30</td>\n",
       "      <td>16</td>\n",
       "      <td>0.001214</td>\n",
       "      <td>1.479</td>\n",
       "      <td>0.130712</td>\n",
       "    </tr>\n",
       "    <tr>\n",
       "      <th>6</th>\n",
       "      <td>hybrid</td>\n",
       "      <td>hnsw</td>\n",
       "      <td>float32</td>\n",
       "      <td>200</td>\n",
       "      <td>50</td>\n",
       "      <td>16</td>\n",
       "      <td>0.001189</td>\n",
       "      <td>1.479</td>\n",
       "      <td>0.130712</td>\n",
       "    </tr>\n",
       "    <tr>\n",
       "      <th>5</th>\n",
       "      <td>hybrid</td>\n",
       "      <td>hnsw</td>\n",
       "      <td>float32</td>\n",
       "      <td>300</td>\n",
       "      <td>30</td>\n",
       "      <td>16</td>\n",
       "      <td>0.001233</td>\n",
       "      <td>1.479</td>\n",
       "      <td>0.130712</td>\n",
       "    </tr>\n",
       "    <tr>\n",
       "      <th>4</th>\n",
       "      <td>hybrid</td>\n",
       "      <td>hnsw</td>\n",
       "      <td>float16</td>\n",
       "      <td>300</td>\n",
       "      <td>50</td>\n",
       "      <td>16</td>\n",
       "      <td>0.001241</td>\n",
       "      <td>1.251</td>\n",
       "      <td>0.130712</td>\n",
       "    </tr>\n",
       "    <tr>\n",
       "      <th>3</th>\n",
       "      <td>hybrid</td>\n",
       "      <td>hnsw</td>\n",
       "      <td>float32</td>\n",
       "      <td>300</td>\n",
       "      <td>10</td>\n",
       "      <td>64</td>\n",
       "      <td>0.001277</td>\n",
       "      <td>1.238</td>\n",
       "      <td>0.130712</td>\n",
       "    </tr>\n",
       "    <tr>\n",
       "      <th>2</th>\n",
       "      <td>hybrid</td>\n",
       "      <td>hnsw</td>\n",
       "      <td>float32</td>\n",
       "      <td>200</td>\n",
       "      <td>50</td>\n",
       "      <td>8</td>\n",
       "      <td>0.001433</td>\n",
       "      <td>1.238</td>\n",
       "      <td>0.130712</td>\n",
       "    </tr>\n",
       "    <tr>\n",
       "      <th>22</th>\n",
       "      <td>vector</td>\n",
       "      <td>hnsw</td>\n",
       "      <td>float32</td>\n",
       "      <td>300</td>\n",
       "      <td>30</td>\n",
       "      <td>64</td>\n",
       "      <td>0.000847</td>\n",
       "      <td>1.485</td>\n",
       "      <td>0.129989</td>\n",
       "    </tr>\n",
       "    <tr>\n",
       "      <th>28</th>\n",
       "      <td>vector</td>\n",
       "      <td>hnsw</td>\n",
       "      <td>float32</td>\n",
       "      <td>300</td>\n",
       "      <td>30</td>\n",
       "      <td>64</td>\n",
       "      <td>0.000793</td>\n",
       "      <td>1.485</td>\n",
       "      <td>0.129989</td>\n",
       "    </tr>\n",
       "    <tr>\n",
       "      <th>27</th>\n",
       "      <td>vector</td>\n",
       "      <td>hnsw</td>\n",
       "      <td>float32</td>\n",
       "      <td>300</td>\n",
       "      <td>30</td>\n",
       "      <td>64</td>\n",
       "      <td>0.000786</td>\n",
       "      <td>1.485</td>\n",
       "      <td>0.129989</td>\n",
       "    </tr>\n",
       "    <tr>\n",
       "      <th>26</th>\n",
       "      <td>vector</td>\n",
       "      <td>hnsw</td>\n",
       "      <td>float32</td>\n",
       "      <td>150</td>\n",
       "      <td>30</td>\n",
       "      <td>64</td>\n",
       "      <td>0.000836</td>\n",
       "      <td>1.485</td>\n",
       "      <td>0.129989</td>\n",
       "    </tr>\n",
       "    <tr>\n",
       "      <th>25</th>\n",
       "      <td>vector</td>\n",
       "      <td>hnsw</td>\n",
       "      <td>float32</td>\n",
       "      <td>300</td>\n",
       "      <td>10</td>\n",
       "      <td>64</td>\n",
       "      <td>0.000801</td>\n",
       "      <td>1.485</td>\n",
       "      <td>0.129989</td>\n",
       "    </tr>\n",
       "    <tr>\n",
       "      <th>24</th>\n",
       "      <td>vector</td>\n",
       "      <td>hnsw</td>\n",
       "      <td>float32</td>\n",
       "      <td>300</td>\n",
       "      <td>30</td>\n",
       "      <td>64</td>\n",
       "      <td>0.000844</td>\n",
       "      <td>1.485</td>\n",
       "      <td>0.129989</td>\n",
       "    </tr>\n",
       "    <tr>\n",
       "      <th>23</th>\n",
       "      <td>vector</td>\n",
       "      <td>hnsw</td>\n",
       "      <td>float32</td>\n",
       "      <td>300</td>\n",
       "      <td>30</td>\n",
       "      <td>64</td>\n",
       "      <td>0.000798</td>\n",
       "      <td>1.485</td>\n",
       "      <td>0.129989</td>\n",
       "    </tr>\n",
       "    <tr>\n",
       "      <th>19</th>\n",
       "      <td>vector</td>\n",
       "      <td>hnsw</td>\n",
       "      <td>float32</td>\n",
       "      <td>300</td>\n",
       "      <td>30</td>\n",
       "      <td>64</td>\n",
       "      <td>0.000827</td>\n",
       "      <td>1.485</td>\n",
       "      <td>0.129989</td>\n",
       "    </tr>\n",
       "    <tr>\n",
       "      <th>21</th>\n",
       "      <td>vector</td>\n",
       "      <td>hnsw</td>\n",
       "      <td>float32</td>\n",
       "      <td>300</td>\n",
       "      <td>30</td>\n",
       "      <td>64</td>\n",
       "      <td>0.000791</td>\n",
       "      <td>1.485</td>\n",
       "      <td>0.129989</td>\n",
       "    </tr>\n",
       "    <tr>\n",
       "      <th>20</th>\n",
       "      <td>vector</td>\n",
       "      <td>hnsw</td>\n",
       "      <td>float32</td>\n",
       "      <td>300</td>\n",
       "      <td>30</td>\n",
       "      <td>64</td>\n",
       "      <td>0.000771</td>\n",
       "      <td>1.485</td>\n",
       "      <td>0.129989</td>\n",
       "    </tr>\n",
       "    <tr>\n",
       "      <th>29</th>\n",
       "      <td>vector</td>\n",
       "      <td>hnsw</td>\n",
       "      <td>float32</td>\n",
       "      <td>300</td>\n",
       "      <td>20</td>\n",
       "      <td>16</td>\n",
       "      <td>0.000778</td>\n",
       "      <td>1.485</td>\n",
       "      <td>0.129989</td>\n",
       "    </tr>\n",
       "    <tr>\n",
       "      <th>18</th>\n",
       "      <td>vector</td>\n",
       "      <td>hnsw</td>\n",
       "      <td>float16</td>\n",
       "      <td>100</td>\n",
       "      <td>50</td>\n",
       "      <td>8</td>\n",
       "      <td>0.000811</td>\n",
       "      <td>0.896</td>\n",
       "      <td>0.125734</td>\n",
       "    </tr>\n",
       "    <tr>\n",
       "      <th>16</th>\n",
       "      <td>vector</td>\n",
       "      <td>hnsw</td>\n",
       "      <td>float32</td>\n",
       "      <td>250</td>\n",
       "      <td>50</td>\n",
       "      <td>64</td>\n",
       "      <td>0.000785</td>\n",
       "      <td>1.169</td>\n",
       "      <td>0.122592</td>\n",
       "    </tr>\n",
       "    <tr>\n",
       "      <th>10</th>\n",
       "      <td>vector</td>\n",
       "      <td>hnsw</td>\n",
       "      <td>float16</td>\n",
       "      <td>250</td>\n",
       "      <td>20</td>\n",
       "      <td>16</td>\n",
       "      <td>0.000753</td>\n",
       "      <td>0.989</td>\n",
       "      <td>0.121983</td>\n",
       "    </tr>\n",
       "    <tr>\n",
       "      <th>11</th>\n",
       "      <td>vector</td>\n",
       "      <td>hnsw</td>\n",
       "      <td>float16</td>\n",
       "      <td>200</td>\n",
       "      <td>50</td>\n",
       "      <td>16</td>\n",
       "      <td>0.000708</td>\n",
       "      <td>0.989</td>\n",
       "      <td>0.121983</td>\n",
       "    </tr>\n",
       "  </tbody>\n",
       "</table>\n",
       "</div>"
      ],
      "text/plain": [
       "   search_method algorithm vector_data_type  ef_construction  ef_runtime   m  \\\n",
       "0         hybrid      hnsw          float32              100          30   8   \n",
       "8         hybrid      hnsw          float16              150          30   8   \n",
       "17        hybrid      hnsw          float32              200          10   8   \n",
       "1         hybrid      hnsw          float16              200          50  16   \n",
       "14        hybrid      hnsw          float32              200          30   8   \n",
       "13        hybrid      hnsw          float16              100          50  16   \n",
       "12        hybrid      hnsw          float16              200          50   8   \n",
       "9         hybrid      hnsw          float16              150          30  16   \n",
       "15        hybrid      hnsw          float32              150          20  64   \n",
       "7         hybrid      hnsw          float32              300          30  16   \n",
       "6         hybrid      hnsw          float32              200          50  16   \n",
       "5         hybrid      hnsw          float32              300          30  16   \n",
       "4         hybrid      hnsw          float16              300          50  16   \n",
       "3         hybrid      hnsw          float32              300          10  64   \n",
       "2         hybrid      hnsw          float32              200          50   8   \n",
       "22        vector      hnsw          float32              300          30  64   \n",
       "28        vector      hnsw          float32              300          30  64   \n",
       "27        vector      hnsw          float32              300          30  64   \n",
       "26        vector      hnsw          float32              150          30  64   \n",
       "25        vector      hnsw          float32              300          10  64   \n",
       "24        vector      hnsw          float32              300          30  64   \n",
       "23        vector      hnsw          float32              300          30  64   \n",
       "19        vector      hnsw          float32              300          30  64   \n",
       "21        vector      hnsw          float32              300          30  64   \n",
       "20        vector      hnsw          float32              300          30  64   \n",
       "29        vector      hnsw          float32              300          20  16   \n",
       "18        vector      hnsw          float16              100          50   8   \n",
       "16        vector      hnsw          float32              250          50  64   \n",
       "10        vector      hnsw          float16              250          20  16   \n",
       "11        vector      hnsw          float16              200          50  16   \n",
       "\n",
       "    avg_query_time  total_indexing_time      f1@k  \n",
       "0         0.001379                0.995  0.130712  \n",
       "8         0.001201                0.989  0.130712  \n",
       "17        0.001224                1.169  0.130712  \n",
       "1         0.001357                1.126  0.130712  \n",
       "14        0.001361                1.169  0.130712  \n",
       "13        0.001078                0.989  0.130712  \n",
       "12        0.001106                0.989  0.130712  \n",
       "9         0.001098                0.989  0.130712  \n",
       "15        0.001259                1.169  0.130712  \n",
       "7         0.001214                1.479  0.130712  \n",
       "6         0.001189                1.479  0.130712  \n",
       "5         0.001233                1.479  0.130712  \n",
       "4         0.001241                1.251  0.130712  \n",
       "3         0.001277                1.238  0.130712  \n",
       "2         0.001433                1.238  0.130712  \n",
       "22        0.000847                1.485  0.129989  \n",
       "28        0.000793                1.485  0.129989  \n",
       "27        0.000786                1.485  0.129989  \n",
       "26        0.000836                1.485  0.129989  \n",
       "25        0.000801                1.485  0.129989  \n",
       "24        0.000844                1.485  0.129989  \n",
       "23        0.000798                1.485  0.129989  \n",
       "19        0.000827                1.485  0.129989  \n",
       "21        0.000791                1.485  0.129989  \n",
       "20        0.000771                1.485  0.129989  \n",
       "29        0.000778                1.485  0.129989  \n",
       "18        0.000811                0.896  0.125734  \n",
       "16        0.000785                1.169  0.122592  \n",
       "10        0.000753                0.989  0.121983  \n",
       "11        0.000708                0.989  0.121983  "
      ]
     },
     "execution_count": 6,
     "metadata": {},
     "output_type": "execute_result"
    }
   ],
   "source": [
    "metrics[[\"search_method\", \"algorithm\", \"vector_data_type\", \"ef_construction\", \"ef_runtime\", \"m\", \"avg_query_time\", \"total_indexing_time\", \"f1@k\"]].sort_values(by=\"f1@k\", ascending=False)"
   ]
  },
  {
   "cell_type": "code",
   "execution_count": null,
   "id": "706faa5b",
   "metadata": {},
   "outputs": [],
   "source": []
  }
 ],
 "metadata": {
  "kernelspec": {
   "display_name": "Python 3",
   "language": "python",
   "name": "python3"
  },
  "language_info": {
   "codemirror_mode": {
    "name": "ipython",
    "version": 3
   },
   "file_extension": ".py",
   "mimetype": "text/x-python",
   "name": "python",
   "nbconvert_exporter": "python",
   "pygments_lexer": "ipython3",
   "version": "3.11.8"
  }
 },
 "nbformat": 4,
 "nbformat_minor": 5
}
