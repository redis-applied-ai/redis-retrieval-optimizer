{
 "cells": [
  {
   "cell_type": "code",
   "execution_count": null,
   "id": "46aac6ae",
   "metadata": {},
   "outputs": [],
   "source": [
    "# Load data\n",
    "from redis_retrieval_optimizer.corpus_processors import eval_beir\n",
    "\n",
    "# check the link above for different datasets to try\n",
    "beir_dataset_name = \"nfcorpus\"\n",
    "\n",
    "# Load sample data\n",
    "corpus, queries, qrels = eval_beir.get_beir_dataset(beir_dataset_name)"
   ]
  },
  {
   "cell_type": "code",
   "execution_count": null,
   "id": "2d9c1f29",
   "metadata": {},
   "outputs": [],
   "source": []
  },
  {
   "cell_type": "code",
   "execution_count": 1,
   "id": "2c94f556",
   "metadata": {},
   "outputs": [
    {
     "name": "stdout",
     "output_type": "stream",
     "text": [
      "Added /Users/robert.shelton/Documents/ll-ret-opt to Python path\n"
     ]
    },
    {
     "name": "stderr",
     "output_type": "stream",
     "text": [
      "/Users/robert.shelton/.pyenv/versions/3.11.9/lib/python3.11/site-packages/huggingface_hub/file_download.py:1142: FutureWarning: `resume_download` is deprecated and will be removed in version 1.0.0. Downloads always resume when possible. If you want to force a new download, use `force_download=True`.\n",
      "  warnings.warn(\n"
     ]
    },
    {
     "name": "stdout",
     "output_type": "stream",
     "text": [
      "14:31:43 sentence_transformers.cross_encoder.CrossEncoder INFO   Use pytorch device: mps\n"
     ]
    },
    {
     "name": "stderr",
     "output_type": "stream",
     "text": [
      "/Users/robert.shelton/.pyenv/versions/3.11.9/lib/python3.11/site-packages/huggingface_hub/file_download.py:1142: FutureWarning: `resume_download` is deprecated and will be removed in version 1.0.0. Downloads always resume when possible. If you want to force a new download, use `force_download=True`.\n",
      "  warnings.warn(\n",
      "[I 2025-05-09 14:31:43,462] A new study created in memory with name: test\n"
     ]
    },
    {
     "name": "stdout",
     "output_type": "stream",
     "text": [
      "14:31:43 redisvl.index.index INFO   Index already exists, overwriting.\n",
      "14:31:43 sentence_transformers.SentenceTransformer INFO   Load pretrained SentenceTransformer: sentence-transformers/all-MiniLM-L6-v2\n",
      "14:31:43 sentence_transformers.SentenceTransformer INFO   Use pytorch device_name: mps\n"
     ]
    },
    {
     "data": {
      "application/vnd.jupyter.widget-view+json": {
       "model_id": "fe2c6c5cd17c46c4999c568581cbe0b2",
       "version_major": 2,
       "version_minor": 0
      },
      "text/plain": [
       "Batches:   0%|          | 0/1 [00:00<?, ?it/s]"
      ]
     },
     "metadata": {},
     "output_type": "display_data"
    },
    {
     "name": "stdout",
     "output_type": "stream",
     "text": [
      "Recreating index...\n",
      "14:31:47 root INFO   Data indexed total_indexing_time=2.494s, num_docs=3633\n",
      "14:31:50 root INFO   Saving metrics for study: 0235dbfd-0e20-4c0b-a555-db966435a03d, METRICS={'search_method': ['vector'], 'total_indexing_time': [2.494], 'avg_query_time': [0.0013234194587258732], 'model': ['sentence-transformers/all-MiniLM-L6-v2'], 'model_dim': [384], 'ret_k': [8], 'recall@k': [0.1436161421501506], 'ndcg@k': [0.1842123668938446], 'f1@k': [0.12295239465697644], 'precision': [0.23591331269349847], 'algorithm': ['hnsw'], 'ef_construction': [150], 'ef_runtime': [30], 'm': [8], 'distance_metric': ['cosine'], 'vector_data_type': ['float32']}\n"
     ]
    },
    {
     "name": "stderr",
     "output_type": "stream",
     "text": [
      "[I 2025-05-09 14:31:50,020] Trial 0 finished with value: 2.494 and parameters: {'model_info': {'type': 'hf', 'model': 'sentence-transformers/all-MiniLM-L6-v2', 'dim': 384, 'embedding_cache_name': 'vec-cache', 'dtype': 'float32'}, 'search_method': 'vector', 'algorithm': 'hnsw', 'var_dtype': 'float32', 'distance_metric': 'cosine', 'ret_k': 8, 'ef_runtime': 30, 'ef_construction': 150, 'm': 8}. Best is trial 0 with value: 2.494.\n"
     ]
    },
    {
     "name": "stdout",
     "output_type": "stream",
     "text": [
      "14:31:50 redisvl.index.index INFO   Index already exists, overwriting.\n",
      "14:31:50 sentence_transformers.SentenceTransformer INFO   Load pretrained SentenceTransformer: sentence-transformers/all-MiniLM-L6-v2\n",
      "14:31:51 sentence_transformers.SentenceTransformer INFO   Use pytorch device_name: mps\n"
     ]
    },
    {
     "data": {
      "application/vnd.jupyter.widget-view+json": {
       "model_id": "f2dc49c7affc46908b1a85a27a9c844d",
       "version_major": 2,
       "version_minor": 0
      },
      "text/plain": [
       "Batches:   0%|          | 0/1 [00:00<?, ?it/s]"
      ]
     },
     "metadata": {},
     "output_type": "display_data"
    },
    {
     "name": "stdout",
     "output_type": "stream",
     "text": [
      "Skip recreate\n",
      "14:31:52 root INFO   Indexing progress: 0.9944578528649325\n",
      "14:31:52 root INFO   Data indexed total_indexing_time=2.541s, num_docs=3633\n",
      "14:31:53 root INFO   Saving metrics for study: 0235dbfd-0e20-4c0b-a555-db966435a03d, METRICS={'search_method': ['vector', 'vector'], 'total_indexing_time': [2.494, 2.541], 'avg_query_time': [0.0013234194587258732, 0.0008477109135488977], 'model': ['sentence-transformers/all-MiniLM-L6-v2', 'sentence-transformers/all-MiniLM-L6-v2'], 'model_dim': [384, 384], 'ret_k': [8, 9], 'recall@k': [0.1436161421501506, 0.12358745012504353], 'ndcg@k': [0.1842123668938446, 0.16627192088432888], 'f1@k': [0.12295239465697644, 0.11109262288142226], 'precision': [0.23591331269349847, 0.22229102167182663], 'algorithm': ['hnsw', 'hnsw'], 'ef_construction': [150, 200], 'ef_runtime': [30, 10], 'm': [8, 8], 'distance_metric': ['cosine', 'cosine'], 'vector_data_type': ['float32', 'float32']}\n"
     ]
    },
    {
     "name": "stderr",
     "output_type": "stream",
     "text": [
      "[I 2025-05-09 14:31:53,231] Trial 1 finished with value: 2.541 and parameters: {'model_info': {'type': 'hf', 'model': 'sentence-transformers/all-MiniLM-L6-v2', 'dim': 384, 'embedding_cache_name': 'vec-cache', 'dtype': 'float32'}, 'search_method': 'vector', 'algorithm': 'hnsw', 'var_dtype': 'float32', 'distance_metric': 'cosine', 'ret_k': 9, 'ef_runtime': 10, 'ef_construction': 200, 'm': 8}. Best is trial 1 with value: 2.541.\n"
     ]
    },
    {
     "name": "stdout",
     "output_type": "stream",
     "text": [
      "14:31:53 redisvl.index.index INFO   Index already exists, overwriting.\n",
      "14:31:53 sentence_transformers.SentenceTransformer INFO   Load pretrained SentenceTransformer: sentence-transformers/all-MiniLM-L6-v2\n",
      "14:31:53 sentence_transformers.SentenceTransformer INFO   Use pytorch device_name: mps\n"
     ]
    },
    {
     "data": {
      "application/vnd.jupyter.widget-view+json": {
       "model_id": "d6f71e34d63a4edca04036e486267b0a",
       "version_major": 2,
       "version_minor": 0
      },
      "text/plain": [
       "Batches:   0%|          | 0/1 [00:00<?, ?it/s]"
      ]
     },
     "metadata": {},
     "output_type": "display_data"
    },
    {
     "name": "stdout",
     "output_type": "stream",
     "text": [
      "Recreating index...\n",
      "14:32:00 root INFO   Indexing progress: 0.4665317139001349\n",
      "14:32:01 root INFO   Indexing progress: 0.527395411605938\n",
      "14:32:03 root INFO   Indexing progress: 0.5908906882591093\n",
      "14:32:04 root INFO   Indexing progress: 0.6568151147098515\n",
      "14:32:05 root INFO   Indexing progress: 0.7106612685560054\n",
      "14:32:06 root INFO   Indexing progress: 0.7700404858299595\n",
      "14:32:07 root INFO   Indexing progress: 0.8293522267206478\n",
      "14:32:08 root INFO   Indexing progress: 0.8841430499325236\n",
      "14:32:09 root INFO   Indexing progress: 1\n",
      "14:32:09 root INFO   Data indexed total_indexing_time=15.681s, num_docs=7266\n",
      "14:32:12 root INFO   Saving metrics for study: 0235dbfd-0e20-4c0b-a555-db966435a03d, METRICS={'search_method': ['vector', 'vector', 'lin_combo'], 'total_indexing_time': [2.494, 2.541, 15.681], 'avg_query_time': [0.0013234194587258732, 0.0008477109135488977, 0.007286877824056998], 'model': ['sentence-transformers/all-MiniLM-L6-v2', 'sentence-transformers/all-MiniLM-L6-v2', 'sentence-transformers/all-MiniLM-L6-v2'], 'model_dim': [384, 384, 384], 'ret_k': [8, 9, 1], 'recall@k': [0.1436161421501506, 0.12358745012504353, 0.11958585040292335], 'ndcg@k': [0.1842123668938446, 0.16627192088432888, 0.17515117479913186], 'f1@k': [0.12295239465697644, 0.11109262288142226, 0.12104128905969626], 'precision': [0.23591331269349847, 0.22229102167182663, 0.30278637770897837], 'algorithm': ['hnsw', 'hnsw', 'hnsw'], 'ef_construction': [150, 200, 100], 'ef_runtime': [30, 10, 50], 'm': [8, 8, 64], 'distance_metric': ['cosine', 'cosine', 'cosine'], 'vector_data_type': ['float32', 'float32', 'float16']}\n"
     ]
    },
    {
     "name": "stderr",
     "output_type": "stream",
     "text": [
      "[I 2025-05-09 14:32:12,854] Trial 2 finished with value: 15.681 and parameters: {'model_info': {'type': 'hf', 'model': 'sentence-transformers/all-MiniLM-L6-v2', 'dim': 384, 'embedding_cache_name': 'vec-cache', 'dtype': 'float32'}, 'search_method': 'lin_combo', 'algorithm': 'hnsw', 'var_dtype': 'float16', 'distance_metric': 'cosine', 'ret_k': 1, 'ef_runtime': 50, 'ef_construction': 100, 'm': 64}. Best is trial 2 with value: 15.681.\n"
     ]
    },
    {
     "name": "stdout",
     "output_type": "stream",
     "text": [
      "14:32:12 redisvl.index.index INFO   Index already exists, overwriting.\n",
      "14:32:12 sentence_transformers.SentenceTransformer INFO   Load pretrained SentenceTransformer: sentence-transformers/all-MiniLM-L6-v2\n",
      "14:32:13 sentence_transformers.SentenceTransformer INFO   Use pytorch device_name: mps\n"
     ]
    },
    {
     "data": {
      "application/vnd.jupyter.widget-view+json": {
       "model_id": "cc5ecdd18d97452f9d6f04b9bf10e2c4",
       "version_major": 2,
       "version_minor": 0
      },
      "text/plain": [
       "Batches:   0%|          | 0/1 [00:00<?, ?it/s]"
      ]
     },
     "metadata": {},
     "output_type": "display_data"
    },
    {
     "name": "stdout",
     "output_type": "stream",
     "text": [
      "Recreating index...\n",
      "14:32:20 root INFO   Indexing progress: 0.4822522083130114\n",
      "14:32:21 root INFO   Indexing progress: 0.5709640708827833\n",
      "14:32:22 root INFO   Indexing progress: 0.6558283205982767\n",
      "14:32:23 root INFO   Indexing progress: 0.7325638107624777\n",
      "14:32:24 root INFO   Indexing progress: 0.813201105511299\n",
      "14:32:25 root INFO   Indexing progress: 0.8904243212485775\n",
      "14:32:26 root INFO   Indexing progress: 1\n",
      "14:32:26 root INFO   Data indexed total_indexing_time=12.842s, num_docs=7266\n",
      "14:32:28 root INFO   Saving metrics for study: 0235dbfd-0e20-4c0b-a555-db966435a03d, METRICS={'search_method': ['vector', 'vector', 'lin_combo', 'lin_combo'], 'total_indexing_time': [2.494, 2.541, 15.681, 12.842], 'avg_query_time': [0.0013234194587258732, 0.0008477109135488977, 0.007286877824056998, 0.005012989782327469], 'model': ['sentence-transformers/all-MiniLM-L6-v2', 'sentence-transformers/all-MiniLM-L6-v2', 'sentence-transformers/all-MiniLM-L6-v2', 'sentence-transformers/all-MiniLM-L6-v2'], 'model_dim': [384, 384, 384, 384], 'ret_k': [8, 9, 1, 9], 'recall@k': [0.1436161421501506, 0.12358745012504353, 0.11958585040292335, 0.11965315421231895], 'ndcg@k': [0.1842123668938446, 0.16627192088432888, 0.17515117479913186, 0.1750468743695769], 'f1@k': [0.12295239465697644, 0.11109262288142226, 0.12104128905969626, 0.12115336056131429], 'precision': [0.23591331269349847, 0.22229102167182663, 0.30278637770897837, 0.30299277605779157], 'algorithm': ['hnsw', 'hnsw', 'hnsw', 'hnsw'], 'ef_construction': [150, 200, 100, 300], 'ef_runtime': [30, 10, 50, 10], 'm': [8, 8, 64, 16], 'distance_metric': ['cosine', 'cosine', 'cosine', 'cosine'], 'vector_data_type': ['float32', 'float32', 'float16', 'float32']}\n"
     ]
    },
    {
     "name": "stderr",
     "output_type": "stream",
     "text": [
      "[I 2025-05-09 14:32:28,848] Trial 3 finished with value: 12.842 and parameters: {'model_info': {'type': 'hf', 'model': 'sentence-transformers/all-MiniLM-L6-v2', 'dim': 384, 'embedding_cache_name': 'vec-cache', 'dtype': 'float32'}, 'search_method': 'lin_combo', 'algorithm': 'hnsw', 'var_dtype': 'float32', 'distance_metric': 'cosine', 'ret_k': 9, 'ef_runtime': 10, 'ef_construction': 300, 'm': 16}. Best is trial 2 with value: 15.681.\n"
     ]
    },
    {
     "name": "stdout",
     "output_type": "stream",
     "text": [
      "14:32:28 redisvl.index.index INFO   Index already exists, overwriting.\n",
      "14:32:28 sentence_transformers.SentenceTransformer INFO   Load pretrained SentenceTransformer: sentence-transformers/all-MiniLM-L6-v2\n",
      "14:32:29 sentence_transformers.SentenceTransformer INFO   Use pytorch device_name: mps\n"
     ]
    },
    {
     "data": {
      "application/vnd.jupyter.widget-view+json": {
       "model_id": "681dd3e1824e470b9ebe4603ec784ea3",
       "version_major": 2,
       "version_minor": 0
      },
      "text/plain": [
       "Batches:   0%|          | 0/1 [00:00<?, ?it/s]"
      ]
     },
     "metadata": {},
     "output_type": "display_data"
    },
    {
     "name": "stdout",
     "output_type": "stream",
     "text": [
      "Recreating index...\n",
      "14:32:36 root INFO   Indexing progress: 0.25595399800778773\n",
      "14:32:37 root INFO   Indexing progress: 0.30992483926469255\n",
      "14:32:38 root INFO   Indexing progress: 0.35968486824232543\n",
      "14:32:40 root INFO   Indexing progress: 0.4106221135560989\n",
      "14:32:41 root INFO   Indexing progress: 0.4599746445712216\n",
      "14:32:42 root INFO   Indexing progress: 0.5136738205197863\n",
      "14:32:43 root INFO   Indexing progress: 0.5684596577017115\n",
      "14:32:44 root INFO   Indexing progress: 0.6201666213891153\n",
      "14:32:45 root INFO   Indexing progress: 0.6683872136194875\n",
      "14:32:46 root INFO   Indexing progress: 0.7135742099067283\n",
      "14:32:47 root INFO   Indexing progress: 0.7636511817440913\n",
      "14:32:48 root INFO   Indexing progress: 0.8108303902924929\n",
      "14:32:49 root INFO   Indexing progress: 0.8584170968034048\n",
      "14:32:51 root INFO   Indexing progress: 0.9074979625101874\n",
      "14:32:52 root INFO   Indexing progress: 0.9556732771891696\n",
      "14:32:53 root INFO   Indexing progress: 1\n",
      "14:32:53 root INFO   Data indexed total_indexing_time=23.425s, num_docs=10899\n",
      "14:32:54 root INFO   Saving metrics for study: 0235dbfd-0e20-4c0b-a555-db966435a03d, METRICS={'search_method': ['vector', 'vector', 'lin_combo', 'lin_combo', 'vector'], 'total_indexing_time': [2.494, 2.541, 15.681, 12.842, 23.425], 'avg_query_time': [0.0013234194587258732, 0.0008477109135488977, 0.007286877824056998, 0.005012989782327469, 0.0015372167061726005], 'model': ['sentence-transformers/all-MiniLM-L6-v2', 'sentence-transformers/all-MiniLM-L6-v2', 'sentence-transformers/all-MiniLM-L6-v2', 'sentence-transformers/all-MiniLM-L6-v2', 'sentence-transformers/all-MiniLM-L6-v2'], 'model_dim': [384, 384, 384, 384, 384], 'ret_k': [8, 9, 1, 9, 5], 'recall@k': [0.1436161421501506, 0.12358745012504353, 0.11958585040292335, 0.11965315421231895, 0.08609263338216906], 'ndcg@k': [0.1842123668938446, 0.16627192088432888, 0.17515117479913186, 0.1750468743695769, 0.1339970700007826], 'f1@k': [0.12295239465697644, 0.11109262288142226, 0.12104128905969626, 0.12115336056131429, 0.10043677358614955], 'precision': [0.23591331269349847, 0.22229102167182663, 0.30278637770897837, 0.30299277605779157, 0.30030959752321984], 'algorithm': ['hnsw', 'hnsw', 'hnsw', 'hnsw', 'hnsw'], 'ef_construction': [150, 200, 100, 300, 150], 'ef_runtime': [30, 10, 50, 10, 30], 'm': [8, 8, 64, 16, 16], 'distance_metric': ['cosine', 'cosine', 'cosine', 'cosine', 'cosine'], 'vector_data_type': ['float32', 'float32', 'float16', 'float32', 'float16']}\n"
     ]
    },
    {
     "name": "stderr",
     "output_type": "stream",
     "text": [
      "[I 2025-05-09 14:32:54,238] Trial 4 finished with value: 23.425 and parameters: {'model_info': {'type': 'hf', 'model': 'sentence-transformers/all-MiniLM-L6-v2', 'dim': 384, 'embedding_cache_name': 'vec-cache', 'dtype': 'float32'}, 'search_method': 'vector', 'algorithm': 'hnsw', 'var_dtype': 'float16', 'distance_metric': 'cosine', 'ret_k': 5, 'ef_runtime': 30, 'ef_construction': 150, 'm': 16}. Best is trial 4 with value: 23.425.\n"
     ]
    },
    {
     "name": "stdout",
     "output_type": "stream",
     "text": [
      "14:32:54 redisvl.index.index INFO   Index already exists, overwriting.\n",
      "14:32:54 sentence_transformers.SentenceTransformer INFO   Load pretrained SentenceTransformer: sentence-transformers/all-MiniLM-L6-v2\n",
      "14:32:54 sentence_transformers.SentenceTransformer INFO   Use pytorch device_name: mps\n"
     ]
    },
    {
     "data": {
      "application/vnd.jupyter.widget-view+json": {
       "model_id": "a94fd0afa0c34ce68b58fcb5b271a81e",
       "version_major": 2,
       "version_minor": 0
      },
      "text/plain": [
       "Batches:   0%|          | 0/1 [00:00<?, ?it/s]"
      ]
     },
     "metadata": {},
     "output_type": "display_data"
    },
    {
     "name": "stdout",
     "output_type": "stream",
     "text": [
      "Skip recreate\n",
      "14:32:56 root INFO   Indexing progress: 0.13764375622566333\n",
      "14:32:57 root INFO   Indexing progress: 0.1902109933894775\n",
      "14:32:58 root INFO   Indexing progress: 0.24875486733677443\n",
      "14:32:59 root INFO   Indexing progress: 0.30100516164085844\n",
      "14:33:00 root INFO   Indexing progress: 0.3550665580005433\n",
      "14:33:01 root INFO   Indexing progress: 0.4060490808657068\n",
      "14:33:02 root INFO   Indexing progress: 0.4516888526668478\n",
      "14:33:04 root INFO   Indexing progress: 0.4991397265235896\n",
      "14:33:05 root INFO   Indexing progress: 0.5460925473150412\n",
      "14:33:06 root INFO   Indexing progress: 0.5945848048537535\n",
      "14:33:07 root INFO   Indexing progress: 0.6427148419813457\n",
      "14:33:08 root INFO   Indexing progress: 0.6920673729964684\n",
      "14:33:09 root INFO   Indexing progress: 0.7398804672643303\n",
      "14:33:10 root INFO   Indexing progress: 0.7858824594765915\n",
      "14:33:11 root INFO   Indexing progress: 0.8340577741555737\n",
      "14:33:12 root INFO   Indexing progress: 0.8733134112107217\n",
      "14:33:14 root INFO   Indexing progress: 0.9215340034410939\n",
      "14:33:15 root INFO   Indexing progress: 0.9647287874671737\n",
      "14:33:16 root INFO   Indexing progress: 1\n",
      "14:33:16 root INFO   Data indexed total_indexing_time=21.543s, num_docs=10899\n",
      "14:33:20 root INFO   Saving metrics for study: 0235dbfd-0e20-4c0b-a555-db966435a03d, METRICS={'search_method': ['vector', 'vector', 'lin_combo', 'lin_combo', 'vector', 'lin_combo'], 'total_indexing_time': [2.494, 2.541, 15.681, 12.842, 23.425, 21.543], 'avg_query_time': [0.0013234194587258732, 0.0008477109135488977, 0.007286877824056998, 0.005012989782327469, 0.0015372167061726005, 0.009519486973529261], 'model': ['sentence-transformers/all-MiniLM-L6-v2', 'sentence-transformers/all-MiniLM-L6-v2', 'sentence-transformers/all-MiniLM-L6-v2', 'sentence-transformers/all-MiniLM-L6-v2', 'sentence-transformers/all-MiniLM-L6-v2', 'sentence-transformers/all-MiniLM-L6-v2'], 'model_dim': [384, 384, 384, 384, 384, 384], 'ret_k': [8, 9, 1, 9, 5, 4], 'recall@k': [0.1436161421501506, 0.12358745012504353, 0.11958585040292335, 0.11965315421231895, 0.08609263338216906, 0.10656459899476033], 'ndcg@k': [0.1842123668938446, 0.16627192088432888, 0.17515117479913186, 0.1750468743695769, 0.1339970700007826, 0.16253997936315556], 'f1@k': [0.12295239465697644, 0.11109262288142226, 0.12104128905969626, 0.12115336056131429, 0.10043677358614955, 0.11515168807447418], 'precision': [0.23591331269349847, 0.22229102167182663, 0.30278637770897837, 0.30299277605779157, 0.30030959752321984, 0.32275541795665635], 'algorithm': ['hnsw', 'hnsw', 'hnsw', 'hnsw', 'hnsw', 'hnsw'], 'ef_construction': [150, 200, 100, 300, 150, 200], 'ef_runtime': [30, 10, 50, 10, 30, 50], 'm': [8, 8, 64, 16, 16, 64], 'distance_metric': ['cosine', 'cosine', 'cosine', 'cosine', 'cosine', 'cosine'], 'vector_data_type': ['float32', 'float32', 'float16', 'float32', 'float16', 'float16']}\n"
     ]
    },
    {
     "name": "stderr",
     "output_type": "stream",
     "text": [
      "[I 2025-05-09 14:33:20,062] Trial 5 finished with value: 21.543 and parameters: {'model_info': {'type': 'hf', 'model': 'sentence-transformers/all-MiniLM-L6-v2', 'dim': 384, 'embedding_cache_name': 'vec-cache', 'dtype': 'float32'}, 'search_method': 'lin_combo', 'algorithm': 'hnsw', 'var_dtype': 'float16', 'distance_metric': 'cosine', 'ret_k': 4, 'ef_runtime': 50, 'ef_construction': 200, 'm': 64}. Best is trial 4 with value: 23.425.\n"
     ]
    },
    {
     "name": "stdout",
     "output_type": "stream",
     "text": [
      "14:33:20 redisvl.index.index INFO   Index already exists, overwriting.\n",
      "14:33:20 sentence_transformers.SentenceTransformer INFO   Load pretrained SentenceTransformer: sentence-transformers/all-MiniLM-L6-v2\n",
      "14:33:20 sentence_transformers.SentenceTransformer INFO   Use pytorch device_name: mps\n"
     ]
    },
    {
     "data": {
      "application/vnd.jupyter.widget-view+json": {
       "model_id": "b3fbfda13cc34b75a720234ff262c39f",
       "version_major": 2,
       "version_minor": 0
      },
      "text/plain": [
       "Batches:   0%|          | 0/1 [00:00<?, ?it/s]"
      ]
     },
     "metadata": {},
     "output_type": "display_data"
    },
    {
     "name": "stdout",
     "output_type": "stream",
     "text": [
      "Skip recreate\n",
      "14:33:21 root INFO   Indexing progress: 0.13465543783392195\n",
      "14:33:23 root INFO   Indexing progress: 0.19315403422982885\n",
      "14:33:24 root INFO   Indexing progress: 0.24594765915059313\n",
      "14:33:25 root INFO   Indexing progress: 0.29403241872679525\n",
      "14:33:26 root INFO   Indexing progress: 0.3423435660599475\n",
      "14:33:27 root INFO   Indexing progress: 0.3859005704971475\n",
      "14:33:28 root INFO   Indexing progress: 0.4308159014760482\n",
      "14:33:29 root INFO   Indexing progress: 0.4710223671103867\n",
      "14:33:30 root INFO   Indexing progress: 0.5091460653807842\n",
      "14:33:32 root INFO   Indexing progress: 0.5518427963415738\n",
      "14:33:33 root INFO   Indexing progress: 0.5945848048537535\n",
      "14:33:34 root INFO   Indexing progress: 0.6359232092728425\n",
      "14:33:35 root INFO   Indexing progress: 0.6771257810377614\n",
      "14:33:36 root INFO   Indexing progress: 0.7200941773068913\n",
      "14:33:37 root INFO   Indexing progress: 0.7598025898759395\n",
      "14:33:38 root INFO   Indexing progress: 0.8055781943312506\n",
      "14:33:39 root INFO   Indexing progress: 0.8432491170877479\n",
      "14:33:41 root INFO   Indexing progress: 0.8824594765915059\n",
      "14:33:42 root INFO   Indexing progress: 0.9215340034410939\n",
      "14:33:43 root INFO   Indexing progress: 0.9578465996558906\n",
      "14:33:44 root INFO   Indexing progress: 0.9974191795707689\n",
      "14:33:44 root INFO   Data indexed total_indexing_time=24.259s, num_docs=10899\n",
      "14:33:48 root INFO   Saving metrics for study: 0235dbfd-0e20-4c0b-a555-db966435a03d, METRICS={'search_method': ['vector', 'vector', 'lin_combo', 'lin_combo', 'vector', 'lin_combo', 'lin_combo'], 'total_indexing_time': [2.494, 2.541, 15.681, 12.842, 23.425, 21.543, 24.259], 'avg_query_time': [0.0013234194587258732, 0.0008477109135488977, 0.007286877824056998, 0.005012989782327469, 0.0015372167061726005, 0.009519486973529261, 0.009285249946287173], 'model': ['sentence-transformers/all-MiniLM-L6-v2', 'sentence-transformers/all-MiniLM-L6-v2', 'sentence-transformers/all-MiniLM-L6-v2', 'sentence-transformers/all-MiniLM-L6-v2', 'sentence-transformers/all-MiniLM-L6-v2', 'sentence-transformers/all-MiniLM-L6-v2', 'sentence-transformers/all-MiniLM-L6-v2'], 'model_dim': [384, 384, 384, 384, 384, 384, 384], 'ret_k': [8, 9, 1, 9, 5, 4, 4], 'recall@k': [0.1436161421501506, 0.12358745012504353, 0.11958585040292335, 0.11965315421231895, 0.08609263338216906, 0.10656459899476033, 0.10656459899476033], 'ndcg@k': [0.1842123668938446, 0.16627192088432888, 0.17515117479913186, 0.1750468743695769, 0.1339970700007826, 0.16253997936315556, 0.16253997936315556], 'f1@k': [0.12295239465697644, 0.11109262288142226, 0.12104128905969626, 0.12115336056131429, 0.10043677358614955, 0.11515168807447418, 0.11515168807447418], 'precision': [0.23591331269349847, 0.22229102167182663, 0.30278637770897837, 0.30299277605779157, 0.30030959752321984, 0.32275541795665635, 0.32275541795665635], 'algorithm': ['hnsw', 'hnsw', 'hnsw', 'hnsw', 'hnsw', 'hnsw', 'hnsw'], 'ef_construction': [150, 200, 100, 300, 150, 200, 250], 'ef_runtime': [30, 10, 50, 10, 30, 50, 30], 'm': [8, 8, 64, 16, 16, 64, 64], 'distance_metric': ['cosine', 'cosine', 'cosine', 'cosine', 'cosine', 'cosine', 'cosine'], 'vector_data_type': ['float32', 'float32', 'float16', 'float32', 'float16', 'float16', 'float16']}\n"
     ]
    },
    {
     "name": "stderr",
     "output_type": "stream",
     "text": [
      "[I 2025-05-09 14:33:48,253] Trial 6 finished with value: 24.259 and parameters: {'model_info': {'type': 'hf', 'model': 'sentence-transformers/all-MiniLM-L6-v2', 'dim': 384, 'embedding_cache_name': 'vec-cache', 'dtype': 'float32'}, 'search_method': 'lin_combo', 'algorithm': 'hnsw', 'var_dtype': 'float16', 'distance_metric': 'cosine', 'ret_k': 4, 'ef_runtime': 30, 'ef_construction': 250, 'm': 64}. Best is trial 6 with value: 24.259.\n"
     ]
    },
    {
     "name": "stdout",
     "output_type": "stream",
     "text": [
      "14:33:48 redisvl.index.index INFO   Index already exists, overwriting.\n",
      "14:33:48 sentence_transformers.SentenceTransformer INFO   Load pretrained SentenceTransformer: sentence-transformers/all-MiniLM-L6-v2\n",
      "14:33:48 sentence_transformers.SentenceTransformer INFO   Use pytorch device_name: mps\n"
     ]
    },
    {
     "data": {
      "application/vnd.jupyter.widget-view+json": {
       "model_id": "e5b672bdf5ba4a0cac233faeb7bb0703",
       "version_major": 2,
       "version_minor": 0
      },
      "text/plain": [
       "Batches:   0%|          | 0/1 [00:00<?, ?it/s]"
      ]
     },
     "metadata": {},
     "output_type": "display_data"
    },
    {
     "name": "stdout",
     "output_type": "stream",
     "text": [
      "Skip recreate\n",
      "14:33:49 root INFO   Indexing progress: 0.1574300461831024\n",
      "14:33:50 root INFO   Indexing progress: 0.24875486733677443\n",
      "14:33:52 root INFO   Indexing progress: 0.3341483292583537\n",
      "14:33:53 root INFO   Indexing progress: 0.415240423797881\n",
      "14:33:54 root INFO   Indexing progress: 0.49606085302906816\n",
      "14:33:55 root INFO   Indexing progress: 0.5766096169519153\n",
      "14:33:56 root INFO   Indexing progress: 0.6583355972109028\n",
      "14:33:57 root INFO   Indexing progress: 0.7398804672643303\n",
      "14:33:58 root INFO   Indexing progress: 0.819568957710767\n",
      "14:33:59 root INFO   Indexing progress: 0.9007063298016843\n",
      "14:34:00 root INFO   Indexing progress: 0.9798062120800507\n",
      "14:34:01 root INFO   Indexing progress: 1\n",
      "14:34:01 root INFO   Data indexed total_indexing_time=12.489s, num_docs=10899\n",
      "14:34:05 root INFO   Saving metrics for study: 0235dbfd-0e20-4c0b-a555-db966435a03d, METRICS={'search_method': ['vector', 'vector', 'lin_combo', 'lin_combo', 'vector', 'lin_combo', 'lin_combo', 'lin_combo'], 'total_indexing_time': [2.494, 2.541, 15.681, 12.842, 23.425, 21.543, 24.259, 12.489], 'avg_query_time': [0.0013234194587258732, 0.0008477109135488977, 0.007286877824056998, 0.005012989782327469, 0.0015372167061726005, 0.009519486973529261, 0.009285249946287173, 0.009104402441727487], 'model': ['sentence-transformers/all-MiniLM-L6-v2', 'sentence-transformers/all-MiniLM-L6-v2', 'sentence-transformers/all-MiniLM-L6-v2', 'sentence-transformers/all-MiniLM-L6-v2', 'sentence-transformers/all-MiniLM-L6-v2', 'sentence-transformers/all-MiniLM-L6-v2', 'sentence-transformers/all-MiniLM-L6-v2', 'sentence-transformers/all-MiniLM-L6-v2'], 'model_dim': [384, 384, 384, 384, 384, 384, 384, 384], 'ret_k': [8, 9, 1, 9, 5, 4, 4, 5], 'recall@k': [0.1436161421501506, 0.12358745012504353, 0.11958585040292335, 0.11965315421231895, 0.08609263338216906, 0.10656459899476033, 0.10656459899476033, 0.10656459899476033], 'ndcg@k': [0.1842123668938446, 0.16627192088432888, 0.17515117479913186, 0.1750468743695769, 0.1339970700007826, 0.16253997936315556, 0.16253997936315556, 0.16253997936315556], 'f1@k': [0.12295239465697644, 0.11109262288142226, 0.12104128905969626, 0.12115336056131429, 0.10043677358614955, 0.11515168807447418, 0.11515168807447418, 0.11515168807447418], 'precision': [0.23591331269349847, 0.22229102167182663, 0.30278637770897837, 0.30299277605779157, 0.30030959752321984, 0.32275541795665635, 0.32275541795665635, 0.32275541795665635], 'algorithm': ['hnsw', 'hnsw', 'hnsw', 'hnsw', 'hnsw', 'hnsw', 'hnsw', 'hnsw'], 'ef_construction': [150, 200, 100, 300, 150, 200, 250, 100], 'ef_runtime': [30, 10, 50, 10, 30, 50, 30, 50], 'm': [8, 8, 64, 16, 16, 64, 64, 64], 'distance_metric': ['cosine', 'cosine', 'cosine', 'cosine', 'cosine', 'cosine', 'cosine', 'cosine'], 'vector_data_type': ['float32', 'float32', 'float16', 'float32', 'float16', 'float16', 'float16', 'float16']}\n"
     ]
    },
    {
     "name": "stderr",
     "output_type": "stream",
     "text": [
      "[I 2025-05-09 14:34:05,237] Trial 7 finished with value: 12.489 and parameters: {'model_info': {'type': 'hf', 'model': 'sentence-transformers/all-MiniLM-L6-v2', 'dim': 384, 'embedding_cache_name': 'vec-cache', 'dtype': 'float32'}, 'search_method': 'lin_combo', 'algorithm': 'hnsw', 'var_dtype': 'float16', 'distance_metric': 'cosine', 'ret_k': 5, 'ef_runtime': 50, 'ef_construction': 100, 'm': 64}. Best is trial 6 with value: 24.259.\n"
     ]
    },
    {
     "name": "stdout",
     "output_type": "stream",
     "text": [
      "14:34:05 redisvl.index.index INFO   Index already exists, overwriting.\n",
      "14:34:05 sentence_transformers.SentenceTransformer INFO   Load pretrained SentenceTransformer: sentence-transformers/all-MiniLM-L6-v2\n",
      "14:34:05 sentence_transformers.SentenceTransformer INFO   Use pytorch device_name: mps\n"
     ]
    },
    {
     "data": {
      "application/vnd.jupyter.widget-view+json": {
       "model_id": "463b2702293446d99fd1a36e3aae6615",
       "version_major": 2,
       "version_minor": 0
      },
      "text/plain": [
       "Batches:   0%|          | 0/1 [00:00<?, ?it/s]"
      ]
     },
     "metadata": {},
     "output_type": "display_data"
    },
    {
     "name": "stdout",
     "output_type": "stream",
     "text": [
      "Skip recreate\n",
      "14:34:06 root INFO   Indexing progress: 0.13470071538531198\n",
      "14:34:07 root INFO   Indexing progress: 0.20506203024540434\n",
      "14:34:08 root INFO   Indexing progress: 0.26967309607896406\n",
      "14:34:10 root INFO   Indexing progress: 0.3284886353346011\n",
      "14:34:11 root INFO   Indexing progress: 0.3845875215068369\n",
      "14:34:12 root INFO   Indexing progress: 0.43991668930544237\n",
      "14:34:13 root INFO   Indexing progress: 0.49606085302906816\n",
      "14:34:14 root INFO   Indexing progress: 0.5518427963415738\n",
      "14:34:15 root INFO   Indexing progress: 0.6071266865887893\n",
      "14:34:16 root INFO   Indexing progress: 0.6583355972109028\n",
      "14:34:17 root INFO   Indexing progress: 0.710812279271937\n",
      "14:34:18 root INFO   Indexing progress: 0.7598025898759395\n",
      "14:34:19 root INFO   Indexing progress: 0.8113284433577832\n",
      "14:34:21 root INFO   Indexing progress: 0.8577832110839446\n",
      "14:34:22 root INFO   Indexing progress: 0.9098976727338586\n",
      "14:34:23 root INFO   Indexing progress: 0.9647287874671737\n",
      "14:34:24 root INFO   Indexing progress: 1\n",
      "14:34:24 root INFO   Data indexed total_indexing_time=18.671s, num_docs=10899\n",
      "14:34:28 root INFO   Saving metrics for study: 0235dbfd-0e20-4c0b-a555-db966435a03d, METRICS={'search_method': ['vector', 'vector', 'lin_combo', 'lin_combo', 'vector', 'lin_combo', 'lin_combo', 'lin_combo', 'lin_combo'], 'total_indexing_time': [2.494, 2.541, 15.681, 12.842, 23.425, 21.543, 24.259, 12.489, 18.671], 'avg_query_time': [0.0013234194587258732, 0.0008477109135488977, 0.007286877824056998, 0.005012989782327469, 0.0015372167061726005, 0.009519486973529261, 0.009285249946287173, 0.009104402441727487, 0.009256836799645202], 'model': ['sentence-transformers/all-MiniLM-L6-v2', 'sentence-transformers/all-MiniLM-L6-v2', 'sentence-transformers/all-MiniLM-L6-v2', 'sentence-transformers/all-MiniLM-L6-v2', 'sentence-transformers/all-MiniLM-L6-v2', 'sentence-transformers/all-MiniLM-L6-v2', 'sentence-transformers/all-MiniLM-L6-v2', 'sentence-transformers/all-MiniLM-L6-v2', 'sentence-transformers/all-MiniLM-L6-v2'], 'model_dim': [384, 384, 384, 384, 384, 384, 384, 384, 384], 'ret_k': [8, 9, 1, 9, 5, 4, 4, 5, 10], 'recall@k': [0.1436161421501506, 0.12358745012504353, 0.11958585040292335, 0.11965315421231895, 0.08609263338216906, 0.10656459899476033, 0.10656459899476033, 0.10656459899476033, 0.10656459899476033], 'ndcg@k': [0.1842123668938446, 0.16627192088432888, 0.17515117479913186, 0.1750468743695769, 0.1339970700007826, 0.16253997936315556, 0.16253997936315556, 0.16253997936315556, 0.16253997936315556], 'f1@k': [0.12295239465697644, 0.11109262288142226, 0.12104128905969626, 0.12115336056131429, 0.10043677358614955, 0.11515168807447418, 0.11515168807447418, 0.11515168807447418, 0.11515168807447418], 'precision': [0.23591331269349847, 0.22229102167182663, 0.30278637770897837, 0.30299277605779157, 0.30030959752321984, 0.32275541795665635, 0.32275541795665635, 0.32275541795665635, 0.32275541795665635], 'algorithm': ['hnsw', 'hnsw', 'hnsw', 'hnsw', 'hnsw', 'hnsw', 'hnsw', 'hnsw', 'hnsw'], 'ef_construction': [150, 200, 100, 300, 150, 200, 250, 100, 200], 'ef_runtime': [30, 10, 50, 10, 30, 50, 30, 50, 30], 'm': [8, 8, 64, 16, 16, 64, 64, 64, 16], 'distance_metric': ['cosine', 'cosine', 'cosine', 'cosine', 'cosine', 'cosine', 'cosine', 'cosine', 'cosine'], 'vector_data_type': ['float32', 'float32', 'float16', 'float32', 'float16', 'float16', 'float16', 'float16', 'float16']}\n"
     ]
    },
    {
     "name": "stderr",
     "output_type": "stream",
     "text": [
      "[I 2025-05-09 14:34:28,014] Trial 8 finished with value: 18.671 and parameters: {'model_info': {'type': 'hf', 'model': 'sentence-transformers/all-MiniLM-L6-v2', 'dim': 384, 'embedding_cache_name': 'vec-cache', 'dtype': 'float32'}, 'search_method': 'lin_combo', 'algorithm': 'hnsw', 'var_dtype': 'float16', 'distance_metric': 'cosine', 'ret_k': 10, 'ef_runtime': 30, 'ef_construction': 200, 'm': 16}. Best is trial 6 with value: 24.259.\n"
     ]
    },
    {
     "name": "stdout",
     "output_type": "stream",
     "text": [
      "14:34:28 redisvl.index.index INFO   Index already exists, overwriting.\n",
      "14:34:28 sentence_transformers.SentenceTransformer INFO   Load pretrained SentenceTransformer: sentence-transformers/all-MiniLM-L6-v2\n",
      "14:34:28 sentence_transformers.SentenceTransformer INFO   Use pytorch device_name: mps\n"
     ]
    },
    {
     "data": {
      "application/vnd.jupyter.widget-view+json": {
       "model_id": "322b7a152d6249bca93ed3b5ca1f9620",
       "version_major": 2,
       "version_minor": 0
      },
      "text/plain": [
       "Batches:   0%|          | 0/1 [00:00<?, ?it/s]"
      ]
     },
     "metadata": {},
     "output_type": "display_data"
    },
    {
     "name": "stdout",
     "output_type": "stream",
     "text": [
      "Skip recreate\n",
      "14:34:29 root INFO   Indexing progress: 0.20184732409671285\n",
      "14:34:30 root INFO   Indexing progress: 0.317440912795436\n",
      "14:34:31 root INFO   Indexing progress: 0.42506565244951555\n",
      "14:34:33 root INFO   Indexing progress: 0.5340939961966857\n",
      "14:34:34 root INFO   Indexing progress: 0.6427148419813457\n",
      "14:34:35 root INFO   Indexing progress: 0.7481209816173141\n",
      "14:34:36 root INFO   Indexing progress: 0.8547948926922032\n",
      "14:34:37 root INFO   Indexing progress: 0.9611065833559721\n",
      "14:34:38 root INFO   Indexing progress: 1\n",
      "14:34:38 root INFO   Data indexed total_indexing_time=9.401s, num_docs=10899\n",
      "14:34:38 root INFO   Saving metrics for study: 0235dbfd-0e20-4c0b-a555-db966435a03d, METRICS={'search_method': ['vector', 'vector', 'lin_combo', 'lin_combo', 'vector', 'lin_combo', 'lin_combo', 'lin_combo', 'lin_combo', 'vector'], 'total_indexing_time': [2.494, 2.541, 15.681, 12.842, 23.425, 21.543, 24.259, 12.489, 18.671, 9.401], 'avg_query_time': [0.0013234194587258732, 0.0008477109135488977, 0.007286877824056998, 0.005012989782327469, 0.0015372167061726005, 0.009519486973529261, 0.009285249946287173, 0.009104402441727487, 0.009256836799645202, 0.0010176398805789534], 'model': ['sentence-transformers/all-MiniLM-L6-v2', 'sentence-transformers/all-MiniLM-L6-v2', 'sentence-transformers/all-MiniLM-L6-v2', 'sentence-transformers/all-MiniLM-L6-v2', 'sentence-transformers/all-MiniLM-L6-v2', 'sentence-transformers/all-MiniLM-L6-v2', 'sentence-transformers/all-MiniLM-L6-v2', 'sentence-transformers/all-MiniLM-L6-v2', 'sentence-transformers/all-MiniLM-L6-v2', 'sentence-transformers/all-MiniLM-L6-v2'], 'model_dim': [384, 384, 384, 384, 384, 384, 384, 384, 384, 384], 'ret_k': [8, 9, 1, 9, 5, 4, 4, 5, 10, 4], 'recall@k': [0.1436161421501506, 0.12358745012504353, 0.11958585040292335, 0.11965315421231895, 0.08609263338216906, 0.10656459899476033, 0.10656459899476033, 0.10656459899476033, 0.10656459899476033, 0.07711726030293624], 'ndcg@k': [0.1842123668938446, 0.16627192088432888, 0.17515117479913186, 0.1750468743695769, 0.1339970700007826, 0.16253997936315556, 0.16253997936315556, 0.16253997936315556, 0.16253997936315556, 0.12334644621502296], 'f1@k': [0.12295239465697644, 0.11109262288142226, 0.12104128905969626, 0.12115336056131429, 0.10043677358614955, 0.11515168807447418, 0.11515168807447418, 0.11515168807447418, 0.11515168807447418, 0.0919881343554574], 'precision': [0.23591331269349847, 0.22229102167182663, 0.30278637770897837, 0.30299277605779157, 0.30030959752321984, 0.32275541795665635, 0.32275541795665635, 0.32275541795665635, 0.32275541795665635, 0.29102167182662536], 'algorithm': ['hnsw', 'hnsw', 'hnsw', 'hnsw', 'hnsw', 'hnsw', 'hnsw', 'hnsw', 'hnsw', 'hnsw'], 'ef_construction': [150, 200, 100, 300, 150, 200, 250, 100, 200, 100], 'ef_runtime': [30, 10, 50, 10, 30, 50, 30, 50, 30, 30], 'm': [8, 8, 64, 16, 16, 64, 64, 64, 16, 8], 'distance_metric': ['cosine', 'cosine', 'cosine', 'cosine', 'cosine', 'cosine', 'cosine', 'cosine', 'cosine', 'cosine'], 'vector_data_type': ['float32', 'float32', 'float16', 'float32', 'float16', 'float16', 'float16', 'float16', 'float16', 'float16']}\n"
     ]
    },
    {
     "name": "stderr",
     "output_type": "stream",
     "text": [
      "[I 2025-05-09 14:34:38,949] Trial 9 finished with value: 9.401 and parameters: {'model_info': {'type': 'hf', 'model': 'sentence-transformers/all-MiniLM-L6-v2', 'dim': 384, 'embedding_cache_name': 'vec-cache', 'dtype': 'float32'}, 'search_method': 'vector', 'algorithm': 'hnsw', 'var_dtype': 'float16', 'distance_metric': 'cosine', 'ret_k': 4, 'ef_runtime': 30, 'ef_construction': 100, 'm': 8}. Best is trial 6 with value: 24.259.\n"
     ]
    },
    {
     "name": "stdout",
     "output_type": "stream",
     "text": [
      "Completed Bayesian optimization... \n",
      "\n",
      "\n",
      "Best Configuration: 6: {'model_info': {'type': 'hf', 'model': 'sentence-transformers/all-MiniLM-L6-v2', 'dim': 384, 'embedding_cache_name': 'vec-cache', 'dtype': 'float32'}, 'search_method': 'lin_combo', 'algorithm': 'hnsw', 'var_dtype': 'float16', 'distance_metric': 'cosine', 'ret_k': 4, 'ef_runtime': 30, 'ef_construction': 250, 'm': 64}:\n",
      "\n",
      "\n",
      "Best Score: [24.259]\n",
      "\n",
      "\n"
     ]
    }
   ],
   "source": [
    "# run study\n",
    "\n",
    "# add root redis_retrieval_optimizer to path until available on pypi\n",
    "import sys\n",
    "import os\n",
    "\n",
    "# Get the current notebook directory\n",
    "current_dir = os.path.dirname(os.path.abspath(''))\n",
    "\n",
    "# Go up two directory levels (adjust the number as needed)\n",
    "parent_dir = os.path.abspath(os.path.join(current_dir, '../..'))\n",
    "\n",
    "# Add the parent directory to the Python path if it's not already there\n",
    "if parent_dir not in sys.path:\n",
    "    sys.path.insert(0, parent_dir)\n",
    "    print(f\"Added {parent_dir} to Python path\")\n",
    "\n",
    "\n",
    "import os\n",
    "from redis_retrieval_optimizer.bayes_study import run_bayes_study\n",
    "from redis_retrieval_optimizer.corpus_processors import eval_beir\n",
    "from dotenv import load_dotenv\n",
    "\n",
    "# load environment variables containing necessary credentials\n",
    "load_dotenv()\n",
    "\n",
    "redis_url = os.environ.get(\"REDIS_URL\", \"redis://localhost:6379/0\")\n",
    "\n",
    "metrics = run_bayes_study(\n",
    "    config_path=\"bayes_study_config.yaml\",\n",
    "    redis_url=redis_url,\n",
    "    corpus_processor=eval_beir.process_corpus\n",
    ")"
   ]
  },
  {
   "cell_type": "code",
   "execution_count": 2,
   "id": "2c140e85",
   "metadata": {},
   "outputs": [
    {
     "data": {
      "text/html": [
       "<div>\n",
       "<style scoped>\n",
       "    .dataframe tbody tr th:only-of-type {\n",
       "        vertical-align: middle;\n",
       "    }\n",
       "\n",
       "    .dataframe tbody tr th {\n",
       "        vertical-align: top;\n",
       "    }\n",
       "\n",
       "    .dataframe thead th {\n",
       "        text-align: right;\n",
       "    }\n",
       "</style>\n",
       "<table border=\"1\" class=\"dataframe\">\n",
       "  <thead>\n",
       "    <tr style=\"text-align: right;\">\n",
       "      <th></th>\n",
       "      <th>search_method</th>\n",
       "      <th>total_indexing_time</th>\n",
       "      <th>avg_query_time</th>\n",
       "      <th>model</th>\n",
       "      <th>model_dim</th>\n",
       "      <th>ret_k</th>\n",
       "      <th>recall@k</th>\n",
       "      <th>ndcg@k</th>\n",
       "      <th>f1@k</th>\n",
       "      <th>precision</th>\n",
       "      <th>algorithm</th>\n",
       "      <th>ef_construction</th>\n",
       "      <th>ef_runtime</th>\n",
       "      <th>m</th>\n",
       "      <th>distance_metric</th>\n",
       "      <th>vector_data_type</th>\n",
       "    </tr>\n",
       "  </thead>\n",
       "  <tbody>\n",
       "    <tr>\n",
       "      <th>0</th>\n",
       "      <td>vector</td>\n",
       "      <td>2.494</td>\n",
       "      <td>0.001323</td>\n",
       "      <td>sentence-transformers/all-MiniLM-L6-v2</td>\n",
       "      <td>384</td>\n",
       "      <td>8</td>\n",
       "      <td>0.143616</td>\n",
       "      <td>0.184212</td>\n",
       "      <td>0.122952</td>\n",
       "      <td>0.235913</td>\n",
       "      <td>hnsw</td>\n",
       "      <td>150</td>\n",
       "      <td>30</td>\n",
       "      <td>8</td>\n",
       "      <td>cosine</td>\n",
       "      <td>float32</td>\n",
       "    </tr>\n",
       "    <tr>\n",
       "      <th>1</th>\n",
       "      <td>vector</td>\n",
       "      <td>2.541</td>\n",
       "      <td>0.000848</td>\n",
       "      <td>sentence-transformers/all-MiniLM-L6-v2</td>\n",
       "      <td>384</td>\n",
       "      <td>9</td>\n",
       "      <td>0.123587</td>\n",
       "      <td>0.166272</td>\n",
       "      <td>0.111093</td>\n",
       "      <td>0.222291</td>\n",
       "      <td>hnsw</td>\n",
       "      <td>200</td>\n",
       "      <td>10</td>\n",
       "      <td>8</td>\n",
       "      <td>cosine</td>\n",
       "      <td>float32</td>\n",
       "    </tr>\n",
       "    <tr>\n",
       "      <th>2</th>\n",
       "      <td>lin_combo</td>\n",
       "      <td>15.681</td>\n",
       "      <td>0.007287</td>\n",
       "      <td>sentence-transformers/all-MiniLM-L6-v2</td>\n",
       "      <td>384</td>\n",
       "      <td>1</td>\n",
       "      <td>0.119586</td>\n",
       "      <td>0.175151</td>\n",
       "      <td>0.121041</td>\n",
       "      <td>0.302786</td>\n",
       "      <td>hnsw</td>\n",
       "      <td>100</td>\n",
       "      <td>50</td>\n",
       "      <td>64</td>\n",
       "      <td>cosine</td>\n",
       "      <td>float16</td>\n",
       "    </tr>\n",
       "    <tr>\n",
       "      <th>3</th>\n",
       "      <td>lin_combo</td>\n",
       "      <td>12.842</td>\n",
       "      <td>0.005013</td>\n",
       "      <td>sentence-transformers/all-MiniLM-L6-v2</td>\n",
       "      <td>384</td>\n",
       "      <td>9</td>\n",
       "      <td>0.119653</td>\n",
       "      <td>0.175047</td>\n",
       "      <td>0.121153</td>\n",
       "      <td>0.302993</td>\n",
       "      <td>hnsw</td>\n",
       "      <td>300</td>\n",
       "      <td>10</td>\n",
       "      <td>16</td>\n",
       "      <td>cosine</td>\n",
       "      <td>float32</td>\n",
       "    </tr>\n",
       "    <tr>\n",
       "      <th>4</th>\n",
       "      <td>vector</td>\n",
       "      <td>23.425</td>\n",
       "      <td>0.001537</td>\n",
       "      <td>sentence-transformers/all-MiniLM-L6-v2</td>\n",
       "      <td>384</td>\n",
       "      <td>5</td>\n",
       "      <td>0.086093</td>\n",
       "      <td>0.133997</td>\n",
       "      <td>0.100437</td>\n",
       "      <td>0.300310</td>\n",
       "      <td>hnsw</td>\n",
       "      <td>150</td>\n",
       "      <td>30</td>\n",
       "      <td>16</td>\n",
       "      <td>cosine</td>\n",
       "      <td>float16</td>\n",
       "    </tr>\n",
       "    <tr>\n",
       "      <th>5</th>\n",
       "      <td>lin_combo</td>\n",
       "      <td>21.543</td>\n",
       "      <td>0.009519</td>\n",
       "      <td>sentence-transformers/all-MiniLM-L6-v2</td>\n",
       "      <td>384</td>\n",
       "      <td>4</td>\n",
       "      <td>0.106565</td>\n",
       "      <td>0.162540</td>\n",
       "      <td>0.115152</td>\n",
       "      <td>0.322755</td>\n",
       "      <td>hnsw</td>\n",
       "      <td>200</td>\n",
       "      <td>50</td>\n",
       "      <td>64</td>\n",
       "      <td>cosine</td>\n",
       "      <td>float16</td>\n",
       "    </tr>\n",
       "    <tr>\n",
       "      <th>6</th>\n",
       "      <td>lin_combo</td>\n",
       "      <td>24.259</td>\n",
       "      <td>0.009285</td>\n",
       "      <td>sentence-transformers/all-MiniLM-L6-v2</td>\n",
       "      <td>384</td>\n",
       "      <td>4</td>\n",
       "      <td>0.106565</td>\n",
       "      <td>0.162540</td>\n",
       "      <td>0.115152</td>\n",
       "      <td>0.322755</td>\n",
       "      <td>hnsw</td>\n",
       "      <td>250</td>\n",
       "      <td>30</td>\n",
       "      <td>64</td>\n",
       "      <td>cosine</td>\n",
       "      <td>float16</td>\n",
       "    </tr>\n",
       "    <tr>\n",
       "      <th>7</th>\n",
       "      <td>lin_combo</td>\n",
       "      <td>12.489</td>\n",
       "      <td>0.009104</td>\n",
       "      <td>sentence-transformers/all-MiniLM-L6-v2</td>\n",
       "      <td>384</td>\n",
       "      <td>5</td>\n",
       "      <td>0.106565</td>\n",
       "      <td>0.162540</td>\n",
       "      <td>0.115152</td>\n",
       "      <td>0.322755</td>\n",
       "      <td>hnsw</td>\n",
       "      <td>100</td>\n",
       "      <td>50</td>\n",
       "      <td>64</td>\n",
       "      <td>cosine</td>\n",
       "      <td>float16</td>\n",
       "    </tr>\n",
       "    <tr>\n",
       "      <th>8</th>\n",
       "      <td>lin_combo</td>\n",
       "      <td>18.671</td>\n",
       "      <td>0.009257</td>\n",
       "      <td>sentence-transformers/all-MiniLM-L6-v2</td>\n",
       "      <td>384</td>\n",
       "      <td>10</td>\n",
       "      <td>0.106565</td>\n",
       "      <td>0.162540</td>\n",
       "      <td>0.115152</td>\n",
       "      <td>0.322755</td>\n",
       "      <td>hnsw</td>\n",
       "      <td>200</td>\n",
       "      <td>30</td>\n",
       "      <td>16</td>\n",
       "      <td>cosine</td>\n",
       "      <td>float16</td>\n",
       "    </tr>\n",
       "    <tr>\n",
       "      <th>9</th>\n",
       "      <td>vector</td>\n",
       "      <td>9.401</td>\n",
       "      <td>0.001018</td>\n",
       "      <td>sentence-transformers/all-MiniLM-L6-v2</td>\n",
       "      <td>384</td>\n",
       "      <td>4</td>\n",
       "      <td>0.077117</td>\n",
       "      <td>0.123346</td>\n",
       "      <td>0.091988</td>\n",
       "      <td>0.291022</td>\n",
       "      <td>hnsw</td>\n",
       "      <td>100</td>\n",
       "      <td>30</td>\n",
       "      <td>8</td>\n",
       "      <td>cosine</td>\n",
       "      <td>float16</td>\n",
       "    </tr>\n",
       "  </tbody>\n",
       "</table>\n",
       "</div>"
      ],
      "text/plain": [
       "  search_method  total_indexing_time  avg_query_time  \\\n",
       "0        vector                2.494        0.001323   \n",
       "1        vector                2.541        0.000848   \n",
       "2     lin_combo               15.681        0.007287   \n",
       "3     lin_combo               12.842        0.005013   \n",
       "4        vector               23.425        0.001537   \n",
       "5     lin_combo               21.543        0.009519   \n",
       "6     lin_combo               24.259        0.009285   \n",
       "7     lin_combo               12.489        0.009104   \n",
       "8     lin_combo               18.671        0.009257   \n",
       "9        vector                9.401        0.001018   \n",
       "\n",
       "                                    model  model_dim  ret_k  recall@k  \\\n",
       "0  sentence-transformers/all-MiniLM-L6-v2        384      8  0.143616   \n",
       "1  sentence-transformers/all-MiniLM-L6-v2        384      9  0.123587   \n",
       "2  sentence-transformers/all-MiniLM-L6-v2        384      1  0.119586   \n",
       "3  sentence-transformers/all-MiniLM-L6-v2        384      9  0.119653   \n",
       "4  sentence-transformers/all-MiniLM-L6-v2        384      5  0.086093   \n",
       "5  sentence-transformers/all-MiniLM-L6-v2        384      4  0.106565   \n",
       "6  sentence-transformers/all-MiniLM-L6-v2        384      4  0.106565   \n",
       "7  sentence-transformers/all-MiniLM-L6-v2        384      5  0.106565   \n",
       "8  sentence-transformers/all-MiniLM-L6-v2        384     10  0.106565   \n",
       "9  sentence-transformers/all-MiniLM-L6-v2        384      4  0.077117   \n",
       "\n",
       "     ndcg@k      f1@k  precision algorithm  ef_construction  ef_runtime   m  \\\n",
       "0  0.184212  0.122952   0.235913      hnsw              150          30   8   \n",
       "1  0.166272  0.111093   0.222291      hnsw              200          10   8   \n",
       "2  0.175151  0.121041   0.302786      hnsw              100          50  64   \n",
       "3  0.175047  0.121153   0.302993      hnsw              300          10  16   \n",
       "4  0.133997  0.100437   0.300310      hnsw              150          30  16   \n",
       "5  0.162540  0.115152   0.322755      hnsw              200          50  64   \n",
       "6  0.162540  0.115152   0.322755      hnsw              250          30  64   \n",
       "7  0.162540  0.115152   0.322755      hnsw              100          50  64   \n",
       "8  0.162540  0.115152   0.322755      hnsw              200          30  16   \n",
       "9  0.123346  0.091988   0.291022      hnsw              100          30   8   \n",
       "\n",
       "  distance_metric vector_data_type  \n",
       "0          cosine          float32  \n",
       "1          cosine          float32  \n",
       "2          cosine          float16  \n",
       "3          cosine          float32  \n",
       "4          cosine          float16  \n",
       "5          cosine          float16  \n",
       "6          cosine          float16  \n",
       "7          cosine          float16  \n",
       "8          cosine          float16  \n",
       "9          cosine          float16  "
      ]
     },
     "execution_count": 2,
     "metadata": {},
     "output_type": "execute_result"
    }
   ],
   "source": [
    "metrics"
   ]
  },
  {
   "cell_type": "code",
   "execution_count": null,
   "id": "83f53a36",
   "metadata": {},
   "outputs": [],
   "source": []
  }
 ],
 "metadata": {
  "kernelspec": {
   "display_name": "Python 3",
   "language": "python",
   "name": "python3"
  },
  "language_info": {
   "codemirror_mode": {
    "name": "ipython",
    "version": 3
   },
   "file_extension": ".py",
   "mimetype": "text/x-python",
   "name": "python",
   "nbconvert_exporter": "python",
   "pygments_lexer": "ipython3",
   "version": "3.11.9"
  }
 },
 "nbformat": 4,
 "nbformat_minor": 5
}
