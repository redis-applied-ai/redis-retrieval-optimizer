{
 "cells": [
  {
   "cell_type": "markdown",
   "id": "6593a958",
   "metadata": {},
   "source": [
    "\n",
    "# Bayesian Optimization with Retrieval Optimizer\n",
    "\n",
    "This notebook demonstrates how to use Bayesian optimization to tune Redis-based retrieval pipelines. Unlike a grid study—which tests all combinations—Bayesian optimization intelligently searches the configuration space, prioritizing promising settings based on previous results. This is especially useful when the number of possible configurations is large and exhaustive search would be too costly.\n",
    "\n",
    "You'll define a study configuration, specify embedding models and search methods, and let the optimizer guide the search toward the best-performing retrieval setup.\n",
    "\n",
    "\n",
    "## Dataset\n",
    "\n",
    "We'll import a dataset from the [beir benchmark IR project](https://github.com/beir-cellar/beir) to get going quickly. \n",
    "\n"
   ]
  },
  {
   "cell_type": "code",
   "execution_count": null,
   "id": "46aac6ae",
   "metadata": {},
   "outputs": [],
   "source": [
    "# Load data\n",
    "from redis_retrieval_optimizer.corpus_processors import eval_beir\n",
    "\n",
    "# check the link above for different datasets to try\n",
    "beir_dataset_name = \"nfcorpus\"\n",
    "\n",
    "# Load sample data\n",
    "corpus, queries, qrels = eval_beir.get_beir_dataset(beir_dataset_name)"
   ]
  },
  {
   "cell_type": "markdown",
   "id": "48d65c79",
   "metadata": {},
   "source": [
    "## Study config\n",
    "\n",
    "In this directory there is a yaml file containing a configuration for a bayesian study that looks like this:\n",
    "\n",
    "```yaml\n",
    "# path to data files for easy read\n",
    "corpus: \"data/nfcorpus_corpus.json\"\n",
    "queries: \"data/nfcorpus_queries.json\"\n",
    "qrels: \"data/nfcorpus_qrels.json\"\n",
    "\n",
    "index_settings:\n",
    "  name: \"optimize\"\n",
    "  vector_field_name: \"vector\" # name of the vector field to search on\n",
    "  text_field_name: \"text\" # name of the text field for lexical search\n",
    "  from_existing: false\n",
    "  vector_dim: 384 # should match first embedding model or from_existing\n",
    "  additional_fields:\n",
    "      - name: \"title\"\n",
    "        type: \"text\"\n",
    "\n",
    "optimization_settings:\n",
    "  # defines the options optimization can take\n",
    "  metric_weights:\n",
    "    f1_at_k: 1\n",
    "    embedding_latency: 1\n",
    "    total_indexing_time: 1\n",
    "  algorithms: [\"hnsw\"]\n",
    "  vector_data_types: [\"float16\", \"float32\"]\n",
    "  distance_metrics: [\"cosine\"]\n",
    "  n_trials: 10\n",
    "  n_jobs: 1\n",
    "  ret_k: [1, 10] # potential range of value to be sampled during study\n",
    "  ef_runtime: [10, 20, 30, 50]\n",
    "  ef_construction: [100, 150, 200, 250, 300]\n",
    "  m: [8, 16, 64]\n",
    "\n",
    "\n",
    "search_methods: [\"vector\", \"lin_combo\"]\n",
    "embedding_models:\n",
    "  - type: \"hf\"\n",
    "    model: \"sentence-transformers/all-MiniLM-L6-v2\"\n",
    "    dim: 384\n",
    "    embedding_cache_name: \"vec-cache\" # avoid names with including 'ret-opt' as this can cause collisions\n",
    "    dtype: \"float32\"\n",
    "```\n",
    "\n",
    "## Running a study\n",
    "\n",
    "To run a study simple pass the path to config, redis_url, and corpus processing function to the `run_bayes_study` function and the package will take care of the rest. "
   ]
  },
  {
   "cell_type": "code",
   "execution_count": 1,
   "id": "2c94f556",
   "metadata": {},
   "outputs": [
    {
     "name": "stderr",
     "output_type": "stream",
     "text": [
      "/Users/robert.shelton/Library/Caches/pypoetry/virtualenvs/redis-retrieval-optimizer-OYoDaORV-py3.11/lib/python3.11/site-packages/tqdm/auto.py:21: TqdmWarning: IProgress not found. Please update jupyter and ipywidgets. See https://ipywidgets.readthedocs.io/en/stable/user_install.html\n",
      "  from .autonotebook import tqdm as notebook_tqdm\n",
      "[I 2025-05-14 14:01:37,473] A new study created in memory with name: test\n"
     ]
    },
    {
     "name": "stdout",
     "output_type": "stream",
     "text": [
      "14:01:37 redisvl.index.index INFO   Index already exists, overwriting.\n",
      "14:01:39 sentence_transformers.SentenceTransformer INFO   Use pytorch device_name: mps\n",
      "14:01:39 sentence_transformers.SentenceTransformer INFO   Load pretrained SentenceTransformer: sentence-transformers/all-MiniLM-L6-v2\n"
     ]
    },
    {
     "name": "stderr",
     "output_type": "stream",
     "text": [
      "Batches: 100%|██████████| 1/1 [00:00<00:00,  6.27it/s]"
     ]
    },
    {
     "name": "stdout",
     "output_type": "stream",
     "text": [
      "14:01:40 root INFO   Recreating index...\n"
     ]
    },
    {
     "name": "stderr",
     "output_type": "stream",
     "text": [
      "\n"
     ]
    },
    {
     "name": "stdout",
     "output_type": "stream",
     "text": [
      "14:01:41 root INFO   Corpus size: 3633\n",
      "14:01:45 root INFO   Data indexed total_indexing_time=3.559s, num_docs=3633\n"
     ]
    },
    {
     "name": "stderr",
     "output_type": "stream",
     "text": [
      "Batches: 100%|██████████| 1/1 [00:00<00:00, 11.66it/s]\n",
      "Batches: 100%|██████████| 1/1 [00:00<00:00, 12.60it/s]\n",
      "Batches: 100%|██████████| 1/1 [00:00<00:00, 17.81it/s]\n",
      "Batches: 100%|██████████| 1/1 [00:00<00:00, 17.63it/s]\n",
      "Batches: 100%|██████████| 1/1 [00:00<00:00, 112.88it/s]\n",
      "Batches: 100%|██████████| 1/1 [00:00<00:00, 17.00it/s]\n",
      "Batches: 100%|██████████| 1/1 [00:00<00:00, 15.05it/s]\n",
      "Batches: 100%|██████████| 1/1 [00:00<00:00, 98.55it/s]\n",
      "Batches: 100%|██████████| 1/1 [00:00<00:00, 113.59it/s]\n",
      "Batches: 100%|██████████| 1/1 [00:00<00:00, 17.20it/s]\n",
      "Batches: 100%|██████████| 1/1 [00:00<00:00, 103.68it/s]\n",
      "Batches: 100%|██████████| 1/1 [00:00<00:00, 100.60it/s]\n",
      "Batches: 100%|██████████| 1/1 [00:00<00:00, 115.67it/s]\n",
      "Batches: 100%|██████████| 1/1 [00:00<00:00, 17.03it/s]\n",
      "Batches: 100%|██████████| 1/1 [00:00<00:00, 102.48it/s]\n",
      "Batches: 100%|██████████| 1/1 [00:00<00:00, 111.17it/s]\n",
      "Batches: 100%|██████████| 1/1 [00:00<00:00, 99.06it/s]\n",
      "Batches: 100%|██████████| 1/1 [00:00<00:00, 116.37it/s]\n",
      "Batches: 100%|██████████| 1/1 [00:00<00:00, 104.17it/s]\n",
      "Batches: 100%|██████████| 1/1 [00:00<00:00, 115.30it/s]\n",
      "Batches: 100%|██████████| 1/1 [00:00<00:00, 114.36it/s]\n",
      "Batches: 100%|██████████| 1/1 [00:00<00:00, 96.08it/s]\n",
      "Batches: 100%|██████████| 1/1 [00:00<00:00, 106.16it/s]\n",
      "Batches: 100%|██████████| 1/1 [00:00<00:00, 107.48it/s]\n",
      "Batches: 100%|██████████| 1/1 [00:00<00:00, 110.78it/s]\n",
      "Batches: 100%|██████████| 1/1 [00:00<00:00, 117.19it/s]\n",
      "Batches: 100%|██████████| 1/1 [00:00<00:00, 110.68it/s]\n",
      "Batches: 100%|██████████| 1/1 [00:00<00:00, 103.82it/s]\n",
      "Batches: 100%|██████████| 1/1 [00:00<00:00, 106.47it/s]\n",
      "Batches: 100%|██████████| 1/1 [00:00<00:00, 16.10it/s]\n",
      "Batches: 100%|██████████| 1/1 [00:00<00:00, 16.83it/s]\n",
      "Batches: 100%|██████████| 1/1 [00:00<00:00, 16.29it/s]\n",
      "Batches: 100%|██████████| 1/1 [00:00<00:00, 17.19it/s]\n",
      "Batches: 100%|██████████| 1/1 [00:00<00:00, 104.23it/s]\n",
      "Batches: 100%|██████████| 1/1 [00:00<00:00, 17.42it/s]\n",
      "Batches: 100%|██████████| 1/1 [00:00<00:00, 106.47it/s]\n",
      "Batches: 100%|██████████| 1/1 [00:00<00:00, 101.56it/s]\n",
      "Batches: 100%|██████████| 1/1 [00:00<00:00, 102.36it/s]\n",
      "Batches: 100%|██████████| 1/1 [00:00<00:00, 108.78it/s]\n",
      "Batches: 100%|██████████| 1/1 [00:00<00:00, 101.62it/s]\n",
      "Batches: 100%|██████████| 1/1 [00:00<00:00, 97.34it/s]\n",
      "Batches: 100%|██████████| 1/1 [00:00<00:00, 17.80it/s]\n",
      "Batches: 100%|██████████| 1/1 [00:00<00:00, 16.00it/s]\n",
      "Batches: 100%|██████████| 1/1 [00:00<00:00, 104.58it/s]\n",
      "Batches: 100%|██████████| 1/1 [00:00<00:00, 16.13it/s]\n",
      "Batches: 100%|██████████| 1/1 [00:00<00:00, 93.10it/s]\n",
      "Batches: 100%|██████████| 1/1 [00:00<00:00, 109.73it/s]\n",
      "Batches: 100%|██████████| 1/1 [00:00<00:00, 105.20it/s]\n",
      "Batches: 100%|██████████| 1/1 [00:00<00:00, 104.14it/s]\n",
      "Batches: 100%|██████████| 1/1 [00:00<00:00, 112.58it/s]\n",
      "Batches: 100%|██████████| 1/1 [00:00<00:00, 103.85it/s]\n",
      "Batches: 100%|██████████| 1/1 [00:00<00:00, 102.67it/s]\n",
      "Batches: 100%|██████████| 1/1 [00:00<00:00, 101.68it/s]\n",
      "Batches: 100%|██████████| 1/1 [00:00<00:00, 100.28it/s]\n",
      "Batches: 100%|██████████| 1/1 [00:00<00:00, 113.97it/s]\n",
      "Batches: 100%|██████████| 1/1 [00:00<00:00, 103.78it/s]\n",
      "Batches: 100%|██████████| 1/1 [00:00<00:00, 103.53it/s]\n",
      "Batches: 100%|██████████| 1/1 [00:00<00:00, 108.78it/s]\n",
      "Batches: 100%|██████████| 1/1 [00:00<00:00, 102.86it/s]\n",
      "Batches: 100%|██████████| 1/1 [00:00<00:00, 54.54it/s]\n",
      "Batches: 100%|██████████| 1/1 [00:00<00:00, 106.41it/s]\n",
      "Batches: 100%|██████████| 1/1 [00:00<00:00, 114.86it/s]\n",
      "Batches: 100%|██████████| 1/1 [00:00<00:00, 107.39it/s]\n",
      "Batches: 100%|██████████| 1/1 [00:00<00:00, 112.59it/s]\n",
      "Batches: 100%|██████████| 1/1 [00:00<00:00, 102.67it/s]\n",
      "Batches: 100%|██████████| 1/1 [00:00<00:00, 111.92it/s]\n",
      "Batches: 100%|██████████| 1/1 [00:00<00:00, 97.64it/s]\n",
      "Batches: 100%|██████████| 1/1 [00:00<00:00, 104.40it/s]\n",
      "Batches: 100%|██████████| 1/1 [00:00<00:00, 95.79it/s]\n",
      "Batches: 100%|██████████| 1/1 [00:00<00:00, 103.57it/s]\n",
      "Batches: 100%|██████████| 1/1 [00:00<00:00, 108.90it/s]\n",
      "Batches: 100%|██████████| 1/1 [00:00<00:00, 101.38it/s]\n",
      "Batches: 100%|██████████| 1/1 [00:00<00:00, 107.10it/s]\n",
      "Batches: 100%|██████████| 1/1 [00:00<00:00, 37.67it/s]\n",
      "Batches: 100%|██████████| 1/1 [00:00<00:00, 105.18it/s]\n",
      "Batches: 100%|██████████| 1/1 [00:00<00:00, 112.09it/s]\n",
      "Batches: 100%|██████████| 1/1 [00:00<00:00, 105.76it/s]\n",
      "Batches: 100%|██████████| 1/1 [00:00<00:00, 106.53it/s]\n",
      "Batches: 100%|██████████| 1/1 [00:00<00:00, 106.57it/s]\n",
      "Batches: 100%|██████████| 1/1 [00:00<00:00, 112.05it/s]\n",
      "Batches: 100%|██████████| 1/1 [00:00<00:00, 102.71it/s]\n",
      "Batches: 100%|██████████| 1/1 [00:00<00:00, 103.00it/s]\n",
      "Batches: 100%|██████████| 1/1 [00:00<00:00, 113.97it/s]\n",
      "Batches: 100%|██████████| 1/1 [00:00<00:00, 107.96it/s]\n",
      "Batches: 100%|██████████| 1/1 [00:00<00:00, 108.18it/s]\n",
      "Batches: 100%|██████████| 1/1 [00:00<00:00, 115.33it/s]\n",
      "Batches: 100%|██████████| 1/1 [00:00<00:00, 111.56it/s]\n",
      "Batches: 100%|██████████| 1/1 [00:00<00:00, 108.40it/s]\n",
      "Batches: 100%|██████████| 1/1 [00:00<00:00, 110.18it/s]\n",
      "Batches: 100%|██████████| 1/1 [00:00<00:00, 110.39it/s]\n",
      "Batches: 100%|██████████| 1/1 [00:00<00:00, 105.04it/s]\n",
      "Batches: 100%|██████████| 1/1 [00:00<00:00, 111.62it/s]\n",
      "Batches: 100%|██████████| 1/1 [00:00<00:00, 106.51it/s]\n",
      "Batches: 100%|██████████| 1/1 [00:00<00:00, 110.44it/s]\n",
      "Batches: 100%|██████████| 1/1 [00:00<00:00, 108.85it/s]\n",
      "Batches: 100%|██████████| 1/1 [00:00<00:00, 105.08it/s]\n",
      "Batches: 100%|██████████| 1/1 [00:00<00:00, 112.26it/s]\n",
      "Batches: 100%|██████████| 1/1 [00:00<00:00, 110.55it/s]\n",
      "Batches: 100%|██████████| 1/1 [00:00<00:00, 99.68it/s]\n",
      "Batches: 100%|██████████| 1/1 [00:00<00:00, 106.81it/s]\n",
      "Batches: 100%|██████████| 1/1 [00:00<00:00, 108.51it/s]\n",
      "Batches: 100%|██████████| 1/1 [00:00<00:00, 105.06it/s]\n",
      "Batches: 100%|██████████| 1/1 [00:00<00:00, 109.91it/s]\n",
      "Batches: 100%|██████████| 1/1 [00:00<00:00, 107.15it/s]\n",
      "Batches: 100%|██████████| 1/1 [00:00<00:00, 107.24it/s]\n",
      "Batches: 100%|██████████| 1/1 [00:00<00:00, 110.12it/s]\n",
      "Batches: 100%|██████████| 1/1 [00:00<00:00, 106.52it/s]\n",
      "Batches: 100%|██████████| 1/1 [00:00<00:00, 112.06it/s]\n",
      "Batches: 100%|██████████| 1/1 [00:00<00:00, 111.97it/s]\n",
      "Batches: 100%|██████████| 1/1 [00:00<00:00, 106.57it/s]\n",
      "Batches: 100%|██████████| 1/1 [00:00<00:00, 101.21it/s]\n",
      "Batches: 100%|██████████| 1/1 [00:00<00:00, 108.81it/s]\n",
      "Batches: 100%|██████████| 1/1 [00:00<00:00, 104.92it/s]\n",
      "Batches: 100%|██████████| 1/1 [00:00<00:00, 115.42it/s]\n",
      "Batches: 100%|██████████| 1/1 [00:00<00:00, 112.83it/s]\n",
      "Batches: 100%|██████████| 1/1 [00:00<00:00, 106.36it/s]\n",
      "Batches: 100%|██████████| 1/1 [00:00<00:00, 109.71it/s]\n",
      "Batches: 100%|██████████| 1/1 [00:00<00:00, 109.88it/s]\n",
      "Batches: 100%|██████████| 1/1 [00:00<00:00, 106.99it/s]\n",
      "Batches: 100%|██████████| 1/1 [00:00<00:00, 105.66it/s]\n",
      "Batches: 100%|██████████| 1/1 [00:00<00:00, 105.97it/s]\n",
      "Batches: 100%|██████████| 1/1 [00:00<00:00, 22.51it/s]\n",
      "Batches: 100%|██████████| 1/1 [00:00<00:00, 52.99it/s]\n",
      "Batches: 100%|██████████| 1/1 [00:00<00:00, 107.01it/s]\n",
      "Batches: 100%|██████████| 1/1 [00:00<00:00, 112.09it/s]\n",
      "Batches: 100%|██████████| 1/1 [00:00<00:00, 112.11it/s]\n",
      "Batches: 100%|██████████| 1/1 [00:00<00:00, 113.79it/s]\n",
      "Batches: 100%|██████████| 1/1 [00:00<00:00, 114.10it/s]\n",
      "Batches: 100%|██████████| 1/1 [00:00<00:00, 51.25it/s]\n",
      "Batches: 100%|██████████| 1/1 [00:00<00:00, 103.39it/s]\n",
      "Batches: 100%|██████████| 1/1 [00:00<00:00, 107.02it/s]\n",
      "Batches: 100%|██████████| 1/1 [00:00<00:00, 111.27it/s]\n",
      "Batches: 100%|██████████| 1/1 [00:00<00:00, 106.57it/s]\n",
      "Batches: 100%|██████████| 1/1 [00:00<00:00, 112.41it/s]\n",
      "Batches: 100%|██████████| 1/1 [00:00<00:00, 110.86it/s]\n",
      "Batches: 100%|██████████| 1/1 [00:00<00:00, 113.34it/s]\n",
      "Batches: 100%|██████████| 1/1 [00:00<00:00, 109.42it/s]\n",
      "Batches: 100%|██████████| 1/1 [00:00<00:00, 107.29it/s]\n",
      "Batches: 100%|██████████| 1/1 [00:00<00:00, 102.78it/s]\n",
      "Batches: 100%|██████████| 1/1 [00:00<00:00, 109.33it/s]\n",
      "Batches: 100%|██████████| 1/1 [00:00<00:00, 105.53it/s]\n",
      "Batches: 100%|██████████| 1/1 [00:00<00:00, 112.32it/s]\n",
      "Batches: 100%|██████████| 1/1 [00:00<00:00, 113.37it/s]\n",
      "Batches: 100%|██████████| 1/1 [00:00<00:00, 113.53it/s]\n",
      "Batches: 100%|██████████| 1/1 [00:00<00:00, 108.47it/s]\n",
      "Batches: 100%|██████████| 1/1 [00:00<00:00, 106.53it/s]\n",
      "Batches: 100%|██████████| 1/1 [00:00<00:00, 112.42it/s]\n",
      "Batches: 100%|██████████| 1/1 [00:00<00:00, 104.33it/s]\n",
      "Batches: 100%|██████████| 1/1 [00:00<00:00, 113.57it/s]\n",
      "Batches: 100%|██████████| 1/1 [00:00<00:00, 113.34it/s]\n",
      "Batches: 100%|██████████| 1/1 [00:00<00:00, 108.35it/s]\n",
      "Batches: 100%|██████████| 1/1 [00:00<00:00, 108.58it/s]\n",
      "Batches: 100%|██████████| 1/1 [00:00<00:00, 112.67it/s]\n",
      "Batches: 100%|██████████| 1/1 [00:00<00:00, 107.09it/s]\n",
      "Batches: 100%|██████████| 1/1 [00:00<00:00, 115.39it/s]\n",
      "Batches: 100%|██████████| 1/1 [00:00<00:00, 104.14it/s]\n",
      "Batches: 100%|██████████| 1/1 [00:00<00:00, 117.72it/s]\n",
      "Batches: 100%|██████████| 1/1 [00:00<00:00, 108.72it/s]\n",
      "Batches: 100%|██████████| 1/1 [00:00<00:00, 115.98it/s]\n",
      "Batches: 100%|██████████| 1/1 [00:00<00:00, 106.69it/s]\n",
      "Batches: 100%|██████████| 1/1 [00:00<00:00, 105.89it/s]\n",
      "Batches: 100%|██████████| 1/1 [00:00<00:00, 109.76it/s]\n",
      "Batches: 100%|██████████| 1/1 [00:00<00:00, 114.78it/s]\n",
      "Batches: 100%|██████████| 1/1 [00:00<00:00, 104.66it/s]\n",
      "Batches: 100%|██████████| 1/1 [00:00<00:00, 108.59it/s]\n",
      "Batches: 100%|██████████| 1/1 [00:00<00:00, 112.89it/s]\n",
      "Batches: 100%|██████████| 1/1 [00:00<00:00, 107.96it/s]\n",
      "Batches: 100%|██████████| 1/1 [00:00<00:00, 114.38it/s]\n",
      "Batches: 100%|██████████| 1/1 [00:00<00:00, 111.97it/s]\n",
      "Batches: 100%|██████████| 1/1 [00:00<00:00, 104.98it/s]\n",
      "Batches: 100%|██████████| 1/1 [00:00<00:00, 110.87it/s]\n",
      "Batches: 100%|██████████| 1/1 [00:00<00:00, 106.41it/s]\n",
      "Batches: 100%|██████████| 1/1 [00:00<00:00, 105.36it/s]\n",
      "Batches: 100%|██████████| 1/1 [00:00<00:00, 105.63it/s]\n",
      "Batches: 100%|██████████| 1/1 [00:00<00:00, 74.46it/s]\n",
      "Batches: 100%|██████████| 1/1 [00:00<00:00, 109.58it/s]\n",
      "Batches: 100%|██████████| 1/1 [00:00<00:00, 108.95it/s]\n",
      "Batches: 100%|██████████| 1/1 [00:00<00:00, 101.85it/s]\n",
      "Batches: 100%|██████████| 1/1 [00:00<00:00, 106.29it/s]\n",
      "Batches: 100%|██████████| 1/1 [00:00<00:00, 104.99it/s]\n",
      "Batches: 100%|██████████| 1/1 [00:00<00:00, 110.07it/s]\n",
      "Batches: 100%|██████████| 1/1 [00:00<00:00, 113.04it/s]\n",
      "Batches: 100%|██████████| 1/1 [00:00<00:00, 98.59it/s]\n",
      "Batches: 100%|██████████| 1/1 [00:00<00:00, 107.44it/s]\n",
      "Batches: 100%|██████████| 1/1 [00:00<00:00, 114.57it/s]\n",
      "Batches: 100%|██████████| 1/1 [00:00<00:00, 118.36it/s]\n",
      "Batches: 100%|██████████| 1/1 [00:00<00:00, 106.70it/s]\n",
      "Batches: 100%|██████████| 1/1 [00:00<00:00, 108.69it/s]\n",
      "Batches: 100%|██████████| 1/1 [00:00<00:00, 108.55it/s]\n",
      "Batches: 100%|██████████| 1/1 [00:00<00:00, 105.54it/s]\n",
      "Batches: 100%|██████████| 1/1 [00:00<00:00, 104.56it/s]\n",
      "Batches: 100%|██████████| 1/1 [00:00<00:00, 112.79it/s]\n",
      "Batches: 100%|██████████| 1/1 [00:00<00:00, 108.68it/s]\n",
      "Batches: 100%|██████████| 1/1 [00:00<00:00, 120.38it/s]\n",
      "Batches: 100%|██████████| 1/1 [00:00<00:00, 113.52it/s]\n",
      "Batches: 100%|██████████| 1/1 [00:00<00:00, 107.99it/s]\n",
      "Batches: 100%|██████████| 1/1 [00:00<00:00, 108.07it/s]\n",
      "Batches: 100%|██████████| 1/1 [00:00<00:00, 114.69it/s]\n",
      "Batches: 100%|██████████| 1/1 [00:00<00:00, 101.51it/s]\n",
      "Batches: 100%|██████████| 1/1 [00:00<00:00, 105.03it/s]\n",
      "Batches: 100%|██████████| 1/1 [00:00<00:00, 104.48it/s]\n",
      "Batches: 100%|██████████| 1/1 [00:00<00:00, 108.95it/s]\n",
      "Batches: 100%|██████████| 1/1 [00:00<00:00, 109.74it/s]\n",
      "Batches: 100%|██████████| 1/1 [00:00<00:00, 112.05it/s]\n",
      "Batches: 100%|██████████| 1/1 [00:00<00:00, 105.07it/s]\n",
      "Batches: 100%|██████████| 1/1 [00:00<00:00, 110.85it/s]\n",
      "Batches: 100%|██████████| 1/1 [00:00<00:00, 110.14it/s]\n",
      "Batches: 100%|██████████| 1/1 [00:00<00:00, 100.00it/s]\n",
      "Batches: 100%|██████████| 1/1 [00:00<00:00, 110.95it/s]\n",
      "Batches: 100%|██████████| 1/1 [00:00<00:00, 118.74it/s]\n",
      "Batches: 100%|██████████| 1/1 [00:00<00:00, 121.51it/s]\n",
      "Batches: 100%|██████████| 1/1 [00:00<00:00, 113.73it/s]\n",
      "Batches: 100%|██████████| 1/1 [00:00<00:00, 113.62it/s]\n",
      "Batches: 100%|██████████| 1/1 [00:00<00:00, 110.35it/s]\n",
      "Batches: 100%|██████████| 1/1 [00:00<00:00, 115.87it/s]\n",
      "Batches: 100%|██████████| 1/1 [00:00<00:00, 99.57it/s]\n",
      "Batches: 100%|██████████| 1/1 [00:00<00:00, 104.73it/s]\n",
      "Batches: 100%|██████████| 1/1 [00:00<00:00, 104.53it/s]\n",
      "Batches: 100%|██████████| 1/1 [00:00<00:00, 114.25it/s]\n",
      "Batches: 100%|██████████| 1/1 [00:00<00:00, 116.08it/s]\n",
      "Batches: 100%|██████████| 1/1 [00:00<00:00, 109.23it/s]\n",
      "Batches: 100%|██████████| 1/1 [00:00<00:00, 115.50it/s]\n",
      "Batches: 100%|██████████| 1/1 [00:00<00:00, 115.97it/s]\n",
      "Batches: 100%|██████████| 1/1 [00:00<00:00, 113.61it/s]\n",
      "Batches: 100%|██████████| 1/1 [00:00<00:00, 54.48it/s]\n",
      "Batches: 100%|██████████| 1/1 [00:00<00:00, 109.36it/s]\n",
      "Batches: 100%|██████████| 1/1 [00:00<00:00, 111.44it/s]\n",
      "Batches: 100%|██████████| 1/1 [00:00<00:00, 113.21it/s]\n",
      "Batches: 100%|██████████| 1/1 [00:00<00:00, 114.10it/s]\n",
      "Batches: 100%|██████████| 1/1 [00:00<00:00, 117.56it/s]\n",
      "Batches: 100%|██████████| 1/1 [00:00<00:00, 109.90it/s]\n",
      "Batches: 100%|██████████| 1/1 [00:00<00:00, 113.70it/s]\n",
      "Batches: 100%|██████████| 1/1 [00:00<00:00, 99.63it/s]\n",
      "Batches: 100%|██████████| 1/1 [00:00<00:00, 109.97it/s]\n",
      "Batches: 100%|██████████| 1/1 [00:00<00:00, 109.82it/s]\n",
      "Batches: 100%|██████████| 1/1 [00:00<00:00, 112.60it/s]\n",
      "Batches: 100%|██████████| 1/1 [00:00<00:00, 102.44it/s]\n",
      "Batches: 100%|██████████| 1/1 [00:00<00:00, 106.09it/s]\n",
      "Batches: 100%|██████████| 1/1 [00:00<00:00, 106.96it/s]\n",
      "Batches: 100%|██████████| 1/1 [00:00<00:00, 109.68it/s]\n",
      "Batches: 100%|██████████| 1/1 [00:00<00:00, 103.84it/s]\n",
      "Batches: 100%|██████████| 1/1 [00:00<00:00, 16.95it/s]\n",
      "Batches: 100%|██████████| 1/1 [00:00<00:00, 100.62it/s]\n",
      "Batches: 100%|██████████| 1/1 [00:00<00:00, 92.09it/s]\n",
      "Batches: 100%|██████████| 1/1 [00:00<00:00, 108.20it/s]\n",
      "Batches: 100%|██████████| 1/1 [00:00<00:00, 105.94it/s]\n",
      "Batches: 100%|██████████| 1/1 [00:00<00:00, 117.05it/s]\n",
      "Batches: 100%|██████████| 1/1 [00:00<00:00, 106.28it/s]\n",
      "Batches: 100%|██████████| 1/1 [00:00<00:00, 109.80it/s]\n",
      "Batches: 100%|██████████| 1/1 [00:00<00:00, 114.06it/s]\n",
      "Batches: 100%|██████████| 1/1 [00:00<00:00, 100.96it/s]\n",
      "Batches: 100%|██████████| 1/1 [00:00<00:00, 105.76it/s]\n",
      "Batches: 100%|██████████| 1/1 [00:00<00:00, 25.55it/s]\n",
      "Batches: 100%|██████████| 1/1 [00:00<00:00, 82.14it/s]\n",
      "Batches: 100%|██████████| 1/1 [00:00<00:00, 106.33it/s]\n",
      "Batches: 100%|██████████| 1/1 [00:00<00:00, 113.37it/s]\n",
      "Batches: 100%|██████████| 1/1 [00:00<00:00, 106.77it/s]\n",
      "Batches: 100%|██████████| 1/1 [00:00<00:00, 101.99it/s]\n",
      "Batches: 100%|██████████| 1/1 [00:00<00:00, 105.67it/s]\n",
      "Batches: 100%|██████████| 1/1 [00:00<00:00, 102.91it/s]\n",
      "Batches: 100%|██████████| 1/1 [00:00<00:00, 110.00it/s]\n",
      "Batches: 100%|██████████| 1/1 [00:00<00:00, 104.70it/s]\n",
      "Batches: 100%|██████████| 1/1 [00:00<00:00, 101.53it/s]\n",
      "Batches: 100%|██████████| 1/1 [00:00<00:00, 106.54it/s]\n",
      "Batches: 100%|██████████| 1/1 [00:00<00:00, 101.44it/s]\n",
      "Batches: 100%|██████████| 1/1 [00:00<00:00, 104.35it/s]\n",
      "Batches: 100%|██████████| 1/1 [00:00<00:00, 108.26it/s]\n",
      "Batches: 100%|██████████| 1/1 [00:00<00:00, 109.40it/s]\n",
      "Batches: 100%|██████████| 1/1 [00:00<00:00, 114.65it/s]\n",
      "Batches: 100%|██████████| 1/1 [00:00<00:00, 109.77it/s]\n",
      "Batches: 100%|██████████| 1/1 [00:00<00:00, 110.61it/s]\n",
      "Batches: 100%|██████████| 1/1 [00:00<00:00, 100.69it/s]\n",
      "Batches: 100%|██████████| 1/1 [00:00<00:00, 47.20it/s]\n",
      "Batches: 100%|██████████| 1/1 [00:00<00:00, 84.24it/s]\n",
      "Batches: 100%|██████████| 1/1 [00:00<00:00, 92.18it/s]\n",
      "Batches: 100%|██████████| 1/1 [00:00<00:00, 105.63it/s]\n",
      "Batches: 100%|██████████| 1/1 [00:00<00:00, 103.45it/s]\n",
      "Batches: 100%|██████████| 1/1 [00:00<00:00, 102.33it/s]\n",
      "Batches: 100%|██████████| 1/1 [00:00<00:00, 106.92it/s]\n",
      "Batches: 100%|██████████| 1/1 [00:00<00:00, 105.83it/s]\n",
      "Batches: 100%|██████████| 1/1 [00:00<00:00, 109.08it/s]\n",
      "Batches: 100%|██████████| 1/1 [00:00<00:00, 103.20it/s]\n",
      "Batches: 100%|██████████| 1/1 [00:00<00:00, 109.95it/s]\n",
      "Batches: 100%|██████████| 1/1 [00:00<00:00, 104.23it/s]\n",
      "Batches: 100%|██████████| 1/1 [00:00<00:00, 101.25it/s]\n",
      "Batches: 100%|██████████| 1/1 [00:00<00:00, 103.63it/s]\n",
      "Batches: 100%|██████████| 1/1 [00:00<00:00, 107.79it/s]\n",
      "Batches: 100%|██████████| 1/1 [00:00<00:00, 104.55it/s]\n",
      "Batches: 100%|██████████| 1/1 [00:00<00:00, 103.58it/s]\n",
      "Batches: 100%|██████████| 1/1 [00:00<00:00, 103.66it/s]\n",
      "Batches: 100%|██████████| 1/1 [00:00<00:00, 116.69it/s]\n",
      "Batches: 100%|██████████| 1/1 [00:00<00:00, 109.16it/s]\n",
      "Batches: 100%|██████████| 1/1 [00:00<00:00, 109.38it/s]\n",
      "Batches: 100%|██████████| 1/1 [00:00<00:00, 106.09it/s]\n",
      "Batches: 100%|██████████| 1/1 [00:00<00:00, 104.50it/s]\n",
      "Batches: 100%|██████████| 1/1 [00:00<00:00, 111.25it/s]\n",
      "Batches: 100%|██████████| 1/1 [00:00<00:00, 112.01it/s]\n",
      "Batches: 100%|██████████| 1/1 [00:00<00:00, 103.01it/s]\n",
      "Batches: 100%|██████████| 1/1 [00:00<00:00, 111.28it/s]\n",
      "Batches: 100%|██████████| 1/1 [00:00<00:00, 105.12it/s]\n",
      "Batches: 100%|██████████| 1/1 [00:00<00:00, 109.89it/s]\n",
      "Batches: 100%|██████████| 1/1 [00:00<00:00, 115.41it/s]\n",
      "Batches: 100%|██████████| 1/1 [00:00<00:00, 30.68it/s]\n",
      "Batches: 100%|██████████| 1/1 [00:00<00:00, 97.44it/s]\n",
      "Batches: 100%|██████████| 1/1 [00:00<00:00, 108.51it/s]\n",
      "Batches: 100%|██████████| 1/1 [00:00<00:00, 104.52it/s]\n",
      "Batches: 100%|██████████| 1/1 [00:00<00:00, 101.36it/s]\n",
      "Batches: 100%|██████████| 1/1 [00:00<00:00, 103.59it/s]\n",
      "Batches: 100%|██████████| 1/1 [00:00<00:00, 109.57it/s]\n",
      "Batches: 100%|██████████| 1/1 [00:00<00:00, 101.82it/s]\n",
      "Batches: 100%|██████████| 1/1 [00:00<00:00, 106.07it/s]\n",
      "Batches: 100%|██████████| 1/1 [00:00<00:00, 102.85it/s]\n",
      "Batches: 100%|██████████| 1/1 [00:00<00:00, 103.67it/s]\n",
      "Batches: 100%|██████████| 1/1 [00:00<00:00, 107.55it/s]\n",
      "Batches: 100%|██████████| 1/1 [00:00<00:00, 111.74it/s]\n",
      "Batches: 100%|██████████| 1/1 [00:00<00:00, 102.55it/s]\n",
      "Batches: 100%|██████████| 1/1 [00:00<00:00, 103.64it/s]\n",
      "Batches: 100%|██████████| 1/1 [00:00<00:00, 107.05it/s]\n",
      "Batches: 100%|██████████| 1/1 [00:00<00:00, 111.54it/s]\n",
      "Batches: 100%|██████████| 1/1 [00:00<00:00, 87.77it/s]\n",
      "Batches: 100%|██████████| 1/1 [00:00<00:00, 97.21it/s]\n",
      "Batches: 100%|██████████| 1/1 [00:00<00:00, 101.42it/s]\n",
      "Batches: 100%|██████████| 1/1 [00:00<00:00, 107.42it/s]\n"
     ]
    },
    {
     "name": "stdout",
     "output_type": "stream",
     "text": [
      "14:01:54 root INFO   Saving metrics for study: 789c70ba-3208-44b1-9c06-db1888162d55, METRICS={'search_method': ['hybrid'], 'total_indexing_time': [3.559], 'avg_query_time': [0.004628060402884941], 'model': ['sentence-transformers/all-MiniLM-L6-v2'], 'model_dim': [384], 'ret_k': [9], 'recall@k': [0.15498797328057845], 'ndcg@k': [0.20362426675685422], 'f1@k': [0.13071176354799932], 'precision': [0.24334365325077406], 'algorithm': ['hnsw'], 'ef_construction': [200], 'ef_runtime': [50], 'm': [8], 'distance_metric': ['cosine'], 'vector_data_type': ['float16']}\n"
     ]
    },
    {
     "name": "stderr",
     "output_type": "stream",
     "text": [
      "[I 2025-05-14 14:01:54,619] Trial 0 finished with value: 3.559 and parameters: {'model_info': {'type': 'hf', 'model': 'sentence-transformers/all-MiniLM-L6-v2', 'dim': 384, 'embedding_cache_name': 'vec-cache', 'dtype': 'float32'}, 'search_method': 'hybrid', 'algorithm': 'hnsw', 'var_dtype': 'float16', 'distance_metric': 'cosine', 'ret_k': 9, 'ef_runtime': 50, 'ef_construction': 200, 'm': 8}. Best is trial 0 with value: 3.559.\n"
     ]
    },
    {
     "name": "stdout",
     "output_type": "stream",
     "text": [
      "14:01:54 redisvl.index.index INFO   Index already exists, overwriting.\n",
      "14:01:54 sentence_transformers.SentenceTransformer INFO   Use pytorch device_name: mps\n",
      "14:01:54 sentence_transformers.SentenceTransformer INFO   Load pretrained SentenceTransformer: sentence-transformers/all-MiniLM-L6-v2\n"
     ]
    },
    {
     "name": "stderr",
     "output_type": "stream",
     "text": [
      "Batches: 100%|██████████| 1/1 [00:00<00:00, 53.51it/s]\n"
     ]
    },
    {
     "name": "stdout",
     "output_type": "stream",
     "text": [
      "14:01:56 root INFO   Indexing progress: 0.5597934048470401\n",
      "14:01:57 root INFO   Indexing progress: 0.8359157727453318\n",
      "14:01:58 root INFO   Indexing progress: 1\n",
      "14:01:58 root INFO   Data indexed total_indexing_time=3.361s, num_docs=3633\n",
      "14:02:00 root INFO   Saving metrics for study: 789c70ba-3208-44b1-9c06-db1888162d55, METRICS={'search_method': ['hybrid', 'hybrid'], 'total_indexing_time': [3.559, 3.361], 'avg_query_time': [0.004628060402884941, 0.004614599718028916], 'model': ['sentence-transformers/all-MiniLM-L6-v2', 'sentence-transformers/all-MiniLM-L6-v2'], 'model_dim': [384, 384], 'ret_k': [9, 1], 'recall@k': [0.15498797328057845, 0.15498797328057845], 'ndcg@k': [0.20362426675685422, 0.2036483336219499], 'f1@k': [0.13071176354799932, 0.13071176354799932], 'precision': [0.24334365325077406, 0.24334365325077406], 'algorithm': ['hnsw', 'hnsw'], 'ef_construction': [200, 200], 'ef_runtime': [50, 30], 'm': [8, 8], 'distance_metric': ['cosine', 'cosine'], 'vector_data_type': ['float16', 'float16']}\n"
     ]
    },
    {
     "name": "stderr",
     "output_type": "stream",
     "text": [
      "[I 2025-05-14 14:02:00,649] Trial 1 finished with value: 3.361 and parameters: {'model_info': {'type': 'hf', 'model': 'sentence-transformers/all-MiniLM-L6-v2', 'dim': 384, 'embedding_cache_name': 'vec-cache', 'dtype': 'float32'}, 'search_method': 'hybrid', 'algorithm': 'hnsw', 'var_dtype': 'float16', 'distance_metric': 'cosine', 'ret_k': 1, 'ef_runtime': 30, 'ef_construction': 200, 'm': 8}. Best is trial 0 with value: 3.559.\n"
     ]
    },
    {
     "name": "stdout",
     "output_type": "stream",
     "text": [
      "14:02:00 redisvl.index.index INFO   Index already exists, overwriting.\n",
      "14:02:00 sentence_transformers.SentenceTransformer INFO   Use pytorch device_name: mps\n",
      "14:02:00 sentence_transformers.SentenceTransformer INFO   Load pretrained SentenceTransformer: sentence-transformers/all-MiniLM-L6-v2\n"
     ]
    },
    {
     "name": "stderr",
     "output_type": "stream",
     "text": [
      "Batches: 100%|██████████| 1/1 [00:00<00:00, 51.03it/s]"
     ]
    },
    {
     "name": "stdout",
     "output_type": "stream",
     "text": [
      "14:02:01 root INFO   Recreating index...\n"
     ]
    },
    {
     "name": "stderr",
     "output_type": "stream",
     "text": [
      "\n"
     ]
    },
    {
     "name": "stdout",
     "output_type": "stream",
     "text": [
      "14:02:02 root INFO   Corpus size: 3633\n",
      "14:02:06 root INFO   Data indexed total_indexing_time=3.126s, num_docs=3633\n",
      "14:02:07 root INFO   Saving metrics for study: 789c70ba-3208-44b1-9c06-db1888162d55, METRICS={'search_method': ['hybrid', 'hybrid', 'hybrid'], 'total_indexing_time': [3.559, 3.361, 3.126], 'avg_query_time': [0.004628060402884941, 0.004614599718028916, 0.00321132922689243], 'model': ['sentence-transformers/all-MiniLM-L6-v2', 'sentence-transformers/all-MiniLM-L6-v2', 'sentence-transformers/all-MiniLM-L6-v2'], 'model_dim': [384, 384, 384], 'ret_k': [9, 1, 7], 'recall@k': [0.15498797328057845, 0.15498797328057845, 0.15498797328057845], 'ndcg@k': [0.20362426675685422, 0.2036483336219499, 0.20362426675685422], 'f1@k': [0.13071176354799932, 0.13071176354799932, 0.13071176354799932], 'precision': [0.24334365325077406, 0.24334365325077406, 0.24334365325077406], 'algorithm': ['hnsw', 'hnsw', 'hnsw'], 'ef_construction': [200, 200, 250], 'ef_runtime': [50, 30, 50], 'm': [8, 8, 16], 'distance_metric': ['cosine', 'cosine', 'cosine'], 'vector_data_type': ['float16', 'float16', 'float32']}\n"
     ]
    },
    {
     "name": "stderr",
     "output_type": "stream",
     "text": [
      "[I 2025-05-14 14:02:07,794] Trial 2 finished with value: 3.126 and parameters: {'model_info': {'type': 'hf', 'model': 'sentence-transformers/all-MiniLM-L6-v2', 'dim': 384, 'embedding_cache_name': 'vec-cache', 'dtype': 'float32'}, 'search_method': 'hybrid', 'algorithm': 'hnsw', 'var_dtype': 'float32', 'distance_metric': 'cosine', 'ret_k': 7, 'ef_runtime': 50, 'ef_construction': 250, 'm': 16}. Best is trial 0 with value: 3.559.\n"
     ]
    },
    {
     "name": "stdout",
     "output_type": "stream",
     "text": [
      "14:02:07 redisvl.index.index INFO   Index already exists, overwriting.\n",
      "14:02:07 sentence_transformers.SentenceTransformer INFO   Use pytorch device_name: mps\n",
      "14:02:07 sentence_transformers.SentenceTransformer INFO   Load pretrained SentenceTransformer: sentence-transformers/all-MiniLM-L6-v2\n"
     ]
    },
    {
     "name": "stderr",
     "output_type": "stream",
     "text": [
      "Batches: 100%|██████████| 1/1 [00:00<00:00, 55.43it/s]"
     ]
    },
    {
     "name": "stdout",
     "output_type": "stream",
     "text": [
      "14:02:08 root INFO   Recreating index...\n"
     ]
    },
    {
     "name": "stderr",
     "output_type": "stream",
     "text": [
      "\n"
     ]
    },
    {
     "name": "stdout",
     "output_type": "stream",
     "text": [
      "14:02:09 root INFO   Corpus size: 3633\n",
      "14:02:12 root INFO   Data indexed total_indexing_time=3.094s, num_docs=3633\n",
      "14:02:14 root INFO   Saving metrics for study: 789c70ba-3208-44b1-9c06-db1888162d55, METRICS={'search_method': ['hybrid', 'hybrid', 'hybrid', 'hybrid'], 'total_indexing_time': [3.559, 3.361, 3.126, 3.094], 'avg_query_time': [0.004628060402884941, 0.004614599718028916, 0.00321132922689243, 0.004435610106854985], 'model': ['sentence-transformers/all-MiniLM-L6-v2', 'sentence-transformers/all-MiniLM-L6-v2', 'sentence-transformers/all-MiniLM-L6-v2', 'sentence-transformers/all-MiniLM-L6-v2'], 'model_dim': [384, 384, 384, 384], 'ret_k': [9, 1, 7, 1], 'recall@k': [0.15498797328057845, 0.15498797328057845, 0.15498797328057845, 0.15498797328057845], 'ndcg@k': [0.20362426675685422, 0.2036483336219499, 0.20362426675685422, 0.20362426675685422], 'f1@k': [0.13071176354799932, 0.13071176354799932, 0.13071176354799932, 0.13071176354799932], 'precision': [0.24334365325077406, 0.24334365325077406, 0.24334365325077406, 0.24334365325077406], 'algorithm': ['hnsw', 'hnsw', 'hnsw', 'hnsw'], 'ef_construction': [200, 200, 250, 100], 'ef_runtime': [50, 30, 50, 10], 'm': [8, 8, 16, 16], 'distance_metric': ['cosine', 'cosine', 'cosine', 'cosine'], 'vector_data_type': ['float16', 'float16', 'float32', 'float16']}\n"
     ]
    },
    {
     "name": "stderr",
     "output_type": "stream",
     "text": [
      "[I 2025-05-14 14:02:14,868] Trial 3 finished with value: 3.094 and parameters: {'model_info': {'type': 'hf', 'model': 'sentence-transformers/all-MiniLM-L6-v2', 'dim': 384, 'embedding_cache_name': 'vec-cache', 'dtype': 'float32'}, 'search_method': 'hybrid', 'algorithm': 'hnsw', 'var_dtype': 'float16', 'distance_metric': 'cosine', 'ret_k': 1, 'ef_runtime': 10, 'ef_construction': 100, 'm': 16}. Best is trial 0 with value: 3.559.\n"
     ]
    },
    {
     "name": "stdout",
     "output_type": "stream",
     "text": [
      "14:02:14 redisvl.index.index INFO   Index already exists, overwriting.\n",
      "14:02:14 sentence_transformers.SentenceTransformer INFO   Use pytorch device_name: mps\n",
      "14:02:14 sentence_transformers.SentenceTransformer INFO   Load pretrained SentenceTransformer: sentence-transformers/all-MiniLM-L6-v2\n"
     ]
    },
    {
     "name": "stderr",
     "output_type": "stream",
     "text": [
      "Batches: 100%|██████████| 1/1 [00:00<00:00, 50.23it/s]"
     ]
    },
    {
     "name": "stdout",
     "output_type": "stream",
     "text": [
      "14:02:15 root INFO   Recreating index...\n"
     ]
    },
    {
     "name": "stderr",
     "output_type": "stream",
     "text": [
      "\n"
     ]
    },
    {
     "name": "stdout",
     "output_type": "stream",
     "text": [
      "14:02:16 root INFO   Corpus size: 3633\n",
      "14:02:20 root INFO   Data indexed total_indexing_time=3.443s, num_docs=3633\n",
      "14:02:21 root INFO   Saving metrics for study: 789c70ba-3208-44b1-9c06-db1888162d55, METRICS={'search_method': ['hybrid', 'hybrid', 'hybrid', 'hybrid', 'hybrid'], 'total_indexing_time': [3.559, 3.361, 3.126, 3.094, 3.443], 'avg_query_time': [0.004628060402884941, 0.004614599718028916, 0.00321132922689243, 0.004435610106854985, 0.0029207316714543676], 'model': ['sentence-transformers/all-MiniLM-L6-v2', 'sentence-transformers/all-MiniLM-L6-v2', 'sentence-transformers/all-MiniLM-L6-v2', 'sentence-transformers/all-MiniLM-L6-v2', 'sentence-transformers/all-MiniLM-L6-v2'], 'model_dim': [384, 384, 384, 384, 384], 'ret_k': [9, 1, 7, 1, 4], 'recall@k': [0.15498797328057845, 0.15498797328057845, 0.15498797328057845, 0.15498797328057845, 0.15498797328057845], 'ndcg@k': [0.20362426675685422, 0.2036483336219499, 0.20362426675685422, 0.20362426675685422, 0.20362426675685422], 'f1@k': [0.13071176354799932, 0.13071176354799932, 0.13071176354799932, 0.13071176354799932, 0.13071176354799932], 'precision': [0.24334365325077406, 0.24334365325077406, 0.24334365325077406, 0.24334365325077406, 0.24334365325077406], 'algorithm': ['hnsw', 'hnsw', 'hnsw', 'hnsw', 'hnsw'], 'ef_construction': [200, 200, 250, 100, 300], 'ef_runtime': [50, 30, 50, 10, 30], 'm': [8, 8, 16, 16, 16], 'distance_metric': ['cosine', 'cosine', 'cosine', 'cosine', 'cosine'], 'vector_data_type': ['float16', 'float16', 'float32', 'float16', 'float32']}\n"
     ]
    },
    {
     "name": "stderr",
     "output_type": "stream",
     "text": [
      "[I 2025-05-14 14:02:21,783] Trial 4 finished with value: 3.443 and parameters: {'model_info': {'type': 'hf', 'model': 'sentence-transformers/all-MiniLM-L6-v2', 'dim': 384, 'embedding_cache_name': 'vec-cache', 'dtype': 'float32'}, 'search_method': 'hybrid', 'algorithm': 'hnsw', 'var_dtype': 'float32', 'distance_metric': 'cosine', 'ret_k': 4, 'ef_runtime': 30, 'ef_construction': 300, 'm': 16}. Best is trial 0 with value: 3.559.\n"
     ]
    },
    {
     "name": "stdout",
     "output_type": "stream",
     "text": [
      "14:02:21 redisvl.index.index INFO   Index already exists, overwriting.\n",
      "14:02:21 sentence_transformers.SentenceTransformer INFO   Use pytorch device_name: mps\n",
      "14:02:21 sentence_transformers.SentenceTransformer INFO   Load pretrained SentenceTransformer: sentence-transformers/all-MiniLM-L6-v2\n"
     ]
    },
    {
     "name": "stderr",
     "output_type": "stream",
     "text": [
      "Batches: 100%|██████████| 1/1 [00:00<00:00, 50.67it/s]\n"
     ]
    },
    {
     "name": "stdout",
     "output_type": "stream",
     "text": [
      "14:02:23 root INFO   Indexing progress: 0.7192424844391472\n",
      "14:02:24 root INFO   Indexing progress: 1\n",
      "14:02:24 root INFO   Data indexed total_indexing_time=2.742s, num_docs=3633\n",
      "14:02:25 root INFO   Saving metrics for study: 789c70ba-3208-44b1-9c06-db1888162d55, METRICS={'search_method': ['hybrid', 'hybrid', 'hybrid', 'hybrid', 'hybrid', 'vector'], 'total_indexing_time': [3.559, 3.361, 3.126, 3.094, 3.443, 2.742], 'avg_query_time': [0.004628060402884941, 0.004614599718028916, 0.00321132922689243, 0.004435610106854985, 0.0029207316714543676, 0.001332445410383006], 'model': ['sentence-transformers/all-MiniLM-L6-v2', 'sentence-transformers/all-MiniLM-L6-v2', 'sentence-transformers/all-MiniLM-L6-v2', 'sentence-transformers/all-MiniLM-L6-v2', 'sentence-transformers/all-MiniLM-L6-v2', 'sentence-transformers/all-MiniLM-L6-v2'], 'model_dim': [384, 384, 384, 384, 384, 384], 'ret_k': [9, 1, 7, 1, 4, 8], 'recall@k': [0.15498797328057845, 0.15498797328057845, 0.15498797328057845, 0.15498797328057845, 0.15498797328057845, 0.1482925726617005], 'ndcg@k': [0.20362426675685422, 0.2036483336219499, 0.20362426675685422, 0.20362426675685422, 0.20362426675685422, 0.1895382459628717], 'f1@k': [0.13071176354799932, 0.13071176354799932, 0.13071176354799932, 0.13071176354799932, 0.13071176354799932, 0.12702728545607167], 'precision': [0.24334365325077406, 0.24334365325077406, 0.24334365325077406, 0.24334365325077406, 0.24334365325077406, 0.2408668730650155], 'algorithm': ['hnsw', 'hnsw', 'hnsw', 'hnsw', 'hnsw', 'hnsw'], 'ef_construction': [200, 200, 250, 100, 300, 200], 'ef_runtime': [50, 30, 50, 10, 30, 20], 'm': [8, 8, 16, 16, 16, 16], 'distance_metric': ['cosine', 'cosine', 'cosine', 'cosine', 'cosine', 'cosine'], 'vector_data_type': ['float16', 'float16', 'float32', 'float16', 'float32', 'float32']}\n"
     ]
    },
    {
     "name": "stderr",
     "output_type": "stream",
     "text": [
      "[I 2025-05-14 14:02:25,564] Trial 5 finished with value: 2.742 and parameters: {'model_info': {'type': 'hf', 'model': 'sentence-transformers/all-MiniLM-L6-v2', 'dim': 384, 'embedding_cache_name': 'vec-cache', 'dtype': 'float32'}, 'search_method': 'vector', 'algorithm': 'hnsw', 'var_dtype': 'float32', 'distance_metric': 'cosine', 'ret_k': 8, 'ef_runtime': 20, 'ef_construction': 200, 'm': 16}. Best is trial 0 with value: 3.559.\n"
     ]
    },
    {
     "name": "stdout",
     "output_type": "stream",
     "text": [
      "14:02:25 redisvl.index.index INFO   Index already exists, overwriting.\n",
      "14:02:25 sentence_transformers.SentenceTransformer INFO   Use pytorch device_name: mps\n",
      "14:02:25 sentence_transformers.SentenceTransformer INFO   Load pretrained SentenceTransformer: sentence-transformers/all-MiniLM-L6-v2\n"
     ]
    },
    {
     "name": "stderr",
     "output_type": "stream",
     "text": [
      "Batches: 100%|██████████| 1/1 [00:00<00:00, 52.17it/s]"
     ]
    },
    {
     "name": "stdout",
     "output_type": "stream",
     "text": [
      "14:02:26 root INFO   Recreating index...\n"
     ]
    },
    {
     "name": "stderr",
     "output_type": "stream",
     "text": [
      "\n"
     ]
    },
    {
     "name": "stdout",
     "output_type": "stream",
     "text": [
      "14:02:26 root INFO   Corpus size: 3633\n",
      "14:02:32 root INFO   Data indexed total_indexing_time=4.808s, num_docs=3633\n",
      "14:02:33 root INFO   Saving metrics for study: 789c70ba-3208-44b1-9c06-db1888162d55, METRICS={'search_method': ['hybrid', 'hybrid', 'hybrid', 'hybrid', 'hybrid', 'vector', 'vector'], 'total_indexing_time': [3.559, 3.361, 3.126, 3.094, 3.443, 2.742, 4.808], 'avg_query_time': [0.004628060402884941, 0.004614599718028916, 0.00321132922689243, 0.004435610106854985, 0.0029207316714543676, 0.001332445410383006, 0.0019653323265052063], 'model': ['sentence-transformers/all-MiniLM-L6-v2', 'sentence-transformers/all-MiniLM-L6-v2', 'sentence-transformers/all-MiniLM-L6-v2', 'sentence-transformers/all-MiniLM-L6-v2', 'sentence-transformers/all-MiniLM-L6-v2', 'sentence-transformers/all-MiniLM-L6-v2', 'sentence-transformers/all-MiniLM-L6-v2'], 'model_dim': [384, 384, 384, 384, 384, 384, 384], 'ret_k': [9, 1, 7, 1, 4, 8, 10], 'recall@k': [0.15498797328057845, 0.15498797328057845, 0.15498797328057845, 0.15498797328057845, 0.15498797328057845, 0.1482925726617005, 0.15271467127961147], 'ndcg@k': [0.20362426675685422, 0.2036483336219499, 0.20362426675685422, 0.20362426675685422, 0.20362426675685422, 0.1895382459628717, 0.19343153073544272], 'f1@k': [0.13071176354799932, 0.13071176354799932, 0.13071176354799932, 0.13071176354799932, 0.13071176354799932, 0.12702728545607167, 0.12962922804492433], 'precision': [0.24334365325077406, 0.24334365325077406, 0.24334365325077406, 0.24334365325077406, 0.24334365325077406, 0.2408668730650155, 0.24303405572755418], 'algorithm': ['hnsw', 'hnsw', 'hnsw', 'hnsw', 'hnsw', 'hnsw', 'hnsw'], 'ef_construction': [200, 200, 250, 100, 300, 200, 200], 'ef_runtime': [50, 30, 50, 10, 30, 20, 30], 'm': [8, 8, 16, 16, 16, 16, 64], 'distance_metric': ['cosine', 'cosine', 'cosine', 'cosine', 'cosine', 'cosine', 'cosine'], 'vector_data_type': ['float16', 'float16', 'float32', 'float16', 'float32', 'float32', 'float16']}\n"
     ]
    },
    {
     "name": "stderr",
     "output_type": "stream",
     "text": [
      "[I 2025-05-14 14:02:33,190] Trial 6 finished with value: 4.808 and parameters: {'model_info': {'type': 'hf', 'model': 'sentence-transformers/all-MiniLM-L6-v2', 'dim': 384, 'embedding_cache_name': 'vec-cache', 'dtype': 'float32'}, 'search_method': 'vector', 'algorithm': 'hnsw', 'var_dtype': 'float16', 'distance_metric': 'cosine', 'ret_k': 10, 'ef_runtime': 30, 'ef_construction': 200, 'm': 64}. Best is trial 6 with value: 4.808.\n"
     ]
    },
    {
     "name": "stdout",
     "output_type": "stream",
     "text": [
      "14:02:33 redisvl.index.index INFO   Index already exists, overwriting.\n",
      "14:02:33 sentence_transformers.SentenceTransformer INFO   Use pytorch device_name: mps\n",
      "14:02:33 sentence_transformers.SentenceTransformer INFO   Load pretrained SentenceTransformer: sentence-transformers/all-MiniLM-L6-v2\n"
     ]
    },
    {
     "name": "stderr",
     "output_type": "stream",
     "text": [
      "Batches: 100%|██████████| 1/1 [00:00<00:00, 51.96it/s]"
     ]
    },
    {
     "name": "stdout",
     "output_type": "stream",
     "text": [
      "14:02:33 root INFO   Recreating index...\n"
     ]
    },
    {
     "name": "stderr",
     "output_type": "stream",
     "text": [
      "\n"
     ]
    },
    {
     "name": "stdout",
     "output_type": "stream",
     "text": [
      "14:02:34 root INFO   Corpus size: 3633\n",
      "14:02:37 root INFO   Data indexed total_indexing_time=2.471s, num_docs=3633\n",
      "14:02:39 root INFO   Saving metrics for study: 789c70ba-3208-44b1-9c06-db1888162d55, METRICS={'search_method': ['hybrid', 'hybrid', 'hybrid', 'hybrid', 'hybrid', 'vector', 'vector', 'hybrid'], 'total_indexing_time': [3.559, 3.361, 3.126, 3.094, 3.443, 2.742, 4.808, 2.471], 'avg_query_time': [0.004628060402884941, 0.004614599718028916, 0.00321132922689243, 0.004435610106854985, 0.0029207316714543676, 0.001332445410383006, 0.0019653323265052063, 0.0032455301137162434], 'model': ['sentence-transformers/all-MiniLM-L6-v2', 'sentence-transformers/all-MiniLM-L6-v2', 'sentence-transformers/all-MiniLM-L6-v2', 'sentence-transformers/all-MiniLM-L6-v2', 'sentence-transformers/all-MiniLM-L6-v2', 'sentence-transformers/all-MiniLM-L6-v2', 'sentence-transformers/all-MiniLM-L6-v2', 'sentence-transformers/all-MiniLM-L6-v2'], 'model_dim': [384, 384, 384, 384, 384, 384, 384, 384], 'ret_k': [9, 1, 7, 1, 4, 8, 10, 1], 'recall@k': [0.15498797328057845, 0.15498797328057845, 0.15498797328057845, 0.15498797328057845, 0.15498797328057845, 0.1482925726617005, 0.15271467127961147, 0.15498797328057845], 'ndcg@k': [0.20362426675685422, 0.2036483336219499, 0.20362426675685422, 0.20362426675685422, 0.20362426675685422, 0.1895382459628717, 0.19343153073544272, 0.20362426675685422], 'f1@k': [0.13071176354799932, 0.13071176354799932, 0.13071176354799932, 0.13071176354799932, 0.13071176354799932, 0.12702728545607167, 0.12962922804492433, 0.13071176354799932], 'precision': [0.24334365325077406, 0.24334365325077406, 0.24334365325077406, 0.24334365325077406, 0.24334365325077406, 0.2408668730650155, 0.24303405572755418, 0.24334365325077406], 'algorithm': ['hnsw', 'hnsw', 'hnsw', 'hnsw', 'hnsw', 'hnsw', 'hnsw', 'hnsw'], 'ef_construction': [200, 200, 250, 100, 300, 200, 200, 150], 'ef_runtime': [50, 30, 50, 10, 30, 20, 30, 50], 'm': [8, 8, 16, 16, 16, 16, 64, 16], 'distance_metric': ['cosine', 'cosine', 'cosine', 'cosine', 'cosine', 'cosine', 'cosine', 'cosine'], 'vector_data_type': ['float16', 'float16', 'float32', 'float16', 'float32', 'float32', 'float16', 'float32']}\n"
     ]
    },
    {
     "name": "stderr",
     "output_type": "stream",
     "text": [
      "[I 2025-05-14 14:02:39,142] Trial 7 finished with value: 2.471 and parameters: {'model_info': {'type': 'hf', 'model': 'sentence-transformers/all-MiniLM-L6-v2', 'dim': 384, 'embedding_cache_name': 'vec-cache', 'dtype': 'float32'}, 'search_method': 'hybrid', 'algorithm': 'hnsw', 'var_dtype': 'float32', 'distance_metric': 'cosine', 'ret_k': 1, 'ef_runtime': 50, 'ef_construction': 150, 'm': 16}. Best is trial 6 with value: 4.808.\n"
     ]
    },
    {
     "name": "stdout",
     "output_type": "stream",
     "text": [
      "14:02:39 redisvl.index.index INFO   Index already exists, overwriting.\n",
      "14:02:39 sentence_transformers.SentenceTransformer INFO   Use pytorch device_name: mps\n",
      "14:02:39 sentence_transformers.SentenceTransformer INFO   Load pretrained SentenceTransformer: sentence-transformers/all-MiniLM-L6-v2\n"
     ]
    },
    {
     "name": "stderr",
     "output_type": "stream",
     "text": [
      "Batches: 100%|██████████| 1/1 [00:00<00:00, 49.47it/s]\n"
     ]
    },
    {
     "name": "stdout",
     "output_type": "stream",
     "text": [
      "14:02:40 root INFO   Indexing progress: 0.9302079194808635\n",
      "14:02:41 root INFO   Indexing progress: 1\n",
      "14:02:41 root INFO   Data indexed total_indexing_time=1.896s, num_docs=3633\n",
      "14:02:42 root INFO   Saving metrics for study: 789c70ba-3208-44b1-9c06-db1888162d55, METRICS={'search_method': ['hybrid', 'hybrid', 'hybrid', 'hybrid', 'hybrid', 'vector', 'vector', 'hybrid', 'vector'], 'total_indexing_time': [3.559, 3.361, 3.126, 3.094, 3.443, 2.742, 4.808, 2.471, 1.896], 'avg_query_time': [0.004628060402884941, 0.004614599718028916, 0.00321132922689243, 0.004435610106854985, 0.0029207316714543676, 0.001332445410383006, 0.0019653323265052063, 0.0032455301137162434, 0.001478021727995976], 'model': ['sentence-transformers/all-MiniLM-L6-v2', 'sentence-transformers/all-MiniLM-L6-v2', 'sentence-transformers/all-MiniLM-L6-v2', 'sentence-transformers/all-MiniLM-L6-v2', 'sentence-transformers/all-MiniLM-L6-v2', 'sentence-transformers/all-MiniLM-L6-v2', 'sentence-transformers/all-MiniLM-L6-v2', 'sentence-transformers/all-MiniLM-L6-v2', 'sentence-transformers/all-MiniLM-L6-v2'], 'model_dim': [384, 384, 384, 384, 384, 384, 384, 384, 384], 'ret_k': [9, 1, 7, 1, 4, 8, 10, 1, 5], 'recall@k': [0.15498797328057845, 0.15498797328057845, 0.15498797328057845, 0.15498797328057845, 0.15498797328057845, 0.1482925726617005, 0.15271467127961147, 0.15498797328057845, 0.1270597617354578], 'ndcg@k': [0.20362426675685422, 0.2036483336219499, 0.20362426675685422, 0.20362426675685422, 0.20362426675685422, 0.1895382459628717, 0.19343153073544272, 0.20362426675685422, 0.1667078780346424], 'f1@k': [0.13071176354799932, 0.13071176354799932, 0.13071176354799932, 0.13071176354799932, 0.13071176354799932, 0.12702728545607167, 0.12962922804492433, 0.13071176354799932, 0.1162032348967059], 'precision': [0.24334365325077406, 0.24334365325077406, 0.24334365325077406, 0.24334365325077406, 0.24334365325077406, 0.2408668730650155, 0.24303405572755418, 0.24334365325077406, 0.2278637770897833], 'algorithm': ['hnsw', 'hnsw', 'hnsw', 'hnsw', 'hnsw', 'hnsw', 'hnsw', 'hnsw', 'hnsw'], 'ef_construction': [200, 200, 250, 100, 300, 200, 200, 150, 100], 'ef_runtime': [50, 30, 50, 10, 30, 20, 30, 50, 10], 'm': [8, 8, 16, 16, 16, 16, 64, 16, 16], 'distance_metric': ['cosine', 'cosine', 'cosine', 'cosine', 'cosine', 'cosine', 'cosine', 'cosine', 'cosine'], 'vector_data_type': ['float16', 'float16', 'float32', 'float16', 'float32', 'float32', 'float16', 'float32', 'float32']}\n"
     ]
    },
    {
     "name": "stderr",
     "output_type": "stream",
     "text": [
      "[I 2025-05-14 14:02:42,911] Trial 8 finished with value: 1.896 and parameters: {'model_info': {'type': 'hf', 'model': 'sentence-transformers/all-MiniLM-L6-v2', 'dim': 384, 'embedding_cache_name': 'vec-cache', 'dtype': 'float32'}, 'search_method': 'vector', 'algorithm': 'hnsw', 'var_dtype': 'float32', 'distance_metric': 'cosine', 'ret_k': 5, 'ef_runtime': 10, 'ef_construction': 100, 'm': 16}. Best is trial 6 with value: 4.808.\n"
     ]
    },
    {
     "name": "stdout",
     "output_type": "stream",
     "text": [
      "14:02:42 redisvl.index.index INFO   Index already exists, overwriting.\n",
      "14:02:42 sentence_transformers.SentenceTransformer INFO   Use pytorch device_name: mps\n",
      "14:02:42 sentence_transformers.SentenceTransformer INFO   Load pretrained SentenceTransformer: sentence-transformers/all-MiniLM-L6-v2\n"
     ]
    },
    {
     "name": "stderr",
     "output_type": "stream",
     "text": [
      "Batches: 100%|██████████| 1/1 [00:00<00:00, 53.51it/s]"
     ]
    },
    {
     "name": "stdout",
     "output_type": "stream",
     "text": [
      "14:02:44 root INFO   Recreating index...\n"
     ]
    },
    {
     "name": "stderr",
     "output_type": "stream",
     "text": [
      "\n"
     ]
    },
    {
     "name": "stdout",
     "output_type": "stream",
     "text": [
      "14:02:44 root INFO   Corpus size: 3633\n",
      "14:02:50 root INFO   Data indexed total_indexing_time=4.804s, num_docs=3633\n",
      "14:02:52 root INFO   Saving metrics for study: 789c70ba-3208-44b1-9c06-db1888162d55, METRICS={'search_method': ['hybrid', 'hybrid', 'hybrid', 'hybrid', 'hybrid', 'vector', 'vector', 'hybrid', 'vector', 'hybrid'], 'total_indexing_time': [3.559, 3.361, 3.126, 3.094, 3.443, 2.742, 4.808, 2.471, 1.896, 4.804], 'avg_query_time': [0.004628060402884941, 0.004614599718028916, 0.00321132922689243, 0.004435610106854985, 0.0029207316714543676, 0.001332445410383006, 0.0019653323265052063, 0.0032455301137162434, 0.001478021727995976, 0.004497922980010325], 'model': ['sentence-transformers/all-MiniLM-L6-v2', 'sentence-transformers/all-MiniLM-L6-v2', 'sentence-transformers/all-MiniLM-L6-v2', 'sentence-transformers/all-MiniLM-L6-v2', 'sentence-transformers/all-MiniLM-L6-v2', 'sentence-transformers/all-MiniLM-L6-v2', 'sentence-transformers/all-MiniLM-L6-v2', 'sentence-transformers/all-MiniLM-L6-v2', 'sentence-transformers/all-MiniLM-L6-v2', 'sentence-transformers/all-MiniLM-L6-v2'], 'model_dim': [384, 384, 384, 384, 384, 384, 384, 384, 384, 384], 'ret_k': [9, 1, 7, 1, 4, 8, 10, 1, 5, 5], 'recall@k': [0.15498797328057845, 0.15498797328057845, 0.15498797328057845, 0.15498797328057845, 0.15498797328057845, 0.1482925726617005, 0.15271467127961147, 0.15498797328057845, 0.1270597617354578, 0.15498797328057845], 'ndcg@k': [0.20362426675685422, 0.2036483336219499, 0.20362426675685422, 0.20362426675685422, 0.20362426675685422, 0.1895382459628717, 0.19343153073544272, 0.20362426675685422, 0.1667078780346424, 0.20362426675685422], 'f1@k': [0.13071176354799932, 0.13071176354799932, 0.13071176354799932, 0.13071176354799932, 0.13071176354799932, 0.12702728545607167, 0.12962922804492433, 0.13071176354799932, 0.1162032348967059, 0.13071176354799932], 'precision': [0.24334365325077406, 0.24334365325077406, 0.24334365325077406, 0.24334365325077406, 0.24334365325077406, 0.2408668730650155, 0.24303405572755418, 0.24334365325077406, 0.2278637770897833, 0.24334365325077406], 'algorithm': ['hnsw', 'hnsw', 'hnsw', 'hnsw', 'hnsw', 'hnsw', 'hnsw', 'hnsw', 'hnsw', 'hnsw'], 'ef_construction': [200, 200, 250, 100, 300, 200, 200, 150, 100, 200], 'ef_runtime': [50, 30, 50, 10, 30, 20, 30, 50, 10, 50], 'm': [8, 8, 16, 16, 16, 16, 64, 16, 16, 64], 'distance_metric': ['cosine', 'cosine', 'cosine', 'cosine', 'cosine', 'cosine', 'cosine', 'cosine', 'cosine', 'cosine'], 'vector_data_type': ['float16', 'float16', 'float32', 'float16', 'float32', 'float32', 'float16', 'float32', 'float32', 'float16']}\n"
     ]
    },
    {
     "name": "stderr",
     "output_type": "stream",
     "text": [
      "[I 2025-05-14 14:02:52,248] Trial 9 finished with value: 4.804 and parameters: {'model_info': {'type': 'hf', 'model': 'sentence-transformers/all-MiniLM-L6-v2', 'dim': 384, 'embedding_cache_name': 'vec-cache', 'dtype': 'float32'}, 'search_method': 'hybrid', 'algorithm': 'hnsw', 'var_dtype': 'float16', 'distance_metric': 'cosine', 'ret_k': 5, 'ef_runtime': 50, 'ef_construction': 200, 'm': 64}. Best is trial 6 with value: 4.808.\n"
     ]
    },
    {
     "name": "stdout",
     "output_type": "stream",
     "text": [
      "14:02:52 root INFO   Completed Bayesian optimization... \n",
      "\n",
      "\n",
      "14:02:52 root INFO   Best Configuration: 6: {'model_info': {'type': 'hf', 'model': 'sentence-transformers/all-MiniLM-L6-v2', 'dim': 384, 'embedding_cache_name': 'vec-cache', 'dtype': 'float32'}, 'search_method': 'vector', 'algorithm': 'hnsw', 'var_dtype': 'float16', 'distance_metric': 'cosine', 'ret_k': 10, 'ef_runtime': 30, 'ef_construction': 200, 'm': 64}:\n",
      "\n",
      "\n",
      "14:02:52 root INFO   Best Score: [4.808]\n",
      "\n",
      "\n"
     ]
    }
   ],
   "source": [
    "# run study\n",
    "\n",
    "# add root redis_retrieval_optimizer to path until available on pypi\n",
    "import sys\n",
    "import os\n",
    "\n",
    "# Get the current notebook directory\n",
    "current_dir = os.path.dirname(os.path.abspath(''))\n",
    "\n",
    "# Go up two directory levels (adjust the number as needed)\n",
    "parent_dir = os.path.abspath(os.path.join(current_dir, '../..'))\n",
    "\n",
    "# Add the parent directory to the Python path if it's not already there\n",
    "if parent_dir not in sys.path:\n",
    "    sys.path.insert(0, parent_dir)\n",
    "    print(f\"Added {parent_dir} to Python path\")\n",
    "\n",
    "\n",
    "import os\n",
    "from redis_retrieval_optimizer.bayes_study import run_bayes_study\n",
    "from redis_retrieval_optimizer.corpus_processors import eval_beir\n",
    "from dotenv import load_dotenv\n",
    "\n",
    "# load environment variables containing necessary credentials\n",
    "load_dotenv()\n",
    "\n",
    "redis_url = os.environ.get(\"REDIS_URL\", \"redis://localhost:6379/0\")\n",
    "\n",
    "metrics = run_bayes_study(\n",
    "    config_path=\"bayes_study_config.yaml\",\n",
    "    redis_url=redis_url,\n",
    "    corpus_processor=eval_beir.process_corpus\n",
    ")"
   ]
  },
  {
   "cell_type": "code",
   "execution_count": 2,
   "id": "2c140e85",
   "metadata": {},
   "outputs": [
    {
     "data": {
      "text/html": [
       "<div>\n",
       "<style scoped>\n",
       "    .dataframe tbody tr th:only-of-type {\n",
       "        vertical-align: middle;\n",
       "    }\n",
       "\n",
       "    .dataframe tbody tr th {\n",
       "        vertical-align: top;\n",
       "    }\n",
       "\n",
       "    .dataframe thead th {\n",
       "        text-align: right;\n",
       "    }\n",
       "</style>\n",
       "<table border=\"1\" class=\"dataframe\">\n",
       "  <thead>\n",
       "    <tr style=\"text-align: right;\">\n",
       "      <th></th>\n",
       "      <th>search_method</th>\n",
       "      <th>algorithm</th>\n",
       "      <th>vector_data_type</th>\n",
       "      <th>ef_construction</th>\n",
       "      <th>ef_runtime</th>\n",
       "      <th>m</th>\n",
       "      <th>avg_query_time</th>\n",
       "      <th>recall@k</th>\n",
       "      <th>precision</th>\n",
       "      <th>ndcg@k</th>\n",
       "    </tr>\n",
       "  </thead>\n",
       "  <tbody>\n",
       "    <tr>\n",
       "      <th>1</th>\n",
       "      <td>hybrid</td>\n",
       "      <td>hnsw</td>\n",
       "      <td>float16</td>\n",
       "      <td>200</td>\n",
       "      <td>30</td>\n",
       "      <td>8</td>\n",
       "      <td>0.004615</td>\n",
       "      <td>0.154988</td>\n",
       "      <td>0.243344</td>\n",
       "      <td>0.203648</td>\n",
       "    </tr>\n",
       "    <tr>\n",
       "      <th>0</th>\n",
       "      <td>hybrid</td>\n",
       "      <td>hnsw</td>\n",
       "      <td>float16</td>\n",
       "      <td>200</td>\n",
       "      <td>50</td>\n",
       "      <td>8</td>\n",
       "      <td>0.004628</td>\n",
       "      <td>0.154988</td>\n",
       "      <td>0.243344</td>\n",
       "      <td>0.203624</td>\n",
       "    </tr>\n",
       "    <tr>\n",
       "      <th>2</th>\n",
       "      <td>hybrid</td>\n",
       "      <td>hnsw</td>\n",
       "      <td>float32</td>\n",
       "      <td>250</td>\n",
       "      <td>50</td>\n",
       "      <td>16</td>\n",
       "      <td>0.003211</td>\n",
       "      <td>0.154988</td>\n",
       "      <td>0.243344</td>\n",
       "      <td>0.203624</td>\n",
       "    </tr>\n",
       "    <tr>\n",
       "      <th>3</th>\n",
       "      <td>hybrid</td>\n",
       "      <td>hnsw</td>\n",
       "      <td>float16</td>\n",
       "      <td>100</td>\n",
       "      <td>10</td>\n",
       "      <td>16</td>\n",
       "      <td>0.004436</td>\n",
       "      <td>0.154988</td>\n",
       "      <td>0.243344</td>\n",
       "      <td>0.203624</td>\n",
       "    </tr>\n",
       "    <tr>\n",
       "      <th>4</th>\n",
       "      <td>hybrid</td>\n",
       "      <td>hnsw</td>\n",
       "      <td>float32</td>\n",
       "      <td>300</td>\n",
       "      <td>30</td>\n",
       "      <td>16</td>\n",
       "      <td>0.002921</td>\n",
       "      <td>0.154988</td>\n",
       "      <td>0.243344</td>\n",
       "      <td>0.203624</td>\n",
       "    </tr>\n",
       "    <tr>\n",
       "      <th>7</th>\n",
       "      <td>hybrid</td>\n",
       "      <td>hnsw</td>\n",
       "      <td>float32</td>\n",
       "      <td>150</td>\n",
       "      <td>50</td>\n",
       "      <td>16</td>\n",
       "      <td>0.003246</td>\n",
       "      <td>0.154988</td>\n",
       "      <td>0.243344</td>\n",
       "      <td>0.203624</td>\n",
       "    </tr>\n",
       "    <tr>\n",
       "      <th>9</th>\n",
       "      <td>hybrid</td>\n",
       "      <td>hnsw</td>\n",
       "      <td>float16</td>\n",
       "      <td>200</td>\n",
       "      <td>50</td>\n",
       "      <td>64</td>\n",
       "      <td>0.004498</td>\n",
       "      <td>0.154988</td>\n",
       "      <td>0.243344</td>\n",
       "      <td>0.203624</td>\n",
       "    </tr>\n",
       "    <tr>\n",
       "      <th>6</th>\n",
       "      <td>vector</td>\n",
       "      <td>hnsw</td>\n",
       "      <td>float16</td>\n",
       "      <td>200</td>\n",
       "      <td>30</td>\n",
       "      <td>64</td>\n",
       "      <td>0.001965</td>\n",
       "      <td>0.152715</td>\n",
       "      <td>0.243034</td>\n",
       "      <td>0.193432</td>\n",
       "    </tr>\n",
       "    <tr>\n",
       "      <th>5</th>\n",
       "      <td>vector</td>\n",
       "      <td>hnsw</td>\n",
       "      <td>float32</td>\n",
       "      <td>200</td>\n",
       "      <td>20</td>\n",
       "      <td>16</td>\n",
       "      <td>0.001332</td>\n",
       "      <td>0.148293</td>\n",
       "      <td>0.240867</td>\n",
       "      <td>0.189538</td>\n",
       "    </tr>\n",
       "    <tr>\n",
       "      <th>8</th>\n",
       "      <td>vector</td>\n",
       "      <td>hnsw</td>\n",
       "      <td>float32</td>\n",
       "      <td>100</td>\n",
       "      <td>10</td>\n",
       "      <td>16</td>\n",
       "      <td>0.001478</td>\n",
       "      <td>0.127060</td>\n",
       "      <td>0.227864</td>\n",
       "      <td>0.166708</td>\n",
       "    </tr>\n",
       "  </tbody>\n",
       "</table>\n",
       "</div>"
      ],
      "text/plain": [
       "  search_method algorithm vector_data_type  ef_construction  ef_runtime   m  \\\n",
       "1        hybrid      hnsw          float16              200          30   8   \n",
       "0        hybrid      hnsw          float16              200          50   8   \n",
       "2        hybrid      hnsw          float32              250          50  16   \n",
       "3        hybrid      hnsw          float16              100          10  16   \n",
       "4        hybrid      hnsw          float32              300          30  16   \n",
       "7        hybrid      hnsw          float32              150          50  16   \n",
       "9        hybrid      hnsw          float16              200          50  64   \n",
       "6        vector      hnsw          float16              200          30  64   \n",
       "5        vector      hnsw          float32              200          20  16   \n",
       "8        vector      hnsw          float32              100          10  16   \n",
       "\n",
       "   avg_query_time  recall@k  precision    ndcg@k  \n",
       "1        0.004615  0.154988   0.243344  0.203648  \n",
       "0        0.004628  0.154988   0.243344  0.203624  \n",
       "2        0.003211  0.154988   0.243344  0.203624  \n",
       "3        0.004436  0.154988   0.243344  0.203624  \n",
       "4        0.002921  0.154988   0.243344  0.203624  \n",
       "7        0.003246  0.154988   0.243344  0.203624  \n",
       "9        0.004498  0.154988   0.243344  0.203624  \n",
       "6        0.001965  0.152715   0.243034  0.193432  \n",
       "5        0.001332  0.148293   0.240867  0.189538  \n",
       "8        0.001478  0.127060   0.227864  0.166708  "
      ]
     },
     "execution_count": 2,
     "metadata": {},
     "output_type": "execute_result"
    }
   ],
   "source": [
    "metrics[[\"search_method\", \"algorithm\", \"vector_data_type\", \"ef_construction\", \"ef_runtime\", \"m\", \"avg_query_time\", \"recall@k\", \"precision\", \"ndcg@k\"]].sort_values(by=\"ndcg@k\", ascending=False)"
   ]
  }
 ],
 "metadata": {
  "kernelspec": {
   "display_name": "redis-retrieval-optimizer-OYoDaORV-py3.11",
   "language": "python",
   "name": "python3"
  },
  "language_info": {
   "codemirror_mode": {
    "name": "ipython",
    "version": 3
   },
   "file_extension": ".py",
   "mimetype": "text/x-python",
   "name": "python",
   "nbconvert_exporter": "python",
   "pygments_lexer": "ipython3",
   "version": "3.11.9"
  }
 },
 "nbformat": 4,
 "nbformat_minor": 5
}
