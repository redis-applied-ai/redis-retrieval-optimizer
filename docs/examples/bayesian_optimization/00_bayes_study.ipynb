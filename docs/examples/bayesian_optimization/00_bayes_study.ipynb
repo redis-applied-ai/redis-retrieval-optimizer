{
 "cells": [
  {
   "cell_type": "markdown",
   "id": "6593a958",
   "metadata": {},
   "source": [
    "\n",
    "# Bayesian Optimization with Retrieval Optimizer\n",
    "\n",
    "This notebook demonstrates how to use Bayesian optimization to tune Redis-based retrieval pipelines. Unlike a grid study—which tests all combinations—Bayesian optimization intelligently searches the configuration space, prioritizing promising settings based on previous results. This is especially useful when the number of possible configurations is large and exhaustive search would be too costly.\n",
    "\n",
    "You'll define a study configuration, specify embedding models and search methods, and let the optimizer guide the search toward the best-performing retrieval setup.\n",
    "\n",
    "\n",
    "# Installation"
   ]
  },
  {
   "cell_type": "code",
   "execution_count": null,
   "id": "ed3fc735",
   "metadata": {},
   "outputs": [],
   "source": [
    "%pip install redis-retrieval-optimizer"
   ]
  },
  {
   "cell_type": "markdown",
   "id": "01bde2f5",
   "metadata": {},
   "source": [
    "## Dataset\n",
    "\n",
    "We'll import a dataset from the [beir benchmark IR project](https://github.com/beir-cellar/beir) to get going quickly. "
   ]
  },
  {
   "cell_type": "code",
   "execution_count": 3,
   "id": "46aac6ae",
   "metadata": {},
   "outputs": [
    {
     "name": "stderr",
     "output_type": "stream",
     "text": [
      "/Users/robert.shelton/.pyenv/versions/3.12.8/lib/python3.12/site-packages/beir/util.py:11: TqdmExperimentalWarning: Using `tqdm.autonotebook.tqdm` in notebook mode. Use `tqdm.tqdm` instead to force console mode (e.g. in jupyter console)\n",
      "  from tqdm.autonotebook import tqdm\n"
     ]
    },
    {
     "name": "stdout",
     "output_type": "stream",
     "text": [
      "16:01:33 beir.datasets.data_loader INFO   Loading Corpus...\n"
     ]
    },
    {
     "data": {
      "application/vnd.jupyter.widget-view+json": {
       "model_id": "6f3e7e0d09ba44c388e27141374bd7e5",
       "version_major": 2,
       "version_minor": 0
      },
      "text/plain": [
       "  0%|          | 0/3633 [00:00<?, ?it/s]"
      ]
     },
     "metadata": {},
     "output_type": "display_data"
    },
    {
     "name": "stdout",
     "output_type": "stream",
     "text": [
      "16:01:34 beir.datasets.data_loader INFO   Loaded 3633 TEST Documents.\n",
      "16:01:34 beir.datasets.data_loader INFO   Doc Example: {'text': 'Recent studies have suggested that statins, an established drug group in the prevention of cardiovascular mortality, could delay or prevent breast cancer recurrence but the effect on disease-specific mortality remains unclear. We evaluated risk of breast cancer death among statin users in a population-based cohort of breast cancer patients. The study cohort included all newly diagnosed breast cancer patients in Finland during 1995–2003 (31,236 cases), identified from the Finnish Cancer Registry. Information on statin use before and after the diagnosis was obtained from a national prescription database. We used the Cox proportional hazards regression method to estimate mortality among statin users with statin use as time-dependent variable. A total of 4,151 participants had used statins. During the median follow-up of 3.25 years after the diagnosis (range 0.08–9.0 years) 6,011 participants died, of which 3,619 (60.2%) was due to breast cancer. After adjustment for age, tumor characteristics, and treatment selection, both post-diagnostic and pre-diagnostic statin use were associated with lowered risk of breast cancer death (HR 0.46, 95% CI 0.38–0.55 and HR 0.54, 95% CI 0.44–0.67, respectively). The risk decrease by post-diagnostic statin use was likely affected by healthy adherer bias; that is, the greater likelihood of dying cancer patients to discontinue statin use as the association was not clearly dose-dependent and observed already at low-dose/short-term use. The dose- and time-dependence of the survival benefit among pre-diagnostic statin users suggests a possible causal effect that should be evaluated further in a clinical trial testing statins’ effect on survival in breast cancer patients.', 'title': 'Statin Use and Breast Cancer Survival: A Nationwide Cohort Study from Finland'}\n",
      "16:01:34 beir.datasets.data_loader INFO   Loading Queries...\n",
      "16:01:34 beir.datasets.data_loader INFO   Loaded 323 TEST Queries.\n",
      "16:01:34 beir.datasets.data_loader INFO   Query Example: Do Cholesterol Statin Drugs Cause Breast Cancer?\n"
     ]
    }
   ],
   "source": [
    "# Load data\n",
    "from redis_retrieval_optimizer.corpus_processors import eval_beir\n",
    "\n",
    "# check the link above for different datasets to try\n",
    "beir_dataset_name = \"nfcorpus\"\n",
    "data_folder = \"data\"\n",
    "\n",
    "# Load sample data\n",
    "corpus, queries, qrels = eval_beir.get_beir_dataset(beir_dataset_name)"
   ]
  },
  {
   "cell_type": "markdown",
   "id": "4b07758c",
   "metadata": {},
   "source": [
    "Now that we have our data we will save it locally to the gitignored `data/` folder"
   ]
  },
  {
   "cell_type": "code",
   "execution_count": 6,
   "id": "b56fa92d",
   "metadata": {},
   "outputs": [],
   "source": [
    "import os\n",
    "\n",
    "os.makedirs(data_folder, exist_ok=True)"
   ]
  },
  {
   "cell_type": "code",
   "execution_count": 7,
   "id": "f75095c9",
   "metadata": {},
   "outputs": [],
   "source": [
    "import json\n",
    "\n",
    "with open(f\"data/{beir_dataset_name}_corpus.json\", \"w\") as f:\n",
    "    json.dump(corpus, f)\n",
    "\n",
    "with open(f\"data/{beir_dataset_name}_queries.json\", \"w\") as f:\n",
    "    json.dump(queries, f)\n",
    "\n",
    "with open(f\"data/{beir_dataset_name}_qrels.json\", \"w\") as f:\n",
    "    json.dump(qrels, f)"
   ]
  },
  {
   "cell_type": "markdown",
   "id": "48d65c79",
   "metadata": {},
   "source": [
    "## Study config\n",
    "\n",
    "In this directory there is a yaml file containing a configuration for a bayesian study that looks like this:\n",
    "\n",
    "```yaml\n",
    "# path to data files for easy read\n",
    "corpus: \"data/nfcorpus_corpus.json\"\n",
    "queries: \"data/nfcorpus_queries.json\"\n",
    "qrels: \"data/nfcorpus_qrels.json\"\n",
    "\n",
    "index_settings:\n",
    "  name: \"optimize\"\n",
    "  vector_field_name: \"vector\" # name of the vector field to search on\n",
    "  text_field_name: \"text\" # name of the text field for lexical search\n",
    "  from_existing: false\n",
    "  vector_dim: 384 # should match first embedding model or from_existing\n",
    "  additional_fields:\n",
    "      - name: \"title\"\n",
    "        type: \"text\"\n",
    "\n",
    "optimization_settings:\n",
    "  # defines the options optimization can take\n",
    "  metric_weights:\n",
    "    f1_at_k: 1\n",
    "    embedding_latency: 1\n",
    "    total_indexing_time: 1\n",
    "  algorithms: [\"hnsw\"]\n",
    "  vector_data_types: [\"float16\", \"float32\"]\n",
    "  distance_metrics: [\"cosine\"]\n",
    "  n_trials: 10\n",
    "  n_jobs: 1\n",
    "  ret_k: [1, 10] # potential range of value to be sampled during study\n",
    "  ef_runtime: [10, 20, 30, 50]\n",
    "  ef_construction: [100, 150, 200, 250, 300]\n",
    "  m: [8, 16, 64]\n",
    "\n",
    "\n",
    "search_methods: [\"vector\", \"lin_combo\"]\n",
    "embedding_models:\n",
    "  - type: \"hf\"\n",
    "    model: \"sentence-transformers/all-MiniLM-L6-v2\"\n",
    "    dim: 384\n",
    "    embedding_cache_name: \"vec-cache\" # avoid names with including 'ret-opt' as this can cause collisions\n",
    "    dtype: \"float32\"\n",
    "```\n",
    "\n",
    "## Running a study\n",
    "\n",
    "To run a study simple pass the path to config, redis_url, and corpus processing function to the `run_bayes_study` function and the package will take care of the rest. "
   ]
  },
  {
   "cell_type": "code",
   "execution_count": 1,
   "id": "2c94f556",
   "metadata": {},
   "outputs": [
    {
     "name": "stderr",
     "output_type": "stream",
     "text": [
      "[I 2025-07-03 16:03:34,383] A new study created in memory with name: test\n"
     ]
    },
    {
     "name": "stdout",
     "output_type": "stream",
     "text": [
      "16:03:34 redisvl.index.index INFO   Index already exists, not overwriting.\n",
      "16:03:36 datasets INFO   PyTorch version 2.7.1 available.\n",
      "16:03:36 sentence_transformers.SentenceTransformer INFO   Use pytorch device_name: mps\n",
      "16:03:36 sentence_transformers.SentenceTransformer INFO   Load pretrained SentenceTransformer: sentence-transformers/all-MiniLM-L6-v2\n"
     ]
    },
    {
     "data": {
      "application/vnd.jupyter.widget-view+json": {
       "model_id": "41d76d39f79b4d189dc80c916cc2f9a5",
       "version_major": 2,
       "version_minor": 0
      },
      "text/plain": [
       "Batches:   0%|          | 0/1 [00:00<?, ?it/s]"
      ]
     },
     "metadata": {},
     "output_type": "display_data"
    },
    {
     "name": "stdout",
     "output_type": "stream",
     "text": [
      "16:03:38 root INFO   Data indexed total_indexing_time=3.803s, num_docs=3633\n",
      "16:03:42 root INFO   Saving metrics for study: a796dacc-52e2-4fc7-be2c-3a7246d10901, METRICS={'search_method': ['hybrid'], 'total_indexing_time': [3.803], 'avg_query_time': [0.0035999603684841665], 'model': ['sentence-transformers/all-MiniLM-L6-v2'], 'model_dim': [384], 'ret_k': [5], 'recall': [0.15498797328057845], 'ndcg': [0.20277849135854045], 'f1': [0.13071176354799932], 'precision': [0.24334365325077406], 'algorithm': ['hnsw'], 'ef_construction': [250], 'ef_runtime': [30], 'm': [8], 'distance_metric': ['cosine'], 'vector_data_type': ['float16'], 'objective_value': [-0.9455885555010966]}\n"
     ]
    },
    {
     "name": "stderr",
     "output_type": "stream",
     "text": [
      "[I 2025-07-03 16:03:42,133] Trial 0 finished with value: -0.9455885555010966 and parameters: {'model_info': {'type': 'hf', 'model': 'sentence-transformers/all-MiniLM-L6-v2', 'dim': 384, 'embedding_cache_name': 'vec-cache', 'dtype': 'float32'}, 'search_method': 'hybrid', 'algorithm': 'hnsw', 'var_dtype': 'float16', 'distance_metric': 'cosine', 'ret_k': 5, 'ef_runtime': 30, 'ef_construction': 250, 'm': 8}. Best is trial 0 with value: -0.9455885555010966.\n"
     ]
    },
    {
     "name": "stdout",
     "output_type": "stream",
     "text": [
      "16:03:42 redisvl.index.index INFO   Index already exists, not overwriting.\n",
      "16:03:42 sentence_transformers.SentenceTransformer INFO   Use pytorch device_name: mps\n",
      "16:03:42 sentence_transformers.SentenceTransformer INFO   Load pretrained SentenceTransformer: sentence-transformers/all-MiniLM-L6-v2\n"
     ]
    },
    {
     "data": {
      "application/vnd.jupyter.widget-view+json": {
       "model_id": "dc2a1873ddf34af5afe3647ed4ff0b4d",
       "version_major": 2,
       "version_minor": 0
      },
      "text/plain": [
       "Batches:   0%|          | 0/1 [00:00<?, ?it/s]"
      ]
     },
     "metadata": {},
     "output_type": "display_data"
    },
    {
     "name": "stdout",
     "output_type": "stream",
     "text": [
      "16:03:43 root INFO   Data indexed total_indexing_time=3.803s, num_docs=3633\n",
      "16:03:43 root INFO   Saving metrics for study: a796dacc-52e2-4fc7-be2c-3a7246d10901, METRICS={'search_method': ['hybrid', 'vector'], 'total_indexing_time': [3.803, 3.803], 'avg_query_time': [0.0035999603684841665, 0.001152925077975719], 'model': ['sentence-transformers/all-MiniLM-L6-v2', 'sentence-transformers/all-MiniLM-L6-v2'], 'model_dim': [384, 384], 'ret_k': [5, 9], 'recall': [0.15498797328057845, 0.14379087898439163], 'ndcg': [0.20277849135854045, 0.1812695344787445], 'f1': [0.13071176354799932, 0.12449723642356514], 'precision': [0.24334365325077406, 0.23808049535603718], 'algorithm': ['hnsw', 'hnsw'], 'ef_construction': [250, 200], 'ef_runtime': [30, 20], 'm': [8, 64], 'distance_metric': ['cosine', 'cosine'], 'vector_data_type': ['float16', 'float16'], 'objective_value': [-0.9455885555010966, -1.0388269274283073]}\n"
     ]
    },
    {
     "name": "stderr",
     "output_type": "stream",
     "text": [
      "[I 2025-07-03 16:03:43,735] Trial 1 finished with value: -1.0388269274283073 and parameters: {'model_info': {'type': 'hf', 'model': 'sentence-transformers/all-MiniLM-L6-v2', 'dim': 384, 'embedding_cache_name': 'vec-cache', 'dtype': 'float32'}, 'search_method': 'vector', 'algorithm': 'hnsw', 'var_dtype': 'float16', 'distance_metric': 'cosine', 'ret_k': 9, 'ef_runtime': 20, 'ef_construction': 200, 'm': 64}. Best is trial 0 with value: -0.9455885555010966.\n"
     ]
    },
    {
     "name": "stdout",
     "output_type": "stream",
     "text": [
      "16:03:43 redisvl.index.index INFO   Index already exists, not overwriting.\n",
      "16:03:43 sentence_transformers.SentenceTransformer INFO   Use pytorch device_name: mps\n",
      "16:03:43 sentence_transformers.SentenceTransformer INFO   Load pretrained SentenceTransformer: sentence-transformers/all-MiniLM-L6-v2\n"
     ]
    },
    {
     "data": {
      "application/vnd.jupyter.widget-view+json": {
       "model_id": "0f0ad1f8c6e6443aaedf54b0a3909b93",
       "version_major": 2,
       "version_minor": 0
      },
      "text/plain": [
       "Batches:   0%|          | 0/1 [00:00<?, ?it/s]"
      ]
     },
     "metadata": {},
     "output_type": "display_data"
    },
    {
     "name": "stdout",
     "output_type": "stream",
     "text": [
      "16:03:44 root INFO   Data indexed total_indexing_time=3.803s, num_docs=3633\n",
      "16:03:46 root INFO   Saving metrics for study: a796dacc-52e2-4fc7-be2c-3a7246d10901, METRICS={'search_method': ['hybrid', 'vector', 'hybrid'], 'total_indexing_time': [3.803, 3.803, 3.803], 'avg_query_time': [0.0035999603684841665, 0.001152925077975719, 0.0036754940316403983], 'model': ['sentence-transformers/all-MiniLM-L6-v2', 'sentence-transformers/all-MiniLM-L6-v2', 'sentence-transformers/all-MiniLM-L6-v2'], 'model_dim': [384, 384, 384], 'ret_k': [5, 9, 6], 'recall': [0.15498797328057845, 0.14379087898439163, 0.15498797328057845], 'ndcg': [0.20277849135854045, 0.1812695344787445, 0.20277849135854045], 'f1': [0.13071176354799932, 0.12449723642356514, 0.13071176354799932], 'precision': [0.24334365325077406, 0.23808049535603718, 0.24334365325077406], 'algorithm': ['hnsw', 'hnsw', 'hnsw'], 'ef_construction': [250, 200, 300], 'ef_runtime': [30, 20, 20], 'm': [8, 64, 8], 'distance_metric': ['cosine', 'cosine', 'cosine'], 'vector_data_type': ['float16', 'float16', 'float16'], 'objective_value': [-0.9455885555010966, -1.0388269274283073, -0.9454385812897239]}\n"
     ]
    },
    {
     "name": "stderr",
     "output_type": "stream",
     "text": [
      "[I 2025-07-03 16:03:46,316] Trial 2 finished with value: -0.9454385812897239 and parameters: {'model_info': {'type': 'hf', 'model': 'sentence-transformers/all-MiniLM-L6-v2', 'dim': 384, 'embedding_cache_name': 'vec-cache', 'dtype': 'float32'}, 'search_method': 'hybrid', 'algorithm': 'hnsw', 'var_dtype': 'float16', 'distance_metric': 'cosine', 'ret_k': 6, 'ef_runtime': 20, 'ef_construction': 300, 'm': 8}. Best is trial 2 with value: -0.9454385812897239.\n"
     ]
    },
    {
     "name": "stdout",
     "output_type": "stream",
     "text": [
      "16:03:46 redisvl.index.index INFO   Index already exists, not overwriting.\n",
      "16:03:46 sentence_transformers.SentenceTransformer INFO   Use pytorch device_name: mps\n",
      "16:03:46 sentence_transformers.SentenceTransformer INFO   Load pretrained SentenceTransformer: sentence-transformers/all-MiniLM-L6-v2\n"
     ]
    },
    {
     "data": {
      "application/vnd.jupyter.widget-view+json": {
       "model_id": "58d7097992de473190dc3a5e2335be70",
       "version_major": 2,
       "version_minor": 0
      },
      "text/plain": [
       "Batches:   0%|          | 0/1 [00:00<?, ?it/s]"
      ]
     },
     "metadata": {},
     "output_type": "display_data"
    },
    {
     "name": "stdout",
     "output_type": "stream",
     "text": [
      "16:03:47 root INFO   Data indexed total_indexing_time=3.803s, num_docs=3633\n",
      "16:03:48 root INFO   Saving metrics for study: a796dacc-52e2-4fc7-be2c-3a7246d10901, METRICS={'search_method': ['hybrid', 'vector', 'hybrid', 'hybrid'], 'total_indexing_time': [3.803, 3.803, 3.803, 3.803], 'avg_query_time': [0.0035999603684841665, 0.001152925077975719, 0.0036754940316403983, 0.0036588128506214626], 'model': ['sentence-transformers/all-MiniLM-L6-v2', 'sentence-transformers/all-MiniLM-L6-v2', 'sentence-transformers/all-MiniLM-L6-v2', 'sentence-transformers/all-MiniLM-L6-v2'], 'model_dim': [384, 384, 384, 384], 'ret_k': [5, 9, 6, 3], 'recall': [0.15498797328057845, 0.14379087898439163, 0.15498797328057845, 0.15498797328057845], 'ndcg': [0.20277849135854045, 0.1812695344787445, 0.20277849135854045, 0.20277849135854045], 'f1': [0.13071176354799932, 0.12449723642356514, 0.13071176354799932, 0.13071176354799932], 'precision': [0.24334365325077406, 0.23808049535603718, 0.24334365325077406, 0.24334365325077406], 'algorithm': ['hnsw', 'hnsw', 'hnsw', 'hnsw'], 'ef_construction': [250, 200, 300, 150], 'ef_runtime': [30, 20, 20, 10], 'm': [8, 64, 8, 64], 'distance_metric': ['cosine', 'cosine', 'cosine', 'cosine'], 'vector_data_type': ['float16', 'float16', 'float16', 'float16'], 'objective_value': [-0.9455885555010966, -1.0388269274283073, -0.9454385812897239, -0.9454717003013839]}\n"
     ]
    },
    {
     "name": "stderr",
     "output_type": "stream",
     "text": [
      "[I 2025-07-03 16:03:48,887] Trial 3 finished with value: -0.9454717003013839 and parameters: {'model_info': {'type': 'hf', 'model': 'sentence-transformers/all-MiniLM-L6-v2', 'dim': 384, 'embedding_cache_name': 'vec-cache', 'dtype': 'float32'}, 'search_method': 'hybrid', 'algorithm': 'hnsw', 'var_dtype': 'float16', 'distance_metric': 'cosine', 'ret_k': 3, 'ef_runtime': 10, 'ef_construction': 150, 'm': 64}. Best is trial 2 with value: -0.9454385812897239.\n"
     ]
    },
    {
     "name": "stdout",
     "output_type": "stream",
     "text": [
      "16:03:48 sentence_transformers.SentenceTransformer INFO   Use pytorch device_name: mps\n",
      "16:03:48 sentence_transformers.SentenceTransformer INFO   Load pretrained SentenceTransformer: sentence-transformers/all-MiniLM-L6-v2\n"
     ]
    },
    {
     "data": {
      "application/vnd.jupyter.widget-view+json": {
       "model_id": "546b88ad535d4beabae7a4fc8445d0ca",
       "version_major": 2,
       "version_minor": 0
      },
      "text/plain": [
       "Batches:   0%|          | 0/1 [00:00<?, ?it/s]"
      ]
     },
     "metadata": {},
     "output_type": "display_data"
    },
    {
     "name": "stdout",
     "output_type": "stream",
     "text": [
      "16:03:49 root INFO   Recreating index...\n",
      "16:03:50 root INFO   Corpus size: 3633\n",
      "16:03:53 root INFO   Data indexed total_indexing_time=2.745s, num_docs=3633\n",
      "16:03:54 root INFO   Saving metrics for study: a796dacc-52e2-4fc7-be2c-3a7246d10901, METRICS={'search_method': ['hybrid', 'vector', 'hybrid', 'hybrid', 'hybrid'], 'total_indexing_time': [3.803, 3.803, 3.803, 3.803, 2.745], 'avg_query_time': [0.0035999603684841665, 0.001152925077975719, 0.0036754940316403983, 0.0036588128506214626, 0.0023498874699737263], 'model': ['sentence-transformers/all-MiniLM-L6-v2', 'sentence-transformers/all-MiniLM-L6-v2', 'sentence-transformers/all-MiniLM-L6-v2', 'sentence-transformers/all-MiniLM-L6-v2', 'sentence-transformers/all-MiniLM-L6-v2'], 'model_dim': [384, 384, 384, 384, 384], 'ret_k': [5, 9, 6, 3, 9], 'recall': [0.15498797328057845, 0.14379087898439163, 0.15498797328057845, 0.15498797328057845, 0.15498797328057845], 'ndcg': [0.20277849135854045, 0.1812695344787445, 0.20277849135854045, 0.20277849135854045, 0.20277849135854045], 'f1': [0.13071176354799932, 0.12449723642356514, 0.13071176354799932, 0.13071176354799932, 0.13071176354799932], 'precision': [0.24334365325077406, 0.23808049535603718, 0.24334365325077406, 0.24334365325077406, 0.24334365325077406], 'algorithm': ['hnsw', 'hnsw', 'hnsw', 'hnsw', 'hnsw'], 'ef_construction': [250, 200, 300, 150, 200], 'ef_runtime': [30, 20, 20, 10, 10], 'm': [8, 64, 8, 64, 16], 'distance_metric': ['cosine', 'cosine', 'cosine', 'cosine', 'cosine'], 'vector_data_type': ['float16', 'float16', 'float16', 'float16', 'float32'], 'objective_value': [-0.9455885555010966, -1.0388269274283073, -0.9454385812897239, -0.9454717003013839, -1.0657128740938089]}\n"
     ]
    },
    {
     "name": "stderr",
     "output_type": "stream",
     "text": [
      "[I 2025-07-03 16:03:54,482] Trial 4 finished with value: -1.0657128740938089 and parameters: {'model_info': {'type': 'hf', 'model': 'sentence-transformers/all-MiniLM-L6-v2', 'dim': 384, 'embedding_cache_name': 'vec-cache', 'dtype': 'float32'}, 'search_method': 'hybrid', 'algorithm': 'hnsw', 'var_dtype': 'float32', 'distance_metric': 'cosine', 'ret_k': 9, 'ef_runtime': 10, 'ef_construction': 200, 'm': 16}. Best is trial 2 with value: -0.9454385812897239.\n"
     ]
    },
    {
     "name": "stdout",
     "output_type": "stream",
     "text": [
      "16:03:54 redisvl.index.index INFO   Index already exists, not overwriting.\n",
      "16:03:54 sentence_transformers.SentenceTransformer INFO   Use pytorch device_name: mps\n",
      "16:03:54 sentence_transformers.SentenceTransformer INFO   Load pretrained SentenceTransformer: sentence-transformers/all-MiniLM-L6-v2\n"
     ]
    },
    {
     "data": {
      "application/vnd.jupyter.widget-view+json": {
       "model_id": "e5a14109908d4573844692939b7f09f9",
       "version_major": 2,
       "version_minor": 0
      },
      "text/plain": [
       "Batches:   0%|          | 0/1 [00:00<?, ?it/s]"
      ]
     },
     "metadata": {},
     "output_type": "display_data"
    },
    {
     "name": "stdout",
     "output_type": "stream",
     "text": [
      "16:03:55 root INFO   Data indexed total_indexing_time=2.745s, num_docs=3633\n",
      "16:03:56 root INFO   Saving metrics for study: a796dacc-52e2-4fc7-be2c-3a7246d10901, METRICS={'search_method': ['hybrid', 'vector', 'hybrid', 'hybrid', 'hybrid', 'hybrid'], 'total_indexing_time': [3.803, 3.803, 3.803, 3.803, 2.745, 2.745], 'avg_query_time': [0.0035999603684841665, 0.001152925077975719, 0.0036754940316403983, 0.0036588128506214626, 0.0023498874699737263, 0.002616440917685305], 'model': ['sentence-transformers/all-MiniLM-L6-v2', 'sentence-transformers/all-MiniLM-L6-v2', 'sentence-transformers/all-MiniLM-L6-v2', 'sentence-transformers/all-MiniLM-L6-v2', 'sentence-transformers/all-MiniLM-L6-v2', 'sentence-transformers/all-MiniLM-L6-v2'], 'model_dim': [384, 384, 384, 384, 384, 384], 'ret_k': [5, 9, 6, 3, 9, 10], 'recall': [0.15498797328057845, 0.14379087898439163, 0.15498797328057845, 0.15498797328057845, 0.15498797328057845, 0.15498797328057845], 'ndcg': [0.20277849135854045, 0.1812695344787445, 0.20277849135854045, 0.20277849135854045, 0.20277849135854045, 0.20277849135854045], 'f1': [0.13071176354799932, 0.12449723642356514, 0.13071176354799932, 0.13071176354799932, 0.13071176354799932, 0.13071176354799932], 'precision': [0.24334365325077406, 0.23808049535603718, 0.24334365325077406, 0.24334365325077406, 0.24334365325077406, 0.24334365325077406], 'algorithm': ['hnsw', 'hnsw', 'hnsw', 'hnsw', 'hnsw', 'hnsw'], 'ef_construction': [250, 200, 300, 150, 200, 200], 'ef_runtime': [30, 20, 20, 10, 10, 30], 'm': [8, 64, 8, 64, 16, 64], 'distance_metric': ['cosine', 'cosine', 'cosine', 'cosine', 'cosine', 'cosine'], 'vector_data_type': ['float16', 'float16', 'float16', 'float16', 'float32', 'float32'], 'objective_value': [-0.9455885555010966, -1.0388269274283073, -0.9454385812897239, -0.9454717003013839, -1.0657128740938089, -1.0651824049438896]}\n"
     ]
    },
    {
     "name": "stderr",
     "output_type": "stream",
     "text": [
      "[I 2025-07-03 16:03:56,763] Trial 5 finished with value: -1.0651824049438896 and parameters: {'model_info': {'type': 'hf', 'model': 'sentence-transformers/all-MiniLM-L6-v2', 'dim': 384, 'embedding_cache_name': 'vec-cache', 'dtype': 'float32'}, 'search_method': 'hybrid', 'algorithm': 'hnsw', 'var_dtype': 'float32', 'distance_metric': 'cosine', 'ret_k': 10, 'ef_runtime': 30, 'ef_construction': 200, 'm': 64}. Best is trial 2 with value: -0.9454385812897239.\n"
     ]
    },
    {
     "name": "stdout",
     "output_type": "stream",
     "text": [
      "16:03:56 sentence_transformers.SentenceTransformer INFO   Use pytorch device_name: mps\n",
      "16:03:56 sentence_transformers.SentenceTransformer INFO   Load pretrained SentenceTransformer: sentence-transformers/all-MiniLM-L6-v2\n"
     ]
    },
    {
     "data": {
      "application/vnd.jupyter.widget-view+json": {
       "model_id": "5a76d111681a4b7cb5f09b940b6c0af8",
       "version_major": 2,
       "version_minor": 0
      },
      "text/plain": [
       "Batches:   0%|          | 0/1 [00:00<?, ?it/s]"
      ]
     },
     "metadata": {},
     "output_type": "display_data"
    },
    {
     "name": "stdout",
     "output_type": "stream",
     "text": [
      "16:03:57 root INFO   Recreating index...\n",
      "16:03:58 root INFO   Corpus size: 3633\n",
      "16:04:02 root INFO   Data indexed total_indexing_time=4.533s, num_docs=3633\n",
      "16:04:03 root INFO   Saving metrics for study: a796dacc-52e2-4fc7-be2c-3a7246d10901, METRICS={'search_method': ['hybrid', 'vector', 'hybrid', 'hybrid', 'hybrid', 'hybrid', 'vector'], 'total_indexing_time': [3.803, 3.803, 3.803, 3.803, 2.745, 2.745, 4.533], 'avg_query_time': [0.0035999603684841665, 0.001152925077975719, 0.0036754940316403983, 0.0036588128506214626, 0.0023498874699737263, 0.002616440917685305, 0.0013452875355817954], 'model': ['sentence-transformers/all-MiniLM-L6-v2', 'sentence-transformers/all-MiniLM-L6-v2', 'sentence-transformers/all-MiniLM-L6-v2', 'sentence-transformers/all-MiniLM-L6-v2', 'sentence-transformers/all-MiniLM-L6-v2', 'sentence-transformers/all-MiniLM-L6-v2', 'sentence-transformers/all-MiniLM-L6-v2'], 'model_dim': [384, 384, 384, 384, 384, 384, 384], 'ret_k': [5, 9, 6, 3, 9, 10, 4], 'recall': [0.15498797328057845, 0.14379087898439163, 0.15498797328057845, 0.15498797328057845, 0.15498797328057845, 0.15498797328057845, 0.15271467127961147], 'ndcg': [0.20277849135854045, 0.1812695344787445, 0.20277849135854045, 0.20277849135854045, 0.20277849135854045, 0.20277849135854045, 0.19343153073544272], 'f1': [0.13071176354799932, 0.12449723642356514, 0.13071176354799932, 0.13071176354799932, 0.13071176354799932, 0.13071176354799932, 0.12962922804492433], 'precision': [0.24334365325077406, 0.23808049535603718, 0.24334365325077406, 0.24334365325077406, 0.24334365325077406, 0.24334365325077406, 0.24303405572755418], 'algorithm': ['hnsw', 'hnsw', 'hnsw', 'hnsw', 'hnsw', 'hnsw', 'hnsw'], 'ef_construction': [250, 200, 300, 150, 200, 200, 200], 'ef_runtime': [30, 20, 20, 10, 10, 30, 30], 'm': [8, 64, 8, 64, 16, 64, 64], 'distance_metric': ['cosine', 'cosine', 'cosine', 'cosine', 'cosine', 'cosine', 'cosine'], 'vector_data_type': ['float16', 'float16', 'float16', 'float16', 'float32', 'float32', 'float16'], 'objective_value': [-0.9455885555010966, -1.0388269274283073, -0.9454385812897239, -0.9454717003013839, -1.0657128740938089, -1.0651824049438896, -0.9211616263746649]}\n"
     ]
    },
    {
     "name": "stderr",
     "output_type": "stream",
     "text": [
      "[I 2025-07-03 16:04:03,737] Trial 6 finished with value: -0.9211616263746649 and parameters: {'model_info': {'type': 'hf', 'model': 'sentence-transformers/all-MiniLM-L6-v2', 'dim': 384, 'embedding_cache_name': 'vec-cache', 'dtype': 'float32'}, 'search_method': 'vector', 'algorithm': 'hnsw', 'var_dtype': 'float16', 'distance_metric': 'cosine', 'ret_k': 4, 'ef_runtime': 30, 'ef_construction': 200, 'm': 64}. Best is trial 6 with value: -0.9211616263746649.\n"
     ]
    },
    {
     "name": "stdout",
     "output_type": "stream",
     "text": [
      "16:04:03 sentence_transformers.SentenceTransformer INFO   Use pytorch device_name: mps\n",
      "16:04:03 sentence_transformers.SentenceTransformer INFO   Load pretrained SentenceTransformer: sentence-transformers/all-MiniLM-L6-v2\n"
     ]
    },
    {
     "data": {
      "application/vnd.jupyter.widget-view+json": {
       "model_id": "05844e8335d84d788a5db9b8de141243",
       "version_major": 2,
       "version_minor": 0
      },
      "text/plain": [
       "Batches:   0%|          | 0/1 [00:00<?, ?it/s]"
      ]
     },
     "metadata": {},
     "output_type": "display_data"
    },
    {
     "name": "stdout",
     "output_type": "stream",
     "text": [
      "16:04:04 root INFO   Recreating index...\n",
      "16:04:05 root INFO   Corpus size: 3633\n",
      "16:04:07 root INFO   Data indexed total_indexing_time=2.328s, num_docs=3633\n",
      "16:04:08 root INFO   Saving metrics for study: a796dacc-52e2-4fc7-be2c-3a7246d10901, METRICS={'search_method': ['hybrid', 'vector', 'hybrid', 'hybrid', 'hybrid', 'hybrid', 'vector', 'vector'], 'total_indexing_time': [3.803, 3.803, 3.803, 3.803, 2.745, 2.745, 4.533, 2.328], 'avg_query_time': [0.0035999603684841665, 0.001152925077975719, 0.0036754940316403983, 0.0036588128506214626, 0.0023498874699737263, 0.002616440917685305, 0.0013452875355817954, 0.0007695502171944539], 'model': ['sentence-transformers/all-MiniLM-L6-v2', 'sentence-transformers/all-MiniLM-L6-v2', 'sentence-transformers/all-MiniLM-L6-v2', 'sentence-transformers/all-MiniLM-L6-v2', 'sentence-transformers/all-MiniLM-L6-v2', 'sentence-transformers/all-MiniLM-L6-v2', 'sentence-transformers/all-MiniLM-L6-v2', 'sentence-transformers/all-MiniLM-L6-v2'], 'model_dim': [384, 384, 384, 384, 384, 384, 384, 384], 'ret_k': [5, 9, 6, 3, 9, 10, 4, 5], 'recall': [0.15498797328057845, 0.14379087898439163, 0.15498797328057845, 0.15498797328057845, 0.15498797328057845, 0.15498797328057845, 0.15271467127961147, 0.12517788232423716], 'ndcg': [0.20277849135854045, 0.1812695344787445, 0.20277849135854045, 0.20277849135854045, 0.20277849135854045, 0.20277849135854045, 0.19343153073544272, 0.1652566296274173], 'f1': [0.13071176354799932, 0.12449723642356514, 0.13071176354799932, 0.13071176354799932, 0.13071176354799932, 0.13071176354799932, 0.12962922804492433, 0.1124748098651683], 'precision': [0.24334365325077406, 0.23808049535603718, 0.24334365325077406, 0.24334365325077406, 0.24334365325077406, 0.24334365325077406, 0.24303405572755418, 0.22445820433436534], 'algorithm': ['hnsw', 'hnsw', 'hnsw', 'hnsw', 'hnsw', 'hnsw', 'hnsw', 'hnsw'], 'ef_construction': [250, 200, 300, 150, 200, 200, 200, 250], 'ef_runtime': [30, 20, 20, 10, 10, 30, 30, 10], 'm': [8, 64, 8, 64, 16, 64, 64, 8], 'distance_metric': ['cosine', 'cosine', 'cosine', 'cosine', 'cosine', 'cosine', 'cosine', 'cosine'], 'vector_data_type': ['float16', 'float16', 'float16', 'float16', 'float32', 'float32', 'float16', 'float32'], 'objective_value': [-0.9455885555010966, -1.0388269274283073, -0.9454385812897239, -0.9454717003013839, -1.0657128740938089, -1.0651824049438896, -0.9211616263746649, -1.3446885692290809]}\n"
     ]
    },
    {
     "name": "stderr",
     "output_type": "stream",
     "text": [
      "[I 2025-07-03 16:04:08,446] Trial 7 finished with value: -1.3446885692290809 and parameters: {'model_info': {'type': 'hf', 'model': 'sentence-transformers/all-MiniLM-L6-v2', 'dim': 384, 'embedding_cache_name': 'vec-cache', 'dtype': 'float32'}, 'search_method': 'vector', 'algorithm': 'hnsw', 'var_dtype': 'float32', 'distance_metric': 'cosine', 'ret_k': 5, 'ef_runtime': 10, 'ef_construction': 250, 'm': 8}. Best is trial 6 with value: -0.9211616263746649.\n"
     ]
    },
    {
     "name": "stdout",
     "output_type": "stream",
     "text": [
      "16:04:08 redisvl.index.index INFO   Index already exists, not overwriting.\n",
      "16:04:08 sentence_transformers.SentenceTransformer INFO   Use pytorch device_name: mps\n",
      "16:04:08 sentence_transformers.SentenceTransformer INFO   Load pretrained SentenceTransformer: sentence-transformers/all-MiniLM-L6-v2\n"
     ]
    },
    {
     "data": {
      "application/vnd.jupyter.widget-view+json": {
       "model_id": "1a53eed513ab4fa38f22d5b53b9b9d7c",
       "version_major": 2,
       "version_minor": 0
      },
      "text/plain": [
       "Batches:   0%|          | 0/1 [00:00<?, ?it/s]"
      ]
     },
     "metadata": {},
     "output_type": "display_data"
    },
    {
     "name": "stdout",
     "output_type": "stream",
     "text": [
      "16:04:09 root INFO   Data indexed total_indexing_time=2.328s, num_docs=3633\n",
      "16:04:09 root INFO   Saving metrics for study: a796dacc-52e2-4fc7-be2c-3a7246d10901, METRICS={'search_method': ['hybrid', 'vector', 'hybrid', 'hybrid', 'hybrid', 'hybrid', 'vector', 'vector', 'vector'], 'total_indexing_time': [3.803, 3.803, 3.803, 3.803, 2.745, 2.745, 4.533, 2.328, 2.328], 'avg_query_time': [0.0035999603684841665, 0.001152925077975719, 0.0036754940316403983, 0.0036588128506214626, 0.0023498874699737263, 0.002616440917685305, 0.0013452875355817954, 0.0007695502171944539, 0.0009129800294574938], 'model': ['sentence-transformers/all-MiniLM-L6-v2', 'sentence-transformers/all-MiniLM-L6-v2', 'sentence-transformers/all-MiniLM-L6-v2', 'sentence-transformers/all-MiniLM-L6-v2', 'sentence-transformers/all-MiniLM-L6-v2', 'sentence-transformers/all-MiniLM-L6-v2', 'sentence-transformers/all-MiniLM-L6-v2', 'sentence-transformers/all-MiniLM-L6-v2', 'sentence-transformers/all-MiniLM-L6-v2'], 'model_dim': [384, 384, 384, 384, 384, 384, 384, 384, 384], 'ret_k': [5, 9, 6, 3, 9, 10, 4, 5, 9], 'recall': [0.15498797328057845, 0.14379087898439163, 0.15498797328057845, 0.15498797328057845, 0.15498797328057845, 0.15498797328057845, 0.15271467127961147, 0.12517788232423716, 0.12517788232423716], 'ndcg': [0.20277849135854045, 0.1812695344787445, 0.20277849135854045, 0.20277849135854045, 0.20277849135854045, 0.20277849135854045, 0.19343153073544272, 0.1652566296274173, 0.1652566296274173], 'f1': [0.13071176354799932, 0.12449723642356514, 0.13071176354799932, 0.13071176354799932, 0.13071176354799932, 0.13071176354799932, 0.12962922804492433, 0.1124748098651683, 0.1124748098651683], 'precision': [0.24334365325077406, 0.23808049535603718, 0.24334365325077406, 0.24334365325077406, 0.24334365325077406, 0.24334365325077406, 0.24303405572755418, 0.22445820433436534, 0.22445820433436534], 'algorithm': ['hnsw', 'hnsw', 'hnsw', 'hnsw', 'hnsw', 'hnsw', 'hnsw', 'hnsw', 'hnsw'], 'ef_construction': [250, 200, 300, 150, 200, 200, 200, 250, 200], 'ef_runtime': [30, 20, 20, 10, 10, 30, 30, 10, 10], 'm': [8, 64, 8, 64, 16, 64, 64, 8, 16], 'distance_metric': ['cosine', 'cosine', 'cosine', 'cosine', 'cosine', 'cosine', 'cosine', 'cosine', 'cosine'], 'vector_data_type': ['float16', 'float16', 'float16', 'float16', 'float32', 'float32', 'float16', 'float32', 'float32'], 'objective_value': [-0.9455885555010966, -1.0388269274283073, -0.9454385812897239, -0.9454717003013839, -1.0657128740938089, -1.0651824049438896, -0.9211616263746649, -1.3446885692290809, -1.3444021916447069]}\n"
     ]
    },
    {
     "name": "stderr",
     "output_type": "stream",
     "text": [
      "[I 2025-07-03 16:04:09,929] Trial 8 finished with value: -1.3444021916447069 and parameters: {'model_info': {'type': 'hf', 'model': 'sentence-transformers/all-MiniLM-L6-v2', 'dim': 384, 'embedding_cache_name': 'vec-cache', 'dtype': 'float32'}, 'search_method': 'vector', 'algorithm': 'hnsw', 'var_dtype': 'float32', 'distance_metric': 'cosine', 'ret_k': 9, 'ef_runtime': 10, 'ef_construction': 200, 'm': 16}. Best is trial 6 with value: -0.9211616263746649.\n"
     ]
    },
    {
     "name": "stdout",
     "output_type": "stream",
     "text": [
      "16:04:09 redisvl.index.index INFO   Index already exists, not overwriting.\n",
      "16:04:09 sentence_transformers.SentenceTransformer INFO   Use pytorch device_name: mps\n",
      "16:04:09 sentence_transformers.SentenceTransformer INFO   Load pretrained SentenceTransformer: sentence-transformers/all-MiniLM-L6-v2\n"
     ]
    },
    {
     "data": {
      "application/vnd.jupyter.widget-view+json": {
       "model_id": "be8fd9597a104242bad9a2e9609d6ea2",
       "version_major": 2,
       "version_minor": 0
      },
      "text/plain": [
       "Batches:   0%|          | 0/1 [00:00<?, ?it/s]"
      ]
     },
     "metadata": {},
     "output_type": "display_data"
    },
    {
     "name": "stdout",
     "output_type": "stream",
     "text": [
      "16:04:10 root INFO   Data indexed total_indexing_time=2.328s, num_docs=3633\n",
      "16:04:12 root INFO   Saving metrics for study: a796dacc-52e2-4fc7-be2c-3a7246d10901, METRICS={'search_method': ['hybrid', 'vector', 'hybrid', 'hybrid', 'hybrid', 'hybrid', 'vector', 'vector', 'vector', 'hybrid'], 'total_indexing_time': [3.803, 3.803, 3.803, 3.803, 2.745, 2.745, 4.533, 2.328, 2.328, 2.328], 'avg_query_time': [0.0035999603684841665, 0.001152925077975719, 0.0036754940316403983, 0.0036588128506214626, 0.0023498874699737263, 0.002616440917685305, 0.0013452875355817954, 0.0007695502171944539, 0.0009129800294574938, 0.0027583870725365984], 'model': ['sentence-transformers/all-MiniLM-L6-v2', 'sentence-transformers/all-MiniLM-L6-v2', 'sentence-transformers/all-MiniLM-L6-v2', 'sentence-transformers/all-MiniLM-L6-v2', 'sentence-transformers/all-MiniLM-L6-v2', 'sentence-transformers/all-MiniLM-L6-v2', 'sentence-transformers/all-MiniLM-L6-v2', 'sentence-transformers/all-MiniLM-L6-v2', 'sentence-transformers/all-MiniLM-L6-v2', 'sentence-transformers/all-MiniLM-L6-v2'], 'model_dim': [384, 384, 384, 384, 384, 384, 384, 384, 384, 384], 'ret_k': [5, 9, 6, 3, 9, 10, 4, 5, 9, 10], 'recall': [0.15498797328057845, 0.14379087898439163, 0.15498797328057845, 0.15498797328057845, 0.15498797328057845, 0.15498797328057845, 0.15271467127961147, 0.12517788232423716, 0.12517788232423716, 0.15498797328057845], 'ndcg': [0.20277849135854045, 0.1812695344787445, 0.20277849135854045, 0.20277849135854045, 0.20277849135854045, 0.20277849135854045, 0.19343153073544272, 0.1652566296274173, 0.1652566296274173, 0.20277849135854045], 'f1': [0.13071176354799932, 0.12449723642356514, 0.13071176354799932, 0.13071176354799932, 0.13071176354799932, 0.13071176354799932, 0.12962922804492433, 0.1124748098651683, 0.1124748098651683, 0.13071176354799932], 'precision': [0.24334365325077406, 0.23808049535603718, 0.24334365325077406, 0.24334365325077406, 0.24334365325077406, 0.24334365325077406, 0.24303405572755418, 0.22445820433436534, 0.22445820433436534, 0.24334365325077406], 'algorithm': ['hnsw', 'hnsw', 'hnsw', 'hnsw', 'hnsw', 'hnsw', 'hnsw', 'hnsw', 'hnsw', 'hnsw'], 'ef_construction': [250, 200, 300, 150, 200, 200, 200, 250, 200, 300], 'ef_runtime': [30, 20, 20, 10, 10, 30, 30, 10, 10, 10], 'm': [8, 64, 8, 64, 16, 64, 64, 8, 16, 64], 'distance_metric': ['cosine', 'cosine', 'cosine', 'cosine', 'cosine', 'cosine', 'cosine', 'cosine', 'cosine', 'cosine'], 'vector_data_type': ['float16', 'float16', 'float16', 'float16', 'float32', 'float32', 'float16', 'float32', 'float32', 'float32'], 'objective_value': [-0.9455885555010966, -1.0388269274283073, -0.9454385812897239, -0.9454717003013839, -1.0657128740938089, -1.0651824049438896, -0.9211616263746649, -1.3446885692290809, -1.3444021916447069, -1.1318161769791555]}\n"
     ]
    },
    {
     "name": "stderr",
     "output_type": "stream",
     "text": [
      "[I 2025-07-03 16:04:12,284] Trial 9 finished with value: -1.1318161769791555 and parameters: {'model_info': {'type': 'hf', 'model': 'sentence-transformers/all-MiniLM-L6-v2', 'dim': 384, 'embedding_cache_name': 'vec-cache', 'dtype': 'float32'}, 'search_method': 'hybrid', 'algorithm': 'hnsw', 'var_dtype': 'float32', 'distance_metric': 'cosine', 'ret_k': 10, 'ef_runtime': 10, 'ef_construction': 300, 'm': 64}. Best is trial 6 with value: -0.9211616263746649.\n"
     ]
    },
    {
     "name": "stdout",
     "output_type": "stream",
     "text": [
      "16:04:12 sentence_transformers.SentenceTransformer INFO   Use pytorch device_name: mps\n",
      "16:04:12 sentence_transformers.SentenceTransformer INFO   Load pretrained SentenceTransformer: sentence-transformers/all-MiniLM-L6-v2\n"
     ]
    },
    {
     "data": {
      "application/vnd.jupyter.widget-view+json": {
       "model_id": "7459cae4977246c4b767930cd9ea8e38",
       "version_major": 2,
       "version_minor": 0
      },
      "text/plain": [
       "Batches:   0%|          | 0/1 [00:00<?, ?it/s]"
      ]
     },
     "metadata": {},
     "output_type": "display_data"
    },
    {
     "name": "stdout",
     "output_type": "stream",
     "text": [
      "16:04:13 root INFO   Recreating index...\n",
      "16:04:13 root INFO   Corpus size: 3633\n",
      "16:04:17 root INFO   Data indexed total_indexing_time=3.103s, num_docs=3633\n",
      "16:04:17 root INFO   Saving metrics for study: a796dacc-52e2-4fc7-be2c-3a7246d10901, METRICS={'search_method': ['hybrid', 'vector', 'hybrid', 'hybrid', 'hybrid', 'hybrid', 'vector', 'vector', 'vector', 'hybrid', 'vector'], 'total_indexing_time': [3.803, 3.803, 3.803, 3.803, 2.745, 2.745, 4.533, 2.328, 2.328, 2.328, 3.103], 'avg_query_time': [0.0035999603684841665, 0.001152925077975719, 0.0036754940316403983, 0.0036588128506214626, 0.0023498874699737263, 0.002616440917685305, 0.0013452875355817954, 0.0007695502171944539, 0.0009129800294574938, 0.0027583870725365984, 0.0013001275136374838], 'model': ['sentence-transformers/all-MiniLM-L6-v2', 'sentence-transformers/all-MiniLM-L6-v2', 'sentence-transformers/all-MiniLM-L6-v2', 'sentence-transformers/all-MiniLM-L6-v2', 'sentence-transformers/all-MiniLM-L6-v2', 'sentence-transformers/all-MiniLM-L6-v2', 'sentence-transformers/all-MiniLM-L6-v2', 'sentence-transformers/all-MiniLM-L6-v2', 'sentence-transformers/all-MiniLM-L6-v2', 'sentence-transformers/all-MiniLM-L6-v2', 'sentence-transformers/all-MiniLM-L6-v2'], 'model_dim': [384, 384, 384, 384, 384, 384, 384, 384, 384, 384, 384], 'ret_k': [5, 9, 6, 3, 9, 10, 4, 5, 9, 10, 1], 'recall': [0.15498797328057845, 0.14379087898439163, 0.15498797328057845, 0.15498797328057845, 0.15498797328057845, 0.15498797328057845, 0.15271467127961147, 0.12517788232423716, 0.12517788232423716, 0.15498797328057845, 0.14559904740119534], 'ndcg': [0.20277849135854045, 0.1812695344787445, 0.20277849135854045, 0.20277849135854045, 0.20277849135854045, 0.20277849135854045, 0.19343153073544272, 0.1652566296274173, 0.1652566296274173, 0.20277849135854045, 0.1865794500850195], 'f1': [0.13071176354799932, 0.12449723642356514, 0.13071176354799932, 0.13071176354799932, 0.13071176354799932, 0.13071176354799932, 0.12962922804492433, 0.1124748098651683, 0.1124748098651683, 0.13071176354799932, 0.1278765751518243], 'precision': [0.24334365325077406, 0.23808049535603718, 0.24334365325077406, 0.24334365325077406, 0.24334365325077406, 0.24334365325077406, 0.24303405572755418, 0.22445820433436534, 0.22445820433436534, 0.24334365325077406, 0.24179566563467494], 'algorithm': ['hnsw', 'hnsw', 'hnsw', 'hnsw', 'hnsw', 'hnsw', 'hnsw', 'hnsw', 'hnsw', 'hnsw', 'hnsw'], 'ef_construction': [250, 200, 300, 150, 200, 200, 200, 250, 200, 300, 100], 'ef_runtime': [30, 20, 20, 10, 10, 30, 30, 10, 10, 10, 50], 'm': [8, 64, 8, 64, 16, 64, 64, 8, 16, 64, 64], 'distance_metric': ['cosine', 'cosine', 'cosine', 'cosine', 'cosine', 'cosine', 'cosine', 'cosine', 'cosine', 'cosine', 'cosine'], 'vector_data_type': ['float16', 'float16', 'float16', 'float16', 'float32', 'float32', 'float16', 'float32', 'float32', 'float32', 'float16'], 'objective_value': [-0.9455885555010966, -1.0388269274283073, -0.9454385812897239, -0.9454717003013839, -1.0657128740938089, -1.0651824049438896, -0.9211616263746649, -1.3446885692290809, -1.3444021916447069, -1.1318161769791555, -1.0811498533286477]}\n"
     ]
    },
    {
     "name": "stderr",
     "output_type": "stream",
     "text": [
      "[I 2025-07-03 16:04:17,925] Trial 10 finished with value: -1.0811498533286477 and parameters: {'model_info': {'type': 'hf', 'model': 'sentence-transformers/all-MiniLM-L6-v2', 'dim': 384, 'embedding_cache_name': 'vec-cache', 'dtype': 'float32'}, 'search_method': 'vector', 'algorithm': 'hnsw', 'var_dtype': 'float16', 'distance_metric': 'cosine', 'ret_k': 1, 'ef_runtime': 50, 'ef_construction': 100, 'm': 64}. Best is trial 6 with value: -0.9211616263746649.\n"
     ]
    },
    {
     "name": "stdout",
     "output_type": "stream",
     "text": [
      "16:04:17 redisvl.index.index INFO   Index already exists, not overwriting.\n",
      "16:04:17 sentence_transformers.SentenceTransformer INFO   Use pytorch device_name: mps\n",
      "16:04:17 sentence_transformers.SentenceTransformer INFO   Load pretrained SentenceTransformer: sentence-transformers/all-MiniLM-L6-v2\n"
     ]
    },
    {
     "data": {
      "application/vnd.jupyter.widget-view+json": {
       "model_id": "414782dd2f3345a29671fcbf94c336eb",
       "version_major": 2,
       "version_minor": 0
      },
      "text/plain": [
       "Batches:   0%|          | 0/1 [00:00<?, ?it/s]"
      ]
     },
     "metadata": {},
     "output_type": "display_data"
    },
    {
     "name": "stdout",
     "output_type": "stream",
     "text": [
      "16:04:18 root INFO   Data indexed total_indexing_time=3.103s, num_docs=3633\n",
      "16:04:19 root INFO   Saving metrics for study: a796dacc-52e2-4fc7-be2c-3a7246d10901, METRICS={'search_method': ['hybrid', 'vector', 'hybrid', 'hybrid', 'hybrid', 'hybrid', 'vector', 'vector', 'vector', 'hybrid', 'vector', 'vector'], 'total_indexing_time': [3.803, 3.803, 3.803, 3.803, 2.745, 2.745, 4.533, 2.328, 2.328, 2.328, 3.103, 3.103], 'avg_query_time': [0.0035999603684841665, 0.001152925077975719, 0.0036754940316403983, 0.0036588128506214626, 0.0023498874699737263, 0.002616440917685305, 0.0013452875355817954, 0.0007695502171944539, 0.0009129800294574938, 0.0027583870725365984, 0.0013001275136374838, 0.0013324815791457799], 'model': ['sentence-transformers/all-MiniLM-L6-v2', 'sentence-transformers/all-MiniLM-L6-v2', 'sentence-transformers/all-MiniLM-L6-v2', 'sentence-transformers/all-MiniLM-L6-v2', 'sentence-transformers/all-MiniLM-L6-v2', 'sentence-transformers/all-MiniLM-L6-v2', 'sentence-transformers/all-MiniLM-L6-v2', 'sentence-transformers/all-MiniLM-L6-v2', 'sentence-transformers/all-MiniLM-L6-v2', 'sentence-transformers/all-MiniLM-L6-v2', 'sentence-transformers/all-MiniLM-L6-v2', 'sentence-transformers/all-MiniLM-L6-v2'], 'model_dim': [384, 384, 384, 384, 384, 384, 384, 384, 384, 384, 384, 384], 'ret_k': [5, 9, 6, 3, 9, 10, 4, 5, 9, 10, 1, 7], 'recall': [0.15498797328057845, 0.14379087898439163, 0.15498797328057845, 0.15498797328057845, 0.15498797328057845, 0.15498797328057845, 0.15271467127961147, 0.12517788232423716, 0.12517788232423716, 0.15498797328057845, 0.14559904740119534, 0.14559904740119534], 'ndcg': [0.20277849135854045, 0.1812695344787445, 0.20277849135854045, 0.20277849135854045, 0.20277849135854045, 0.20277849135854045, 0.19343153073544272, 0.1652566296274173, 0.1652566296274173, 0.20277849135854045, 0.1865794500850195, 0.1865794500850195], 'f1': [0.13071176354799932, 0.12449723642356514, 0.13071176354799932, 0.13071176354799932, 0.13071176354799932, 0.13071176354799932, 0.12962922804492433, 0.1124748098651683, 0.1124748098651683, 0.13071176354799932, 0.1278765751518243, 0.1278765751518243], 'precision': [0.24334365325077406, 0.23808049535603718, 0.24334365325077406, 0.24334365325077406, 0.24334365325077406, 0.24334365325077406, 0.24303405572755418, 0.22445820433436534, 0.22445820433436534, 0.24334365325077406, 0.24179566563467494, 0.24179566563467494], 'algorithm': ['hnsw', 'hnsw', 'hnsw', 'hnsw', 'hnsw', 'hnsw', 'hnsw', 'hnsw', 'hnsw', 'hnsw', 'hnsw', 'hnsw'], 'ef_construction': [250, 200, 300, 150, 200, 200, 200, 250, 200, 300, 100, 300], 'ef_runtime': [30, 20, 20, 10, 10, 30, 30, 10, 10, 10, 50, 20], 'm': [8, 64, 8, 64, 16, 64, 64, 8, 16, 64, 64, 8], 'distance_metric': ['cosine', 'cosine', 'cosine', 'cosine', 'cosine', 'cosine', 'cosine', 'cosine', 'cosine', 'cosine', 'cosine', 'cosine'], 'vector_data_type': ['float16', 'float16', 'float16', 'float16', 'float32', 'float32', 'float16', 'float32', 'float32', 'float32', 'float16', 'float16'], 'objective_value': [-0.9455885555010966, -1.0388269274283073, -0.9454385812897239, -0.9454717003013839, -1.0657128740938089, -1.0651824049438896, -0.9211616263746649, -1.3446885692290809, -1.3444021916447069, -1.1318161769791555, -1.0811498533286477, -1.0810853152130664]}\n"
     ]
    },
    {
     "name": "stderr",
     "output_type": "stream",
     "text": [
      "[I 2025-07-03 16:04:19,666] Trial 11 finished with value: -1.0810853152130664 and parameters: {'model_info': {'type': 'hf', 'model': 'sentence-transformers/all-MiniLM-L6-v2', 'dim': 384, 'embedding_cache_name': 'vec-cache', 'dtype': 'float32'}, 'search_method': 'vector', 'algorithm': 'hnsw', 'var_dtype': 'float16', 'distance_metric': 'cosine', 'ret_k': 7, 'ef_runtime': 20, 'ef_construction': 300, 'm': 8}. Best is trial 6 with value: -0.9211616263746649.\n"
     ]
    },
    {
     "name": "stdout",
     "output_type": "stream",
     "text": [
      "16:04:19 sentence_transformers.SentenceTransformer INFO   Use pytorch device_name: mps\n",
      "16:04:19 sentence_transformers.SentenceTransformer INFO   Load pretrained SentenceTransformer: sentence-transformers/all-MiniLM-L6-v2\n"
     ]
    },
    {
     "data": {
      "application/vnd.jupyter.widget-view+json": {
       "model_id": "79978e47cc21435d81e4af9c5dc63b29",
       "version_major": 2,
       "version_minor": 0
      },
      "text/plain": [
       "Batches:   0%|          | 0/1 [00:00<?, ?it/s]"
      ]
     },
     "metadata": {},
     "output_type": "display_data"
    },
    {
     "name": "stdout",
     "output_type": "stream",
     "text": [
      "16:04:20 root INFO   Data indexed total_indexing_time=3.103s, num_docs=3633\n",
      "16:04:21 root INFO   Saving metrics for study: a796dacc-52e2-4fc7-be2c-3a7246d10901, METRICS={'search_method': ['hybrid', 'vector', 'hybrid', 'hybrid', 'hybrid', 'hybrid', 'vector', 'vector', 'vector', 'hybrid', 'vector', 'vector', 'vector'], 'total_indexing_time': [3.803, 3.803, 3.803, 3.803, 2.745, 2.745, 4.533, 2.328, 2.328, 2.328, 3.103, 3.103, 3.103], 'avg_query_time': [0.0035999603684841665, 0.001152925077975719, 0.0036754940316403983, 0.0036588128506214626, 0.0023498874699737263, 0.002616440917685305, 0.0013452875355817954, 0.0007695502171944539, 0.0009129800294574938, 0.0027583870725365984, 0.0013001275136374838, 0.0013324815791457799, 0.0015705347799295243], 'model': ['sentence-transformers/all-MiniLM-L6-v2', 'sentence-transformers/all-MiniLM-L6-v2', 'sentence-transformers/all-MiniLM-L6-v2', 'sentence-transformers/all-MiniLM-L6-v2', 'sentence-transformers/all-MiniLM-L6-v2', 'sentence-transformers/all-MiniLM-L6-v2', 'sentence-transformers/all-MiniLM-L6-v2', 'sentence-transformers/all-MiniLM-L6-v2', 'sentence-transformers/all-MiniLM-L6-v2', 'sentence-transformers/all-MiniLM-L6-v2', 'sentence-transformers/all-MiniLM-L6-v2', 'sentence-transformers/all-MiniLM-L6-v2', 'sentence-transformers/all-MiniLM-L6-v2'], 'model_dim': [384, 384, 384, 384, 384, 384, 384, 384, 384, 384, 384, 384, 384], 'ret_k': [5, 9, 6, 3, 9, 10, 4, 5, 9, 10, 1, 7, 3], 'recall': [0.15498797328057845, 0.14379087898439163, 0.15498797328057845, 0.15498797328057845, 0.15498797328057845, 0.15498797328057845, 0.15271467127961147, 0.12517788232423716, 0.12517788232423716, 0.15498797328057845, 0.14559904740119534, 0.14559904740119534, 0.14559904740119534], 'ndcg': [0.20277849135854045, 0.1812695344787445, 0.20277849135854045, 0.20277849135854045, 0.20277849135854045, 0.20277849135854045, 0.19343153073544272, 0.1652566296274173, 0.1652566296274173, 0.20277849135854045, 0.1865794500850195, 0.1865794500850195, 0.1865794500850195], 'f1': [0.13071176354799932, 0.12449723642356514, 0.13071176354799932, 0.13071176354799932, 0.13071176354799932, 0.13071176354799932, 0.12962922804492433, 0.1124748098651683, 0.1124748098651683, 0.13071176354799932, 0.1278765751518243, 0.1278765751518243, 0.1278765751518243], 'precision': [0.24334365325077406, 0.23808049535603718, 0.24334365325077406, 0.24334365325077406, 0.24334365325077406, 0.24334365325077406, 0.24303405572755418, 0.22445820433436534, 0.22445820433436534, 0.24334365325077406, 0.24179566563467494, 0.24179566563467494, 0.24179566563467494], 'algorithm': ['hnsw', 'hnsw', 'hnsw', 'hnsw', 'hnsw', 'hnsw', 'hnsw', 'hnsw', 'hnsw', 'hnsw', 'hnsw', 'hnsw', 'hnsw'], 'ef_construction': [250, 200, 300, 150, 200, 200, 200, 250, 200, 300, 100, 300, 300], 'ef_runtime': [30, 20, 20, 10, 10, 30, 30, 10, 10, 10, 50, 20, 20], 'm': [8, 64, 8, 64, 16, 64, 64, 8, 16, 64, 64, 8, 8], 'distance_metric': ['cosine', 'cosine', 'cosine', 'cosine', 'cosine', 'cosine', 'cosine', 'cosine', 'cosine', 'cosine', 'cosine', 'cosine', 'cosine'], 'vector_data_type': ['float16', 'float16', 'float16', 'float16', 'float32', 'float32', 'float16', 'float32', 'float32', 'float32', 'float16', 'float16', 'float16'], 'objective_value': [-0.9455885555010966, -1.0388269274283073, -0.9454385812897239, -0.9454717003013839, -1.0657128740938089, -1.0651824049438896, -0.9211616263746649, -1.3446885692290809, -1.3444021916447069, -1.1318161769791555, -1.0811498533286477, -1.0810853152130664, -1.0806105879459873]}\n"
     ]
    },
    {
     "name": "stderr",
     "output_type": "stream",
     "text": [
      "[I 2025-07-03 16:04:21,679] Trial 12 finished with value: -1.0806105879459873 and parameters: {'model_info': {'type': 'hf', 'model': 'sentence-transformers/all-MiniLM-L6-v2', 'dim': 384, 'embedding_cache_name': 'vec-cache', 'dtype': 'float32'}, 'search_method': 'vector', 'algorithm': 'hnsw', 'var_dtype': 'float16', 'distance_metric': 'cosine', 'ret_k': 3, 'ef_runtime': 20, 'ef_construction': 300, 'm': 8}. Best is trial 6 with value: -0.9211616263746649.\n"
     ]
    },
    {
     "name": "stdout",
     "output_type": "stream",
     "text": [
      "16:04:21 redisvl.index.index INFO   Index already exists, not overwriting.\n",
      "16:04:21 sentence_transformers.SentenceTransformer INFO   Use pytorch device_name: mps\n",
      "16:04:21 sentence_transformers.SentenceTransformer INFO   Load pretrained SentenceTransformer: sentence-transformers/all-MiniLM-L6-v2\n"
     ]
    },
    {
     "data": {
      "application/vnd.jupyter.widget-view+json": {
       "model_id": "54bb4b8e14d14312a6bfcc1e6c610bd9",
       "version_major": 2,
       "version_minor": 0
      },
      "text/plain": [
       "Batches:   0%|          | 0/1 [00:00<?, ?it/s]"
      ]
     },
     "metadata": {},
     "output_type": "display_data"
    },
    {
     "name": "stdout",
     "output_type": "stream",
     "text": [
      "16:04:22 root INFO   Data indexed total_indexing_time=3.103s, num_docs=3633\n",
      "16:04:24 root INFO   Saving metrics for study: a796dacc-52e2-4fc7-be2c-3a7246d10901, METRICS={'search_method': ['hybrid', 'vector', 'hybrid', 'hybrid', 'hybrid', 'hybrid', 'vector', 'vector', 'vector', 'hybrid', 'vector', 'vector', 'vector', 'hybrid'], 'total_indexing_time': [3.803, 3.803, 3.803, 3.803, 2.745, 2.745, 4.533, 2.328, 2.328, 2.328, 3.103, 3.103, 3.103, 3.103], 'avg_query_time': [0.0035999603684841665, 0.001152925077975719, 0.0036754940316403983, 0.0036588128506214626, 0.0023498874699737263, 0.002616440917685305, 0.0013452875355817954, 0.0007695502171944539, 0.0009129800294574938, 0.0027583870725365984, 0.0013001275136374838, 0.0013324815791457799, 0.0015705347799295243, 0.0040682447214982825], 'model': ['sentence-transformers/all-MiniLM-L6-v2', 'sentence-transformers/all-MiniLM-L6-v2', 'sentence-transformers/all-MiniLM-L6-v2', 'sentence-transformers/all-MiniLM-L6-v2', 'sentence-transformers/all-MiniLM-L6-v2', 'sentence-transformers/all-MiniLM-L6-v2', 'sentence-transformers/all-MiniLM-L6-v2', 'sentence-transformers/all-MiniLM-L6-v2', 'sentence-transformers/all-MiniLM-L6-v2', 'sentence-transformers/all-MiniLM-L6-v2', 'sentence-transformers/all-MiniLM-L6-v2', 'sentence-transformers/all-MiniLM-L6-v2', 'sentence-transformers/all-MiniLM-L6-v2', 'sentence-transformers/all-MiniLM-L6-v2'], 'model_dim': [384, 384, 384, 384, 384, 384, 384, 384, 384, 384, 384, 384, 384, 384], 'ret_k': [5, 9, 6, 3, 9, 10, 4, 5, 9, 10, 1, 7, 3, 7], 'recall': [0.15498797328057845, 0.14379087898439163, 0.15498797328057845, 0.15498797328057845, 0.15498797328057845, 0.15498797328057845, 0.15271467127961147, 0.12517788232423716, 0.12517788232423716, 0.15498797328057845, 0.14559904740119534, 0.14559904740119534, 0.14559904740119534, 0.15498797328057845], 'ndcg': [0.20277849135854045, 0.1812695344787445, 0.20277849135854045, 0.20277849135854045, 0.20277849135854045, 0.20277849135854045, 0.19343153073544272, 0.1652566296274173, 0.1652566296274173, 0.20277849135854045, 0.1865794500850195, 0.1865794500850195, 0.1865794500850195, 0.20277849135854045], 'f1': [0.13071176354799932, 0.12449723642356514, 0.13071176354799932, 0.13071176354799932, 0.13071176354799932, 0.13071176354799932, 0.12962922804492433, 0.1124748098651683, 0.1124748098651683, 0.13071176354799932, 0.1278765751518243, 0.1278765751518243, 0.1278765751518243, 0.13071176354799932], 'precision': [0.24334365325077406, 0.23808049535603718, 0.24334365325077406, 0.24334365325077406, 0.24334365325077406, 0.24334365325077406, 0.24303405572755418, 0.22445820433436534, 0.22445820433436534, 0.24334365325077406, 0.24179566563467494, 0.24179566563467494, 0.24179566563467494, 0.24334365325077406], 'algorithm': ['hnsw', 'hnsw', 'hnsw', 'hnsw', 'hnsw', 'hnsw', 'hnsw', 'hnsw', 'hnsw', 'hnsw', 'hnsw', 'hnsw', 'hnsw', 'hnsw'], 'ef_construction': [250, 200, 300, 150, 200, 200, 200, 250, 200, 300, 100, 300, 300, 150], 'ef_runtime': [30, 20, 20, 10, 10, 30, 30, 10, 10, 10, 50, 20, 20, 30], 'm': [8, 64, 8, 64, 16, 64, 64, 8, 16, 64, 64, 8, 8, 8], 'distance_metric': ['cosine', 'cosine', 'cosine', 'cosine', 'cosine', 'cosine', 'cosine', 'cosine', 'cosine', 'cosine', 'cosine', 'cosine', 'cosine', 'cosine'], 'vector_data_type': ['float16', 'float16', 'float16', 'float16', 'float32', 'float32', 'float16', 'float32', 'float32', 'float32', 'float16', 'float16', 'float16', 'float16'], 'objective_value': [-0.9455885555010966, -1.0388269274283073, -0.9454385812897239, -0.9454717003013839, -1.0657128740938089, -1.0651824049438896, -0.9211616263746649, -1.3446885692290809, -1.3444021916447069, -1.1318161769791555, -1.0811498533286477, -1.0810853152130664, -1.0806105879459873, -1.0157009234210008]}\n"
     ]
    },
    {
     "name": "stderr",
     "output_type": "stream",
     "text": [
      "[I 2025-07-03 16:04:24,684] Trial 13 finished with value: -1.0157009234210008 and parameters: {'model_info': {'type': 'hf', 'model': 'sentence-transformers/all-MiniLM-L6-v2', 'dim': 384, 'embedding_cache_name': 'vec-cache', 'dtype': 'float32'}, 'search_method': 'hybrid', 'algorithm': 'hnsw', 'var_dtype': 'float16', 'distance_metric': 'cosine', 'ret_k': 7, 'ef_runtime': 30, 'ef_construction': 150, 'm': 8}. Best is trial 6 with value: -0.9211616263746649.\n"
     ]
    },
    {
     "name": "stdout",
     "output_type": "stream",
     "text": [
      "16:04:24 redisvl.index.index INFO   Index already exists, not overwriting.\n",
      "16:04:24 sentence_transformers.SentenceTransformer INFO   Use pytorch device_name: mps\n",
      "16:04:24 sentence_transformers.SentenceTransformer INFO   Load pretrained SentenceTransformer: sentence-transformers/all-MiniLM-L6-v2\n"
     ]
    },
    {
     "data": {
      "application/vnd.jupyter.widget-view+json": {
       "model_id": "55ff46abeff44936bfd4b92153f6e0e7",
       "version_major": 2,
       "version_minor": 0
      },
      "text/plain": [
       "Batches:   0%|          | 0/1 [00:00<?, ?it/s]"
      ]
     },
     "metadata": {},
     "output_type": "display_data"
    },
    {
     "name": "stdout",
     "output_type": "stream",
     "text": [
      "16:04:25 root INFO   Data indexed total_indexing_time=3.103s, num_docs=3633\n",
      "16:04:27 root INFO   Saving metrics for study: a796dacc-52e2-4fc7-be2c-3a7246d10901, METRICS={'search_method': ['hybrid', 'vector', 'hybrid', 'hybrid', 'hybrid', 'hybrid', 'vector', 'vector', 'vector', 'hybrid', 'vector', 'vector', 'vector', 'hybrid', 'hybrid'], 'total_indexing_time': [3.803, 3.803, 3.803, 3.803, 2.745, 2.745, 4.533, 2.328, 2.328, 2.328, 3.103, 3.103, 3.103, 3.103, 3.103], 'avg_query_time': [0.0035999603684841665, 0.001152925077975719, 0.0036754940316403983, 0.0036588128506214626, 0.0023498874699737263, 0.002616440917685305, 0.0013452875355817954, 0.0007695502171944539, 0.0009129800294574938, 0.0027583870725365984, 0.0013001275136374838, 0.0013324815791457799, 0.0015705347799295243, 0.0040682447214982825, 0.0036695534968892857], 'model': ['sentence-transformers/all-MiniLM-L6-v2', 'sentence-transformers/all-MiniLM-L6-v2', 'sentence-transformers/all-MiniLM-L6-v2', 'sentence-transformers/all-MiniLM-L6-v2', 'sentence-transformers/all-MiniLM-L6-v2', 'sentence-transformers/all-MiniLM-L6-v2', 'sentence-transformers/all-MiniLM-L6-v2', 'sentence-transformers/all-MiniLM-L6-v2', 'sentence-transformers/all-MiniLM-L6-v2', 'sentence-transformers/all-MiniLM-L6-v2', 'sentence-transformers/all-MiniLM-L6-v2', 'sentence-transformers/all-MiniLM-L6-v2', 'sentence-transformers/all-MiniLM-L6-v2', 'sentence-transformers/all-MiniLM-L6-v2', 'sentence-transformers/all-MiniLM-L6-v2'], 'model_dim': [384, 384, 384, 384, 384, 384, 384, 384, 384, 384, 384, 384, 384, 384, 384], 'ret_k': [5, 9, 6, 3, 9, 10, 4, 5, 9, 10, 1, 7, 3, 7, 3], 'recall': [0.15498797328057845, 0.14379087898439163, 0.15498797328057845, 0.15498797328057845, 0.15498797328057845, 0.15498797328057845, 0.15271467127961147, 0.12517788232423716, 0.12517788232423716, 0.15498797328057845, 0.14559904740119534, 0.14559904740119534, 0.14559904740119534, 0.15498797328057845, 0.15498797328057845], 'ndcg': [0.20277849135854045, 0.1812695344787445, 0.20277849135854045, 0.20277849135854045, 0.20277849135854045, 0.20277849135854045, 0.19343153073544272, 0.1652566296274173, 0.1652566296274173, 0.20277849135854045, 0.1865794500850195, 0.1865794500850195, 0.1865794500850195, 0.20277849135854045, 0.20277849135854045], 'f1': [0.13071176354799932, 0.12449723642356514, 0.13071176354799932, 0.13071176354799932, 0.13071176354799932, 0.13071176354799932, 0.12962922804492433, 0.1124748098651683, 0.1124748098651683, 0.13071176354799932, 0.1278765751518243, 0.1278765751518243, 0.1278765751518243, 0.13071176354799932, 0.13071176354799932], 'precision': [0.24334365325077406, 0.23808049535603718, 0.24334365325077406, 0.24334365325077406, 0.24334365325077406, 0.24334365325077406, 0.24303405572755418, 0.22445820433436534, 0.22445820433436534, 0.24334365325077406, 0.24179566563467494, 0.24179566563467494, 0.24179566563467494, 0.24334365325077406, 0.24334365325077406], 'algorithm': ['hnsw', 'hnsw', 'hnsw', 'hnsw', 'hnsw', 'hnsw', 'hnsw', 'hnsw', 'hnsw', 'hnsw', 'hnsw', 'hnsw', 'hnsw', 'hnsw', 'hnsw'], 'ef_construction': [250, 200, 300, 150, 200, 200, 200, 250, 200, 300, 100, 300, 300, 150, 100], 'ef_runtime': [30, 20, 20, 10, 10, 30, 30, 10, 10, 10, 50, 20, 20, 30, 50], 'm': [8, 64, 8, 64, 16, 64, 64, 8, 16, 64, 64, 8, 8, 8, 16], 'distance_metric': ['cosine', 'cosine', 'cosine', 'cosine', 'cosine', 'cosine', 'cosine', 'cosine', 'cosine', 'cosine', 'cosine', 'cosine', 'cosine', 'cosine', 'cosine'], 'vector_data_type': ['float16', 'float16', 'float16', 'float16', 'float32', 'float32', 'float16', 'float32', 'float32', 'float32', 'float16', 'float16', 'float16', 'float16', 'float16'], 'objective_value': [-0.9455885555010966, -1.0388269274283073, -0.9454385812897239, -0.9454717003013839, -1.0657128740938089, -1.0651824049438896, -0.9211616263746649, -1.3446885692290809, -1.3444021916447069, -1.1318161769791555, -1.0811498533286477, -1.0810853152130664, -1.0806105879459873, -1.0157009234210008, -1.0164921715396762]}\n"
     ]
    },
    {
     "name": "stderr",
     "output_type": "stream",
     "text": [
      "[I 2025-07-03 16:04:27,323] Trial 14 finished with value: -1.0164921715396762 and parameters: {'model_info': {'type': 'hf', 'model': 'sentence-transformers/all-MiniLM-L6-v2', 'dim': 384, 'embedding_cache_name': 'vec-cache', 'dtype': 'float32'}, 'search_method': 'hybrid', 'algorithm': 'hnsw', 'var_dtype': 'float16', 'distance_metric': 'cosine', 'ret_k': 3, 'ef_runtime': 50, 'ef_construction': 100, 'm': 16}. Best is trial 6 with value: -0.9211616263746649.\n"
     ]
    },
    {
     "name": "stdout",
     "output_type": "stream",
     "text": [
      "16:04:27 redisvl.index.index INFO   Index already exists, not overwriting.\n",
      "16:04:27 sentence_transformers.SentenceTransformer INFO   Use pytorch device_name: mps\n",
      "16:04:27 sentence_transformers.SentenceTransformer INFO   Load pretrained SentenceTransformer: sentence-transformers/all-MiniLM-L6-v2\n"
     ]
    },
    {
     "data": {
      "application/vnd.jupyter.widget-view+json": {
       "model_id": "3e0a1263e29746c2b5a90b812169f0b2",
       "version_major": 2,
       "version_minor": 0
      },
      "text/plain": [
       "Batches:   0%|          | 0/1 [00:00<?, ?it/s]"
      ]
     },
     "metadata": {},
     "output_type": "display_data"
    },
    {
     "name": "stdout",
     "output_type": "stream",
     "text": [
      "16:04:28 root INFO   Data indexed total_indexing_time=3.103s, num_docs=3633\n",
      "16:04:29 root INFO   Saving metrics for study: a796dacc-52e2-4fc7-be2c-3a7246d10901, METRICS={'search_method': ['hybrid', 'vector', 'hybrid', 'hybrid', 'hybrid', 'hybrid', 'vector', 'vector', 'vector', 'hybrid', 'vector', 'vector', 'vector', 'hybrid', 'hybrid', 'vector'], 'total_indexing_time': [3.803, 3.803, 3.803, 3.803, 2.745, 2.745, 4.533, 2.328, 2.328, 2.328, 3.103, 3.103, 3.103, 3.103, 3.103, 3.103], 'avg_query_time': [0.0035999603684841665, 0.001152925077975719, 0.0036754940316403983, 0.0036588128506214626, 0.0023498874699737263, 0.002616440917685305, 0.0013452875355817954, 0.0007695502171944539, 0.0009129800294574938, 0.0027583870725365984, 0.0013001275136374838, 0.0013324815791457799, 0.0015705347799295243, 0.0040682447214982825, 0.0036695534968892857, 0.0015897462980666028], 'model': ['sentence-transformers/all-MiniLM-L6-v2', 'sentence-transformers/all-MiniLM-L6-v2', 'sentence-transformers/all-MiniLM-L6-v2', 'sentence-transformers/all-MiniLM-L6-v2', 'sentence-transformers/all-MiniLM-L6-v2', 'sentence-transformers/all-MiniLM-L6-v2', 'sentence-transformers/all-MiniLM-L6-v2', 'sentence-transformers/all-MiniLM-L6-v2', 'sentence-transformers/all-MiniLM-L6-v2', 'sentence-transformers/all-MiniLM-L6-v2', 'sentence-transformers/all-MiniLM-L6-v2', 'sentence-transformers/all-MiniLM-L6-v2', 'sentence-transformers/all-MiniLM-L6-v2', 'sentence-transformers/all-MiniLM-L6-v2', 'sentence-transformers/all-MiniLM-L6-v2', 'sentence-transformers/all-MiniLM-L6-v2'], 'model_dim': [384, 384, 384, 384, 384, 384, 384, 384, 384, 384, 384, 384, 384, 384, 384, 384], 'ret_k': [5, 9, 6, 3, 9, 10, 4, 5, 9, 10, 1, 7, 3, 7, 3, 6], 'recall': [0.15498797328057845, 0.14379087898439163, 0.15498797328057845, 0.15498797328057845, 0.15498797328057845, 0.15498797328057845, 0.15271467127961147, 0.12517788232423716, 0.12517788232423716, 0.15498797328057845, 0.14559904740119534, 0.14559904740119534, 0.14559904740119534, 0.15498797328057845, 0.15498797328057845, 0.14559904740119534], 'ndcg': [0.20277849135854045, 0.1812695344787445, 0.20277849135854045, 0.20277849135854045, 0.20277849135854045, 0.20277849135854045, 0.19343153073544272, 0.1652566296274173, 0.1652566296274173, 0.20277849135854045, 0.1865794500850195, 0.1865794500850195, 0.1865794500850195, 0.20277849135854045, 0.20277849135854045, 0.1865794500850195], 'f1': [0.13071176354799932, 0.12449723642356514, 0.13071176354799932, 0.13071176354799932, 0.13071176354799932, 0.13071176354799932, 0.12962922804492433, 0.1124748098651683, 0.1124748098651683, 0.13071176354799932, 0.1278765751518243, 0.1278765751518243, 0.1278765751518243, 0.13071176354799932, 0.13071176354799932, 0.1278765751518243], 'precision': [0.24334365325077406, 0.23808049535603718, 0.24334365325077406, 0.24334365325077406, 0.24334365325077406, 0.24334365325077406, 0.24303405572755418, 0.22445820433436534, 0.22445820433436534, 0.24334365325077406, 0.24179566563467494, 0.24179566563467494, 0.24179566563467494, 0.24334365325077406, 0.24334365325077406, 0.24179566563467494], 'algorithm': ['hnsw', 'hnsw', 'hnsw', 'hnsw', 'hnsw', 'hnsw', 'hnsw', 'hnsw', 'hnsw', 'hnsw', 'hnsw', 'hnsw', 'hnsw', 'hnsw', 'hnsw', 'hnsw'], 'ef_construction': [250, 200, 300, 150, 200, 200, 200, 250, 200, 300, 100, 300, 300, 150, 100, 300], 'ef_runtime': [30, 20, 20, 10, 10, 30, 30, 10, 10, 10, 50, 20, 20, 30, 50, 20], 'm': [8, 64, 8, 64, 16, 64, 64, 8, 16, 64, 64, 8, 8, 8, 16, 64], 'distance_metric': ['cosine', 'cosine', 'cosine', 'cosine', 'cosine', 'cosine', 'cosine', 'cosine', 'cosine', 'cosine', 'cosine', 'cosine', 'cosine', 'cosine', 'cosine', 'cosine'], 'vector_data_type': ['float16', 'float16', 'float16', 'float16', 'float32', 'float32', 'float16', 'float32', 'float32', 'float32', 'float16', 'float16', 'float16', 'float16', 'float16', 'float16'], 'objective_value': [-0.9455885555010966, -1.0388269274283073, -0.9454385812897239, -0.9454717003013839, -1.0657128740938089, -1.0651824049438896, -0.9211616263746649, -1.3446885692290809, -1.3444021916447069, -1.1318161769791555, -1.0811498533286477, -1.0810853152130664, -1.0806105879459873, -1.0157009234210008, -1.0164921715396762, -1.0805722860501004]}\n"
     ]
    },
    {
     "name": "stderr",
     "output_type": "stream",
     "text": [
      "[I 2025-07-03 16:04:29,373] Trial 15 finished with value: -1.0805722860501004 and parameters: {'model_info': {'type': 'hf', 'model': 'sentence-transformers/all-MiniLM-L6-v2', 'dim': 384, 'embedding_cache_name': 'vec-cache', 'dtype': 'float32'}, 'search_method': 'vector', 'algorithm': 'hnsw', 'var_dtype': 'float16', 'distance_metric': 'cosine', 'ret_k': 6, 'ef_runtime': 20, 'ef_construction': 300, 'm': 64}. Best is trial 6 with value: -0.9211616263746649.\n"
     ]
    },
    {
     "name": "stdout",
     "output_type": "stream",
     "text": [
      "16:04:29 redisvl.index.index INFO   Index already exists, not overwriting.\n",
      "16:04:29 sentence_transformers.SentenceTransformer INFO   Use pytorch device_name: mps\n",
      "16:04:29 sentence_transformers.SentenceTransformer INFO   Load pretrained SentenceTransformer: sentence-transformers/all-MiniLM-L6-v2\n"
     ]
    },
    {
     "data": {
      "application/vnd.jupyter.widget-view+json": {
       "model_id": "84637a2aba514140af9ca7d6ce1bde6c",
       "version_major": 2,
       "version_minor": 0
      },
      "text/plain": [
       "Batches:   0%|          | 0/1 [00:00<?, ?it/s]"
      ]
     },
     "metadata": {},
     "output_type": "display_data"
    },
    {
     "name": "stdout",
     "output_type": "stream",
     "text": [
      "16:04:30 root INFO   Data indexed total_indexing_time=3.103s, num_docs=3633\n",
      "16:04:31 root INFO   Saving metrics for study: a796dacc-52e2-4fc7-be2c-3a7246d10901, METRICS={'search_method': ['hybrid', 'vector', 'hybrid', 'hybrid', 'hybrid', 'hybrid', 'vector', 'vector', 'vector', 'hybrid', 'vector', 'vector', 'vector', 'hybrid', 'hybrid', 'vector', 'vector'], 'total_indexing_time': [3.803, 3.803, 3.803, 3.803, 2.745, 2.745, 4.533, 2.328, 2.328, 2.328, 3.103, 3.103, 3.103, 3.103, 3.103, 3.103, 3.103], 'avg_query_time': [0.0035999603684841665, 0.001152925077975719, 0.0036754940316403983, 0.0036588128506214626, 0.0023498874699737263, 0.002616440917685305, 0.0013452875355817954, 0.0007695502171944539, 0.0009129800294574938, 0.0027583870725365984, 0.0013001275136374838, 0.0013324815791457799, 0.0015705347799295243, 0.0040682447214982825, 0.0036695534968892857, 0.0015897462980666028, 0.0013265897615037097], 'model': ['sentence-transformers/all-MiniLM-L6-v2', 'sentence-transformers/all-MiniLM-L6-v2', 'sentence-transformers/all-MiniLM-L6-v2', 'sentence-transformers/all-MiniLM-L6-v2', 'sentence-transformers/all-MiniLM-L6-v2', 'sentence-transformers/all-MiniLM-L6-v2', 'sentence-transformers/all-MiniLM-L6-v2', 'sentence-transformers/all-MiniLM-L6-v2', 'sentence-transformers/all-MiniLM-L6-v2', 'sentence-transformers/all-MiniLM-L6-v2', 'sentence-transformers/all-MiniLM-L6-v2', 'sentence-transformers/all-MiniLM-L6-v2', 'sentence-transformers/all-MiniLM-L6-v2', 'sentence-transformers/all-MiniLM-L6-v2', 'sentence-transformers/all-MiniLM-L6-v2', 'sentence-transformers/all-MiniLM-L6-v2', 'sentence-transformers/all-MiniLM-L6-v2'], 'model_dim': [384, 384, 384, 384, 384, 384, 384, 384, 384, 384, 384, 384, 384, 384, 384, 384, 384], 'ret_k': [5, 9, 6, 3, 9, 10, 4, 5, 9, 10, 1, 7, 3, 7, 3, 6, 4], 'recall': [0.15498797328057845, 0.14379087898439163, 0.15498797328057845, 0.15498797328057845, 0.15498797328057845, 0.15498797328057845, 0.15271467127961147, 0.12517788232423716, 0.12517788232423716, 0.15498797328057845, 0.14559904740119534, 0.14559904740119534, 0.14559904740119534, 0.15498797328057845, 0.15498797328057845, 0.14559904740119534, 0.14559904740119534], 'ndcg': [0.20277849135854045, 0.1812695344787445, 0.20277849135854045, 0.20277849135854045, 0.20277849135854045, 0.20277849135854045, 0.19343153073544272, 0.1652566296274173, 0.1652566296274173, 0.20277849135854045, 0.1865794500850195, 0.1865794500850195, 0.1865794500850195, 0.20277849135854045, 0.20277849135854045, 0.1865794500850195, 0.1865794500850195], 'f1': [0.13071176354799932, 0.12449723642356514, 0.13071176354799932, 0.13071176354799932, 0.13071176354799932, 0.13071176354799932, 0.12962922804492433, 0.1124748098651683, 0.1124748098651683, 0.13071176354799932, 0.1278765751518243, 0.1278765751518243, 0.1278765751518243, 0.13071176354799932, 0.13071176354799932, 0.1278765751518243, 0.1278765751518243], 'precision': [0.24334365325077406, 0.23808049535603718, 0.24334365325077406, 0.24334365325077406, 0.24334365325077406, 0.24334365325077406, 0.24303405572755418, 0.22445820433436534, 0.22445820433436534, 0.24334365325077406, 0.24179566563467494, 0.24179566563467494, 0.24179566563467494, 0.24334365325077406, 0.24334365325077406, 0.24179566563467494, 0.24179566563467494], 'algorithm': ['hnsw', 'hnsw', 'hnsw', 'hnsw', 'hnsw', 'hnsw', 'hnsw', 'hnsw', 'hnsw', 'hnsw', 'hnsw', 'hnsw', 'hnsw', 'hnsw', 'hnsw', 'hnsw', 'hnsw'], 'ef_construction': [250, 200, 300, 150, 200, 200, 200, 250, 200, 300, 100, 300, 300, 150, 100, 300, 200], 'ef_runtime': [30, 20, 20, 10, 10, 30, 30, 10, 10, 10, 50, 20, 20, 30, 50, 20, 30], 'm': [8, 64, 8, 64, 16, 64, 64, 8, 16, 64, 64, 8, 8, 8, 16, 64, 8], 'distance_metric': ['cosine', 'cosine', 'cosine', 'cosine', 'cosine', 'cosine', 'cosine', 'cosine', 'cosine', 'cosine', 'cosine', 'cosine', 'cosine', 'cosine', 'cosine', 'cosine', 'cosine'], 'vector_data_type': ['float16', 'float16', 'float16', 'float16', 'float32', 'float32', 'float16', 'float32', 'float32', 'float32', 'float16', 'float16', 'float16', 'float16', 'float16', 'float16', 'float16'], 'objective_value': [-0.9455885555010966, -1.0388269274283073, -0.9454385812897239, -0.9454717003013839, -1.0657128740938089, -1.0651824049438896, -0.9211616263746649, -1.3446885692290809, -1.3444021916447069, -1.1318161769791555, -1.0811498533286477, -1.0810853152130664, -1.0806105879459873, -1.0157009234210008, -1.0164921715396762, -1.0805722860501004, -1.0810970675772016]}\n"
     ]
    },
    {
     "name": "stderr",
     "output_type": "stream",
     "text": [
      "[I 2025-07-03 16:04:31,141] Trial 16 finished with value: -1.0810970675772016 and parameters: {'model_info': {'type': 'hf', 'model': 'sentence-transformers/all-MiniLM-L6-v2', 'dim': 384, 'embedding_cache_name': 'vec-cache', 'dtype': 'float32'}, 'search_method': 'vector', 'algorithm': 'hnsw', 'var_dtype': 'float16', 'distance_metric': 'cosine', 'ret_k': 4, 'ef_runtime': 30, 'ef_construction': 200, 'm': 8}. Best is trial 6 with value: -0.9211616263746649.\n"
     ]
    },
    {
     "name": "stdout",
     "output_type": "stream",
     "text": [
      "16:04:31 redisvl.index.index INFO   Index already exists, not overwriting.\n",
      "16:04:31 sentence_transformers.SentenceTransformer INFO   Use pytorch device_name: mps\n",
      "16:04:31 sentence_transformers.SentenceTransformer INFO   Load pretrained SentenceTransformer: sentence-transformers/all-MiniLM-L6-v2\n"
     ]
    },
    {
     "data": {
      "application/vnd.jupyter.widget-view+json": {
       "model_id": "002a33a7c02f4e24abef7b3d893f72e5",
       "version_major": 2,
       "version_minor": 0
      },
      "text/plain": [
       "Batches:   0%|          | 0/1 [00:00<?, ?it/s]"
      ]
     },
     "metadata": {},
     "output_type": "display_data"
    },
    {
     "name": "stdout",
     "output_type": "stream",
     "text": [
      "16:04:32 root INFO   Data indexed total_indexing_time=3.103s, num_docs=3633\n",
      "16:04:33 root INFO   Saving metrics for study: a796dacc-52e2-4fc7-be2c-3a7246d10901, METRICS={'search_method': ['hybrid', 'vector', 'hybrid', 'hybrid', 'hybrid', 'hybrid', 'vector', 'vector', 'vector', 'hybrid', 'vector', 'vector', 'vector', 'hybrid', 'hybrid', 'vector', 'vector', 'hybrid'], 'total_indexing_time': [3.803, 3.803, 3.803, 3.803, 2.745, 2.745, 4.533, 2.328, 2.328, 2.328, 3.103, 3.103, 3.103, 3.103, 3.103, 3.103, 3.103, 3.103], 'avg_query_time': [0.0035999603684841665, 0.001152925077975719, 0.0036754940316403983, 0.0036588128506214626, 0.0023498874699737263, 0.002616440917685305, 0.0013452875355817954, 0.0007695502171944539, 0.0009129800294574938, 0.0027583870725365984, 0.0013001275136374838, 0.0013324815791457799, 0.0015705347799295243, 0.0040682447214982825, 0.0036695534968892857, 0.0015897462980666028, 0.0013265897615037097, 0.0036797398015072473], 'model': ['sentence-transformers/all-MiniLM-L6-v2', 'sentence-transformers/all-MiniLM-L6-v2', 'sentence-transformers/all-MiniLM-L6-v2', 'sentence-transformers/all-MiniLM-L6-v2', 'sentence-transformers/all-MiniLM-L6-v2', 'sentence-transformers/all-MiniLM-L6-v2', 'sentence-transformers/all-MiniLM-L6-v2', 'sentence-transformers/all-MiniLM-L6-v2', 'sentence-transformers/all-MiniLM-L6-v2', 'sentence-transformers/all-MiniLM-L6-v2', 'sentence-transformers/all-MiniLM-L6-v2', 'sentence-transformers/all-MiniLM-L6-v2', 'sentence-transformers/all-MiniLM-L6-v2', 'sentence-transformers/all-MiniLM-L6-v2', 'sentence-transformers/all-MiniLM-L6-v2', 'sentence-transformers/all-MiniLM-L6-v2', 'sentence-transformers/all-MiniLM-L6-v2', 'sentence-transformers/all-MiniLM-L6-v2'], 'model_dim': [384, 384, 384, 384, 384, 384, 384, 384, 384, 384, 384, 384, 384, 384, 384, 384, 384, 384], 'ret_k': [5, 9, 6, 3, 9, 10, 4, 5, 9, 10, 1, 7, 3, 7, 3, 6, 4, 1], 'recall': [0.15498797328057845, 0.14379087898439163, 0.15498797328057845, 0.15498797328057845, 0.15498797328057845, 0.15498797328057845, 0.15271467127961147, 0.12517788232423716, 0.12517788232423716, 0.15498797328057845, 0.14559904740119534, 0.14559904740119534, 0.14559904740119534, 0.15498797328057845, 0.15498797328057845, 0.14559904740119534, 0.14559904740119534, 0.15498797328057845], 'ndcg': [0.20277849135854045, 0.1812695344787445, 0.20277849135854045, 0.20277849135854045, 0.20277849135854045, 0.20277849135854045, 0.19343153073544272, 0.1652566296274173, 0.1652566296274173, 0.20277849135854045, 0.1865794500850195, 0.1865794500850195, 0.1865794500850195, 0.20277849135854045, 0.20277849135854045, 0.1865794500850195, 0.1865794500850195, 0.20277849135854045], 'f1': [0.13071176354799932, 0.12449723642356514, 0.13071176354799932, 0.13071176354799932, 0.13071176354799932, 0.13071176354799932, 0.12962922804492433, 0.1124748098651683, 0.1124748098651683, 0.13071176354799932, 0.1278765751518243, 0.1278765751518243, 0.1278765751518243, 0.13071176354799932, 0.13071176354799932, 0.1278765751518243, 0.1278765751518243, 0.13071176354799932], 'precision': [0.24334365325077406, 0.23808049535603718, 0.24334365325077406, 0.24334365325077406, 0.24334365325077406, 0.24334365325077406, 0.24303405572755418, 0.22445820433436534, 0.22445820433436534, 0.24334365325077406, 0.24179566563467494, 0.24179566563467494, 0.24179566563467494, 0.24334365325077406, 0.24334365325077406, 0.24179566563467494, 0.24179566563467494, 0.24334365325077406], 'algorithm': ['hnsw', 'hnsw', 'hnsw', 'hnsw', 'hnsw', 'hnsw', 'hnsw', 'hnsw', 'hnsw', 'hnsw', 'hnsw', 'hnsw', 'hnsw', 'hnsw', 'hnsw', 'hnsw', 'hnsw', 'hnsw'], 'ef_construction': [250, 200, 300, 150, 200, 200, 200, 250, 200, 300, 100, 300, 300, 150, 100, 300, 200, 300], 'ef_runtime': [30, 20, 20, 10, 10, 30, 30, 10, 10, 10, 50, 20, 20, 30, 50, 20, 30, 30], 'm': [8, 64, 8, 64, 16, 64, 64, 8, 16, 64, 64, 8, 8, 8, 16, 64, 8, 64], 'distance_metric': ['cosine', 'cosine', 'cosine', 'cosine', 'cosine', 'cosine', 'cosine', 'cosine', 'cosine', 'cosine', 'cosine', 'cosine', 'cosine', 'cosine', 'cosine', 'cosine', 'cosine', 'cosine'], 'vector_data_type': ['float16', 'float16', 'float16', 'float16', 'float32', 'float32', 'float16', 'float32', 'float32', 'float32', 'float16', 'float16', 'float16', 'float16', 'float16', 'float16', 'float16', 'float16'], 'objective_value': [-0.9455885555010966, -1.0388269274283073, -0.9454385812897239, -0.9454717003013839, -1.0657128740938089, -1.0651824049438896, -0.9211616263746649, -1.3446885692290809, -1.3444021916447069, -1.1318161769791555, -1.0811498533286477, -1.0810853152130664, -1.0806105879459873, -1.0157009234210008, -1.0164921715396762, -1.0805722860501004, -1.0810970675772016, -1.0164719478334698]}\n"
     ]
    },
    {
     "name": "stderr",
     "output_type": "stream",
     "text": [
      "[I 2025-07-03 16:04:33,761] Trial 17 finished with value: -1.0164719478334698 and parameters: {'model_info': {'type': 'hf', 'model': 'sentence-transformers/all-MiniLM-L6-v2', 'dim': 384, 'embedding_cache_name': 'vec-cache', 'dtype': 'float32'}, 'search_method': 'hybrid', 'algorithm': 'hnsw', 'var_dtype': 'float16', 'distance_metric': 'cosine', 'ret_k': 1, 'ef_runtime': 30, 'ef_construction': 300, 'm': 64}. Best is trial 6 with value: -0.9211616263746649.\n"
     ]
    },
    {
     "name": "stdout",
     "output_type": "stream",
     "text": [
      "16:04:33 redisvl.index.index INFO   Index already exists, not overwriting.\n",
      "16:04:33 sentence_transformers.SentenceTransformer INFO   Use pytorch device_name: mps\n",
      "16:04:33 sentence_transformers.SentenceTransformer INFO   Load pretrained SentenceTransformer: sentence-transformers/all-MiniLM-L6-v2\n"
     ]
    },
    {
     "data": {
      "application/vnd.jupyter.widget-view+json": {
       "model_id": "96432b38fcdc461490b3de8fcd92dc53",
       "version_major": 2,
       "version_minor": 0
      },
      "text/plain": [
       "Batches:   0%|          | 0/1 [00:00<?, ?it/s]"
      ]
     },
     "metadata": {},
     "output_type": "display_data"
    },
    {
     "name": "stdout",
     "output_type": "stream",
     "text": [
      "16:04:34 root INFO   Data indexed total_indexing_time=3.103s, num_docs=3633\n",
      "16:04:35 root INFO   Saving metrics for study: a796dacc-52e2-4fc7-be2c-3a7246d10901, METRICS={'search_method': ['hybrid', 'vector', 'hybrid', 'hybrid', 'hybrid', 'hybrid', 'vector', 'vector', 'vector', 'hybrid', 'vector', 'vector', 'vector', 'hybrid', 'hybrid', 'vector', 'vector', 'hybrid', 'vector'], 'total_indexing_time': [3.803, 3.803, 3.803, 3.803, 2.745, 2.745, 4.533, 2.328, 2.328, 2.328, 3.103, 3.103, 3.103, 3.103, 3.103, 3.103, 3.103, 3.103, 3.103], 'avg_query_time': [0.0035999603684841665, 0.001152925077975719, 0.0036754940316403983, 0.0036588128506214626, 0.0023498874699737263, 0.002616440917685305, 0.0013452875355817954, 0.0007695502171944539, 0.0009129800294574938, 0.0027583870725365984, 0.0013001275136374838, 0.0013324815791457799, 0.0015705347799295243, 0.0040682447214982825, 0.0036695534968892857, 0.0015897462980666028, 0.0013265897615037097, 0.0036797398015072473, 0.0013631526899780652], 'model': ['sentence-transformers/all-MiniLM-L6-v2', 'sentence-transformers/all-MiniLM-L6-v2', 'sentence-transformers/all-MiniLM-L6-v2', 'sentence-transformers/all-MiniLM-L6-v2', 'sentence-transformers/all-MiniLM-L6-v2', 'sentence-transformers/all-MiniLM-L6-v2', 'sentence-transformers/all-MiniLM-L6-v2', 'sentence-transformers/all-MiniLM-L6-v2', 'sentence-transformers/all-MiniLM-L6-v2', 'sentence-transformers/all-MiniLM-L6-v2', 'sentence-transformers/all-MiniLM-L6-v2', 'sentence-transformers/all-MiniLM-L6-v2', 'sentence-transformers/all-MiniLM-L6-v2', 'sentence-transformers/all-MiniLM-L6-v2', 'sentence-transformers/all-MiniLM-L6-v2', 'sentence-transformers/all-MiniLM-L6-v2', 'sentence-transformers/all-MiniLM-L6-v2', 'sentence-transformers/all-MiniLM-L6-v2', 'sentence-transformers/all-MiniLM-L6-v2'], 'model_dim': [384, 384, 384, 384, 384, 384, 384, 384, 384, 384, 384, 384, 384, 384, 384, 384, 384, 384, 384], 'ret_k': [5, 9, 6, 3, 9, 10, 4, 5, 9, 10, 1, 7, 3, 7, 3, 6, 4, 1, 7], 'recall': [0.15498797328057845, 0.14379087898439163, 0.15498797328057845, 0.15498797328057845, 0.15498797328057845, 0.15498797328057845, 0.15271467127961147, 0.12517788232423716, 0.12517788232423716, 0.15498797328057845, 0.14559904740119534, 0.14559904740119534, 0.14559904740119534, 0.15498797328057845, 0.15498797328057845, 0.14559904740119534, 0.14559904740119534, 0.15498797328057845, 0.14559904740119534], 'ndcg': [0.20277849135854045, 0.1812695344787445, 0.20277849135854045, 0.20277849135854045, 0.20277849135854045, 0.20277849135854045, 0.19343153073544272, 0.1652566296274173, 0.1652566296274173, 0.20277849135854045, 0.1865794500850195, 0.1865794500850195, 0.1865794500850195, 0.20277849135854045, 0.20277849135854045, 0.1865794500850195, 0.1865794500850195, 0.20277849135854045, 0.1865794500850195], 'f1': [0.13071176354799932, 0.12449723642356514, 0.13071176354799932, 0.13071176354799932, 0.13071176354799932, 0.13071176354799932, 0.12962922804492433, 0.1124748098651683, 0.1124748098651683, 0.13071176354799932, 0.1278765751518243, 0.1278765751518243, 0.1278765751518243, 0.13071176354799932, 0.13071176354799932, 0.1278765751518243, 0.1278765751518243, 0.13071176354799932, 0.1278765751518243], 'precision': [0.24334365325077406, 0.23808049535603718, 0.24334365325077406, 0.24334365325077406, 0.24334365325077406, 0.24334365325077406, 0.24303405572755418, 0.22445820433436534, 0.22445820433436534, 0.24334365325077406, 0.24179566563467494, 0.24179566563467494, 0.24179566563467494, 0.24334365325077406, 0.24334365325077406, 0.24179566563467494, 0.24179566563467494, 0.24334365325077406, 0.24179566563467494], 'algorithm': ['hnsw', 'hnsw', 'hnsw', 'hnsw', 'hnsw', 'hnsw', 'hnsw', 'hnsw', 'hnsw', 'hnsw', 'hnsw', 'hnsw', 'hnsw', 'hnsw', 'hnsw', 'hnsw', 'hnsw', 'hnsw', 'hnsw'], 'ef_construction': [250, 200, 300, 150, 200, 200, 200, 250, 200, 300, 100, 300, 300, 150, 100, 300, 200, 300, 100], 'ef_runtime': [30, 20, 20, 10, 10, 30, 30, 10, 10, 10, 50, 20, 20, 30, 50, 20, 30, 30, 20], 'm': [8, 64, 8, 64, 16, 64, 64, 8, 16, 64, 64, 8, 8, 8, 16, 64, 8, 64, 8], 'distance_metric': ['cosine', 'cosine', 'cosine', 'cosine', 'cosine', 'cosine', 'cosine', 'cosine', 'cosine', 'cosine', 'cosine', 'cosine', 'cosine', 'cosine', 'cosine', 'cosine', 'cosine', 'cosine', 'cosine'], 'vector_data_type': ['float16', 'float16', 'float16', 'float16', 'float32', 'float32', 'float16', 'float32', 'float32', 'float32', 'float16', 'float16', 'float16', 'float16', 'float16', 'float16', 'float16', 'float16', 'float16'], 'objective_value': [-0.9455885555010966, -1.0388269274283073, -0.9454385812897239, -0.9454717003013839, -1.0657128740938089, -1.0651824049438896, -0.9211616263746649, -1.3446885692290809, -1.3444021916447069, -1.1318161769791555, -1.0811498533286477, -1.0810853152130664, -1.0806105879459873, -1.0157009234210008, -1.0164921715396762, -1.0805722860501004, -1.0810970675772016, -1.0164719478334698, -1.0810241380138774]}\n"
     ]
    },
    {
     "name": "stderr",
     "output_type": "stream",
     "text": [
      "[I 2025-07-03 16:04:35,561] Trial 18 finished with value: -1.0810241380138774 and parameters: {'model_info': {'type': 'hf', 'model': 'sentence-transformers/all-MiniLM-L6-v2', 'dim': 384, 'embedding_cache_name': 'vec-cache', 'dtype': 'float32'}, 'search_method': 'vector', 'algorithm': 'hnsw', 'var_dtype': 'float16', 'distance_metric': 'cosine', 'ret_k': 7, 'ef_runtime': 20, 'ef_construction': 100, 'm': 8}. Best is trial 6 with value: -0.9211616263746649.\n"
     ]
    },
    {
     "name": "stdout",
     "output_type": "stream",
     "text": [
      "16:04:35 redisvl.index.index INFO   Index already exists, not overwriting.\n",
      "16:04:35 sentence_transformers.SentenceTransformer INFO   Use pytorch device_name: mps\n",
      "16:04:35 sentence_transformers.SentenceTransformer INFO   Load pretrained SentenceTransformer: sentence-transformers/all-MiniLM-L6-v2\n"
     ]
    },
    {
     "data": {
      "application/vnd.jupyter.widget-view+json": {
       "model_id": "ba4aca2a3ac44a81a8c44d680ba14bcc",
       "version_major": 2,
       "version_minor": 0
      },
      "text/plain": [
       "Batches:   0%|          | 0/1 [00:00<?, ?it/s]"
      ]
     },
     "metadata": {},
     "output_type": "display_data"
    },
    {
     "name": "stdout",
     "output_type": "stream",
     "text": [
      "16:04:36 root INFO   Data indexed total_indexing_time=3.103s, num_docs=3633\n",
      "16:04:38 root INFO   Saving metrics for study: a796dacc-52e2-4fc7-be2c-3a7246d10901, METRICS={'search_method': ['hybrid', 'vector', 'hybrid', 'hybrid', 'hybrid', 'hybrid', 'vector', 'vector', 'vector', 'hybrid', 'vector', 'vector', 'vector', 'hybrid', 'hybrid', 'vector', 'vector', 'hybrid', 'vector', 'hybrid'], 'total_indexing_time': [3.803, 3.803, 3.803, 3.803, 2.745, 2.745, 4.533, 2.328, 2.328, 2.328, 3.103, 3.103, 3.103, 3.103, 3.103, 3.103, 3.103, 3.103, 3.103, 3.103], 'avg_query_time': [0.0035999603684841665, 0.001152925077975719, 0.0036754940316403983, 0.0036588128506214626, 0.0023498874699737263, 0.002616440917685305, 0.0013452875355817954, 0.0007695502171944539, 0.0009129800294574938, 0.0027583870725365984, 0.0013001275136374838, 0.0013324815791457799, 0.0015705347799295243, 0.0040682447214982825, 0.0036695534968892857, 0.0015897462980666028, 0.0013265897615037097, 0.0036797398015072473, 0.0013631526899780652, 0.0036073897276131363], 'model': ['sentence-transformers/all-MiniLM-L6-v2', 'sentence-transformers/all-MiniLM-L6-v2', 'sentence-transformers/all-MiniLM-L6-v2', 'sentence-transformers/all-MiniLM-L6-v2', 'sentence-transformers/all-MiniLM-L6-v2', 'sentence-transformers/all-MiniLM-L6-v2', 'sentence-transformers/all-MiniLM-L6-v2', 'sentence-transformers/all-MiniLM-L6-v2', 'sentence-transformers/all-MiniLM-L6-v2', 'sentence-transformers/all-MiniLM-L6-v2', 'sentence-transformers/all-MiniLM-L6-v2', 'sentence-transformers/all-MiniLM-L6-v2', 'sentence-transformers/all-MiniLM-L6-v2', 'sentence-transformers/all-MiniLM-L6-v2', 'sentence-transformers/all-MiniLM-L6-v2', 'sentence-transformers/all-MiniLM-L6-v2', 'sentence-transformers/all-MiniLM-L6-v2', 'sentence-transformers/all-MiniLM-L6-v2', 'sentence-transformers/all-MiniLM-L6-v2', 'sentence-transformers/all-MiniLM-L6-v2'], 'model_dim': [384, 384, 384, 384, 384, 384, 384, 384, 384, 384, 384, 384, 384, 384, 384, 384, 384, 384, 384, 384], 'ret_k': [5, 9, 6, 3, 9, 10, 4, 5, 9, 10, 1, 7, 3, 7, 3, 6, 4, 1, 7, 6], 'recall': [0.15498797328057845, 0.14379087898439163, 0.15498797328057845, 0.15498797328057845, 0.15498797328057845, 0.15498797328057845, 0.15271467127961147, 0.12517788232423716, 0.12517788232423716, 0.15498797328057845, 0.14559904740119534, 0.14559904740119534, 0.14559904740119534, 0.15498797328057845, 0.15498797328057845, 0.14559904740119534, 0.14559904740119534, 0.15498797328057845, 0.14559904740119534, 0.15498797328057845], 'ndcg': [0.20277849135854045, 0.1812695344787445, 0.20277849135854045, 0.20277849135854045, 0.20277849135854045, 0.20277849135854045, 0.19343153073544272, 0.1652566296274173, 0.1652566296274173, 0.20277849135854045, 0.1865794500850195, 0.1865794500850195, 0.1865794500850195, 0.20277849135854045, 0.20277849135854045, 0.1865794500850195, 0.1865794500850195, 0.20277849135854045, 0.1865794500850195, 0.20277849135854045], 'f1': [0.13071176354799932, 0.12449723642356514, 0.13071176354799932, 0.13071176354799932, 0.13071176354799932, 0.13071176354799932, 0.12962922804492433, 0.1124748098651683, 0.1124748098651683, 0.13071176354799932, 0.1278765751518243, 0.1278765751518243, 0.1278765751518243, 0.13071176354799932, 0.13071176354799932, 0.1278765751518243, 0.1278765751518243, 0.13071176354799932, 0.1278765751518243, 0.13071176354799932], 'precision': [0.24334365325077406, 0.23808049535603718, 0.24334365325077406, 0.24334365325077406, 0.24334365325077406, 0.24334365325077406, 0.24303405572755418, 0.22445820433436534, 0.22445820433436534, 0.24334365325077406, 0.24179566563467494, 0.24179566563467494, 0.24179566563467494, 0.24334365325077406, 0.24334365325077406, 0.24179566563467494, 0.24179566563467494, 0.24334365325077406, 0.24179566563467494, 0.24334365325077406], 'algorithm': ['hnsw', 'hnsw', 'hnsw', 'hnsw', 'hnsw', 'hnsw', 'hnsw', 'hnsw', 'hnsw', 'hnsw', 'hnsw', 'hnsw', 'hnsw', 'hnsw', 'hnsw', 'hnsw', 'hnsw', 'hnsw', 'hnsw', 'hnsw'], 'ef_construction': [250, 200, 300, 150, 200, 200, 200, 250, 200, 300, 100, 300, 300, 150, 100, 300, 200, 300, 100, 250], 'ef_runtime': [30, 20, 20, 10, 10, 30, 30, 10, 10, 10, 50, 20, 20, 30, 50, 20, 30, 30, 20, 50], 'm': [8, 64, 8, 64, 16, 64, 64, 8, 16, 64, 64, 8, 8, 8, 16, 64, 8, 64, 8, 16], 'distance_metric': ['cosine', 'cosine', 'cosine', 'cosine', 'cosine', 'cosine', 'cosine', 'cosine', 'cosine', 'cosine', 'cosine', 'cosine', 'cosine', 'cosine', 'cosine', 'cosine', 'cosine', 'cosine', 'cosine', 'cosine'], 'vector_data_type': ['float16', 'float16', 'float16', 'float16', 'float32', 'float32', 'float16', 'float32', 'float32', 'float32', 'float16', 'float16', 'float16', 'float16', 'float16', 'float16', 'float16', 'float16', 'float16', 'float16'], 'objective_value': [-0.9455885555010966, -1.0388269274283073, -0.9454385812897239, -0.9454717003013839, -1.0657128740938089, -1.0651824049438896, -0.9211616263746649, -1.3446885692290809, -1.3444021916447069, -1.1318161769791555, -1.0811498533286477, -1.0810853152130664, -1.0806105879459873, -1.0157009234210008, -1.0164921715396762, -1.0805722860501004, -1.0810970675772016, -1.0164719478334698, -1.0810241380138774, -1.016615599267783]}\n"
     ]
    },
    {
     "name": "stderr",
     "output_type": "stream",
     "text": [
      "[I 2025-07-03 16:04:38,204] Trial 19 finished with value: -1.016615599267783 and parameters: {'model_info': {'type': 'hf', 'model': 'sentence-transformers/all-MiniLM-L6-v2', 'dim': 384, 'embedding_cache_name': 'vec-cache', 'dtype': 'float32'}, 'search_method': 'hybrid', 'algorithm': 'hnsw', 'var_dtype': 'float16', 'distance_metric': 'cosine', 'ret_k': 6, 'ef_runtime': 50, 'ef_construction': 250, 'm': 16}. Best is trial 6 with value: -0.9211616263746649.\n"
     ]
    },
    {
     "name": "stdout",
     "output_type": "stream",
     "text": [
      "16:04:38 root INFO   Completed Bayesian optimization... \n",
      "\n",
      "\n",
      "16:04:38 root INFO   Best Configuration: 6: {'model_info': {'type': 'hf', 'model': 'sentence-transformers/all-MiniLM-L6-v2', 'dim': 384, 'embedding_cache_name': 'vec-cache', 'dtype': 'float32'}, 'search_method': 'vector', 'algorithm': 'hnsw', 'var_dtype': 'float16', 'distance_metric': 'cosine', 'ret_k': 4, 'ef_runtime': 30, 'ef_construction': 200, 'm': 64}:\n",
      "\n",
      "\n",
      "16:04:38 root INFO   Best Score: [-0.9211616263746649]\n",
      "\n",
      "\n"
     ]
    }
   ],
   "source": [
    "import os\n",
    "from redis_retrieval_optimizer.bayes_study import run_bayes_study\n",
    "from redis_retrieval_optimizer.corpus_processors import eval_beir\n",
    "from dotenv import load_dotenv\n",
    "\n",
    "# load environment variables containing necessary credentials\n",
    "load_dotenv()\n",
    "\n",
    "redis_url = os.environ.get(\"REDIS_URL\", \"redis://localhost:6379/0\")\n",
    "\n",
    "metrics = run_bayes_study(\n",
    "    config_path=\"bayes_study_config.yaml\",\n",
    "    redis_url=redis_url,\n",
    "    corpus_processor=eval_beir.process_corpus\n",
    ")"
   ]
  },
  {
   "cell_type": "code",
   "execution_count": 2,
   "id": "2c140e85",
   "metadata": {},
   "outputs": [
    {
     "data": {
      "text/html": [
       "<div>\n",
       "<style scoped>\n",
       "    .dataframe tbody tr th:only-of-type {\n",
       "        vertical-align: middle;\n",
       "    }\n",
       "\n",
       "    .dataframe tbody tr th {\n",
       "        vertical-align: top;\n",
       "    }\n",
       "\n",
       "    .dataframe thead th {\n",
       "        text-align: right;\n",
       "    }\n",
       "</style>\n",
       "<table border=\"1\" class=\"dataframe\">\n",
       "  <thead>\n",
       "    <tr style=\"text-align: right;\">\n",
       "      <th></th>\n",
       "      <th>search_method</th>\n",
       "      <th>algorithm</th>\n",
       "      <th>vector_data_type</th>\n",
       "      <th>ef_construction</th>\n",
       "      <th>ef_runtime</th>\n",
       "      <th>m</th>\n",
       "      <th>avg_query_time</th>\n",
       "      <th>total_indexing_time</th>\n",
       "      <th>recall</th>\n",
       "      <th>precision</th>\n",
       "      <th>ndcg</th>\n",
       "      <th>f1</th>\n",
       "      <th>objective_value</th>\n",
       "    </tr>\n",
       "  </thead>\n",
       "  <tbody>\n",
       "    <tr>\n",
       "      <th>6</th>\n",
       "      <td>vector</td>\n",
       "      <td>hnsw</td>\n",
       "      <td>float16</td>\n",
       "      <td>200</td>\n",
       "      <td>30</td>\n",
       "      <td>64</td>\n",
       "      <td>0.001345</td>\n",
       "      <td>4.533</td>\n",
       "      <td>0.152715</td>\n",
       "      <td>0.243034</td>\n",
       "      <td>0.193432</td>\n",
       "      <td>0.129629</td>\n",
       "      <td>-0.921162</td>\n",
       "    </tr>\n",
       "    <tr>\n",
       "      <th>2</th>\n",
       "      <td>hybrid</td>\n",
       "      <td>hnsw</td>\n",
       "      <td>float16</td>\n",
       "      <td>300</td>\n",
       "      <td>20</td>\n",
       "      <td>8</td>\n",
       "      <td>0.003675</td>\n",
       "      <td>3.803</td>\n",
       "      <td>0.154988</td>\n",
       "      <td>0.243344</td>\n",
       "      <td>0.202778</td>\n",
       "      <td>0.130712</td>\n",
       "      <td>-0.945439</td>\n",
       "    </tr>\n",
       "    <tr>\n",
       "      <th>3</th>\n",
       "      <td>hybrid</td>\n",
       "      <td>hnsw</td>\n",
       "      <td>float16</td>\n",
       "      <td>150</td>\n",
       "      <td>10</td>\n",
       "      <td>64</td>\n",
       "      <td>0.003659</td>\n",
       "      <td>3.803</td>\n",
       "      <td>0.154988</td>\n",
       "      <td>0.243344</td>\n",
       "      <td>0.202778</td>\n",
       "      <td>0.130712</td>\n",
       "      <td>-0.945472</td>\n",
       "    </tr>\n",
       "    <tr>\n",
       "      <th>0</th>\n",
       "      <td>hybrid</td>\n",
       "      <td>hnsw</td>\n",
       "      <td>float16</td>\n",
       "      <td>250</td>\n",
       "      <td>30</td>\n",
       "      <td>8</td>\n",
       "      <td>0.003600</td>\n",
       "      <td>3.803</td>\n",
       "      <td>0.154988</td>\n",
       "      <td>0.243344</td>\n",
       "      <td>0.202778</td>\n",
       "      <td>0.130712</td>\n",
       "      <td>-0.945589</td>\n",
       "    </tr>\n",
       "    <tr>\n",
       "      <th>13</th>\n",
       "      <td>hybrid</td>\n",
       "      <td>hnsw</td>\n",
       "      <td>float16</td>\n",
       "      <td>150</td>\n",
       "      <td>30</td>\n",
       "      <td>8</td>\n",
       "      <td>0.004068</td>\n",
       "      <td>3.103</td>\n",
       "      <td>0.154988</td>\n",
       "      <td>0.243344</td>\n",
       "      <td>0.202778</td>\n",
       "      <td>0.130712</td>\n",
       "      <td>-1.015701</td>\n",
       "    </tr>\n",
       "    <tr>\n",
       "      <th>17</th>\n",
       "      <td>hybrid</td>\n",
       "      <td>hnsw</td>\n",
       "      <td>float16</td>\n",
       "      <td>300</td>\n",
       "      <td>30</td>\n",
       "      <td>64</td>\n",
       "      <td>0.003680</td>\n",
       "      <td>3.103</td>\n",
       "      <td>0.154988</td>\n",
       "      <td>0.243344</td>\n",
       "      <td>0.202778</td>\n",
       "      <td>0.130712</td>\n",
       "      <td>-1.016472</td>\n",
       "    </tr>\n",
       "    <tr>\n",
       "      <th>14</th>\n",
       "      <td>hybrid</td>\n",
       "      <td>hnsw</td>\n",
       "      <td>float16</td>\n",
       "      <td>100</td>\n",
       "      <td>50</td>\n",
       "      <td>16</td>\n",
       "      <td>0.003670</td>\n",
       "      <td>3.103</td>\n",
       "      <td>0.154988</td>\n",
       "      <td>0.243344</td>\n",
       "      <td>0.202778</td>\n",
       "      <td>0.130712</td>\n",
       "      <td>-1.016492</td>\n",
       "    </tr>\n",
       "    <tr>\n",
       "      <th>19</th>\n",
       "      <td>hybrid</td>\n",
       "      <td>hnsw</td>\n",
       "      <td>float16</td>\n",
       "      <td>250</td>\n",
       "      <td>50</td>\n",
       "      <td>16</td>\n",
       "      <td>0.003607</td>\n",
       "      <td>3.103</td>\n",
       "      <td>0.154988</td>\n",
       "      <td>0.243344</td>\n",
       "      <td>0.202778</td>\n",
       "      <td>0.130712</td>\n",
       "      <td>-1.016616</td>\n",
       "    </tr>\n",
       "    <tr>\n",
       "      <th>1</th>\n",
       "      <td>vector</td>\n",
       "      <td>hnsw</td>\n",
       "      <td>float16</td>\n",
       "      <td>200</td>\n",
       "      <td>20</td>\n",
       "      <td>64</td>\n",
       "      <td>0.001153</td>\n",
       "      <td>3.803</td>\n",
       "      <td>0.143791</td>\n",
       "      <td>0.238080</td>\n",
       "      <td>0.181270</td>\n",
       "      <td>0.124497</td>\n",
       "      <td>-1.038827</td>\n",
       "    </tr>\n",
       "    <tr>\n",
       "      <th>5</th>\n",
       "      <td>hybrid</td>\n",
       "      <td>hnsw</td>\n",
       "      <td>float32</td>\n",
       "      <td>200</td>\n",
       "      <td>30</td>\n",
       "      <td>64</td>\n",
       "      <td>0.002616</td>\n",
       "      <td>2.745</td>\n",
       "      <td>0.154988</td>\n",
       "      <td>0.243344</td>\n",
       "      <td>0.202778</td>\n",
       "      <td>0.130712</td>\n",
       "      <td>-1.065182</td>\n",
       "    </tr>\n",
       "    <tr>\n",
       "      <th>4</th>\n",
       "      <td>hybrid</td>\n",
       "      <td>hnsw</td>\n",
       "      <td>float32</td>\n",
       "      <td>200</td>\n",
       "      <td>10</td>\n",
       "      <td>16</td>\n",
       "      <td>0.002350</td>\n",
       "      <td>2.745</td>\n",
       "      <td>0.154988</td>\n",
       "      <td>0.243344</td>\n",
       "      <td>0.202778</td>\n",
       "      <td>0.130712</td>\n",
       "      <td>-1.065713</td>\n",
       "    </tr>\n",
       "    <tr>\n",
       "      <th>15</th>\n",
       "      <td>vector</td>\n",
       "      <td>hnsw</td>\n",
       "      <td>float16</td>\n",
       "      <td>300</td>\n",
       "      <td>20</td>\n",
       "      <td>64</td>\n",
       "      <td>0.001590</td>\n",
       "      <td>3.103</td>\n",
       "      <td>0.145599</td>\n",
       "      <td>0.241796</td>\n",
       "      <td>0.186579</td>\n",
       "      <td>0.127877</td>\n",
       "      <td>-1.080572</td>\n",
       "    </tr>\n",
       "    <tr>\n",
       "      <th>12</th>\n",
       "      <td>vector</td>\n",
       "      <td>hnsw</td>\n",
       "      <td>float16</td>\n",
       "      <td>300</td>\n",
       "      <td>20</td>\n",
       "      <td>8</td>\n",
       "      <td>0.001571</td>\n",
       "      <td>3.103</td>\n",
       "      <td>0.145599</td>\n",
       "      <td>0.241796</td>\n",
       "      <td>0.186579</td>\n",
       "      <td>0.127877</td>\n",
       "      <td>-1.080611</td>\n",
       "    </tr>\n",
       "    <tr>\n",
       "      <th>18</th>\n",
       "      <td>vector</td>\n",
       "      <td>hnsw</td>\n",
       "      <td>float16</td>\n",
       "      <td>100</td>\n",
       "      <td>20</td>\n",
       "      <td>8</td>\n",
       "      <td>0.001363</td>\n",
       "      <td>3.103</td>\n",
       "      <td>0.145599</td>\n",
       "      <td>0.241796</td>\n",
       "      <td>0.186579</td>\n",
       "      <td>0.127877</td>\n",
       "      <td>-1.081024</td>\n",
       "    </tr>\n",
       "    <tr>\n",
       "      <th>11</th>\n",
       "      <td>vector</td>\n",
       "      <td>hnsw</td>\n",
       "      <td>float16</td>\n",
       "      <td>300</td>\n",
       "      <td>20</td>\n",
       "      <td>8</td>\n",
       "      <td>0.001332</td>\n",
       "      <td>3.103</td>\n",
       "      <td>0.145599</td>\n",
       "      <td>0.241796</td>\n",
       "      <td>0.186579</td>\n",
       "      <td>0.127877</td>\n",
       "      <td>-1.081085</td>\n",
       "    </tr>\n",
       "    <tr>\n",
       "      <th>16</th>\n",
       "      <td>vector</td>\n",
       "      <td>hnsw</td>\n",
       "      <td>float16</td>\n",
       "      <td>200</td>\n",
       "      <td>30</td>\n",
       "      <td>8</td>\n",
       "      <td>0.001327</td>\n",
       "      <td>3.103</td>\n",
       "      <td>0.145599</td>\n",
       "      <td>0.241796</td>\n",
       "      <td>0.186579</td>\n",
       "      <td>0.127877</td>\n",
       "      <td>-1.081097</td>\n",
       "    </tr>\n",
       "    <tr>\n",
       "      <th>10</th>\n",
       "      <td>vector</td>\n",
       "      <td>hnsw</td>\n",
       "      <td>float16</td>\n",
       "      <td>100</td>\n",
       "      <td>50</td>\n",
       "      <td>64</td>\n",
       "      <td>0.001300</td>\n",
       "      <td>3.103</td>\n",
       "      <td>0.145599</td>\n",
       "      <td>0.241796</td>\n",
       "      <td>0.186579</td>\n",
       "      <td>0.127877</td>\n",
       "      <td>-1.081150</td>\n",
       "    </tr>\n",
       "    <tr>\n",
       "      <th>9</th>\n",
       "      <td>hybrid</td>\n",
       "      <td>hnsw</td>\n",
       "      <td>float32</td>\n",
       "      <td>300</td>\n",
       "      <td>10</td>\n",
       "      <td>64</td>\n",
       "      <td>0.002758</td>\n",
       "      <td>2.328</td>\n",
       "      <td>0.154988</td>\n",
       "      <td>0.243344</td>\n",
       "      <td>0.202778</td>\n",
       "      <td>0.130712</td>\n",
       "      <td>-1.131816</td>\n",
       "    </tr>\n",
       "    <tr>\n",
       "      <th>8</th>\n",
       "      <td>vector</td>\n",
       "      <td>hnsw</td>\n",
       "      <td>float32</td>\n",
       "      <td>200</td>\n",
       "      <td>10</td>\n",
       "      <td>16</td>\n",
       "      <td>0.000913</td>\n",
       "      <td>2.328</td>\n",
       "      <td>0.125178</td>\n",
       "      <td>0.224458</td>\n",
       "      <td>0.165257</td>\n",
       "      <td>0.112475</td>\n",
       "      <td>-1.344402</td>\n",
       "    </tr>\n",
       "    <tr>\n",
       "      <th>7</th>\n",
       "      <td>vector</td>\n",
       "      <td>hnsw</td>\n",
       "      <td>float32</td>\n",
       "      <td>250</td>\n",
       "      <td>10</td>\n",
       "      <td>8</td>\n",
       "      <td>0.000770</td>\n",
       "      <td>2.328</td>\n",
       "      <td>0.125178</td>\n",
       "      <td>0.224458</td>\n",
       "      <td>0.165257</td>\n",
       "      <td>0.112475</td>\n",
       "      <td>-1.344689</td>\n",
       "    </tr>\n",
       "  </tbody>\n",
       "</table>\n",
       "</div>"
      ],
      "text/plain": [
       "   search_method algorithm vector_data_type  ef_construction  ef_runtime   m  \\\n",
       "6         vector      hnsw          float16              200          30  64   \n",
       "2         hybrid      hnsw          float16              300          20   8   \n",
       "3         hybrid      hnsw          float16              150          10  64   \n",
       "0         hybrid      hnsw          float16              250          30   8   \n",
       "13        hybrid      hnsw          float16              150          30   8   \n",
       "17        hybrid      hnsw          float16              300          30  64   \n",
       "14        hybrid      hnsw          float16              100          50  16   \n",
       "19        hybrid      hnsw          float16              250          50  16   \n",
       "1         vector      hnsw          float16              200          20  64   \n",
       "5         hybrid      hnsw          float32              200          30  64   \n",
       "4         hybrid      hnsw          float32              200          10  16   \n",
       "15        vector      hnsw          float16              300          20  64   \n",
       "12        vector      hnsw          float16              300          20   8   \n",
       "18        vector      hnsw          float16              100          20   8   \n",
       "11        vector      hnsw          float16              300          20   8   \n",
       "16        vector      hnsw          float16              200          30   8   \n",
       "10        vector      hnsw          float16              100          50  64   \n",
       "9         hybrid      hnsw          float32              300          10  64   \n",
       "8         vector      hnsw          float32              200          10  16   \n",
       "7         vector      hnsw          float32              250          10   8   \n",
       "\n",
       "    avg_query_time  total_indexing_time    recall  precision      ndcg  \\\n",
       "6         0.001345                4.533  0.152715   0.243034  0.193432   \n",
       "2         0.003675                3.803  0.154988   0.243344  0.202778   \n",
       "3         0.003659                3.803  0.154988   0.243344  0.202778   \n",
       "0         0.003600                3.803  0.154988   0.243344  0.202778   \n",
       "13        0.004068                3.103  0.154988   0.243344  0.202778   \n",
       "17        0.003680                3.103  0.154988   0.243344  0.202778   \n",
       "14        0.003670                3.103  0.154988   0.243344  0.202778   \n",
       "19        0.003607                3.103  0.154988   0.243344  0.202778   \n",
       "1         0.001153                3.803  0.143791   0.238080  0.181270   \n",
       "5         0.002616                2.745  0.154988   0.243344  0.202778   \n",
       "4         0.002350                2.745  0.154988   0.243344  0.202778   \n",
       "15        0.001590                3.103  0.145599   0.241796  0.186579   \n",
       "12        0.001571                3.103  0.145599   0.241796  0.186579   \n",
       "18        0.001363                3.103  0.145599   0.241796  0.186579   \n",
       "11        0.001332                3.103  0.145599   0.241796  0.186579   \n",
       "16        0.001327                3.103  0.145599   0.241796  0.186579   \n",
       "10        0.001300                3.103  0.145599   0.241796  0.186579   \n",
       "9         0.002758                2.328  0.154988   0.243344  0.202778   \n",
       "8         0.000913                2.328  0.125178   0.224458  0.165257   \n",
       "7         0.000770                2.328  0.125178   0.224458  0.165257   \n",
       "\n",
       "          f1  objective_value  \n",
       "6   0.129629        -0.921162  \n",
       "2   0.130712        -0.945439  \n",
       "3   0.130712        -0.945472  \n",
       "0   0.130712        -0.945589  \n",
       "13  0.130712        -1.015701  \n",
       "17  0.130712        -1.016472  \n",
       "14  0.130712        -1.016492  \n",
       "19  0.130712        -1.016616  \n",
       "1   0.124497        -1.038827  \n",
       "5   0.130712        -1.065182  \n",
       "4   0.130712        -1.065713  \n",
       "15  0.127877        -1.080572  \n",
       "12  0.127877        -1.080611  \n",
       "18  0.127877        -1.081024  \n",
       "11  0.127877        -1.081085  \n",
       "16  0.127877        -1.081097  \n",
       "10  0.127877        -1.081150  \n",
       "9   0.130712        -1.131816  \n",
       "8   0.112475        -1.344402  \n",
       "7   0.112475        -1.344689  "
      ]
     },
     "execution_count": 2,
     "metadata": {},
     "output_type": "execute_result"
    }
   ],
   "source": [
    "metrics[[\"search_method\", \"algorithm\", \"vector_data_type\", \"ef_construction\", \"ef_runtime\", \"m\", \"avg_query_time\", \"total_indexing_time\", \"recall\", \"precision\", \"ndcg\", \"f1\", \"objective_value\"]].sort_values(by=\"objective_value\", ascending=False)"
   ]
  }
 ],
 "metadata": {
  "kernelspec": {
   "display_name": "Python 3",
   "language": "python",
   "name": "python3"
  },
  "language_info": {
   "codemirror_mode": {
    "name": "ipython",
    "version": 3
   },
   "file_extension": ".py",
   "mimetype": "text/x-python",
   "name": "python",
   "nbconvert_exporter": "python",
   "pygments_lexer": "ipython3",
   "version": "3.12.8"
  }
 },
 "nbformat": 4,
 "nbformat_minor": 5
}
